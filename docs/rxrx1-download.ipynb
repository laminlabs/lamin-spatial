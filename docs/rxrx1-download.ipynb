{
 "cells": [
  {
   "cell_type": "markdown",
   "metadata": {},
   "source": [
    "# Register RxRx1 metadata and embedding files"
   ]
  },
  {
   "cell_type": "markdown",
   "metadata": {},
   "source": [
    "This notebook downloads metadata and embedding files of [RxRx1](https://www.rxrx.ai/rxrx1)."
   ]
  },
  {
   "cell_type": "markdown",
   "metadata": {},
   "source": [
    "## Setup"
   ]
  },
  {
   "cell_type": "code",
   "execution_count": 1,
   "metadata": {},
   "outputs": [
    {
     "name": "stdout",
     "output_type": "stream",
     "text": [
      "2023-09-19 12:56:06,104:INFO - Found credentials in shared credentials file: ~/.aws/credentials\n",
      "2023-09-19 12:56:06,967:INFO - Found credentials in shared credentials file: ~/.aws/credentials\n",
      "❗ storage exists already\n",
      "✅ registered instance on hub: https://lamin.ai/sunnyosun/rxrx1-2\n",
      "✅ saved: User(id='kmvZDIX9', handle='sunnyosun', email='xs338@nyu.edu', name='Sunny Sun', updated_at=2023-09-19 10:56:19)\n",
      "✅ saved: Storage(id='Y1YEG9i1', root='s3://lamindata', type='s3', region='us-east-1', updated_at=2023-09-19 10:56:19, created_by_id='kmvZDIX9')\n",
      "💡 loaded instance: sunnyosun/rxrx1-2\n",
      "❗ locked instance (to unlock and push changes to the cloud SQLite file, call: lamin close)\n",
      "\u001b[0m"
     ]
    }
   ],
   "source": [
    "# !lamin init --storage s3://lamindata --name rxrx1-2 --schema bionty,lamin1\n",
    "# !lamin close"
   ]
  },
  {
   "cell_type": "code",
   "execution_count": 2,
   "metadata": {},
   "outputs": [
    {
     "name": "stdout",
     "output_type": "stream",
     "text": [
      "2023-09-19 12:57:05,567:INFO - Found credentials in shared credentials file: ~/.aws/credentials\n",
      "❗ updating local SQLite & locking cloud SQLite (sync back & unlock: lamin close)\n",
      "💡 loaded instance: sunnyosun/rxrx1-2\n",
      "\u001b[0m"
     ]
    }
   ],
   "source": [
    "!lamin load sunnyosun/rxrx1-2"
   ]
  },
  {
   "cell_type": "code",
   "execution_count": 3,
   "metadata": {},
   "outputs": [
    {
     "name": "stderr",
     "output_type": "stream",
     "text": [
      "2023-09-19 12:57:12,913:INFO - Found credentials in shared credentials file: ~/.aws/credentials\n"
     ]
    },
    {
     "name": "stdout",
     "output_type": "stream",
     "text": [
      "💡 loaded instance: sunnyosun/rxrx1-2 (lamindb 0.54.0)\n"
     ]
    }
   ],
   "source": [
    "import lamindb as ln\n",
    "\n",
    "ln.settings.verbosity = \"hint\""
   ]
  },
  {
   "cell_type": "code",
   "execution_count": 5,
   "metadata": {},
   "outputs": [
    {
     "name": "stdout",
     "output_type": "stream",
     "text": [
      "💡 notebook imports: lamindb==0.54.0\n",
      "✅ saved: Transform(id='kq1P1Aho94siz8', name='Register RxRx1 metadata and embedding files', short_name='rxrx1-download', version='0', type=notebook, updated_at=2023-09-19 10:57:30, created_by_id='kmvZDIX9')\n",
      "✅ saved: Run(id='oDvkX6skYHuRpJFZGfFT', run_at=2023-09-19 10:57:30, transform_id='kq1P1Aho94siz8', created_by_id='kmvZDIX9')\n"
     ]
    }
   ],
   "source": [
    "ln.track()"
   ]
  },
  {
   "cell_type": "markdown",
   "metadata": {},
   "source": [
    "## Register the metadata file\n",
    "\n",
    "The `metadata.csv` is downloaded from: https://www.rxrx.ai/rxrx1#Download:"
   ]
  },
  {
   "cell_type": "code",
   "execution_count": 6,
   "metadata": {},
   "outputs": [
    {
     "name": "stdout",
     "output_type": "stream",
     "text": [
      "💡 file in storage 's3://lamindata' with key 'rxrx1/metadata.csv'\n"
     ]
    }
   ],
   "source": [
    "meta_file = ln.File(\n",
    "    \"s3://lamindata/rxrx1/metadata.csv\",\n",
    "    description=(\n",
    "        \"A CSV containing the experiment design of RxRx1, e.g. what cell type and\"\n",
    "        \" treatment are in each well.\"\n",
    "    ),\n",
    ")"
   ]
  },
  {
   "cell_type": "code",
   "execution_count": 7,
   "metadata": {},
   "outputs": [],
   "source": [
    "meta_file.save()"
   ]
  },
  {
   "cell_type": "markdown",
   "metadata": {},
   "source": [
    "## Register the embedding file\n",
    "\n",
    "The `embeddings.csv` is downloaded from: https://www.rxrx.ai/rxrx1#Download:"
   ]
  },
  {
   "cell_type": "code",
   "execution_count": 8,
   "metadata": {},
   "outputs": [
    {
     "name": "stdout",
     "output_type": "stream",
     "text": [
      "💡 file in storage 's3://lamindata' with key 'rxrx1/embeddings.csv'\n"
     ]
    }
   ],
   "source": [
    "embedding_file = ln.File(\n",
    "    \"s3://lamindata/rxrx1/embeddings.csv\",\n",
    "    description=(\n",
    "        \"A large CSV file containing all of the deep learning embeddings for each\"\n",
    "        \" image of RxRx1.\"\n",
    "    ),\n",
    ")"
   ]
  },
  {
   "cell_type": "code",
   "execution_count": 9,
   "metadata": {},
   "outputs": [],
   "source": [
    "embedding_file.save()"
   ]
  }
 ],
 "metadata": {
  "kernelspec": {
   "display_name": "py39",
   "language": "python",
   "name": "python3"
  },
  "language_info": {
   "codemirror_mode": {
    "name": "ipython",
    "version": 3
   },
   "file_extension": ".py",
   "mimetype": "text/x-python",
   "name": "python",
   "nbconvert_exporter": "python",
   "pygments_lexer": "ipython3",
   "version": "3.9.16"
  },
  "nbproject": {
   "id": "kq1P1Aho94si",
   "parent": null,
   "pypackage": null,
   "time_init": "2023-09-19T10:57:25.050556+00:00",
   "user_handle": null,
   "user_id": null,
   "user_name": null,
   "version": "0"
  },
  "orig_nbformat": 4
 },
 "nbformat": 4,
 "nbformat_minor": 2
}
