{
 "cells": [
  {
   "cell_type": "markdown",
   "metadata": {},
   "source": [
    "# marshall-2022"
   ]
  },
  {
   "cell_type": "code",
   "execution_count": null,
   "metadata": {},
   "outputs": [],
   "source": [
    "!lamin load scverse/spatial"
   ]
  },
  {
   "cell_type": "code",
   "execution_count": null,
   "metadata": {},
   "outputs": [],
   "source": [
    "import lamindb as ln\n",
    "\n",
    "ln.settings.transform.stem_uid = \"VwUYGOmA3koC\"\n",
    "ln.settings.transform.version = \"1\"\n",
    "ln.track()"
   ]
  },
  {
   "cell_type": "markdown",
   "metadata": {},
   "source": [
    "## Download and process data\n",
    "\n",
    "h5ad file downloaded from: https://lamin.ai/laminlabs/cellxgene/artifacts/zuSDjhCBRxYCOm8pY6SL"
   ]
  },
  {
   "cell_type": "code",
   "execution_count": null,
   "metadata": {},
   "outputs": [],
   "source": [
    "h5ad_artifact = (\n",
    "    ln.Artifact.using(\"laminlabs/cellxgene\").filter(uid=\"zuSDjhCBRxYCOm8pY6SL\").one()\n",
    ")\n",
    "h5ad = h5ad_artifact.stage()"
   ]
  },
  {
   "cell_type": "markdown",
   "metadata": {},
   "source": [
    "Convert h5ad to zarr.\n",
    "\n",
    "Script below is from: https://github.com/vitessce/vitessce-python/blob/main/demos/marshall-2022/src/convert_to_zarr.py"
   ]
  },
  {
   "cell_type": "code",
   "execution_count": null,
   "metadata": {},
   "outputs": [],
   "source": [
    "from anndata import read_h5ad\n",
    "import numpy as np\n",
    "import scanpy as sc\n",
    "from vitessce.data_utils import (\n",
    "    to_diamond,\n",
    "    to_uint8,\n",
    "    optimize_adata,\n",
    ")\n",
    "\n",
    "\n",
    "def convert_h5ad_to_zarr(input_path, output_path):\n",
    "    adata = read_h5ad(input_path)\n",
    "\n",
    "    sc.pp.filter_cells(adata, min_genes=200)\n",
    "    sc.pp.filter_genes(adata, min_cells=3)\n",
    "\n",
    "    adata.var[\"mt\"] = adata.var[\"feature_name\"].str.startswith(\n",
    "        \"MT-\"\n",
    "    )  # annotate the group of mitochondrial genes as 'mt'\n",
    "    sc.pp.calculate_qc_metrics(\n",
    "        adata, qc_vars=[\"mt\"], percent_top=None, log1p=False, inplace=True\n",
    "    )\n",
    "\n",
    "    sc.pp.normalize_total(adata, target_sum=1e4, inplace=True)\n",
    "    sc.pp.log1p(adata)\n",
    "\n",
    "    sc.pp.highly_variable_genes(adata, min_mean=0.0125, max_mean=3, min_disp=0.5)\n",
    "\n",
    "    adata_hvg = adata[:, adata.var[\"highly_variable\"]].copy()\n",
    "    sc.pp.regress_out(adata_hvg, [\"total_counts\", \"pct_counts_mt\"])\n",
    "    sc.pp.scale(adata_hvg, max_value=3)\n",
    "\n",
    "    adata.obsm[\"X_hvg\"] = adata_hvg.X\n",
    "    adata.obsm[\"X_hvg_uint8\"] = to_uint8(adata_hvg.X, norm_along=\"var\")\n",
    "\n",
    "    num_cells = adata.obs.shape[0]\n",
    "    adata.obsm[\"X_spatial\"] = adata.obsm[\"X_spatial\"]\n",
    "    adata.obsm[\"X_segmentations\"] = np.zeros((num_cells, 4, 2))\n",
    "    radius = 10\n",
    "    for i in range(num_cells):\n",
    "        adata.obsm[\"X_segmentations\"][i, :, :] = to_diamond(\n",
    "            adata.obsm[\"X_spatial\"][i, 0], adata.obsm[\"X_spatial\"][i, 1], radius\n",
    "        )\n",
    "\n",
    "    adata = optimize_adata(\n",
    "        adata,\n",
    "        obs_cols=[\"cell_type\"],\n",
    "        var_cols=[\"feature_name\"],\n",
    "        obsm_keys=[\"X_hvg\", \"X_hvg_uint8\", \"X_umap\", \"X_spatial\", \"X_segmentations\"],\n",
    "        layer_keys=[],\n",
    "    )\n",
    "\n",
    "    adata.write_zarr(output_path, chunks=[adata.shape[0], 10])"
   ]
  },
  {
   "cell_type": "code",
   "execution_count": null,
   "metadata": {},
   "outputs": [],
   "source": [
    "zarr_filepath = \"./marshall_2022_iscience.h5ad.zarr\"\n",
    "convert_h5ad_to_zarr(h5ad, zarr_filepath)"
   ]
  },
  {
   "cell_type": "markdown",
   "metadata": {},
   "source": [
    "## Create the Vitessce configuration"
   ]
  },
  {
   "cell_type": "code",
   "execution_count": null,
   "metadata": {},
   "outputs": [],
   "source": [
    "from vitessce import (\n",
    "    VitessceConfig,\n",
    "    Component as cm,\n",
    "    AnnDataWrapper,\n",
    ")\n",
    "\n",
    "vc = VitessceConfig(\n",
    "    schema_version=\"1.0.15\",\n",
    "    name=\"Marshall et al., 2022 iScience\",\n",
    "    description=(\n",
    "        \"Spatial transcriptomics (Slide-seqV2) in the healthy human kidney\"\n",
    "        \" (Puck_200903_13)\"\n",
    "    ),\n",
    ")"
   ]
  },
  {
   "cell_type": "code",
   "execution_count": null,
   "metadata": {},
   "outputs": [],
   "source": [
    "dataset = vc.add_dataset(name=\"marshall_2022\").add_object(\n",
    "    AnnDataWrapper(\n",
    "        adata_path=zarr_filepath,\n",
    "        obs_feature_matrix_path=\"X\",\n",
    "        obs_embedding_paths=[\"obsm/X_umap\"],\n",
    "        obs_embedding_names=[\"UMAP\"],\n",
    "        obs_locations_path=\"obsm/X_spatial\",\n",
    "        obs_segmentations_path=\"obsm/X_segmentations\",\n",
    "        obs_set_paths=[\"obs/cell_type\"],\n",
    "        obs_set_names=[\"Bead Type\"],\n",
    "        feature_labels_path=\"var/feature_name\",\n",
    "    )\n",
    ")"
   ]
  },
  {
   "cell_type": "code",
   "execution_count": null,
   "metadata": {},
   "outputs": [],
   "source": [
    "obs_sets = vc.add_view(cm.OBS_SETS, dataset=dataset)\n",
    "obs_set_sizes = vc.add_view(cm.OBS_SET_SIZES, dataset=dataset)\n",
    "scatterplot = vc.add_view(cm.SCATTERPLOT, dataset=dataset, mapping=\"UMAP\")\n",
    "spatial = vc.add_view(cm.SPATIAL, dataset=dataset)\n",
    "spatial_layers = vc.add_view(cm.LAYER_CONTROLLER, dataset=dataset)\n",
    "genes = vc.add_view(cm.FEATURE_LIST, dataset=dataset)\n",
    "description = vc.add_view(cm.DESCRIPTION, dataset=dataset)\n",
    "vc.layout(\n",
    "    (scatterplot | obs_sets | obs_set_sizes)\n",
    "    / (spatial | spatial_layers | (genes | description))\n",
    ");"
   ]
  },
  {
   "cell_type": "markdown",
   "metadata": {},
   "source": [
    "## Ingest into LaminDB"
   ]
  },
  {
   "cell_type": "code",
   "execution_count": null,
   "metadata": {},
   "outputs": [],
   "source": [
    "from lamindb.integrations import save_vitessce_config"
   ]
  },
  {
   "cell_type": "code",
   "execution_count": null,
   "metadata": {},
   "outputs": [],
   "source": [
    "artifact = save_vitessce_config(vc, description=\"Marshall et al., 2022 iScience\")"
   ]
  },
  {
   "cell_type": "code",
   "execution_count": null,
   "metadata": {},
   "outputs": [],
   "source": [
    "# ln.finish()"
   ]
  },
  {
   "cell_type": "markdown",
   "metadata": {},
   "source": [
    "Annotate with metadata:"
   ]
  },
  {
   "cell_type": "code",
   "execution_count": null,
   "metadata": {},
   "outputs": [],
   "source": [
    "import bionty as bt\n",
    "\n",
    "bt.settings.organism = \"human\""
   ]
  },
  {
   "cell_type": "code",
   "execution_count": null,
   "metadata": {},
   "outputs": [],
   "source": [
    "artifact.features._add_from(h5ad_artifact)\n",
    "artifact.labels.add_from(h5ad_artifact)"
   ]
  }
 ],
 "metadata": {
  "kernelspec": {
   "display_name": "py310",
   "language": "python",
   "name": "python3"
  },
  "language_info": {
   "codemirror_mode": {
    "name": "ipython",
    "version": 3
   },
   "file_extension": ".py",
   "mimetype": "text/x-python",
   "name": "python",
   "nbconvert_exporter": "python",
   "pygments_lexer": "ipython3",
   "version": "3.10.13"
  }
 },
 "nbformat": 4,
 "nbformat_minor": 2
}
