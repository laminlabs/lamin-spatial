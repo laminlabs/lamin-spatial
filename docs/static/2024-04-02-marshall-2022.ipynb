{
 "cells": [
  {
   "cell_type": "markdown",
   "metadata": {},
   "source": [
    "# marshall-2022"
   ]
  },
  {
   "cell_type": "code",
   "execution_count": 1,
   "metadata": {},
   "outputs": [
    {
     "name": "stdout",
     "output_type": "stream",
     "text": [
      "\ud83d\udca1 connected lamindb: scverse/spatial\n"
     ]
    }
   ],
   "source": [
    "!lamin load scverse/spatial"
   ]
  },
  {
   "cell_type": "code",
   "execution_count": 2,
   "metadata": {},
   "outputs": [
    {
     "name": "stdout",
     "output_type": "stream",
     "text": [
      "\ud83d\udca1 connected lamindb: scverse/spatial\n",
      "\ud83d\udca1 notebook imports: anndata==0.10.7 lamindb==0.70.3 numpy==1.26.4 scanpy==1.10.1 vitessce==3.2.5\n",
      "\ud83d\udca1 loaded: Transform(uid='VwUYGOmA3koC65cN', name='marshall-2022', key='2024-04-02-marshall-2022', version='2', type='notebook', updated_at=2024-04-23 12:40:36 UTC, created_by_id=2)\n",
      "\ud83d\udca1 loaded: Run(uid='v6SbqImFKgQZdOBlsUcW', started_at=2024-04-23 13:45:52 UTC, is_consecutive=True, transform_id=20, created_by_id=2)\n"
     ]
    }
   ],
   "source": [
    "import lamindb as ln\n",
    "\n",
    "ln.context.uid = \"VwUYGOmA3koC0000\"\n",
    "ln.context.track()"
   ]
  },
  {
   "cell_type": "markdown",
   "metadata": {},
   "source": [
    "## Download and process data\n",
    "\n",
    "h5ad file downloaded from: https://lamin.ai/laminlabs/cellxgene/artifacts/zuSDjhCBRxYCOm8pY6SL"
   ]
  },
  {
   "cell_type": "code",
   "execution_count": 3,
   "metadata": {},
   "outputs": [],
   "source": [
    "h5ad_artifact = (\n",
    "    ln.Artifact.using(\"laminlabs/cellxgene\").filter(uid=\"zuSDjhCBRxYCOm8pY6SL\").one()\n",
    ")\n",
    "h5ad = h5ad_artifact.stage()"
   ]
  },
  {
   "cell_type": "markdown",
   "metadata": {},
   "source": [
    "Convert h5ad to zarr.\n",
    "\n",
    "Script below is from: https://github.com/vitessce/vitessce-python/blob/main/demos/marshall-2022/src/convert_to_zarr.py"
   ]
  },
  {
   "cell_type": "code",
   "execution_count": 4,
   "metadata": {},
   "outputs": [
    {
     "name": "stderr",
     "output_type": "stream",
     "text": [
      "/opt/miniconda3/envs/py310/lib/python3.10/site-packages/vitessce/__init__.py:42: UserWarning: Extra installs are necessary to use widgets: No module named 'anywidget'\n",
      "  warn(f'Extra installs are necessary to use widgets: {e}')\n"
     ]
    }
   ],
   "source": [
    "from anndata import read_h5ad\n",
    "import numpy as np\n",
    "import scanpy as sc\n",
    "from vitessce.data_utils import (\n",
    "    to_diamond,\n",
    "    to_uint8,\n",
    "    optimize_adata,\n",
    ")\n",
    "\n",
    "\n",
    "def convert_h5ad_to_zarr(input_path, output_path):\n",
    "    adata = read_h5ad(input_path)\n",
    "\n",
    "    sc.pp.filter_cells(adata, min_genes=200)\n",
    "    sc.pp.filter_genes(adata, min_cells=3)\n",
    "\n",
    "    adata.var[\"mt\"] = adata.var[\"feature_name\"].str.startswith(\n",
    "        \"MT-\"\n",
    "    )  # annotate the group of mitochondrial genes as 'mt'\n",
    "    sc.pp.calculate_qc_metrics(\n",
    "        adata, qc_vars=[\"mt\"], percent_top=None, log1p=False, inplace=True\n",
    "    )\n",
    "\n",
    "    sc.pp.normalize_total(adata, target_sum=1e4, inplace=True)\n",
    "    sc.pp.log1p(adata)\n",
    "\n",
    "    sc.pp.highly_variable_genes(adata, min_mean=0.0125, max_mean=3, min_disp=0.5)\n",
    "\n",
    "    adata_hvg = adata[:, adata.var[\"highly_variable\"]].copy()\n",
    "    sc.pp.regress_out(adata_hvg, [\"total_counts\", \"pct_counts_mt\"])\n",
    "    sc.pp.scale(adata_hvg, max_value=3)\n",
    "\n",
    "    adata.obsm[\"X_hvg\"] = adata_hvg.X\n",
    "    adata.obsm[\"X_hvg_uint8\"] = to_uint8(adata_hvg.X, norm_along=\"var\")\n",
    "\n",
    "    num_cells = adata.obs.shape[0]\n",
    "    adata.obsm[\"X_spatial\"] = adata.obsm[\"X_spatial\"]\n",
    "    adata.obsm[\"X_segmentations\"] = np.zeros((num_cells, 4, 2))\n",
    "    radius = 10\n",
    "    for i in range(num_cells):\n",
    "        adata.obsm[\"X_segmentations\"][i, :, :] = to_diamond(\n",
    "            adata.obsm[\"X_spatial\"][i, 0], adata.obsm[\"X_spatial\"][i, 1], radius\n",
    "        )\n",
    "\n",
    "    adata = optimize_adata(\n",
    "        adata,\n",
    "        obs_cols=[\"cell_type\"],\n",
    "        var_cols=[\"feature_name\"],\n",
    "        obsm_keys=[\"X_hvg\", \"X_hvg_uint8\", \"X_umap\", \"X_spatial\", \"X_segmentations\"],\n",
    "        layer_keys=[],\n",
    "    )\n",
    "\n",
    "    adata.write_zarr(output_path, chunks=[adata.shape[0], 10])"
   ]
  },
  {
   "cell_type": "code",
   "execution_count": 5,
   "metadata": {},
   "outputs": [],
   "source": [
    "zarr_filepath = \"./marshall_2022_iscience.anndata.zarr\"\n",
    "convert_h5ad_to_zarr(h5ad, zarr_filepath)"
   ]
  },
  {
   "cell_type": "markdown",
   "metadata": {},
   "source": [
    "## Save dataset"
   ]
  },
  {
   "cell_type": "code",
   "execution_count": 6,
   "metadata": {},
   "outputs": [],
   "source": [
    "zarr_artifact = ln.Artifact(\n",
    "    zarr_filepath,\n",
    "    description=(\n",
    "        \"Marshall et al., 2022 iScience. Spatial transcriptomics (Slide-seqV2) in the\"\n",
    "        \" healthy human kidney (Puck_200903_13)\"\n",
    "    ),\n",
    ")\n",
    "zarr_artifact.save()"
   ]
  },
  {
   "cell_type": "markdown",
   "metadata": {},
   "source": [
    "## Create a `VitessceConfig` object"
   ]
  },
  {
   "cell_type": "code",
   "execution_count": 7,
   "metadata": {
    "tags": [
     "hide-output"
    ]
   },
   "outputs": [
    {
     "data": {
      "text/plain": [
       "{'version': '1.0.15',\n",
       " 'name': 'Marshall et al., 2022 iScience',\n",
       " 'description': 'Marshall et al., 2022 iScience. Spatial transcriptomics (Slide-seqV2) in the healthy human kidney (Puck_200903_13)',\n",
       " 'datasets': [{'uid': 'A',\n",
       "   'name': 'marshall_2022',\n",
       "   'files': [{'fileType': 'anndata.zarr',\n",
       "     'url': 'https://scverse-spatial-eu-central-1.s3-eu-central-1.amazonaws.com/.lamindb/XIG5GCp05YtUAn9M.anndata.zarr',\n",
       "     'options': {'obsLocations': {'path': 'obsm/X_spatial'},\n",
       "      'obsSegmentations': {'path': 'obsm/X_segmentations'},\n",
       "      'obsEmbedding': [{'path': 'obsm/X_umap',\n",
       "        'dims': [0, 1],\n",
       "        'embeddingType': 'UMAP'}],\n",
       "      'obsSets': [{'name': 'Bead Type', 'path': 'obs/cell_type'}],\n",
       "      'obsFeatureMatrix': {'path': 'X'},\n",
       "      'featureLabels': {'path': 'var/feature_name'}}}]}],\n",
       " 'coordinationSpace': {'dataset': {'A': 'A'}, 'embeddingType': {'A': 'UMAP'}},\n",
       " 'layout': [{'component': 'obsSets',\n",
       "   'coordinationScopes': {'dataset': 'A'},\n",
       "   'x': 3.0,\n",
       "   'y': 0.0,\n",
       "   'w': 3.0,\n",
       "   'h': 6.0},\n",
       "  {'component': 'obsSetSizes',\n",
       "   'coordinationScopes': {'dataset': 'A'},\n",
       "   'x': 6.0,\n",
       "   'y': 0.0,\n",
       "   'w': 6.0,\n",
       "   'h': 6.0},\n",
       "  {'component': 'scatterplot',\n",
       "   'coordinationScopes': {'dataset': 'A', 'embeddingType': 'A'},\n",
       "   'x': 0.0,\n",
       "   'y': 0.0,\n",
       "   'w': 3.0,\n",
       "   'h': 6.0},\n",
       "  {'component': 'spatial',\n",
       "   'coordinationScopes': {'dataset': 'A'},\n",
       "   'x': 0.0,\n",
       "   'y': 6.0,\n",
       "   'w': 3.0,\n",
       "   'h': 6.0},\n",
       "  {'component': 'layerController',\n",
       "   'coordinationScopes': {'dataset': 'A'},\n",
       "   'x': 3.0,\n",
       "   'y': 6.0,\n",
       "   'w': 3.0,\n",
       "   'h': 6.0},\n",
       "  {'component': 'featureList',\n",
       "   'coordinationScopes': {'dataset': 'A'},\n",
       "   'x': 6.0,\n",
       "   'y': 6.0,\n",
       "   'w': 3.0,\n",
       "   'h': 6.0},\n",
       "  {'component': 'description',\n",
       "   'coordinationScopes': {'dataset': 'A'},\n",
       "   'x': 9.0,\n",
       "   'y': 6.0,\n",
       "   'w': 3.0,\n",
       "   'h': 6.0}],\n",
       " 'initStrategy': 'auto'}"
      ]
     },
     "execution_count": 7,
     "metadata": {},
     "output_type": "execute_result"
    }
   ],
   "source": [
    "from vitessce import (\n",
    "    VitessceConfig,\n",
    "    Component as cm,\n",
    "    AnnDataWrapper,\n",
    ")\n",
    "\n",
    "vc = VitessceConfig(\n",
    "    schema_version=\"1.0.15\",\n",
    "    name=\"Marshall et al., 2022 iScience\",\n",
    "    description=zarr_artifact.description,\n",
    ")\n",
    "\n",
    "dataset = vc.add_dataset(name=\"marshall_2022\").add_object(\n",
    "    AnnDataWrapper(\n",
    "        adata_url=zarr_artifact.path.to_url(),\n",
    "        obs_feature_matrix_path=\"X\",\n",
    "        obs_embedding_paths=[\"obsm/X_umap\"],\n",
    "        obs_embedding_names=[\"UMAP\"],\n",
    "        obs_locations_path=\"obsm/X_spatial\",\n",
    "        obs_segmentations_path=\"obsm/X_segmentations\",\n",
    "        obs_set_paths=[\"obs/cell_type\"],\n",
    "        obs_set_names=[\"Bead Type\"],\n",
    "        feature_labels_path=\"var/feature_name\",\n",
    "    )\n",
    ")\n",
    "\n",
    "obs_sets = vc.add_view(cm.OBS_SETS, dataset=dataset)\n",
    "obs_set_sizes = vc.add_view(cm.OBS_SET_SIZES, dataset=dataset)\n",
    "scatterplot = vc.add_view(cm.SCATTERPLOT, dataset=dataset, mapping=\"UMAP\")\n",
    "spatial = vc.add_view(cm.SPATIAL, dataset=dataset)\n",
    "spatial_layers = vc.add_view(cm.LAYER_CONTROLLER, dataset=dataset)\n",
    "genes = vc.add_view(cm.FEATURE_LIST, dataset=dataset)\n",
    "description = vc.add_view(cm.DESCRIPTION, dataset=dataset)\n",
    "vc.layout(\n",
    "    (scatterplot | obs_sets | obs_set_sizes)\n",
    "    / (spatial | spatial_layers | (genes | description))\n",
    ")\n",
    "\n",
    "vc.to_dict()"
   ]
  },
  {
   "cell_type": "markdown",
   "metadata": {},
   "source": [
    "## Save `VitessceConfig` object"
   ]
  },
  {
   "cell_type": "code",
   "execution_count": 8,
   "metadata": {},
   "outputs": [],
   "source": [
    "from lamindb.integrations import save_vitessce_config"
   ]
  },
  {
   "cell_type": "code",
   "execution_count": 9,
   "metadata": {},
   "outputs": [
    {
     "name": "stdout",
     "output_type": "stream",
     "text": [
      "... uploading config.vitessce.json: 100.0%\n",
      "\ud83d\udca1 go to: https://lamin.ai/scverse/spatial/artifact/sKxat1sh8unY0n0IkqNb\n"
     ]
    }
   ],
   "source": [
    "vc_artifact = save_vitessce_config(vc, description=\"Marshall et al., 2022 iScience\")"
   ]
  },
  {
   "cell_type": "code",
   "execution_count": 12,
   "metadata": {},
   "outputs": [
    {
     "name": "stdout",
     "output_type": "stream",
     "text": [
      "\u2757 cells [(9, 11)] were not run consecutively\n",
      "... uploading 2024-04-02-marshall-2022.ipynb: 100.0%\n",
      "\u2705 saved transform.source_code: Artifact(uid='uOM8vBTTl3u72AyybkwW', suffix='.ipynb', description='Source of transform VwUYGOmA3koC65cN', version='2', size=7404, hash='NXzsZfmqWWpsTk-wIDa8Yg', hash_type='md5', visibility=0, key_is_virtual=True, updated_at=2024-04-23 13:55:20 UTC, storage_id=2, created_by_id=2)\n",
      "... uploading run_env_pip_v6SbqImFKgQZdOBlsUcW.txt: 100.0%\n",
      "\u2705 saved run.environment: Artifact(uid='iWaFLxrJN9TDrBZhCqrf', suffix='.txt', description='requirements.txt', size=10914, hash='WMhSDgtH_xsYI0nHNDNzuA', hash_type='md5', visibility=0, key_is_virtual=True, updated_at=2024-04-23 13:55:20 UTC, storage_id=2, created_by_id=2)\n",
      "... uploading 2024-04-02-marshall-2022.html: 100.0%\n",
      "\u2705 saved transform.latest_report: Artifact(uid='xGaILnIF0wJNiu6Evv7a', suffix='.html', description='Report of run v6SbqImFKgQZdOBlsUcW', version='2', size=301331, hash='KF9Z0Cc9eCDFuuxS9hsPRg', hash_type='md5', visibility=0, key_is_virtual=True, updated_at=2024-04-23 13:55:20 UTC, storage_id=2, created_by_id=2)\n",
      "\u2705 go to: https://lamin.ai/scverse/spatial/transform/VwUYGOmA3koC65cN\n"
     ]
    }
   ],
   "source": [
    "ln.finish()"
   ]
  }
 ],
 "metadata": {
  "kernelspec": {
   "display_name": "py310",
   "language": "python",
   "name": "python3"
  },
  "language_info": {
   "codemirror_mode": {
    "name": "ipython",
    "version": 3
   },
   "file_extension": ".py",
   "mimetype": "text/x-python",
   "name": "python",
   "nbconvert_exporter": "python",
   "pygments_lexer": "ipython3",
   "version": "3.10.13"
  }
 },
 "nbformat": 4,
 "nbformat_minor": 2
}
