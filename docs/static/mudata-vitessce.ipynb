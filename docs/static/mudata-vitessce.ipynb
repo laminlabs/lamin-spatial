{
 "cells": [
  {
   "cell_type": "markdown",
   "metadata": {},
   "source": [
    "# Visualize MuData in Vitessce"
   ]
  },
  {
   "cell_type": "code",
   "execution_count": null,
   "metadata": {},
   "outputs": [],
   "source": [
    "!lamin load laminlabs/lamindata"
   ]
  },
  {
   "cell_type": "code",
   "execution_count": null,
   "metadata": {},
   "outputs": [],
   "source": [
    "import lamindb as ln\n",
    "\n",
    "ln.context.uid = \"aCrfeVoAaDr90000\"\n",
    "ln.context.track()"
   ]
  },
  {
   "cell_type": "markdown",
   "metadata": {},
   "source": [
    "## Prepare dataset"
   ]
  },
  {
   "cell_type": "markdown",
   "metadata": {},
   "source": [
    "Load MuData object from: https://lamin.ai/laminlabs/lamindata/artifact/DDFxKYXoNMmHzQAHqpx0"
   ]
  },
  {
   "cell_type": "code",
   "execution_count": null,
   "metadata": {},
   "outputs": [],
   "source": [
    "mdata_artifact = ln.Artifact.get(\"DDFxKYXo\")\n",
    "mdata = mdata_artifact.load()\n",
    "mdata"
   ]
  },
  {
   "cell_type": "markdown",
   "metadata": {},
   "source": [
    "Subset to hvg for visualization:"
   ]
  },
  {
   "cell_type": "code",
   "execution_count": null,
   "metadata": {},
   "outputs": [],
   "source": [
    "mdata.mod[\"rna\"] = mdata[\"rna\"][:, mdata[\"rna\"].var[\"highly_variable\"]]\n",
    "mdata.update()"
   ]
  },
  {
   "cell_type": "markdown",
   "metadata": {},
   "source": [
    "Write to `anndata.zarr`:"
   ]
  },
  {
   "cell_type": "code",
   "execution_count": null,
   "metadata": {},
   "outputs": [],
   "source": [
    "output_path = \"mudata_papalexi21.anndata.zarr\"\n",
    "mdata.write_zarr(output_path)"
   ]
  },
  {
   "cell_type": "markdown",
   "metadata": {},
   "source": [
    "## Save dataset"
   ]
  },
  {
   "cell_type": "code",
   "execution_count": null,
   "metadata": {},
   "outputs": [],
   "source": [
    "zarr_artifact = ln.Artifact(\n",
    "    output_path,\n",
    "    description=\"MuData from Papalexi21\",\n",
    ")\n",
    "zarr_artifact.save()"
   ]
  },
  {
   "cell_type": "code",
   "execution_count": null,
   "metadata": {},
   "outputs": [],
   "source": [
    "from vitessce import (\n",
    "    VitessceConfig,\n",
    "    Component as cm,\n",
    "    AnnDataWrapper,\n",
    ")\n",
    "\n",
    "vc = VitessceConfig(\n",
    "    schema_version=\"1.0.15\",\n",
    "    description=zarr_artifact.description,\n",
    ")\n",
    "dataset = vc.add_dataset(name=\"Papalexi21\").add_object(\n",
    "    AnnDataWrapper(\n",
    "        adata_url=zarr_artifact.path.to_url(),\n",
    "        obs_feature_matrix_path=\"mod/rna/X\",\n",
    "        obs_embedding_paths=[\"mod/rna/obsm/X_umap\", \"mod/rna/obsm/X_pca\"],\n",
    "        obs_embedding_names=[\"UMAP\", \"PCA\"],\n",
    "        obs_set_paths=[\n",
    "            \"mod/rna/obs/gene_target\",\n",
    "            \"mod/rna/obs/guide_ID\",\n",
    "            \"mod/rna/obs/Phase\",\n",
    "            \"mod/rna/obs/replicate\",\n",
    "        ],\n",
    "        obs_set_names=[\"Gene target\", \"Guide id\", \"Cell cycle\", \"Replicate\"],\n",
    "    )\n",
    ")\n",
    "\n",
    "obs_sets = vc.add_view(cm.OBS_SETS, dataset=dataset)\n",
    "obs_sets_sizes = vc.add_view(cm.OBS_SET_SIZES, dataset=dataset)\n",
    "umap = vc.add_view(cm.SCATTERPLOT, dataset=dataset, mapping=\"UMAP\")\n",
    "pca = vc.add_view(cm.SCATTERPLOT, dataset=dataset, mapping=\"PCA\")\n",
    "heatmap = vc.add_view(cm.HEATMAP, dataset=dataset)\n",
    "genes = vc.add_view(cm.FEATURE_LIST, dataset=dataset)\n",
    "vc.layout(((umap | pca) / heatmap) | ((genes | obs_sets) / obs_sets_sizes))\n",
    "\n",
    "# inspect the config\n",
    "vc.to_dict()"
   ]
  },
  {
   "cell_type": "code",
   "execution_count": null,
   "metadata": {},
   "outputs": [],
   "source": [
    "from lamindb.integrations import save_vitessce_config\n",
    "\n",
    "vc_artifact = save_vitessce_config(vc, description=\"View Papalexi21 in Vitessce\")"
   ]
  },
  {
   "cell_type": "code",
   "execution_count": null,
   "metadata": {},
   "outputs": [],
   "source": [
    "ln.finish()"
   ]
  }
 ],
 "metadata": {
  "kernelspec": {
   "display_name": "py310",
   "language": "python",
   "name": "python3"
  },
  "language_info": {
   "codemirror_mode": {
    "name": "ipython",
    "version": 3
   },
   "file_extension": ".py",
   "mimetype": "text/x-python",
   "name": "python",
   "nbconvert_exporter": "python",
   "pygments_lexer": "ipython3",
   "version": "3.10.13"
  }
 },
 "nbformat": 4,
 "nbformat_minor": 2
}
