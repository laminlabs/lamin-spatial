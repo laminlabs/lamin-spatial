{
 "cells": [
  {
   "cell_type": "markdown",
   "metadata": {},
   "source": [
    "# Visualize MuData in Vitessce"
   ]
  },
  {
   "cell_type": "code",
   "execution_count": 1,
   "metadata": {},
   "outputs": [
    {
     "name": "stdout",
     "output_type": "stream",
     "text": [
      "\ud83d\udca1 connected lamindb: laminlabs/lamindata\n"
     ]
    }
   ],
   "source": [
    "!lamin load laminlabs/lamindata"
   ]
  },
  {
   "cell_type": "code",
   "execution_count": 2,
   "metadata": {},
   "outputs": [
    {
     "name": "stdout",
     "output_type": "stream",
     "text": [
      "\ud83d\udca1 connected lamindb: laminlabs/lamindata\n"
     ]
    },
    {
     "name": "stdout",
     "output_type": "stream",
     "text": [
      "\ud83d\udca1 notebook imports: lamindb==0.70.3 mudata==0.2.3 scanpy==1.10.1 vitessce==3.2.5\n",
      "\ud83d\udca1 saved: Transform(uid='aCrfeVoAaDr95zKv', name='Visualize MuData in Vitessce', key='mudata-vitessce', version='1', type='notebook', updated_at=2024-04-30 12:46:10 UTC, created_by_id=2)\n",
      "\ud83d\udca1 saved: Run(uid='VPYyibO30e6mHkw7DC7r', transform_id=82, created_by_id=2)\n"
     ]
    }
   ],
   "source": [
    "import lamindb as ln\n",
    "\n",
    "ln.context.uid = \"aCrfeVoAaDr90000\"\n",
    "ln.context.track()"
   ]
  },
  {
   "cell_type": "markdown",
   "metadata": {},
   "source": [
    "## Prepare dataset"
   ]
  },
  {
   "cell_type": "markdown",
   "metadata": {},
   "source": [
    "Load MuData object from: https://lamin.ai/laminlabs/lamindata/artifact/DDFxKYXoNMmHzQAHqpx0"
   ]
  },
  {
   "cell_type": "code",
   "execution_count": 3,
   "metadata": {},
   "outputs": [
    {
     "name": "stderr",
     "output_type": "stream",
     "text": [
      "/opt/miniconda3/envs/py310/lib/python3.10/site-packages/anndata/_core/anndata.py:430: FutureWarning: The dtype argument is deprecated and will be removed in late 2024.\n",
      "  warnings.warn(\n",
      "/opt/miniconda3/envs/py310/lib/python3.10/site-packages/anndata/_core/anndata.py:430: FutureWarning: The dtype argument is deprecated and will be removed in late 2024.\n",
      "  warnings.warn(\n",
      "/opt/miniconda3/envs/py310/lib/python3.10/site-packages/anndata/_core/anndata.py:430: FutureWarning: The dtype argument is deprecated and will be removed in late 2024.\n",
      "  warnings.warn(\n",
      "/opt/miniconda3/envs/py310/lib/python3.10/site-packages/anndata/_core/anndata.py:430: FutureWarning: The dtype argument is deprecated and will be removed in late 2024.\n",
      "  warnings.warn(\n",
      "/opt/miniconda3/envs/py310/lib/python3.10/site-packages/mudata/_core/mudata.py:491: UserWarning: Cannot join columns with the same name because var_names are intersecting.\n",
      "  warnings.warn(\n"
     ]
    },
    {
     "data": {
      "text/html": [
       "<pre>MuData object with n_obs \u00d7 n_vars = 20729 \u00d7 18776\n",
       "  4 modalities\n",
       "    rna:\t20729 x 18649\n",
       "      obs:\t&#x27;orig.ident&#x27;, &#x27;nCount_RNA&#x27;, &#x27;nFeature_RNA&#x27;, &#x27;nCount_HTO&#x27;, &#x27;nFeature_HTO&#x27;, &#x27;nCount_GDO&#x27;, &#x27;nCount_ADT&#x27;, &#x27;nFeature_ADT&#x27;, &#x27;percent.mito&#x27;, &#x27;MULTI_ID&#x27;, &#x27;HTO_classification&#x27;, &#x27;guide_ID&#x27;, &#x27;gene_target&#x27;, &#x27;NT&#x27;, &#x27;perturbation&#x27;, &#x27;replicate&#x27;, &#x27;S.Score&#x27;, &#x27;G2M.Score&#x27;, &#x27;Phase&#x27;\n",
       "      var:\t&#x27;name&#x27;, &#x27;highly_variable&#x27;, &#x27;means&#x27;, &#x27;dispersions&#x27;, &#x27;dispersions_norm&#x27;\n",
       "      uns:\t&#x27;Phase_colors&#x27;, &#x27;hvg&#x27;, &#x27;log1p&#x27;, &#x27;neighbors&#x27;, &#x27;pca&#x27;, &#x27;perturbation_colors&#x27;, &#x27;replicate_colors&#x27;, &#x27;umap&#x27;\n",
       "      obsm:\t&#x27;X_pca&#x27;, &#x27;X_umap&#x27;\n",
       "      varm:\t&#x27;PCs&#x27;\n",
       "      obsp:\t&#x27;connectivities&#x27;, &#x27;distances&#x27;\n",
       "    adt:\t20729 x 4\n",
       "      obs:\t&#x27;orig.ident&#x27;, &#x27;nCount_RNA&#x27;, &#x27;nFeature_RNA&#x27;, &#x27;nCount_HTO&#x27;, &#x27;nFeature_HTO&#x27;, &#x27;nCount_GDO&#x27;, &#x27;nCount_ADT&#x27;, &#x27;nFeature_ADT&#x27;, &#x27;percent.mito&#x27;, &#x27;MULTI_ID&#x27;, &#x27;HTO_classification&#x27;, &#x27;guide_ID&#x27;, &#x27;gene_target&#x27;, &#x27;NT&#x27;, &#x27;perturbation&#x27;, &#x27;replicate&#x27;, &#x27;S.Score&#x27;, &#x27;G2M.Score&#x27;, &#x27;Phase&#x27;\n",
       "      var:\t&#x27;name&#x27;\n",
       "    hto:\t20729 x 12\n",
       "      obs:\t&#x27;orig.ident&#x27;, &#x27;nCount_RNA&#x27;, &#x27;nFeature_RNA&#x27;, &#x27;nCount_HTO&#x27;, &#x27;nFeature_HTO&#x27;, &#x27;nCount_GDO&#x27;, &#x27;nCount_ADT&#x27;, &#x27;nFeature_ADT&#x27;, &#x27;percent.mito&#x27;, &#x27;MULTI_ID&#x27;, &#x27;HTO_classification&#x27;, &#x27;guide_ID&#x27;, &#x27;gene_target&#x27;, &#x27;NT&#x27;, &#x27;perturbation&#x27;, &#x27;replicate&#x27;, &#x27;S.Score&#x27;, &#x27;G2M.Score&#x27;, &#x27;Phase&#x27;\n",
       "      var:\t&#x27;name&#x27;\n",
       "      uns:\t&#x27;neighbors&#x27;, &#x27;umap&#x27;\n",
       "      obsm:\t&#x27;X_umap&#x27;\n",
       "      obsp:\t&#x27;connectivities&#x27;, &#x27;distances&#x27;\n",
       "    gdo:\t20729 x 111\n",
       "      obs:\t&#x27;orig.ident&#x27;, &#x27;nCount_RNA&#x27;, &#x27;nFeature_RNA&#x27;, &#x27;nCount_HTO&#x27;, &#x27;nFeature_HTO&#x27;, &#x27;nCount_GDO&#x27;, &#x27;nCount_ADT&#x27;, &#x27;nFeature_ADT&#x27;, &#x27;percent.mito&#x27;, &#x27;MULTI_ID&#x27;, &#x27;HTO_classification&#x27;, &#x27;guide_ID&#x27;, &#x27;gene_target&#x27;, &#x27;NT&#x27;, &#x27;perturbation&#x27;, &#x27;replicate&#x27;, &#x27;S.Score&#x27;, &#x27;G2M.Score&#x27;, &#x27;Phase&#x27;\n",
       "      var:\t&#x27;name&#x27;</pre>"
      ],
      "text/plain": [
       "MuData object with n_obs \u00d7 n_vars = 20729 \u00d7 18776\n",
       "  4 modalities\n",
       "    rna:\t20729 x 18649\n",
       "      obs:\t'orig.ident', 'nCount_RNA', 'nFeature_RNA', 'nCount_HTO', 'nFeature_HTO', 'nCount_GDO', 'nCount_ADT', 'nFeature_ADT', 'percent.mito', 'MULTI_ID', 'HTO_classification', 'guide_ID', 'gene_target', 'NT', 'perturbation', 'replicate', 'S.Score', 'G2M.Score', 'Phase'\n",
       "      var:\t'name', 'highly_variable', 'means', 'dispersions', 'dispersions_norm'\n",
       "      uns:\t'Phase_colors', 'hvg', 'log1p', 'neighbors', 'pca', 'perturbation_colors', 'replicate_colors', 'umap'\n",
       "      obsm:\t'X_pca', 'X_umap'\n",
       "      varm:\t'PCs'\n",
       "      obsp:\t'connectivities', 'distances'\n",
       "    adt:\t20729 x 4\n",
       "      obs:\t'orig.ident', 'nCount_RNA', 'nFeature_RNA', 'nCount_HTO', 'nFeature_HTO', 'nCount_GDO', 'nCount_ADT', 'nFeature_ADT', 'percent.mito', 'MULTI_ID', 'HTO_classification', 'guide_ID', 'gene_target', 'NT', 'perturbation', 'replicate', 'S.Score', 'G2M.Score', 'Phase'\n",
       "      var:\t'name'\n",
       "    hto:\t20729 x 12\n",
       "      obs:\t'orig.ident', 'nCount_RNA', 'nFeature_RNA', 'nCount_HTO', 'nFeature_HTO', 'nCount_GDO', 'nCount_ADT', 'nFeature_ADT', 'percent.mito', 'MULTI_ID', 'HTO_classification', 'guide_ID', 'gene_target', 'NT', 'perturbation', 'replicate', 'S.Score', 'G2M.Score', 'Phase'\n",
       "      var:\t'name'\n",
       "      uns:\t'neighbors', 'umap'\n",
       "      obsm:\t'X_umap'\n",
       "      obsp:\t'connectivities', 'distances'\n",
       "    gdo:\t20729 x 111\n",
       "      obs:\t'orig.ident', 'nCount_RNA', 'nFeature_RNA', 'nCount_HTO', 'nFeature_HTO', 'nCount_GDO', 'nCount_ADT', 'nFeature_ADT', 'percent.mito', 'MULTI_ID', 'HTO_classification', 'guide_ID', 'gene_target', 'NT', 'perturbation', 'replicate', 'S.Score', 'G2M.Score', 'Phase'\n",
       "      var:\t'name'"
      ]
     },
     "execution_count": 3,
     "metadata": {},
     "output_type": "execute_result"
    }
   ],
   "source": [
    "mdata_artifact = ln.Artifact.get(\"DDFxKYXo\")\n",
    "mdata = mdata_artifact.load()\n",
    "mdata"
   ]
  },
  {
   "cell_type": "markdown",
   "metadata": {},
   "source": [
    "Subset to hvg for visualization:"
   ]
  },
  {
   "cell_type": "code",
   "execution_count": 4,
   "metadata": {},
   "outputs": [
    {
     "name": "stderr",
     "output_type": "stream",
     "text": [
      "/opt/miniconda3/envs/py310/lib/python3.10/site-packages/mudata/_core/mudata.py:491: UserWarning: Cannot join columns with the same name because var_names are intersecting.\n",
      "  warnings.warn(\n"
     ]
    }
   ],
   "source": [
    "mdata.mod[\"rna\"] = mdata[\"rna\"][:, mdata[\"rna\"].var[\"highly_variable\"]]\n",
    "mdata.update()"
   ]
  },
  {
   "cell_type": "markdown",
   "metadata": {},
   "source": [
    "Write to `anndata.zarr`:"
   ]
  },
  {
   "cell_type": "code",
   "execution_count": 5,
   "metadata": {},
   "outputs": [
    {
     "name": "stderr",
     "output_type": "stream",
     "text": [
      "/opt/miniconda3/envs/py310/lib/python3.10/site-packages/mudata/_core/mudata.py:491: UserWarning: Cannot join columns with the same name because var_names are intersecting.\n",
      "  warnings.warn(\n"
     ]
    }
   ],
   "source": [
    "output_path = \"mudata_papalexi21.anndata.zarr\"\n",
    "mdata.write_zarr(output_path)"
   ]
  },
  {
   "cell_type": "markdown",
   "metadata": {},
   "source": [
    "## Save dataset"
   ]
  },
  {
   "cell_type": "code",
   "execution_count": 6,
   "metadata": {},
   "outputs": [
    {
     "name": "stdout",
     "output_type": "stream",
     "text": [
      "... uploading mudata_papalexi21.anndata.zarr:  0.0%\r"
     ]
    },
    {
     "name": "stdout",
     "output_type": "stream",
     "text": [
      "... uploading mudata_papalexi21.anndata.zarr: 100.0%\r"
     ]
    }
   ],
   "source": [
    "zarr_artifact = ln.Artifact(\n",
    "    output_path,\n",
    "    description=\"MuData from Papalexi21\",\n",
    ")\n",
    "zarr_artifact.save()"
   ]
  },
  {
   "cell_type": "code",
   "execution_count": 7,
   "metadata": {},
   "outputs": [
    {
     "data": {
      "text/plain": [
       "{'version': '1.0.15',\n",
       " 'name': '',\n",
       " 'description': 'MuData from Papalexi21',\n",
       " 'datasets': [{'uid': 'A',\n",
       "   'name': 'Papalexi21',\n",
       "   'files': [{'fileType': 'anndata.zarr',\n",
       "     'url': 'https://lamindata.s3.amazonaws.com/.lamindb/tCUkRcaEjTjhtozp.anndata.zarr',\n",
       "     'options': {'obsEmbedding': [{'path': 'mod/rna/obsm/X_umap',\n",
       "        'dims': [0, 1],\n",
       "        'embeddingType': 'UMAP'},\n",
       "       {'path': 'mod/rna/obsm/X_pca', 'dims': [0, 1], 'embeddingType': 'PCA'}],\n",
       "      'obsSets': [{'name': 'Gene target', 'path': 'mod/rna/obs/gene_target'},\n",
       "       {'name': 'Guide id', 'path': 'mod/rna/obs/guide_ID'},\n",
       "       {'name': 'Cell cycle', 'path': 'mod/rna/obs/Phase'},\n",
       "       {'name': 'Replicate', 'path': 'mod/rna/obs/replicate'}],\n",
       "      'obsFeatureMatrix': {'path': 'mod/rna/X'}}}]}],\n",
       " 'coordinationSpace': {'dataset': {'A': 'A'},\n",
       "  'embeddingType': {'A': 'UMAP', 'B': 'PCA'}},\n",
       " 'layout': [{'component': 'obsSets',\n",
       "   'coordinationScopes': {'dataset': 'A'},\n",
       "   'x': 9.0,\n",
       "   'y': 0.0,\n",
       "   'w': 3.0,\n",
       "   'h': 6.0},\n",
       "  {'component': 'obsSetSizes',\n",
       "   'coordinationScopes': {'dataset': 'A'},\n",
       "   'x': 6.0,\n",
       "   'y': 6.0,\n",
       "   'w': 6.0,\n",
       "   'h': 6.0},\n",
       "  {'component': 'scatterplot',\n",
       "   'coordinationScopes': {'dataset': 'A', 'embeddingType': 'A'},\n",
       "   'x': 0.0,\n",
       "   'y': 0.0,\n",
       "   'w': 3.0,\n",
       "   'h': 6.0},\n",
       "  {'component': 'scatterplot',\n",
       "   'coordinationScopes': {'dataset': 'A', 'embeddingType': 'B'},\n",
       "   'x': 3.0,\n",
       "   'y': 0.0,\n",
       "   'w': 3.0,\n",
       "   'h': 6.0},\n",
       "  {'component': 'heatmap',\n",
       "   'coordinationScopes': {'dataset': 'A'},\n",
       "   'x': 0.0,\n",
       "   'y': 6.0,\n",
       "   'w': 6.0,\n",
       "   'h': 6.0},\n",
       "  {'component': 'featureList',\n",
       "   'coordinationScopes': {'dataset': 'A'},\n",
       "   'x': 6.0,\n",
       "   'y': 0.0,\n",
       "   'w': 3.0,\n",
       "   'h': 6.0}],\n",
       " 'initStrategy': 'auto'}"
      ]
     },
     "execution_count": 7,
     "metadata": {},
     "output_type": "execute_result"
    }
   ],
   "source": [
    "from vitessce import (\n",
    "    VitessceConfig,\n",
    "    Component as cm,\n",
    "    AnnDataWrapper,\n",
    ")\n",
    "\n",
    "vc = VitessceConfig(\n",
    "    schema_version=\"1.0.15\",\n",
    "    description=zarr_artifact.description,\n",
    ")\n",
    "dataset = vc.add_dataset(name=\"Papalexi21\").add_object(\n",
    "    AnnDataWrapper(\n",
    "        adata_url=zarr_artifact.path.to_url(),\n",
    "        obs_feature_matrix_path=\"mod/rna/X\",\n",
    "        obs_embedding_paths=[\"mod/rna/obsm/X_umap\", \"mod/rna/obsm/X_pca\"],\n",
    "        obs_embedding_names=[\"UMAP\", \"PCA\"],\n",
    "        obs_set_paths=[\n",
    "            \"mod/rna/obs/gene_target\",\n",
    "            \"mod/rna/obs/guide_ID\",\n",
    "            \"mod/rna/obs/Phase\",\n",
    "            \"mod/rna/obs/replicate\",\n",
    "        ],\n",
    "        obs_set_names=[\"Gene target\", \"Guide id\", \"Cell cycle\", \"Replicate\"],\n",
    "    )\n",
    ")\n",
    "\n",
    "obs_sets = vc.add_view(cm.OBS_SETS, dataset=dataset)\n",
    "obs_sets_sizes = vc.add_view(cm.OBS_SET_SIZES, dataset=dataset)\n",
    "umap = vc.add_view(cm.SCATTERPLOT, dataset=dataset, mapping=\"UMAP\")\n",
    "pca = vc.add_view(cm.SCATTERPLOT, dataset=dataset, mapping=\"PCA\")\n",
    "heatmap = vc.add_view(cm.HEATMAP, dataset=dataset)\n",
    "genes = vc.add_view(cm.FEATURE_LIST, dataset=dataset)\n",
    "vc.layout(((umap | pca) / heatmap) | ((genes | obs_sets) / obs_sets_sizes))\n",
    "\n",
    "# inspect the config\n",
    "vc.to_dict()"
   ]
  },
  {
   "cell_type": "code",
   "execution_count": 8,
   "metadata": {},
   "outputs": [
    {
     "name": "stdout",
     "output_type": "stream",
     "text": [
      "\ud83d\udca1 go to: https://lamin.ai/laminlabs/lamindata/artifact/sRapK07mMtToihzFeTaf\n"
     ]
    }
   ],
   "source": [
    "from lamindb.integrations import save_vitessce_config\n",
    "\n",
    "vc_artifact = save_vitessce_config(vc, description=\"View Papalexi21 in Vitessce\")"
   ]
  },
  {
   "cell_type": "code",
   "execution_count": 11,
   "metadata": {},
   "outputs": [
    {
     "name": "stdout",
     "output_type": "stream",
     "text": [
      "\u2705 cell execution numbers increase consecutively\n",
      "\u2705 saved transform.source_code: Artifact(uid='j6zQfam6cVBHlOR1dTde', suffix='.ipynb', description='Source of transform aCrfeVoAaDr95zKv', version='1', size=4511, hash='cmD2CwZCSebUjDXlzngfmQ', hash_type='md5', visibility=0, key_is_virtual=True, updated_at=2024-04-30 12:52:46 UTC, storage_id=2, created_by_id=2)\n",
      "\u2705 saved run.environment: Artifact(uid='nYO2R3tM4rhqB7mZHZnl', suffix='.txt', description='requirements.txt', size=10821, hash='Iu7Isnon8g7iS-XUyNFD7w', hash_type='md5', visibility=0, key_is_virtual=True, updated_at=2024-04-30 12:52:47 UTC, storage_id=2, created_by_id=2)\n",
      "\u2705 saved transform.latest_report: Artifact(uid='NEuTTW4HAIX9ORtCuDOe', suffix='.html', description='Report of run VPYyibO30e6mHkw7DC7r', size=293911, hash='ADqBuImn9seir0EPXhGOcg', hash_type='md5', visibility=0, key_is_virtual=True, updated_at=2024-04-30 12:52:48 UTC, storage_id=2, created_by_id=2)\n",
      "\u2705 go to: https://lamin.ai/laminlabs/lamindata/transform/aCrfeVoAaDr95zKv\n"
     ]
    }
   ],
   "source": [
    "ln.finish()"
   ]
  }
 ],
 "metadata": {
  "kernelspec": {
   "display_name": "py310",
   "language": "python",
   "name": "python3"
  },
  "language_info": {
   "codemirror_mode": {
    "name": "ipython",
    "version": 3
   },
   "file_extension": ".py",
   "mimetype": "text/x-python",
   "name": "python",
   "nbconvert_exporter": "python",
   "pygments_lexer": "ipython3",
   "version": "3.10.13"
  }
 },
 "nbformat": 4,
 "nbformat_minor": 2
}
