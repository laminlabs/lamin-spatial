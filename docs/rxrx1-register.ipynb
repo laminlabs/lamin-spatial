{
 "cells": [
  {
   "attachments": {},
   "cell_type": "markdown",
   "id": "82251552-5981-44f1-a7fd-944c59a845de",
   "metadata": {},
   "source": [
    "# Validate and register RxRx1 metadata\n",
    "\n",
    "In this notebook, we'll take a look at how to validate and register metadata.\n",
    "\n",
    "We will combine metadata and deep learning embeddings into an `AnnData` object."
   ]
  },
  {
   "cell_type": "code",
   "execution_count": 1,
   "id": "d4c819f7",
   "metadata": {},
   "outputs": [
    {
     "name": "stderr",
     "output_type": "stream",
     "text": [
      "2023-09-21 14:16:19,716:INFO - Found credentials in shared credentials file: ~/.aws/credentials\n"
     ]
    },
    {
     "name": "stdout",
     "output_type": "stream",
     "text": [
      "💡 loaded instance: sunnyosun/rxrx1-2 (lamindb 0.54.0)\n"
     ]
    }
   ],
   "source": [
    "import lamindb as ln\n",
    "import lnschema_bionty as lb\n",
    "import lnschema_lamin1 as ln1\n",
    "import anndata as ad"
   ]
  },
  {
   "cell_type": "code",
   "execution_count": 2,
   "id": "303f2068",
   "metadata": {},
   "outputs": [],
   "source": [
    "ln.settings.verbosity = \"hint\""
   ]
  },
  {
   "cell_type": "code",
   "execution_count": 3,
   "id": "ae5f5e0a",
   "metadata": {},
   "outputs": [
    {
     "name": "stdout",
     "output_type": "stream",
     "text": [
      "💡 notebook imports: anndata==0.9.1 lamindb==0.54.0 lnschema_bionty==0.31.1 lnschema_lamin1==0.23.0\n",
      "✅ loaded: Transform(id='Zo0qJt4IQPsbz8', name='Validate and register RxRx1 metadata', short_name='rxrx1-register', version='0', type='notebook', updated_at=2023-09-21 12:06:11, created_by_id='kmvZDIX9')\n",
      "✅ loaded: Run(id='3d3Bg31nUSxdPEzbUMQu', run_at=2023-09-21 12:16:23, transform_id='Zo0qJt4IQPsbz8', created_by_id='kmvZDIX9')\n",
      "✅   parent transform: Transform(id='kq1P1Aho94siz8', name='Register RxRx1 metadata and embedding files', short_name='rxrx1-download', version='0', type='notebook', updated_at=2023-09-19 10:57:46, created_by_id='kmvZDIX9')\n"
     ]
    }
   ],
   "source": [
    "ln.track()"
   ]
  },
  {
   "cell_type": "markdown",
   "id": "cfcd84c1",
   "metadata": {},
   "source": [
    "## Load metadata"
   ]
  },
  {
   "cell_type": "markdown",
   "id": "51083bac",
   "metadata": {},
   "source": [
    "We read in the metadata of the wells:"
   ]
  },
  {
   "cell_type": "code",
   "execution_count": 4,
   "id": "a20be6b6",
   "metadata": {},
   "outputs": [
    {
     "name": "stdout",
     "output_type": "stream",
     "text": [
      "💡 adding file Djktj7NOltEelD7M1EHe as input for run 3d3Bg31nUSxdPEzbUMQu, adding parent transform kq1P1Aho94siz8\n"
     ]
    }
   ],
   "source": [
    "meta_file = ln.File.filter(key=\"rxrx1/metadata.csv\").one()\n",
    "meta = meta_file.load()"
   ]
  },
  {
   "cell_type": "code",
   "execution_count": 5,
   "id": "573d7ff5",
   "metadata": {},
   "outputs": [
    {
     "data": {
      "text/html": [
       "<div>\n",
       "<style scoped>\n",
       "    .dataframe tbody tr th:only-of-type {\n",
       "        vertical-align: middle;\n",
       "    }\n",
       "\n",
       "    .dataframe tbody tr th {\n",
       "        vertical-align: top;\n",
       "    }\n",
       "\n",
       "    .dataframe thead th {\n",
       "        text-align: right;\n",
       "    }\n",
       "</style>\n",
       "<table border=\"1\" class=\"dataframe\">\n",
       "  <thead>\n",
       "    <tr style=\"text-align: right;\">\n",
       "      <th></th>\n",
       "      <th>site_id</th>\n",
       "      <th>well_id</th>\n",
       "      <th>cell_type</th>\n",
       "      <th>dataset</th>\n",
       "      <th>experiment</th>\n",
       "      <th>plate</th>\n",
       "      <th>well</th>\n",
       "      <th>site</th>\n",
       "      <th>well_type</th>\n",
       "      <th>sirna</th>\n",
       "      <th>sirna_id</th>\n",
       "    </tr>\n",
       "  </thead>\n",
       "  <tbody>\n",
       "    <tr>\n",
       "      <th>0</th>\n",
       "      <td>HEPG2-08_1_B02_1</td>\n",
       "      <td>HEPG2-08_1_B02</td>\n",
       "      <td>HEPG2</td>\n",
       "      <td>test</td>\n",
       "      <td>HEPG2-08</td>\n",
       "      <td>1</td>\n",
       "      <td>B02</td>\n",
       "      <td>1</td>\n",
       "      <td>negative_control</td>\n",
       "      <td>EMPTY</td>\n",
       "      <td>1138</td>\n",
       "    </tr>\n",
       "    <tr>\n",
       "      <th>1</th>\n",
       "      <td>HEPG2-08_1_B02_2</td>\n",
       "      <td>HEPG2-08_1_B02</td>\n",
       "      <td>HEPG2</td>\n",
       "      <td>test</td>\n",
       "      <td>HEPG2-08</td>\n",
       "      <td>1</td>\n",
       "      <td>B02</td>\n",
       "      <td>2</td>\n",
       "      <td>negative_control</td>\n",
       "      <td>EMPTY</td>\n",
       "      <td>1138</td>\n",
       "    </tr>\n",
       "    <tr>\n",
       "      <th>2</th>\n",
       "      <td>HEPG2-08_1_B03_1</td>\n",
       "      <td>HEPG2-08_1_B03</td>\n",
       "      <td>HEPG2</td>\n",
       "      <td>test</td>\n",
       "      <td>HEPG2-08</td>\n",
       "      <td>1</td>\n",
       "      <td>B03</td>\n",
       "      <td>1</td>\n",
       "      <td>treatment</td>\n",
       "      <td>s21721</td>\n",
       "      <td>855</td>\n",
       "    </tr>\n",
       "    <tr>\n",
       "      <th>3</th>\n",
       "      <td>HEPG2-08_1_B03_2</td>\n",
       "      <td>HEPG2-08_1_B03</td>\n",
       "      <td>HEPG2</td>\n",
       "      <td>test</td>\n",
       "      <td>HEPG2-08</td>\n",
       "      <td>1</td>\n",
       "      <td>B03</td>\n",
       "      <td>2</td>\n",
       "      <td>treatment</td>\n",
       "      <td>s21721</td>\n",
       "      <td>855</td>\n",
       "    </tr>\n",
       "    <tr>\n",
       "      <th>4</th>\n",
       "      <td>HEPG2-08_1_B04_1</td>\n",
       "      <td>HEPG2-08_1_B04</td>\n",
       "      <td>HEPG2</td>\n",
       "      <td>test</td>\n",
       "      <td>HEPG2-08</td>\n",
       "      <td>1</td>\n",
       "      <td>B04</td>\n",
       "      <td>1</td>\n",
       "      <td>treatment</td>\n",
       "      <td>s20894</td>\n",
       "      <td>710</td>\n",
       "    </tr>\n",
       "  </tbody>\n",
       "</table>\n",
       "</div>"
      ],
      "text/plain": [
       "            site_id         well_id cell_type dataset experiment  plate well  \\\n",
       "0  HEPG2-08_1_B02_1  HEPG2-08_1_B02     HEPG2    test   HEPG2-08      1  B02   \n",
       "1  HEPG2-08_1_B02_2  HEPG2-08_1_B02     HEPG2    test   HEPG2-08      1  B02   \n",
       "2  HEPG2-08_1_B03_1  HEPG2-08_1_B03     HEPG2    test   HEPG2-08      1  B03   \n",
       "3  HEPG2-08_1_B03_2  HEPG2-08_1_B03     HEPG2    test   HEPG2-08      1  B03   \n",
       "4  HEPG2-08_1_B04_1  HEPG2-08_1_B04     HEPG2    test   HEPG2-08      1  B04   \n",
       "\n",
       "   site         well_type   sirna  sirna_id  \n",
       "0     1  negative_control   EMPTY      1138  \n",
       "1     2  negative_control   EMPTY      1138  \n",
       "2     1         treatment  s21721       855  \n",
       "3     2         treatment  s21721       855  \n",
       "4     1         treatment  s20894       710  "
      ]
     },
     "execution_count": 5,
     "metadata": {},
     "output_type": "execute_result"
    }
   ],
   "source": [
    "meta.head()"
   ]
  },
  {
   "cell_type": "code",
   "execution_count": 6,
   "id": "5281df48",
   "metadata": {},
   "outputs": [],
   "source": [
    "meta[\"plate\"] = meta[\"plate\"].astype(str)\n",
    "meta[\"site\"] = meta[\"site\"].astype(str)\n",
    "meta[\"sirna_id\"] = meta[\"sirna_id\"].astype(str)"
   ]
  },
  {
   "cell_type": "code",
   "execution_count": 7,
   "id": "cb7b4d61",
   "metadata": {},
   "outputs": [
    {
     "data": {
      "text/plain": [
       "(125510, 11)"
      ]
     },
     "execution_count": 7,
     "metadata": {},
     "output_type": "execute_result"
    }
   ],
   "source": [
    "meta.shape"
   ]
  },
  {
   "cell_type": "markdown",
   "id": "d3544249",
   "metadata": {},
   "source": [
    "Add a `file_keys` column:"
   ]
  },
  {
   "cell_type": "code",
   "execution_count": 8,
   "id": "440f91c0",
   "metadata": {},
   "outputs": [],
   "source": [
    "# get the 6 file keys for each row\n",
    "files_list = []\n",
    "for _, row in meta.iterrows():\n",
    "    well = row.well\n",
    "    site = row.site\n",
    "    # each image has 6 channels\n",
    "    files_list.append(\n",
    "        f\"images/{row.dataset}/{row.experiment}/Plate{row.plate}/{well}_s{site}_w1-w6.png\"\n",
    "    )  # channels are w1 - w6\n",
    "meta[\"file_keys\"] = files_list"
   ]
  },
  {
   "cell_type": "code",
   "execution_count": 9,
   "id": "d6375cb5",
   "metadata": {},
   "outputs": [
    {
     "data": {
      "text/html": [
       "<div>\n",
       "<style scoped>\n",
       "    .dataframe tbody tr th:only-of-type {\n",
       "        vertical-align: middle;\n",
       "    }\n",
       "\n",
       "    .dataframe tbody tr th {\n",
       "        vertical-align: top;\n",
       "    }\n",
       "\n",
       "    .dataframe thead th {\n",
       "        text-align: right;\n",
       "    }\n",
       "</style>\n",
       "<table border=\"1\" class=\"dataframe\">\n",
       "  <thead>\n",
       "    <tr style=\"text-align: right;\">\n",
       "      <th></th>\n",
       "      <th>site_id</th>\n",
       "      <th>well_id</th>\n",
       "      <th>cell_type</th>\n",
       "      <th>dataset</th>\n",
       "      <th>experiment</th>\n",
       "      <th>plate</th>\n",
       "      <th>well</th>\n",
       "      <th>site</th>\n",
       "      <th>well_type</th>\n",
       "      <th>sirna</th>\n",
       "      <th>sirna_id</th>\n",
       "      <th>file_keys</th>\n",
       "    </tr>\n",
       "  </thead>\n",
       "  <tbody>\n",
       "    <tr>\n",
       "      <th>0</th>\n",
       "      <td>HEPG2-08_1_B02_1</td>\n",
       "      <td>HEPG2-08_1_B02</td>\n",
       "      <td>HEPG2</td>\n",
       "      <td>test</td>\n",
       "      <td>HEPG2-08</td>\n",
       "      <td>1</td>\n",
       "      <td>B02</td>\n",
       "      <td>1</td>\n",
       "      <td>negative_control</td>\n",
       "      <td>EMPTY</td>\n",
       "      <td>1138</td>\n",
       "      <td>images/test/HEPG2-08/Plate1/B02_s1_w1-w6.png</td>\n",
       "    </tr>\n",
       "    <tr>\n",
       "      <th>1</th>\n",
       "      <td>HEPG2-08_1_B02_2</td>\n",
       "      <td>HEPG2-08_1_B02</td>\n",
       "      <td>HEPG2</td>\n",
       "      <td>test</td>\n",
       "      <td>HEPG2-08</td>\n",
       "      <td>1</td>\n",
       "      <td>B02</td>\n",
       "      <td>2</td>\n",
       "      <td>negative_control</td>\n",
       "      <td>EMPTY</td>\n",
       "      <td>1138</td>\n",
       "      <td>images/test/HEPG2-08/Plate1/B02_s2_w1-w6.png</td>\n",
       "    </tr>\n",
       "  </tbody>\n",
       "</table>\n",
       "</div>"
      ],
      "text/plain": [
       "            site_id         well_id cell_type dataset experiment plate well  \\\n",
       "0  HEPG2-08_1_B02_1  HEPG2-08_1_B02     HEPG2    test   HEPG2-08     1  B02   \n",
       "1  HEPG2-08_1_B02_2  HEPG2-08_1_B02     HEPG2    test   HEPG2-08     1  B02   \n",
       "\n",
       "  site         well_type  sirna sirna_id  \\\n",
       "0    1  negative_control  EMPTY     1138   \n",
       "1    2  negative_control  EMPTY     1138   \n",
       "\n",
       "                                      file_keys  \n",
       "0  images/test/HEPG2-08/Plate1/B02_s1_w1-w6.png  \n",
       "1  images/test/HEPG2-08/Plate1/B02_s2_w1-w6.png  "
      ]
     },
     "execution_count": 9,
     "metadata": {},
     "output_type": "execute_result"
    }
   ],
   "source": [
    "meta.head(2)"
   ]
  },
  {
   "cell_type": "markdown",
   "id": "60803213",
   "metadata": {},
   "source": [
    "## Load embeddings"
   ]
  },
  {
   "cell_type": "code",
   "execution_count": 8,
   "id": "80f41538",
   "metadata": {},
   "outputs": [],
   "source": [
    "embedding_file = ln.File.filter(key=\"rxrx1/embeddings.csv\").one()"
   ]
  },
  {
   "cell_type": "code",
   "execution_count": 9,
   "id": "ab73c9fa",
   "metadata": {},
   "outputs": [
    {
     "name": "stdout",
     "output_type": "stream",
     "text": [
      "💡 adding file fRAi4vLhNfcDu0Vrl3ce as input for run 3d3Bg31nUSxdPEzbUMQu, adding parent transform kq1P1Aho94siz8\n",
      "... downloading embeddings.csv: 1.00\n",
      "\r"
     ]
    }
   ],
   "source": [
    "embedding = embedding_file.load()\n",
    "embedding.set_index(\"site_id\", inplace=True)"
   ]
  },
  {
   "cell_type": "code",
   "execution_count": 10,
   "id": "3a2b5f5b",
   "metadata": {},
   "outputs": [
    {
     "data": {
      "text/plain": [
       "(125510, 128)"
      ]
     },
     "execution_count": 10,
     "metadata": {},
     "output_type": "execute_result"
    }
   ],
   "source": [
    "embedding.shape"
   ]
  },
  {
   "cell_type": "code",
   "execution_count": 11,
   "id": "560f2e22",
   "metadata": {},
   "outputs": [
    {
     "data": {
      "text/html": [
       "<div>\n",
       "<style scoped>\n",
       "    .dataframe tbody tr th:only-of-type {\n",
       "        vertical-align: middle;\n",
       "    }\n",
       "\n",
       "    .dataframe tbody tr th {\n",
       "        vertical-align: top;\n",
       "    }\n",
       "\n",
       "    .dataframe thead th {\n",
       "        text-align: right;\n",
       "    }\n",
       "</style>\n",
       "<table border=\"1\" class=\"dataframe\">\n",
       "  <thead>\n",
       "    <tr style=\"text-align: right;\">\n",
       "      <th></th>\n",
       "      <th>feature_0</th>\n",
       "      <th>feature_1</th>\n",
       "      <th>feature_2</th>\n",
       "      <th>feature_3</th>\n",
       "      <th>feature_4</th>\n",
       "      <th>feature_5</th>\n",
       "      <th>feature_6</th>\n",
       "      <th>feature_7</th>\n",
       "      <th>feature_8</th>\n",
       "      <th>feature_9</th>\n",
       "      <th>...</th>\n",
       "      <th>feature_118</th>\n",
       "      <th>feature_119</th>\n",
       "      <th>feature_120</th>\n",
       "      <th>feature_121</th>\n",
       "      <th>feature_122</th>\n",
       "      <th>feature_123</th>\n",
       "      <th>feature_124</th>\n",
       "      <th>feature_125</th>\n",
       "      <th>feature_126</th>\n",
       "      <th>feature_127</th>\n",
       "    </tr>\n",
       "    <tr>\n",
       "      <th>site_id</th>\n",
       "      <th></th>\n",
       "      <th></th>\n",
       "      <th></th>\n",
       "      <th></th>\n",
       "      <th></th>\n",
       "      <th></th>\n",
       "      <th></th>\n",
       "      <th></th>\n",
       "      <th></th>\n",
       "      <th></th>\n",
       "      <th></th>\n",
       "      <th></th>\n",
       "      <th></th>\n",
       "      <th></th>\n",
       "      <th></th>\n",
       "      <th></th>\n",
       "      <th></th>\n",
       "      <th></th>\n",
       "      <th></th>\n",
       "      <th></th>\n",
       "      <th></th>\n",
       "    </tr>\n",
       "  </thead>\n",
       "  <tbody>\n",
       "    <tr>\n",
       "      <th>U2OS-01_1_B02_1</th>\n",
       "      <td>-1.568359</td>\n",
       "      <td>-0.117188</td>\n",
       "      <td>0.912598</td>\n",
       "      <td>0.378418</td>\n",
       "      <td>-1.523438</td>\n",
       "      <td>4.394531</td>\n",
       "      <td>1.664062</td>\n",
       "      <td>1.410156</td>\n",
       "      <td>0.669434</td>\n",
       "      <td>1.088867</td>\n",
       "      <td>...</td>\n",
       "      <td>-0.135620</td>\n",
       "      <td>-2.000000</td>\n",
       "      <td>3.380859</td>\n",
       "      <td>-3.076172</td>\n",
       "      <td>-1.336914</td>\n",
       "      <td>-0.993652</td>\n",
       "      <td>-2.152344</td>\n",
       "      <td>-1.307617</td>\n",
       "      <td>4.492188</td>\n",
       "      <td>0.646973</td>\n",
       "    </tr>\n",
       "    <tr>\n",
       "      <th>U2OS-01_1_B02_2</th>\n",
       "      <td>-0.112671</td>\n",
       "      <td>0.162842</td>\n",
       "      <td>-0.464111</td>\n",
       "      <td>-3.265625</td>\n",
       "      <td>0.598145</td>\n",
       "      <td>0.263916</td>\n",
       "      <td>1.544922</td>\n",
       "      <td>-1.476562</td>\n",
       "      <td>1.360352</td>\n",
       "      <td>-0.535156</td>\n",
       "      <td>...</td>\n",
       "      <td>1.327148</td>\n",
       "      <td>-3.613281</td>\n",
       "      <td>0.671387</td>\n",
       "      <td>0.304688</td>\n",
       "      <td>-1.413086</td>\n",
       "      <td>0.191040</td>\n",
       "      <td>-1.658203</td>\n",
       "      <td>-0.099609</td>\n",
       "      <td>1.605469</td>\n",
       "      <td>-1.285156</td>\n",
       "    </tr>\n",
       "    <tr>\n",
       "      <th>U2OS-01_1_B03_1</th>\n",
       "      <td>-0.173340</td>\n",
       "      <td>1.729492</td>\n",
       "      <td>-2.585938</td>\n",
       "      <td>1.026367</td>\n",
       "      <td>1.139648</td>\n",
       "      <td>3.724609</td>\n",
       "      <td>-0.505371</td>\n",
       "      <td>3.406250</td>\n",
       "      <td>0.984375</td>\n",
       "      <td>-0.035309</td>\n",
       "      <td>...</td>\n",
       "      <td>1.701172</td>\n",
       "      <td>0.204346</td>\n",
       "      <td>-1.625000</td>\n",
       "      <td>1.002930</td>\n",
       "      <td>-2.447266</td>\n",
       "      <td>-1.492188</td>\n",
       "      <td>0.392090</td>\n",
       "      <td>-3.347656</td>\n",
       "      <td>-3.281250</td>\n",
       "      <td>-0.475342</td>\n",
       "    </tr>\n",
       "    <tr>\n",
       "      <th>U2OS-01_1_B03_2</th>\n",
       "      <td>-0.443604</td>\n",
       "      <td>1.350586</td>\n",
       "      <td>-5.363281</td>\n",
       "      <td>0.283203</td>\n",
       "      <td>0.530273</td>\n",
       "      <td>4.933594</td>\n",
       "      <td>1.471680</td>\n",
       "      <td>2.351562</td>\n",
       "      <td>0.550293</td>\n",
       "      <td>0.452148</td>\n",
       "      <td>...</td>\n",
       "      <td>0.972656</td>\n",
       "      <td>-2.593750</td>\n",
       "      <td>-3.115234</td>\n",
       "      <td>2.255859</td>\n",
       "      <td>-3.662109</td>\n",
       "      <td>-4.214844</td>\n",
       "      <td>2.388672</td>\n",
       "      <td>-5.515625</td>\n",
       "      <td>-3.455078</td>\n",
       "      <td>-0.545898</td>\n",
       "    </tr>\n",
       "    <tr>\n",
       "      <th>U2OS-01_1_B04_1</th>\n",
       "      <td>3.480469</td>\n",
       "      <td>-2.751953</td>\n",
       "      <td>2.074219</td>\n",
       "      <td>-2.109375</td>\n",
       "      <td>4.582031</td>\n",
       "      <td>0.926270</td>\n",
       "      <td>-2.501953</td>\n",
       "      <td>3.033203</td>\n",
       "      <td>-2.492188</td>\n",
       "      <td>3.822266</td>\n",
       "      <td>...</td>\n",
       "      <td>4.335938</td>\n",
       "      <td>0.744629</td>\n",
       "      <td>-0.076477</td>\n",
       "      <td>1.311523</td>\n",
       "      <td>4.371094</td>\n",
       "      <td>2.171875</td>\n",
       "      <td>2.218750</td>\n",
       "      <td>-4.050781</td>\n",
       "      <td>1.835938</td>\n",
       "      <td>-1.174805</td>\n",
       "    </tr>\n",
       "  </tbody>\n",
       "</table>\n",
       "<p>5 rows × 128 columns</p>\n",
       "</div>"
      ],
      "text/plain": [
       "                 feature_0  feature_1  feature_2  feature_3  feature_4  \\\n",
       "site_id                                                                  \n",
       "U2OS-01_1_B02_1  -1.568359  -0.117188   0.912598   0.378418  -1.523438   \n",
       "U2OS-01_1_B02_2  -0.112671   0.162842  -0.464111  -3.265625   0.598145   \n",
       "U2OS-01_1_B03_1  -0.173340   1.729492  -2.585938   1.026367   1.139648   \n",
       "U2OS-01_1_B03_2  -0.443604   1.350586  -5.363281   0.283203   0.530273   \n",
       "U2OS-01_1_B04_1   3.480469  -2.751953   2.074219  -2.109375   4.582031   \n",
       "\n",
       "                 feature_5  feature_6  feature_7  feature_8  feature_9  ...  \\\n",
       "site_id                                                                 ...   \n",
       "U2OS-01_1_B02_1   4.394531   1.664062   1.410156   0.669434   1.088867  ...   \n",
       "U2OS-01_1_B02_2   0.263916   1.544922  -1.476562   1.360352  -0.535156  ...   \n",
       "U2OS-01_1_B03_1   3.724609  -0.505371   3.406250   0.984375  -0.035309  ...   \n",
       "U2OS-01_1_B03_2   4.933594   1.471680   2.351562   0.550293   0.452148  ...   \n",
       "U2OS-01_1_B04_1   0.926270  -2.501953   3.033203  -2.492188   3.822266  ...   \n",
       "\n",
       "                 feature_118  feature_119  feature_120  feature_121  \\\n",
       "site_id                                                               \n",
       "U2OS-01_1_B02_1    -0.135620    -2.000000     3.380859    -3.076172   \n",
       "U2OS-01_1_B02_2     1.327148    -3.613281     0.671387     0.304688   \n",
       "U2OS-01_1_B03_1     1.701172     0.204346    -1.625000     1.002930   \n",
       "U2OS-01_1_B03_2     0.972656    -2.593750    -3.115234     2.255859   \n",
       "U2OS-01_1_B04_1     4.335938     0.744629    -0.076477     1.311523   \n",
       "\n",
       "                 feature_122  feature_123  feature_124  feature_125  \\\n",
       "site_id                                                               \n",
       "U2OS-01_1_B02_1    -1.336914    -0.993652    -2.152344    -1.307617   \n",
       "U2OS-01_1_B02_2    -1.413086     0.191040    -1.658203    -0.099609   \n",
       "U2OS-01_1_B03_1    -2.447266    -1.492188     0.392090    -3.347656   \n",
       "U2OS-01_1_B03_2    -3.662109    -4.214844     2.388672    -5.515625   \n",
       "U2OS-01_1_B04_1     4.371094     2.171875     2.218750    -4.050781   \n",
       "\n",
       "                 feature_126  feature_127  \n",
       "site_id                                    \n",
       "U2OS-01_1_B02_1     4.492188     0.646973  \n",
       "U2OS-01_1_B02_2     1.605469    -1.285156  \n",
       "U2OS-01_1_B03_1    -3.281250    -0.475342  \n",
       "U2OS-01_1_B03_2    -3.455078    -0.545898  \n",
       "U2OS-01_1_B04_1     1.835938    -1.174805  \n",
       "\n",
       "[5 rows x 128 columns]"
      ]
     },
     "execution_count": 11,
     "metadata": {},
     "output_type": "execute_result"
    }
   ],
   "source": [
    "embedding.head()"
   ]
  },
  {
   "attachments": {},
   "cell_type": "markdown",
   "id": "efca351e-a3ef-4550-8c59-a3dc0141dd88",
   "metadata": {},
   "source": [
    "## Validate and register metadata"
   ]
  },
  {
   "cell_type": "markdown",
   "id": "d0a2f4a2",
   "metadata": {},
   "source": [
    "### `cell_type`"
   ]
  },
  {
   "attachments": {},
   "cell_type": "markdown",
   "id": "d255e3b6-dfbd-4319-bebe-6dc1baf11215",
   "metadata": {},
   "source": [
    "We can start with curating the metadata table based on the ontologies from bionty. For example, let's start with the `cell_line` metadata.\n",
    "In this table, they are called \"cell_type\" but they are in fact the cell line for the experiments"
   ]
  },
  {
   "cell_type": "code",
   "execution_count": 12,
   "id": "37d9bb21-b6b9-4915-8b68-365f11fde979",
   "metadata": {
    "tags": []
   },
   "outputs": [
    {
     "data": {
      "text/plain": [
       "array(['HEPG2', 'HUVEC', 'RPE', 'U2OS'], dtype=object)"
      ]
     },
     "execution_count": 12,
     "metadata": {},
     "output_type": "execute_result"
    }
   ],
   "source": [
    "meta[\"cell_type\"].unique()"
   ]
  },
  {
   "cell_type": "code",
   "execution_count": 13,
   "id": "030e7b02",
   "metadata": {},
   "outputs": [
    {
     "name": "stdout",
     "output_type": "stream",
     "text": [
      "✅ created \u001b[1;95m4 CellLine records from Bionty\u001b[0m matching \u001b[3msynonyms\u001b[0m: \u001b[1;95m'HEPG2', 'HUVEC', 'RPE', 'U2OS'\u001b[0m\n"
     ]
    }
   ],
   "source": [
    "cell_lines = lb.CellLine.from_values(meta[\"cell_type\"])"
   ]
  },
  {
   "cell_type": "code",
   "execution_count": 14,
   "id": "ef0f3709",
   "metadata": {
    "tags": []
   },
   "outputs": [],
   "source": [
    "ln.save(cell_lines, parents=False)"
   ]
  },
  {
   "cell_type": "markdown",
   "id": "591ddd62",
   "metadata": {},
   "source": [
    "### `dataset` (train/test labels)"
   ]
  },
  {
   "cell_type": "markdown",
   "id": "87bc0d16",
   "metadata": {},
   "source": [
    "Use `ULabel` for \"train\", \"test\":"
   ]
  },
  {
   "cell_type": "code",
   "execution_count": 15,
   "id": "03800f02",
   "metadata": {},
   "outputs": [
    {
     "data": {
      "text/plain": [
       "array(['test', 'train'], dtype=object)"
      ]
     },
     "execution_count": 15,
     "metadata": {},
     "output_type": "execute_result"
    }
   ],
   "source": [
    "meta[\"dataset\"].unique()"
   ]
  },
  {
   "cell_type": "code",
   "execution_count": 16,
   "id": "2feaee03",
   "metadata": {},
   "outputs": [],
   "source": [
    "train_test = []\n",
    "for name in meta[\"dataset\"].unique():\n",
    "    train_test.append(ln.ULabel(name=name, description=\"ML train/test split\"))\n",
    "\n",
    "ln.save(train_test)"
   ]
  },
  {
   "cell_type": "markdown",
   "id": "1332431d",
   "metadata": {},
   "source": [
    "### `experiment`"
   ]
  },
  {
   "cell_type": "code",
   "execution_count": 17,
   "id": "20e1f372",
   "metadata": {},
   "outputs": [],
   "source": [
    "ln.settings.upon_create_search_name = False\n",
    "\n",
    "experiments = []\n",
    "for name in meta[\"experiment\"].unique():\n",
    "    record = ln1.Experiment(name=name, description=\"RxRx1\")\n",
    "    experiments.append(record)\n",
    "\n",
    "ln.save(experiments)\n",
    "\n",
    "ln.settings.upon_create_search_name = True"
   ]
  },
  {
   "cell_type": "markdown",
   "id": "450de01b",
   "metadata": {},
   "source": [
    "### `plate`"
   ]
  },
  {
   "cell_type": "code",
   "execution_count": 18,
   "id": "c71cf241",
   "metadata": {},
   "outputs": [],
   "source": [
    "is_plate = ln.ULabel(name=\"is_plate\", description=\"parent of plates\")\n",
    "is_plate.save()"
   ]
  },
  {
   "cell_type": "code",
   "execution_count": 19,
   "id": "aea0fa39",
   "metadata": {},
   "outputs": [],
   "source": [
    "plates = []\n",
    "for name in meta[\"plate\"].unique():\n",
    "    record = ln.ULabel(name=f\"Plate{name}\")\n",
    "    plates.append(record)\n",
    "\n",
    "ln.save(plates)\n",
    "is_plate.children.set(plates)"
   ]
  },
  {
   "cell_type": "code",
   "execution_count": 20,
   "id": "35e6fe22",
   "metadata": {},
   "outputs": [
    {
     "data": {
      "image/svg+xml": [
       "<?xml version=\"1.0\" encoding=\"UTF-8\" standalone=\"no\"?>\n",
       "<!DOCTYPE svg PUBLIC \"-//W3C//DTD SVG 1.1//EN\"\n",
       " \"http://www.w3.org/Graphics/SVG/1.1/DTD/svg11.dtd\">\n",
       "<!-- Generated by graphviz version 8.1.0 (20230707.0739)\n",
       " -->\n",
       "<!-- Title: 5VJxTeKw Pages: 1 -->\n",
       "<svg width=\"278pt\" height=\"116pt\"\n",
       " viewBox=\"0.00 0.00 278.00 116.00\" xmlns=\"http://www.w3.org/2000/svg\" xmlns:xlink=\"http://www.w3.org/1999/xlink\">\n",
       "<g id=\"graph0\" class=\"graph\" transform=\"scale(1 1) rotate(0) translate(4 112)\">\n",
       "<title>5VJxTeKw</title>\n",
       "<polygon fill=\"white\" stroke=\"none\" points=\"-4,4 -4,-112 274,-112 274,4 -4,4\"/>\n",
       "<!-- 5VJxTeKw -->\n",
       "<g id=\"node1\" class=\"node\">\n",
       "<title>5VJxTeKw</title>\n",
       "<path fill=\"#10b981\" stroke=\"#065f46\" d=\"M150,-108C150,-108 120,-108 120,-108 114,-108 108,-102 108,-96 108,-96 108,-84 108,-84 108,-78 114,-72 120,-72 120,-72 150,-72 150,-72 156,-72 162,-78 162,-84 162,-84 162,-96 162,-96 162,-102 156,-108 150,-108\"/>\n",
       "<text text-anchor=\"middle\" x=\"135\" y=\"-86.12\" font-family=\"Helvetica,sans-Serif\" font-size=\"10.00\">is_plate</text>\n",
       "</g>\n",
       "<!-- Cn2fXptO -->\n",
       "<g id=\"node2\" class=\"node\">\n",
       "<title>Cn2fXptO</title>\n",
       "<path fill=\"honeydew\" stroke=\"#065f46\" d=\"M42,-36C42,-36 12,-36 12,-36 6,-36 0,-30 0,-24 0,-24 0,-12 0,-12 0,-6 6,0 12,0 12,0 42,0 42,0 48,0 54,-6 54,-12 54,-12 54,-24 54,-24 54,-30 48,-36 42,-36\"/>\n",
       "<text text-anchor=\"middle\" x=\"27\" y=\"-14.12\" font-family=\"Helvetica,sans-Serif\" font-size=\"10.00\">Plate1</text>\n",
       "</g>\n",
       "<!-- 5VJxTeKw&#45;&gt;Cn2fXptO -->\n",
       "<g id=\"edge1\" class=\"edge\">\n",
       "<title>5VJxTeKw&#45;&gt;Cn2fXptO</title>\n",
       "<path fill=\"none\" stroke=\"dimgrey\" d=\"M108.03,-71.52C92.96,-61.75 74.12,-49.54 58.4,-39.35\"/>\n",
       "<polygon fill=\"dimgrey\" stroke=\"dimgrey\" points=\"59.78,-37.51 54.63,-36.26 57.87,-40.45 59.78,-37.51\"/>\n",
       "</g>\n",
       "<!-- GryN8NHs -->\n",
       "<g id=\"node3\" class=\"node\">\n",
       "<title>GryN8NHs</title>\n",
       "<path fill=\"honeydew\" stroke=\"#065f46\" d=\"M114,-36C114,-36 84,-36 84,-36 78,-36 72,-30 72,-24 72,-24 72,-12 72,-12 72,-6 78,0 84,0 84,0 114,0 114,0 120,0 126,-6 126,-12 126,-12 126,-24 126,-24 126,-30 120,-36 114,-36\"/>\n",
       "<text text-anchor=\"middle\" x=\"99\" y=\"-14.12\" font-family=\"Helvetica,sans-Serif\" font-size=\"10.00\">Plate2</text>\n",
       "</g>\n",
       "<!-- 5VJxTeKw&#45;&gt;GryN8NHs -->\n",
       "<g id=\"edge2\" class=\"edge\">\n",
       "<title>5VJxTeKw&#45;&gt;GryN8NHs</title>\n",
       "<path fill=\"none\" stroke=\"dimgrey\" d=\"M126.1,-71.7C121.39,-62.54 115.56,-51.19 110.51,-41.38\"/>\n",
       "<polygon fill=\"dimgrey\" stroke=\"dimgrey\" points=\"111.64,-40.75 107.8,-37.1 108.53,-42.35 111.64,-40.75\"/>\n",
       "</g>\n",
       "<!-- Pq0jZms9 -->\n",
       "<g id=\"node4\" class=\"node\">\n",
       "<title>Pq0jZms9</title>\n",
       "<path fill=\"honeydew\" stroke=\"#065f46\" d=\"M186,-36C186,-36 156,-36 156,-36 150,-36 144,-30 144,-24 144,-24 144,-12 144,-12 144,-6 150,0 156,0 156,0 186,0 186,0 192,0 198,-6 198,-12 198,-12 198,-24 198,-24 198,-30 192,-36 186,-36\"/>\n",
       "<text text-anchor=\"middle\" x=\"171\" y=\"-14.12\" font-family=\"Helvetica,sans-Serif\" font-size=\"10.00\">Plate4</text>\n",
       "</g>\n",
       "<!-- 5VJxTeKw&#45;&gt;Pq0jZms9 -->\n",
       "<g id=\"edge3\" class=\"edge\">\n",
       "<title>5VJxTeKw&#45;&gt;Pq0jZms9</title>\n",
       "<path fill=\"none\" stroke=\"dimgrey\" d=\"M143.9,-71.7C148.61,-62.54 154.44,-51.19 159.49,-41.38\"/>\n",
       "<polygon fill=\"dimgrey\" stroke=\"dimgrey\" points=\"161.47,-42.35 162.2,-37.1 158.36,-40.75 161.47,-42.35\"/>\n",
       "</g>\n",
       "<!-- vgkMdSrS -->\n",
       "<g id=\"node5\" class=\"node\">\n",
       "<title>vgkMdSrS</title>\n",
       "<path fill=\"honeydew\" stroke=\"#065f46\" d=\"M258,-36C258,-36 228,-36 228,-36 222,-36 216,-30 216,-24 216,-24 216,-12 216,-12 216,-6 222,0 228,0 228,0 258,0 258,0 264,0 270,-6 270,-12 270,-12 270,-24 270,-24 270,-30 264,-36 258,-36\"/>\n",
       "<text text-anchor=\"middle\" x=\"243\" y=\"-14.12\" font-family=\"Helvetica,sans-Serif\" font-size=\"10.00\">Plate3</text>\n",
       "</g>\n",
       "<!-- 5VJxTeKw&#45;&gt;vgkMdSrS -->\n",
       "<g id=\"edge4\" class=\"edge\">\n",
       "<title>5VJxTeKw&#45;&gt;vgkMdSrS</title>\n",
       "<path fill=\"none\" stroke=\"dimgrey\" d=\"M161.97,-71.52C177.04,-61.75 195.88,-49.54 211.6,-39.35\"/>\n",
       "<polygon fill=\"dimgrey\" stroke=\"dimgrey\" points=\"212.13,-40.45 215.37,-36.26 210.22,-37.51 212.13,-40.45\"/>\n",
       "</g>\n",
       "</g>\n",
       "</svg>\n"
      ],
      "text/plain": [
       "<graphviz.graphs.Digraph at 0x119034c70>"
      ]
     },
     "metadata": {},
     "output_type": "display_data"
    }
   ],
   "source": [
    "is_plate.view_parents(with_children=True)"
   ]
  },
  {
   "cell_type": "markdown",
   "id": "eb573cf8",
   "metadata": {},
   "source": [
    "### `well`"
   ]
  },
  {
   "attachments": {},
   "cell_type": "markdown",
   "id": "80198d9f-dd52-476f-8333-c2742af9c38f",
   "metadata": {},
   "source": [
    "We might also want to add the well information, so that we can link image files and parse images based on well coordinates. To do this, let's first extract well locations from the table:"
   ]
  },
  {
   "cell_type": "code",
   "execution_count": 21,
   "id": "0614c46a-d8f6-40db-be75-acf31411a43c",
   "metadata": {
    "tags": []
   },
   "outputs": [],
   "source": [
    "ln.settings.upon_create_search_name = False\n",
    "\n",
    "wells = []\n",
    "for well in meta[\"well\"].unique():\n",
    "    wells.append(ln1.Well(name=well, row=well[0], column=int(well[1:])))\n",
    "\n",
    "ln.save(wells)\n",
    "\n",
    "ln.settings.upon_create_search_name = True"
   ]
  },
  {
   "cell_type": "markdown",
   "id": "c7903ed3",
   "metadata": {},
   "source": [
    "### `site`"
   ]
  },
  {
   "cell_type": "code",
   "execution_count": 22,
   "id": "fe53232f",
   "metadata": {},
   "outputs": [],
   "source": [
    "is_site = ln.ULabel(name=\"is_site\", description=\"parent of sites\")\n",
    "is_site.save()"
   ]
  },
  {
   "cell_type": "code",
   "execution_count": 23,
   "id": "bc4bb354",
   "metadata": {},
   "outputs": [],
   "source": [
    "sites = []\n",
    "for name in meta[\"site\"].unique():\n",
    "    record = ln.ULabel(name=f\"Site{name}\")\n",
    "    sites.append(record)\n",
    "\n",
    "ln.save(sites)\n",
    "is_site.children.set(sites)"
   ]
  },
  {
   "cell_type": "code",
   "execution_count": 24,
   "id": "50d55873",
   "metadata": {},
   "outputs": [
    {
     "data": {
      "image/svg+xml": [
       "<?xml version=\"1.0\" encoding=\"UTF-8\" standalone=\"no\"?>\n",
       "<!DOCTYPE svg PUBLIC \"-//W3C//DTD SVG 1.1//EN\"\n",
       " \"http://www.w3.org/Graphics/SVG/1.1/DTD/svg11.dtd\">\n",
       "<!-- Generated by graphviz version 8.1.0 (20230707.0739)\n",
       " -->\n",
       "<!-- Title: HOE4qw5S Pages: 1 -->\n",
       "<svg width=\"134pt\" height=\"116pt\"\n",
       " viewBox=\"0.00 0.00 134.00 116.00\" xmlns=\"http://www.w3.org/2000/svg\" xmlns:xlink=\"http://www.w3.org/1999/xlink\">\n",
       "<g id=\"graph0\" class=\"graph\" transform=\"scale(1 1) rotate(0) translate(4 112)\">\n",
       "<title>HOE4qw5S</title>\n",
       "<polygon fill=\"white\" stroke=\"none\" points=\"-4,4 -4,-112 130,-112 130,4 -4,4\"/>\n",
       "<!-- HOE4qw5S -->\n",
       "<g id=\"node1\" class=\"node\">\n",
       "<title>HOE4qw5S</title>\n",
       "<path fill=\"#10b981\" stroke=\"#065f46\" d=\"M78,-108C78,-108 48,-108 48,-108 42,-108 36,-102 36,-96 36,-96 36,-84 36,-84 36,-78 42,-72 48,-72 48,-72 78,-72 78,-72 84,-72 90,-78 90,-84 90,-84 90,-96 90,-96 90,-102 84,-108 78,-108\"/>\n",
       "<text text-anchor=\"middle\" x=\"63\" y=\"-86.12\" font-family=\"Helvetica,sans-Serif\" font-size=\"10.00\">is_site</text>\n",
       "</g>\n",
       "<!-- 7IkJChyp -->\n",
       "<g id=\"node2\" class=\"node\">\n",
       "<title>7IkJChyp</title>\n",
       "<path fill=\"honeydew\" stroke=\"#065f46\" d=\"M42,-36C42,-36 12,-36 12,-36 6,-36 0,-30 0,-24 0,-24 0,-12 0,-12 0,-6 6,0 12,0 12,0 42,0 42,0 48,0 54,-6 54,-12 54,-12 54,-24 54,-24 54,-30 48,-36 42,-36\"/>\n",
       "<text text-anchor=\"middle\" x=\"27\" y=\"-14.12\" font-family=\"Helvetica,sans-Serif\" font-size=\"10.00\">Site2</text>\n",
       "</g>\n",
       "<!-- HOE4qw5S&#45;&gt;7IkJChyp -->\n",
       "<g id=\"edge1\" class=\"edge\">\n",
       "<title>HOE4qw5S&#45;&gt;7IkJChyp</title>\n",
       "<path fill=\"none\" stroke=\"dimgrey\" d=\"M54.1,-71.7C49.39,-62.54 43.56,-51.19 38.51,-41.38\"/>\n",
       "<polygon fill=\"dimgrey\" stroke=\"dimgrey\" points=\"39.64,-40.75 35.8,-37.1 36.53,-42.35 39.64,-40.75\"/>\n",
       "</g>\n",
       "<!-- 96nObMLM -->\n",
       "<g id=\"node3\" class=\"node\">\n",
       "<title>96nObMLM</title>\n",
       "<path fill=\"honeydew\" stroke=\"#065f46\" d=\"M114,-36C114,-36 84,-36 84,-36 78,-36 72,-30 72,-24 72,-24 72,-12 72,-12 72,-6 78,0 84,0 84,0 114,0 114,0 120,0 126,-6 126,-12 126,-12 126,-24 126,-24 126,-30 120,-36 114,-36\"/>\n",
       "<text text-anchor=\"middle\" x=\"99\" y=\"-14.12\" font-family=\"Helvetica,sans-Serif\" font-size=\"10.00\">Site1</text>\n",
       "</g>\n",
       "<!-- HOE4qw5S&#45;&gt;96nObMLM -->\n",
       "<g id=\"edge2\" class=\"edge\">\n",
       "<title>HOE4qw5S&#45;&gt;96nObMLM</title>\n",
       "<path fill=\"none\" stroke=\"dimgrey\" d=\"M71.9,-71.7C76.61,-62.54 82.44,-51.19 87.49,-41.38\"/>\n",
       "<polygon fill=\"dimgrey\" stroke=\"dimgrey\" points=\"89.47,-42.35 90.2,-37.1 86.36,-40.75 89.47,-42.35\"/>\n",
       "</g>\n",
       "</g>\n",
       "</svg>\n"
      ],
      "text/plain": [
       "<graphviz.graphs.Digraph at 0x164ef5dc0>"
      ]
     },
     "metadata": {},
     "output_type": "display_data"
    }
   ],
   "source": [
    "is_site.view_parents(with_children=True)"
   ]
  },
  {
   "cell_type": "markdown",
   "id": "b84b665c",
   "metadata": {},
   "source": [
    "### `well_type`"
   ]
  },
  {
   "cell_type": "code",
   "execution_count": 25,
   "id": "d5d846c3",
   "metadata": {},
   "outputs": [],
   "source": [
    "is_well_type = ln.ULabel(name=\"is_well_type\", description=\"parent of well types\")\n",
    "is_well_type.save()"
   ]
  },
  {
   "cell_type": "code",
   "execution_count": 26,
   "id": "05cd6429",
   "metadata": {},
   "outputs": [],
   "source": [
    "well_types = []\n",
    "for name in meta[\"well_type\"].unique():\n",
    "    record = ln.ULabel(name=name)\n",
    "    well_types.append(record)\n",
    "\n",
    "ln.save(well_types)\n",
    "is_well_type.children.set(well_types)"
   ]
  },
  {
   "cell_type": "code",
   "execution_count": 27,
   "id": "fdb3802b",
   "metadata": {},
   "outputs": [
    {
     "data": {
      "image/svg+xml": [
       "<?xml version=\"1.0\" encoding=\"UTF-8\" standalone=\"no\"?>\n",
       "<!DOCTYPE svg PUBLIC \"-//W3C//DTD SVG 1.1//EN\"\n",
       " \"http://www.w3.org/Graphics/SVG/1.1/DTD/svg11.dtd\">\n",
       "<!-- Generated by graphviz version 8.1.0 (20230707.0739)\n",
       " -->\n",
       "<!-- Title: aF0WdPu6 Pages: 1 -->\n",
       "<svg width=\"273pt\" height=\"116pt\"\n",
       " viewBox=\"0.00 0.00 273.25 116.00\" xmlns=\"http://www.w3.org/2000/svg\" xmlns:xlink=\"http://www.w3.org/1999/xlink\">\n",
       "<g id=\"graph0\" class=\"graph\" transform=\"scale(1 1) rotate(0) translate(4 112)\">\n",
       "<title>aF0WdPu6</title>\n",
       "<polygon fill=\"white\" stroke=\"none\" points=\"-4,4 -4,-112 269.25,-112 269.25,4 -4,4\"/>\n",
       "<!-- aF0WdPu6 -->\n",
       "<g id=\"node1\" class=\"node\">\n",
       "<title>aF0WdPu6</title>\n",
       "<path fill=\"#10b981\" stroke=\"#065f46\" d=\"M140.62,-108C140.62,-108 94.62,-108 94.62,-108 88.62,-108 82.62,-102 82.62,-96 82.62,-96 82.62,-84 82.62,-84 82.62,-78 88.62,-72 94.62,-72 94.62,-72 140.62,-72 140.62,-72 146.62,-72 152.62,-78 152.62,-84 152.62,-84 152.62,-96 152.62,-96 152.62,-102 146.62,-108 140.62,-108\"/>\n",
       "<text text-anchor=\"middle\" x=\"117.62\" y=\"-86.12\" font-family=\"Helvetica,sans-Serif\" font-size=\"10.00\">is_well_type</text>\n",
       "</g>\n",
       "<!-- 5HldybEl -->\n",
       "<g id=\"node2\" class=\"node\">\n",
       "<title>5HldybEl</title>\n",
       "<path fill=\"honeydew\" stroke=\"#065f46\" d=\"M45.25,-36C45.25,-36 12,-36 12,-36 6,-36 0,-30 0,-24 0,-24 0,-12 0,-12 0,-6 6,0 12,0 12,0 45.25,0 45.25,0 51.25,0 57.25,-6 57.25,-12 57.25,-12 57.25,-24 57.25,-24 57.25,-30 51.25,-36 45.25,-36\"/>\n",
       "<text text-anchor=\"middle\" x=\"28.62\" y=\"-14.12\" font-family=\"Helvetica,sans-Serif\" font-size=\"10.00\">treatment</text>\n",
       "</g>\n",
       "<!-- aF0WdPu6&#45;&gt;5HldybEl -->\n",
       "<g id=\"edge1\" class=\"edge\">\n",
       "<title>aF0WdPu6&#45;&gt;5HldybEl</title>\n",
       "<path fill=\"none\" stroke=\"dimgrey\" d=\"M95.62,-71.7C83.43,-62.11 68.18,-50.11 55.3,-39.98\"/>\n",
       "<polygon fill=\"dimgrey\" stroke=\"dimgrey\" points=\"56.69,-38.06 51.68,-36.35 54.53,-40.81 56.69,-38.06\"/>\n",
       "</g>\n",
       "<!-- DOi30cHJ -->\n",
       "<g id=\"node3\" class=\"node\">\n",
       "<title>DOi30cHJ</title>\n",
       "<path fill=\"honeydew\" stroke=\"#065f46\" d=\"M147.75,-36C147.75,-36 87.5,-36 87.5,-36 81.5,-36 75.5,-30 75.5,-24 75.5,-24 75.5,-12 75.5,-12 75.5,-6 81.5,0 87.5,0 87.5,0 147.75,0 147.75,0 153.75,0 159.75,-6 159.75,-12 159.75,-12 159.75,-24 159.75,-24 159.75,-30 153.75,-36 147.75,-36\"/>\n",
       "<text text-anchor=\"middle\" x=\"117.62\" y=\"-14.12\" font-family=\"Helvetica,sans-Serif\" font-size=\"10.00\">positive_control</text>\n",
       "</g>\n",
       "<!-- aF0WdPu6&#45;&gt;DOi30cHJ -->\n",
       "<g id=\"edge2\" class=\"edge\">\n",
       "<title>aF0WdPu6&#45;&gt;DOi30cHJ</title>\n",
       "<path fill=\"none\" stroke=\"dimgrey\" d=\"M117.62,-71.7C117.62,-62.71 117.62,-51.61 117.62,-41.92\"/>\n",
       "<polygon fill=\"dimgrey\" stroke=\"dimgrey\" points=\"119.38,-42.1 117.62,-37.1 115.88,-42.1 119.38,-42.1\"/>\n",
       "</g>\n",
       "<!-- dhRmU3Ks -->\n",
       "<g id=\"node4\" class=\"node\">\n",
       "<title>dhRmU3Ks</title>\n",
       "<path fill=\"honeydew\" stroke=\"#065f46\" d=\"M253.25,-36C253.25,-36 190,-36 190,-36 184,-36 178,-30 178,-24 178,-24 178,-12 178,-12 178,-6 184,0 190,0 190,0 253.25,0 253.25,0 259.25,0 265.25,-6 265.25,-12 265.25,-12 265.25,-24 265.25,-24 265.25,-30 259.25,-36 253.25,-36\"/>\n",
       "<text text-anchor=\"middle\" x=\"221.62\" y=\"-14.12\" font-family=\"Helvetica,sans-Serif\" font-size=\"10.00\">negative_control</text>\n",
       "</g>\n",
       "<!-- aF0WdPu6&#45;&gt;dhRmU3Ks -->\n",
       "<g id=\"edge3\" class=\"edge\">\n",
       "<title>aF0WdPu6&#45;&gt;dhRmU3Ks</title>\n",
       "<path fill=\"none\" stroke=\"dimgrey\" d=\"M143.6,-71.52C158.1,-61.75 176.25,-49.54 191.39,-39.35\"/>\n",
       "<polygon fill=\"dimgrey\" stroke=\"dimgrey\" points=\"191.81,-40.5 194.98,-36.26 189.86,-37.6 191.81,-40.5\"/>\n",
       "</g>\n",
       "</g>\n",
       "</svg>\n"
      ],
      "text/plain": [
       "<graphviz.graphs.Digraph at 0x164ef5cd0>"
      ]
     },
     "metadata": {},
     "output_type": "display_data"
    }
   ],
   "source": [
    "is_well_type.view_parents(with_children=True)"
   ]
  },
  {
   "cell_type": "markdown",
   "id": "a868cc17",
   "metadata": {},
   "source": [
    "### `sirna`"
   ]
  },
  {
   "attachments": {},
   "cell_type": "markdown",
   "id": "dc821ebd",
   "metadata": {},
   "source": [
    "add sirna to Treatment table:"
   ]
  },
  {
   "cell_type": "code",
   "execution_count": 28,
   "id": "3f029d5c",
   "metadata": {},
   "outputs": [],
   "source": [
    "ln.settings.upon_create_search_name = False\n",
    "\n",
    "sirnas = []\n",
    "for sirna in meta[\"sirna\"].unique():\n",
    "    record = ln1.Treatment(\n",
    "        name=sirna,\n",
    "        type=\"genetic\",\n",
    "        system=\"siRNA\",\n",
    "        description=\"ThermoFisher ID of siRNA\",\n",
    "    )\n",
    "    sirnas.append(record)\n",
    "\n",
    "ln.save(sirnas)\n",
    "\n",
    "ln.settings.upon_create_search_name = True"
   ]
  },
  {
   "cell_type": "markdown",
   "id": "860ecbd9",
   "metadata": {},
   "source": [
    "### assay/readout"
   ]
  },
  {
   "cell_type": "markdown",
   "id": "64c2b39a",
   "metadata": {},
   "source": [
    "We can do the same for other ontologies that we are interested to curate. For example, the type of readout. We are going to choose the \"high content screen\" readout."
   ]
  },
  {
   "cell_type": "code",
   "execution_count": 29,
   "id": "272bc79a",
   "metadata": {},
   "outputs": [],
   "source": [
    "ln.Feature(name=\"assay\", type=\"category\").save()"
   ]
  },
  {
   "cell_type": "code",
   "execution_count": 30,
   "id": "2d02a54f",
   "metadata": {},
   "outputs": [
    {
     "name": "stdout",
     "output_type": "stream",
     "text": [
      "✅ created \u001b[1;95m1 ExperimentalFactor record from Bionty\u001b[0m matching \u001b[3mname\u001b[0m: \u001b[1;95m'high content screen'\u001b[0m\n"
     ]
    }
   ],
   "source": [
    "assay = lb.ExperimentalFactor.from_bionty(name=\"high content screen\")\n",
    "assay.save(parents=False)"
   ]
  },
  {
   "cell_type": "markdown",
   "id": "b4456cd5",
   "metadata": {},
   "source": [
    "### features"
   ]
  },
  {
   "cell_type": "code",
   "execution_count": 31,
   "id": "57013951",
   "metadata": {},
   "outputs": [],
   "source": [
    "var_features = ln.Feature.from_df(embedding)\n",
    "ln.save(var_features)"
   ]
  },
  {
   "cell_type": "code",
   "execution_count": 65,
   "id": "0c1b6bf5",
   "metadata": {},
   "outputs": [],
   "source": [
    "obs_features = ln.Feature.from_df(meta)\n",
    "ln.save(obs_features)"
   ]
  },
  {
   "cell_type": "code",
   "execution_count": 9,
   "id": "39860dea",
   "metadata": {},
   "outputs": [],
   "source": [
    "features = ln.Feature.lookup()"
   ]
  },
  {
   "cell_type": "markdown",
   "id": "31e0438b",
   "metadata": {},
   "source": [
    "## Register metadata as a parquet file:"
   ]
  },
  {
   "cell_type": "code",
   "execution_count": 11,
   "id": "0b80a2f0",
   "metadata": {},
   "outputs": [
    {
     "name": "stdout",
     "output_type": "stream",
     "text": [
      "💡 file will be copied to default storage upon `save()` with key 'rxrx1/metadata.parquet'\n",
      "✅ \u001b[1;92m12 terms\u001b[0m (100.00%) are validated for \u001b[3mname\u001b[0m\n"
     ]
    }
   ],
   "source": [
    "file_meta = ln.File.from_df(\n",
    "    meta,\n",
    "    field=ln.Feature.name,\n",
    "    key=\"rxrx1/metadata.parquet\",\n",
    "    description=\"Metadata with file paths for each RxRx1 image.\",\n",
    ")"
   ]
  },
  {
   "cell_type": "code",
   "execution_count": 12,
   "id": "2efaf071",
   "metadata": {},
   "outputs": [
    {
     "name": "stdout",
     "output_type": "stream",
     "text": [
      "✅ saved 1 feature set for slot: 'columns'\n",
      "✅ storing file 'F3QsPA8e5pAU1McW1EV5' at 'rxrx1/metadata.parquet'\n",
      "... uploading F3QsPA8e5pAU1McW1EV5.parquet: 1.00\n",
      "\r"
     ]
    }
   ],
   "source": [
    "file_meta.save()"
   ]
  },
  {
   "cell_type": "code",
   "execution_count": 11,
   "id": "1b4025ed",
   "metadata": {},
   "outputs": [],
   "source": [
    "# obs\n",
    "file_meta.labels.add(cell_lines, features.cell_type)\n",
    "file_meta.labels.add(train_test, features.dataset)\n",
    "file_meta.labels.add(experiments, features.experiment)\n",
    "file_meta.labels.add(plates, features.plate)\n",
    "file_meta.labels.add(wells, features.well)\n",
    "file_meta.labels.add(sites, features.site)\n",
    "file_meta.labels.add(well_types, features.well_type)\n",
    "file_meta.labels.add(sirnas, features.sirna)\n",
    "# external\n",
    "file_meta.labels.add(assay, features.assay)"
   ]
  },
  {
   "cell_type": "markdown",
   "id": "d5ac619e",
   "metadata": {},
   "source": [
    "## Create `AnnData` object for embeddings and metadata"
   ]
  },
  {
   "cell_type": "code",
   "execution_count": 66,
   "id": "07ff69c5",
   "metadata": {},
   "outputs": [],
   "source": [
    "adata = ad.AnnData(embedding)\n",
    "adata.obs = meta.set_index(\"site_id\").loc[adata.obs.index]"
   ]
  },
  {
   "cell_type": "code",
   "execution_count": 67,
   "id": "7c8a63ab",
   "metadata": {},
   "outputs": [
    {
     "data": {
      "text/plain": [
       "AnnData object with n_obs × n_vars = 125510 × 128\n",
       "    obs: 'well_id', 'cell_type', 'dataset', 'experiment', 'plate', 'well', 'site', 'well_type', 'sirna', 'sirna_id', 'file_keys'"
      ]
     },
     "execution_count": 67,
     "metadata": {},
     "output_type": "execute_result"
    }
   ],
   "source": [
    "adata"
   ]
  },
  {
   "attachments": {},
   "cell_type": "markdown",
   "id": "496f4f2c",
   "metadata": {},
   "source": [
    "## Register AnnData and link to metadata records"
   ]
  },
  {
   "cell_type": "code",
   "execution_count": 74,
   "id": "dbf78ad4",
   "metadata": {},
   "outputs": [
    {
     "name": "stdout",
     "output_type": "stream",
     "text": [
      "💡 file will be copied to default storage upon `save()` with key 'rxrx1/embeddings.h5ad'\n",
      "💡 parsing feature names of X stored in slot 'var'\n",
      "✅    \u001b[1;92m128 terms\u001b[0m (100.00%) are validated for \u001b[3mname\u001b[0m\n",
      "✅    loaded: FeatureSet(id='bcFh49e3BDYaSD4zgfjP', n=128, type='number', registry='core.Feature', hash='egYMAVrfSHIzTcpaI4OA', updated_at=2023-09-19 11:04:00, created_by_id='kmvZDIX9')\n",
      "✅    linked: FeatureSet(id='bcFh49e3BDYaSD4zgfjP', n=128, type='number', registry='core.Feature', hash='egYMAVrfSHIzTcpaI4OA', updated_at=2023-09-19 11:04:00, created_by_id='kmvZDIX9')\n",
      "💡 parsing feature names of slot 'obs'\n",
      "✅    \u001b[1;92m11 terms\u001b[0m (100.00%) are validated for \u001b[3mname\u001b[0m\n",
      "✅    loaded: FeatureSet(id='rNhSgklulPk78bxTh3KA', n=11, registry='core.Feature', hash='eKK6LQlam2QPv1E6XAhl', updated_at=2023-09-19 11:44:19, modality_id='DpjC4gSK', created_by_id='kmvZDIX9')\n",
      "✅    linked: FeatureSet(id='rNhSgklulPk78bxTh3KA', n=11, registry='core.Feature', hash='eKK6LQlam2QPv1E6XAhl', updated_at=2023-09-19 11:44:19, modality_id='DpjC4gSK', created_by_id='kmvZDIX9')\n"
     ]
    }
   ],
   "source": [
    "file = ln.File.from_anndata(\n",
    "    adata,\n",
    "    field=ln.Feature.name,\n",
    "    key=\"rxrx1/embeddings.h5ad\",\n",
    "    description=\"Metadata annotated deep learning embeddings for each RxRx1 image.\",\n",
    ")"
   ]
  },
  {
   "cell_type": "code",
   "execution_count": 75,
   "id": "c834964b",
   "metadata": {},
   "outputs": [
    {
     "name": "stdout",
     "output_type": "stream",
     "text": [
      "✅ storing file 'UPn1hQVAzQ5efRxF6ce5' at 'rxrx1/embeddings.h5ad'\n",
      "... uploading UPn1hQVAzQ5efRxF6ce5.h5ad: 1.00\n",
      "\r"
     ]
    }
   ],
   "source": [
    "file.save()"
   ]
  },
  {
   "cell_type": "code",
   "execution_count": 77,
   "id": "0bee5e51",
   "metadata": {},
   "outputs": [
    {
     "name": "stdout",
     "output_type": "stream",
     "text": [
      "✅ loaded: FeatureSet(id='gQ64vjd1rxzwLWpbejz9', n=1, registry='core.Feature', hash='FiJ4ucNfT44nBYrOzjqB', updated_at=2023-09-19 11:27:57, modality_id='DpjC4gSK', created_by_id='kmvZDIX9')\n",
      "✅ linked new feature 'assay' together with new feature set FeatureSet(id='gQ64vjd1rxzwLWpbejz9', n=1, registry='core.Feature', hash='FiJ4ucNfT44nBYrOzjqB', updated_at=2023-09-19 11:47:02, modality_id='DpjC4gSK', created_by_id='kmvZDIX9')\n"
     ]
    }
   ],
   "source": [
    "# obs\n",
    "file.labels.add(cell_lines, features.cell_type)\n",
    "file.labels.add(train_test, features.dataset)\n",
    "file.labels.add(experiments, features.experiment)\n",
    "file.labels.add(plates, features.plate)\n",
    "file.labels.add(wells, features.well)\n",
    "file.labels.add(sites, features.site)\n",
    "file.labels.add(well_types, features.well_type)\n",
    "file.labels.add(sirnas, features.sirna)\n",
    "# external\n",
    "file.labels.add(assay, features.assay)"
   ]
  },
  {
   "cell_type": "code",
   "execution_count": 78,
   "id": "c02397c0",
   "metadata": {},
   "outputs": [
    {
     "data": {
      "text/plain": [
       "\u001b[1;92mLabels\u001b[0m:\n",
       "  🏷️ cell_lines (4, \u001b[3mbionty.CellLine\u001b[0m): 'HUV-EC-C cell', 'U-2 OS cell', 'hTERT RPE-1 cell', 'Hep G2 cell'\n",
       "  🏷️ experimental_factors (1, \u001b[3mbionty.ExperimentalFactor\u001b[0m): 'high content screen'\n",
       "  🏷️ experiments (51, \u001b[3mlamin1.Experiment\u001b[0m): 'HUVEC-08', 'U2OS-03', 'HUVEC-11', 'HUVEC-12', 'HUVEC-09', 'U2OS-04', 'RPE-11', 'HEPG2-06', 'HUVEC-13', 'RPE-05', ...\n",
       "  🏷️ wells (308, \u001b[3mlamin1.Well\u001b[0m): 'L17', 'L16', 'F21', 'E14', 'G15', 'F13', 'L09', 'G08', 'F15', 'B05', ...\n",
       "  🏷️ treatments (1139, \u001b[3mlamin1.Treatment\u001b[0m): 's20985', 's228529', 's18905', 's36915', 's18325', 's21704', 's28390', 's27766', 's36286', 's39443', ...\n",
       "  🏷️ ulabels (11, \u001b[3mcore.ULabel\u001b[0m): 'test', 'treatment', 'Site2', 'Site1', 'Plate1', 'positive_control', 'Plate2', 'Plate4', 'negative_control', 'train', ..."
      ]
     },
     "execution_count": 78,
     "metadata": {},
     "output_type": "execute_result"
    }
   ],
   "source": [
    "file.labels"
   ]
  },
  {
   "cell_type": "code",
   "execution_count": 79,
   "id": "55c2de13",
   "metadata": {},
   "outputs": [
    {
     "data": {
      "text/plain": [
       "\u001b[1;92mFeatures\u001b[0m:\n",
       "  \u001b[1mvar\u001b[0m: FeatureSet(id='bcFh49e3BDYaSD4zgfjP', n=128, type='number', registry='core.Feature', hash='egYMAVrfSHIzTcpaI4OA', updated_at=2023-09-19 11:04:00, created_by_id='kmvZDIX9')\n",
       "    feature_93 (number)\n",
       "    feature_105 (number)\n",
       "    feature_116 (number)\n",
       "    feature_23 (number)\n",
       "    feature_50 (number)\n",
       "    feature_27 (number)\n",
       "    feature_37 (number)\n",
       "    feature_1 (number)\n",
       "    feature_81 (number)\n",
       "    feature_0 (number)\n",
       "    feature_119 (number)\n",
       "    feature_125 (number)\n",
       "    feature_47 (number)\n",
       "    feature_8 (number)\n",
       "    feature_126 (number)\n",
       "    feature_11 (number)\n",
       "    feature_75 (number)\n",
       "    feature_16 (number)\n",
       "    feature_63 (number)\n",
       "    feature_113 (number)\n",
       "    feature_71 (number)\n",
       "    feature_4 (number)\n",
       "    feature_60 (number)\n",
       "    feature_118 (number)\n",
       "    feature_112 (number)\n",
       "    feature_123 (number)\n",
       "    feature_69 (number)\n",
       "    feature_51 (number)\n",
       "    feature_53 (number)\n",
       "    feature_73 (number)\n",
       "    feature_14 (number)\n",
       "    feature_86 (number)\n",
       "    feature_55 (number)\n",
       "    feature_77 (number)\n",
       "    feature_65 (number)\n",
       "    feature_109 (number)\n",
       "    feature_79 (number)\n",
       "    feature_114 (number)\n",
       "    feature_6 (number)\n",
       "    feature_48 (number)\n",
       "    feature_102 (number)\n",
       "    feature_90 (number)\n",
       "    feature_52 (number)\n",
       "    feature_58 (number)\n",
       "    feature_62 (number)\n",
       "    feature_103 (number)\n",
       "    feature_40 (number)\n",
       "    feature_45 (number)\n",
       "    feature_3 (number)\n",
       "    feature_66 (number)\n",
       "    feature_91 (number)\n",
       "    feature_49 (number)\n",
       "    feature_42 (number)\n",
       "    feature_110 (number)\n",
       "    feature_34 (number)\n",
       "    feature_25 (number)\n",
       "    feature_29 (number)\n",
       "    feature_104 (number)\n",
       "    feature_28 (number)\n",
       "    feature_9 (number)\n",
       "    feature_74 (number)\n",
       "    feature_26 (number)\n",
       "    feature_38 (number)\n",
       "    feature_82 (number)\n",
       "    feature_17 (number)\n",
       "    feature_67 (number)\n",
       "    feature_99 (number)\n",
       "    feature_22 (number)\n",
       "    feature_56 (number)\n",
       "    feature_18 (number)\n",
       "    feature_21 (number)\n",
       "    feature_5 (number)\n",
       "    feature_15 (number)\n",
       "    feature_88 (number)\n",
       "    feature_111 (number)\n",
       "    feature_96 (number)\n",
       "    feature_20 (number)\n",
       "    feature_61 (number)\n",
       "    feature_85 (number)\n",
       "    feature_7 (number)\n",
       "    feature_54 (number)\n",
       "    feature_101 (number)\n",
       "    feature_41 (number)\n",
       "    feature_115 (number)\n",
       "    feature_35 (number)\n",
       "    feature_64 (number)\n",
       "    feature_78 (number)\n",
       "    feature_83 (number)\n",
       "    feature_33 (number)\n",
       "    feature_84 (number)\n",
       "    feature_98 (number)\n",
       "    feature_97 (number)\n",
       "    feature_89 (number)\n",
       "    feature_19 (number)\n",
       "    feature_59 (number)\n",
       "    feature_80 (number)\n",
       "    feature_12 (number)\n",
       "    feature_24 (number)\n",
       "    feature_76 (number)\n",
       "    feature_68 (number)\n",
       "    feature_10 (number)\n",
       "    feature_122 (number)\n",
       "    feature_39 (number)\n",
       "    feature_87 (number)\n",
       "    feature_44 (number)\n",
       "    feature_31 (number)\n",
       "    feature_57 (number)\n",
       "    feature_94 (number)\n",
       "    feature_92 (number)\n",
       "    feature_121 (number)\n",
       "    feature_127 (number)\n",
       "    feature_95 (number)\n",
       "    feature_106 (number)\n",
       "    feature_70 (number)\n",
       "    feature_100 (number)\n",
       "    feature_36 (number)\n",
       "    feature_72 (number)\n",
       "    feature_43 (number)\n",
       "    feature_2 (number)\n",
       "    feature_30 (number)\n",
       "    feature_120 (number)\n",
       "    feature_124 (number)\n",
       "    feature_117 (number)\n",
       "    feature_13 (number)\n",
       "    feature_108 (number)\n",
       "    feature_46 (number)\n",
       "    feature_32 (number)\n",
       "    feature_107 (number)\n",
       "  \u001b[1mobs\u001b[0m: FeatureSet(id='rNhSgklulPk78bxTh3KA', n=11, registry='core.Feature', hash='eKK6LQlam2QPv1E6XAhl', updated_at=2023-09-19 11:44:19, modality_id='DpjC4gSK', created_by_id='kmvZDIX9')\n",
       "    🔗 well_type (3, \u001b[3mcore.ULabel\u001b[0m): 'treatment', 'positive_control', 'negative_control'\n",
       "    sirna_id (category)\n",
       "    🔗 well (308, \u001b[3mlamin1.Well\u001b[0m): 'L17', 'L16', 'F21', 'E14', 'G15', 'F13', 'L09', 'G08', 'F15', 'B05', ...\n",
       "    🔗 plate (4, \u001b[3mcore.ULabel\u001b[0m): 'Plate1', 'Plate2', 'Plate4', 'Plate3'\n",
       "    🔗 site (2, \u001b[3mcore.ULabel\u001b[0m): 'Site2', 'Site1'\n",
       "    🔗 experiment (51, \u001b[3mlamin1.Experiment\u001b[0m): 'HUVEC-08', 'U2OS-03', 'HUVEC-11', 'HUVEC-12', 'HUVEC-09', 'U2OS-04', 'RPE-11', 'HEPG2-06', 'HUVEC-13', 'RPE-05', ...\n",
       "    well_id (category)\n",
       "    file_keys (object)\n",
       "    🔗 dataset (2, \u001b[3mcore.ULabel\u001b[0m): 'test', 'train'\n",
       "    🔗 cell_type (4, \u001b[3mbionty.CellLine\u001b[0m): 'HUV-EC-C cell', 'U-2 OS cell', 'hTERT RPE-1 cell', 'Hep G2 cell'\n",
       "    🔗 sirna (1139, \u001b[3mlamin1.Treatment\u001b[0m): 's20985', 's228529', 's18905', 's36915', 's18325', 's21704', 's28390', 's27766', 's36286', 's39443', ...\n",
       "  \u001b[1mexternal\u001b[0m: FeatureSet(id='gQ64vjd1rxzwLWpbejz9', n=1, registry='core.Feature', hash='FiJ4ucNfT44nBYrOzjqB', updated_at=2023-09-19 11:47:02, modality_id='DpjC4gSK', created_by_id='kmvZDIX9')\n",
       "    🔗 assay (1, \u001b[3mbionty.ExperimentalFactor\u001b[0m): 'high content screen'"
      ]
     },
     "execution_count": 79,
     "metadata": {},
     "output_type": "execute_result"
    }
   ],
   "source": [
    "file.features"
   ]
  },
  {
   "cell_type": "code",
   "execution_count": 80,
   "id": "dac3777a",
   "metadata": {},
   "outputs": [
    {
     "data": {
      "text/html": [
       "<div>\n",
       "<style scoped>\n",
       "    .dataframe tbody tr th:only-of-type {\n",
       "        vertical-align: middle;\n",
       "    }\n",
       "\n",
       "    .dataframe tbody tr th {\n",
       "        vertical-align: top;\n",
       "    }\n",
       "\n",
       "    .dataframe thead th {\n",
       "        text-align: right;\n",
       "    }\n",
       "</style>\n",
       "<table border=\"1\" class=\"dataframe\">\n",
       "  <thead>\n",
       "    <tr style=\"text-align: right;\">\n",
       "      <th></th>\n",
       "      <th>name</th>\n",
       "      <th>n</th>\n",
       "      <th>type</th>\n",
       "      <th>modality_id</th>\n",
       "      <th>registry</th>\n",
       "      <th>hash</th>\n",
       "      <th>updated_at</th>\n",
       "      <th>created_by_id</th>\n",
       "    </tr>\n",
       "    <tr>\n",
       "      <th>id</th>\n",
       "      <th></th>\n",
       "      <th></th>\n",
       "      <th></th>\n",
       "      <th></th>\n",
       "      <th></th>\n",
       "      <th></th>\n",
       "      <th></th>\n",
       "      <th></th>\n",
       "    </tr>\n",
       "  </thead>\n",
       "  <tbody>\n",
       "    <tr>\n",
       "      <th>bcFh49e3BDYaSD4zgfjP</th>\n",
       "      <td>None</td>\n",
       "      <td>128</td>\n",
       "      <td>number</td>\n",
       "      <td>None</td>\n",
       "      <td>core.Feature</td>\n",
       "      <td>egYMAVrfSHIzTcpaI4OA</td>\n",
       "      <td>2023-09-19 13:04:00</td>\n",
       "      <td>kmvZDIX9</td>\n",
       "    </tr>\n",
       "    <tr>\n",
       "      <th>gQ64vjd1rxzwLWpbejz9</th>\n",
       "      <td>None</td>\n",
       "      <td>1</td>\n",
       "      <td>None</td>\n",
       "      <td>DpjC4gSK</td>\n",
       "      <td>core.Feature</td>\n",
       "      <td>FiJ4ucNfT44nBYrOzjqB</td>\n",
       "      <td>2023-09-19 13:47:02</td>\n",
       "      <td>kmvZDIX9</td>\n",
       "    </tr>\n",
       "    <tr>\n",
       "      <th>rNhSgklulPk78bxTh3KA</th>\n",
       "      <td>None</td>\n",
       "      <td>11</td>\n",
       "      <td>None</td>\n",
       "      <td>DpjC4gSK</td>\n",
       "      <td>core.Feature</td>\n",
       "      <td>eKK6LQlam2QPv1E6XAhl</td>\n",
       "      <td>2023-09-19 13:44:19</td>\n",
       "      <td>kmvZDIX9</td>\n",
       "    </tr>\n",
       "  </tbody>\n",
       "</table>\n",
       "</div>"
      ],
      "text/plain": [
       "                      name    n    type modality_id      registry  \\\n",
       "id                                                                  \n",
       "bcFh49e3BDYaSD4zgfjP  None  128  number        None  core.Feature   \n",
       "gQ64vjd1rxzwLWpbejz9  None    1    None    DpjC4gSK  core.Feature   \n",
       "rNhSgklulPk78bxTh3KA  None   11    None    DpjC4gSK  core.Feature   \n",
       "\n",
       "                                      hash           updated_at created_by_id  \n",
       "id                                                                             \n",
       "bcFh49e3BDYaSD4zgfjP  egYMAVrfSHIzTcpaI4OA  2023-09-19 13:04:00      kmvZDIX9  \n",
       "gQ64vjd1rxzwLWpbejz9  FiJ4ucNfT44nBYrOzjqB  2023-09-19 13:47:02      kmvZDIX9  \n",
       "rNhSgklulPk78bxTh3KA  eKK6LQlam2QPv1E6XAhl  2023-09-19 13:44:19      kmvZDIX9  "
      ]
     },
     "execution_count": 80,
     "metadata": {},
     "output_type": "execute_result"
    }
   ],
   "source": [
    "file.feature_sets.df()"
   ]
  },
  {
   "cell_type": "code",
   "execution_count": 81,
   "id": "eaad66e1",
   "metadata": {},
   "outputs": [
    {
     "data": {
      "text/html": [
       "<div>\n",
       "<style scoped>\n",
       "    .dataframe tbody tr th:only-of-type {\n",
       "        vertical-align: middle;\n",
       "    }\n",
       "\n",
       "    .dataframe tbody tr th {\n",
       "        vertical-align: top;\n",
       "    }\n",
       "\n",
       "    .dataframe thead th {\n",
       "        text-align: right;\n",
       "    }\n",
       "</style>\n",
       "<table border=\"1\" class=\"dataframe\">\n",
       "  <thead>\n",
       "    <tr style=\"text-align: right;\">\n",
       "      <th></th>\n",
       "      <th>name</th>\n",
       "      <th>type</th>\n",
       "      <th>modality_id</th>\n",
       "      <th>unit</th>\n",
       "      <th>description</th>\n",
       "      <th>registries</th>\n",
       "      <th>synonyms</th>\n",
       "      <th>updated_at</th>\n",
       "      <th>created_by_id</th>\n",
       "    </tr>\n",
       "    <tr>\n",
       "      <th>id</th>\n",
       "      <th></th>\n",
       "      <th></th>\n",
       "      <th></th>\n",
       "      <th></th>\n",
       "      <th></th>\n",
       "      <th></th>\n",
       "      <th></th>\n",
       "      <th></th>\n",
       "      <th></th>\n",
       "    </tr>\n",
       "  </thead>\n",
       "  <tbody>\n",
       "    <tr>\n",
       "      <th>5RXkKRNY7BgV</th>\n",
       "      <td>well_type</td>\n",
       "      <td>category</td>\n",
       "      <td>None</td>\n",
       "      <td>None</td>\n",
       "      <td>None</td>\n",
       "      <td>core.ULabel</td>\n",
       "      <td>None</td>\n",
       "      <td>2023-09-19 13:44:19</td>\n",
       "      <td>kmvZDIX9</td>\n",
       "    </tr>\n",
       "    <tr>\n",
       "      <th>DUzDHbttLssA</th>\n",
       "      <td>sirna_id</td>\n",
       "      <td>category</td>\n",
       "      <td>None</td>\n",
       "      <td>None</td>\n",
       "      <td>None</td>\n",
       "      <td>None</td>\n",
       "      <td>None</td>\n",
       "      <td>2023-09-19 13:44:19</td>\n",
       "      <td>kmvZDIX9</td>\n",
       "    </tr>\n",
       "    <tr>\n",
       "      <th>3wuv7DCHL6CP</th>\n",
       "      <td>well</td>\n",
       "      <td>category</td>\n",
       "      <td>None</td>\n",
       "      <td>None</td>\n",
       "      <td>None</td>\n",
       "      <td>lamin1.Well</td>\n",
       "      <td>None</td>\n",
       "      <td>2023-09-19 13:47:01</td>\n",
       "      <td>kmvZDIX9</td>\n",
       "    </tr>\n",
       "    <tr>\n",
       "      <th>g6nY4RszJxf1</th>\n",
       "      <td>plate</td>\n",
       "      <td>category</td>\n",
       "      <td>None</td>\n",
       "      <td>None</td>\n",
       "      <td>None</td>\n",
       "      <td>core.ULabel</td>\n",
       "      <td>None</td>\n",
       "      <td>2023-09-19 13:47:01</td>\n",
       "      <td>kmvZDIX9</td>\n",
       "    </tr>\n",
       "    <tr>\n",
       "      <th>mXGssomIkT3O</th>\n",
       "      <td>site</td>\n",
       "      <td>category</td>\n",
       "      <td>None</td>\n",
       "      <td>None</td>\n",
       "      <td>None</td>\n",
       "      <td>core.ULabel</td>\n",
       "      <td>None</td>\n",
       "      <td>2023-09-19 13:47:01</td>\n",
       "      <td>kmvZDIX9</td>\n",
       "    </tr>\n",
       "    <tr>\n",
       "      <th>lul3qCosyI7A</th>\n",
       "      <td>experiment</td>\n",
       "      <td>category</td>\n",
       "      <td>None</td>\n",
       "      <td>None</td>\n",
       "      <td>None</td>\n",
       "      <td>lamin1.Experiment</td>\n",
       "      <td>None</td>\n",
       "      <td>2023-09-19 13:47:01</td>\n",
       "      <td>kmvZDIX9</td>\n",
       "    </tr>\n",
       "    <tr>\n",
       "      <th>led3PypVnP6j</th>\n",
       "      <td>well_id</td>\n",
       "      <td>category</td>\n",
       "      <td>None</td>\n",
       "      <td>None</td>\n",
       "      <td>None</td>\n",
       "      <td>None</td>\n",
       "      <td>None</td>\n",
       "      <td>2023-09-19 13:47:01</td>\n",
       "      <td>kmvZDIX9</td>\n",
       "    </tr>\n",
       "    <tr>\n",
       "      <th>fuG3rNZAUhHI</th>\n",
       "      <td>file_keys</td>\n",
       "      <td>object</td>\n",
       "      <td>None</td>\n",
       "      <td>None</td>\n",
       "      <td>None</td>\n",
       "      <td>None</td>\n",
       "      <td>None</td>\n",
       "      <td>2023-09-19 13:47:01</td>\n",
       "      <td>kmvZDIX9</td>\n",
       "    </tr>\n",
       "    <tr>\n",
       "      <th>qwcleYzHt7Yl</th>\n",
       "      <td>dataset</td>\n",
       "      <td>category</td>\n",
       "      <td>None</td>\n",
       "      <td>None</td>\n",
       "      <td>None</td>\n",
       "      <td>core.ULabel</td>\n",
       "      <td>None</td>\n",
       "      <td>2023-09-19 13:44:19</td>\n",
       "      <td>kmvZDIX9</td>\n",
       "    </tr>\n",
       "    <tr>\n",
       "      <th>vunP8lJP2jVk</th>\n",
       "      <td>cell_type</td>\n",
       "      <td>category</td>\n",
       "      <td>None</td>\n",
       "      <td>None</td>\n",
       "      <td>None</td>\n",
       "      <td>bionty.CellLine</td>\n",
       "      <td>None</td>\n",
       "      <td>2023-09-19 13:47:01</td>\n",
       "      <td>kmvZDIX9</td>\n",
       "    </tr>\n",
       "    <tr>\n",
       "      <th>dxVlpLxSMROI</th>\n",
       "      <td>sirna</td>\n",
       "      <td>category</td>\n",
       "      <td>None</td>\n",
       "      <td>None</td>\n",
       "      <td>None</td>\n",
       "      <td>lamin1.Treatment</td>\n",
       "      <td>None</td>\n",
       "      <td>2023-09-19 13:44:19</td>\n",
       "      <td>kmvZDIX9</td>\n",
       "    </tr>\n",
       "  </tbody>\n",
       "</table>\n",
       "</div>"
      ],
      "text/plain": [
       "                    name      type modality_id  unit description  \\\n",
       "id                                                                 \n",
       "5RXkKRNY7BgV   well_type  category        None  None        None   \n",
       "DUzDHbttLssA    sirna_id  category        None  None        None   \n",
       "3wuv7DCHL6CP        well  category        None  None        None   \n",
       "g6nY4RszJxf1       plate  category        None  None        None   \n",
       "mXGssomIkT3O        site  category        None  None        None   \n",
       "lul3qCosyI7A  experiment  category        None  None        None   \n",
       "led3PypVnP6j     well_id  category        None  None        None   \n",
       "fuG3rNZAUhHI   file_keys    object        None  None        None   \n",
       "qwcleYzHt7Yl     dataset  category        None  None        None   \n",
       "vunP8lJP2jVk   cell_type  category        None  None        None   \n",
       "dxVlpLxSMROI       sirna  category        None  None        None   \n",
       "\n",
       "                     registries synonyms           updated_at created_by_id  \n",
       "id                                                                           \n",
       "5RXkKRNY7BgV        core.ULabel     None  2023-09-19 13:44:19      kmvZDIX9  \n",
       "DUzDHbttLssA               None     None  2023-09-19 13:44:19      kmvZDIX9  \n",
       "3wuv7DCHL6CP        lamin1.Well     None  2023-09-19 13:47:01      kmvZDIX9  \n",
       "g6nY4RszJxf1        core.ULabel     None  2023-09-19 13:47:01      kmvZDIX9  \n",
       "mXGssomIkT3O        core.ULabel     None  2023-09-19 13:47:01      kmvZDIX9  \n",
       "lul3qCosyI7A  lamin1.Experiment     None  2023-09-19 13:47:01      kmvZDIX9  \n",
       "led3PypVnP6j               None     None  2023-09-19 13:47:01      kmvZDIX9  \n",
       "fuG3rNZAUhHI               None     None  2023-09-19 13:47:01      kmvZDIX9  \n",
       "qwcleYzHt7Yl        core.ULabel     None  2023-09-19 13:44:19      kmvZDIX9  \n",
       "vunP8lJP2jVk    bionty.CellLine     None  2023-09-19 13:47:01      kmvZDIX9  \n",
       "dxVlpLxSMROI   lamin1.Treatment     None  2023-09-19 13:44:19      kmvZDIX9  "
      ]
     },
     "execution_count": 81,
     "metadata": {},
     "output_type": "execute_result"
    }
   ],
   "source": [
    "file.features[\"obs\"].df()"
   ]
  },
  {
   "cell_type": "code",
   "execution_count": 82,
   "id": "ba58b5aa",
   "metadata": {},
   "outputs": [
    {
     "data": {
      "image/svg+xml": [
       "<?xml version=\"1.0\" encoding=\"UTF-8\" standalone=\"no\"?>\n",
       "<!DOCTYPE svg PUBLIC \"-//W3C//DTD SVG 1.1//EN\"\n",
       " \"http://www.w3.org/Graphics/SVG/1.1/DTD/svg11.dtd\">\n",
       "<!-- Generated by graphviz version 8.1.0 (20230707.0739)\n",
       " -->\n",
       "<!-- Title: UPn1hQVAzQ5efRxF6ce5 Pages: 1 -->\n",
       "<svg width=\"892pt\" height=\"288pt\"\n",
       " viewBox=\"0.00 0.00 892.00 288.00\" xmlns=\"http://www.w3.org/2000/svg\" xmlns:xlink=\"http://www.w3.org/1999/xlink\">\n",
       "<g id=\"graph0\" class=\"graph\" transform=\"scale(1 1) rotate(0) translate(4 284)\">\n",
       "<title>UPn1hQVAzQ5efRxF6ce5</title>\n",
       "<polygon fill=\"white\" stroke=\"none\" points=\"-4,4 -4,-284 888,-284 888,4 -4,4\"/>\n",
       "<!-- Djktj7NOltEelD7M1EHe -->\n",
       "<g id=\"node1\" class=\"node\">\n",
       "<title>Djktj7NOltEelD7M1EHe</title>\n",
       "<path fill=\"honeydew\" stroke=\"#065f46\" d=\"M448.75,-196C448.75,-196 12,-196 12,-196 6,-196 0,-190 0,-184 0,-184 0,-170 0,-170 0,-164 6,-158 12,-158 12,-158 448.75,-158 448.75,-158 454.75,-158 460.75,-164 460.75,-170 460.75,-170 460.75,-184 460.75,-184 460.75,-190 454.75,-196 448.75,-196\"/>\n",
       "<text text-anchor=\"start\" x=\"8\" y=\"-183.5\" font-family=\"Helvetica,sans-Serif\" font-size=\"10.00\">A CSV containing the experiment design of RxRx1, e.g. what cell type and treatment are in each well.</text>\n",
       "<text text-anchor=\"start\" x=\"161.38\" y=\"-173.5\" font-family=\"Monospace\" font-size=\"10.00\" fill=\"GREY\">id=Djktj7NOltEelD7M1EHe</text>\n",
       "<text text-anchor=\"start\" x=\"197.38\" y=\"-163.5\" font-family=\"Monospace\" font-size=\"10.00\" fill=\"GREY\">suffix=.csv</text>\n",
       "</g>\n",
       "<!-- 3d3Bg31nUSxdPEzbUMQu -->\n",
       "<g id=\"node2\" class=\"node\">\n",
       "<title>3d3Bg31nUSxdPEzbUMQu</title>\n",
       "<path fill=\"gainsboro\" stroke=\"#065f46\" d=\"M540.62,-122C540.62,-122 370.12,-122 370.12,-122 364.12,-122 358.12,-116 358.12,-110 358.12,-110 358.12,-86 358.12,-86 358.12,-80 364.12,-74 370.12,-74 370.12,-74 540.62,-74 540.62,-74 546.62,-74 552.62,-80 552.62,-86 552.62,-86 552.62,-110 552.62,-110 552.62,-116 546.62,-122 540.62,-122\"/>\n",
       "<text text-anchor=\"start\" x=\"366.12\" y=\"-109.5\" font-family=\"Helvetica,sans-Serif\" font-size=\"10.00\">📔 Validate and register RxRx1 metadata</text>\n",
       "<text text-anchor=\"start\" x=\"386.38\" y=\"-99.5\" font-family=\"Monospace\" font-size=\"10.00\" fill=\"GREY\">id=3d3Bg31nUSxdPEzbUMQu</text>\n",
       "<text text-anchor=\"start\" x=\"368.38\" y=\"-89.5\" font-family=\"Monospace\" font-size=\"10.00\" fill=\"GREY\">type=notebook, user=Sunny Sun</text>\n",
       "<text text-anchor=\"start\" x=\"377.38\" y=\"-79.5\" font-family=\"Monospace\" font-size=\"10.00\" fill=\"GREY\">run_at=2023&#45;09&#45;19 10:58:42</text>\n",
       "</g>\n",
       "<!-- Djktj7NOltEelD7M1EHe&#45;&gt;3d3Bg31nUSxdPEzbUMQu -->\n",
       "<g id=\"edge1\" class=\"edge\">\n",
       "<title>Djktj7NOltEelD7M1EHe&#45;&gt;3d3Bg31nUSxdPEzbUMQu</title>\n",
       "<path fill=\"none\" stroke=\"dimgrey\" d=\"M284.27,-157.56C313.4,-147.59 349.79,-135.13 381.52,-124.27\"/>\n",
       "<polygon fill=\"dimgrey\" stroke=\"dimgrey\" points=\"381.82,-125.68 385.98,-122.41 380.68,-122.37 381.82,-125.68\"/>\n",
       "</g>\n",
       "<!-- UPn1hQVAzQ5efRxF6ce5 -->\n",
       "<g id=\"node4\" class=\"node\">\n",
       "<title>UPn1hQVAzQ5efRxF6ce5</title>\n",
       "<path fill=\"#10b981\" stroke=\"#065f46\" d=\"M604.75,-38C604.75,-38 306,-38 306,-38 300,-38 294,-32 294,-26 294,-26 294,-12 294,-12 294,-6 300,0 306,0 306,0 604.75,0 604.75,0 610.75,0 616.75,-6 616.75,-12 616.75,-12 616.75,-26 616.75,-26 616.75,-32 610.75,-38 604.75,-38\"/>\n",
       "<text text-anchor=\"start\" x=\"302\" y=\"-25.5\" font-family=\"Helvetica,sans-Serif\" font-size=\"10.00\">Metadata annotated deep learning embeddings for each RxRx1 image.</text>\n",
       "<text text-anchor=\"start\" x=\"386.38\" y=\"-15.5\" font-family=\"Monospace\" font-size=\"10.00\" fill=\"GREY\">id=UPn1hQVAzQ5efRxF6ce5</text>\n",
       "<text text-anchor=\"start\" x=\"419.38\" y=\"-5.5\" font-family=\"Monospace\" font-size=\"10.00\" fill=\"GREY\">suffix=.h5ad</text>\n",
       "</g>\n",
       "<!-- 3d3Bg31nUSxdPEzbUMQu&#45;&gt;UPn1hQVAzQ5efRxF6ce5 -->\n",
       "<g id=\"edge3\" class=\"edge\">\n",
       "<title>3d3Bg31nUSxdPEzbUMQu&#45;&gt;UPn1hQVAzQ5efRxF6ce5</title>\n",
       "<path fill=\"none\" stroke=\"dimgrey\" d=\"M455.38,-73.9C455.38,-64.59 455.38,-53.86 455.38,-44.42\"/>\n",
       "<polygon fill=\"dimgrey\" stroke=\"dimgrey\" points=\"457.13,-44.44 455.38,-39.44 453.63,-44.44 457.13,-44.44\"/>\n",
       "</g>\n",
       "<!-- fRAi4vLhNfcDu0Vrl3ce -->\n",
       "<g id=\"node3\" class=\"node\">\n",
       "<title>fRAi4vLhNfcDu0Vrl3ce</title>\n",
       "<path fill=\"honeydew\" stroke=\"#065f46\" d=\"M872,-196C872,-196 490.75,-196 490.75,-196 484.75,-196 478.75,-190 478.75,-184 478.75,-184 478.75,-170 478.75,-170 478.75,-164 484.75,-158 490.75,-158 490.75,-158 872,-158 872,-158 878,-158 884,-164 884,-170 884,-170 884,-184 884,-184 884,-190 878,-196 872,-196\"/>\n",
       "<text text-anchor=\"start\" x=\"486.75\" y=\"-183.5\" font-family=\"Helvetica,sans-Serif\" font-size=\"10.00\">A large CSV file containing all of the deep learning embeddings for each image of RxRx1.</text>\n",
       "<text text-anchor=\"start\" x=\"612.38\" y=\"-173.5\" font-family=\"Monospace\" font-size=\"10.00\" fill=\"GREY\">id=fRAi4vLhNfcDu0Vrl3ce</text>\n",
       "<text text-anchor=\"start\" x=\"648.38\" y=\"-163.5\" font-family=\"Monospace\" font-size=\"10.00\" fill=\"GREY\">suffix=.csv</text>\n",
       "</g>\n",
       "<!-- fRAi4vLhNfcDu0Vrl3ce&#45;&gt;3d3Bg31nUSxdPEzbUMQu -->\n",
       "<g id=\"edge2\" class=\"edge\">\n",
       "<title>fRAi4vLhNfcDu0Vrl3ce&#45;&gt;3d3Bg31nUSxdPEzbUMQu</title>\n",
       "<path fill=\"none\" stroke=\"dimgrey\" d=\"M627.24,-157.56C597.99,-147.59 561.43,-135.13 529.55,-124.27\"/>\n",
       "<polygon fill=\"dimgrey\" stroke=\"dimgrey\" points=\"530.37,-122.36 525.07,-122.41 529.24,-125.68 530.37,-122.36\"/>\n",
       "</g>\n",
       "<!-- oDvkX6skYHuRpJFZGfFT -->\n",
       "<g id=\"node5\" class=\"node\">\n",
       "<title>oDvkX6skYHuRpJFZGfFT</title>\n",
       "<path fill=\"gainsboro\" stroke=\"#065f46\" d=\"M559.75,-280C559.75,-280 351,-280 351,-280 345,-280 339,-274 339,-268 339,-268 339,-244 339,-244 339,-238 345,-232 351,-232 351,-232 559.75,-232 559.75,-232 565.75,-232 571.75,-238 571.75,-244 571.75,-244 571.75,-268 571.75,-268 571.75,-274 565.75,-280 559.75,-280\"/>\n",
       "<text text-anchor=\"start\" x=\"347\" y=\"-267.5\" font-family=\"Helvetica,sans-Serif\" font-size=\"10.00\">📔 Register RxRx1 metadata and embedding files</text>\n",
       "<text text-anchor=\"start\" x=\"386.38\" y=\"-257.5\" font-family=\"Monospace\" font-size=\"10.00\" fill=\"GREY\">id=oDvkX6skYHuRpJFZGfFT</text>\n",
       "<text text-anchor=\"start\" x=\"368.38\" y=\"-247.5\" font-family=\"Monospace\" font-size=\"10.00\" fill=\"GREY\">type=notebook, user=Sunny Sun</text>\n",
       "<text text-anchor=\"start\" x=\"377.38\" y=\"-237.5\" font-family=\"Monospace\" font-size=\"10.00\" fill=\"GREY\">run_at=2023&#45;09&#45;19 10:57:30</text>\n",
       "</g>\n",
       "<!-- oDvkX6skYHuRpJFZGfFT&#45;&gt;Djktj7NOltEelD7M1EHe -->\n",
       "<g id=\"edge4\" class=\"edge\">\n",
       "<title>oDvkX6skYHuRpJFZGfFT&#45;&gt;Djktj7NOltEelD7M1EHe</title>\n",
       "<path fill=\"none\" stroke=\"dimgrey\" d=\"M386.95,-231.58C355.91,-220.96 319.56,-208.52 289.7,-198.3\"/>\n",
       "<polygon fill=\"dimgrey\" stroke=\"dimgrey\" points=\"290.5,-196.38 285.2,-196.42 289.37,-199.7 290.5,-196.38\"/>\n",
       "</g>\n",
       "<!-- oDvkX6skYHuRpJFZGfFT&#45;&gt;fRAi4vLhNfcDu0Vrl3ce -->\n",
       "<g id=\"edge5\" class=\"edge\">\n",
       "<title>oDvkX6skYHuRpJFZGfFT&#45;&gt;fRAi4vLhNfcDu0Vrl3ce</title>\n",
       "<path fill=\"none\" stroke=\"dimgrey\" d=\"M524.1,-231.58C555.28,-220.96 591.79,-208.52 621.79,-198.3\"/>\n",
       "<polygon fill=\"dimgrey\" stroke=\"dimgrey\" points=\"622.14,-199.69 626.31,-196.42 621.01,-196.38 622.14,-199.69\"/>\n",
       "</g>\n",
       "</g>\n",
       "</svg>\n"
      ],
      "text/plain": [
       "<graphviz.graphs.Digraph at 0x167ae9ca0>"
      ]
     },
     "metadata": {},
     "output_type": "display_data"
    }
   ],
   "source": [
    "file.view_flow()"
   ]
  }
 ],
 "metadata": {
  "kernelspec": {
   "display_name": "Python 3 (ipykernel)",
   "language": "python",
   "name": "python3"
  },
  "language_info": {
   "codemirror_mode": {
    "name": "ipython",
    "version": 3
   },
   "file_extension": ".py",
   "mimetype": "text/x-python",
   "name": "python",
   "nbconvert_exporter": "python",
   "pygments_lexer": "ipython3",
   "version": "3.9.16"
  },
  "nbproject": {
   "id": "Zo0qJt4IQPsb",
   "parent": null,
   "pypackage": null,
   "time_init": "2023-05-12T08:12:15.993422+00:00",
   "user_handle": "giovp",
   "user_id": "eut8h4zv",
   "user_name": null,
   "version": "0"
  }
 },
 "nbformat": 4,
 "nbformat_minor": 5
}
