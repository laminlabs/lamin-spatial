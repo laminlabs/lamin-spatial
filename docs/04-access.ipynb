{
 "cells": [
  {
   "cell_type": "markdown",
   "metadata": {},
   "source": [
    "# Query RxRx images by metadata"
   ]
  },
  {
   "cell_type": "code",
   "execution_count": null,
   "metadata": {},
   "outputs": [],
   "source": [
    "import lamindb as ln\n",
    "import lnschema_bionty as lb\n",
    "import lnschema_lamin1 as ln1"
   ]
  },
  {
   "cell_type": "code",
   "execution_count": null,
   "metadata": {},
   "outputs": [],
   "source": [
    "cell_lines = lb.CellLine.lookup()\n",
    "experiments = ln1.Experiment.lookup()\n",
    "sirnas = ln1.Treatment.lookup()\n",
    "wells = ln1.Well.lookup()\n",
    "ulabels = ln.ULabel.lookup()"
   ]
  },
  {
   "cell_type": "code",
   "execution_count": null,
   "metadata": {},
   "outputs": [],
   "source": [
    "is_well_type = ln.ULabel.filter(name=\"is_well_type\").one()\n",
    "well_types = is_well_type.children.all().lookup()\n",
    "\n",
    "is_plate = ln.ULabel.filter(name=\"is_plate\").one()\n",
    "plates = is_plate.children.all().lookup()\n",
    "\n",
    "is_site = ln.ULabel.filter(name=\"is_site\").one()\n",
    "sites = is_site.children.all().lookup()"
   ]
  },
  {
   "cell_type": "code",
   "execution_count": null,
   "metadata": {},
   "outputs": [],
   "source": [
    "ln.File.filter(\n",
    "    suffix=\".png\",\n",
    "    cell_lines=cell_lines.hep_g2_cell,\n",
    "    treatments=sirnas.s19486,\n",
    "    wells=wells.l20,\n",
    "    ulabels=well_types.treatment,\n",
    ").filter(ulabels=plates.plate3).filter(ulabels=sites.site1).df()"
   ]
  },
  {
   "cell_type": "code",
   "execution_count": null,
   "metadata": {},
   "outputs": [],
   "source": [
    "ln.File.filter(\n",
    "    suffix=\".png\",\n",
    "    experiments=experiments.hepg2_10,\n",
    "    wells=wells.b06,\n",
    "    ulabels=well_types.treatment,\n",
    ").filter(ulabels=plates.plate3).filter(ulabels=sites.site1).df()"
   ]
  }
 ],
 "metadata": {
  "kernelspec": {
   "display_name": "py39",
   "language": "python",
   "name": "python3"
  },
  "language_info": {
   "codemirror_mode": {
    "name": "ipython",
    "version": 3
   },
   "file_extension": ".py",
   "mimetype": "text/x-python",
   "name": "python",
   "nbconvert_exporter": "python",
   "pygments_lexer": "ipython3",
   "version": "3.9.16"
  }
 },
 "nbformat": 4,
 "nbformat_minor": 2
}
