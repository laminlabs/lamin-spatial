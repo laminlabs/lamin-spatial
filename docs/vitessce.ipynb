{
 "cells": [
  {
   "cell_type": "markdown",
   "metadata": {},
   "source": [
    "[![](https://img.shields.io/badge/Source%20on%20GitHub-orange)](https://github.com/laminlabs/lamin-spatial/blob/main/docs/vitessce.ipynb) [![hub](https://img.shields.io/badge/View%20on%20LaminHub-mediumseagreen)](https://lamin.ai/laminlabs/lamindata/transform/hqtT4OTr5Tiq5zKv/URbaThYhljgXbZEzgj5x)"
   ]
  },
  {
   "cell_type": "markdown",
   "metadata": {
    "nbsphinx": "hidden"
   },
   "source": [
    "# Vitessce"
   ]
  },
  {
   "cell_type": "markdown",
   "metadata": {},
   "source": [
    "This tutorial has been adopted from the data preparation examples in [the Vitessce documention](https://vitessce.github.io/vitessce-python).\n",
    "\n",
    "It uses a [dataset](https://www.covid19cellatlas.org/index.healthy.html#habib17) from the COVID-19 Cell Atlas."
   ]
  },
  {
   "cell_type": "code",
   "execution_count": null,
   "metadata": {
    "tags": [
     "hide-output"
    ]
   },
   "outputs": [],
   "source": [
    "# !pip install vitessce>=0.3.4\n",
    "# !pip install 'lamindb[jupyter,aws,bionty]'\n",
    "!lamin load laminlabs/lamin-dev  # <-- replace with your instance"
   ]
  },
  {
   "cell_type": "code",
   "execution_count": null,
   "metadata": {
    "tags": [
     "hide-output"
    ]
   },
   "outputs": [],
   "source": [
    "from urllib.request import urlretrieve\n",
    "from pathlib import Path\n",
    "from anndata import read_h5ad\n",
    "import vitessce as vit\n",
    "from vitessce import data_utils as vitdu\n",
    "import lamindb as ln\n",
    "\n",
    "# [optional] track the current notebook or script\n",
    "ln.track(\"BZhZQ6uIbkWv0000\")"
   ]
  },
  {
   "cell_type": "markdown",
   "metadata": {},
   "source": [
    "## Save your dataset"
   ]
  },
  {
   "cell_type": "markdown",
   "metadata": {},
   "source": [
    "Convert the dataset to `.zarr` format."
   ]
  },
  {
   "cell_type": "code",
   "execution_count": null,
   "metadata": {
    "tags": [
     "hide-output"
    ]
   },
   "outputs": [],
   "source": [
    "# from https://github.com/vitessce/vitessce-python/blob/main/demos/habib-2017/src/convert_to_zarr.py\n",
    "def convert_h5ad_to_zarr(input_path, output_path):\n",
    "    adata = read_h5ad(input_path)\n",
    "    adata = adata[:, adata.var[\"highly_variable\"]].copy()\n",
    "    leaf_list = vitdu.sort_var_axis(adata.X, adata.var.index.values)\n",
    "    adata = adata[:, leaf_list].copy()\n",
    "    adata.layers[\"X_uint8\"] = vitdu.to_uint8(adata.X, norm_along=\"var\")\n",
    "    adata = vitdu.optimize_adata(\n",
    "        adata, obs_cols=[\"CellType\"], obsm_keys=[\"X_umap\"], layer_keys=[\"X_uint8\"]\n",
    "    )\n",
    "    adata.write_zarr(output_path)\n",
    "\n",
    "\n",
    "h5ad_filepath = \"./habib17.processed.h5ad\"\n",
    "if not Path(h5ad_filepath).exists():\n",
    "    urlretrieve(\n",
    "        \"https://covid19.cog.sanger.ac.uk/habib17.processed.h5ad\", h5ad_filepath\n",
    "    )\n",
    "zarr_filepath = \"./hhabib_2017_nature_methods.anndata.zarr\"\n",
    "convert_h5ad_to_zarr(h5ad_filepath, zarr_filepath)"
   ]
  },
  {
   "cell_type": "markdown",
   "metadata": {},
   "source": [
    "Save a `.zarr` version of the dataset to lamindb."
   ]
  },
  {
   "cell_type": "code",
   "execution_count": null,
   "metadata": {
    "tags": [
     "hide-output"
    ]
   },
   "outputs": [],
   "source": [
    "zarr_artifact = ln.Artifact(\n",
    "    zarr_filepath,\n",
    "    description=\"Habib et al., 2017 Nature Methods, optimized anndata zarr\",\n",
    "    type=\"dataset\",\n",
    ")\n",
    "zarr_artifact.save()"
   ]
  },
  {
   "cell_type": "markdown",
   "metadata": {},
   "source": [
    "## Save a VitessceConfig object"
   ]
  },
  {
   "cell_type": "markdown",
   "metadata": {},
   "source": [
    "You can create a dashboard for one or several datasets by using Vitessce's component API."
   ]
  },
  {
   "cell_type": "code",
   "execution_count": null,
   "metadata": {
    "tags": [
     "hide-output"
    ]
   },
   "outputs": [],
   "source": [
    "vc = vit.VitessceConfig(\n",
    "    schema_version=\"1.0.15\",\n",
    "    description=zarr_artifact.description,\n",
    ")\n",
    "dataset = vc.add_dataset(name=\"Habib 2017\").add_object(\n",
    "    vit.AnnDataWrapper(\n",
    "        adata_artifact=zarr_artifact,\n",
    "        obs_feature_matrix_path=\"layers/X_uint8\",\n",
    "        obs_embedding_paths=[\"obsm/X_umap\"],\n",
    "        obs_embedding_names=[\"UMAP\"],\n",
    "        obs_set_paths=[\"obs/CellType\"],\n",
    "        obs_set_names=[\"Cell Type\"],\n",
    "    )\n",
    ")\n",
    "obs_sets = vc.add_view(vit.Component.OBS_SETS, dataset=dataset)\n",
    "obs_sets_sizes = vc.add_view(vit.Component.OBS_SET_SIZES, dataset=dataset)\n",
    "scatterplot = vc.add_view(vit.Component.SCATTERPLOT, dataset=dataset, mapping=\"UMAP\")\n",
    "heatmap = vc.add_view(vit.Component.HEATMAP, dataset=dataset)\n",
    "genes = vc.add_view(vit.Component.FEATURE_LIST, dataset=dataset)\n",
    "vc.layout(((scatterplot | obs_sets) / heatmap) | (obs_sets_sizes / genes))"
   ]
  },
  {
   "cell_type": "markdown",
   "metadata": {},
   "source": [
    "Save the `VitessceConfig` object."
   ]
  },
  {
   "cell_type": "code",
   "execution_count": null,
   "metadata": {
    "tags": [
     "hide-output"
    ]
   },
   "outputs": [],
   "source": [
    "vc_artifact = ln.integrations.save_vitessce_config(\n",
    "    vc, description=\"View Habib17 in Vitessce\"\n",
    ")"
   ]
  },
  {
   "cell_type": "markdown",
   "metadata": {},
   "source": [
    ":::{note}\n",
    "\n",
    "You can now see the Vitessce button show up on your dataset as in this [example dataset](https://lamin.ai/laminlabs/lamindata/artifact/HXJ4DDAw8012jVKwoxgd).\n",
    "\n",
    "If your `VitessceConfig` object contains multiple datasets, the Vitessce button will appear next to a `Collection` that groups these artifacts.\n",
    "\n",
    ":::"
   ]
  },
  {
   "cell_type": "code",
   "execution_count": null,
   "metadata": {},
   "outputs": [],
   "source": [
    "vc_artifact.view_lineage()"
   ]
  },
  {
   "cell_type": "code",
   "execution_count": null,
   "metadata": {},
   "outputs": [],
   "source": [
    "# [optional] finish run context and auto-save the notebook\n",
    "# ln.finish()"
   ]
  },
  {
   "cell_type": "markdown",
   "metadata": {},
   "source": [
    ":::{dropdown} Upload speed\n",
    "\n",
    "Here is [a note](https://lamin.ai/laminlabs/lamindata/transform/WDjio16cQsdW5zKv) on folder upload speed and why `lamindb` does not use the `.export(to=\"s3\")` functionality of Vitessce.\n",
    "\n",
    ":::"
   ]
  },
  {
   "cell_type": "code",
   "execution_count": null,
   "metadata": {
    "tags": [
     "hide-cell"
    ]
   },
   "outputs": [],
   "source": [
    "# clean up artifacts in CI run\n",
    "zarr_artifact.delete(permanent=True)\n",
    "vc_artifact.delete(permanent=True)"
   ]
  }
 ],
 "metadata": {
  "kernelspec": {
   "display_name": "Python 3 (ipykernel)",
   "language": "python",
   "name": "python3"
  },
  "language_info": {
   "codemirror_mode": {
    "name": "ipython",
    "version": 3
   },
   "file_extension": ".py",
   "mimetype": "text/x-python",
   "name": "python",
   "nbconvert_exporter": "python",
   "pygments_lexer": "ipython3",
   "version": "3.10.13"
  }
 },
 "nbformat": 4,
 "nbformat_minor": 4
}
