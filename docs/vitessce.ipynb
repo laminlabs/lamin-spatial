{
 "cells": [
  {
   "cell_type": "markdown",
   "metadata": {},
   "source": [
    "[![](https://img.shields.io/badge/Source%20on%20GitHub-orange)](https://github.com/laminlabs/lamin-spatial/blob/main/docs/vitessce.ipynb)"
   ]
  },
  {
   "cell_type": "markdown",
   "metadata": {
    "nbsphinx": "hidden"
   },
   "source": [
    "# Vitessce Data Preparation Tutorial"
   ]
  },
  {
   "cell_type": "markdown",
   "metadata": {},
   "source": [
    "This tutorial has been adopted from the data preparation examples in [the Vitessce documention](https://vitessce.github.io/vitessce-python)."
   ]
  },
  {
   "cell_type": "markdown",
   "metadata": {},
   "source": [
    "## 1. Setup\n",
    "\n",
    "Install dependencies:\n",
    "\n",
    "```python\n",
    "pip install vitessce\n",
    "pip install 'lamindb[jupyter,aws]'\n",
    "```"
   ]
  },
  {
   "cell_type": "code",
   "execution_count": null,
   "metadata": {},
   "outputs": [],
   "source": [
    "!lamin load laminlabs/lamindata  # load your instance"
   ]
  },
  {
   "cell_type": "code",
   "execution_count": null,
   "metadata": {},
   "outputs": [],
   "source": [
    "from urllib.request import urlretrieve\n",
    "from anndata import read_h5ad\n",
    "from vitessce import (\n",
    "    VitessceConfig,\n",
    "    Component as cm,\n",
    "    AnnDataWrapper,\n",
    ")\n",
    "from vitessce.data_utils import (\n",
    "    to_uint8,\n",
    "    sort_var_axis,\n",
    "    optimize_adata,\n",
    ")\n",
    "\n",
    "import lamindb as ln"
   ]
  },
  {
   "cell_type": "code",
   "execution_count": null,
   "metadata": {},
   "outputs": [],
   "source": [
    "# to track the current notebook\n",
    "# run ln.track() to generate the stem_uid and version\n",
    "ln.settings.transform.stem_uid = \"BZhZQ6uIbkWv\"\n",
    "ln.settings.transform.version = \"1\"\n",
    "ln.track()"
   ]
  },
  {
   "cell_type": "markdown",
   "metadata": {},
   "source": [
    "## 2. Download and process data\n",
    "\n",
    "For this example, we need to download a dataset from the COVID-19 Cell Atlas https://www.covid19cellatlas.org/index.healthy.html#habib17."
   ]
  },
  {
   "cell_type": "code",
   "execution_count": null,
   "metadata": {
    "tags": [
     "hide-cell"
    ]
   },
   "outputs": [],
   "source": [
    "# From https://github.com/vitessce/vitessce-python/blob/main/demos/habib-2017/src/convert_to_zarr.py\n",
    "def convert_h5ad_to_zarr(input_path, output_path):\n",
    "    adata = read_h5ad(input_path)\n",
    "\n",
    "    # Store an expression matrix with only the highly variable genes.\n",
    "    adata = adata[:, adata.var[\"highly_variable\"]].copy()\n",
    "\n",
    "    # Reorder the genes axis after hierarchical clustering.\n",
    "    leaf_list = sort_var_axis(adata.X, adata.var.index.values)\n",
    "    adata = adata[:, leaf_list].copy()\n",
    "\n",
    "    # Store expression matrix as uint8.\n",
    "    adata.layers[\"X_uint8\"] = to_uint8(adata.X, norm_along=\"var\")\n",
    "\n",
    "    adata = optimize_adata(\n",
    "        adata, obs_cols=[\"CellType\"], obsm_keys=[\"X_umap\"], layer_keys=[\"X_uint8\"]\n",
    "    )\n",
    "\n",
    "    adata.write_zarr(output_path)"
   ]
  },
  {
   "cell_type": "code",
   "execution_count": null,
   "metadata": {
    "tags": [
     "hide-output"
    ]
   },
   "outputs": [],
   "source": [
    "adata_filepath = \"./habib17.processed.h5ad\"\n",
    "urlretrieve(\"https://covid19.cog.sanger.ac.uk/habib17.processed.h5ad\", adata_filepath)\n",
    "zarr_filepath = \"./hhabib_2017_nature_methods.h5ad.zarr\"\n",
    "\n",
    "convert_h5ad_to_zarr(adata_filepath, zarr_filepath)"
   ]
  },
  {
   "cell_type": "markdown",
   "metadata": {},
   "source": [
    "## 3. Create the Vitessce configuration"
   ]
  },
  {
   "cell_type": "markdown",
   "metadata": {},
   "source": [
    "Set up the configuration by adding the views and datasets of interest."
   ]
  },
  {
   "cell_type": "code",
   "execution_count": null,
   "metadata": {},
   "outputs": [],
   "source": [
    "vc = VitessceConfig(\n",
    "    schema_version=\"1.0.15\",\n",
    "    name=\"Habib et al., 2017 Nature Methods\",\n",
    "    description=(\n",
    "        \"Archived frozen adult human post-mortem brain tissue profiled by snRNA-seq\"\n",
    "        \" (DroNc-seq)\"\n",
    "    ),\n",
    ")\n",
    "dataset = vc.add_dataset(name=\"Habib 2017\").add_object(\n",
    "    AnnDataWrapper(\n",
    "        adata_path=zarr_filepath,\n",
    "        obs_feature_matrix_path=\"layers/X_uint8\",\n",
    "        obs_embedding_paths=[\"obsm/X_umap\"],\n",
    "        obs_embedding_names=[\"UMAP\"],\n",
    "        obs_set_paths=[\"obs/CellType\"],\n",
    "        obs_set_names=[\"Cell Type\"],\n",
    "    )\n",
    ")\n",
    "obs_sets = vc.add_view(cm.OBS_SETS, dataset=dataset)\n",
    "obs_sets_sizes = vc.add_view(cm.OBS_SET_SIZES, dataset=dataset)\n",
    "scatterplot = vc.add_view(cm.SCATTERPLOT, dataset=dataset, mapping=\"UMAP\")\n",
    "heatmap = vc.add_view(cm.HEATMAP, dataset=dataset)\n",
    "genes = vc.add_view(cm.FEATURE_LIST, dataset=dataset)\n",
    "vc.layout(((scatterplot | obs_sets) / heatmap) | (obs_sets_sizes / genes));"
   ]
  },
  {
   "cell_type": "markdown",
   "metadata": {},
   "source": [
    "## 4. Ingest into LaminDB"
   ]
  },
  {
   "cell_type": "markdown",
   "metadata": {},
   "source": [
    "Here is [a note](https://lamin.ai/laminlabs/lamindata/transform/WDjio16cQsdW5zKv) on folder upload speed and why chose to not use the `.export(to=\"s3\")` functionality of Vitessce."
   ]
  },
  {
   "cell_type": "code",
   "execution_count": null,
   "metadata": {},
   "outputs": [],
   "source": [
    "from lamindb.integrations import save_vitessce_config"
   ]
  },
  {
   "cell_type": "code",
   "execution_count": null,
   "metadata": {},
   "outputs": [],
   "source": [
    "artifact = save_vitessce_config(vc, description=\"A VitessceConfig object\")"
   ]
  },
  {
   "cell_type": "code",
   "execution_count": null,
   "metadata": {},
   "outputs": [],
   "source": [
    "artifact"
   ]
  },
  {
   "cell_type": "code",
   "execution_count": null,
   "metadata": {},
   "outputs": [],
   "source": [
    "artifact.delete(permanent=True)"
   ]
  }
 ],
 "metadata": {
  "kernelspec": {
   "display_name": "Python 3 (ipykernel)",
   "language": "python",
   "name": "python3"
  },
  "language_info": {
   "codemirror_mode": {
    "name": "ipython",
    "version": 3
   },
   "file_extension": ".py",
   "mimetype": "text/x-python",
   "name": "python",
   "nbconvert_exporter": "python",
   "pygments_lexer": "ipython3",
   "version": "3.10.13"
  }
 },
 "nbformat": 4,
 "nbformat_minor": 4
}
