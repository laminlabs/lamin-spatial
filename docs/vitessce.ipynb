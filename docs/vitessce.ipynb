{
 "cells": [
  {
   "cell_type": "markdown",
   "metadata": {},
   "source": [
    "[![](https://img.shields.io/badge/Source%20on%20GitHub-orange)](https://github.com/laminlabs/lamin-spatial/blob/main/docs/vitessce.ipynb) [![hub](https://img.shields.io/badge/View%20on%20lamin.ai-mediumseagreen)](https://lamin.ai/vitessce/examples/transform/BZhZQ6uIbkWv)"
   ]
  },
  {
   "cell_type": "markdown",
   "metadata": {
    "nbsphinx": "hidden"
   },
   "source": [
    "# Vitessce"
   ]
  },
  {
   "cell_type": "markdown",
   "metadata": {},
   "source": [
    "This tutorial has been adopted from the data preparation examples in [the Vitessce documention](https://vitessce.github.io/vitessce-python).\n",
    "\n",
    "We demonstrate how to use Vitessce to create interactive visualizations for data stored in LaminDB Artifacts, using multiple data formats."
   ]
  },
  {
   "cell_type": "code",
   "execution_count": null,
   "metadata": {
    "editable": true,
    "slideshow": {
     "slide_type": ""
    },
    "tags": [
     "hide-output"
    ]
   },
   "outputs": [],
   "source": [
    "# !pip install \"vitessce[all]>=3.5.0\"\n",
    "# !pip install \"generate-tiff-offsets>=0.1.9\"\n",
    "# !pip install \"lamindb[jupyter,aws,bionty]\"\n",
    "!lamin connect laminlabs/lamin-dev  # <-- replace with your instance"
   ]
  },
  {
   "cell_type": "code",
   "execution_count": null,
   "metadata": {
    "editable": true,
    "slideshow": {
     "slide_type": ""
    },
    "tags": [
     "hide-output"
    ]
   },
   "outputs": [],
   "source": [
    "from urllib.request import urlretrieve\n",
    "from pathlib import Path\n",
    "from anndata import read_h5ad\n",
    "import vitessce as vit\n",
    "from vitessce import data_utils as vitdu\n",
    "from generate_tiff_offsets import get_offsets\n",
    "import lamindb as ln\n",
    "import zipfile\n",
    "import json\n",
    "\n",
    "# [optional] track the current notebook or script\n",
    "ln.track(\"BZhZQ6uIbkWv0001\")"
   ]
  },
  {
   "cell_type": "markdown",
   "metadata": {
    "editable": true,
    "slideshow": {
     "slide_type": ""
    },
    "tags": []
   },
   "source": [
    "## Visualize an AnnData object (H5AD format)"
   ]
  },
  {
   "cell_type": "markdown",
   "metadata": {},
   "source": [
    "Here, we download an example H5AD file (approximately 22 MB). This is a [dataset](https://www.covid19cellatlas.org/index.healthy.html#habib17) from the COVID-19 Cell Atlas."
   ]
  },
  {
   "cell_type": "code",
   "execution_count": null,
   "metadata": {
    "editable": true,
    "slideshow": {
     "slide_type": ""
    },
    "tags": []
   },
   "outputs": [],
   "source": [
    "h5ad_raw_filepath = \"./habib17.raw.h5ad\"\n",
    "h5ad_processed_filepath = \"./habib17.processed.h5ad\"\n",
    "if not Path(h5ad_raw_filepath).exists():\n",
    "    urlretrieve(\n",
    "        \"https://covid19.cog.sanger.ac.uk/habib17.processed.h5ad\", h5ad_raw_filepath\n",
    "    )"
   ]
  },
  {
   "cell_type": "markdown",
   "metadata": {
    "editable": true,
    "slideshow": {
     "slide_type": ""
    },
    "tags": []
   },
   "source": [
    "This AnnData file was not saved recently and `read_h5ad` will warn us about this. By reading and subsequently re-writing the file using an up-to-date `anndata` package version, we ensure that the dataset is saved using the latest AnnData H5AD format."
   ]
  },
  {
   "cell_type": "code",
   "execution_count": null,
   "metadata": {
    "editable": true,
    "slideshow": {
     "slide_type": ""
    },
    "tags": []
   },
   "outputs": [],
   "source": [
    "adata = read_h5ad(h5ad_raw_filepath)"
   ]
  },
  {
   "cell_type": "markdown",
   "metadata": {
    "editable": true,
    "slideshow": {
     "slide_type": ""
    },
    "tags": []
   },
   "source": [
    "Optionally, we can modify the AnnData object, for example to subset it to the highly variable genes (which will affect the amount of data that is displayed in the heatmap visualization)."
   ]
  },
  {
   "cell_type": "code",
   "execution_count": null,
   "metadata": {
    "editable": true,
    "slideshow": {
     "slide_type": ""
    },
    "tags": []
   },
   "outputs": [],
   "source": [
    "adata = adata[:, adata.var[\"highly_variable\"]].copy()"
   ]
  },
  {
   "cell_type": "code",
   "execution_count": null,
   "metadata": {
    "editable": true,
    "slideshow": {
     "slide_type": ""
    },
    "tags": []
   },
   "outputs": [],
   "source": [
    "adata.write_h5ad(h5ad_processed_filepath)"
   ]
  },
  {
   "cell_type": "markdown",
   "metadata": {
    "editable": true,
    "slideshow": {
     "slide_type": ""
    },
    "tags": []
   },
   "source": [
    "### Save the dataset"
   ]
  },
  {
   "cell_type": "markdown",
   "metadata": {
    "editable": true,
    "slideshow": {
     "slide_type": ""
    },
    "tags": []
   },
   "source": [
    "Save the `.h5ad` file as a LaminDB Artifact."
   ]
  },
  {
   "cell_type": "code",
   "execution_count": null,
   "metadata": {
    "editable": true,
    "slideshow": {
     "slide_type": ""
    },
    "tags": []
   },
   "outputs": [],
   "source": [
    "h5ad_artifact = ln.Artifact(\n",
    "    h5ad_processed_filepath,\n",
    "    key=\"vitessce_examples/habib17.h5ad\",\n",
    "    description=\"Habib et al., 2017 Nature Methods, h5ad\",\n",
    "    type=\"dataset\",\n",
    ")\n",
    "h5ad_artifact.save()"
   ]
  },
  {
   "cell_type": "markdown",
   "metadata": {
    "editable": true,
    "slideshow": {
     "slide_type": ""
    },
    "tags": []
   },
   "source": [
    "When using `.h5ad` files, we construct a [Reference Specification](https://fsspec.github.io/kerchunk/spec.html) which enables interoperability with the [Zarr](https://zarrita.dev/packages/storage.html#referencestore) interface."
   ]
  },
  {
   "cell_type": "code",
   "execution_count": null,
   "metadata": {
    "editable": true,
    "slideshow": {
     "slide_type": ""
    },
    "tags": []
   },
   "outputs": [],
   "source": [
    "ref_spec = vitdu.generate_h5ad_ref_spec(h5ad_processed_filepath)"
   ]
  },
  {
   "cell_type": "markdown",
   "metadata": {
    "editable": true,
    "slideshow": {
     "slide_type": ""
    },
    "tags": []
   },
   "source": [
    "We next need to save the corresponding Reference Specification to a JSON file and upload it to LaminDB as an Artifact."
   ]
  },
  {
   "cell_type": "code",
   "execution_count": null,
   "metadata": {
    "editable": true,
    "slideshow": {
     "slide_type": ""
    },
    "tags": []
   },
   "outputs": [],
   "source": [
    "ref_path = \"./habib17.processed.reference.json\"\n",
    "with open(ref_path, \"w\") as file:\n",
    "    json.dump(ref_spec, file)\n",
    "ref_artifact = ln.Artifact(\n",
    "    ref_path,\n",
    "    key=\"vitessce_examples/habib17.reference.json\",\n",
    "    description=\"Reference JSON for H5AD file, Habib et al., 2017 Nature Methods\"\n",
    ").save()"
   ]
  },
  {
   "cell_type": "markdown",
   "metadata": {
    "editable": true,
    "slideshow": {
     "slide_type": ""
    },
    "tags": []
   },
   "source": [
    "### Save a VitessceConfig object"
   ]
  },
  {
   "cell_type": "markdown",
   "metadata": {
    "editable": true,
    "slideshow": {
     "slide_type": ""
    },
    "tags": []
   },
   "source": [
    "You can create a dashboard for one or several datasets by using Vitessce's component API."
   ]
  },
  {
   "cell_type": "markdown",
   "metadata": {
    "editable": true,
    "slideshow": {
     "slide_type": ""
    },
    "tags": []
   },
   "source": [
    "You can pass LaminDB Artifacts to the AnnDataWrapper class using the `adata_artifact` and `ref_artifact` [parameters](https://python-docs.vitessce.io/api_data.html#vitessce.wrappers.AnnDataWrapper)."
   ]
  },
  {
   "cell_type": "code",
   "execution_count": null,
   "metadata": {
    "editable": true,
    "slideshow": {
     "slide_type": ""
    },
    "tags": []
   },
   "outputs": [],
   "source": [
    "vc = vit.VitessceConfig(\n",
    "    schema_version=\"1.0.17\",\n",
    "    description=h5ad_artifact.description,\n",
    ")\n",
    "dataset = vc.add_dataset(name=\"Habib 2017\").add_object(\n",
    "    vit.AnnDataWrapper(\n",
    "        adata_artifact=h5ad_artifact,\n",
    "        ref_artifact=ref_artifact,\n",
    "        obs_feature_matrix_path=\"X\",\n",
    "        obs_embedding_paths=[\"obsm/X_umap\"],\n",
    "        obs_embedding_names=[\"UMAP\"],\n",
    "        obs_set_paths=[\"obs/CellType\"],\n",
    "        obs_set_names=[\"Cell Type\"],\n",
    "    )\n",
    ")\n",
    "obs_sets = vc.add_view(vit.ViewType.OBS_SETS, dataset=dataset)\n",
    "obs_sets_sizes = vc.add_view(vit.ViewType.OBS_SET_SIZES, dataset=dataset)\n",
    "scatterplot = vc.add_view(vit.ViewType.SCATTERPLOT, dataset=dataset, mapping=\"UMAP\")\n",
    "heatmap = vc.add_view(vit.ViewType.HEATMAP, dataset=dataset)\n",
    "genes = vc.add_view(vit.ViewType.FEATURE_LIST, dataset=dataset)\n",
    "vc.link_views([scatterplot, heatmap], [\"featureValueColormapRange\"], [[0.0, 0.1]])\n",
    "vc.layout(((scatterplot | obs_sets) / heatmap) | (obs_sets_sizes / genes));"
   ]
  },
  {
   "cell_type": "markdown",
   "metadata": {
    "editable": true,
    "slideshow": {
     "slide_type": ""
    },
    "tags": []
   },
   "source": [
    "Save the `VitessceConfig` object."
   ]
  },
  {
   "cell_type": "code",
   "execution_count": null,
   "metadata": {
    "editable": true,
    "slideshow": {
     "slide_type": ""
    },
    "tags": [
     "hide-output"
    ]
   },
   "outputs": [],
   "source": [
    "description_habib17_h5ad = \"View Habib17 (h5ad) in Vitessce\"\n",
    "h5ad_vc_artifact = ln.integrations.save_vitessce_config(\n",
    "    vc, description=description_habib17_h5ad,\n",
    ")"
   ]
  },
  {
   "cell_type": "code",
   "execution_count": null,
   "metadata": {
    "editable": true,
    "slideshow": {
     "slide_type": ""
    },
    "tags": []
   },
   "outputs": [],
   "source": [
    "h5ad_vc_artifact.view_lineage()"
   ]
  },
  {
   "cell_type": "markdown",
   "metadata": {
    "editable": true,
    "slideshow": {
     "slide_type": ""
    },
    "tags": []
   },
   "source": [
    ":::{note}\n",
    "\n",
    "After running `save_vitessce_config`, a Vitessce button will appear next to the dataset in the [Artifacts](https://lamin.ai/vitessce/examples/artifacts) page of the web interface.\n",
    "\n",
    "If your `VitessceConfig` object references data from multiple artifacts, the Vitessce button will appear next to a `Collection` that groups these artifacts (on the [Collections](https://lamin.ai/vitessce/examples/collections) tab of the Artifacts page).\n",
    "Note that when using an `.h5ad`-based Artifact, the presence of the corresponding `.reference.json` file will result in the creation of a Collection.\n",
    "\n",
    ":::"
   ]
  },
  {
   "cell_type": "markdown",
   "metadata": {
    "editable": true,
    "slideshow": {
     "slide_type": ""
    },
    "tags": []
   },
   "source": [
    "## Visualize an AnnData object (Zarr format)"
   ]
  },
  {
   "cell_type": "markdown",
   "metadata": {
    "editable": true,
    "slideshow": {
     "slide_type": ""
    },
    "tags": []
   },
   "source": [
    "AnnData objects can be saved on-disk to not only `.h5ad` files, but also to [Zarr stores](https://zarr.readthedocs.io/en/stable/tutorial.html#storage-alternatives) using AnnData's [write_zarr](https://anndata.readthedocs.io/en/latest/generated/anndata.AnnData.write_zarr.html) method."
   ]
  },
  {
   "cell_type": "markdown",
   "metadata": {
    "editable": true,
    "slideshow": {
     "slide_type": ""
    },
    "tags": []
   },
   "source": [
    "### Save the dataset"
   ]
  },
  {
   "cell_type": "markdown",
   "metadata": {
    "editable": true,
    "slideshow": {
     "slide_type": ""
    },
    "tags": []
   },
   "source": [
    "Convert the dataset to `.zarr` format. Often, Zarr data is stored on-disk using a [DirectoryStore](https://zarr.readthedocs.io/en/stable/api/storage.html#zarr.storage.DirectoryStore). By convention, these directories are named using a `.zarr` suffix."
   ]
  },
  {
   "cell_type": "code",
   "execution_count": null,
   "metadata": {
    "editable": true,
    "slideshow": {
     "slide_type": ""
    },
    "tags": []
   },
   "outputs": [],
   "source": [
    "zarr_processed_filepath = \"./habib17.anndata.zarr\""
   ]
  },
  {
   "cell_type": "code",
   "execution_count": null,
   "metadata": {
    "editable": true,
    "slideshow": {
     "slide_type": ""
    },
    "tags": []
   },
   "outputs": [],
   "source": [
    "adata = read_h5ad(h5ad_raw_filepath)"
   ]
  },
  {
   "cell_type": "markdown",
   "metadata": {
    "editable": true,
    "slideshow": {
     "slide_type": ""
    },
    "tags": []
   },
   "source": [
    "Just like in the above section, we may want to modify the AnnData object prior to saving it as a LaminDB Artifact that we will use for visualization."
   ]
  },
  {
   "cell_type": "code",
   "execution_count": null,
   "metadata": {
    "editable": true,
    "slideshow": {
     "slide_type": ""
    },
    "tags": []
   },
   "outputs": [],
   "source": [
    "adata = adata[:, adata.var[\"highly_variable\"]].copy()"
   ]
  },
  {
   "cell_type": "markdown",
   "metadata": {
    "editable": true,
    "slideshow": {
     "slide_type": ""
    },
    "tags": []
   },
   "source": [
    "Note the usage of `.write_zarr` below, as opposed to `.write_h5ad`."
   ]
  },
  {
   "cell_type": "code",
   "execution_count": null,
   "metadata": {
    "editable": true,
    "slideshow": {
     "slide_type": ""
    },
    "tags": []
   },
   "outputs": [],
   "source": [
    "adata.write_zarr(zarr_processed_filepath)"
   ]
  },
  {
   "cell_type": "markdown",
   "metadata": {
    "editable": true,
    "slideshow": {
     "slide_type": ""
    },
    "tags": []
   },
   "source": [
    "Save the `.zarr` directory as a LaminDB Artifact."
   ]
  },
  {
   "cell_type": "code",
   "execution_count": null,
   "metadata": {
    "editable": true,
    "slideshow": {
     "slide_type": ""
    },
    "tags": []
   },
   "outputs": [],
   "source": [
    "adata_zarr_artifact = ln.Artifact(\n",
    "    zarr_processed_filepath,\n",
    "    key=\"vitessce_examples/habib17.adata.zarr\",\n",
    "    description=\"Habib et al., 2017 Nature Methods, zarr\",\n",
    "    type=\"dataset\",\n",
    ")\n",
    "adata_zarr_artifact.save()"
   ]
  },
  {
   "cell_type": "markdown",
   "metadata": {
    "editable": true,
    "slideshow": {
     "slide_type": ""
    },
    "tags": []
   },
   "source": [
    "### Save a VitessceConfig object"
   ]
  },
  {
   "cell_type": "markdown",
   "metadata": {
    "editable": true,
    "slideshow": {
     "slide_type": ""
    },
    "tags": []
   },
   "source": [
    "You can create a dashboard for one or several datasets by using Vitessce's component API.\n",
    "Here, we configure the visualization the same way as above in the `.h5ad`-based example, with the exception of the `ref_artifact` parameter, as `.zarr`-based AnnData objects do not require a Reference Specification for Zarr interoperability."
   ]
  },
  {
   "cell_type": "code",
   "execution_count": null,
   "metadata": {
    "editable": true,
    "slideshow": {
     "slide_type": ""
    },
    "tags": [
     "hide-output"
    ]
   },
   "outputs": [],
   "source": [
    "vc = vit.VitessceConfig(\n",
    "    schema_version=\"1.0.17\",\n",
    "    description=adata_zarr_artifact.description,\n",
    ")\n",
    "dataset = vc.add_dataset(name=\"Habib 2017\").add_object(\n",
    "    vit.AnnDataWrapper(\n",
    "        adata_artifact=adata_zarr_artifact,\n",
    "        obs_feature_matrix_path=\"X\",\n",
    "        obs_embedding_paths=[\"obsm/X_umap\"],\n",
    "        obs_embedding_names=[\"UMAP\"],\n",
    "        obs_set_paths=[\"obs/CellType\"],\n",
    "        obs_set_names=[\"Cell Type\"],\n",
    "    )\n",
    ")\n",
    "obs_sets = vc.add_view(vit.Component.OBS_SETS, dataset=dataset)\n",
    "obs_sets_sizes = vc.add_view(vit.Component.OBS_SET_SIZES, dataset=dataset)\n",
    "scatterplot = vc.add_view(vit.Component.SCATTERPLOT, dataset=dataset, mapping=\"UMAP\")\n",
    "heatmap = vc.add_view(vit.Component.HEATMAP, dataset=dataset)\n",
    "genes = vc.add_view(vit.Component.FEATURE_LIST, dataset=dataset)\n",
    "vc.link_views([scatterplot, heatmap], [\"featureValueColormapRange\"], [[0.0, 0.1]])\n",
    "vc.layout(((scatterplot | obs_sets) / heatmap) | (obs_sets_sizes / genes));"
   ]
  },
  {
   "cell_type": "markdown",
   "metadata": {
    "editable": true,
    "slideshow": {
     "slide_type": ""
    },
    "tags": []
   },
   "source": [
    "Save the `VitessceConfig` object."
   ]
  },
  {
   "cell_type": "code",
   "execution_count": null,
   "metadata": {
    "editable": true,
    "slideshow": {
     "slide_type": ""
    },
    "tags": [
     "hide-output"
    ]
   },
   "outputs": [],
   "source": [
    "adata_zarr_vc_artifact = ln.integrations.save_vitessce_config(\n",
    "    vc, description=\"View Habib17 in Vitessce\",\n",
    ")"
   ]
  },
  {
   "cell_type": "code",
   "execution_count": null,
   "metadata": {
    "editable": true,
    "slideshow": {
     "slide_type": ""
    },
    "tags": []
   },
   "outputs": [],
   "source": [
    "adata_zarr_vc_artifact.view_lineage()"
   ]
  },
  {
   "cell_type": "markdown",
   "metadata": {
    "editable": true,
    "slideshow": {
     "slide_type": ""
    },
    "tags": []
   },
   "source": [
    ":::{note}\n",
    "\n",
    "After running `save_vitessce_config`, a Vitessce button will appear next to the dataset in the [Artifacts](https://lamin.ai/vitessce/examples/artifacts) page of the web interface.\n",
    "\n",
    ":::"
   ]
  },
  {
   "cell_type": "markdown",
   "metadata": {
    "editable": true,
    "slideshow": {
     "slide_type": ""
    },
    "tags": []
   },
   "source": [
    "## Visualize a SpatialData object (Zarr format)"
   ]
  },
  {
   "cell_type": "markdown",
   "metadata": {
    "editable": true,
    "slideshow": {
     "slide_type": ""
    },
    "tags": []
   },
   "source": [
    "Download and unzip the example SpatialData dataset (approximately 1.47 GB unzipped). Once unzipped, the data will be available via a local Zarr DirectoryStore."
   ]
  },
  {
   "cell_type": "code",
   "execution_count": null,
   "metadata": {
    "editable": true,
    "slideshow": {
     "slide_type": ""
    },
    "tags": []
   },
   "outputs": [],
   "source": [
    "sdata_zip_filepath = \"./visium.spatialdata.zarr.zip\"\n",
    "sdata_zarr_filepath = \"./visium.spatialdata.zarr\"\n",
    "if not Path(sdata_zarr_filepath).exists():\n",
    "    if not Path(sdata_zip_filepath).exists():\n",
    "        urlretrieve(\n",
    "            \"https://s3.embl.de/spatialdata/spatialdata-sandbox/visium_associated_xenium_io.zip\",\n",
    "            sdata_zip_filepath,\n",
    "        )\n",
    "    with zipfile.ZipFile(sdata_zip_filepath, \"r\") as zip_ref:\n",
    "        zip_ref.extractall(\".\")\n",
    "        Path(\"data.zarr\").rename(sdata_zarr_filepath)"
   ]
  },
  {
   "cell_type": "markdown",
   "metadata": {
    "editable": true,
    "slideshow": {
     "slide_type": ""
    },
    "tags": []
   },
   "source": [
    "### Save the dataset"
   ]
  },
  {
   "cell_type": "markdown",
   "metadata": {
    "editable": true,
    "slideshow": {
     "slide_type": ""
    },
    "tags": []
   },
   "source": [
    "Save the `.zarr` DirectoryStore as a LaminDB Artifact."
   ]
  },
  {
   "cell_type": "code",
   "execution_count": null,
   "metadata": {
    "editable": true,
    "slideshow": {
     "slide_type": ""
    },
    "tags": []
   },
   "outputs": [],
   "source": [
    "sdata_zarr_artifact = ln.Artifact(\n",
    "    sdata_zarr_filepath,\n",
    "    key=\"vitessce_examples/visium.sdata.zarr\",\n",
    "    description=\"Visium SpatialData Example\",\n",
    "    type=\"dataset\",\n",
    ")\n",
    "sdata_zarr_artifact.save()"
   ]
  },
  {
   "cell_type": "markdown",
   "metadata": {
    "editable": true,
    "slideshow": {
     "slide_type": ""
    },
    "tags": []
   },
   "source": [
    "### Save a VitessceConfig object"
   ]
  },
  {
   "cell_type": "markdown",
   "metadata": {
    "editable": true,
    "slideshow": {
     "slide_type": ""
    },
    "tags": []
   },
   "source": [
    "You can create a dashboard for one or several datasets by using Vitessce's component API.\n",
    "Here, we use the [SpatialDataWrapper](https://python-docs.vitessce.io/api_data.html#vitessce.wrappers.SpatialDataWrapper) class to specify which parts of the SpatialData object will be loaded for visualization."
   ]
  },
  {
   "cell_type": "code",
   "execution_count": null,
   "metadata": {
    "editable": true,
    "slideshow": {
     "slide_type": ""
    },
    "tags": []
   },
   "outputs": [],
   "source": [
    "vc = vit.VitessceConfig(\n",
    "    schema_version=\"1.0.17\",\n",
    "    description=sdata_zarr_artifact.description,\n",
    ")\n",
    "# Add data to the configuration:\n",
    "dataset_uid = \"sdata_visium\"\n",
    "dataset = vc.add_dataset(name='Breast Cancer Visium', uid=dataset_uid).add_object(\n",
    "    vit.SpatialDataWrapper(\n",
    "        sdata_artifact=sdata_zarr_artifact,\n",
    "        # The following paths are relative to the root of the SpatialData zarr store on-disk.\n",
    "        image_path=\"images/CytAssist_FFPE_Human_Breast_Cancer_full_image\",\n",
    "        table_path=\"tables/table\",\n",
    "        obs_feature_matrix_path=\"tables/table/X\",\n",
    "        obs_spots_path=\"shapes/CytAssist_FFPE_Human_Breast_Cancer\",\n",
    "        region=\"CytAssist_FFPE_Human_Breast_Cancer\",\n",
    "        coordinate_system=\"global\",\n",
    "        coordination_values={\n",
    "            # The following tells Vitessce to consider each observation as a \"spot\"\n",
    "            \"obsType\": \"spot\",\n",
    "        },\n",
    "    )\n",
    ")\n",
    "\n",
    "# Add views (visualizations) to the configuration:\n",
    "spatial = vc.add_view(\"spatialBeta\", dataset=dataset)\n",
    "feature_list = vc.add_view(\"featureList\", dataset=dataset)\n",
    "layer_controller = vc.add_view(\"layerControllerBeta\", dataset=dataset)\n",
    "\n",
    "# Initialize visual properties for multiple linked views:\n",
    "vc.link_views_by_dict([spatial, layer_controller], {\n",
    "    \"imageLayer\": vit.CoordinationLevel([{\n",
    "        \"photometricInterpretation\": \"RGB\",\n",
    "    }]),\n",
    "}, scope_prefix=vit.get_initial_coordination_scope_prefix(dataset_uid, \"image\"))\n",
    "vc.link_views([spatial, layer_controller, feature_list, obs_sets], [\"obsType\"], [\"spot\"])\n",
    "\n",
    "# Layout the views\n",
    "vc.layout(spatial | (feature_list / layer_controller));"
   ]
  },
  {
   "cell_type": "markdown",
   "metadata": {
    "editable": true,
    "slideshow": {
     "slide_type": ""
    },
    "tags": []
   },
   "source": [
    "Save the `VitessceConfig` object."
   ]
  },
  {
   "cell_type": "code",
   "execution_count": null,
   "metadata": {
    "editable": true,
    "slideshow": {
     "slide_type": ""
    },
    "tags": [
     "hide-output"
    ]
   },
   "outputs": [],
   "source": [
    "sdata_vc_artifact = ln.integrations.save_vitessce_config(\n",
    "    vc, description=\"View Visium SpatialData Example in Vitessce\",\n",
    ")"
   ]
  },
  {
   "cell_type": "code",
   "execution_count": null,
   "metadata": {
    "editable": true,
    "slideshow": {
     "slide_type": ""
    },
    "tags": []
   },
   "outputs": [],
   "source": [
    "sdata_vc_artifact.view_lineage()"
   ]
  },
  {
   "cell_type": "markdown",
   "metadata": {
    "editable": true,
    "slideshow": {
     "slide_type": ""
    },
    "tags": []
   },
   "source": [
    ":::{note}\n",
    "\n",
    "After running `save_vitessce_config`, a Vitessce button will appear next to the dataset in the [Artifacts](https://lamin.ai/vitessce/examples/artifacts) page of the web interface.\n",
    "\n",
    ":::"
   ]
  },
  {
   "cell_type": "markdown",
   "metadata": {
    "editable": true,
    "slideshow": {
     "slide_type": ""
    },
    "tags": []
   },
   "source": [
    "## Visualize an image (OME-TIFF format)"
   ]
  },
  {
   "cell_type": "markdown",
   "metadata": {
    "editable": true,
    "slideshow": {
     "slide_type": ""
    },
    "tags": []
   },
   "source": [
    "Vitesse can visualize data from multiple bioimaging file formats, including [OME-TIFF](https://ome-model.readthedocs.io/en/stable/ome-tiff/)."
   ]
  },
  {
   "cell_type": "markdown",
   "metadata": {
    "editable": true,
    "slideshow": {
     "slide_type": ""
    },
    "tags": []
   },
   "source": [
    "Here, we download an example OME-TIFF file (approximately 1.02 GB)."
   ]
  },
  {
   "cell_type": "code",
   "execution_count": null,
   "metadata": {
    "editable": true,
    "slideshow": {
     "slide_type": ""
    },
    "tags": []
   },
   "outputs": [],
   "source": [
    "ome_tiff_filepath = \"./VAN0006-LK-2-85-PAS_registered.ome.tif\"\n",
    "if not Path(ome_tiff_filepath).exists():\n",
    "    urlretrieve(\n",
    "        \"https://assets.hubmapconsortium.org/f4188a148e4c759092d19369d310883b/ometiff-pyramids/processedMicroscopy/VAN0006-LK-2-85-PAS_images/VAN0006-LK-2-85-PAS_registered.ome.tif\",\n",
    "        ome_tiff_filepath,\n",
    "    )"
   ]
  },
  {
   "cell_type": "markdown",
   "metadata": {
    "editable": true,
    "slideshow": {
     "slide_type": ""
    },
    "tags": []
   },
   "source": [
    "### Save the dataset"
   ]
  },
  {
   "cell_type": "markdown",
   "metadata": {
    "editable": true,
    "slideshow": {
     "slide_type": ""
    },
    "tags": []
   },
   "source": [
    "Save the `.ome.tif` file as a LaminDB Artifact."
   ]
  },
  {
   "cell_type": "code",
   "execution_count": null,
   "metadata": {
    "editable": true,
    "slideshow": {
     "slide_type": ""
    },
    "tags": []
   },
   "outputs": [],
   "source": [
    "ome_tiff_artifact = ln.Artifact(\n",
    "    ome_tiff_filepath,\n",
    "    key=\"vitessce_examples/VAN0006-LK-2-85-PAS_registered.ome.tif\",\n",
    "    description=\"PAS OME-TIFF file, Neumann et al., 2020\",\n",
    "    type=\"dataset\",\n",
    ")\n",
    "ome_tiff_artifact.save()"
   ]
  },
  {
   "cell_type": "markdown",
   "metadata": {
    "editable": true,
    "slideshow": {
     "slide_type": ""
    },
    "tags": []
   },
   "source": [
    "When using OME-TIFF files, we can use [generate-tiff-offsets](https://github.com/hms-dbmi/generate-tiff-offsets) to create an index for the bytes within the OME-TIFF file. We store these to a companion `.offsets.json` file which makes loading subsets of the image more efficient."
   ]
  },
  {
   "cell_type": "code",
   "execution_count": null,
   "metadata": {
    "editable": true,
    "slideshow": {
     "slide_type": ""
    },
    "tags": []
   },
   "outputs": [],
   "source": [
    "offsets = get_offsets(ome_tiff_filepath)"
   ]
  },
  {
   "cell_type": "code",
   "execution_count": null,
   "metadata": {
    "editable": true,
    "slideshow": {
     "slide_type": ""
    },
    "tags": []
   },
   "outputs": [],
   "source": [
    "offsets_path = \"./VAN0006-LK-2-85-PAS_registered.offsets.json\"\n",
    "with open(offsets_path, \"w\") as file:\n",
    "    json.dump(offsets, file)\n",
    "offsets_artifact = ln.Artifact(\n",
    "    offsets_path,\n",
    "    key=\"vitessce_examples/VAN0006-LK-2-85-PAS_registered.offsets.json\",\n",
    "    description=\"PAS offsets file, Neumann et al., 2020\"\n",
    ").save()"
   ]
  },
  {
   "cell_type": "markdown",
   "metadata": {
    "editable": true,
    "slideshow": {
     "slide_type": ""
    },
    "tags": []
   },
   "source": [
    "### Save a VitessceConfig object"
   ]
  },
  {
   "cell_type": "markdown",
   "metadata": {
    "editable": true,
    "slideshow": {
     "slide_type": ""
    },
    "tags": []
   },
   "source": [
    "You can create a dashboard for one or several datasets by using Vitessce's component API.\n",
    "Here, we use the [ImageOmeTiffWrapper](https://python-docs.vitessce.io/api_data.html#vitessce.wrappers.ImageOmeTiffWrapper) class to specify which pair of OME-TIFF file and offsets JSON file to load."
   ]
  },
  {
   "cell_type": "code",
   "execution_count": null,
   "metadata": {
    "editable": true,
    "slideshow": {
     "slide_type": ""
    },
    "tags": []
   },
   "outputs": [],
   "source": [
    "vc = vit.VitessceConfig(\n",
    "    schema_version=\"1.0.17\",\n",
    "    description=ome_tiff_artifact.description\n",
    ")\n",
    "dataset = vc.add_dataset(\"Image\").add_object(\n",
    "    vit.ImageOmeTiffWrapper(\n",
    "        img_artifact=ome_tiff_artifact,\n",
    "        offsets_artifact=offsets_artifact,\n",
    "    )\n",
    ")\n",
    "spatial = vc.add_view(\"spatialBeta\", dataset=dataset)\n",
    "layer_controller = vc.add_view(\"layerControllerBeta\", dataset=dataset)\n",
    "vc.layout(spatial | layer_controller);"
   ]
  },
  {
   "cell_type": "markdown",
   "metadata": {
    "editable": true,
    "slideshow": {
     "slide_type": ""
    },
    "tags": []
   },
   "source": [
    "Save the `VitessceConfig` object."
   ]
  },
  {
   "cell_type": "code",
   "execution_count": null,
   "metadata": {
    "editable": true,
    "slideshow": {
     "slide_type": ""
    },
    "tags": [
     "hide-output"
    ]
   },
   "outputs": [],
   "source": [
    "description_pas_ome_tiff = \"View PAS OME-TIFF, Neumann et al., 2020 in Vitessce\"\n",
    "ome_tiff_vc_artifact = ln.integrations.save_vitessce_config(\n",
    "    vc, description=description_pas_ome_tiff,\n",
    ")"
   ]
  },
  {
   "cell_type": "code",
   "execution_count": null,
   "metadata": {
    "editable": true,
    "slideshow": {
     "slide_type": ""
    },
    "tags": []
   },
   "outputs": [],
   "source": [
    "ome_tiff_vc_artifact.view_lineage()"
   ]
  },
  {
   "cell_type": "markdown",
   "metadata": {
    "editable": true,
    "slideshow": {
     "slide_type": ""
    },
    "tags": []
   },
   "source": [
    ":::{note}\n",
    "\n",
    "After running `save_vitessce_config`, a Vitessce button will appear next to the dataset in the [Artifacts](https://lamin.ai/vitessce/examples/artifacts) page of the web interface.\n",
    "\n",
    "If your `VitessceConfig` object references data from multiple artifacts, the Vitessce button will appear next to a `Collection` that groups these artifacts (on the [Collections](https://lamin.ai/vitessce/examples/collections) tab of the Artifacts page).\n",
    "In the case of OME-TIFF, the presence of the corresponding offsets JSON file will result in the creation of a Collection.\n",
    "\n",
    ":::"
   ]
  },
  {
   "cell_type": "markdown",
   "metadata": {
    "editable": true,
    "slideshow": {
     "slide_type": ""
    },
    "tags": []
   },
   "source": [
    "## Visualize an image (OME-Zarr format)"
   ]
  },
  {
   "cell_type": "markdown",
   "metadata": {
    "editable": true,
    "slideshow": {
     "slide_type": ""
    },
    "tags": []
   },
   "source": [
    "Retrieve an OME-Zarr (also known as OME-NGFF) formatted image. We could download an unzip such an image, but in downloading the SpatialData object above, we already have access to a valid OME-Zarr image locally."
   ]
  },
  {
   "cell_type": "code",
   "execution_count": null,
   "metadata": {
    "editable": true,
    "slideshow": {
     "slide_type": ""
    },
    "tags": []
   },
   "outputs": [],
   "source": [
    "ome_zarr_filepath = Path(sdata_zarr_filepath) / \"images\" / \"CytAssist_FFPE_Human_Breast_Cancer_full_image\""
   ]
  },
  {
   "cell_type": "markdown",
   "metadata": {
    "editable": true,
    "slideshow": {
     "slide_type": ""
    },
    "tags": []
   },
   "source": [
    "### Save the dataset"
   ]
  },
  {
   "cell_type": "markdown",
   "metadata": {
    "editable": true,
    "slideshow": {
     "slide_type": ""
    },
    "tags": []
   },
   "source": [
    "Save the `.ome.zarr` DirectoryStore as a LaminDB Artifact."
   ]
  },
  {
   "cell_type": "code",
   "execution_count": null,
   "metadata": {
    "editable": true,
    "slideshow": {
     "slide_type": ""
    },
    "tags": []
   },
   "outputs": [],
   "source": [
    "ome_zarr_artifact = ln.Artifact(\n",
    "    ome_zarr_filepath,\n",
    "    key=\"vitessce_examples/visium.ome.zarr\",\n",
    "    description=\"Visium OME-Zarr Example\",\n",
    "    type=\"dataset\",\n",
    ")\n",
    "ome_zarr_artifact.save()"
   ]
  },
  {
   "cell_type": "markdown",
   "metadata": {
    "editable": true,
    "slideshow": {
     "slide_type": ""
    },
    "tags": []
   },
   "source": [
    "### Save a VitessceConfig object"
   ]
  },
  {
   "cell_type": "markdown",
   "metadata": {
    "editable": true,
    "slideshow": {
     "slide_type": ""
    },
    "tags": []
   },
   "source": [
    "You can create a dashboard for one or several datasets by using Vitessce's component API.\n",
    "Here, we use the [ImageOmeZarrWrapper](https://python-docs.vitessce.io/api_data.html#vitessce.wrappers.ImageOmeZarrWrapper) class to specify an OME-Zarr file to load for visualization."
   ]
  },
  {
   "cell_type": "code",
   "execution_count": null,
   "metadata": {
    "editable": true,
    "slideshow": {
     "slide_type": ""
    },
    "tags": []
   },
   "outputs": [],
   "source": [
    "vc = vit.VitessceConfig(\n",
    "    schema_version=\"1.0.17\",\n",
    "    description=ome_zarr_artifact.description\n",
    ")\n",
    "dataset_uid = \"ome_zarr_image\"\n",
    "dataset = vc.add_dataset(\"Image\", uid=dataset_uid).add_object(\n",
    "    vit.ImageOmeZarrWrapper(\n",
    "        img_artifact=ome_zarr_artifact,\n",
    "    )\n",
    ")\n",
    "spatial = vc.add_view(\"spatialBeta\", dataset=dataset)\n",
    "layer_controller = vc.add_view(\"layerControllerBeta\", dataset=dataset)\n",
    "vc.link_views_by_dict([spatial, layer_controller], {\n",
    "    \"imageLayer\": vit.CoordinationLevel([{\n",
    "        \"photometricInterpretation\": \"RGB\",\n",
    "    }]),\n",
    "}, scope_prefix=vit.get_initial_coordination_scope_prefix(dataset_uid, \"image\"))\n",
    "vc.layout(spatial | layer_controller);"
   ]
  },
  {
   "cell_type": "markdown",
   "metadata": {
    "editable": true,
    "slideshow": {
     "slide_type": ""
    },
    "tags": []
   },
   "source": [
    "Save the `VitessceConfig` object."
   ]
  },
  {
   "cell_type": "code",
   "execution_count": null,
   "metadata": {
    "editable": true,
    "slideshow": {
     "slide_type": ""
    },
    "tags": [
     "hide-output"
    ]
   },
   "outputs": [],
   "source": [
    "ome_zarr_vc_artifact = ln.integrations.save_vitessce_config(\n",
    "    vc, description=\"View Visium OME-Zarr Example in Vitessce\",\n",
    ")"
   ]
  },
  {
   "cell_type": "code",
   "execution_count": null,
   "metadata": {
    "editable": true,
    "slideshow": {
     "slide_type": ""
    },
    "tags": []
   },
   "outputs": [],
   "source": [
    "ome_zarr_vc_artifact.view_lineage()"
   ]
  },
  {
   "cell_type": "markdown",
   "metadata": {
    "editable": true,
    "slideshow": {
     "slide_type": ""
    },
    "tags": []
   },
   "source": [
    ":::{note}\n",
    "\n",
    "After running `save_vitessce_config`, a Vitessce button will appear next to the dataset in the [Artifacts](https://lamin.ai/vitessce/examples/artifacts) page of the web interface.\n",
    "\n",
    ":::"
   ]
  },
  {
   "cell_type": "code",
   "execution_count": null,
   "metadata": {
    "editable": true,
    "slideshow": {
     "slide_type": ""
    },
    "tags": []
   },
   "outputs": [],
   "source": [
    "# [optional] finish run and auto-save the notebook\n",
    "# ln.finish()"
   ]
  },
  {
   "cell_type": "markdown",
   "metadata": {
    "editable": true,
    "slideshow": {
     "slide_type": ""
    },
    "tags": []
   },
   "source": [
    ":::{dropdown} Upload speed\n",
    "\n",
    "Here is [a note](https://lamin.ai/laminlabs/lamindata/transform/WDjio16cQsdW5zKv) on folder upload speed and why `lamindb` does not use the `.export(to=\"s3\")` functionality of Vitessce.\n",
    "\n",
    ":::"
   ]
  },
  {
   "cell_type": "code",
   "execution_count": null,
   "metadata": {
    "editable": true,
    "slideshow": {
     "slide_type": ""
    },
    "tags": [
     "hide-cell"
    ]
   },
   "outputs": [],
   "source": [
    "# clean up artifacts in CI run\n",
    "ln.Collection.get(name=description_pas_ome_tiff).delete(permanent=True)\n",
    "ln.Collection.get(name=description_habib17_h5ad).delete(permanent=True)\n",
    "h5ad_artifact.delete(permanent=True)\n",
    "ref_artifact.delete(permanent=True)\n",
    "\n",
    "adata_zarr_artifact.delete(permanent=True)\n",
    "sdata_zarr_artifact.delete(permanent=True)\n",
    "\n",
    "ome_tiff_artifact.delete(permanent=True)\n",
    "offsets_artifact.delete(permanent=True)\n",
    "\n",
    "ome_zarr_artifact.delete(permanent=True)\n",
    "\n",
    "h5ad_vc_artifact.delete(permanent=True)\n",
    "adata_zarr_vc_artifact.delete(permanent=True)\n",
    "sdata_vc_artifact.delete(permanent=True)\n",
    "ome_tiff_vc_artifact.delete(permanent=True)\n",
    "ome_zarr_vc_artifact.delete(permanent=True)"
   ]
  }
 ],
 "metadata": {
  "kernelspec": {
   "display_name": "lamindb",
   "language": "python",
   "name": "python3"
  },
  "language_info": {
   "codemirror_mode": {
    "name": "ipython",
    "version": 3
   },
   "file_extension": ".py",
   "mimetype": "text/x-python",
   "name": "python",
   "nbconvert_exporter": "python",
   "pygments_lexer": "ipython3",
   "version": "3.11.7"
  }
 },
 "nbformat": 4,
 "nbformat_minor": 4
}
