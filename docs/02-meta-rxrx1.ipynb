{
 "cells": [
  {
   "attachments": {},
   "cell_type": "markdown",
   "id": "82251552-5981-44f1-a7fd-944c59a845de",
   "metadata": {},
   "source": [
    "# Validate and register RxRx1 metadata\n",
    "\n",
    "In this notebook, we'll take a look at how to validate and register metadata.\n",
    "\n",
    "We will combine metadata and deep learning embeddings into an `AnnData` object."
   ]
  },
  {
   "cell_type": "code",
   "execution_count": 1,
   "id": "d4c819f7",
   "metadata": {},
   "outputs": [
    {
     "name": "stdout",
     "output_type": "stream",
     "text": [
      "💡 loaded instance: laminlabs/rxrx (lamindb 0.55.1)\n"
     ]
    }
   ],
   "source": [
    "import lamindb as ln\n",
    "import lnschema_bionty as lb\n",
    "import lnschema_lamin1 as ln1\n",
    "import anndata as ad"
   ]
  },
  {
   "cell_type": "code",
   "execution_count": 2,
   "id": "303f2068",
   "metadata": {},
   "outputs": [],
   "source": [
    "ln.settings.verbosity = \"hint\""
   ]
  },
  {
   "cell_type": "code",
   "execution_count": 3,
   "id": "ae5f5e0a",
   "metadata": {},
   "outputs": [
    {
     "name": "stdout",
     "output_type": "stream",
     "text": [
      "💡 notebook imports: anndata==0.9.1 lamindb==0.55.1 lnschema_bionty==0.31.1 lnschema_lamin1==0.23.2\n",
      "✅ loaded: Transform(id='Zo0qJt4IQPsbz8', name='Validate and register RxRx1 metadata', short_name='02-meta-rxrx1', version='0', type='notebook', updated_at=2023-10-06 13:28:25, latest_report_id='OwREl5WuYpHjsiu0AaEc', source_file_id='9I64U9uJpd2PnOUopzr6', created_by_id='kmvZDIX9')\n",
      "✅ loaded: Run(id='YGq6vCGFAJAjLDCBg3em', run_at=2023-10-06 14:33:31, transform_id='Zo0qJt4IQPsbz8', created_by_id='kmvZDIX9', report_id='OwREl5WuYpHjsiu0AaEc')\n",
      "✅   parent transform: Transform(id='VxfLdk7rOTnbz8', name='Download and register files', short_name='01-download', version='0', type='notebook', updated_at=2023-10-06 13:28:05, latest_report_id='kgSzDztANTTADNaGJvLj', source_file_id='cmE8wMYIjegF0x1Z4A7u', created_by_id='kmvZDIX9')\n"
     ]
    }
   ],
   "source": [
    "ln.track()"
   ]
  },
  {
   "cell_type": "markdown",
   "id": "cfcd84c1",
   "metadata": {},
   "source": [
    "## Load metadata"
   ]
  },
  {
   "cell_type": "markdown",
   "id": "51083bac",
   "metadata": {},
   "source": [
    "We read in the metadata of the wells:"
   ]
  },
  {
   "cell_type": "code",
   "execution_count": 4,
   "id": "a20be6b6",
   "metadata": {},
   "outputs": [
    {
     "name": "stdout",
     "output_type": "stream",
     "text": [
      "💡 adding file a2Y6N2V0igtDVgSMfrFu as input for run YGq6vCGFAJAjLDCBg3em, adding parent transform VxfLdk7rOTnbz8\n",
      "... downloading metadata.csv: 1.00\n",
      "\r"
     ]
    }
   ],
   "source": [
    "meta_file = ln.File.filter(key=\"rxrx1/metadata.csv\").one()\n",
    "meta = meta_file.load()"
   ]
  },
  {
   "cell_type": "code",
   "execution_count": 5,
   "id": "573d7ff5",
   "metadata": {},
   "outputs": [
    {
     "data": {
      "text/html": [
       "<div>\n",
       "<style scoped>\n",
       "    .dataframe tbody tr th:only-of-type {\n",
       "        vertical-align: middle;\n",
       "    }\n",
       "\n",
       "    .dataframe tbody tr th {\n",
       "        vertical-align: top;\n",
       "    }\n",
       "\n",
       "    .dataframe thead th {\n",
       "        text-align: right;\n",
       "    }\n",
       "</style>\n",
       "<table border=\"1\" class=\"dataframe\">\n",
       "  <thead>\n",
       "    <tr style=\"text-align: right;\">\n",
       "      <th></th>\n",
       "      <th>site_id</th>\n",
       "      <th>well_id</th>\n",
       "      <th>cell_type</th>\n",
       "      <th>dataset</th>\n",
       "      <th>experiment</th>\n",
       "      <th>plate</th>\n",
       "      <th>well</th>\n",
       "      <th>site</th>\n",
       "      <th>well_type</th>\n",
       "      <th>sirna</th>\n",
       "      <th>sirna_id</th>\n",
       "    </tr>\n",
       "  </thead>\n",
       "  <tbody>\n",
       "    <tr>\n",
       "      <th>0</th>\n",
       "      <td>HEPG2-08_1_B02_1</td>\n",
       "      <td>HEPG2-08_1_B02</td>\n",
       "      <td>HEPG2</td>\n",
       "      <td>test</td>\n",
       "      <td>HEPG2-08</td>\n",
       "      <td>1</td>\n",
       "      <td>B02</td>\n",
       "      <td>1</td>\n",
       "      <td>negative_control</td>\n",
       "      <td>EMPTY</td>\n",
       "      <td>1138</td>\n",
       "    </tr>\n",
       "    <tr>\n",
       "      <th>1</th>\n",
       "      <td>HEPG2-08_1_B02_2</td>\n",
       "      <td>HEPG2-08_1_B02</td>\n",
       "      <td>HEPG2</td>\n",
       "      <td>test</td>\n",
       "      <td>HEPG2-08</td>\n",
       "      <td>1</td>\n",
       "      <td>B02</td>\n",
       "      <td>2</td>\n",
       "      <td>negative_control</td>\n",
       "      <td>EMPTY</td>\n",
       "      <td>1138</td>\n",
       "    </tr>\n",
       "    <tr>\n",
       "      <th>2</th>\n",
       "      <td>HEPG2-08_1_B03_1</td>\n",
       "      <td>HEPG2-08_1_B03</td>\n",
       "      <td>HEPG2</td>\n",
       "      <td>test</td>\n",
       "      <td>HEPG2-08</td>\n",
       "      <td>1</td>\n",
       "      <td>B03</td>\n",
       "      <td>1</td>\n",
       "      <td>treatment</td>\n",
       "      <td>s21721</td>\n",
       "      <td>855</td>\n",
       "    </tr>\n",
       "    <tr>\n",
       "      <th>3</th>\n",
       "      <td>HEPG2-08_1_B03_2</td>\n",
       "      <td>HEPG2-08_1_B03</td>\n",
       "      <td>HEPG2</td>\n",
       "      <td>test</td>\n",
       "      <td>HEPG2-08</td>\n",
       "      <td>1</td>\n",
       "      <td>B03</td>\n",
       "      <td>2</td>\n",
       "      <td>treatment</td>\n",
       "      <td>s21721</td>\n",
       "      <td>855</td>\n",
       "    </tr>\n",
       "    <tr>\n",
       "      <th>4</th>\n",
       "      <td>HEPG2-08_1_B04_1</td>\n",
       "      <td>HEPG2-08_1_B04</td>\n",
       "      <td>HEPG2</td>\n",
       "      <td>test</td>\n",
       "      <td>HEPG2-08</td>\n",
       "      <td>1</td>\n",
       "      <td>B04</td>\n",
       "      <td>1</td>\n",
       "      <td>treatment</td>\n",
       "      <td>s20894</td>\n",
       "      <td>710</td>\n",
       "    </tr>\n",
       "  </tbody>\n",
       "</table>\n",
       "</div>"
      ],
      "text/plain": [
       "            site_id         well_id cell_type dataset experiment  plate well  \\\n",
       "0  HEPG2-08_1_B02_1  HEPG2-08_1_B02     HEPG2    test   HEPG2-08      1  B02   \n",
       "1  HEPG2-08_1_B02_2  HEPG2-08_1_B02     HEPG2    test   HEPG2-08      1  B02   \n",
       "2  HEPG2-08_1_B03_1  HEPG2-08_1_B03     HEPG2    test   HEPG2-08      1  B03   \n",
       "3  HEPG2-08_1_B03_2  HEPG2-08_1_B03     HEPG2    test   HEPG2-08      1  B03   \n",
       "4  HEPG2-08_1_B04_1  HEPG2-08_1_B04     HEPG2    test   HEPG2-08      1  B04   \n",
       "\n",
       "   site         well_type   sirna  sirna_id  \n",
       "0     1  negative_control   EMPTY      1138  \n",
       "1     2  negative_control   EMPTY      1138  \n",
       "2     1         treatment  s21721       855  \n",
       "3     2         treatment  s21721       855  \n",
       "4     1         treatment  s20894       710  "
      ]
     },
     "execution_count": 5,
     "metadata": {},
     "output_type": "execute_result"
    }
   ],
   "source": [
    "meta.head()"
   ]
  },
  {
   "cell_type": "code",
   "execution_count": 6,
   "id": "5281df48",
   "metadata": {},
   "outputs": [],
   "source": [
    "meta[\"plate\"] = meta[\"plate\"].astype(str)\n",
    "meta[\"site\"] = meta[\"site\"].astype(str)\n",
    "meta[\"sirna_id\"] = meta[\"sirna_id\"].astype(str)"
   ]
  },
  {
   "cell_type": "code",
   "execution_count": 7,
   "id": "cb7b4d61",
   "metadata": {},
   "outputs": [
    {
     "data": {
      "text/plain": [
       "(125510, 11)"
      ]
     },
     "execution_count": 7,
     "metadata": {},
     "output_type": "execute_result"
    }
   ],
   "source": [
    "meta.shape"
   ]
  },
  {
   "cell_type": "markdown",
   "id": "d3544249",
   "metadata": {},
   "source": [
    "Add a `file_keys` column:"
   ]
  },
  {
   "cell_type": "code",
   "execution_count": 8,
   "id": "440f91c0",
   "metadata": {},
   "outputs": [],
   "source": [
    "# get the 6 file keys for each row\n",
    "files_list = []\n",
    "for _, row in meta.iterrows():\n",
    "    well = row.well\n",
    "    site = row.site\n",
    "    # each image has 6 channels\n",
    "    files_list.append(\n",
    "        f\"images/{row.dataset}/{row.experiment}/Plate{row.plate}/{well}_s{site}_w1-w6.png\"\n",
    "    )  # channels are w1 - w6\n",
    "meta[\"file_keys\"] = files_list"
   ]
  },
  {
   "cell_type": "code",
   "execution_count": 9,
   "id": "d6375cb5",
   "metadata": {},
   "outputs": [
    {
     "data": {
      "text/html": [
       "<div>\n",
       "<style scoped>\n",
       "    .dataframe tbody tr th:only-of-type {\n",
       "        vertical-align: middle;\n",
       "    }\n",
       "\n",
       "    .dataframe tbody tr th {\n",
       "        vertical-align: top;\n",
       "    }\n",
       "\n",
       "    .dataframe thead th {\n",
       "        text-align: right;\n",
       "    }\n",
       "</style>\n",
       "<table border=\"1\" class=\"dataframe\">\n",
       "  <thead>\n",
       "    <tr style=\"text-align: right;\">\n",
       "      <th></th>\n",
       "      <th>site_id</th>\n",
       "      <th>well_id</th>\n",
       "      <th>cell_type</th>\n",
       "      <th>dataset</th>\n",
       "      <th>experiment</th>\n",
       "      <th>plate</th>\n",
       "      <th>well</th>\n",
       "      <th>site</th>\n",
       "      <th>well_type</th>\n",
       "      <th>sirna</th>\n",
       "      <th>sirna_id</th>\n",
       "      <th>file_keys</th>\n",
       "    </tr>\n",
       "  </thead>\n",
       "  <tbody>\n",
       "    <tr>\n",
       "      <th>0</th>\n",
       "      <td>HEPG2-08_1_B02_1</td>\n",
       "      <td>HEPG2-08_1_B02</td>\n",
       "      <td>HEPG2</td>\n",
       "      <td>test</td>\n",
       "      <td>HEPG2-08</td>\n",
       "      <td>1</td>\n",
       "      <td>B02</td>\n",
       "      <td>1</td>\n",
       "      <td>negative_control</td>\n",
       "      <td>EMPTY</td>\n",
       "      <td>1138</td>\n",
       "      <td>images/test/HEPG2-08/Plate1/B02_s1_w1-w6.png</td>\n",
       "    </tr>\n",
       "    <tr>\n",
       "      <th>1</th>\n",
       "      <td>HEPG2-08_1_B02_2</td>\n",
       "      <td>HEPG2-08_1_B02</td>\n",
       "      <td>HEPG2</td>\n",
       "      <td>test</td>\n",
       "      <td>HEPG2-08</td>\n",
       "      <td>1</td>\n",
       "      <td>B02</td>\n",
       "      <td>2</td>\n",
       "      <td>negative_control</td>\n",
       "      <td>EMPTY</td>\n",
       "      <td>1138</td>\n",
       "      <td>images/test/HEPG2-08/Plate1/B02_s2_w1-w6.png</td>\n",
       "    </tr>\n",
       "  </tbody>\n",
       "</table>\n",
       "</div>"
      ],
      "text/plain": [
       "            site_id         well_id cell_type dataset experiment plate well  \\\n",
       "0  HEPG2-08_1_B02_1  HEPG2-08_1_B02     HEPG2    test   HEPG2-08     1  B02   \n",
       "1  HEPG2-08_1_B02_2  HEPG2-08_1_B02     HEPG2    test   HEPG2-08     1  B02   \n",
       "\n",
       "  site         well_type  sirna sirna_id  \\\n",
       "0    1  negative_control  EMPTY     1138   \n",
       "1    2  negative_control  EMPTY     1138   \n",
       "\n",
       "                                      file_keys  \n",
       "0  images/test/HEPG2-08/Plate1/B02_s1_w1-w6.png  \n",
       "1  images/test/HEPG2-08/Plate1/B02_s2_w1-w6.png  "
      ]
     },
     "execution_count": 9,
     "metadata": {},
     "output_type": "execute_result"
    }
   ],
   "source": [
    "meta.head(2)"
   ]
  },
  {
   "cell_type": "markdown",
   "id": "60803213",
   "metadata": {},
   "source": [
    "## Load embeddings"
   ]
  },
  {
   "cell_type": "code",
   "execution_count": 10,
   "id": "80f41538",
   "metadata": {},
   "outputs": [],
   "source": [
    "embedding_file = ln.File.filter(key=\"rxrx1/embeddings.csv\").one()"
   ]
  },
  {
   "cell_type": "code",
   "execution_count": 11,
   "id": "ab73c9fa",
   "metadata": {},
   "outputs": [
    {
     "name": "stdout",
     "output_type": "stream",
     "text": [
      "💡 adding file 5Hwfp9rtzLZTPG6OxKUv as input for run YGq6vCGFAJAjLDCBg3em, adding parent transform VxfLdk7rOTnbz8\n",
      "... downloading embeddings.csv: 1.00\n",
      "\r"
     ]
    }
   ],
   "source": [
    "embedding = embedding_file.load()\n",
    "embedding.set_index(\"site_id\", inplace=True)"
   ]
  },
  {
   "cell_type": "code",
   "execution_count": 12,
   "id": "3a2b5f5b",
   "metadata": {},
   "outputs": [
    {
     "data": {
      "text/plain": [
       "(125510, 128)"
      ]
     },
     "execution_count": 12,
     "metadata": {},
     "output_type": "execute_result"
    }
   ],
   "source": [
    "embedding.shape"
   ]
  },
  {
   "cell_type": "code",
   "execution_count": 13,
   "id": "560f2e22",
   "metadata": {},
   "outputs": [
    {
     "data": {
      "text/html": [
       "<div>\n",
       "<style scoped>\n",
       "    .dataframe tbody tr th:only-of-type {\n",
       "        vertical-align: middle;\n",
       "    }\n",
       "\n",
       "    .dataframe tbody tr th {\n",
       "        vertical-align: top;\n",
       "    }\n",
       "\n",
       "    .dataframe thead th {\n",
       "        text-align: right;\n",
       "    }\n",
       "</style>\n",
       "<table border=\"1\" class=\"dataframe\">\n",
       "  <thead>\n",
       "    <tr style=\"text-align: right;\">\n",
       "      <th></th>\n",
       "      <th>feature_0</th>\n",
       "      <th>feature_1</th>\n",
       "      <th>feature_2</th>\n",
       "      <th>feature_3</th>\n",
       "      <th>feature_4</th>\n",
       "      <th>feature_5</th>\n",
       "      <th>feature_6</th>\n",
       "      <th>feature_7</th>\n",
       "      <th>feature_8</th>\n",
       "      <th>feature_9</th>\n",
       "      <th>...</th>\n",
       "      <th>feature_118</th>\n",
       "      <th>feature_119</th>\n",
       "      <th>feature_120</th>\n",
       "      <th>feature_121</th>\n",
       "      <th>feature_122</th>\n",
       "      <th>feature_123</th>\n",
       "      <th>feature_124</th>\n",
       "      <th>feature_125</th>\n",
       "      <th>feature_126</th>\n",
       "      <th>feature_127</th>\n",
       "    </tr>\n",
       "    <tr>\n",
       "      <th>site_id</th>\n",
       "      <th></th>\n",
       "      <th></th>\n",
       "      <th></th>\n",
       "      <th></th>\n",
       "      <th></th>\n",
       "      <th></th>\n",
       "      <th></th>\n",
       "      <th></th>\n",
       "      <th></th>\n",
       "      <th></th>\n",
       "      <th></th>\n",
       "      <th></th>\n",
       "      <th></th>\n",
       "      <th></th>\n",
       "      <th></th>\n",
       "      <th></th>\n",
       "      <th></th>\n",
       "      <th></th>\n",
       "      <th></th>\n",
       "      <th></th>\n",
       "      <th></th>\n",
       "    </tr>\n",
       "  </thead>\n",
       "  <tbody>\n",
       "    <tr>\n",
       "      <th>U2OS-01_1_B02_1</th>\n",
       "      <td>-1.568359</td>\n",
       "      <td>-0.117188</td>\n",
       "      <td>0.912598</td>\n",
       "      <td>0.378418</td>\n",
       "      <td>-1.523438</td>\n",
       "      <td>4.394531</td>\n",
       "      <td>1.664062</td>\n",
       "      <td>1.410156</td>\n",
       "      <td>0.669434</td>\n",
       "      <td>1.088867</td>\n",
       "      <td>...</td>\n",
       "      <td>-0.135620</td>\n",
       "      <td>-2.000000</td>\n",
       "      <td>3.380859</td>\n",
       "      <td>-3.076172</td>\n",
       "      <td>-1.336914</td>\n",
       "      <td>-0.993652</td>\n",
       "      <td>-2.152344</td>\n",
       "      <td>-1.307617</td>\n",
       "      <td>4.492188</td>\n",
       "      <td>0.646973</td>\n",
       "    </tr>\n",
       "    <tr>\n",
       "      <th>U2OS-01_1_B02_2</th>\n",
       "      <td>-0.112671</td>\n",
       "      <td>0.162842</td>\n",
       "      <td>-0.464111</td>\n",
       "      <td>-3.265625</td>\n",
       "      <td>0.598145</td>\n",
       "      <td>0.263916</td>\n",
       "      <td>1.544922</td>\n",
       "      <td>-1.476562</td>\n",
       "      <td>1.360352</td>\n",
       "      <td>-0.535156</td>\n",
       "      <td>...</td>\n",
       "      <td>1.327148</td>\n",
       "      <td>-3.613281</td>\n",
       "      <td>0.671387</td>\n",
       "      <td>0.304688</td>\n",
       "      <td>-1.413086</td>\n",
       "      <td>0.191040</td>\n",
       "      <td>-1.658203</td>\n",
       "      <td>-0.099609</td>\n",
       "      <td>1.605469</td>\n",
       "      <td>-1.285156</td>\n",
       "    </tr>\n",
       "    <tr>\n",
       "      <th>U2OS-01_1_B03_1</th>\n",
       "      <td>-0.173340</td>\n",
       "      <td>1.729492</td>\n",
       "      <td>-2.585938</td>\n",
       "      <td>1.026367</td>\n",
       "      <td>1.139648</td>\n",
       "      <td>3.724609</td>\n",
       "      <td>-0.505371</td>\n",
       "      <td>3.406250</td>\n",
       "      <td>0.984375</td>\n",
       "      <td>-0.035309</td>\n",
       "      <td>...</td>\n",
       "      <td>1.701172</td>\n",
       "      <td>0.204346</td>\n",
       "      <td>-1.625000</td>\n",
       "      <td>1.002930</td>\n",
       "      <td>-2.447266</td>\n",
       "      <td>-1.492188</td>\n",
       "      <td>0.392090</td>\n",
       "      <td>-3.347656</td>\n",
       "      <td>-3.281250</td>\n",
       "      <td>-0.475342</td>\n",
       "    </tr>\n",
       "    <tr>\n",
       "      <th>U2OS-01_1_B03_2</th>\n",
       "      <td>-0.443604</td>\n",
       "      <td>1.350586</td>\n",
       "      <td>-5.363281</td>\n",
       "      <td>0.283203</td>\n",
       "      <td>0.530273</td>\n",
       "      <td>4.933594</td>\n",
       "      <td>1.471680</td>\n",
       "      <td>2.351562</td>\n",
       "      <td>0.550293</td>\n",
       "      <td>0.452148</td>\n",
       "      <td>...</td>\n",
       "      <td>0.972656</td>\n",
       "      <td>-2.593750</td>\n",
       "      <td>-3.115234</td>\n",
       "      <td>2.255859</td>\n",
       "      <td>-3.662109</td>\n",
       "      <td>-4.214844</td>\n",
       "      <td>2.388672</td>\n",
       "      <td>-5.515625</td>\n",
       "      <td>-3.455078</td>\n",
       "      <td>-0.545898</td>\n",
       "    </tr>\n",
       "    <tr>\n",
       "      <th>U2OS-01_1_B04_1</th>\n",
       "      <td>3.480469</td>\n",
       "      <td>-2.751953</td>\n",
       "      <td>2.074219</td>\n",
       "      <td>-2.109375</td>\n",
       "      <td>4.582031</td>\n",
       "      <td>0.926270</td>\n",
       "      <td>-2.501953</td>\n",
       "      <td>3.033203</td>\n",
       "      <td>-2.492188</td>\n",
       "      <td>3.822266</td>\n",
       "      <td>...</td>\n",
       "      <td>4.335938</td>\n",
       "      <td>0.744629</td>\n",
       "      <td>-0.076477</td>\n",
       "      <td>1.311523</td>\n",
       "      <td>4.371094</td>\n",
       "      <td>2.171875</td>\n",
       "      <td>2.218750</td>\n",
       "      <td>-4.050781</td>\n",
       "      <td>1.835938</td>\n",
       "      <td>-1.174805</td>\n",
       "    </tr>\n",
       "  </tbody>\n",
       "</table>\n",
       "<p>5 rows × 128 columns</p>\n",
       "</div>"
      ],
      "text/plain": [
       "                 feature_0  feature_1  feature_2  feature_3  feature_4  \\\n",
       "site_id                                                                  \n",
       "U2OS-01_1_B02_1  -1.568359  -0.117188   0.912598   0.378418  -1.523438   \n",
       "U2OS-01_1_B02_2  -0.112671   0.162842  -0.464111  -3.265625   0.598145   \n",
       "U2OS-01_1_B03_1  -0.173340   1.729492  -2.585938   1.026367   1.139648   \n",
       "U2OS-01_1_B03_2  -0.443604   1.350586  -5.363281   0.283203   0.530273   \n",
       "U2OS-01_1_B04_1   3.480469  -2.751953   2.074219  -2.109375   4.582031   \n",
       "\n",
       "                 feature_5  feature_6  feature_7  feature_8  feature_9  ...  \\\n",
       "site_id                                                                 ...   \n",
       "U2OS-01_1_B02_1   4.394531   1.664062   1.410156   0.669434   1.088867  ...   \n",
       "U2OS-01_1_B02_2   0.263916   1.544922  -1.476562   1.360352  -0.535156  ...   \n",
       "U2OS-01_1_B03_1   3.724609  -0.505371   3.406250   0.984375  -0.035309  ...   \n",
       "U2OS-01_1_B03_2   4.933594   1.471680   2.351562   0.550293   0.452148  ...   \n",
       "U2OS-01_1_B04_1   0.926270  -2.501953   3.033203  -2.492188   3.822266  ...   \n",
       "\n",
       "                 feature_118  feature_119  feature_120  feature_121  \\\n",
       "site_id                                                               \n",
       "U2OS-01_1_B02_1    -0.135620    -2.000000     3.380859    -3.076172   \n",
       "U2OS-01_1_B02_2     1.327148    -3.613281     0.671387     0.304688   \n",
       "U2OS-01_1_B03_1     1.701172     0.204346    -1.625000     1.002930   \n",
       "U2OS-01_1_B03_2     0.972656    -2.593750    -3.115234     2.255859   \n",
       "U2OS-01_1_B04_1     4.335938     0.744629    -0.076477     1.311523   \n",
       "\n",
       "                 feature_122  feature_123  feature_124  feature_125  \\\n",
       "site_id                                                               \n",
       "U2OS-01_1_B02_1    -1.336914    -0.993652    -2.152344    -1.307617   \n",
       "U2OS-01_1_B02_2    -1.413086     0.191040    -1.658203    -0.099609   \n",
       "U2OS-01_1_B03_1    -2.447266    -1.492188     0.392090    -3.347656   \n",
       "U2OS-01_1_B03_2    -3.662109    -4.214844     2.388672    -5.515625   \n",
       "U2OS-01_1_B04_1     4.371094     2.171875     2.218750    -4.050781   \n",
       "\n",
       "                 feature_126  feature_127  \n",
       "site_id                                    \n",
       "U2OS-01_1_B02_1     4.492188     0.646973  \n",
       "U2OS-01_1_B02_2     1.605469    -1.285156  \n",
       "U2OS-01_1_B03_1    -3.281250    -0.475342  \n",
       "U2OS-01_1_B03_2    -3.455078    -0.545898  \n",
       "U2OS-01_1_B04_1     1.835938    -1.174805  \n",
       "\n",
       "[5 rows x 128 columns]"
      ]
     },
     "execution_count": 13,
     "metadata": {},
     "output_type": "execute_result"
    }
   ],
   "source": [
    "embedding.head()"
   ]
  },
  {
   "attachments": {},
   "cell_type": "markdown",
   "id": "efca351e-a3ef-4550-8c59-a3dc0141dd88",
   "metadata": {},
   "source": [
    "## Validate and register metadata"
   ]
  },
  {
   "cell_type": "markdown",
   "id": "d0a2f4a2",
   "metadata": {},
   "source": [
    "### `cell_type`"
   ]
  },
  {
   "attachments": {},
   "cell_type": "markdown",
   "id": "d255e3b6-dfbd-4319-bebe-6dc1baf11215",
   "metadata": {},
   "source": [
    "We can start with curating the metadata table based on the ontologies from bionty. For example, let's start with the `cell_line` metadata.\n",
    "In this table, they are called \"cell_type\" but they are in fact the cell line for the experiments"
   ]
  },
  {
   "cell_type": "code",
   "execution_count": 14,
   "id": "37d9bb21-b6b9-4915-8b68-365f11fde979",
   "metadata": {
    "tags": []
   },
   "outputs": [
    {
     "data": {
      "text/plain": [
       "array(['HEPG2', 'HUVEC', 'RPE', 'U2OS'], dtype=object)"
      ]
     },
     "execution_count": 14,
     "metadata": {},
     "output_type": "execute_result"
    }
   ],
   "source": [
    "meta[\"cell_type\"].unique()"
   ]
  },
  {
   "cell_type": "code",
   "execution_count": 15,
   "id": "030e7b02",
   "metadata": {},
   "outputs": [
    {
     "name": "stdout",
     "output_type": "stream",
     "text": [
      "✅ created \u001b[1;95m4 CellLine records from Bionty\u001b[0m matching \u001b[3msynonyms\u001b[0m: \u001b[1;95m'HEPG2', 'HUVEC', 'RPE', 'U2OS'\u001b[0m\n"
     ]
    }
   ],
   "source": [
    "cell_lines = lb.CellLine.from_values(meta[\"cell_type\"])"
   ]
  },
  {
   "cell_type": "code",
   "execution_count": 16,
   "id": "ef0f3709",
   "metadata": {
    "tags": []
   },
   "outputs": [],
   "source": [
    "ln.save(cell_lines, parents=False)"
   ]
  },
  {
   "cell_type": "markdown",
   "id": "470dc1e5",
   "metadata": {},
   "source": [
    "Set abbr:"
   ]
  },
  {
   "cell_type": "code",
   "execution_count": 4,
   "id": "e1945697",
   "metadata": {},
   "outputs": [
    {
     "data": {
      "text/html": [
       "<div>\n",
       "<style scoped>\n",
       "    .dataframe tbody tr th:only-of-type {\n",
       "        vertical-align: middle;\n",
       "    }\n",
       "\n",
       "    .dataframe tbody tr th {\n",
       "        vertical-align: top;\n",
       "    }\n",
       "\n",
       "    .dataframe thead th {\n",
       "        text-align: right;\n",
       "    }\n",
       "</style>\n",
       "<table border=\"1\" class=\"dataframe\">\n",
       "  <thead>\n",
       "    <tr style=\"text-align: right;\">\n",
       "      <th></th>\n",
       "      <th>name</th>\n",
       "      <th>ontology_id</th>\n",
       "      <th>abbr</th>\n",
       "      <th>synonyms</th>\n",
       "      <th>description</th>\n",
       "      <th>bionty_source_id</th>\n",
       "      <th>updated_at</th>\n",
       "      <th>created_by_id</th>\n",
       "    </tr>\n",
       "    <tr>\n",
       "      <th>id</th>\n",
       "      <th></th>\n",
       "      <th></th>\n",
       "      <th></th>\n",
       "      <th></th>\n",
       "      <th></th>\n",
       "      <th></th>\n",
       "      <th></th>\n",
       "      <th></th>\n",
       "    </tr>\n",
       "  </thead>\n",
       "  <tbody>\n",
       "    <tr>\n",
       "      <th>a3uzySL7</th>\n",
       "      <td>HUV-EC-C cell</td>\n",
       "      <td>CLO:0004307</td>\n",
       "      <td>None</td>\n",
       "      <td>HUVEC|HUV-EC-C</td>\n",
       "      <td>None</td>\n",
       "      <td>7PVI</td>\n",
       "      <td>2023-10-06 15:19:47</td>\n",
       "      <td>kmvZDIX9</td>\n",
       "    </tr>\n",
       "    <tr>\n",
       "      <th>9dcEG64P</th>\n",
       "      <td>U-2 OS cell</td>\n",
       "      <td>CLO:0009454</td>\n",
       "      <td>None</td>\n",
       "      <td>U2OS|U-2 OS</td>\n",
       "      <td>None</td>\n",
       "      <td>7PVI</td>\n",
       "      <td>2023-10-06 15:19:47</td>\n",
       "      <td>kmvZDIX9</td>\n",
       "    </tr>\n",
       "    <tr>\n",
       "      <th>KQYkiVUX</th>\n",
       "      <td>hTERT RPE-1 cell</td>\n",
       "      <td>CLO:0004290</td>\n",
       "      <td>None</td>\n",
       "      <td>hTERT RPE-1|RPE1|RPE-1|RPE</td>\n",
       "      <td>disease: pigmented epithelium; immortalized   ...</td>\n",
       "      <td>7PVI</td>\n",
       "      <td>2023-10-06 15:19:47</td>\n",
       "      <td>kmvZDIX9</td>\n",
       "    </tr>\n",
       "    <tr>\n",
       "      <th>AkJL1qhy</th>\n",
       "      <td>Hep G2 cell</td>\n",
       "      <td>CLO:0003704</td>\n",
       "      <td>None</td>\n",
       "      <td>HEP-G2|HEPG2|Hep G2|HEP G2|HepG2</td>\n",
       "      <td>None</td>\n",
       "      <td>7PVI</td>\n",
       "      <td>2023-10-06 15:19:47</td>\n",
       "      <td>kmvZDIX9</td>\n",
       "    </tr>\n",
       "  </tbody>\n",
       "</table>\n",
       "</div>"
      ],
      "text/plain": [
       "                      name  ontology_id  abbr  \\\n",
       "id                                              \n",
       "a3uzySL7     HUV-EC-C cell  CLO:0004307  None   \n",
       "9dcEG64P       U-2 OS cell  CLO:0009454  None   \n",
       "KQYkiVUX  hTERT RPE-1 cell  CLO:0004290  None   \n",
       "AkJL1qhy       Hep G2 cell  CLO:0003704  None   \n",
       "\n",
       "                                  synonyms  \\\n",
       "id                                           \n",
       "a3uzySL7                    HUVEC|HUV-EC-C   \n",
       "9dcEG64P                       U2OS|U-2 OS   \n",
       "KQYkiVUX        hTERT RPE-1|RPE1|RPE-1|RPE   \n",
       "AkJL1qhy  HEP-G2|HEPG2|Hep G2|HEP G2|HepG2   \n",
       "\n",
       "                                                description bionty_source_id  \\\n",
       "id                                                                             \n",
       "a3uzySL7                                               None             7PVI   \n",
       "9dcEG64P                                               None             7PVI   \n",
       "KQYkiVUX  disease: pigmented epithelium; immortalized   ...             7PVI   \n",
       "AkJL1qhy                                               None             7PVI   \n",
       "\n",
       "                   updated_at created_by_id  \n",
       "id                                           \n",
       "a3uzySL7  2023-10-06 15:19:47      kmvZDIX9  \n",
       "9dcEG64P  2023-10-06 15:19:47      kmvZDIX9  \n",
       "KQYkiVUX  2023-10-06 15:19:47      kmvZDIX9  \n",
       "AkJL1qhy  2023-10-06 15:19:47      kmvZDIX9  "
      ]
     },
     "execution_count": 4,
     "metadata": {},
     "output_type": "execute_result"
    }
   ],
   "source": [
    "lb.CellLine.filter().df()"
   ]
  },
  {
   "cell_type": "code",
   "execution_count": 5,
   "id": "90f3fb40",
   "metadata": {},
   "outputs": [],
   "source": [
    "lb.CellLine.filter(id=\"a3uzySL7\").one().set_abbr(\"HUVEC\")\n",
    "lb.CellLine.filter(id=\"9dcEG64P\").one().set_abbr(\"U2OS\")\n",
    "lb.CellLine.filter(id=\"KQYkiVUX\").one().set_abbr(\"RPE\")\n",
    "lb.CellLine.filter(id=\"AkJL1qhy\").one().set_abbr(\"HEPG2\")"
   ]
  },
  {
   "cell_type": "markdown",
   "id": "591ddd62",
   "metadata": {},
   "source": [
    "### `dataset` (train/test labels)"
   ]
  },
  {
   "cell_type": "markdown",
   "id": "87bc0d16",
   "metadata": {},
   "source": [
    "Use `ULabel` for \"train\", \"test\":"
   ]
  },
  {
   "cell_type": "code",
   "execution_count": 17,
   "id": "03800f02",
   "metadata": {},
   "outputs": [
    {
     "data": {
      "text/plain": [
       "array(['test', 'train'], dtype=object)"
      ]
     },
     "execution_count": 17,
     "metadata": {},
     "output_type": "execute_result"
    }
   ],
   "source": [
    "meta[\"dataset\"].unique()"
   ]
  },
  {
   "cell_type": "code",
   "execution_count": 18,
   "id": "2feaee03",
   "metadata": {},
   "outputs": [],
   "source": [
    "train_test = []\n",
    "for name in meta[\"dataset\"].unique():\n",
    "    train_test.append(ln.ULabel(name=name, description=\"ML train/test split\"))\n",
    "\n",
    "ln.save(train_test)"
   ]
  },
  {
   "cell_type": "markdown",
   "id": "1332431d",
   "metadata": {},
   "source": [
    "### `experiment`"
   ]
  },
  {
   "cell_type": "code",
   "execution_count": 19,
   "id": "20e1f372",
   "metadata": {},
   "outputs": [],
   "source": [
    "ln.settings.upon_create_search_name = False\n",
    "\n",
    "experiments = []\n",
    "for name in meta[\"experiment\"].unique():\n",
    "    record = ln1.Experiment(name=name, description=\"RxRx1\")\n",
    "    experiments.append(record)\n",
    "\n",
    "ln.save(experiments)\n",
    "\n",
    "ln.settings.upon_create_search_name = True"
   ]
  },
  {
   "cell_type": "markdown",
   "id": "450de01b",
   "metadata": {},
   "source": [
    "### `plate`"
   ]
  },
  {
   "cell_type": "code",
   "execution_count": 20,
   "id": "c71cf241",
   "metadata": {},
   "outputs": [],
   "source": [
    "is_plate = ln.ULabel(name=\"is_plate\", description=\"parent of plates\")\n",
    "is_plate.save()"
   ]
  },
  {
   "cell_type": "code",
   "execution_count": 21,
   "id": "aea0fa39",
   "metadata": {},
   "outputs": [],
   "source": [
    "plates = []\n",
    "for name in meta[\"plate\"].unique():\n",
    "    record = ln.ULabel(name=f\"Plate{name}\")\n",
    "    plates.append(record)\n",
    "\n",
    "ln.save(plates)\n",
    "is_plate.children.set(plates)"
   ]
  },
  {
   "cell_type": "code",
   "execution_count": 22,
   "id": "35e6fe22",
   "metadata": {},
   "outputs": [
    {
     "data": {
      "image/svg+xml": [
       "<?xml version=\"1.0\" encoding=\"UTF-8\" standalone=\"no\"?>\n",
       "<!DOCTYPE svg PUBLIC \"-//W3C//DTD SVG 1.1//EN\"\n",
       " \"http://www.w3.org/Graphics/SVG/1.1/DTD/svg11.dtd\">\n",
       "<!-- Generated by graphviz version 8.1.0 (20230707.0739)\n",
       " -->\n",
       "<!-- Title: bBSSQZag Pages: 1 -->\n",
       "<svg width=\"390pt\" height=\"116pt\"\n",
       " viewBox=\"0.00 0.00 390.00 116.00\" xmlns=\"http://www.w3.org/2000/svg\" xmlns:xlink=\"http://www.w3.org/1999/xlink\">\n",
       "<g id=\"graph0\" class=\"graph\" transform=\"scale(1 1) rotate(0) translate(4 112)\">\n",
       "<title>bBSSQZag</title>\n",
       "<polygon fill=\"white\" stroke=\"none\" points=\"-4,4 -4,-112 386,-112 386,4 -4,4\"/>\n",
       "<!-- bBSSQZag -->\n",
       "<g id=\"node1\" class=\"node\">\n",
       "<title>bBSSQZag</title>\n",
       "<path fill=\"#10b981\" stroke=\"#065f46\" d=\"M220,-108C220,-108 162,-108 162,-108 156,-108 150,-102 150,-96 150,-96 150,-84 150,-84 150,-78 156,-72 162,-72 162,-72 220,-72 220,-72 226,-72 232,-78 232,-84 232,-84 232,-96 232,-96 232,-102 226,-108 220,-108\"/>\n",
       "<text text-anchor=\"start\" x=\"174.12\" y=\"-91.5\" font-family=\"Helvetica,sans-Serif\" font-size=\"10.00\">is_plate</text>\n",
       "<text text-anchor=\"start\" x=\"158\" y=\"-81.5\" font-family=\"Monospace\" font-size=\"10.00\" fill=\"GREY\">id=bBSSQZag</text>\n",
       "</g>\n",
       "<!-- ISKv1Vk1 -->\n",
       "<g id=\"node2\" class=\"node\">\n",
       "<title>ISKv1Vk1</title>\n",
       "<path fill=\"honeydew\" stroke=\"#065f46\" d=\"M70,-36C70,-36 12,-36 12,-36 6,-36 0,-30 0,-24 0,-24 0,-12 0,-12 0,-6 6,0 12,0 12,0 70,0 70,0 76,0 82,-6 82,-12 82,-12 82,-24 82,-24 82,-30 76,-36 70,-36\"/>\n",
       "<text text-anchor=\"start\" x=\"27.12\" y=\"-19.5\" font-family=\"Helvetica,sans-Serif\" font-size=\"10.00\">Plate1</text>\n",
       "<text text-anchor=\"start\" x=\"8\" y=\"-9.5\" font-family=\"Monospace\" font-size=\"10.00\" fill=\"GREY\">id=ISKv1Vk1</text>\n",
       "</g>\n",
       "<!-- bBSSQZag&#45;&gt;ISKv1Vk1 -->\n",
       "<g id=\"edge1\" class=\"edge\">\n",
       "<title>bBSSQZag&#45;&gt;ISKv1Vk1</title>\n",
       "<path fill=\"none\" stroke=\"dimgrey\" d=\"M153.54,-71.52C132.25,-61.58 105.52,-49.11 83.46,-38.81\"/>\n",
       "<polygon fill=\"dimgrey\" stroke=\"dimgrey\" points=\"84.52,-36.91 79.25,-36.38 83.04,-40.08 84.52,-36.91\"/>\n",
       "</g>\n",
       "<!-- QBCU3hEy -->\n",
       "<g id=\"node3\" class=\"node\">\n",
       "<title>QBCU3hEy</title>\n",
       "<path fill=\"honeydew\" stroke=\"#065f46\" d=\"M170,-36C170,-36 112,-36 112,-36 106,-36 100,-30 100,-24 100,-24 100,-12 100,-12 100,-6 106,0 112,0 112,0 170,0 170,0 176,0 182,-6 182,-12 182,-12 182,-24 182,-24 182,-30 176,-36 170,-36\"/>\n",
       "<text text-anchor=\"start\" x=\"127.12\" y=\"-19.5\" font-family=\"Helvetica,sans-Serif\" font-size=\"10.00\">Plate3</text>\n",
       "<text text-anchor=\"start\" x=\"108\" y=\"-9.5\" font-family=\"Monospace\" font-size=\"10.00\" fill=\"GREY\">id=QBCU3hEy</text>\n",
       "</g>\n",
       "<!-- bBSSQZag&#45;&gt;QBCU3hEy -->\n",
       "<g id=\"edge2\" class=\"edge\">\n",
       "<title>bBSSQZag&#45;&gt;QBCU3hEy</title>\n",
       "<path fill=\"none\" stroke=\"dimgrey\" d=\"M178.64,-71.7C171.98,-62.37 163.7,-50.77 156.6,-40.83\"/>\n",
       "<polygon fill=\"dimgrey\" stroke=\"dimgrey\" points=\"157.55,-40.16 153.22,-37.1 154.7,-42.19 157.55,-40.16\"/>\n",
       "</g>\n",
       "<!-- Uq6YHvJR -->\n",
       "<g id=\"node4\" class=\"node\">\n",
       "<title>Uq6YHvJR</title>\n",
       "<path fill=\"honeydew\" stroke=\"#065f46\" d=\"M270,-36C270,-36 212,-36 212,-36 206,-36 200,-30 200,-24 200,-24 200,-12 200,-12 200,-6 206,0 212,0 212,0 270,0 270,0 276,0 282,-6 282,-12 282,-12 282,-24 282,-24 282,-30 276,-36 270,-36\"/>\n",
       "<text text-anchor=\"start\" x=\"227.12\" y=\"-19.5\" font-family=\"Helvetica,sans-Serif\" font-size=\"10.00\">Plate2</text>\n",
       "<text text-anchor=\"start\" x=\"208\" y=\"-9.5\" font-family=\"Monospace\" font-size=\"10.00\" fill=\"GREY\">id=Uq6YHvJR</text>\n",
       "</g>\n",
       "<!-- bBSSQZag&#45;&gt;Uq6YHvJR -->\n",
       "<g id=\"edge3\" class=\"edge\">\n",
       "<title>bBSSQZag&#45;&gt;Uq6YHvJR</title>\n",
       "<path fill=\"none\" stroke=\"dimgrey\" d=\"M203.36,-71.7C210.02,-62.37 218.3,-50.77 225.4,-40.83\"/>\n",
       "<polygon fill=\"dimgrey\" stroke=\"dimgrey\" points=\"227.3,-42.19 228.78,-37.1 224.45,-40.16 227.3,-42.19\"/>\n",
       "</g>\n",
       "<!-- mF0fkLA1 -->\n",
       "<g id=\"node5\" class=\"node\">\n",
       "<title>mF0fkLA1</title>\n",
       "<path fill=\"honeydew\" stroke=\"#065f46\" d=\"M370,-36C370,-36 312,-36 312,-36 306,-36 300,-30 300,-24 300,-24 300,-12 300,-12 300,-6 306,0 312,0 312,0 370,0 370,0 376,0 382,-6 382,-12 382,-12 382,-24 382,-24 382,-30 376,-36 370,-36\"/>\n",
       "<text text-anchor=\"start\" x=\"327.12\" y=\"-19.5\" font-family=\"Helvetica,sans-Serif\" font-size=\"10.00\">Plate4</text>\n",
       "<text text-anchor=\"start\" x=\"308\" y=\"-9.5\" font-family=\"Monospace\" font-size=\"10.00\" fill=\"GREY\">id=mF0fkLA1</text>\n",
       "</g>\n",
       "<!-- bBSSQZag&#45;&gt;mF0fkLA1 -->\n",
       "<g id=\"edge4\" class=\"edge\">\n",
       "<title>bBSSQZag&#45;&gt;mF0fkLA1</title>\n",
       "<path fill=\"none\" stroke=\"dimgrey\" d=\"M228.46,-71.52C249.75,-61.58 276.48,-49.11 298.54,-38.81\"/>\n",
       "<polygon fill=\"dimgrey\" stroke=\"dimgrey\" points=\"298.96,-40.08 302.75,-36.38 297.48,-36.91 298.96,-40.08\"/>\n",
       "</g>\n",
       "</g>\n",
       "</svg>\n"
      ],
      "text/plain": [
       "<graphviz.graphs.Digraph at 0x14aa0cbe0>"
      ]
     },
     "metadata": {},
     "output_type": "display_data"
    }
   ],
   "source": [
    "is_plate.view_parents(with_children=True)"
   ]
  },
  {
   "cell_type": "markdown",
   "id": "eb573cf8",
   "metadata": {},
   "source": [
    "### `well`"
   ]
  },
  {
   "attachments": {},
   "cell_type": "markdown",
   "id": "80198d9f-dd52-476f-8333-c2742af9c38f",
   "metadata": {},
   "source": [
    "We might also want to add the well information, so that we can link image files and parse images based on well coordinates. To do this, let's first extract well locations from the table:"
   ]
  },
  {
   "cell_type": "code",
   "execution_count": 23,
   "id": "0614c46a-d8f6-40db-be75-acf31411a43c",
   "metadata": {
    "tags": []
   },
   "outputs": [],
   "source": [
    "ln.settings.upon_create_search_name = False\n",
    "\n",
    "wells = []\n",
    "for well in meta[\"well\"].unique():\n",
    "    wells.append(ln1.Well(name=well, row=well[0], column=int(well[1:])))\n",
    "\n",
    "ln.save(wells)\n",
    "\n",
    "ln.settings.upon_create_search_name = True"
   ]
  },
  {
   "cell_type": "markdown",
   "id": "c7903ed3",
   "metadata": {},
   "source": [
    "### `site`"
   ]
  },
  {
   "cell_type": "code",
   "execution_count": 24,
   "id": "fe53232f",
   "metadata": {},
   "outputs": [],
   "source": [
    "is_site = ln.ULabel(name=\"is_site\", description=\"parent of sites\")\n",
    "is_site.save()"
   ]
  },
  {
   "cell_type": "code",
   "execution_count": 25,
   "id": "bc4bb354",
   "metadata": {},
   "outputs": [],
   "source": [
    "sites = []\n",
    "for name in meta[\"site\"].unique():\n",
    "    record = ln.ULabel(name=f\"Site{name}\")\n",
    "    sites.append(record)\n",
    "\n",
    "ln.save(sites)\n",
    "is_site.children.set(sites)"
   ]
  },
  {
   "cell_type": "code",
   "execution_count": 26,
   "id": "50d55873",
   "metadata": {},
   "outputs": [
    {
     "data": {
      "image/svg+xml": [
       "<?xml version=\"1.0\" encoding=\"UTF-8\" standalone=\"no\"?>\n",
       "<!DOCTYPE svg PUBLIC \"-//W3C//DTD SVG 1.1//EN\"\n",
       " \"http://www.w3.org/Graphics/SVG/1.1/DTD/svg11.dtd\">\n",
       "<!-- Generated by graphviz version 8.1.0 (20230707.0739)\n",
       " -->\n",
       "<!-- Title: CSdnPYYF Pages: 1 -->\n",
       "<svg width=\"190pt\" height=\"116pt\"\n",
       " viewBox=\"0.00 0.00 190.00 116.00\" xmlns=\"http://www.w3.org/2000/svg\" xmlns:xlink=\"http://www.w3.org/1999/xlink\">\n",
       "<g id=\"graph0\" class=\"graph\" transform=\"scale(1 1) rotate(0) translate(4 112)\">\n",
       "<title>CSdnPYYF</title>\n",
       "<polygon fill=\"white\" stroke=\"none\" points=\"-4,4 -4,-112 186,-112 186,4 -4,4\"/>\n",
       "<!-- CSdnPYYF -->\n",
       "<g id=\"node1\" class=\"node\">\n",
       "<title>CSdnPYYF</title>\n",
       "<path fill=\"#10b981\" stroke=\"#065f46\" d=\"M120,-108C120,-108 62,-108 62,-108 56,-108 50,-102 50,-96 50,-96 50,-84 50,-84 50,-78 56,-72 62,-72 62,-72 120,-72 120,-72 126,-72 132,-78 132,-84 132,-84 132,-96 132,-96 132,-102 126,-108 120,-108\"/>\n",
       "<text text-anchor=\"start\" x=\"76.75\" y=\"-91.5\" font-family=\"Helvetica,sans-Serif\" font-size=\"10.00\">is_site</text>\n",
       "<text text-anchor=\"start\" x=\"58\" y=\"-81.5\" font-family=\"Monospace\" font-size=\"10.00\" fill=\"GREY\">id=CSdnPYYF</text>\n",
       "</g>\n",
       "<!-- M0FbsDDm -->\n",
       "<g id=\"node2\" class=\"node\">\n",
       "<title>M0FbsDDm</title>\n",
       "<path fill=\"honeydew\" stroke=\"#065f46\" d=\"M70,-36C70,-36 12,-36 12,-36 6,-36 0,-30 0,-24 0,-24 0,-12 0,-12 0,-6 6,0 12,0 12,0 70,0 70,0 76,0 82,-6 82,-12 82,-12 82,-24 82,-24 82,-30 76,-36 70,-36\"/>\n",
       "<text text-anchor=\"start\" x=\"29.75\" y=\"-19.5\" font-family=\"Helvetica,sans-Serif\" font-size=\"10.00\">Site1</text>\n",
       "<text text-anchor=\"start\" x=\"8\" y=\"-9.5\" font-family=\"Monospace\" font-size=\"10.00\" fill=\"GREY\">id=M0FbsDDm</text>\n",
       "</g>\n",
       "<!-- CSdnPYYF&#45;&gt;M0FbsDDm -->\n",
       "<g id=\"edge1\" class=\"edge\">\n",
       "<title>CSdnPYYF&#45;&gt;M0FbsDDm</title>\n",
       "<path fill=\"none\" stroke=\"dimgrey\" d=\"M78.64,-71.7C71.98,-62.37 63.7,-50.77 56.6,-40.83\"/>\n",
       "<polygon fill=\"dimgrey\" stroke=\"dimgrey\" points=\"57.55,-40.16 53.22,-37.1 54.7,-42.19 57.55,-40.16\"/>\n",
       "</g>\n",
       "<!-- iR97o1o5 -->\n",
       "<g id=\"node3\" class=\"node\">\n",
       "<title>iR97o1o5</title>\n",
       "<path fill=\"honeydew\" stroke=\"#065f46\" d=\"M170,-36C170,-36 112,-36 112,-36 106,-36 100,-30 100,-24 100,-24 100,-12 100,-12 100,-6 106,0 112,0 112,0 170,0 170,0 176,0 182,-6 182,-12 182,-12 182,-24 182,-24 182,-30 176,-36 170,-36\"/>\n",
       "<text text-anchor=\"start\" x=\"129.75\" y=\"-19.5\" font-family=\"Helvetica,sans-Serif\" font-size=\"10.00\">Site2</text>\n",
       "<text text-anchor=\"start\" x=\"108\" y=\"-9.5\" font-family=\"Monospace\" font-size=\"10.00\" fill=\"GREY\">id=iR97o1o5</text>\n",
       "</g>\n",
       "<!-- CSdnPYYF&#45;&gt;iR97o1o5 -->\n",
       "<g id=\"edge2\" class=\"edge\">\n",
       "<title>CSdnPYYF&#45;&gt;iR97o1o5</title>\n",
       "<path fill=\"none\" stroke=\"dimgrey\" d=\"M103.36,-71.7C110.02,-62.37 118.3,-50.77 125.4,-40.83\"/>\n",
       "<polygon fill=\"dimgrey\" stroke=\"dimgrey\" points=\"127.3,-42.19 128.78,-37.1 124.45,-40.16 127.3,-42.19\"/>\n",
       "</g>\n",
       "</g>\n",
       "</svg>\n"
      ],
      "text/plain": [
       "<graphviz.graphs.Digraph at 0x1619e6250>"
      ]
     },
     "metadata": {},
     "output_type": "display_data"
    }
   ],
   "source": [
    "is_site.view_parents(with_children=True)"
   ]
  },
  {
   "cell_type": "markdown",
   "id": "b84b665c",
   "metadata": {},
   "source": [
    "### `well_type`"
   ]
  },
  {
   "cell_type": "code",
   "execution_count": 27,
   "id": "d5d846c3",
   "metadata": {},
   "outputs": [],
   "source": [
    "is_well_type = ln.ULabel(name=\"is_well_type\", description=\"parent of well types\")\n",
    "is_well_type.save()"
   ]
  },
  {
   "cell_type": "code",
   "execution_count": 28,
   "id": "05cd6429",
   "metadata": {},
   "outputs": [],
   "source": [
    "well_types = []\n",
    "for name in meta[\"well_type\"].unique():\n",
    "    record = ln.ULabel(name=name)\n",
    "    well_types.append(record)\n",
    "\n",
    "ln.save(well_types)\n",
    "is_well_type.children.set(well_types)"
   ]
  },
  {
   "cell_type": "code",
   "execution_count": 29,
   "id": "fdb3802b",
   "metadata": {},
   "outputs": [
    {
     "data": {
      "image/svg+xml": [
       "<?xml version=\"1.0\" encoding=\"UTF-8\" standalone=\"no\"?>\n",
       "<!DOCTYPE svg PUBLIC \"-//W3C//DTD SVG 1.1//EN\"\n",
       " \"http://www.w3.org/Graphics/SVG/1.1/DTD/svg11.dtd\">\n",
       "<!-- Generated by graphviz version 8.1.0 (20230707.0739)\n",
       " -->\n",
       "<!-- Title: HIJj2JVA Pages: 1 -->\n",
       "<svg width=\"298pt\" height=\"116pt\"\n",
       " viewBox=\"0.00 0.00 298.12 116.00\" xmlns=\"http://www.w3.org/2000/svg\" xmlns:xlink=\"http://www.w3.org/1999/xlink\">\n",
       "<g id=\"graph0\" class=\"graph\" transform=\"scale(1 1) rotate(0) translate(4 112)\">\n",
       "<title>HIJj2JVA</title>\n",
       "<polygon fill=\"white\" stroke=\"none\" points=\"-4,4 -4,-112 294.12,-112 294.12,4 -4,4\"/>\n",
       "<!-- HIJj2JVA -->\n",
       "<g id=\"node1\" class=\"node\">\n",
       "<title>HIJj2JVA</title>\n",
       "<path fill=\"#10b981\" stroke=\"#065f46\" d=\"M175.12,-108C175.12,-108 117.12,-108 117.12,-108 111.12,-108 105.12,-102 105.12,-96 105.12,-96 105.12,-84 105.12,-84 105.12,-78 111.12,-72 117.12,-72 117.12,-72 175.12,-72 175.12,-72 181.12,-72 187.12,-78 187.12,-84 187.12,-84 187.12,-96 187.12,-96 187.12,-102 181.12,-108 175.12,-108\"/>\n",
       "<text text-anchor=\"start\" x=\"119.12\" y=\"-91.5\" font-family=\"Helvetica,sans-Serif\" font-size=\"10.00\">is_well_type</text>\n",
       "<text text-anchor=\"start\" x=\"113.12\" y=\"-81.5\" font-family=\"Monospace\" font-size=\"10.00\" fill=\"GREY\">id=HIJj2JVA</text>\n",
       "</g>\n",
       "<!-- jjuPLunp -->\n",
       "<g id=\"node2\" class=\"node\">\n",
       "<title>jjuPLunp</title>\n",
       "<path fill=\"honeydew\" stroke=\"#065f46\" d=\"M72.25,-36C72.25,-36 12,-36 12,-36 6,-36 0,-30 0,-24 0,-24 0,-12 0,-12 0,-6 6,0 12,0 12,0 72.25,0 72.25,0 78.25,0 84.25,-6 84.25,-12 84.25,-12 84.25,-24 84.25,-24 84.25,-30 78.25,-36 72.25,-36\"/>\n",
       "<text text-anchor=\"start\" x=\"8\" y=\"-19.5\" font-family=\"Helvetica,sans-Serif\" font-size=\"10.00\">positive_control</text>\n",
       "<text text-anchor=\"start\" x=\"9.12\" y=\"-9.5\" font-family=\"Monospace\" font-size=\"10.00\" fill=\"GREY\">id=jjuPLunp</text>\n",
       "</g>\n",
       "<!-- HIJj2JVA&#45;&gt;jjuPLunp -->\n",
       "<g id=\"edge1\" class=\"edge\">\n",
       "<title>HIJj2JVA&#45;&gt;jjuPLunp</title>\n",
       "<path fill=\"none\" stroke=\"dimgrey\" d=\"M120.15,-71.52C105.65,-61.75 87.5,-49.54 72.36,-39.35\"/>\n",
       "<polygon fill=\"dimgrey\" stroke=\"dimgrey\" points=\"73.89,-37.6 68.77,-36.26 71.94,-40.5 73.89,-37.6\"/>\n",
       "</g>\n",
       "<!-- xZZQL75f -->\n",
       "<g id=\"node3\" class=\"node\">\n",
       "<title>xZZQL75f</title>\n",
       "<path fill=\"honeydew\" stroke=\"#065f46\" d=\"M177.75,-36C177.75,-36 114.5,-36 114.5,-36 108.5,-36 102.5,-30 102.5,-24 102.5,-24 102.5,-12 102.5,-12 102.5,-6 108.5,0 114.5,0 114.5,0 177.75,0 177.75,0 183.75,0 189.75,-6 189.75,-12 189.75,-12 189.75,-24 189.75,-24 189.75,-30 183.75,-36 177.75,-36\"/>\n",
       "<text text-anchor=\"start\" x=\"110.5\" y=\"-19.5\" font-family=\"Helvetica,sans-Serif\" font-size=\"10.00\">negative_control</text>\n",
       "<text text-anchor=\"start\" x=\"113.12\" y=\"-9.5\" font-family=\"Monospace\" font-size=\"10.00\" fill=\"GREY\">id=xZZQL75f</text>\n",
       "</g>\n",
       "<!-- HIJj2JVA&#45;&gt;xZZQL75f -->\n",
       "<g id=\"edge2\" class=\"edge\">\n",
       "<title>HIJj2JVA&#45;&gt;xZZQL75f</title>\n",
       "<path fill=\"none\" stroke=\"dimgrey\" d=\"M146.12,-71.7C146.12,-62.71 146.12,-51.61 146.12,-41.92\"/>\n",
       "<polygon fill=\"dimgrey\" stroke=\"dimgrey\" points=\"147.88,-42.1 146.12,-37.1 144.38,-42.1 147.88,-42.1\"/>\n",
       "</g>\n",
       "<!-- ylBgXIXC -->\n",
       "<g id=\"node4\" class=\"node\">\n",
       "<title>ylBgXIXC</title>\n",
       "<path fill=\"honeydew\" stroke=\"#065f46\" d=\"M278.12,-36C278.12,-36 220.12,-36 220.12,-36 214.12,-36 208.12,-30 208.12,-24 208.12,-24 208.12,-12 208.12,-12 208.12,-6 214.12,0 220.12,0 220.12,0 278.12,0 278.12,0 284.12,0 290.12,-6 290.12,-12 290.12,-12 290.12,-24 290.12,-24 290.12,-30 284.12,-36 278.12,-36\"/>\n",
       "<text text-anchor=\"start\" x=\"228.5\" y=\"-19.5\" font-family=\"Helvetica,sans-Serif\" font-size=\"10.00\">treatment</text>\n",
       "<text text-anchor=\"start\" x=\"216.12\" y=\"-9.5\" font-family=\"Monospace\" font-size=\"10.00\" fill=\"GREY\">id=ylBgXIXC</text>\n",
       "</g>\n",
       "<!-- HIJj2JVA&#45;&gt;ylBgXIXC -->\n",
       "<g id=\"edge3\" class=\"edge\">\n",
       "<title>HIJj2JVA&#45;&gt;ylBgXIXC</title>\n",
       "<path fill=\"none\" stroke=\"dimgrey\" d=\"M171.85,-71.52C186.09,-61.84 203.87,-49.75 218.79,-39.62\"/>\n",
       "<polygon fill=\"dimgrey\" stroke=\"dimgrey\" points=\"219.58,-40.52 222.73,-36.26 217.61,-37.62 219.58,-40.52\"/>\n",
       "</g>\n",
       "</g>\n",
       "</svg>\n"
      ],
      "text/plain": [
       "<graphviz.graphs.Digraph at 0x14aa0cb20>"
      ]
     },
     "metadata": {},
     "output_type": "display_data"
    }
   ],
   "source": [
    "is_well_type.view_parents(with_children=True)"
   ]
  },
  {
   "cell_type": "markdown",
   "id": "a868cc17",
   "metadata": {},
   "source": [
    "### `sirna`"
   ]
  },
  {
   "attachments": {},
   "cell_type": "markdown",
   "id": "dc821ebd",
   "metadata": {},
   "source": [
    "add sirna to Treatment table:"
   ]
  },
  {
   "cell_type": "code",
   "execution_count": 30,
   "id": "3f029d5c",
   "metadata": {},
   "outputs": [],
   "source": [
    "ln.settings.upon_create_search_name = False\n",
    "\n",
    "sirnas = []\n",
    "for sirna in meta[\"sirna\"].unique():\n",
    "    record = ln1.Treatment(\n",
    "        name=sirna,\n",
    "        type=\"genetic\",\n",
    "        system=\"siRNA\",\n",
    "        description=\"ThermoFisher ID of siRNA\",\n",
    "    )\n",
    "    sirnas.append(record)\n",
    "\n",
    "ln.save(sirnas)\n",
    "\n",
    "ln.settings.upon_create_search_name = True"
   ]
  },
  {
   "cell_type": "markdown",
   "id": "860ecbd9",
   "metadata": {},
   "source": [
    "### assay/readout"
   ]
  },
  {
   "cell_type": "markdown",
   "id": "64c2b39a",
   "metadata": {},
   "source": [
    "We can do the same for other ontologies that we are interested to curate. For example, the type of readout. We are going to choose the \"high content screen\" readout."
   ]
  },
  {
   "cell_type": "code",
   "execution_count": 31,
   "id": "272bc79a",
   "metadata": {},
   "outputs": [],
   "source": [
    "ln.Feature(name=\"assay\", type=\"category\").save()"
   ]
  },
  {
   "cell_type": "code",
   "execution_count": 32,
   "id": "2d02a54f",
   "metadata": {},
   "outputs": [
    {
     "name": "stdout",
     "output_type": "stream",
     "text": [
      "✅ created \u001b[1;95m1 ExperimentalFactor record from Bionty\u001b[0m matching \u001b[3mname\u001b[0m: \u001b[1;95m'high content screen'\u001b[0m\n"
     ]
    }
   ],
   "source": [
    "assay = lb.ExperimentalFactor.from_bionty(name=\"high content screen\")\n",
    "assay.save(parents=False)"
   ]
  },
  {
   "cell_type": "markdown",
   "id": "b4456cd5",
   "metadata": {},
   "source": [
    "### features"
   ]
  },
  {
   "cell_type": "code",
   "execution_count": 33,
   "id": "57013951",
   "metadata": {},
   "outputs": [],
   "source": [
    "var_features = ln.Feature.from_df(embedding)\n",
    "ln.save(var_features)"
   ]
  },
  {
   "cell_type": "code",
   "execution_count": 34,
   "id": "0c1b6bf5",
   "metadata": {},
   "outputs": [],
   "source": [
    "obs_features = ln.Feature.from_df(meta)\n",
    "ln.save(obs_features)"
   ]
  },
  {
   "cell_type": "code",
   "execution_count": 35,
   "id": "39860dea",
   "metadata": {},
   "outputs": [],
   "source": [
    "features = ln.Feature.lookup()"
   ]
  },
  {
   "cell_type": "markdown",
   "id": "31e0438b",
   "metadata": {},
   "source": [
    "## Register metadata-file_keys as a parquet file:"
   ]
  },
  {
   "cell_type": "markdown",
   "id": "c6749204",
   "metadata": {},
   "source": [
    "Here we create a DataFrame with each row as a single image, similar to a link table but with multiple metadata columns:"
   ]
  },
  {
   "cell_type": "code",
   "execution_count": 36,
   "id": "fb9e98e2",
   "metadata": {},
   "outputs": [],
   "source": [
    "meta_filekey = meta.copy()"
   ]
  },
  {
   "cell_type": "code",
   "execution_count": 37,
   "id": "3bdadbd5",
   "metadata": {},
   "outputs": [],
   "source": [
    "keys_list = []\n",
    "for key in meta_filekey[\"file_keys\"]:\n",
    "    keys = [key.replace(\"w1-w6.png\", f\"w{str(channel)}.png\") for channel in range(1, 7)]\n",
    "    keys_list.append(keys)"
   ]
  },
  {
   "cell_type": "code",
   "execution_count": 38,
   "id": "fd384b4d",
   "metadata": {},
   "outputs": [],
   "source": [
    "meta_filekey[\"file_keys\"] = keys_list"
   ]
  },
  {
   "cell_type": "code",
   "execution_count": 39,
   "id": "f3cb9f4b",
   "metadata": {},
   "outputs": [],
   "source": [
    "meta_filekey = meta_filekey.explode(\"file_keys\").reset_index(drop=True)"
   ]
  },
  {
   "cell_type": "code",
   "execution_count": 40,
   "id": "caf3a639",
   "metadata": {},
   "outputs": [
    {
     "data": {
      "text/html": [
       "<div>\n",
       "<style scoped>\n",
       "    .dataframe tbody tr th:only-of-type {\n",
       "        vertical-align: middle;\n",
       "    }\n",
       "\n",
       "    .dataframe tbody tr th {\n",
       "        vertical-align: top;\n",
       "    }\n",
       "\n",
       "    .dataframe thead th {\n",
       "        text-align: right;\n",
       "    }\n",
       "</style>\n",
       "<table border=\"1\" class=\"dataframe\">\n",
       "  <thead>\n",
       "    <tr style=\"text-align: right;\">\n",
       "      <th></th>\n",
       "      <th>site_id</th>\n",
       "      <th>well_id</th>\n",
       "      <th>cell_type</th>\n",
       "      <th>dataset</th>\n",
       "      <th>experiment</th>\n",
       "      <th>plate</th>\n",
       "      <th>well</th>\n",
       "      <th>site</th>\n",
       "      <th>well_type</th>\n",
       "      <th>sirna</th>\n",
       "      <th>sirna_id</th>\n",
       "      <th>file_keys</th>\n",
       "    </tr>\n",
       "  </thead>\n",
       "  <tbody>\n",
       "    <tr>\n",
       "      <th>0</th>\n",
       "      <td>HEPG2-08_1_B02_1</td>\n",
       "      <td>HEPG2-08_1_B02</td>\n",
       "      <td>HEPG2</td>\n",
       "      <td>test</td>\n",
       "      <td>HEPG2-08</td>\n",
       "      <td>1</td>\n",
       "      <td>B02</td>\n",
       "      <td>1</td>\n",
       "      <td>negative_control</td>\n",
       "      <td>EMPTY</td>\n",
       "      <td>1138</td>\n",
       "      <td>images/test/HEPG2-08/Plate1/B02_s1_w1.png</td>\n",
       "    </tr>\n",
       "    <tr>\n",
       "      <th>1</th>\n",
       "      <td>HEPG2-08_1_B02_1</td>\n",
       "      <td>HEPG2-08_1_B02</td>\n",
       "      <td>HEPG2</td>\n",
       "      <td>test</td>\n",
       "      <td>HEPG2-08</td>\n",
       "      <td>1</td>\n",
       "      <td>B02</td>\n",
       "      <td>1</td>\n",
       "      <td>negative_control</td>\n",
       "      <td>EMPTY</td>\n",
       "      <td>1138</td>\n",
       "      <td>images/test/HEPG2-08/Plate1/B02_s1_w2.png</td>\n",
       "    </tr>\n",
       "    <tr>\n",
       "      <th>2</th>\n",
       "      <td>HEPG2-08_1_B02_1</td>\n",
       "      <td>HEPG2-08_1_B02</td>\n",
       "      <td>HEPG2</td>\n",
       "      <td>test</td>\n",
       "      <td>HEPG2-08</td>\n",
       "      <td>1</td>\n",
       "      <td>B02</td>\n",
       "      <td>1</td>\n",
       "      <td>negative_control</td>\n",
       "      <td>EMPTY</td>\n",
       "      <td>1138</td>\n",
       "      <td>images/test/HEPG2-08/Plate1/B02_s1_w3.png</td>\n",
       "    </tr>\n",
       "    <tr>\n",
       "      <th>3</th>\n",
       "      <td>HEPG2-08_1_B02_1</td>\n",
       "      <td>HEPG2-08_1_B02</td>\n",
       "      <td>HEPG2</td>\n",
       "      <td>test</td>\n",
       "      <td>HEPG2-08</td>\n",
       "      <td>1</td>\n",
       "      <td>B02</td>\n",
       "      <td>1</td>\n",
       "      <td>negative_control</td>\n",
       "      <td>EMPTY</td>\n",
       "      <td>1138</td>\n",
       "      <td>images/test/HEPG2-08/Plate1/B02_s1_w4.png</td>\n",
       "    </tr>\n",
       "    <tr>\n",
       "      <th>4</th>\n",
       "      <td>HEPG2-08_1_B02_1</td>\n",
       "      <td>HEPG2-08_1_B02</td>\n",
       "      <td>HEPG2</td>\n",
       "      <td>test</td>\n",
       "      <td>HEPG2-08</td>\n",
       "      <td>1</td>\n",
       "      <td>B02</td>\n",
       "      <td>1</td>\n",
       "      <td>negative_control</td>\n",
       "      <td>EMPTY</td>\n",
       "      <td>1138</td>\n",
       "      <td>images/test/HEPG2-08/Plate1/B02_s1_w5.png</td>\n",
       "    </tr>\n",
       "    <tr>\n",
       "      <th>...</th>\n",
       "      <td>...</td>\n",
       "      <td>...</td>\n",
       "      <td>...</td>\n",
       "      <td>...</td>\n",
       "      <td>...</td>\n",
       "      <td>...</td>\n",
       "      <td>...</td>\n",
       "      <td>...</td>\n",
       "      <td>...</td>\n",
       "      <td>...</td>\n",
       "      <td>...</td>\n",
       "      <td>...</td>\n",
       "    </tr>\n",
       "    <tr>\n",
       "      <th>753055</th>\n",
       "      <td>U2OS-03_4_O23_2</td>\n",
       "      <td>U2OS-03_4_O23</td>\n",
       "      <td>U2OS</td>\n",
       "      <td>train</td>\n",
       "      <td>U2OS-03</td>\n",
       "      <td>4</td>\n",
       "      <td>O23</td>\n",
       "      <td>2</td>\n",
       "      <td>treatment</td>\n",
       "      <td>s21454</td>\n",
       "      <td>509</td>\n",
       "      <td>images/train/U2OS-03/Plate4/O23_s2_w2.png</td>\n",
       "    </tr>\n",
       "    <tr>\n",
       "      <th>753056</th>\n",
       "      <td>U2OS-03_4_O23_2</td>\n",
       "      <td>U2OS-03_4_O23</td>\n",
       "      <td>U2OS</td>\n",
       "      <td>train</td>\n",
       "      <td>U2OS-03</td>\n",
       "      <td>4</td>\n",
       "      <td>O23</td>\n",
       "      <td>2</td>\n",
       "      <td>treatment</td>\n",
       "      <td>s21454</td>\n",
       "      <td>509</td>\n",
       "      <td>images/train/U2OS-03/Plate4/O23_s2_w3.png</td>\n",
       "    </tr>\n",
       "    <tr>\n",
       "      <th>753057</th>\n",
       "      <td>U2OS-03_4_O23_2</td>\n",
       "      <td>U2OS-03_4_O23</td>\n",
       "      <td>U2OS</td>\n",
       "      <td>train</td>\n",
       "      <td>U2OS-03</td>\n",
       "      <td>4</td>\n",
       "      <td>O23</td>\n",
       "      <td>2</td>\n",
       "      <td>treatment</td>\n",
       "      <td>s21454</td>\n",
       "      <td>509</td>\n",
       "      <td>images/train/U2OS-03/Plate4/O23_s2_w4.png</td>\n",
       "    </tr>\n",
       "    <tr>\n",
       "      <th>753058</th>\n",
       "      <td>U2OS-03_4_O23_2</td>\n",
       "      <td>U2OS-03_4_O23</td>\n",
       "      <td>U2OS</td>\n",
       "      <td>train</td>\n",
       "      <td>U2OS-03</td>\n",
       "      <td>4</td>\n",
       "      <td>O23</td>\n",
       "      <td>2</td>\n",
       "      <td>treatment</td>\n",
       "      <td>s21454</td>\n",
       "      <td>509</td>\n",
       "      <td>images/train/U2OS-03/Plate4/O23_s2_w5.png</td>\n",
       "    </tr>\n",
       "    <tr>\n",
       "      <th>753059</th>\n",
       "      <td>U2OS-03_4_O23_2</td>\n",
       "      <td>U2OS-03_4_O23</td>\n",
       "      <td>U2OS</td>\n",
       "      <td>train</td>\n",
       "      <td>U2OS-03</td>\n",
       "      <td>4</td>\n",
       "      <td>O23</td>\n",
       "      <td>2</td>\n",
       "      <td>treatment</td>\n",
       "      <td>s21454</td>\n",
       "      <td>509</td>\n",
       "      <td>images/train/U2OS-03/Plate4/O23_s2_w6.png</td>\n",
       "    </tr>\n",
       "  </tbody>\n",
       "</table>\n",
       "<p>753060 rows × 12 columns</p>\n",
       "</div>"
      ],
      "text/plain": [
       "                 site_id         well_id cell_type dataset experiment plate  \\\n",
       "0       HEPG2-08_1_B02_1  HEPG2-08_1_B02     HEPG2    test   HEPG2-08     1   \n",
       "1       HEPG2-08_1_B02_1  HEPG2-08_1_B02     HEPG2    test   HEPG2-08     1   \n",
       "2       HEPG2-08_1_B02_1  HEPG2-08_1_B02     HEPG2    test   HEPG2-08     1   \n",
       "3       HEPG2-08_1_B02_1  HEPG2-08_1_B02     HEPG2    test   HEPG2-08     1   \n",
       "4       HEPG2-08_1_B02_1  HEPG2-08_1_B02     HEPG2    test   HEPG2-08     1   \n",
       "...                  ...             ...       ...     ...        ...   ...   \n",
       "753055   U2OS-03_4_O23_2   U2OS-03_4_O23      U2OS   train    U2OS-03     4   \n",
       "753056   U2OS-03_4_O23_2   U2OS-03_4_O23      U2OS   train    U2OS-03     4   \n",
       "753057   U2OS-03_4_O23_2   U2OS-03_4_O23      U2OS   train    U2OS-03     4   \n",
       "753058   U2OS-03_4_O23_2   U2OS-03_4_O23      U2OS   train    U2OS-03     4   \n",
       "753059   U2OS-03_4_O23_2   U2OS-03_4_O23      U2OS   train    U2OS-03     4   \n",
       "\n",
       "       well site         well_type   sirna sirna_id  \\\n",
       "0       B02    1  negative_control   EMPTY     1138   \n",
       "1       B02    1  negative_control   EMPTY     1138   \n",
       "2       B02    1  negative_control   EMPTY     1138   \n",
       "3       B02    1  negative_control   EMPTY     1138   \n",
       "4       B02    1  negative_control   EMPTY     1138   \n",
       "...     ...  ...               ...     ...      ...   \n",
       "753055  O23    2         treatment  s21454      509   \n",
       "753056  O23    2         treatment  s21454      509   \n",
       "753057  O23    2         treatment  s21454      509   \n",
       "753058  O23    2         treatment  s21454      509   \n",
       "753059  O23    2         treatment  s21454      509   \n",
       "\n",
       "                                        file_keys  \n",
       "0       images/test/HEPG2-08/Plate1/B02_s1_w1.png  \n",
       "1       images/test/HEPG2-08/Plate1/B02_s1_w2.png  \n",
       "2       images/test/HEPG2-08/Plate1/B02_s1_w3.png  \n",
       "3       images/test/HEPG2-08/Plate1/B02_s1_w4.png  \n",
       "4       images/test/HEPG2-08/Plate1/B02_s1_w5.png  \n",
       "...                                           ...  \n",
       "753055  images/train/U2OS-03/Plate4/O23_s2_w2.png  \n",
       "753056  images/train/U2OS-03/Plate4/O23_s2_w3.png  \n",
       "753057  images/train/U2OS-03/Plate4/O23_s2_w4.png  \n",
       "753058  images/train/U2OS-03/Plate4/O23_s2_w5.png  \n",
       "753059  images/train/U2OS-03/Plate4/O23_s2_w6.png  \n",
       "\n",
       "[753060 rows x 12 columns]"
      ]
     },
     "execution_count": 40,
     "metadata": {},
     "output_type": "execute_result"
    }
   ],
   "source": [
    "meta_filekey"
   ]
  },
  {
   "cell_type": "code",
   "execution_count": 41,
   "id": "0b80a2f0",
   "metadata": {},
   "outputs": [
    {
     "name": "stdout",
     "output_type": "stream",
     "text": [
      "💡 file will be copied to default storage upon `save()` with key 'rxrx1/metadata.parquet'\n",
      "✅ \u001b[1;92m12 terms\u001b[0m (100.00%) are validated for \u001b[3mname\u001b[0m\n"
     ]
    }
   ],
   "source": [
    "file_meta_filekey = ln.File.from_df(\n",
    "    meta_filekey,\n",
    "    field=ln.Feature.name,\n",
    "    key=\"rxrx1/metadata.parquet\",\n",
    "    description=\"Metadata with file paths for each RxRx1 image.\",\n",
    ")"
   ]
  },
  {
   "cell_type": "code",
   "execution_count": 42,
   "id": "2efaf071",
   "metadata": {},
   "outputs": [
    {
     "name": "stdout",
     "output_type": "stream",
     "text": [
      "✅ saved 1 feature set for slot: 'columns'\n",
      "✅ storing file 'fW7STSOMsRwDJk6oI3Kh' at 'rxrx1/metadata.parquet'\n"
     ]
    },
    {
     "name": "stdout",
     "output_type": "stream",
     "text": [
      "... uploading fW7STSOMsRwDJk6oI3Kh.parquet: 1.00\n",
      "\r"
     ]
    }
   ],
   "source": [
    "file_meta_filekey.save()"
   ]
  },
  {
   "cell_type": "code",
   "execution_count": 43,
   "id": "1b4025ed",
   "metadata": {},
   "outputs": [
    {
     "name": "stdout",
     "output_type": "stream",
     "text": [
      "✅ linked feature 'cell_type' to registry 'bionty.CellLine'\n",
      "✅ linked feature 'dataset' to registry 'core.ULabel'\n",
      "✅ linked feature 'experiment' to registry 'lamin1.Experiment'\n",
      "✅ linked feature 'plate' to registry 'core.ULabel'\n",
      "✅ linked feature 'well' to registry 'lamin1.Well'\n",
      "✅ linked feature 'site' to registry 'core.ULabel'\n",
      "✅ linked feature 'well_type' to registry 'core.ULabel'\n",
      "✅ linked feature 'sirna' to registry 'lamin1.Treatment'\n",
      "✅ linked feature 'assay' to registry 'bionty.ExperimentalFactor'\n",
      "✅ linked new feature 'assay' together with new feature set FeatureSet(id='aXI3KfYXZMrKTAT1P4ew', n=1, registry='core.Feature', hash='TB1OiIa_qLLfly0M__wL', updated_at=2023-10-06 13:20:38, modality_id='RVDKV55v', created_by_id='kmvZDIX9')\n"
     ]
    }
   ],
   "source": [
    "# obs\n",
    "file_meta_filekey.labels.add(cell_lines, features.cell_type)\n",
    "file_meta_filekey.labels.add(train_test, features.dataset)\n",
    "file_meta_filekey.labels.add(experiments, features.experiment)\n",
    "file_meta_filekey.labels.add(plates, features.plate)\n",
    "file_meta_filekey.labels.add(wells, features.well)\n",
    "file_meta_filekey.labels.add(sites, features.site)\n",
    "file_meta_filekey.labels.add(well_types, features.well_type)\n",
    "file_meta_filekey.labels.add(sirnas, features.sirna)\n",
    "# external\n",
    "file_meta_filekey.labels.add(assay, features.assay)"
   ]
  },
  {
   "cell_type": "markdown",
   "id": "d5ac619e",
   "metadata": {},
   "source": [
    "## Create `AnnData` object for embeddings and metadata"
   ]
  },
  {
   "cell_type": "code",
   "execution_count": 44,
   "id": "07ff69c5",
   "metadata": {},
   "outputs": [],
   "source": [
    "adata = ad.AnnData(embedding)\n",
    "adata.obs = meta.set_index(\"site_id\").loc[adata.obs.index]"
   ]
  },
  {
   "cell_type": "code",
   "execution_count": 45,
   "id": "7c8a63ab",
   "metadata": {},
   "outputs": [
    {
     "data": {
      "text/plain": [
       "AnnData object with n_obs × n_vars = 125510 × 128\n",
       "    obs: 'well_id', 'cell_type', 'dataset', 'experiment', 'plate', 'well', 'site', 'well_type', 'sirna', 'sirna_id', 'file_keys'"
      ]
     },
     "execution_count": 45,
     "metadata": {},
     "output_type": "execute_result"
    }
   ],
   "source": [
    "adata"
   ]
  },
  {
   "attachments": {},
   "cell_type": "markdown",
   "id": "496f4f2c",
   "metadata": {},
   "source": [
    "## Register AnnData and link to metadata records"
   ]
  },
  {
   "cell_type": "code",
   "execution_count": 46,
   "id": "dbf78ad4",
   "metadata": {},
   "outputs": [
    {
     "name": "stderr",
     "output_type": "stream",
     "text": [
      "... storing 'well_id' as categorical\n",
      "... storing 'cell_type' as categorical\n",
      "... storing 'dataset' as categorical\n",
      "... storing 'experiment' as categorical\n",
      "... storing 'plate' as categorical\n",
      "... storing 'well' as categorical\n",
      "... storing 'site' as categorical\n",
      "... storing 'well_type' as categorical\n",
      "... storing 'sirna' as categorical\n",
      "... storing 'sirna_id' as categorical\n"
     ]
    },
    {
     "name": "stdout",
     "output_type": "stream",
     "text": [
      "💡 file will be copied to default storage upon `save()` with key 'rxrx1/embeddings.h5ad'\n",
      "💡 parsing feature names of X stored in slot 'var'\n",
      "✅    \u001b[1;92m128 terms\u001b[0m (100.00%) are validated for \u001b[3mname\u001b[0m\n",
      "✅    linked: FeatureSet(id='44Yqa0EBTWVZIa1B5K6A', n=128, type='number', registry='core.Feature', hash='eHBJ-ztqriazRx8KogvC', created_by_id='kmvZDIX9')\n",
      "💡 parsing feature names of slot 'obs'\n",
      "✅    \u001b[1;92m11 terms\u001b[0m (100.00%) are validated for \u001b[3mname\u001b[0m\n",
      "✅    linked: FeatureSet(id='HSjOLeKZWt5g1vhfpfhT', n=11, registry='core.Feature', hash='npwB41jNAgFqyhoksJMD', modality_id='RVDKV55v', created_by_id='kmvZDIX9')\n"
     ]
    }
   ],
   "source": [
    "file = ln.File.from_anndata(\n",
    "    adata,\n",
    "    field=ln.Feature.name,\n",
    "    key=\"rxrx1/embeddings.h5ad\",\n",
    "    description=\"Metadata annotated deep learning embeddings for each RxRx1 image.\",\n",
    ")"
   ]
  },
  {
   "cell_type": "code",
   "execution_count": 47,
   "id": "c834964b",
   "metadata": {},
   "outputs": [
    {
     "name": "stdout",
     "output_type": "stream",
     "text": [
      "✅ saved 2 feature sets for slots: 'var','obs'\n",
      "✅ storing file '8P7vUWLszbjTqhEFrWxD' at 'rxrx1/embeddings.h5ad'\n",
      "... uploading 8P7vUWLszbjTqhEFrWxD.h5ad: 1.00\n",
      "\r"
     ]
    }
   ],
   "source": [
    "file.save()"
   ]
  },
  {
   "cell_type": "code",
   "execution_count": 48,
   "id": "0bee5e51",
   "metadata": {},
   "outputs": [
    {
     "name": "stdout",
     "output_type": "stream",
     "text": [
      "✅ loaded: FeatureSet(id='aXI3KfYXZMrKTAT1P4ew', n=1, registry='core.Feature', hash='TB1OiIa_qLLfly0M__wL', updated_at=2023-10-06 13:20:38, modality_id='RVDKV55v', created_by_id='kmvZDIX9')\n",
      "✅ linked new feature 'assay' together with new feature set FeatureSet(id='aXI3KfYXZMrKTAT1P4ew', n=1, registry='core.Feature', hash='TB1OiIa_qLLfly0M__wL', updated_at=2023-10-06 13:21:31, modality_id='RVDKV55v', created_by_id='kmvZDIX9')\n"
     ]
    }
   ],
   "source": [
    "# obs\n",
    "file.labels.add(cell_lines, features.cell_type)\n",
    "file.labels.add(train_test, features.dataset)\n",
    "file.labels.add(experiments, features.experiment)\n",
    "file.labels.add(plates, features.plate)\n",
    "file.labels.add(wells, features.well)\n",
    "file.labels.add(sites, features.site)\n",
    "file.labels.add(well_types, features.well_type)\n",
    "file.labels.add(sirnas, features.sirna)\n",
    "# external\n",
    "file.labels.add(assay, features.assay)"
   ]
  },
  {
   "cell_type": "code",
   "execution_count": 49,
   "id": "c02397c0",
   "metadata": {},
   "outputs": [
    {
     "data": {
      "text/plain": [
       "\u001b[1;92mLabels\u001b[0m:\n",
       "  🏷️ cell_lines (4, \u001b[3mbionty.CellLine\u001b[0m): 'HUV-EC-C cell', 'U-2 OS cell', 'hTERT RPE-1 cell', 'Hep G2 cell'\n",
       "  🏷️ experimental_factors (1, \u001b[3mbionty.ExperimentalFactor\u001b[0m): 'high content screen'\n",
       "  🏷️ experiments (51, \u001b[3mlamin1.Experiment\u001b[0m): 'RPE-06', 'RPE-10', 'U2OS-04', 'HUVEC-07', 'HEPG2-01', 'HUVEC-13', 'HUVEC-10', 'RPE-04', 'HUVEC-19', 'RPE-07', ...\n",
       "  🏷️ wells (308, \u001b[3mlamin1.Well\u001b[0m): 'K17', 'D13', 'K02', 'M15', 'L08', 'B08', 'G18', 'J14', 'N07', 'N08', ...\n",
       "  🏷️ treatments (1139, \u001b[3mlamin1.Treatment\u001b[0m): 's27550', 's21422', 's36691', 's19169', 's38120', 's19148', 's394', 's38627', 's555', 's21535', ...\n",
       "  🏷️ ulabels (11, \u001b[3mcore.ULabel\u001b[0m): 'test', 'Plate1', 'Site1', 'Plate3', 'Plate2', 'Site2', 'positive_control', 'Plate4', 'train', 'negative_control', ..."
      ]
     },
     "execution_count": 49,
     "metadata": {},
     "output_type": "execute_result"
    }
   ],
   "source": [
    "file.labels"
   ]
  },
  {
   "cell_type": "code",
   "execution_count": 50,
   "id": "55c2de13",
   "metadata": {},
   "outputs": [
    {
     "data": {
      "text/plain": [
       "\u001b[1;92mFeatures\u001b[0m:\n",
       "  \u001b[1mvar\u001b[0m: FeatureSet(id='44Yqa0EBTWVZIa1B5K6A', n=128, type='number', registry='core.Feature', hash='eHBJ-ztqriazRx8KogvC', updated_at=2023-10-06 13:20:46, created_by_id='kmvZDIX9')\n",
       "    feature_109 (number)\n",
       "    feature_2 (number)\n",
       "    feature_107 (number)\n",
       "    feature_31 (number)\n",
       "    feature_34 (number)\n",
       "    feature_33 (number)\n",
       "    feature_1 (number)\n",
       "    feature_12 (number)\n",
       "    feature_116 (number)\n",
       "    feature_39 (number)\n",
       "    feature_11 (number)\n",
       "    feature_6 (number)\n",
       "    feature_73 (number)\n",
       "    feature_4 (number)\n",
       "    feature_60 (number)\n",
       "    feature_89 (number)\n",
       "    feature_120 (number)\n",
       "    feature_97 (number)\n",
       "    feature_9 (number)\n",
       "    feature_67 (number)\n",
       "    feature_106 (number)\n",
       "    feature_101 (number)\n",
       "    feature_78 (number)\n",
       "    feature_13 (number)\n",
       "    feature_42 (number)\n",
       "    feature_3 (number)\n",
       "    feature_40 (number)\n",
       "    feature_29 (number)\n",
       "    feature_92 (number)\n",
       "    feature_27 (number)\n",
       "    feature_119 (number)\n",
       "    feature_63 (number)\n",
       "    feature_59 (number)\n",
       "    feature_7 (number)\n",
       "    feature_28 (number)\n",
       "    feature_98 (number)\n",
       "    feature_48 (number)\n",
       "    feature_57 (number)\n",
       "    feature_71 (number)\n",
       "    feature_14 (number)\n",
       "    feature_124 (number)\n",
       "    feature_50 (number)\n",
       "    feature_65 (number)\n",
       "    feature_125 (number)\n",
       "    feature_19 (number)\n",
       "    feature_52 (number)\n",
       "    feature_83 (number)\n",
       "    feature_49 (number)\n",
       "    feature_108 (number)\n",
       "    feature_18 (number)\n",
       "    feature_23 (number)\n",
       "    feature_0 (number)\n",
       "    feature_38 (number)\n",
       "    feature_58 (number)\n",
       "    feature_61 (number)\n",
       "    feature_85 (number)\n",
       "    feature_30 (number)\n",
       "    feature_15 (number)\n",
       "    feature_46 (number)\n",
       "    feature_126 (number)\n",
       "    feature_84 (number)\n",
       "    feature_41 (number)\n",
       "    feature_105 (number)\n",
       "    feature_43 (number)\n",
       "    feature_56 (number)\n",
       "    feature_44 (number)\n",
       "    feature_72 (number)\n",
       "    feature_122 (number)\n",
       "    feature_47 (number)\n",
       "    feature_53 (number)\n",
       "    feature_51 (number)\n",
       "    feature_68 (number)\n",
       "    feature_26 (number)\n",
       "    feature_17 (number)\n",
       "    feature_93 (number)\n",
       "    feature_118 (number)\n",
       "    feature_75 (number)\n",
       "    feature_91 (number)\n",
       "    feature_80 (number)\n",
       "    feature_127 (number)\n",
       "    feature_87 (number)\n",
       "    feature_96 (number)\n",
       "    feature_123 (number)\n",
       "    feature_77 (number)\n",
       "    feature_86 (number)\n",
       "    feature_102 (number)\n",
       "    feature_117 (number)\n",
       "    feature_5 (number)\n",
       "    feature_104 (number)\n",
       "    feature_36 (number)\n",
       "    feature_45 (number)\n",
       "    feature_55 (number)\n",
       "    feature_25 (number)\n",
       "    feature_100 (number)\n",
       "    feature_111 (number)\n",
       "    feature_113 (number)\n",
       "    feature_74 (number)\n",
       "    feature_35 (number)\n",
       "    feature_112 (number)\n",
       "    feature_22 (number)\n",
       "    feature_110 (number)\n",
       "    feature_69 (number)\n",
       "    feature_81 (number)\n",
       "    feature_24 (number)\n",
       "    feature_88 (number)\n",
       "    feature_82 (number)\n",
       "    feature_121 (number)\n",
       "    feature_20 (number)\n",
       "    feature_66 (number)\n",
       "    feature_16 (number)\n",
       "    feature_62 (number)\n",
       "    feature_32 (number)\n",
       "    feature_54 (number)\n",
       "    feature_10 (number)\n",
       "    feature_114 (number)\n",
       "    feature_70 (number)\n",
       "    feature_95 (number)\n",
       "    feature_90 (number)\n",
       "    feature_94 (number)\n",
       "    feature_115 (number)\n",
       "    feature_76 (number)\n",
       "    feature_8 (number)\n",
       "    feature_21 (number)\n",
       "    feature_99 (number)\n",
       "    feature_103 (number)\n",
       "    feature_79 (number)\n",
       "    feature_37 (number)\n",
       "    feature_64 (number)\n",
       "  \u001b[1mobs\u001b[0m: FeatureSet(id='HSjOLeKZWt5g1vhfpfhT', n=11, registry='core.Feature', hash='npwB41jNAgFqyhoksJMD', updated_at=2023-10-06 13:20:47, modality_id='RVDKV55v', created_by_id='kmvZDIX9')\n",
       "    🔗 well (308, \u001b[3mlamin1.Well\u001b[0m): 'K17', 'D13', 'K02', 'M15', 'L08', 'B08', 'G18', 'J14', 'N07', 'N08', ...\n",
       "    sirna_id (category)\n",
       "    🔗 cell_type (4, \u001b[3mbionty.CellLine\u001b[0m): 'HUV-EC-C cell', 'U-2 OS cell', 'hTERT RPE-1 cell', 'Hep G2 cell'\n",
       "    well_id (category)\n",
       "    🔗 plate (4, \u001b[3mcore.ULabel\u001b[0m): 'Plate1', 'Plate3', 'Plate2', 'Plate4'\n",
       "    🔗 sirna (1139, \u001b[3mlamin1.Treatment\u001b[0m): 's27550', 's21422', 's36691', 's19169', 's38120', 's19148', 's394', 's38627', 's555', 's21535', ...\n",
       "    file_keys (object)\n",
       "    🔗 site (2, \u001b[3mcore.ULabel\u001b[0m): 'Site1', 'Site2'\n",
       "    🔗 dataset (2, \u001b[3mcore.ULabel\u001b[0m): 'test', 'train'\n",
       "    🔗 well_type (3, \u001b[3mcore.ULabel\u001b[0m): 'positive_control', 'negative_control', 'treatment'\n",
       "    🔗 experiment (51, \u001b[3mlamin1.Experiment\u001b[0m): 'RPE-06', 'RPE-10', 'U2OS-04', 'HUVEC-07', 'HEPG2-01', 'HUVEC-13', 'HUVEC-10', 'RPE-04', 'HUVEC-19', 'RPE-07', ...\n",
       "  \u001b[1mexternal\u001b[0m: FeatureSet(id='aXI3KfYXZMrKTAT1P4ew', n=1, registry='core.Feature', hash='TB1OiIa_qLLfly0M__wL', updated_at=2023-10-06 13:21:31, modality_id='RVDKV55v', created_by_id='kmvZDIX9')\n",
       "    🔗 assay (1, \u001b[3mbionty.ExperimentalFactor\u001b[0m): 'high content screen'"
      ]
     },
     "execution_count": 50,
     "metadata": {},
     "output_type": "execute_result"
    }
   ],
   "source": [
    "file.features"
   ]
  },
  {
   "cell_type": "code",
   "execution_count": 51,
   "id": "dac3777a",
   "metadata": {},
   "outputs": [
    {
     "data": {
      "text/html": [
       "<div>\n",
       "<style scoped>\n",
       "    .dataframe tbody tr th:only-of-type {\n",
       "        vertical-align: middle;\n",
       "    }\n",
       "\n",
       "    .dataframe tbody tr th {\n",
       "        vertical-align: top;\n",
       "    }\n",
       "\n",
       "    .dataframe thead th {\n",
       "        text-align: right;\n",
       "    }\n",
       "</style>\n",
       "<table border=\"1\" class=\"dataframe\">\n",
       "  <thead>\n",
       "    <tr style=\"text-align: right;\">\n",
       "      <th></th>\n",
       "      <th>name</th>\n",
       "      <th>n</th>\n",
       "      <th>type</th>\n",
       "      <th>modality_id</th>\n",
       "      <th>registry</th>\n",
       "      <th>hash</th>\n",
       "      <th>updated_at</th>\n",
       "      <th>created_by_id</th>\n",
       "    </tr>\n",
       "    <tr>\n",
       "      <th>id</th>\n",
       "      <th></th>\n",
       "      <th></th>\n",
       "      <th></th>\n",
       "      <th></th>\n",
       "      <th></th>\n",
       "      <th></th>\n",
       "      <th></th>\n",
       "      <th></th>\n",
       "    </tr>\n",
       "  </thead>\n",
       "  <tbody>\n",
       "    <tr>\n",
       "      <th>44Yqa0EBTWVZIa1B5K6A</th>\n",
       "      <td>None</td>\n",
       "      <td>128</td>\n",
       "      <td>number</td>\n",
       "      <td>None</td>\n",
       "      <td>core.Feature</td>\n",
       "      <td>eHBJ-ztqriazRx8KogvC</td>\n",
       "      <td>2023-10-06 15:20:46</td>\n",
       "      <td>kmvZDIX9</td>\n",
       "    </tr>\n",
       "    <tr>\n",
       "      <th>HSjOLeKZWt5g1vhfpfhT</th>\n",
       "      <td>None</td>\n",
       "      <td>11</td>\n",
       "      <td>None</td>\n",
       "      <td>RVDKV55v</td>\n",
       "      <td>core.Feature</td>\n",
       "      <td>npwB41jNAgFqyhoksJMD</td>\n",
       "      <td>2023-10-06 15:20:47</td>\n",
       "      <td>kmvZDIX9</td>\n",
       "    </tr>\n",
       "    <tr>\n",
       "      <th>aXI3KfYXZMrKTAT1P4ew</th>\n",
       "      <td>None</td>\n",
       "      <td>1</td>\n",
       "      <td>None</td>\n",
       "      <td>RVDKV55v</td>\n",
       "      <td>core.Feature</td>\n",
       "      <td>TB1OiIa_qLLfly0M__wL</td>\n",
       "      <td>2023-10-06 15:21:31</td>\n",
       "      <td>kmvZDIX9</td>\n",
       "    </tr>\n",
       "  </tbody>\n",
       "</table>\n",
       "</div>"
      ],
      "text/plain": [
       "                      name    n    type modality_id      registry  \\\n",
       "id                                                                  \n",
       "44Yqa0EBTWVZIa1B5K6A  None  128  number        None  core.Feature   \n",
       "HSjOLeKZWt5g1vhfpfhT  None   11    None    RVDKV55v  core.Feature   \n",
       "aXI3KfYXZMrKTAT1P4ew  None    1    None    RVDKV55v  core.Feature   \n",
       "\n",
       "                                      hash           updated_at created_by_id  \n",
       "id                                                                             \n",
       "44Yqa0EBTWVZIa1B5K6A  eHBJ-ztqriazRx8KogvC  2023-10-06 15:20:46      kmvZDIX9  \n",
       "HSjOLeKZWt5g1vhfpfhT  npwB41jNAgFqyhoksJMD  2023-10-06 15:20:47      kmvZDIX9  \n",
       "aXI3KfYXZMrKTAT1P4ew  TB1OiIa_qLLfly0M__wL  2023-10-06 15:21:31      kmvZDIX9  "
      ]
     },
     "execution_count": 51,
     "metadata": {},
     "output_type": "execute_result"
    }
   ],
   "source": [
    "file.feature_sets.df()"
   ]
  },
  {
   "cell_type": "code",
   "execution_count": 52,
   "id": "eaad66e1",
   "metadata": {},
   "outputs": [
    {
     "data": {
      "text/html": [
       "<div>\n",
       "<style scoped>\n",
       "    .dataframe tbody tr th:only-of-type {\n",
       "        vertical-align: middle;\n",
       "    }\n",
       "\n",
       "    .dataframe tbody tr th {\n",
       "        vertical-align: top;\n",
       "    }\n",
       "\n",
       "    .dataframe thead th {\n",
       "        text-align: right;\n",
       "    }\n",
       "</style>\n",
       "<table border=\"1\" class=\"dataframe\">\n",
       "  <thead>\n",
       "    <tr style=\"text-align: right;\">\n",
       "      <th></th>\n",
       "      <th>name</th>\n",
       "      <th>type</th>\n",
       "      <th>modality_id</th>\n",
       "      <th>unit</th>\n",
       "      <th>description</th>\n",
       "      <th>registries</th>\n",
       "      <th>synonyms</th>\n",
       "      <th>updated_at</th>\n",
       "      <th>created_by_id</th>\n",
       "    </tr>\n",
       "    <tr>\n",
       "      <th>id</th>\n",
       "      <th></th>\n",
       "      <th></th>\n",
       "      <th></th>\n",
       "      <th></th>\n",
       "      <th></th>\n",
       "      <th></th>\n",
       "      <th></th>\n",
       "      <th></th>\n",
       "      <th></th>\n",
       "    </tr>\n",
       "  </thead>\n",
       "  <tbody>\n",
       "    <tr>\n",
       "      <th>WJVtaOGmyz4Q</th>\n",
       "      <td>well</td>\n",
       "      <td>category</td>\n",
       "      <td>None</td>\n",
       "      <td>None</td>\n",
       "      <td>None</td>\n",
       "      <td>lamin1.Well</td>\n",
       "      <td>None</td>\n",
       "      <td>2023-10-06 15:20:47</td>\n",
       "      <td>kmvZDIX9</td>\n",
       "    </tr>\n",
       "    <tr>\n",
       "      <th>znBDUGV8D8pj</th>\n",
       "      <td>sirna_id</td>\n",
       "      <td>category</td>\n",
       "      <td>None</td>\n",
       "      <td>None</td>\n",
       "      <td>None</td>\n",
       "      <td>None</td>\n",
       "      <td>None</td>\n",
       "      <td>2023-10-06 15:20:47</td>\n",
       "      <td>kmvZDIX9</td>\n",
       "    </tr>\n",
       "    <tr>\n",
       "      <th>picYDUCOPADA</th>\n",
       "      <td>cell_type</td>\n",
       "      <td>category</td>\n",
       "      <td>None</td>\n",
       "      <td>None</td>\n",
       "      <td>None</td>\n",
       "      <td>bionty.CellLine</td>\n",
       "      <td>None</td>\n",
       "      <td>2023-10-06 15:20:47</td>\n",
       "      <td>kmvZDIX9</td>\n",
       "    </tr>\n",
       "    <tr>\n",
       "      <th>01Brms15XJGR</th>\n",
       "      <td>well_id</td>\n",
       "      <td>category</td>\n",
       "      <td>None</td>\n",
       "      <td>None</td>\n",
       "      <td>None</td>\n",
       "      <td>None</td>\n",
       "      <td>None</td>\n",
       "      <td>2023-10-06 15:20:47</td>\n",
       "      <td>kmvZDIX9</td>\n",
       "    </tr>\n",
       "    <tr>\n",
       "      <th>Q3qKj5zEFi3r</th>\n",
       "      <td>plate</td>\n",
       "      <td>category</td>\n",
       "      <td>None</td>\n",
       "      <td>None</td>\n",
       "      <td>None</td>\n",
       "      <td>core.ULabel</td>\n",
       "      <td>None</td>\n",
       "      <td>2023-10-06 15:20:47</td>\n",
       "      <td>kmvZDIX9</td>\n",
       "    </tr>\n",
       "    <tr>\n",
       "      <th>igEfrbTHauIa</th>\n",
       "      <td>sirna</td>\n",
       "      <td>category</td>\n",
       "      <td>None</td>\n",
       "      <td>None</td>\n",
       "      <td>None</td>\n",
       "      <td>lamin1.Treatment</td>\n",
       "      <td>None</td>\n",
       "      <td>2023-10-06 15:20:47</td>\n",
       "      <td>kmvZDIX9</td>\n",
       "    </tr>\n",
       "    <tr>\n",
       "      <th>LddCMDxZYYVS</th>\n",
       "      <td>file_keys</td>\n",
       "      <td>object</td>\n",
       "      <td>None</td>\n",
       "      <td>None</td>\n",
       "      <td>None</td>\n",
       "      <td>None</td>\n",
       "      <td>None</td>\n",
       "      <td>2023-10-06 15:20:47</td>\n",
       "      <td>kmvZDIX9</td>\n",
       "    </tr>\n",
       "    <tr>\n",
       "      <th>hfOQ6bO0KrGd</th>\n",
       "      <td>site</td>\n",
       "      <td>category</td>\n",
       "      <td>None</td>\n",
       "      <td>None</td>\n",
       "      <td>None</td>\n",
       "      <td>core.ULabel</td>\n",
       "      <td>None</td>\n",
       "      <td>2023-10-06 15:20:47</td>\n",
       "      <td>kmvZDIX9</td>\n",
       "    </tr>\n",
       "    <tr>\n",
       "      <th>M7XiOFNeHbjT</th>\n",
       "      <td>dataset</td>\n",
       "      <td>category</td>\n",
       "      <td>None</td>\n",
       "      <td>None</td>\n",
       "      <td>None</td>\n",
       "      <td>core.ULabel</td>\n",
       "      <td>None</td>\n",
       "      <td>2023-10-06 15:20:47</td>\n",
       "      <td>kmvZDIX9</td>\n",
       "    </tr>\n",
       "    <tr>\n",
       "      <th>rBEWhzqUaWly</th>\n",
       "      <td>well_type</td>\n",
       "      <td>category</td>\n",
       "      <td>None</td>\n",
       "      <td>None</td>\n",
       "      <td>None</td>\n",
       "      <td>core.ULabel</td>\n",
       "      <td>None</td>\n",
       "      <td>2023-10-06 15:20:47</td>\n",
       "      <td>kmvZDIX9</td>\n",
       "    </tr>\n",
       "    <tr>\n",
       "      <th>ToJXGgNRdkxc</th>\n",
       "      <td>experiment</td>\n",
       "      <td>category</td>\n",
       "      <td>None</td>\n",
       "      <td>None</td>\n",
       "      <td>None</td>\n",
       "      <td>lamin1.Experiment</td>\n",
       "      <td>None</td>\n",
       "      <td>2023-10-06 15:20:47</td>\n",
       "      <td>kmvZDIX9</td>\n",
       "    </tr>\n",
       "  </tbody>\n",
       "</table>\n",
       "</div>"
      ],
      "text/plain": [
       "                    name      type modality_id  unit description  \\\n",
       "id                                                                 \n",
       "WJVtaOGmyz4Q        well  category        None  None        None   \n",
       "znBDUGV8D8pj    sirna_id  category        None  None        None   \n",
       "picYDUCOPADA   cell_type  category        None  None        None   \n",
       "01Brms15XJGR     well_id  category        None  None        None   \n",
       "Q3qKj5zEFi3r       plate  category        None  None        None   \n",
       "igEfrbTHauIa       sirna  category        None  None        None   \n",
       "LddCMDxZYYVS   file_keys    object        None  None        None   \n",
       "hfOQ6bO0KrGd        site  category        None  None        None   \n",
       "M7XiOFNeHbjT     dataset  category        None  None        None   \n",
       "rBEWhzqUaWly   well_type  category        None  None        None   \n",
       "ToJXGgNRdkxc  experiment  category        None  None        None   \n",
       "\n",
       "                     registries synonyms           updated_at created_by_id  \n",
       "id                                                                           \n",
       "WJVtaOGmyz4Q        lamin1.Well     None  2023-10-06 15:20:47      kmvZDIX9  \n",
       "znBDUGV8D8pj               None     None  2023-10-06 15:20:47      kmvZDIX9  \n",
       "picYDUCOPADA    bionty.CellLine     None  2023-10-06 15:20:47      kmvZDIX9  \n",
       "01Brms15XJGR               None     None  2023-10-06 15:20:47      kmvZDIX9  \n",
       "Q3qKj5zEFi3r        core.ULabel     None  2023-10-06 15:20:47      kmvZDIX9  \n",
       "igEfrbTHauIa   lamin1.Treatment     None  2023-10-06 15:20:47      kmvZDIX9  \n",
       "LddCMDxZYYVS               None     None  2023-10-06 15:20:47      kmvZDIX9  \n",
       "hfOQ6bO0KrGd        core.ULabel     None  2023-10-06 15:20:47      kmvZDIX9  \n",
       "M7XiOFNeHbjT        core.ULabel     None  2023-10-06 15:20:47      kmvZDIX9  \n",
       "rBEWhzqUaWly        core.ULabel     None  2023-10-06 15:20:47      kmvZDIX9  \n",
       "ToJXGgNRdkxc  lamin1.Experiment     None  2023-10-06 15:20:47      kmvZDIX9  "
      ]
     },
     "execution_count": 52,
     "metadata": {},
     "output_type": "execute_result"
    }
   ],
   "source": [
    "file.features[\"obs\"].df()"
   ]
  },
  {
   "cell_type": "code",
   "execution_count": 53,
   "id": "ba58b5aa",
   "metadata": {},
   "outputs": [
    {
     "data": {
      "image/svg+xml": [
       "<?xml version=\"1.0\" encoding=\"UTF-8\" standalone=\"no\"?>\n",
       "<!DOCTYPE svg PUBLIC \"-//W3C//DTD SVG 1.1//EN\"\n",
       " \"http://www.w3.org/Graphics/SVG/1.1/DTD/svg11.dtd\">\n",
       "<!-- Generated by graphviz version 8.1.0 (20230707.0739)\n",
       " -->\n",
       "<!-- Title: file_8P7vUWLszbjTqhEFrWxD Pages: 1 -->\n",
       "<svg width=\"1838pt\" height=\"288pt\"\n",
       " viewBox=\"0.00 0.00 1838.25 288.00\" xmlns=\"http://www.w3.org/2000/svg\" xmlns:xlink=\"http://www.w3.org/1999/xlink\">\n",
       "<g id=\"graph0\" class=\"graph\" transform=\"scale(1 1) rotate(0) translate(4 284)\">\n",
       "<title>file_8P7vUWLszbjTqhEFrWxD</title>\n",
       "<polygon fill=\"white\" stroke=\"none\" points=\"-4,4 -4,-284 1834.25,-284 1834.25,4 -4,4\"/>\n",
       "<!-- file_a2Y6N2V0igtDVgSMfrFu -->\n",
       "<g id=\"node1\" class=\"node\">\n",
       "<title>file_a2Y6N2V0igtDVgSMfrFu</title>\n",
       "<path fill=\"honeydew\" stroke=\"#065f46\" d=\"M460,-196C460,-196 12,-196 12,-196 6,-196 0,-190 0,-184 0,-184 0,-170 0,-170 0,-164 6,-158 12,-158 12,-158 460,-158 460,-158 466,-158 472,-164 472,-170 472,-170 472,-184 472,-184 472,-190 466,-196 460,-196\"/>\n",
       "<text text-anchor=\"start\" x=\"8\" y=\"-183.5\" font-family=\"Helvetica,sans-Serif\" font-size=\"10.00\">📄 A CSV containing the experiment design of RxRx1, e.g. what cell type and treatment are in each well.</text>\n",
       "<text text-anchor=\"start\" x=\"167\" y=\"-173.5\" font-family=\"Monospace\" font-size=\"10.00\" fill=\"GREY\">id=a2Y6N2V0igtDVgSMfrFu</text>\n",
       "<text text-anchor=\"start\" x=\"203\" y=\"-163.5\" font-family=\"Monospace\" font-size=\"10.00\" fill=\"GREY\">suffix=.csv</text>\n",
       "</g>\n",
       "<!-- run_YGq6vCGFAJAjLDCBg3em -->\n",
       "<g id=\"node2\" class=\"node\">\n",
       "<title>run_YGq6vCGFAJAjLDCBg3em</title>\n",
       "<path fill=\"gainsboro\" stroke=\"#065f46\" d=\"M552.25,-122C552.25,-122 381.75,-122 381.75,-122 375.75,-122 369.75,-116 369.75,-110 369.75,-110 369.75,-86 369.75,-86 369.75,-80 375.75,-74 381.75,-74 381.75,-74 552.25,-74 552.25,-74 558.25,-74 564.25,-80 564.25,-86 564.25,-86 564.25,-110 564.25,-110 564.25,-116 558.25,-122 552.25,-122\"/>\n",
       "<text text-anchor=\"start\" x=\"377.75\" y=\"-109.5\" font-family=\"Helvetica,sans-Serif\" font-size=\"10.00\">📔 Validate and register RxRx1 metadata</text>\n",
       "<text text-anchor=\"start\" x=\"398\" y=\"-99.5\" font-family=\"Monospace\" font-size=\"10.00\" fill=\"GREY\">id=YGq6vCGFAJAjLDCBg3em</text>\n",
       "<text text-anchor=\"start\" x=\"380\" y=\"-89.5\" font-family=\"Monospace\" font-size=\"10.00\" fill=\"GREY\">type=notebook, user=Sunny Sun</text>\n",
       "<text text-anchor=\"start\" x=\"389\" y=\"-79.5\" font-family=\"Monospace\" font-size=\"10.00\" fill=\"GREY\">run_at=2023&#45;10&#45;06 13:18:39</text>\n",
       "</g>\n",
       "<!-- file_a2Y6N2V0igtDVgSMfrFu&#45;&gt;run_YGq6vCGFAJAjLDCBg3em -->\n",
       "<g id=\"edge1\" class=\"edge\">\n",
       "<title>file_a2Y6N2V0igtDVgSMfrFu&#45;&gt;run_YGq6vCGFAJAjLDCBg3em</title>\n",
       "<path fill=\"none\" stroke=\"dimgrey\" d=\"M291.33,-157.56C321.23,-147.59 358.6,-135.13 391.18,-124.27\"/>\n",
       "<polygon fill=\"dimgrey\" stroke=\"dimgrey\" points=\"391.59,-125.65 395.78,-122.41 390.49,-122.33 391.59,-125.65\"/>\n",
       "</g>\n",
       "<!-- file_fW7STSOMsRwDJk6oI3Kh -->\n",
       "<g id=\"node4\" class=\"node\">\n",
       "<title>file_fW7STSOMsRwDJk6oI3Kh</title>\n",
       "<path fill=\"honeydew\" stroke=\"#065f46\" d=\"M421.62,-38C421.62,-38 208.38,-38 208.38,-38 202.38,-38 196.38,-32 196.38,-26 196.38,-26 196.38,-12 196.38,-12 196.38,-6 202.38,0 208.38,0 208.38,0 421.62,0 421.62,0 427.62,0 433.62,-6 433.62,-12 433.62,-12 433.62,-26 433.62,-26 433.62,-32 427.62,-38 421.62,-38\"/>\n",
       "<text text-anchor=\"start\" x=\"204.38\" y=\"-25.5\" font-family=\"Helvetica,sans-Serif\" font-size=\"10.00\">📄 Metadata with file paths for each RxRx1 image.</text>\n",
       "<text text-anchor=\"start\" x=\"246\" y=\"-15.5\" font-family=\"Monospace\" font-size=\"10.00\" fill=\"GREY\">id=fW7STSOMsRwDJk6oI3Kh</text>\n",
       "<text text-anchor=\"start\" x=\"270\" y=\"-5.5\" font-family=\"Monospace\" font-size=\"10.00\" fill=\"GREY\">suffix=.parquet</text>\n",
       "</g>\n",
       "<!-- run_YGq6vCGFAJAjLDCBg3em&#45;&gt;file_fW7STSOMsRwDJk6oI3Kh -->\n",
       "<g id=\"edge3\" class=\"edge\">\n",
       "<title>run_YGq6vCGFAJAjLDCBg3em&#45;&gt;file_fW7STSOMsRwDJk6oI3Kh</title>\n",
       "<path fill=\"none\" stroke=\"dimgrey\" d=\"M420.98,-73.69C400.45,-63.29 376.44,-51.12 356.47,-41.01\"/>\n",
       "<polygon fill=\"dimgrey\" stroke=\"dimgrey\" points=\"357.47,-39.04 352.21,-38.35 355.88,-42.17 357.47,-39.04\"/>\n",
       "</g>\n",
       "<!-- file_8P7vUWLszbjTqhEFrWxD -->\n",
       "<g id=\"node5\" class=\"node\">\n",
       "<title>file_8P7vUWLszbjTqhEFrWxD</title>\n",
       "<path fill=\"#10b981\" stroke=\"#065f46\" d=\"M774.75,-38C774.75,-38 463.25,-38 463.25,-38 457.25,-38 451.25,-32 451.25,-26 451.25,-26 451.25,-12 451.25,-12 451.25,-6 457.25,0 463.25,0 463.25,0 774.75,0 774.75,0 780.75,0 786.75,-6 786.75,-12 786.75,-12 786.75,-26 786.75,-26 786.75,-32 780.75,-38 774.75,-38\"/>\n",
       "<text text-anchor=\"start\" x=\"459.25\" y=\"-25.5\" font-family=\"Helvetica,sans-Serif\" font-size=\"10.00\">📄 Metadata annotated deep learning embeddings for each RxRx1 image.</text>\n",
       "<text text-anchor=\"start\" x=\"550\" y=\"-15.5\" font-family=\"Monospace\" font-size=\"10.00\" fill=\"GREY\">id=8P7vUWLszbjTqhEFrWxD</text>\n",
       "<text text-anchor=\"start\" x=\"583\" y=\"-5.5\" font-family=\"Monospace\" font-size=\"10.00\" fill=\"GREY\">suffix=.h5ad</text>\n",
       "</g>\n",
       "<!-- run_YGq6vCGFAJAjLDCBg3em&#45;&gt;file_8P7vUWLszbjTqhEFrWxD -->\n",
       "<g id=\"edge4\" class=\"edge\">\n",
       "<title>run_YGq6vCGFAJAjLDCBg3em&#45;&gt;file_8P7vUWLszbjTqhEFrWxD</title>\n",
       "<path fill=\"none\" stroke=\"dimgrey\" d=\"M513.02,-73.69C533.55,-63.29 557.56,-51.12 577.53,-41.01\"/>\n",
       "<polygon fill=\"dimgrey\" stroke=\"dimgrey\" points=\"578.12,-42.17 581.79,-38.35 576.53,-39.04 578.12,-42.17\"/>\n",
       "</g>\n",
       "<!-- file_5Hwfp9rtzLZTPG6OxKUv -->\n",
       "<g id=\"node3\" class=\"node\">\n",
       "<title>file_5Hwfp9rtzLZTPG6OxKUv</title>\n",
       "<path fill=\"honeydew\" stroke=\"#065f46\" d=\"M894.25,-196C894.25,-196 501.75,-196 501.75,-196 495.75,-196 489.75,-190 489.75,-184 489.75,-184 489.75,-170 489.75,-170 489.75,-164 495.75,-158 501.75,-158 501.75,-158 894.25,-158 894.25,-158 900.25,-158 906.25,-164 906.25,-170 906.25,-170 906.25,-184 906.25,-184 906.25,-190 900.25,-196 894.25,-196\"/>\n",
       "<text text-anchor=\"start\" x=\"497.75\" y=\"-183.5\" font-family=\"Helvetica,sans-Serif\" font-size=\"10.00\">📄 A large CSV file containing all of the deep learning embeddings for each image of RxRx1.</text>\n",
       "<text text-anchor=\"start\" x=\"629\" y=\"-173.5\" font-family=\"Monospace\" font-size=\"10.00\" fill=\"GREY\">id=5Hwfp9rtzLZTPG6OxKUv</text>\n",
       "<text text-anchor=\"start\" x=\"665\" y=\"-163.5\" font-family=\"Monospace\" font-size=\"10.00\" fill=\"GREY\">suffix=.csv</text>\n",
       "</g>\n",
       "<!-- file_5Hwfp9rtzLZTPG6OxKUv&#45;&gt;run_YGq6vCGFAJAjLDCBg3em -->\n",
       "<g id=\"edge2\" class=\"edge\">\n",
       "<title>file_5Hwfp9rtzLZTPG6OxKUv&#45;&gt;run_YGq6vCGFAJAjLDCBg3em</title>\n",
       "<path fill=\"none\" stroke=\"dimgrey\" d=\"M642.67,-157.56C612.77,-147.59 575.4,-135.13 542.82,-124.27\"/>\n",
       "<polygon fill=\"dimgrey\" stroke=\"dimgrey\" points=\"543.51,-122.33 538.22,-122.41 542.41,-125.65 543.51,-122.33\"/>\n",
       "</g>\n",
       "<!-- run_s9Eh8RaIdaoPPTb7IdNi -->\n",
       "<g id=\"node6\" class=\"node\">\n",
       "<title>run_s9Eh8RaIdaoPPTb7IdNi</title>\n",
       "<path fill=\"gainsboro\" stroke=\"#065f46\" d=\"M1012,-280C1012,-280 846,-280 846,-280 840,-280 834,-274 834,-268 834,-268 834,-244 834,-244 834,-238 840,-232 846,-232 846,-232 1012,-232 1012,-232 1018,-232 1024,-238 1024,-244 1024,-244 1024,-268 1024,-268 1024,-274 1018,-280 1012,-280\"/>\n",
       "<text text-anchor=\"start\" x=\"863.38\" y=\"-267.5\" font-family=\"Helvetica,sans-Serif\" font-size=\"10.00\">📔 Download and register files</text>\n",
       "<text text-anchor=\"start\" x=\"860\" y=\"-257.5\" font-family=\"Monospace\" font-size=\"10.00\" fill=\"GREY\">id=s9Eh8RaIdaoPPTb7IdNi</text>\n",
       "<text text-anchor=\"start\" x=\"842\" y=\"-247.5\" font-family=\"Monospace\" font-size=\"10.00\" fill=\"GREY\">type=notebook, user=Sunny Sun</text>\n",
       "<text text-anchor=\"start\" x=\"851\" y=\"-237.5\" font-family=\"Monospace\" font-size=\"10.00\" fill=\"GREY\">run_at=2023&#45;10&#45;06 13:12:15</text>\n",
       "</g>\n",
       "<!-- run_s9Eh8RaIdaoPPTb7IdNi&#45;&gt;file_a2Y6N2V0igtDVgSMfrFu -->\n",
       "<g id=\"edge5\" class=\"edge\">\n",
       "<title>run_s9Eh8RaIdaoPPTb7IdNi&#45;&gt;file_a2Y6N2V0igtDVgSMfrFu</title>\n",
       "<path fill=\"none\" stroke=\"dimgrey\" d=\"M833.73,-244.41C724.34,-232.26 542.69,-212.08 408.3,-197.14\"/>\n",
       "<polygon fill=\"dimgrey\" stroke=\"dimgrey\" points=\"408.5,-195.3 403.34,-196.48 408.12,-198.77 408.5,-195.3\"/>\n",
       "</g>\n",
       "<!-- run_s9Eh8RaIdaoPPTb7IdNi&#45;&gt;file_5Hwfp9rtzLZTPG6OxKUv -->\n",
       "<g id=\"edge7\" class=\"edge\">\n",
       "<title>run_s9Eh8RaIdaoPPTb7IdNi&#45;&gt;file_5Hwfp9rtzLZTPG6OxKUv</title>\n",
       "<path fill=\"none\" stroke=\"dimgrey\" d=\"M858.75,-231.58C826.89,-220.96 789.56,-208.52 758.91,-198.3\"/>\n",
       "<polygon fill=\"dimgrey\" stroke=\"dimgrey\" points=\"759.56,-196.34 754.26,-196.42 758.45,-199.66 759.56,-196.34\"/>\n",
       "</g>\n",
       "<!-- file_41t7qU3UgGYQIusqWfHR -->\n",
       "<g id=\"node7\" class=\"node\">\n",
       "<title>file_41t7qU3UgGYQIusqWfHR</title>\n",
       "<path fill=\"honeydew\" stroke=\"#065f46\" d=\"M1384,-196C1384,-196 936,-196 936,-196 930,-196 924,-190 924,-184 924,-184 924,-170 924,-170 924,-164 930,-158 936,-158 936,-158 1384,-158 1384,-158 1390,-158 1396,-164 1396,-170 1396,-170 1396,-184 1396,-184 1396,-190 1390,-196 1384,-196\"/>\n",
       "<text text-anchor=\"start\" x=\"932\" y=\"-183.5\" font-family=\"Helvetica,sans-Serif\" font-size=\"10.00\">📄 A CSV containing the experiment design of RxRx2, e.g. what cell type and treatment are in each well.</text>\n",
       "<text text-anchor=\"start\" x=\"1091\" y=\"-173.5\" font-family=\"Monospace\" font-size=\"10.00\" fill=\"GREY\">id=41t7qU3UgGYQIusqWfHR</text>\n",
       "<text text-anchor=\"start\" x=\"1127\" y=\"-163.5\" font-family=\"Monospace\" font-size=\"10.00\" fill=\"GREY\">suffix=.csv</text>\n",
       "</g>\n",
       "<!-- run_s9Eh8RaIdaoPPTb7IdNi&#45;&gt;file_41t7qU3UgGYQIusqWfHR -->\n",
       "<g id=\"edge6\" class=\"edge\">\n",
       "<title>run_s9Eh8RaIdaoPPTb7IdNi&#45;&gt;file_41t7qU3UgGYQIusqWfHR</title>\n",
       "<path fill=\"none\" stroke=\"dimgrey\" d=\"M999.25,-231.58C1031.11,-220.96 1068.44,-208.52 1099.09,-198.3\"/>\n",
       "<polygon fill=\"dimgrey\" stroke=\"dimgrey\" points=\"1099.55,-199.66 1103.74,-196.42 1098.44,-196.34 1099.55,-199.66\"/>\n",
       "</g>\n",
       "<!-- file_D5LO4LSh94YdIiiRMU11 -->\n",
       "<g id=\"node8\" class=\"node\">\n",
       "<title>file_D5LO4LSh94YdIiiRMU11</title>\n",
       "<path fill=\"honeydew\" stroke=\"#065f46\" d=\"M1818.25,-196C1818.25,-196 1425.75,-196 1425.75,-196 1419.75,-196 1413.75,-190 1413.75,-184 1413.75,-184 1413.75,-170 1413.75,-170 1413.75,-164 1419.75,-158 1425.75,-158 1425.75,-158 1818.25,-158 1818.25,-158 1824.25,-158 1830.25,-164 1830.25,-170 1830.25,-170 1830.25,-184 1830.25,-184 1830.25,-190 1824.25,-196 1818.25,-196\"/>\n",
       "<text text-anchor=\"start\" x=\"1421.75\" y=\"-183.5\" font-family=\"Helvetica,sans-Serif\" font-size=\"10.00\">📄 A large CSV file containing all of the deep learning embeddings for each image of RxRx2.</text>\n",
       "<text text-anchor=\"start\" x=\"1553\" y=\"-173.5\" font-family=\"Monospace\" font-size=\"10.00\" fill=\"GREY\">id=D5LO4LSh94YdIiiRMU11</text>\n",
       "<text text-anchor=\"start\" x=\"1589\" y=\"-163.5\" font-family=\"Monospace\" font-size=\"10.00\" fill=\"GREY\">suffix=.csv</text>\n",
       "</g>\n",
       "<!-- run_s9Eh8RaIdaoPPTb7IdNi&#45;&gt;file_D5LO4LSh94YdIiiRMU11 -->\n",
       "<g id=\"edge8\" class=\"edge\">\n",
       "<title>run_s9Eh8RaIdaoPPTb7IdNi&#45;&gt;file_D5LO4LSh94YdIiiRMU11</title>\n",
       "<path fill=\"none\" stroke=\"dimgrey\" d=\"M1024.27,-244.41C1133.66,-232.26 1315.31,-212.08 1449.7,-197.14\"/>\n",
       "<polygon fill=\"dimgrey\" stroke=\"dimgrey\" points=\"1449.88,-198.77 1454.66,-196.48 1449.5,-195.3 1449.88,-198.77\"/>\n",
       "</g>\n",
       "</g>\n",
       "</svg>\n"
      ],
      "text/plain": [
       "<graphviz.graphs.Digraph at 0x16cc2b730>"
      ]
     },
     "metadata": {},
     "output_type": "display_data"
    }
   ],
   "source": [
    "file.view_flow()"
   ]
  }
 ],
 "metadata": {
  "kernelspec": {
   "display_name": "Python 3 (ipykernel)",
   "language": "python",
   "name": "python3"
  },
  "language_info": {
   "codemirror_mode": {
    "name": "ipython",
    "version": 3
   },
   "file_extension": ".py",
   "mimetype": "text/x-python",
   "name": "python",
   "nbconvert_exporter": "python",
   "pygments_lexer": "ipython3",
   "version": "3.9.16"
  },
  "nbproject": {
   "id": "Zo0qJt4IQPsb",
   "parent": null,
   "pypackage": null,
   "time_init": "2023-05-12T08:12:15.993422+00:00",
   "user_handle": "giovp",
   "user_id": "eut8h4zv",
   "user_name": null,
   "version": "0"
  }
 },
 "nbformat": 4,
 "nbformat_minor": 5
}
