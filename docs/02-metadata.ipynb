{
 "cells": [
  {
   "attachments": {},
   "cell_type": "markdown",
   "id": "82251552-5981-44f1-a7fd-944c59a845de",
   "metadata": {},
   "source": [
    "# Validate and register metadata\n",
    "\n",
    "In this notebook, we'll take a look at how to validate and register metadata.\n",
    "\n",
    "We will combine metadata and deep learning embeddings into an `AnnData` object."
   ]
  },
  {
   "cell_type": "code",
   "execution_count": null,
   "id": "d4c819f7",
   "metadata": {},
   "outputs": [],
   "source": [
    "import lamindb as ln\n",
    "import lnschema_bionty as lb\n",
    "import lnschema_lamin1 as ln1\n",
    "import anndata as ad"
   ]
  },
  {
   "cell_type": "code",
   "execution_count": null,
   "id": "303f2068",
   "metadata": {},
   "outputs": [],
   "source": [
    "ln.settings.verbosity = \"hint\""
   ]
  },
  {
   "cell_type": "code",
   "execution_count": null,
   "id": "ae5f5e0a",
   "metadata": {},
   "outputs": [],
   "source": [
    "ln.track()"
   ]
  },
  {
   "cell_type": "markdown",
   "id": "cfcd84c1",
   "metadata": {},
   "source": [
    "## Load metadata"
   ]
  },
  {
   "cell_type": "markdown",
   "id": "51083bac",
   "metadata": {},
   "source": [
    "We read in the metadata of the wells:"
   ]
  },
  {
   "cell_type": "code",
   "execution_count": null,
   "id": "a20be6b6",
   "metadata": {},
   "outputs": [],
   "source": [
    "meta_file = ln.File.filter(key=\"rxrx1.parquet\").one()"
   ]
  },
  {
   "cell_type": "code",
   "execution_count": null,
   "id": "573d7ff5",
   "metadata": {},
   "outputs": [],
   "source": [
    "meta = meta_file.load()"
   ]
  },
  {
   "cell_type": "code",
   "execution_count": null,
   "id": "5281df48",
   "metadata": {},
   "outputs": [],
   "source": [
    "meta[\"plate\"] = meta[\"plate\"].astype(str)\n",
    "meta[\"site\"] = meta[\"site\"].astype(str)\n",
    "meta[\"sirna_id\"] = meta[\"sirna_id\"].astype(str)"
   ]
  },
  {
   "cell_type": "code",
   "execution_count": null,
   "id": "cb7b4d61",
   "metadata": {},
   "outputs": [],
   "source": [
    "meta.shape"
   ]
  },
  {
   "cell_type": "code",
   "execution_count": null,
   "id": "782639cf",
   "metadata": {},
   "outputs": [],
   "source": [
    "meta.head()"
   ]
  },
  {
   "cell_type": "markdown",
   "id": "60803213",
   "metadata": {},
   "source": [
    "## Load embeddings"
   ]
  },
  {
   "cell_type": "code",
   "execution_count": null,
   "id": "80f41538",
   "metadata": {},
   "outputs": [],
   "source": [
    "embedding_file = ln.File.filter(description__contains=\"embeddings\").one()"
   ]
  },
  {
   "cell_type": "code",
   "execution_count": null,
   "id": "ab73c9fa",
   "metadata": {},
   "outputs": [],
   "source": [
    "embedding = embedding_file.load()"
   ]
  },
  {
   "cell_type": "code",
   "execution_count": null,
   "id": "428c0345",
   "metadata": {},
   "outputs": [],
   "source": [
    "embedding.set_index(\"site_id\", inplace=True)"
   ]
  },
  {
   "cell_type": "code",
   "execution_count": null,
   "id": "3a2b5f5b",
   "metadata": {},
   "outputs": [],
   "source": [
    "embedding.shape"
   ]
  },
  {
   "cell_type": "code",
   "execution_count": null,
   "id": "560f2e22",
   "metadata": {},
   "outputs": [],
   "source": [
    "embedding.head()"
   ]
  },
  {
   "attachments": {},
   "cell_type": "markdown",
   "id": "efca351e-a3ef-4550-8c59-a3dc0141dd88",
   "metadata": {},
   "source": [
    "## Validate and register metadata"
   ]
  },
  {
   "cell_type": "markdown",
   "id": "d0a2f4a2",
   "metadata": {},
   "source": [
    "### `cell_type`"
   ]
  },
  {
   "attachments": {},
   "cell_type": "markdown",
   "id": "d255e3b6-dfbd-4319-bebe-6dc1baf11215",
   "metadata": {},
   "source": [
    "We can start with curating the metadata table based on the ontologies from bionty. For example, let's start with the `cell_line` metadata.\n",
    "In this table, they are called \"cell_type\" but they are in fact the cell line for the experiments"
   ]
  },
  {
   "cell_type": "code",
   "execution_count": null,
   "id": "37d9bb21-b6b9-4915-8b68-365f11fde979",
   "metadata": {
    "tags": []
   },
   "outputs": [],
   "source": [
    "meta[\"cell_type\"].unique()"
   ]
  },
  {
   "cell_type": "code",
   "execution_count": null,
   "id": "030e7b02",
   "metadata": {},
   "outputs": [],
   "source": [
    "cell_lines = lb.CellLine.from_values(meta[\"cell_type\"])"
   ]
  },
  {
   "cell_type": "code",
   "execution_count": null,
   "id": "ef0f3709",
   "metadata": {
    "tags": []
   },
   "outputs": [],
   "source": [
    "ln.save(cell_lines, parents=False)"
   ]
  },
  {
   "cell_type": "markdown",
   "id": "591ddd62",
   "metadata": {},
   "source": [
    "### `dataset` (train/test labels)"
   ]
  },
  {
   "cell_type": "markdown",
   "id": "87bc0d16",
   "metadata": {},
   "source": [
    "Use `ULabel` for \"train\", \"test\":"
   ]
  },
  {
   "cell_type": "code",
   "execution_count": null,
   "id": "03800f02",
   "metadata": {},
   "outputs": [],
   "source": [
    "meta[\"dataset\"].unique()"
   ]
  },
  {
   "cell_type": "code",
   "execution_count": null,
   "id": "2feaee03",
   "metadata": {},
   "outputs": [],
   "source": [
    "train_test = []\n",
    "for name in meta[\"dataset\"].unique():\n",
    "    train_test.append(ln.ULabel(name=name, description=\"ML train/test split\"))\n",
    "\n",
    "ln.save(train_test)"
   ]
  },
  {
   "cell_type": "markdown",
   "id": "1332431d",
   "metadata": {},
   "source": [
    "### `experiment`"
   ]
  },
  {
   "cell_type": "code",
   "execution_count": null,
   "id": "20e1f372",
   "metadata": {},
   "outputs": [],
   "source": [
    "ln.settings.upon_create_search_name = False\n",
    "\n",
    "experiments = []\n",
    "for name in meta[\"experiment\"].unique():\n",
    "    record = ln1.Experiment(name=name, description=\"RxRx1\")\n",
    "    experiments.append(record)\n",
    "\n",
    "ln.save(experiments)\n",
    "\n",
    "ln.settings.upon_create_search_name = True"
   ]
  },
  {
   "cell_type": "markdown",
   "id": "450de01b",
   "metadata": {},
   "source": [
    "### `plate`"
   ]
  },
  {
   "cell_type": "code",
   "execution_count": null,
   "id": "c71cf241",
   "metadata": {},
   "outputs": [],
   "source": [
    "is_plate = ln.ULabel(name=\"is_plate\", description=\"parent of plates\")\n",
    "is_plate.save()"
   ]
  },
  {
   "cell_type": "code",
   "execution_count": null,
   "id": "aea0fa39",
   "metadata": {},
   "outputs": [],
   "source": [
    "plates = []\n",
    "for name in meta[\"plate\"].unique():\n",
    "    record = ln.ULabel(name=f\"Plate{name}\")\n",
    "    plates.append(record)\n",
    "\n",
    "ln.save(plates)\n",
    "is_plate.children.set(plates)"
   ]
  },
  {
   "cell_type": "code",
   "execution_count": null,
   "id": "35e6fe22",
   "metadata": {},
   "outputs": [],
   "source": [
    "is_plate.view_parents(with_children=True)"
   ]
  },
  {
   "cell_type": "markdown",
   "id": "eb573cf8",
   "metadata": {},
   "source": [
    "### `well`"
   ]
  },
  {
   "attachments": {},
   "cell_type": "markdown",
   "id": "80198d9f-dd52-476f-8333-c2742af9c38f",
   "metadata": {},
   "source": [
    "We might also want to add the well information, so that we can link image files and parse images based on well coordinates. To do this, let's first extract well locations from the table:"
   ]
  },
  {
   "cell_type": "code",
   "execution_count": null,
   "id": "0614c46a-d8f6-40db-be75-acf31411a43c",
   "metadata": {
    "tags": []
   },
   "outputs": [],
   "source": [
    "ln.settings.upon_create_search_name = False\n",
    "\n",
    "wells = []\n",
    "for well in meta[\"well\"].unique():\n",
    "    wells.append(ln1.Well(name=well, row=well[0], column=int(well[1:])))\n",
    "\n",
    "ln.save(wells)\n",
    "\n",
    "ln.settings.upon_create_search_name = True"
   ]
  },
  {
   "cell_type": "markdown",
   "id": "c7903ed3",
   "metadata": {},
   "source": [
    "### `site`"
   ]
  },
  {
   "cell_type": "code",
   "execution_count": null,
   "id": "fe53232f",
   "metadata": {},
   "outputs": [],
   "source": [
    "is_site = ln.ULabel(name=\"is_site\", description=\"parent of sites\")\n",
    "is_site.save()"
   ]
  },
  {
   "cell_type": "code",
   "execution_count": null,
   "id": "bc4bb354",
   "metadata": {},
   "outputs": [],
   "source": [
    "sites = []\n",
    "for name in meta[\"site\"].unique():\n",
    "    record = ln.ULabel(name=f\"Site{name}\")\n",
    "    sites.append(record)\n",
    "\n",
    "ln.save(sites)\n",
    "is_site.children.set(sites)"
   ]
  },
  {
   "cell_type": "code",
   "execution_count": null,
   "id": "50d55873",
   "metadata": {},
   "outputs": [],
   "source": [
    "is_site.view_parents(with_children=True)"
   ]
  },
  {
   "cell_type": "markdown",
   "id": "b84b665c",
   "metadata": {},
   "source": [
    "### `well_type`"
   ]
  },
  {
   "cell_type": "code",
   "execution_count": null,
   "id": "d5d846c3",
   "metadata": {},
   "outputs": [],
   "source": [
    "is_well_type = ln.ULabel(name=\"is_well_type\", description=\"parent of well types\")\n",
    "is_well_type.save()"
   ]
  },
  {
   "cell_type": "code",
   "execution_count": null,
   "id": "05cd6429",
   "metadata": {},
   "outputs": [],
   "source": [
    "well_types = []\n",
    "for name in meta[\"well_type\"].unique():\n",
    "    record = ln.ULabel(name=name)\n",
    "    well_types.append(record)\n",
    "\n",
    "ln.save(well_types)\n",
    "is_well_type.children.set(well_types)"
   ]
  },
  {
   "cell_type": "code",
   "execution_count": null,
   "id": "fdb3802b",
   "metadata": {},
   "outputs": [],
   "source": [
    "is_well_type.view_parents(with_children=True)"
   ]
  },
  {
   "cell_type": "markdown",
   "id": "a868cc17",
   "metadata": {},
   "source": [
    "### `sirna`"
   ]
  },
  {
   "attachments": {},
   "cell_type": "markdown",
   "id": "dc821ebd",
   "metadata": {},
   "source": [
    "add sirna to Treatment table:"
   ]
  },
  {
   "cell_type": "code",
   "execution_count": null,
   "id": "3f029d5c",
   "metadata": {},
   "outputs": [],
   "source": [
    "ln.settings.upon_create_search_name = False\n",
    "\n",
    "sirnas = []\n",
    "for sirna in meta[\"sirna\"].unique():\n",
    "    record = ln1.Treatment(\n",
    "        name=sirna,\n",
    "        type=\"genetic\",\n",
    "        system=\"siRNA\",\n",
    "        description=\"ThermoFisher ID of siRNA\",\n",
    "    )\n",
    "    sirnas.append(record)\n",
    "\n",
    "ln.save(sirnas)\n",
    "\n",
    "ln.settings.upon_create_search_name = True"
   ]
  },
  {
   "cell_type": "markdown",
   "id": "860ecbd9",
   "metadata": {},
   "source": [
    "### assay/readout"
   ]
  },
  {
   "cell_type": "markdown",
   "id": "64c2b39a",
   "metadata": {},
   "source": [
    "We can do the same for other ontologies that we are interested to curate. For example, the type of readout. We are going to choose the \"high content screen\" readout."
   ]
  },
  {
   "cell_type": "code",
   "execution_count": null,
   "id": "272bc79a",
   "metadata": {},
   "outputs": [],
   "source": [
    "ln.Feature(name=\"assay\", type=\"category\").save()"
   ]
  },
  {
   "cell_type": "code",
   "execution_count": null,
   "id": "2d02a54f",
   "metadata": {},
   "outputs": [],
   "source": [
    "assay = lb.ExperimentalFactor.from_bionty(name=\"high content screen\")\n",
    "assay.save(parents=False)"
   ]
  },
  {
   "cell_type": "markdown",
   "id": "b4456cd5",
   "metadata": {},
   "source": [
    "### features"
   ]
  },
  {
   "cell_type": "code",
   "execution_count": null,
   "id": "57013951",
   "metadata": {},
   "outputs": [],
   "source": [
    "var_features = ln.Feature.from_df(embedding)\n",
    "ln.save(var_features)"
   ]
  },
  {
   "cell_type": "code",
   "execution_count": null,
   "id": "0c1b6bf5",
   "metadata": {},
   "outputs": [],
   "source": [
    "obs_features = ln.Feature.from_df(meta)\n",
    "ln.save(obs_features)"
   ]
  },
  {
   "cell_type": "markdown",
   "id": "d5ac619e",
   "metadata": {},
   "source": [
    "## Create `AnnData` object for embeddings and metadata"
   ]
  },
  {
   "cell_type": "code",
   "execution_count": null,
   "id": "07ff69c5",
   "metadata": {},
   "outputs": [],
   "source": [
    "adata = ad.AnnData(embedding)\n",
    "adata.obs = meta.set_index(\"site_id\").loc[adata.obs.index]"
   ]
  },
  {
   "cell_type": "code",
   "execution_count": null,
   "id": "7c8a63ab",
   "metadata": {},
   "outputs": [],
   "source": [
    "adata"
   ]
  },
  {
   "attachments": {},
   "cell_type": "markdown",
   "id": "496f4f2c",
   "metadata": {},
   "source": [
    "## Register AnnData and link to metadata records"
   ]
  },
  {
   "cell_type": "code",
   "execution_count": null,
   "id": "dbf78ad4",
   "metadata": {},
   "outputs": [],
   "source": [
    "file = ln.File.from_anndata(\n",
    "    adata,\n",
    "    field=ln.Feature.name,\n",
    "    key=\"rxrx1_embeddings.h5ad\",\n",
    "    description=\"Metadata annotated deep learning embeddings for each RxRx1 image.\",\n",
    ")"
   ]
  },
  {
   "cell_type": "code",
   "execution_count": null,
   "id": "c834964b",
   "metadata": {},
   "outputs": [],
   "source": [
    "file.save()"
   ]
  },
  {
   "cell_type": "code",
   "execution_count": null,
   "id": "1bf41727",
   "metadata": {},
   "outputs": [],
   "source": [
    "features = ln.Feature.lookup()"
   ]
  },
  {
   "cell_type": "code",
   "execution_count": null,
   "id": "0bee5e51",
   "metadata": {},
   "outputs": [],
   "source": [
    "# obs\n",
    "file.labels.add(cell_lines, features.cell_type)\n",
    "file.labels.add(train_test, features.dataset)\n",
    "file.labels.add(experiments, features.experiment)\n",
    "file.labels.add(plates, features.plate)\n",
    "file.labels.add(wells, features.well)\n",
    "file.labels.add(sites, features.site)\n",
    "file.labels.add(well_types, features.well_type)\n",
    "file.labels.add(sirnas, features.sirna)\n",
    "# external\n",
    "file.labels.add(assay, features.assay)"
   ]
  },
  {
   "cell_type": "code",
   "execution_count": null,
   "id": "c02397c0",
   "metadata": {},
   "outputs": [],
   "source": [
    "file.labels"
   ]
  },
  {
   "cell_type": "code",
   "execution_count": null,
   "id": "55c2de13",
   "metadata": {},
   "outputs": [],
   "source": [
    "file.features"
   ]
  },
  {
   "cell_type": "code",
   "execution_count": null,
   "id": "dac3777a",
   "metadata": {},
   "outputs": [],
   "source": [
    "file.feature_sets.df()"
   ]
  },
  {
   "cell_type": "code",
   "execution_count": null,
   "id": "eaad66e1",
   "metadata": {},
   "outputs": [],
   "source": [
    "file.features[\"obs\"].df()"
   ]
  }
 ],
 "metadata": {
  "kernelspec": {
   "display_name": "Python 3 (ipykernel)",
   "language": "python",
   "name": "python3"
  },
  "language_info": {
   "codemirror_mode": {
    "name": "ipython",
    "version": 3
   },
   "file_extension": ".py",
   "mimetype": "text/x-python",
   "name": "python",
   "nbconvert_exporter": "python",
   "pygments_lexer": "ipython3",
   "version": "3.9.16"
  },
  "nbproject": {
   "id": "Zo0qJt4IQPsb",
   "parent": null,
   "pypackage": null,
   "time_init": "2023-05-12T08:12:15.993422+00:00",
   "user_handle": "giovp",
   "user_id": "eut8h4zv",
   "user_name": null,
   "version": "0"
  }
 },
 "nbformat": 4,
 "nbformat_minor": 5
}
