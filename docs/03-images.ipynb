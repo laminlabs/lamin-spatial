{
 "cells": [
  {
   "attachments": {},
   "cell_type": "markdown",
   "metadata": {},
   "source": [
    "# Register RxRx1 images"
   ]
  },
  {
   "attachments": {},
   "cell_type": "markdown",
   "metadata": {},
   "source": [
    "Images are located: https://console.cloud.google.com/storage/browser/rxrx1-europe-west4"
   ]
  },
  {
   "cell_type": "code",
   "execution_count": null,
   "metadata": {},
   "outputs": [],
   "source": [
    "import lamindb as ln\n",
    "import lnschema_bionty as lb\n",
    "import lnschema_lamin1 as ln1\n",
    "import pandas as pd\n",
    "\n",
    "ln.settings.verbosity = \"hint\""
   ]
  },
  {
   "cell_type": "code",
   "execution_count": null,
   "metadata": {},
   "outputs": [],
   "source": [
    "ln.track()"
   ]
  },
  {
   "cell_type": "markdown",
   "metadata": {},
   "source": [
    "## Register all image files"
   ]
  },
  {
   "cell_type": "code",
   "execution_count": null,
   "metadata": {},
   "outputs": [],
   "source": [
    "%%time\n",
    "\n",
    "ln.settings.verbosity = \"error\"\n",
    "\n",
    "files = ln.File.from_dir(\"gs://rxrx1-europe-west4/images\")\n",
    "\n",
    "ln.settings.verbosity = \"hint\""
   ]
  },
  {
   "cell_type": "code",
   "execution_count": null,
   "metadata": {},
   "outputs": [],
   "source": [
    "%%time\n",
    "\n",
    "ln.save(files)"
   ]
  },
  {
   "cell_type": "markdown",
   "metadata": {},
   "source": [
    "## Link each image file to metadata records"
   ]
  },
  {
   "cell_type": "markdown",
   "metadata": {},
   "source": [
    "### Match file key with its metadata"
   ]
  },
  {
   "cell_type": "code",
   "execution_count": null,
   "metadata": {},
   "outputs": [],
   "source": [
    "meta_file = ln.File.filter(key=\"rxrx1.parquet\").one()\n",
    "meta = meta_file.load()"
   ]
  },
  {
   "cell_type": "code",
   "execution_count": null,
   "metadata": {},
   "outputs": [],
   "source": [
    "meta[\"plate\"] = \"Plate\" + meta[\"plate\"].astype(str)"
   ]
  },
  {
   "cell_type": "code",
   "execution_count": null,
   "metadata": {},
   "outputs": [],
   "source": [
    "# get the 6 file keys for each row\n",
    "files_list = []\n",
    "for _, row in meta.iterrows():\n",
    "    well = row.well\n",
    "    site = row.site\n",
    "    # each image has 6 channels\n",
    "    files_list.append(\n",
    "        [\n",
    "            f\"images/{row.dataset}/{row.experiment}/{row.plate}/{well}_s{site}_w{channel}.png\"\n",
    "            for channel in range(1, 7)  # channels are w1 - w6\n",
    "        ]\n",
    "    )\n",
    "meta[\"files\"] = files_list"
   ]
  },
  {
   "cell_type": "code",
   "execution_count": null,
   "metadata": {},
   "outputs": [],
   "source": [
    "# each row is now a single file, represented by its if\n",
    "meta = meta.explode(\"files\")\n",
    "meta[\"files\"] = meta[\"files\"].map(dict(ln.File.objects.values_list(\"key\", \"id\")))"
   ]
  },
  {
   "cell_type": "code",
   "execution_count": null,
   "metadata": {},
   "outputs": [],
   "source": [
    "meta.head()"
   ]
  },
  {
   "cell_type": "markdown",
   "metadata": {},
   "source": [
    "### Create records of link tables"
   ]
  },
  {
   "cell_type": "markdown",
   "metadata": {},
   "source": [
    "Replace record names with ids:"
   ]
  },
  {
   "cell_type": "code",
   "execution_count": null,
   "metadata": {},
   "outputs": [],
   "source": [
    "def name_mapper(registry):\n",
    "    return dict(registry.objects.values_list(\"name\", \"id\"))"
   ]
  },
  {
   "cell_type": "code",
   "execution_count": null,
   "metadata": {},
   "outputs": [],
   "source": [
    "meta[\"cell_type\"] = lb.CellLine.standardize(meta[\"cell_type\"])\n",
    "meta[\"cell_type\"] = meta[\"cell_type\"].map(name_mapper(lb.CellLine))\n",
    "\n",
    "meta[\"dataset\"] = meta[\"dataset\"].map(name_mapper(ln.ULabel))\n",
    "meta[\"experiment\"] = meta[\"experiment\"].map(name_mapper(ln1.Experiment))\n",
    "meta[\"plate\"] = meta[\"plate\"].map(name_mapper(ln.ULabel))\n",
    "meta[\"well\"] = meta[\"well\"].map(name_mapper(ln1.Well))\n",
    "meta[\"site\"] = \"Site\" + meta[\"site\"].astype(str)\n",
    "meta[\"site\"] = meta[\"site\"].map(name_mapper(ln.ULabel))\n",
    "meta[\"well_type\"] = meta[\"well_type\"].map(name_mapper(ln.ULabel))\n",
    "meta[\"sirna\"] = meta[\"sirna\"].map(name_mapper(ln1.Treatment))\n",
    "\n",
    "meta[\"experimentalfactor_id\"] = \"high content screen\"\n",
    "meta[\"experimentalfactor_id\"] = meta[\"experimentalfactor_id\"].map(\n",
    "    name_mapper(lb.ExperimentalFactor)\n",
    ")"
   ]
  },
  {
   "cell_type": "code",
   "execution_count": null,
   "metadata": {},
   "outputs": [],
   "source": [
    "meta = meta.rename(columns={\"files\": \"file_id\"}).set_index(\"file_id\")"
   ]
  },
  {
   "cell_type": "code",
   "execution_count": null,
   "metadata": {},
   "outputs": [],
   "source": [
    "meta.head()"
   ]
  },
  {
   "cell_type": "code",
   "execution_count": null,
   "metadata": {},
   "outputs": [],
   "source": [
    "meta.shape"
   ]
  },
  {
   "cell_type": "markdown",
   "metadata": {},
   "source": [
    "### Link obs and external labels"
   ]
  },
  {
   "cell_type": "code",
   "execution_count": null,
   "metadata": {},
   "outputs": [],
   "source": [
    "def link_records(registry, iterable, field_name, **kwargs):\n",
    "    records = []\n",
    "    for file_id, label_id in iterable.items():\n",
    "        record = registry(**{field_name: label_id, \"file_id\": file_id}, **kwargs)\n",
    "        records.append(record)\n",
    "    registry.objects.bulk_create(records)"
   ]
  },
  {
   "cell_type": "code",
   "execution_count": null,
   "metadata": {},
   "outputs": [],
   "source": [
    "link_records(ln.File.cell_lines.through, meta[\"cell_type\"], \"cellline_id\")\n",
    "link_records(ln.File.ulabels.through, meta[\"dataset\"], \"ulabel_id\")\n",
    "link_records(ln.File.experiments.through, meta[\"experiment\"], \"experiment_id\")\n",
    "link_records(ln.File.ulabels.through, meta[\"plate\"], \"ulabel_id\")\n",
    "link_records(ln.File.wells.through, meta[\"well\"], \"well_id\")\n",
    "link_records(ln.File.ulabels.through, meta[\"site\"], \"ulabel_id\")\n",
    "link_records(ln.File.ulabels.through, meta[\"well_type\"], \"ulabel_id\")\n",
    "link_records(ln.File.treatments.through, meta[\"sirna\"], \"treatment_id\")\n",
    "link_records(\n",
    "    ln.File.experimental_factors.through,\n",
    "    meta[\"experimentalfactor_id\"],\n",
    "    \"experimentalfactor_id\",\n",
    ")"
   ]
  },
  {
   "cell_type": "markdown",
   "metadata": {},
   "source": [
    "### Link feature sets"
   ]
  },
  {
   "cell_type": "code",
   "execution_count": null,
   "metadata": {},
   "outputs": [],
   "source": [
    "ln.FeatureSet.filter().df()"
   ]
  },
  {
   "cell_type": "code",
   "execution_count": null,
   "metadata": {},
   "outputs": [],
   "source": [
    "# obs feature set\n",
    "meta[\"featureset_id\"] = \"4ueOrr0AS9GwslD3HC8u\"\n",
    "link_records(\n",
    "    ln.File.feature_sets.through,\n",
    "    meta[\"featureset_id\"],\n",
    "    \"feature_set_id\",\n",
    "    slot=\"well_meta\",\n",
    ")"
   ]
  },
  {
   "cell_type": "code",
   "execution_count": null,
   "metadata": {},
   "outputs": [],
   "source": [
    "# external feature set\n",
    "meta[\"featureset_id\"] = \"dgPotT98Z6N9EP1YJDNu\"\n",
    "link_records(\n",
    "    ln.File.feature_sets.through,\n",
    "    meta[\"featureset_id\"],\n",
    "    \"feature_set_id\",\n",
    "    slot=\"external\",\n",
    ")"
   ]
  },
  {
   "cell_type": "markdown",
   "metadata": {},
   "source": [
    "## Inspect linked features and labels"
   ]
  },
  {
   "cell_type": "code",
   "execution_count": null,
   "metadata": {},
   "outputs": [],
   "source": [
    "file = ln.File.filter().last()"
   ]
  },
  {
   "cell_type": "code",
   "execution_count": null,
   "metadata": {},
   "outputs": [],
   "source": [
    "file"
   ]
  },
  {
   "cell_type": "code",
   "execution_count": null,
   "metadata": {},
   "outputs": [],
   "source": [
    "file.features"
   ]
  },
  {
   "cell_type": "code",
   "execution_count": null,
   "metadata": {},
   "outputs": [],
   "source": [
    "file.labels"
   ]
  }
 ],
 "metadata": {
  "kernelspec": {
   "display_name": "py39",
   "language": "python",
   "name": "python3"
  },
  "language_info": {
   "codemirror_mode": {
    "name": "ipython",
    "version": 3
   },
   "file_extension": ".py",
   "mimetype": "text/x-python",
   "name": "python",
   "nbconvert_exporter": "python",
   "pygments_lexer": "ipython3",
   "version": "3.9.16"
  },
  "nbproject": {
   "id": "HUKnO6FeUZ2K",
   "parent": null,
   "pypackage": null,
   "time_init": "2023-07-11T09:17:02.302481+00:00",
   "user_handle": "sunnyosun",
   "user_id": "kmvZDIX9",
   "user_name": "Sunny Sun",
   "version": "0"
  }
 },
 "nbformat": 4,
 "nbformat_minor": 2
}
