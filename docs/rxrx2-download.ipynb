{
 "cells": [
  {
   "cell_type": "markdown",
   "metadata": {},
   "source": [
    "# Register RxRx2 metadata and embedding files"
   ]
  },
  {
   "cell_type": "markdown",
   "metadata": {},
   "source": [
    "This notebook downloads metadata and embedding files of [RxRx2](https://www.rxrx.ai/rxrx2)."
   ]
  },
  {
   "cell_type": "code",
   "execution_count": null,
   "metadata": {},
   "outputs": [],
   "source": [
    "!lamin load sunnyosun/rxrx1_2"
   ]
  },
  {
   "cell_type": "code",
   "execution_count": 1,
   "metadata": {},
   "outputs": [
    {
     "name": "stderr",
     "output_type": "stream",
     "text": [
      "2023-09-19 12:57:58,989:INFO - Found credentials in shared credentials file: ~/.aws/credentials\n"
     ]
    },
    {
     "name": "stdout",
     "output_type": "stream",
     "text": [
      "💡 loaded instance: sunnyosun/rxrx1-2 (lamindb 0.54.0)\n"
     ]
    }
   ],
   "source": [
    "import lamindb as ln\n",
    "\n",
    "ln.settings.verbosity = \"hint\""
   ]
  },
  {
   "cell_type": "code",
   "execution_count": 3,
   "metadata": {},
   "outputs": [
    {
     "name": "stdout",
     "output_type": "stream",
     "text": [
      "💡 notebook imports: lamindb==0.54.0\n",
      "❗ record with similar name exist! did you mean to load it?\n"
     ]
    },
    {
     "data": {
      "text/html": [
       "<div>\n",
       "<style scoped>\n",
       "    .dataframe tbody tr th:only-of-type {\n",
       "        vertical-align: middle;\n",
       "    }\n",
       "\n",
       "    .dataframe tbody tr th {\n",
       "        vertical-align: top;\n",
       "    }\n",
       "\n",
       "    .dataframe thead th {\n",
       "        text-align: right;\n",
       "    }\n",
       "</style>\n",
       "<table border=\"1\" class=\"dataframe\">\n",
       "  <thead>\n",
       "    <tr style=\"text-align: right;\">\n",
       "      <th></th>\n",
       "      <th>id</th>\n",
       "      <th>__ratio__</th>\n",
       "    </tr>\n",
       "    <tr>\n",
       "      <th>name</th>\n",
       "      <th></th>\n",
       "      <th></th>\n",
       "    </tr>\n",
       "  </thead>\n",
       "  <tbody>\n",
       "    <tr>\n",
       "      <th>Register RxRx1 metadata and embedding files</th>\n",
       "      <td>kq1P1Aho94siz8</td>\n",
       "      <td>97.674419</td>\n",
       "    </tr>\n",
       "  </tbody>\n",
       "</table>\n",
       "</div>"
      ],
      "text/plain": [
       "                                                         id  __ratio__\n",
       "name                                                                  \n",
       "Register RxRx1 metadata and embedding files  kq1P1Aho94siz8  97.674419"
      ]
     },
     "metadata": {},
     "output_type": "display_data"
    },
    {
     "name": "stdout",
     "output_type": "stream",
     "text": [
      "✅ saved: Transform(id='UQfcvbNwzobAz8', name='Register RxRx2 metadata and embedding files', short_name='rxrx2-download', version='0', type=notebook, updated_at=2023-09-19 10:58:12, created_by_id='kmvZDIX9')\n",
      "✅ saved: Run(id='i7jLL6JbSpPqqGFsm3dB', run_at=2023-09-19 10:58:12, transform_id='UQfcvbNwzobAz8', created_by_id='kmvZDIX9')\n"
     ]
    }
   ],
   "source": [
    "ln.track()"
   ]
  },
  {
   "cell_type": "markdown",
   "metadata": {},
   "source": [
    "## Register the metadata file\n",
    "\n",
    "The `metadata.csv` is downloaded from: https://www.rxrx.ai/rxrx2#Download:"
   ]
  },
  {
   "cell_type": "code",
   "execution_count": 4,
   "metadata": {},
   "outputs": [
    {
     "name": "stdout",
     "output_type": "stream",
     "text": [
      "💡 file in storage 's3://lamindata' with key 'rxrx2/metadata.csv'\n"
     ]
    }
   ],
   "source": [
    "meta_file = ln.File(\n",
    "    \"s3://lamindata/rxrx2/metadata.csv\",\n",
    "    description=(\n",
    "        \"A CSV containing the experiment design of RxRx2, e.g. what cell type and\"\n",
    "        \" treatment are in each well.\"\n",
    "    ),\n",
    ")"
   ]
  },
  {
   "cell_type": "code",
   "execution_count": 5,
   "metadata": {},
   "outputs": [],
   "source": [
    "meta_file.save()"
   ]
  },
  {
   "cell_type": "markdown",
   "metadata": {},
   "source": [
    "## Register the embedding file\n",
    "\n",
    "The `embeddings.csv` is downloaded from: https://www.rxrx.ai/rxrx2#Download:"
   ]
  },
  {
   "cell_type": "code",
   "execution_count": 6,
   "metadata": {},
   "outputs": [
    {
     "name": "stdout",
     "output_type": "stream",
     "text": [
      "💡 file in storage 's3://lamindata' with key 'rxrx2/embeddings.csv'\n"
     ]
    }
   ],
   "source": [
    "embedding_file = ln.File(\n",
    "    \"s3://lamindata/rxrx2/embeddings.csv\",\n",
    "    description=(\n",
    "        \"A large CSV file containing all of the deep learning embeddings for each\"\n",
    "        \" image of RxRx2.\"\n",
    "    ),\n",
    ")"
   ]
  },
  {
   "cell_type": "code",
   "execution_count": 7,
   "metadata": {},
   "outputs": [],
   "source": [
    "embedding_file.save()"
   ]
  }
 ],
 "metadata": {
  "kernelspec": {
   "display_name": "py39",
   "language": "python",
   "name": "python3"
  },
  "language_info": {
   "codemirror_mode": {
    "name": "ipython",
    "version": 3
   },
   "file_extension": ".py",
   "mimetype": "text/x-python",
   "name": "python",
   "nbconvert_exporter": "python",
   "pygments_lexer": "ipython3",
   "version": "3.9.16"
  },
  "nbproject": {
   "id": "UQfcvbNwzobA",
   "parent": null,
   "pypackage": null,
   "time_init": "2023-09-19T10:58:10.004569+00:00",
   "user_handle": null,
   "user_id": null,
   "user_name": null,
   "version": "0"
  },
  "orig_nbformat": 4
 },
 "nbformat": 4,
 "nbformat_minor": 2
}
