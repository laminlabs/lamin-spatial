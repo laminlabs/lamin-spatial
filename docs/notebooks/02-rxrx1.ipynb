{
  "cells": [
    {
      "cell_type": "markdown",
      "id": "164627ff",
      "metadata": {},
      "source": [
        "[![](https://img.shields.io/badge/Source%20on%20GitHub-orange)](https://github.com/laminlabs/rxrx-lamin/blob/main/docs/notebooks/02-rxrx1.ipynb)\n",
        "[![lamindata](https://img.shields.io/badge/Source%20%26%20report%20on%20LaminHub-mediumseagreen)](https://lamin.ai/laminlabs/rxrx/record/core/Transform?uid=Zo0qJt4IQPsbxM)"
      ]
    },
    {
      "attachments": {},
      "cell_type": "markdown",
      "id": "82251552-5981-44f1-a7fd-944c59a845de",
      "metadata": {},
      "source": [
        "# Register the RxRx1 dataset"
      ]
    },
    {
      "cell_type": "code",
      "execution_count": 1,
      "id": "0c3efb87",
      "metadata": {},
      "outputs": [
        {
          "name": "stdout",
          "output_type": "stream",
          "text": [
            "💡 loading db URL from local cache\n",
            "💡 loaded instance: laminlabs/rxrx\n",
            "\u001b[0m"
          ]
        }
      ],
      "source": [
        "!lamin load laminlabs/rxrx"
      ]
    },
    {
      "cell_type": "code",
      "execution_count": 2,
      "id": "d4c819f7",
      "metadata": {},
      "outputs": [
        {
          "name": "stdout",
          "output_type": "stream",
          "text": [
            "💡 lamindb instance: laminlabs/rxrx\n"
          ]
        }
      ],
      "source": [
        "import lamindb as ln\n",
        "import lnschema_bionty as lb\n",
        "import lnschema_lamin1 as ln1"
      ]
    },
    {
      "cell_type": "code",
      "execution_count": 3,
      "id": "ae5f5e0a",
      "metadata": {},
      "outputs": [
        {
          "name": "stdout",
          "output_type": "stream",
          "text": [
            "💡 notebook imports: lamindb==0.59.0 lnschema_bionty==0.31.2 lnschema_lamin1==0.23.2\n",
            "💡 loaded: Transform(uid='Zo0qJt4IQPsbxM', name='Register the RxRx1 dataset', short_name='02-rxrx1', version='1', type='notebook', updated_at=2023-11-15 05:40:06 UTC, initial_version_id=3, created_by_id=1)\n",
            "💡 loaded: Run(uid='1wQSEWx8oK23GxLlAIHj', run_at=2023-11-15 05:48:27 UTC, transform_id=4, created_by_id=1)\n"
          ]
        }
      ],
      "source": [
        "ln.track()"
      ]
    },
    {
      "cell_type": "markdown",
      "id": "cfcd84c1",
      "metadata": {},
      "source": [
        "## Load metadata"
      ]
    },
    {
      "cell_type": "markdown",
      "id": "51083bac",
      "metadata": {},
      "source": [
        "Read in the raw metadata of the wells:"
      ]
    },
    {
      "cell_type": "code",
      "execution_count": 4,
      "id": "a20be6b6",
      "metadata": {},
      "outputs": [
        {
          "data": {
            "text/plain": [
              "(125510, 11)"
            ]
          },
          "execution_count": 4,
          "metadata": {},
          "output_type": "execute_result"
        }
      ],
      "source": [
        "meta = ln.File.filter(key=\"rxrx1/metadata.csv\").one().load()\n",
        "meta.shape"
      ]
    },
    {
      "cell_type": "code",
      "execution_count": 5,
      "id": "573d7ff5",
      "metadata": {},
      "outputs": [
        {
          "data": {
            "text/html": [
              "<div>\n",
              "<style scoped>\n",
              "    .dataframe tbody tr th:only-of-type {\n",
              "        vertical-align: middle;\n",
              "    }\n",
              "\n",
              "    .dataframe tbody tr th {\n",
              "        vertical-align: top;\n",
              "    }\n",
              "\n",
              "    .dataframe thead th {\n",
              "        text-align: right;\n",
              "    }\n",
              "</style>\n",
              "<table border=\"1\" class=\"dataframe\">\n",
              "  <thead>\n",
              "    <tr style=\"text-align: right;\">\n",
              "      <th></th>\n",
              "      <th>site_id</th>\n",
              "      <th>well_id</th>\n",
              "      <th>cell_type</th>\n",
              "      <th>dataset</th>\n",
              "      <th>experiment</th>\n",
              "      <th>plate</th>\n",
              "      <th>well</th>\n",
              "      <th>site</th>\n",
              "      <th>well_type</th>\n",
              "      <th>sirna</th>\n",
              "      <th>sirna_id</th>\n",
              "    </tr>\n",
              "  </thead>\n",
              "  <tbody>\n",
              "    <tr>\n",
              "      <th>0</th>\n",
              "      <td>HEPG2-08_1_B02_1</td>\n",
              "      <td>HEPG2-08_1_B02</td>\n",
              "      <td>HEPG2</td>\n",
              "      <td>test</td>\n",
              "      <td>HEPG2-08</td>\n",
              "      <td>1</td>\n",
              "      <td>B02</td>\n",
              "      <td>1</td>\n",
              "      <td>negative_control</td>\n",
              "      <td>EMPTY</td>\n",
              "      <td>1138</td>\n",
              "    </tr>\n",
              "    <tr>\n",
              "      <th>1</th>\n",
              "      <td>HEPG2-08_1_B02_2</td>\n",
              "      <td>HEPG2-08_1_B02</td>\n",
              "      <td>HEPG2</td>\n",
              "      <td>test</td>\n",
              "      <td>HEPG2-08</td>\n",
              "      <td>1</td>\n",
              "      <td>B02</td>\n",
              "      <td>2</td>\n",
              "      <td>negative_control</td>\n",
              "      <td>EMPTY</td>\n",
              "      <td>1138</td>\n",
              "    </tr>\n",
              "    <tr>\n",
              "      <th>2</th>\n",
              "      <td>HEPG2-08_1_B03_1</td>\n",
              "      <td>HEPG2-08_1_B03</td>\n",
              "      <td>HEPG2</td>\n",
              "      <td>test</td>\n",
              "      <td>HEPG2-08</td>\n",
              "      <td>1</td>\n",
              "      <td>B03</td>\n",
              "      <td>1</td>\n",
              "      <td>treatment</td>\n",
              "      <td>s21721</td>\n",
              "      <td>855</td>\n",
              "    </tr>\n",
              "    <tr>\n",
              "      <th>3</th>\n",
              "      <td>HEPG2-08_1_B03_2</td>\n",
              "      <td>HEPG2-08_1_B03</td>\n",
              "      <td>HEPG2</td>\n",
              "      <td>test</td>\n",
              "      <td>HEPG2-08</td>\n",
              "      <td>1</td>\n",
              "      <td>B03</td>\n",
              "      <td>2</td>\n",
              "      <td>treatment</td>\n",
              "      <td>s21721</td>\n",
              "      <td>855</td>\n",
              "    </tr>\n",
              "    <tr>\n",
              "      <th>4</th>\n",
              "      <td>HEPG2-08_1_B04_1</td>\n",
              "      <td>HEPG2-08_1_B04</td>\n",
              "      <td>HEPG2</td>\n",
              "      <td>test</td>\n",
              "      <td>HEPG2-08</td>\n",
              "      <td>1</td>\n",
              "      <td>B04</td>\n",
              "      <td>1</td>\n",
              "      <td>treatment</td>\n",
              "      <td>s20894</td>\n",
              "      <td>710</td>\n",
              "    </tr>\n",
              "  </tbody>\n",
              "</table>\n",
              "</div>"
            ],
            "text/plain": [
              "            site_id         well_id cell_type dataset experiment  plate well  \\\n",
              "0  HEPG2-08_1_B02_1  HEPG2-08_1_B02     HEPG2    test   HEPG2-08      1  B02   \n",
              "1  HEPG2-08_1_B02_2  HEPG2-08_1_B02     HEPG2    test   HEPG2-08      1  B02   \n",
              "2  HEPG2-08_1_B03_1  HEPG2-08_1_B03     HEPG2    test   HEPG2-08      1  B03   \n",
              "3  HEPG2-08_1_B03_2  HEPG2-08_1_B03     HEPG2    test   HEPG2-08      1  B03   \n",
              "4  HEPG2-08_1_B04_1  HEPG2-08_1_B04     HEPG2    test   HEPG2-08      1  B04   \n",
              "\n",
              "   site         well_type   sirna  sirna_id  \n",
              "0     1  negative_control   EMPTY      1138  \n",
              "1     2  negative_control   EMPTY      1138  \n",
              "2     1         treatment  s21721       855  \n",
              "3     2         treatment  s21721       855  \n",
              "4     1         treatment  s20894       710  "
            ]
          },
          "execution_count": 5,
          "metadata": {},
          "output_type": "execute_result"
        }
      ],
      "source": [
        "meta.head(5)"
      ]
    },
    {
      "cell_type": "markdown",
      "id": "25153ef1",
      "metadata": {},
      "source": [
        "It seems that the column storing cell lines is erroneously called `cell_type`. \n",
        "\n",
        "Also `dataset` refers to something that's more often called `split`.\n",
        "\n",
        "Let us rename it: "
      ]
    },
    {
      "cell_type": "code",
      "execution_count": 6,
      "id": "71c19013",
      "metadata": {},
      "outputs": [],
      "source": [
        "meta.rename({\"cell_type\": \"cell_line\", \"dataset\": \"split\"}, axis=1, inplace=True)"
      ]
    },
    {
      "cell_type": "markdown",
      "id": "fae250f7",
      "metadata": {},
      "source": [
        "Now this is fixed:"
      ]
    },
    {
      "cell_type": "code",
      "execution_count": 7,
      "id": "0eb01709",
      "metadata": {},
      "outputs": [
        {
          "data": {
            "text/html": [
              "<div>\n",
              "<style scoped>\n",
              "    .dataframe tbody tr th:only-of-type {\n",
              "        vertical-align: middle;\n",
              "    }\n",
              "\n",
              "    .dataframe tbody tr th {\n",
              "        vertical-align: top;\n",
              "    }\n",
              "\n",
              "    .dataframe thead th {\n",
              "        text-align: right;\n",
              "    }\n",
              "</style>\n",
              "<table border=\"1\" class=\"dataframe\">\n",
              "  <thead>\n",
              "    <tr style=\"text-align: right;\">\n",
              "      <th></th>\n",
              "      <th>site_id</th>\n",
              "      <th>well_id</th>\n",
              "      <th>cell_line</th>\n",
              "      <th>split</th>\n",
              "      <th>experiment</th>\n",
              "      <th>plate</th>\n",
              "      <th>well</th>\n",
              "      <th>site</th>\n",
              "      <th>well_type</th>\n",
              "      <th>sirna</th>\n",
              "      <th>sirna_id</th>\n",
              "    </tr>\n",
              "  </thead>\n",
              "  <tbody>\n",
              "    <tr>\n",
              "      <th>0</th>\n",
              "      <td>HEPG2-08_1_B02_1</td>\n",
              "      <td>HEPG2-08_1_B02</td>\n",
              "      <td>HEPG2</td>\n",
              "      <td>test</td>\n",
              "      <td>HEPG2-08</td>\n",
              "      <td>1</td>\n",
              "      <td>B02</td>\n",
              "      <td>1</td>\n",
              "      <td>negative_control</td>\n",
              "      <td>EMPTY</td>\n",
              "      <td>1138</td>\n",
              "    </tr>\n",
              "    <tr>\n",
              "      <th>1</th>\n",
              "      <td>HEPG2-08_1_B02_2</td>\n",
              "      <td>HEPG2-08_1_B02</td>\n",
              "      <td>HEPG2</td>\n",
              "      <td>test</td>\n",
              "      <td>HEPG2-08</td>\n",
              "      <td>1</td>\n",
              "      <td>B02</td>\n",
              "      <td>2</td>\n",
              "      <td>negative_control</td>\n",
              "      <td>EMPTY</td>\n",
              "      <td>1138</td>\n",
              "    </tr>\n",
              "    <tr>\n",
              "      <th>2</th>\n",
              "      <td>HEPG2-08_1_B03_1</td>\n",
              "      <td>HEPG2-08_1_B03</td>\n",
              "      <td>HEPG2</td>\n",
              "      <td>test</td>\n",
              "      <td>HEPG2-08</td>\n",
              "      <td>1</td>\n",
              "      <td>B03</td>\n",
              "      <td>1</td>\n",
              "      <td>treatment</td>\n",
              "      <td>s21721</td>\n",
              "      <td>855</td>\n",
              "    </tr>\n",
              "    <tr>\n",
              "      <th>3</th>\n",
              "      <td>HEPG2-08_1_B03_2</td>\n",
              "      <td>HEPG2-08_1_B03</td>\n",
              "      <td>HEPG2</td>\n",
              "      <td>test</td>\n",
              "      <td>HEPG2-08</td>\n",
              "      <td>1</td>\n",
              "      <td>B03</td>\n",
              "      <td>2</td>\n",
              "      <td>treatment</td>\n",
              "      <td>s21721</td>\n",
              "      <td>855</td>\n",
              "    </tr>\n",
              "    <tr>\n",
              "      <th>4</th>\n",
              "      <td>HEPG2-08_1_B04_1</td>\n",
              "      <td>HEPG2-08_1_B04</td>\n",
              "      <td>HEPG2</td>\n",
              "      <td>test</td>\n",
              "      <td>HEPG2-08</td>\n",
              "      <td>1</td>\n",
              "      <td>B04</td>\n",
              "      <td>1</td>\n",
              "      <td>treatment</td>\n",
              "      <td>s20894</td>\n",
              "      <td>710</td>\n",
              "    </tr>\n",
              "  </tbody>\n",
              "</table>\n",
              "</div>"
            ],
            "text/plain": [
              "            site_id         well_id cell_line split experiment  plate well  \\\n",
              "0  HEPG2-08_1_B02_1  HEPG2-08_1_B02     HEPG2  test   HEPG2-08      1  B02   \n",
              "1  HEPG2-08_1_B02_2  HEPG2-08_1_B02     HEPG2  test   HEPG2-08      1  B02   \n",
              "2  HEPG2-08_1_B03_1  HEPG2-08_1_B03     HEPG2  test   HEPG2-08      1  B03   \n",
              "3  HEPG2-08_1_B03_2  HEPG2-08_1_B03     HEPG2  test   HEPG2-08      1  B03   \n",
              "4  HEPG2-08_1_B04_1  HEPG2-08_1_B04     HEPG2  test   HEPG2-08      1  B04   \n",
              "\n",
              "   site         well_type   sirna  sirna_id  \n",
              "0     1  negative_control   EMPTY      1138  \n",
              "1     2  negative_control   EMPTY      1138  \n",
              "2     1         treatment  s21721       855  \n",
              "3     2         treatment  s21721       855  \n",
              "4     1         treatment  s20894       710  "
            ]
          },
          "execution_count": 7,
          "metadata": {},
          "output_type": "execute_result"
        }
      ],
      "source": [
        "meta.head(5)"
      ]
    },
    {
      "cell_type": "markdown",
      "id": "d3544249",
      "metadata": {},
      "source": [
        "Add a `paths` column - this is an aggregate over 6 paths for 6 channels. We'll deconvolute further down:"
      ]
    },
    {
      "cell_type": "code",
      "execution_count": 8,
      "id": "440f91c0",
      "metadata": {},
      "outputs": [],
      "source": [
        "paths = []\n",
        "for _, row in meta.iterrows():\n",
        "    well = row.well\n",
        "    site = row.site\n",
        "    paths.append(\n",
        "        f\"images/{row.split}/{row.experiment}/Plate{row.plate}/{well}_s{site}_w1-w6.png\"\n",
        "    )\n",
        "meta[\"paths\"] = paths"
      ]
    },
    {
      "cell_type": "code",
      "execution_count": 9,
      "id": "d6375cb5",
      "metadata": {},
      "outputs": [
        {
          "data": {
            "text/html": [
              "<div>\n",
              "<style scoped>\n",
              "    .dataframe tbody tr th:only-of-type {\n",
              "        vertical-align: middle;\n",
              "    }\n",
              "\n",
              "    .dataframe tbody tr th {\n",
              "        vertical-align: top;\n",
              "    }\n",
              "\n",
              "    .dataframe thead th {\n",
              "        text-align: right;\n",
              "    }\n",
              "</style>\n",
              "<table border=\"1\" class=\"dataframe\">\n",
              "  <thead>\n",
              "    <tr style=\"text-align: right;\">\n",
              "      <th></th>\n",
              "      <th>site_id</th>\n",
              "      <th>well_id</th>\n",
              "      <th>cell_line</th>\n",
              "      <th>split</th>\n",
              "      <th>experiment</th>\n",
              "      <th>plate</th>\n",
              "      <th>well</th>\n",
              "      <th>site</th>\n",
              "      <th>well_type</th>\n",
              "      <th>sirna</th>\n",
              "      <th>sirna_id</th>\n",
              "      <th>paths</th>\n",
              "    </tr>\n",
              "  </thead>\n",
              "  <tbody>\n",
              "    <tr>\n",
              "      <th>0</th>\n",
              "      <td>HEPG2-08_1_B02_1</td>\n",
              "      <td>HEPG2-08_1_B02</td>\n",
              "      <td>HEPG2</td>\n",
              "      <td>test</td>\n",
              "      <td>HEPG2-08</td>\n",
              "      <td>1</td>\n",
              "      <td>B02</td>\n",
              "      <td>1</td>\n",
              "      <td>negative_control</td>\n",
              "      <td>EMPTY</td>\n",
              "      <td>1138</td>\n",
              "      <td>images/test/HEPG2-08/Plate1/B02_s1_w1-w6.png</td>\n",
              "    </tr>\n",
              "    <tr>\n",
              "      <th>1</th>\n",
              "      <td>HEPG2-08_1_B02_2</td>\n",
              "      <td>HEPG2-08_1_B02</td>\n",
              "      <td>HEPG2</td>\n",
              "      <td>test</td>\n",
              "      <td>HEPG2-08</td>\n",
              "      <td>1</td>\n",
              "      <td>B02</td>\n",
              "      <td>2</td>\n",
              "      <td>negative_control</td>\n",
              "      <td>EMPTY</td>\n",
              "      <td>1138</td>\n",
              "      <td>images/test/HEPG2-08/Plate1/B02_s2_w1-w6.png</td>\n",
              "    </tr>\n",
              "  </tbody>\n",
              "</table>\n",
              "</div>"
            ],
            "text/plain": [
              "            site_id         well_id cell_line split experiment  plate well  \\\n",
              "0  HEPG2-08_1_B02_1  HEPG2-08_1_B02     HEPG2  test   HEPG2-08      1  B02   \n",
              "1  HEPG2-08_1_B02_2  HEPG2-08_1_B02     HEPG2  test   HEPG2-08      1  B02   \n",
              "\n",
              "   site         well_type  sirna  sirna_id  \\\n",
              "0     1  negative_control  EMPTY      1138   \n",
              "1     2  negative_control  EMPTY      1138   \n",
              "\n",
              "                                          paths  \n",
              "0  images/test/HEPG2-08/Plate1/B02_s1_w1-w6.png  \n",
              "1  images/test/HEPG2-08/Plate1/B02_s2_w1-w6.png  "
            ]
          },
          "execution_count": 9,
          "metadata": {},
          "output_type": "execute_result"
        }
      ],
      "source": [
        "meta.head(2)"
      ]
    },
    {
      "attachments": {},
      "cell_type": "markdown",
      "id": "efca351e-a3ef-4550-8c59-a3dc0141dd88",
      "metadata": {},
      "source": [
        "## Validate and register metadata"
      ]
    },
    {
      "cell_type": "markdown",
      "id": "d0a2f4a2",
      "metadata": {},
      "source": [
        "### `cell_line`"
      ]
    },
    {
      "attachments": {},
      "cell_type": "markdown",
      "id": "d255e3b6-dfbd-4319-bebe-6dc1baf11215",
      "metadata": {},
      "source": [
        "We can start with curating the metadata table based on the ontologies from bionty. For example, let's start with the `cell_line` metadata.\n",
        "In this table, they are called \"cell_type\" but they are in fact the cell line for the experiments"
      ]
    },
    {
      "cell_type": "code",
      "execution_count": 10,
      "id": "37d9bb21-b6b9-4915-8b68-365f11fde979",
      "metadata": {
        "tags": []
      },
      "outputs": [
        {
          "data": {
            "text/plain": [
              "array(['HEPG2', 'HUVEC', 'RPE', 'U2OS'], dtype=object)"
            ]
          },
          "execution_count": 10,
          "metadata": {},
          "output_type": "execute_result"
        }
      ],
      "source": [
        "meta[\"cell_line\"].unique()"
      ]
    },
    {
      "cell_type": "code",
      "execution_count": 11,
      "id": "030e7b02",
      "metadata": {},
      "outputs": [],
      "source": [
        "cell_lines = lb.CellLine.from_values(meta[\"cell_line\"])"
      ]
    },
    {
      "cell_type": "code",
      "execution_count": 12,
      "id": "ef0f3709",
      "metadata": {
        "tags": [
          "hide-output"
        ]
      },
      "outputs": [],
      "source": [
        "ln.save(cell_lines)"
      ]
    },
    {
      "cell_type": "markdown",
      "id": "470dc1e5",
      "metadata": {},
      "source": [
        "Define abbreviation:"
      ]
    },
    {
      "cell_type": "code",
      "execution_count": 13,
      "id": "90f3fb40",
      "metadata": {
        "tags": [
          "hide-output"
        ]
      },
      "outputs": [
        {
          "data": {
            "text/html": [
              "<div>\n",
              "<style scoped>\n",
              "    .dataframe tbody tr th:only-of-type {\n",
              "        vertical-align: middle;\n",
              "    }\n",
              "\n",
              "    .dataframe tbody tr th {\n",
              "        vertical-align: top;\n",
              "    }\n",
              "\n",
              "    .dataframe thead th {\n",
              "        text-align: right;\n",
              "    }\n",
              "</style>\n",
              "<table border=\"1\" class=\"dataframe\">\n",
              "  <thead>\n",
              "    <tr style=\"text-align: right;\">\n",
              "      <th></th>\n",
              "      <th>uid</th>\n",
              "      <th>name</th>\n",
              "      <th>ontology_id</th>\n",
              "      <th>abbr</th>\n",
              "      <th>synonyms</th>\n",
              "      <th>description</th>\n",
              "      <th>bionty_source_id</th>\n",
              "      <th>updated_at</th>\n",
              "      <th>created_by_id</th>\n",
              "    </tr>\n",
              "    <tr>\n",
              "      <th>id</th>\n",
              "      <th></th>\n",
              "      <th></th>\n",
              "      <th></th>\n",
              "      <th></th>\n",
              "      <th></th>\n",
              "      <th></th>\n",
              "      <th></th>\n",
              "      <th></th>\n",
              "      <th></th>\n",
              "    </tr>\n",
              "  </thead>\n",
              "  <tbody>\n",
              "    <tr>\n",
              "      <th>5</th>\n",
              "      <td>br5GPP6q</td>\n",
              "      <td>immortal human liver-derived cell line cell</td>\n",
              "      <td>CLO:0000565</td>\n",
              "      <td>None</td>\n",
              "      <td>None</td>\n",
              "      <td>An immortal liver-derived cell line cell that ...</td>\n",
              "      <td>20</td>\n",
              "      <td>2023-11-05 16:48:53.001607+00:00</td>\n",
              "      <td>1</td>\n",
              "    </tr>\n",
              "    <tr>\n",
              "      <th>6</th>\n",
              "      <td>XPqCzHAi</td>\n",
              "      <td>immortal liver-derived cell line cell</td>\n",
              "      <td>CLO:0000235</td>\n",
              "      <td>None</td>\n",
              "      <td>None</td>\n",
              "      <td>An immortal cell line cell that derives from l...</td>\n",
              "      <td>20</td>\n",
              "      <td>2023-11-05 16:48:55.038999+00:00</td>\n",
              "      <td>1</td>\n",
              "    </tr>\n",
              "    <tr>\n",
              "      <th>7</th>\n",
              "      <td>0mXEmtun</td>\n",
              "      <td>immortal cell line cell</td>\n",
              "      <td>CLO:0000019</td>\n",
              "      <td>None</td>\n",
              "      <td>continuous cell line cell|permanent cell line ...</td>\n",
              "      <td>A cell line cell that is expected to be capabl...</td>\n",
              "      <td>20</td>\n",
              "      <td>2023-11-05 16:48:57.216582+00:00</td>\n",
              "      <td>1</td>\n",
              "    </tr>\n",
              "    <tr>\n",
              "      <th>8</th>\n",
              "      <td>iaqgKEYY</td>\n",
              "      <td>cell line cell</td>\n",
              "      <td>CLO:0000001</td>\n",
              "      <td>None</td>\n",
              "      <td>None</td>\n",
              "      <td>A cultured cell that is part of a cell line - ...</td>\n",
              "      <td>20</td>\n",
              "      <td>2023-11-05 16:48:59.238837+00:00</td>\n",
              "      <td>1</td>\n",
              "    </tr>\n",
              "    <tr>\n",
              "      <th>9</th>\n",
              "      <td>CkFSX9KW</td>\n",
              "      <td>immortal human vasculature-derived endothelial...</td>\n",
              "      <td>CLO:0037232</td>\n",
              "      <td>None</td>\n",
              "      <td>None</td>\n",
              "      <td>An immortal vasculature-derived cell line cell...</td>\n",
              "      <td>20</td>\n",
              "      <td>2023-11-05 16:49:03.211122+00:00</td>\n",
              "      <td>1</td>\n",
              "    </tr>\n",
              "    <tr>\n",
              "      <th>10</th>\n",
              "      <td>QrS3iIgW</td>\n",
              "      <td>immortal vasculature-derived cell line cell</td>\n",
              "      <td>CLO:0000208</td>\n",
              "      <td>None</td>\n",
              "      <td>None</td>\n",
              "      <td>An immortal cell line cell that derives from v...</td>\n",
              "      <td>20</td>\n",
              "      <td>2023-11-05 16:49:05.336438+00:00</td>\n",
              "      <td>1</td>\n",
              "    </tr>\n",
              "    <tr>\n",
              "      <th>11</th>\n",
              "      <td>DuJQ6bfB</td>\n",
              "      <td>immortal human vasculature-derived cell line cell</td>\n",
              "      <td>CLO:0000853</td>\n",
              "      <td>None</td>\n",
              "      <td>None</td>\n",
              "      <td>An immortal vasculature-derived cell line cell...</td>\n",
              "      <td>20</td>\n",
              "      <td>2023-11-05 16:49:05.336458+00:00</td>\n",
              "      <td>1</td>\n",
              "    </tr>\n",
              "    <tr>\n",
              "      <th>12</th>\n",
              "      <td>TN6tllJM</td>\n",
              "      <td>immortal human eye-derived cell line cell</td>\n",
              "      <td>CLO:0000876</td>\n",
              "      <td>None</td>\n",
              "      <td>None</td>\n",
              "      <td>An immortal eye-derived cell line cell that de...</td>\n",
              "      <td>20</td>\n",
              "      <td>2023-11-05 16:49:09.871894+00:00</td>\n",
              "      <td>1</td>\n",
              "    </tr>\n",
              "    <tr>\n",
              "      <th>13</th>\n",
              "      <td>myWpIoSa</td>\n",
              "      <td>immortal eye-derived cell line cell</td>\n",
              "      <td>CLO:0000271</td>\n",
              "      <td>None</td>\n",
              "      <td>None</td>\n",
              "      <td>An immortal cell line cell that derives from eye.</td>\n",
              "      <td>20</td>\n",
              "      <td>2023-11-05 16:49:12.000742+00:00</td>\n",
              "      <td>1</td>\n",
              "    </tr>\n",
              "    <tr>\n",
              "      <th>14</th>\n",
              "      <td>wWJp03Cz</td>\n",
              "      <td>immortal human bone element-derived epithelial...</td>\n",
              "      <td>CLO:0037233</td>\n",
              "      <td>None</td>\n",
              "      <td>None</td>\n",
              "      <td>An immortal bone element-derived cell line cel...</td>\n",
              "      <td>20</td>\n",
              "      <td>2023-11-05 16:49:15.658662+00:00</td>\n",
              "      <td>1</td>\n",
              "    </tr>\n",
              "    <tr>\n",
              "      <th>15</th>\n",
              "      <td>dMdxE7yc</td>\n",
              "      <td>immortal human bone element-derived cell line ...</td>\n",
              "      <td>CLO:0000560</td>\n",
              "      <td>None</td>\n",
              "      <td>None</td>\n",
              "      <td>An immortal bone element-derived cell line cel...</td>\n",
              "      <td>20</td>\n",
              "      <td>2023-11-05 16:49:17.742018+00:00</td>\n",
              "      <td>1</td>\n",
              "    </tr>\n",
              "    <tr>\n",
              "      <th>16</th>\n",
              "      <td>IBOm04Tv</td>\n",
              "      <td>immortal bone element-derived cell line cell</td>\n",
              "      <td>CLO:0000253</td>\n",
              "      <td>None</td>\n",
              "      <td>None</td>\n",
              "      <td>An immortal cell line cell that derives from b...</td>\n",
              "      <td>20</td>\n",
              "      <td>2023-11-05 16:49:17.742032+00:00</td>\n",
              "      <td>1</td>\n",
              "    </tr>\n",
              "    <tr>\n",
              "      <th>2</th>\n",
              "      <td>a3uzySL7</td>\n",
              "      <td>HUV-EC-C cell</td>\n",
              "      <td>CLO:0004307</td>\n",
              "      <td>HUVEC</td>\n",
              "      <td>HUVEC|HUV-EC-C</td>\n",
              "      <td>None</td>\n",
              "      <td>20</td>\n",
              "      <td>2023-11-15 05:48:34.108567+00:00</td>\n",
              "      <td>1</td>\n",
              "    </tr>\n",
              "    <tr>\n",
              "      <th>4</th>\n",
              "      <td>9dcEG64P</td>\n",
              "      <td>U-2 OS cell</td>\n",
              "      <td>CLO:0009454</td>\n",
              "      <td>U2OS</td>\n",
              "      <td>U2OS|U-2 OS</td>\n",
              "      <td>None</td>\n",
              "      <td>20</td>\n",
              "      <td>2023-11-15 05:48:34.556763+00:00</td>\n",
              "      <td>1</td>\n",
              "    </tr>\n",
              "    <tr>\n",
              "      <th>3</th>\n",
              "      <td>KQYkiVUX</td>\n",
              "      <td>hTERT RPE-1 cell</td>\n",
              "      <td>CLO:0004290</td>\n",
              "      <td>RPE</td>\n",
              "      <td>hTERT RPE-1|RPE1|RPE|RPE-1</td>\n",
              "      <td>disease: pigmented epithelium; immortalized   ...</td>\n",
              "      <td>20</td>\n",
              "      <td>2023-11-15 05:48:35.005937+00:00</td>\n",
              "      <td>1</td>\n",
              "    </tr>\n",
              "    <tr>\n",
              "      <th>1</th>\n",
              "      <td>AkJL1qhy</td>\n",
              "      <td>Hep G2 cell</td>\n",
              "      <td>CLO:0003704</td>\n",
              "      <td>HEPG2</td>\n",
              "      <td>HEPG2|HEP-G2|Hep G2|HEP G2|HepG2</td>\n",
              "      <td>None</td>\n",
              "      <td>20</td>\n",
              "      <td>2023-11-15 05:48:35.455367+00:00</td>\n",
              "      <td>1</td>\n",
              "    </tr>\n",
              "  </tbody>\n",
              "</table>\n",
              "</div>"
            ],
            "text/plain": [
              "         uid                                               name  ontology_id  \\\n",
              "id                                                                             \n",
              "5   br5GPP6q        immortal human liver-derived cell line cell  CLO:0000565   \n",
              "6   XPqCzHAi              immortal liver-derived cell line cell  CLO:0000235   \n",
              "7   0mXEmtun                            immortal cell line cell  CLO:0000019   \n",
              "8   iaqgKEYY                                     cell line cell  CLO:0000001   \n",
              "9   CkFSX9KW  immortal human vasculature-derived endothelial...  CLO:0037232   \n",
              "10  QrS3iIgW        immortal vasculature-derived cell line cell  CLO:0000208   \n",
              "11  DuJQ6bfB  immortal human vasculature-derived cell line cell  CLO:0000853   \n",
              "12  TN6tllJM          immortal human eye-derived cell line cell  CLO:0000876   \n",
              "13  myWpIoSa                immortal eye-derived cell line cell  CLO:0000271   \n",
              "14  wWJp03Cz  immortal human bone element-derived epithelial...  CLO:0037233   \n",
              "15  dMdxE7yc  immortal human bone element-derived cell line ...  CLO:0000560   \n",
              "16  IBOm04Tv       immortal bone element-derived cell line cell  CLO:0000253   \n",
              "2   a3uzySL7                                      HUV-EC-C cell  CLO:0004307   \n",
              "4   9dcEG64P                                        U-2 OS cell  CLO:0009454   \n",
              "3   KQYkiVUX                                   hTERT RPE-1 cell  CLO:0004290   \n",
              "1   AkJL1qhy                                        Hep G2 cell  CLO:0003704   \n",
              "\n",
              "     abbr                                           synonyms  \\\n",
              "id                                                             \n",
              "5    None                                               None   \n",
              "6    None                                               None   \n",
              "7    None  continuous cell line cell|permanent cell line ...   \n",
              "8    None                                               None   \n",
              "9    None                                               None   \n",
              "10   None                                               None   \n",
              "11   None                                               None   \n",
              "12   None                                               None   \n",
              "13   None                                               None   \n",
              "14   None                                               None   \n",
              "15   None                                               None   \n",
              "16   None                                               None   \n",
              "2   HUVEC                                     HUVEC|HUV-EC-C   \n",
              "4    U2OS                                        U2OS|U-2 OS   \n",
              "3     RPE                         hTERT RPE-1|RPE1|RPE|RPE-1   \n",
              "1   HEPG2                   HEPG2|HEP-G2|Hep G2|HEP G2|HepG2   \n",
              "\n",
              "                                          description  bionty_source_id  \\\n",
              "id                                                                        \n",
              "5   An immortal liver-derived cell line cell that ...                20   \n",
              "6   An immortal cell line cell that derives from l...                20   \n",
              "7   A cell line cell that is expected to be capabl...                20   \n",
              "8   A cultured cell that is part of a cell line - ...                20   \n",
              "9   An immortal vasculature-derived cell line cell...                20   \n",
              "10  An immortal cell line cell that derives from v...                20   \n",
              "11  An immortal vasculature-derived cell line cell...                20   \n",
              "12  An immortal eye-derived cell line cell that de...                20   \n",
              "13  An immortal cell line cell that derives from eye.                20   \n",
              "14  An immortal bone element-derived cell line cel...                20   \n",
              "15  An immortal bone element-derived cell line cel...                20   \n",
              "16  An immortal cell line cell that derives from b...                20   \n",
              "2                                                None                20   \n",
              "4                                                None                20   \n",
              "3   disease: pigmented epithelium; immortalized   ...                20   \n",
              "1                                                None                20   \n",
              "\n",
              "                         updated_at  created_by_id  \n",
              "id                                                  \n",
              "5  2023-11-05 16:48:53.001607+00:00              1  \n",
              "6  2023-11-05 16:48:55.038999+00:00              1  \n",
              "7  2023-11-05 16:48:57.216582+00:00              1  \n",
              "8  2023-11-05 16:48:59.238837+00:00              1  \n",
              "9  2023-11-05 16:49:03.211122+00:00              1  \n",
              "10 2023-11-05 16:49:05.336438+00:00              1  \n",
              "11 2023-11-05 16:49:05.336458+00:00              1  \n",
              "12 2023-11-05 16:49:09.871894+00:00              1  \n",
              "13 2023-11-05 16:49:12.000742+00:00              1  \n",
              "14 2023-11-05 16:49:15.658662+00:00              1  \n",
              "15 2023-11-05 16:49:17.742018+00:00              1  \n",
              "16 2023-11-05 16:49:17.742032+00:00              1  \n",
              "2  2023-11-15 05:48:34.108567+00:00              1  \n",
              "4  2023-11-15 05:48:34.556763+00:00              1  \n",
              "3  2023-11-15 05:48:35.005937+00:00              1  \n",
              "1  2023-11-15 05:48:35.455367+00:00              1  "
            ]
          },
          "execution_count": 13,
          "metadata": {},
          "output_type": "execute_result"
        }
      ],
      "source": [
        "lb.CellLine.filter(uid=\"a3uzySL7\").one().set_abbr(\"HUVEC\")\n",
        "lb.CellLine.filter(uid=\"9dcEG64P\").one().set_abbr(\"U2OS\")\n",
        "lb.CellLine.filter(uid=\"KQYkiVUX\").one().set_abbr(\"RPE\")\n",
        "lb.CellLine.filter(uid=\"AkJL1qhy\").one().set_abbr(\"HEPG2\")\n",
        "lb.CellLine.filter().df()"
      ]
    },
    {
      "cell_type": "code",
      "execution_count": 14,
      "id": "553b9d56",
      "metadata": {
        "tags": [
          "hide-output"
        ]
      },
      "outputs": [
        {
          "data": {
            "image/svg+xml": [
              "<?xml version=\"1.0\" encoding=\"UTF-8\" standalone=\"no\"?>\n",
              "<!DOCTYPE svg PUBLIC \"-//W3C//DTD SVG 1.1//EN\"\n",
              " \"http://www.w3.org/Graphics/SVG/1.1/DTD/svg11.dtd\">\n",
              "<!-- Generated by graphviz version 9.0.0 (20230911.1827)\n",
              " -->\n",
              "<!-- Title: a3uzySL7 Pages: 1 -->\n",
              "<svg width=\"332pt\" height=\"404pt\"\n",
              " viewBox=\"0.00 0.00 332.38 404.00\" xmlns=\"http://www.w3.org/2000/svg\" xmlns:xlink=\"http://www.w3.org/1999/xlink\">\n",
              "<g id=\"graph0\" class=\"graph\" transform=\"scale(1 1) rotate(0) translate(4 400)\">\n",
              "<title>a3uzySL7</title>\n",
              "<polygon fill=\"white\" stroke=\"none\" points=\"-4,4 -4,-400 328.38,-400 328.38,4 -4,4\"/>\n",
              "<!-- a3uzySL7 -->\n",
              "<g id=\"node1\" class=\"node\">\n",
              "<title>a3uzySL7</title>\n",
              "<path fill=\"#10b981\" stroke=\"#065f46\" d=\"M171.62,-36C171.62,-36 107.62,-36 107.62,-36 101.62,-36 95.62,-30 95.62,-24 95.62,-24 95.62,-12 95.62,-12 95.62,-6 101.62,0 107.62,0 107.62,0 171.62,0 171.62,0 177.62,0 183.62,-6 183.62,-12 183.62,-12 183.62,-24 183.62,-24 183.62,-30 177.62,-36 171.62,-36\"/>\n",
              "<text text-anchor=\"start\" x=\"105.88\" y=\"-19.5\" font-family=\"Helvetica,sans-Serif\" font-size=\"10.00\">HUV&#45;EC&#45;C cell</text>\n",
              "<text text-anchor=\"start\" x=\"103.62\" y=\"-9.5\" font-family=\"Monospace\" font-size=\"10.00\" fill=\"GREY\">uid=a3uzySL7</text>\n",
              "</g>\n",
              "<!-- CkFSX9KW -->\n",
              "<g id=\"node2\" class=\"node\">\n",
              "<title>CkFSX9KW</title>\n",
              "<path fill=\"honeydew\" stroke=\"#065f46\" d=\"M267.25,-108C267.25,-108 12,-108 12,-108 6,-108 0,-102 0,-96 0,-96 0,-84 0,-84 0,-78 6,-72 12,-72 12,-72 267.25,-72 267.25,-72 273.25,-72 279.25,-78 279.25,-84 279.25,-84 279.25,-96 279.25,-96 279.25,-102 273.25,-108 267.25,-108\"/>\n",
              "<text text-anchor=\"start\" x=\"8\" y=\"-91.5\" font-family=\"Helvetica,sans-Serif\" font-size=\"10.00\">immortal human vasculature&#45;derived endothelial cell line cell&#39;</text>\n",
              "<text text-anchor=\"start\" x=\"103.62\" y=\"-81.5\" font-family=\"Monospace\" font-size=\"10.00\" fill=\"GREY\">uid=CkFSX9KW</text>\n",
              "</g>\n",
              "<!-- CkFSX9KW&#45;&gt;a3uzySL7 -->\n",
              "<g id=\"edge1\" class=\"edge\">\n",
              "<title>CkFSX9KW&#45;&gt;a3uzySL7</title>\n",
              "<path fill=\"none\" stroke=\"dimgrey\" d=\"M139.62,-71.7C139.62,-62.88 139.62,-52.03 139.62,-42.47\"/>\n",
              "<polygon fill=\"dimgrey\" stroke=\"dimgrey\" points=\"141.38,-42.62 139.63,-37.62 137.88,-42.62 141.38,-42.62\"/>\n",
              "</g>\n",
              "<!-- iaqgKEYY -->\n",
              "<g id=\"node3\" class=\"node\">\n",
              "<title>iaqgKEYY</title>\n",
              "<path fill=\"honeydew\" stroke=\"#065f46\" d=\"M171.62,-396C171.62,-396 107.62,-396 107.62,-396 101.62,-396 95.62,-390 95.62,-384 95.62,-384 95.62,-372 95.62,-372 95.62,-366 101.62,-360 107.62,-360 107.62,-360 171.62,-360 171.62,-360 177.62,-360 183.62,-366 183.62,-372 183.62,-372 183.62,-384 183.62,-384 183.62,-390 177.62,-396 171.62,-396\"/>\n",
              "<text text-anchor=\"start\" x=\"114.12\" y=\"-379.5\" font-family=\"Helvetica,sans-Serif\" font-size=\"10.00\">cell line cell</text>\n",
              "<text text-anchor=\"start\" x=\"103.62\" y=\"-369.5\" font-family=\"Monospace\" font-size=\"10.00\" fill=\"GREY\">uid=iaqgKEYY</text>\n",
              "</g>\n",
              "<!-- 0mXEmtun -->\n",
              "<g id=\"node4\" class=\"node\">\n",
              "<title>0mXEmtun</title>\n",
              "<path fill=\"honeydew\" stroke=\"#065f46\" d=\"M181.38,-324C181.38,-324 97.88,-324 97.88,-324 91.88,-324 85.88,-318 85.88,-312 85.88,-312 85.88,-300 85.88,-300 85.88,-294 91.88,-288 97.88,-288 97.88,-288 181.38,-288 181.38,-288 187.38,-288 193.38,-294 193.38,-300 193.38,-300 193.38,-312 193.38,-312 193.38,-318 187.38,-324 181.38,-324\"/>\n",
              "<text text-anchor=\"start\" x=\"93.88\" y=\"-307.5\" font-family=\"Helvetica,sans-Serif\" font-size=\"10.00\">immortal cell line cell</text>\n",
              "<text text-anchor=\"start\" x=\"103.62\" y=\"-297.5\" font-family=\"Monospace\" font-size=\"10.00\" fill=\"GREY\">uid=0mXEmtun</text>\n",
              "</g>\n",
              "<!-- iaqgKEYY&#45;&gt;0mXEmtun -->\n",
              "<g id=\"edge2\" class=\"edge\">\n",
              "<title>iaqgKEYY&#45;&gt;0mXEmtun</title>\n",
              "<path fill=\"none\" stroke=\"dimgrey\" d=\"M139.62,-359.7C139.62,-350.88 139.62,-340.03 139.62,-330.47\"/>\n",
              "<polygon fill=\"dimgrey\" stroke=\"dimgrey\" points=\"141.38,-330.62 139.63,-325.62 137.88,-330.62 141.38,-330.62\"/>\n",
              "</g>\n",
              "<!-- QrS3iIgW -->\n",
              "<g id=\"node5\" class=\"node\">\n",
              "<title>QrS3iIgW</title>\n",
              "<path fill=\"honeydew\" stroke=\"#065f46\" d=\"M225.25,-252C225.25,-252 54,-252 54,-252 48,-252 42,-246 42,-240 42,-240 42,-228 42,-228 42,-222 48,-216 54,-216 54,-216 225.25,-216 225.25,-216 231.25,-216 237.25,-222 237.25,-228 237.25,-228 237.25,-240 237.25,-240 237.25,-246 231.25,-252 225.25,-252\"/>\n",
              "<text text-anchor=\"start\" x=\"50\" y=\"-235.5\" font-family=\"Helvetica,sans-Serif\" font-size=\"10.00\">immortal vasculature&#45;derived cell line cell</text>\n",
              "<text text-anchor=\"start\" x=\"103.62\" y=\"-225.5\" font-family=\"Monospace\" font-size=\"10.00\" fill=\"GREY\">uid=QrS3iIgW</text>\n",
              "</g>\n",
              "<!-- 0mXEmtun&#45;&gt;QrS3iIgW -->\n",
              "<g id=\"edge5\" class=\"edge\">\n",
              "<title>0mXEmtun&#45;&gt;QrS3iIgW</title>\n",
              "<path fill=\"none\" stroke=\"dimgrey\" d=\"M139.62,-287.7C139.62,-278.88 139.62,-268.03 139.62,-258.47\"/>\n",
              "<polygon fill=\"dimgrey\" stroke=\"dimgrey\" points=\"141.38,-258.62 139.63,-253.62 137.88,-258.62 141.38,-258.62\"/>\n",
              "</g>\n",
              "<!-- QrS3iIgW&#45;&gt;CkFSX9KW -->\n",
              "<g id=\"edge3\" class=\"edge\">\n",
              "<title>QrS3iIgW&#45;&gt;CkFSX9KW</title>\n",
              "<path fill=\"none\" stroke=\"dimgrey\" d=\"M115.6,-215.68C104.88,-206.44 93.38,-194.08 87.62,-180 81.57,-165.19 81.57,-158.81 87.62,-144 92.52,-132.01 101.59,-121.27 110.8,-112.64\"/>\n",
              "<polygon fill=\"dimgrey\" stroke=\"dimgrey\" points=\"111.92,-113.98 114.47,-109.34 109.58,-111.37 111.92,-113.98\"/>\n",
              "</g>\n",
              "<!-- DuJQ6bfB -->\n",
              "<g id=\"node6\" class=\"node\">\n",
              "<title>DuJQ6bfB</title>\n",
              "<path fill=\"honeydew\" stroke=\"#065f46\" d=\"M312.38,-180C312.38,-180 108.88,-180 108.88,-180 102.88,-180 96.88,-174 96.88,-168 96.88,-168 96.88,-156 96.88,-156 96.88,-150 102.88,-144 108.88,-144 108.88,-144 312.38,-144 312.38,-144 318.38,-144 324.38,-150 324.38,-156 324.38,-156 324.38,-168 324.38,-168 324.38,-174 318.38,-180 312.38,-180\"/>\n",
              "<text text-anchor=\"start\" x=\"104.88\" y=\"-163.5\" font-family=\"Helvetica,sans-Serif\" font-size=\"10.00\">immortal human vasculature&#45;derived cell line cell</text>\n",
              "<text text-anchor=\"start\" x=\"174.62\" y=\"-153.5\" font-family=\"Monospace\" font-size=\"10.00\" fill=\"GREY\">uid=DuJQ6bfB</text>\n",
              "</g>\n",
              "<!-- QrS3iIgW&#45;&gt;DuJQ6bfB -->\n",
              "<g id=\"edge6\" class=\"edge\">\n",
              "<title>QrS3iIgW&#45;&gt;DuJQ6bfB</title>\n",
              "<path fill=\"none\" stroke=\"dimgrey\" d=\"M157.18,-215.7C166.72,-206.29 178.61,-194.56 188.75,-184.56\"/>\n",
              "<polygon fill=\"dimgrey\" stroke=\"dimgrey\" points=\"189.87,-185.92 192.2,-181.17 187.41,-183.43 189.87,-185.92\"/>\n",
              "</g>\n",
              "<!-- DuJQ6bfB&#45;&gt;CkFSX9KW -->\n",
              "<g id=\"edge4\" class=\"edge\">\n",
              "<title>DuJQ6bfB&#45;&gt;CkFSX9KW</title>\n",
              "<path fill=\"none\" stroke=\"dimgrey\" d=\"M193.07,-143.7C183.53,-134.29 171.64,-122.56 161.5,-112.56\"/>\n",
              "<polygon fill=\"dimgrey\" stroke=\"dimgrey\" points=\"162.84,-111.43 158.05,-109.17 160.38,-113.92 162.84,-111.43\"/>\n",
              "</g>\n",
              "</g>\n",
              "</svg>\n"
            ],
            "text/plain": [
              "<graphviz.graphs.Digraph at 0x2a53267a0>"
            ]
          },
          "metadata": {},
          "output_type": "display_data"
        }
      ],
      "source": [
        "cell_lines = lb.CellLine.lookup(field=\"abbr\")\n",
        "cell_lines.huvec.view_parents()"
      ]
    },
    {
      "cell_type": "code",
      "execution_count": 15,
      "id": "2e615485",
      "metadata": {
        "tags": [
          "hide-output"
        ]
      },
      "outputs": [
        {
          "data": {
            "image/svg+xml": [
              "<?xml version=\"1.0\" encoding=\"UTF-8\" standalone=\"no\"?>\n",
              "<!DOCTYPE svg PUBLIC \"-//W3C//DTD SVG 1.1//EN\"\n",
              " \"http://www.w3.org/Graphics/SVG/1.1/DTD/svg11.dtd\">\n",
              "<!-- Generated by graphviz version 9.0.0 (20230911.1827)\n",
              " -->\n",
              "<!-- Title: AkJL1qhy Pages: 1 -->\n",
              "<svg width=\"203pt\" height=\"332pt\"\n",
              " viewBox=\"0.00 0.00 203.25 332.00\" xmlns=\"http://www.w3.org/2000/svg\" xmlns:xlink=\"http://www.w3.org/1999/xlink\">\n",
              "<g id=\"graph0\" class=\"graph\" transform=\"scale(1 1) rotate(0) translate(4 328)\">\n",
              "<title>AkJL1qhy</title>\n",
              "<polygon fill=\"white\" stroke=\"none\" points=\"-4,4 -4,-328 199.25,-328 199.25,4 -4,4\"/>\n",
              "<!-- AkJL1qhy -->\n",
              "<g id=\"node1\" class=\"node\">\n",
              "<title>AkJL1qhy</title>\n",
              "<path fill=\"#10b981\" stroke=\"#065f46\" d=\"M129.62,-36C129.62,-36 65.62,-36 65.62,-36 59.62,-36 53.62,-30 53.62,-24 53.62,-24 53.62,-12 53.62,-12 53.62,-6 59.62,0 65.62,0 65.62,0 129.62,0 129.62,0 135.62,0 141.62,-6 141.62,-12 141.62,-12 141.62,-24 141.62,-24 141.62,-30 135.62,-36 129.62,-36\"/>\n",
              "<text text-anchor=\"start\" x=\"71.75\" y=\"-19.5\" font-family=\"Helvetica,sans-Serif\" font-size=\"10.00\">Hep G2 cell</text>\n",
              "<text text-anchor=\"start\" x=\"61.62\" y=\"-9.5\" font-family=\"Monospace\" font-size=\"10.00\" fill=\"GREY\">uid=AkJL1qhy</text>\n",
              "</g>\n",
              "<!-- br5GPP6q -->\n",
              "<g id=\"node2\" class=\"node\">\n",
              "<title>br5GPP6q</title>\n",
              "<path fill=\"honeydew\" stroke=\"#065f46\" d=\"M183.25,-108C183.25,-108 12,-108 12,-108 6,-108 0,-102 0,-96 0,-96 0,-84 0,-84 0,-78 6,-72 12,-72 12,-72 183.25,-72 183.25,-72 189.25,-72 195.25,-78 195.25,-84 195.25,-84 195.25,-96 195.25,-96 195.25,-102 189.25,-108 183.25,-108\"/>\n",
              "<text text-anchor=\"start\" x=\"8\" y=\"-91.5\" font-family=\"Helvetica,sans-Serif\" font-size=\"10.00\">immortal human liver&#45;derived cell line cell</text>\n",
              "<text text-anchor=\"start\" x=\"61.62\" y=\"-81.5\" font-family=\"Monospace\" font-size=\"10.00\" fill=\"GREY\">uid=br5GPP6q</text>\n",
              "</g>\n",
              "<!-- br5GPP6q&#45;&gt;AkJL1qhy -->\n",
              "<g id=\"edge1\" class=\"edge\">\n",
              "<title>br5GPP6q&#45;&gt;AkJL1qhy</title>\n",
              "<path fill=\"none\" stroke=\"dimgrey\" d=\"M97.62,-71.7C97.62,-62.88 97.62,-52.03 97.62,-42.47\"/>\n",
              "<polygon fill=\"dimgrey\" stroke=\"dimgrey\" points=\"99.38,-42.62 97.63,-37.62 95.88,-42.62 99.38,-42.62\"/>\n",
              "</g>\n",
              "<!-- XPqCzHAi -->\n",
              "<g id=\"node3\" class=\"node\">\n",
              "<title>XPqCzHAi</title>\n",
              "<path fill=\"honeydew\" stroke=\"#065f46\" d=\"M167.12,-180C167.12,-180 28.13,-180 28.13,-180 22.12,-180 16.12,-174 16.12,-168 16.12,-168 16.12,-156 16.12,-156 16.12,-150 22.12,-144 28.12,-144 28.12,-144 167.12,-144 167.12,-144 173.12,-144 179.12,-150 179.12,-156 179.12,-156 179.12,-168 179.12,-168 179.12,-174 173.12,-180 167.12,-180\"/>\n",
              "<text text-anchor=\"start\" x=\"24.12\" y=\"-163.5\" font-family=\"Helvetica,sans-Serif\" font-size=\"10.00\">immortal liver&#45;derived cell line cell</text>\n",
              "<text text-anchor=\"start\" x=\"61.62\" y=\"-153.5\" font-family=\"Monospace\" font-size=\"10.00\" fill=\"GREY\">uid=XPqCzHAi</text>\n",
              "</g>\n",
              "<!-- XPqCzHAi&#45;&gt;br5GPP6q -->\n",
              "<g id=\"edge2\" class=\"edge\">\n",
              "<title>XPqCzHAi&#45;&gt;br5GPP6q</title>\n",
              "<path fill=\"none\" stroke=\"dimgrey\" d=\"M97.62,-143.7C97.62,-134.88 97.62,-124.03 97.62,-114.47\"/>\n",
              "<polygon fill=\"dimgrey\" stroke=\"dimgrey\" points=\"99.38,-114.62 97.63,-109.62 95.88,-114.62 99.38,-114.62\"/>\n",
              "</g>\n",
              "<!-- 0mXEmtun -->\n",
              "<g id=\"node4\" class=\"node\">\n",
              "<title>0mXEmtun</title>\n",
              "<path fill=\"honeydew\" stroke=\"#065f46\" d=\"M139.38,-252C139.38,-252 55.88,-252 55.88,-252 49.88,-252 43.88,-246 43.88,-240 43.88,-240 43.88,-228 43.88,-228 43.88,-222 49.88,-216 55.88,-216 55.88,-216 139.38,-216 139.38,-216 145.38,-216 151.38,-222 151.38,-228 151.38,-228 151.38,-240 151.38,-240 151.38,-246 145.38,-252 139.38,-252\"/>\n",
              "<text text-anchor=\"start\" x=\"51.88\" y=\"-235.5\" font-family=\"Helvetica,sans-Serif\" font-size=\"10.00\">immortal cell line cell</text>\n",
              "<text text-anchor=\"start\" x=\"61.62\" y=\"-225.5\" font-family=\"Monospace\" font-size=\"10.00\" fill=\"GREY\">uid=0mXEmtun</text>\n",
              "</g>\n",
              "<!-- 0mXEmtun&#45;&gt;XPqCzHAi -->\n",
              "<g id=\"edge3\" class=\"edge\">\n",
              "<title>0mXEmtun&#45;&gt;XPqCzHAi</title>\n",
              "<path fill=\"none\" stroke=\"dimgrey\" d=\"M97.62,-215.7C97.62,-206.88 97.62,-196.03 97.62,-186.47\"/>\n",
              "<polygon fill=\"dimgrey\" stroke=\"dimgrey\" points=\"99.38,-186.62 97.63,-181.62 95.88,-186.62 99.38,-186.62\"/>\n",
              "</g>\n",
              "<!-- iaqgKEYY -->\n",
              "<g id=\"node5\" class=\"node\">\n",
              "<title>iaqgKEYY</title>\n",
              "<path fill=\"honeydew\" stroke=\"#065f46\" d=\"M129.62,-324C129.62,-324 65.62,-324 65.62,-324 59.62,-324 53.62,-318 53.62,-312 53.62,-312 53.62,-300 53.62,-300 53.62,-294 59.62,-288 65.62,-288 65.62,-288 129.62,-288 129.62,-288 135.62,-288 141.62,-294 141.62,-300 141.62,-300 141.62,-312 141.62,-312 141.62,-318 135.62,-324 129.62,-324\"/>\n",
              "<text text-anchor=\"start\" x=\"72.12\" y=\"-307.5\" font-family=\"Helvetica,sans-Serif\" font-size=\"10.00\">cell line cell</text>\n",
              "<text text-anchor=\"start\" x=\"61.62\" y=\"-297.5\" font-family=\"Monospace\" font-size=\"10.00\" fill=\"GREY\">uid=iaqgKEYY</text>\n",
              "</g>\n",
              "<!-- iaqgKEYY&#45;&gt;0mXEmtun -->\n",
              "<g id=\"edge4\" class=\"edge\">\n",
              "<title>iaqgKEYY&#45;&gt;0mXEmtun</title>\n",
              "<path fill=\"none\" stroke=\"dimgrey\" d=\"M97.62,-287.7C97.62,-278.88 97.62,-268.03 97.62,-258.47\"/>\n",
              "<polygon fill=\"dimgrey\" stroke=\"dimgrey\" points=\"99.38,-258.62 97.63,-253.62 95.88,-258.62 99.38,-258.62\"/>\n",
              "</g>\n",
              "</g>\n",
              "</svg>\n"
            ],
            "text/plain": [
              "<graphviz.graphs.Digraph at 0x2a52c4f40>"
            ]
          },
          "metadata": {},
          "output_type": "display_data"
        }
      ],
      "source": [
        "cell_lines.hepg2.view_parents()"
      ]
    },
    {
      "cell_type": "markdown",
      "id": "591ddd62",
      "metadata": {},
      "source": [
        "### `split`"
      ]
    },
    {
      "cell_type": "markdown",
      "id": "87bc0d16",
      "metadata": {},
      "source": [
        "Use `ULabel` for \"train\", \"test\":"
      ]
    },
    {
      "cell_type": "code",
      "execution_count": 16,
      "id": "03800f02",
      "metadata": {},
      "outputs": [
        {
          "data": {
            "text/plain": [
              "array(['test', 'train'], dtype=object)"
            ]
          },
          "execution_count": 16,
          "metadata": {},
          "output_type": "execute_result"
        }
      ],
      "source": [
        "meta[\"split\"].unique()"
      ]
    },
    {
      "cell_type": "code",
      "execution_count": 17,
      "id": "2feaee03",
      "metadata": {},
      "outputs": [],
      "source": [
        "train_test = [\n",
        "    ln.ULabel(name=name, description=\"ML split\") for name in meta[\"split\"].unique()\n",
        "]\n",
        "ln.save(train_test)"
      ]
    },
    {
      "cell_type": "markdown",
      "id": "96adcbcb",
      "metadata": {},
      "source": [
        "Define a parent:"
      ]
    },
    {
      "cell_type": "code",
      "execution_count": 18,
      "id": "c5e10e5f",
      "metadata": {},
      "outputs": [
        {
          "data": {
            "image/svg+xml": [
              "<?xml version=\"1.0\" encoding=\"UTF-8\" standalone=\"no\"?>\n",
              "<!DOCTYPE svg PUBLIC \"-//W3C//DTD SVG 1.1//EN\"\n",
              " \"http://www.w3.org/Graphics/SVG/1.1/DTD/svg11.dtd\">\n",
              "<!-- Generated by graphviz version 9.0.0 (20230911.1827)\n",
              " -->\n",
              "<!-- Title: F6POZAaa Pages: 1 -->\n",
              "<svg width=\"202pt\" height=\"116pt\"\n",
              " viewBox=\"0.00 0.00 202.00 116.00\" xmlns=\"http://www.w3.org/2000/svg\" xmlns:xlink=\"http://www.w3.org/1999/xlink\">\n",
              "<g id=\"graph0\" class=\"graph\" transform=\"scale(1 1) rotate(0) translate(4 112)\">\n",
              "<title>F6POZAaa</title>\n",
              "<polygon fill=\"white\" stroke=\"none\" points=\"-4,4 -4,-112 198,-112 198,4 -4,4\"/>\n",
              "<!-- F6POZAaa -->\n",
              "<g id=\"node1\" class=\"node\">\n",
              "<title>F6POZAaa</title>\n",
              "<path fill=\"#10b981\" stroke=\"#065f46\" d=\"M129,-108C129,-108 65,-108 65,-108 59,-108 53,-102 53,-96 53,-96 53,-84 53,-84 53,-78 59,-72 65,-72 65,-72 129,-72 129,-72 135,-72 141,-78 141,-84 141,-84 141,-96 141,-96 141,-102 135,-108 129,-108\"/>\n",
              "<text text-anchor=\"start\" x=\"81.62\" y=\"-91.5\" font-family=\"Helvetica,sans-Serif\" font-size=\"10.00\">is_split</text>\n",
              "<text text-anchor=\"start\" x=\"61\" y=\"-81.5\" font-family=\"Monospace\" font-size=\"10.00\" fill=\"GREY\">uid=F6POZAaa</text>\n",
              "</g>\n",
              "<!-- FAqRwX9A -->\n",
              "<g id=\"node2\" class=\"node\">\n",
              "<title>FAqRwX9A</title>\n",
              "<path fill=\"honeydew\" stroke=\"#065f46\" d=\"M76,-36C76,-36 12,-36 12,-36 6,-36 0,-30 0,-24 0,-24 0,-12 0,-12 0,-6 6,0 12,0 12,0 76,0 76,0 82,0 88,-6 88,-12 88,-12 88,-24 88,-24 88,-30 82,-36 76,-36\"/>\n",
              "<text text-anchor=\"start\" x=\"35.75\" y=\"-19.5\" font-family=\"Helvetica,sans-Serif\" font-size=\"10.00\">test</text>\n",
              "<text text-anchor=\"start\" x=\"8\" y=\"-9.5\" font-family=\"Monospace\" font-size=\"10.00\" fill=\"GREY\">uid=FAqRwX9A</text>\n",
              "</g>\n",
              "<!-- F6POZAaa&#45;&gt;FAqRwX9A -->\n",
              "<g id=\"edge1\" class=\"edge\">\n",
              "<title>F6POZAaa&#45;&gt;FAqRwX9A</title>\n",
              "<path fill=\"none\" stroke=\"dimgrey\" d=\"M83.9,-71.7C76.9,-62.46 68.22,-50.98 60.74,-41.11\"/>\n",
              "<polygon fill=\"dimgrey\" stroke=\"dimgrey\" points=\"62.28,-40.24 57.86,-37.31 59.49,-42.35 62.28,-40.24\"/>\n",
              "</g>\n",
              "<!-- 98DmXjTd -->\n",
              "<g id=\"node3\" class=\"node\">\n",
              "<title>98DmXjTd</title>\n",
              "<path fill=\"honeydew\" stroke=\"#065f46\" d=\"M182,-36C182,-36 118,-36 118,-36 112,-36 106,-30 106,-24 106,-24 106,-12 106,-12 106,-6 112,0 118,0 118,0 182,0 182,0 188,0 194,-6 194,-12 194,-12 194,-24 194,-24 194,-30 188,-36 182,-36\"/>\n",
              "<text text-anchor=\"start\" x=\"140.62\" y=\"-19.5\" font-family=\"Helvetica,sans-Serif\" font-size=\"10.00\">train</text>\n",
              "<text text-anchor=\"start\" x=\"114\" y=\"-9.5\" font-family=\"Monospace\" font-size=\"10.00\" fill=\"GREY\">uid=98DmXjTd</text>\n",
              "</g>\n",
              "<!-- F6POZAaa&#45;&gt;98DmXjTd -->\n",
              "<g id=\"edge2\" class=\"edge\">\n",
              "<title>F6POZAaa&#45;&gt;98DmXjTd</title>\n",
              "<path fill=\"none\" stroke=\"dimgrey\" d=\"M110.1,-71.7C117.1,-62.46 125.78,-50.98 133.26,-41.11\"/>\n",
              "<polygon fill=\"dimgrey\" stroke=\"dimgrey\" points=\"134.51,-42.35 136.14,-37.31 131.72,-40.24 134.51,-42.35\"/>\n",
              "</g>\n",
              "</g>\n",
              "</svg>\n"
            ],
            "text/plain": [
              "<graphviz.graphs.Digraph at 0x2a53246d0>"
            ]
          },
          "metadata": {},
          "output_type": "display_data"
        }
      ],
      "source": [
        "is_split = ln.ULabel(name=\"is_split\", description=\"ML split\")\n",
        "is_split.save()\n",
        "is_split.children.add(*train_test)\n",
        "is_split.view_parents(with_children=True)"
      ]
    },
    {
      "cell_type": "markdown",
      "id": "1332431d",
      "metadata": {},
      "source": [
        "### `experiment`"
      ]
    },
    {
      "cell_type": "code",
      "execution_count": 19,
      "id": "20e1f372",
      "metadata": {
        "tags": [
          "hide-output"
        ]
      },
      "outputs": [],
      "source": [
        "ln.settings.upon_create_search_name = False\n",
        "experiments = [\n",
        "    ln1.Experiment(name=name, description=\"RxRx1\")\n",
        "    for name in meta[\"experiment\"].unique()\n",
        "]\n",
        "ln.save(experiments)\n",
        "ln.settings.upon_create_search_name = True"
      ]
    },
    {
      "cell_type": "markdown",
      "id": "450de01b",
      "metadata": {},
      "source": [
        "### `plate`"
      ]
    },
    {
      "cell_type": "code",
      "execution_count": 20,
      "id": "c71cf241",
      "metadata": {
        "tags": [
          "hide-output"
        ]
      },
      "outputs": [],
      "source": [
        "is_plate = ln.ULabel(name=\"is_plate\", description=\"parent of plates\")\n",
        "is_plate.save()\n",
        "plates = [ln.ULabel(name=f\"Plate{name}\") for name in meta[\"plate\"].unique()]\n",
        "ln.save(plates)\n",
        "is_plate.children.set(plates)"
      ]
    },
    {
      "cell_type": "code",
      "execution_count": 21,
      "id": "dcdd2a78",
      "metadata": {},
      "outputs": [
        {
          "data": {
            "image/svg+xml": [
              "<?xml version=\"1.0\" encoding=\"UTF-8\" standalone=\"no\"?>\n",
              "<!DOCTYPE svg PUBLIC \"-//W3C//DTD SVG 1.1//EN\"\n",
              " \"http://www.w3.org/Graphics/SVG/1.1/DTD/svg11.dtd\">\n",
              "<!-- Generated by graphviz version 9.0.0 (20230911.1827)\n",
              " -->\n",
              "<!-- Title: AurwFaeW Pages: 1 -->\n",
              "<svg width=\"414pt\" height=\"116pt\"\n",
              " viewBox=\"0.00 0.00 414.00 116.00\" xmlns=\"http://www.w3.org/2000/svg\" xmlns:xlink=\"http://www.w3.org/1999/xlink\">\n",
              "<g id=\"graph0\" class=\"graph\" transform=\"scale(1 1) rotate(0) translate(4 112)\">\n",
              "<title>AurwFaeW</title>\n",
              "<polygon fill=\"white\" stroke=\"none\" points=\"-4,4 -4,-112 410,-112 410,4 -4,4\"/>\n",
              "<!-- AurwFaeW -->\n",
              "<g id=\"node1\" class=\"node\">\n",
              "<title>AurwFaeW</title>\n",
              "<path fill=\"#10b981\" stroke=\"#065f46\" d=\"M235,-108C235,-108 171,-108 171,-108 165,-108 159,-102 159,-96 159,-96 159,-84 159,-84 159,-78 165,-72 171,-72 171,-72 235,-72 235,-72 241,-72 247,-78 247,-84 247,-84 247,-96 247,-96 247,-102 241,-108 235,-108\"/>\n",
              "<text text-anchor=\"start\" x=\"186.12\" y=\"-91.5\" font-family=\"Helvetica,sans-Serif\" font-size=\"10.00\">is_plate</text>\n",
              "<text text-anchor=\"start\" x=\"167\" y=\"-81.5\" font-family=\"Monospace\" font-size=\"10.00\" fill=\"GREY\">uid=AurwFaeW</text>\n",
              "</g>\n",
              "<!-- S7PDiMHg -->\n",
              "<g id=\"node2\" class=\"node\">\n",
              "<title>S7PDiMHg</title>\n",
              "<path fill=\"honeydew\" stroke=\"#065f46\" d=\"M76,-36C76,-36 12,-36 12,-36 6,-36 0,-30 0,-24 0,-24 0,-12 0,-12 0,-6 6,0 12,0 12,0 76,0 76,0 82,0 88,-6 88,-12 88,-12 88,-24 88,-24 88,-30 82,-36 76,-36\"/>\n",
              "<text text-anchor=\"start\" x=\"30.12\" y=\"-19.5\" font-family=\"Helvetica,sans-Serif\" font-size=\"10.00\">Plate1</text>\n",
              "<text text-anchor=\"start\" x=\"8\" y=\"-9.5\" font-family=\"Monospace\" font-size=\"10.00\" fill=\"GREY\">uid=S7PDiMHg</text>\n",
              "</g>\n",
              "<!-- AurwFaeW&#45;&gt;S7PDiMHg -->\n",
              "<g id=\"edge1\" class=\"edge\">\n",
              "<title>AurwFaeW&#45;&gt;S7PDiMHg</title>\n",
              "<path fill=\"none\" stroke=\"dimgrey\" d=\"M163.29,-71.52C140.82,-61.62 112.63,-49.22 89.3,-38.94\"/>\n",
              "<polygon fill=\"dimgrey\" stroke=\"dimgrey\" points=\"90.15,-37.4 84.87,-36.99 88.74,-40.61 90.15,-37.4\"/>\n",
              "</g>\n",
              "<!-- oxRLwNV0 -->\n",
              "<g id=\"node3\" class=\"node\">\n",
              "<title>oxRLwNV0</title>\n",
              "<path fill=\"honeydew\" stroke=\"#065f46\" d=\"M182,-36C182,-36 118,-36 118,-36 112,-36 106,-30 106,-24 106,-24 106,-12 106,-12 106,-6 112,0 118,0 118,0 182,0 182,0 188,0 194,-6 194,-12 194,-12 194,-24 194,-24 194,-30 188,-36 182,-36\"/>\n",
              "<text text-anchor=\"start\" x=\"136.12\" y=\"-19.5\" font-family=\"Helvetica,sans-Serif\" font-size=\"10.00\">Plate2</text>\n",
              "<text text-anchor=\"start\" x=\"114\" y=\"-9.5\" font-family=\"Monospace\" font-size=\"10.00\" fill=\"GREY\">uid=oxRLwNV0</text>\n",
              "</g>\n",
              "<!-- AurwFaeW&#45;&gt;oxRLwNV0 -->\n",
              "<g id=\"edge2\" class=\"edge\">\n",
              "<title>AurwFaeW&#45;&gt;oxRLwNV0</title>\n",
              "<path fill=\"none\" stroke=\"dimgrey\" d=\"M189.9,-71.7C182.9,-62.46 174.22,-50.98 166.74,-41.11\"/>\n",
              "<polygon fill=\"dimgrey\" stroke=\"dimgrey\" points=\"168.28,-40.24 163.86,-37.31 165.49,-42.35 168.28,-40.24\"/>\n",
              "</g>\n",
              "<!-- 8kOWhh27 -->\n",
              "<g id=\"node4\" class=\"node\">\n",
              "<title>8kOWhh27</title>\n",
              "<path fill=\"honeydew\" stroke=\"#065f46\" d=\"M288,-36C288,-36 224,-36 224,-36 218,-36 212,-30 212,-24 212,-24 212,-12 212,-12 212,-6 218,0 224,0 224,0 288,0 288,0 294,0 300,-6 300,-12 300,-12 300,-24 300,-24 300,-30 294,-36 288,-36\"/>\n",
              "<text text-anchor=\"start\" x=\"242.12\" y=\"-19.5\" font-family=\"Helvetica,sans-Serif\" font-size=\"10.00\">Plate3</text>\n",
              "<text text-anchor=\"start\" x=\"220\" y=\"-9.5\" font-family=\"Monospace\" font-size=\"10.00\" fill=\"GREY\">uid=8kOWhh27</text>\n",
              "</g>\n",
              "<!-- AurwFaeW&#45;&gt;8kOWhh27 -->\n",
              "<g id=\"edge3\" class=\"edge\">\n",
              "<title>AurwFaeW&#45;&gt;8kOWhh27</title>\n",
              "<path fill=\"none\" stroke=\"dimgrey\" d=\"M216.1,-71.7C223.1,-62.46 231.78,-50.98 239.26,-41.11\"/>\n",
              "<polygon fill=\"dimgrey\" stroke=\"dimgrey\" points=\"240.51,-42.35 242.14,-37.31 237.72,-40.24 240.51,-42.35\"/>\n",
              "</g>\n",
              "<!-- JX0GdB5C -->\n",
              "<g id=\"node5\" class=\"node\">\n",
              "<title>JX0GdB5C</title>\n",
              "<path fill=\"honeydew\" stroke=\"#065f46\" d=\"M394,-36C394,-36 330,-36 330,-36 324,-36 318,-30 318,-24 318,-24 318,-12 318,-12 318,-6 324,0 330,0 330,0 394,0 394,0 400,0 406,-6 406,-12 406,-12 406,-24 406,-24 406,-30 400,-36 394,-36\"/>\n",
              "<text text-anchor=\"start\" x=\"348.12\" y=\"-19.5\" font-family=\"Helvetica,sans-Serif\" font-size=\"10.00\">Plate4</text>\n",
              "<text text-anchor=\"start\" x=\"326\" y=\"-9.5\" font-family=\"Monospace\" font-size=\"10.00\" fill=\"GREY\">uid=JX0GdB5C</text>\n",
              "</g>\n",
              "<!-- AurwFaeW&#45;&gt;JX0GdB5C -->\n",
              "<g id=\"edge4\" class=\"edge\">\n",
              "<title>AurwFaeW&#45;&gt;JX0GdB5C</title>\n",
              "<path fill=\"none\" stroke=\"dimgrey\" d=\"M242.71,-71.52C265.18,-61.62 293.37,-49.22 316.7,-38.94\"/>\n",
              "<polygon fill=\"dimgrey\" stroke=\"dimgrey\" points=\"317.26,-40.61 321.13,-36.99 315.85,-37.4 317.26,-40.61\"/>\n",
              "</g>\n",
              "</g>\n",
              "</svg>\n"
            ],
            "text/plain": [
              "<graphviz.graphs.Digraph at 0x2a8f9fb80>"
            ]
          },
          "metadata": {},
          "output_type": "display_data"
        }
      ],
      "source": [
        "is_plate.view_parents(with_children=True)"
      ]
    },
    {
      "cell_type": "markdown",
      "id": "eb573cf8",
      "metadata": {},
      "source": [
        "### `well`"
      ]
    },
    {
      "attachments": {},
      "cell_type": "markdown",
      "id": "80198d9f-dd52-476f-8333-c2742af9c38f",
      "metadata": {},
      "source": [
        "We might also want to add the well information, so that we can link image files and parse images based on well coordinates. To do this, let's first extract well locations from the table:"
      ]
    },
    {
      "cell_type": "code",
      "execution_count": 22,
      "id": "0614c46a-d8f6-40db-be75-acf31411a43c",
      "metadata": {
        "tags": [
          "hide-output"
        ]
      },
      "outputs": [],
      "source": [
        "ln.settings.upon_create_search_name = False\n",
        "wells = [\n",
        "    ln1.Well(name=well, row=well[0], column=int(well[1:]))\n",
        "    for well in meta[\"well\"].unique()\n",
        "]\n",
        "ln.save(wells)\n",
        "ln.settings.upon_create_search_name = True"
      ]
    },
    {
      "cell_type": "markdown",
      "id": "b84b665c",
      "metadata": {},
      "source": [
        "### `well_type`"
      ]
    },
    {
      "cell_type": "code",
      "execution_count": 23,
      "id": "d5d846c3",
      "metadata": {},
      "outputs": [],
      "source": [
        "is_well_type = ln.ULabel(name=\"is_well_type\", description=\"parent of well types\")\n",
        "is_well_type.save()"
      ]
    },
    {
      "cell_type": "code",
      "execution_count": 24,
      "id": "05cd6429",
      "metadata": {
        "tags": [
          "hide-output"
        ]
      },
      "outputs": [],
      "source": [
        "well_types = [ln.ULabel(name=name) for name in meta[\"well_type\"].unique()]\n",
        "ln.save(well_types)\n",
        "is_well_type.children.set(well_types)"
      ]
    },
    {
      "cell_type": "code",
      "execution_count": 25,
      "id": "fdb3802b",
      "metadata": {},
      "outputs": [
        {
          "data": {
            "image/svg+xml": [
              "<?xml version=\"1.0\" encoding=\"UTF-8\" standalone=\"no\"?>\n",
              "<!DOCTYPE svg PUBLIC \"-//W3C//DTD SVG 1.1//EN\"\n",
              " \"http://www.w3.org/Graphics/SVG/1.1/DTD/svg11.dtd\">\n",
              "<!-- Generated by graphviz version 9.0.0 (20230911.1827)\n",
              " -->\n",
              "<!-- Title: r4butAiH Pages: 1 -->\n",
              "<svg width=\"308pt\" height=\"116pt\"\n",
              " viewBox=\"0.00 0.00 308.00 116.00\" xmlns=\"http://www.w3.org/2000/svg\" xmlns:xlink=\"http://www.w3.org/1999/xlink\">\n",
              "<g id=\"graph0\" class=\"graph\" transform=\"scale(1 1) rotate(0) translate(4 112)\">\n",
              "<title>r4butAiH</title>\n",
              "<polygon fill=\"white\" stroke=\"none\" points=\"-4,4 -4,-112 304,-112 304,4 -4,4\"/>\n",
              "<!-- r4butAiH -->\n",
              "<g id=\"node1\" class=\"node\">\n",
              "<title>r4butAiH</title>\n",
              "<path fill=\"#10b981\" stroke=\"#065f46\" d=\"M182,-108C182,-108 118,-108 118,-108 112,-108 106,-102 106,-96 106,-96 106,-84 106,-84 106,-78 112,-72 118,-72 118,-72 182,-72 182,-72 188,-72 194,-78 194,-84 194,-84 194,-96 194,-96 194,-102 188,-108 182,-108\"/>\n",
              "<text text-anchor=\"start\" x=\"123\" y=\"-91.5\" font-family=\"Helvetica,sans-Serif\" font-size=\"10.00\">is_well_type</text>\n",
              "<text text-anchor=\"start\" x=\"114\" y=\"-81.5\" font-family=\"Monospace\" font-size=\"10.00\" fill=\"GREY\">uid=r4butAiH</text>\n",
              "</g>\n",
              "<!-- D01gs9Q6 -->\n",
              "<g id=\"node2\" class=\"node\">\n",
              "<title>D01gs9Q6</title>\n",
              "<path fill=\"honeydew\" stroke=\"#065f46\" d=\"M76,-36C76,-36 12,-36 12,-36 6,-36 0,-30 0,-24 0,-24 0,-12 0,-12 0,-6 6,0 12,0 12,0 76,0 76,0 82,0 88,-6 88,-12 88,-12 88,-24 88,-24 88,-30 82,-36 76,-36\"/>\n",
              "<text text-anchor=\"start\" x=\"8.38\" y=\"-19.5\" font-family=\"Helvetica,sans-Serif\" font-size=\"10.00\">negative_control</text>\n",
              "<text text-anchor=\"start\" x=\"8\" y=\"-9.5\" font-family=\"Monospace\" font-size=\"10.00\" fill=\"GREY\">uid=D01gs9Q6</text>\n",
              "</g>\n",
              "<!-- r4butAiH&#45;&gt;D01gs9Q6 -->\n",
              "<g id=\"edge1\" class=\"edge\">\n",
              "<title>r4butAiH&#45;&gt;D01gs9Q6</title>\n",
              "<path fill=\"none\" stroke=\"dimgrey\" d=\"M123.53,-71.52C108.87,-61.84 90.57,-49.75 75.22,-39.62\"/>\n",
              "<polygon fill=\"dimgrey\" stroke=\"dimgrey\" points=\"76.54,-38.39 71.4,-37.09 74.61,-41.31 76.54,-38.39\"/>\n",
              "</g>\n",
              "<!-- G8eD9ppP -->\n",
              "<g id=\"node3\" class=\"node\">\n",
              "<title>G8eD9ppP</title>\n",
              "<path fill=\"honeydew\" stroke=\"#065f46\" d=\"M182,-36C182,-36 118,-36 118,-36 112,-36 106,-30 106,-24 106,-24 106,-12 106,-12 106,-6 112,0 118,0 118,0 182,0 182,0 188,0 194,-6 194,-12 194,-12 194,-24 194,-24 194,-30 188,-36 182,-36\"/>\n",
              "<text text-anchor=\"start\" x=\"129.38\" y=\"-19.5\" font-family=\"Helvetica,sans-Serif\" font-size=\"10.00\">treatment</text>\n",
              "<text text-anchor=\"start\" x=\"114\" y=\"-9.5\" font-family=\"Monospace\" font-size=\"10.00\" fill=\"GREY\">uid=G8eD9ppP</text>\n",
              "</g>\n",
              "<!-- r4butAiH&#45;&gt;G8eD9ppP -->\n",
              "<g id=\"edge2\" class=\"edge\">\n",
              "<title>r4butAiH&#45;&gt;G8eD9ppP</title>\n",
              "<path fill=\"none\" stroke=\"dimgrey\" d=\"M150,-71.7C150,-62.88 150,-52.03 150,-42.47\"/>\n",
              "<polygon fill=\"dimgrey\" stroke=\"dimgrey\" points=\"151.75,-42.62 150,-37.62 148.25,-42.62 151.75,-42.62\"/>\n",
              "</g>\n",
              "<!-- 0l2KwG1Z -->\n",
              "<g id=\"node4\" class=\"node\">\n",
              "<title>0l2KwG1Z</title>\n",
              "<path fill=\"honeydew\" stroke=\"#065f46\" d=\"M288,-36C288,-36 224,-36 224,-36 218,-36 212,-30 212,-24 212,-24 212,-12 212,-12 212,-6 218,0 224,0 224,0 288,0 288,0 294,0 300,-6 300,-12 300,-12 300,-24 300,-24 300,-30 294,-36 288,-36\"/>\n",
              "<text text-anchor=\"start\" x=\"221.88\" y=\"-19.5\" font-family=\"Helvetica,sans-Serif\" font-size=\"10.00\">positive_control</text>\n",
              "<text text-anchor=\"start\" x=\"220\" y=\"-9.5\" font-family=\"Monospace\" font-size=\"10.00\" fill=\"GREY\">uid=0l2KwG1Z</text>\n",
              "</g>\n",
              "<!-- r4butAiH&#45;&gt;0l2KwG1Z -->\n",
              "<g id=\"edge3\" class=\"edge\">\n",
              "<title>r4butAiH&#45;&gt;0l2KwG1Z</title>\n",
              "<path fill=\"none\" stroke=\"dimgrey\" d=\"M176.47,-71.52C191.13,-61.84 209.43,-49.75 224.78,-39.62\"/>\n",
              "<polygon fill=\"dimgrey\" stroke=\"dimgrey\" points=\"225.39,-41.31 228.6,-37.09 223.46,-38.39 225.39,-41.31\"/>\n",
              "</g>\n",
              "</g>\n",
              "</svg>\n"
            ],
            "text/plain": [
              "<graphviz.graphs.Digraph at 0x2a5326c20>"
            ]
          },
          "metadata": {},
          "output_type": "display_data"
        }
      ],
      "source": [
        "is_well_type.view_parents(with_children=True)"
      ]
    },
    {
      "cell_type": "markdown",
      "id": "a868cc17",
      "metadata": {},
      "source": [
        "### `sirna`"
      ]
    },
    {
      "attachments": {},
      "cell_type": "markdown",
      "id": "dc821ebd",
      "metadata": {},
      "source": [
        "Add `sirna` to Treatment table:"
      ]
    },
    {
      "cell_type": "code",
      "execution_count": 26,
      "id": "3f029d5c",
      "metadata": {
        "tags": [
          "hide-output"
        ]
      },
      "outputs": [],
      "source": [
        "ln.settings.upon_create_search_name = False\n",
        "sirnas = [\n",
        "    ln1.Treatment(\n",
        "        name=sirna,\n",
        "        type=\"genetic\",\n",
        "        system=\"siRNA\",\n",
        "        description=\"ThermoFisher ID of siRNA\",\n",
        "    )\n",
        "    for sirna in meta[\"sirna\"].unique()\n",
        "]\n",
        "ln.save(sirnas)\n",
        "ln.settings.upon_create_search_name = True"
      ]
    },
    {
      "cell_type": "markdown",
      "id": "860ecbd9",
      "metadata": {},
      "source": [
        "### `readout`"
      ]
    },
    {
      "cell_type": "code",
      "execution_count": 27,
      "id": "272bc79a",
      "metadata": {},
      "outputs": [],
      "source": [
        "ln.Feature(name=\"readout\", type=\"category\").save()\n",
        "readout = lb.ExperimentalFactor.from_bionty(name=\"high content screen\")\n",
        "readout.save()"
      ]
    },
    {
      "cell_type": "code",
      "execution_count": 28,
      "id": "c99511a4",
      "metadata": {},
      "outputs": [
        {
          "data": {
            "image/svg+xml": [
              "<?xml version=\"1.0\" encoding=\"UTF-8\" standalone=\"no\"?>\n",
              "<!DOCTYPE svg PUBLIC \"-//W3C//DTD SVG 1.1//EN\"\n",
              " \"http://www.w3.org/Graphics/SVG/1.1/DTD/svg11.dtd\">\n",
              "<!-- Generated by graphviz version 9.0.0 (20230911.1827)\n",
              " -->\n",
              "<!-- Title: ahNepk9H Pages: 1 -->\n",
              "<svg width=\"151pt\" height=\"260pt\"\n",
              " viewBox=\"0.00 0.00 150.75 260.00\" xmlns=\"http://www.w3.org/2000/svg\" xmlns:xlink=\"http://www.w3.org/1999/xlink\">\n",
              "<g id=\"graph0\" class=\"graph\" transform=\"scale(1 1) rotate(0) translate(4 256)\">\n",
              "<title>ahNepk9H</title>\n",
              "<polygon fill=\"white\" stroke=\"none\" points=\"-4,4 -4,-256 146.75,-256 146.75,4 -4,4\"/>\n",
              "<!-- ahNepk9H -->\n",
              "<g id=\"node1\" class=\"node\">\n",
              "<title>ahNepk9H</title>\n",
              "<path fill=\"#10b981\" stroke=\"#065f46\" d=\"M110.12,-36C110.12,-36 32.62,-36 32.62,-36 26.63,-36 20.62,-30 20.62,-24 20.62,-24 20.62,-12 20.62,-12 20.62,-6 26.62,0 32.62,0 32.62,0 110.12,0 110.12,0 116.12,0 122.12,-6 122.12,-12 122.12,-12 122.12,-24 122.12,-24 122.12,-30 116.12,-36 110.12,-36\"/>\n",
              "<text text-anchor=\"start\" x=\"28.62\" y=\"-19.5\" font-family=\"Helvetica,sans-Serif\" font-size=\"10.00\">high content screen</text>\n",
              "<text text-anchor=\"start\" x=\"35.38\" y=\"-9.5\" font-family=\"Monospace\" font-size=\"10.00\" fill=\"GREY\">uid=ahNepk9H</text>\n",
              "</g>\n",
              "<!-- x3xSG8Ef -->\n",
              "<g id=\"node2\" class=\"node\">\n",
              "<title>x3xSG8Ef</title>\n",
              "<path fill=\"honeydew\" stroke=\"#065f46\" d=\"M130.75,-108C130.75,-108 12,-108 12,-108 6,-108 0,-102 0,-96 0,-96 0,-84 0,-84 0,-78 6,-72 12,-72 12,-72 130.75,-72 130.75,-72 136.75,-72 142.75,-78 142.75,-84 142.75,-84 142.75,-96 142.75,-96 142.75,-102 136.75,-108 130.75,-108\"/>\n",
              "<text text-anchor=\"start\" x=\"8\" y=\"-91.5\" font-family=\"Helvetica,sans-Serif\" font-size=\"10.00\">high content analysis of cells</text>\n",
              "<text text-anchor=\"start\" x=\"35.38\" y=\"-81.5\" font-family=\"Monospace\" font-size=\"10.00\" fill=\"GREY\">uid=x3xSG8Ef</text>\n",
              "</g>\n",
              "<!-- x3xSG8Ef&#45;&gt;ahNepk9H -->\n",
              "<g id=\"edge1\" class=\"edge\">\n",
              "<title>x3xSG8Ef&#45;&gt;ahNepk9H</title>\n",
              "<path fill=\"none\" stroke=\"dimgrey\" d=\"M71.38,-71.7C71.38,-62.88 71.38,-52.03 71.38,-42.47\"/>\n",
              "<polygon fill=\"dimgrey\" stroke=\"dimgrey\" points=\"73.13,-42.62 71.38,-37.62 69.63,-42.62 73.13,-42.62\"/>\n",
              "</g>\n",
              "<!-- CmCvSNxF -->\n",
              "<g id=\"node3\" class=\"node\">\n",
              "<title>CmCvSNxF</title>\n",
              "<path fill=\"honeydew\" stroke=\"#065f46\" d=\"M113.88,-180C113.88,-180 28.88,-180 28.88,-180 22.88,-180 16.88,-174 16.88,-168 16.88,-168 16.88,-156 16.88,-156 16.88,-150 22.88,-144 28.88,-144 28.88,-144 113.88,-144 113.88,-144 119.88,-144 125.88,-150 125.88,-156 125.88,-156 125.88,-168 125.88,-168 125.88,-174 119.88,-180 113.88,-180\"/>\n",
              "<text text-anchor=\"start\" x=\"24.88\" y=\"-163.5\" font-family=\"Helvetica,sans-Serif\" font-size=\"10.00\">experimental process</text>\n",
              "<text text-anchor=\"start\" x=\"35.38\" y=\"-153.5\" font-family=\"Monospace\" font-size=\"10.00\" fill=\"GREY\">uid=CmCvSNxF</text>\n",
              "</g>\n",
              "<!-- CmCvSNxF&#45;&gt;x3xSG8Ef -->\n",
              "<g id=\"edge2\" class=\"edge\">\n",
              "<title>CmCvSNxF&#45;&gt;x3xSG8Ef</title>\n",
              "<path fill=\"none\" stroke=\"dimgrey\" d=\"M71.38,-143.7C71.38,-134.88 71.38,-124.03 71.38,-114.47\"/>\n",
              "<polygon fill=\"dimgrey\" stroke=\"dimgrey\" points=\"73.13,-114.62 71.38,-109.62 69.63,-114.62 73.13,-114.62\"/>\n",
              "</g>\n",
              "<!-- jCuyyR9N -->\n",
              "<g id=\"node4\" class=\"node\">\n",
              "<title>jCuyyR9N</title>\n",
              "<path fill=\"honeydew\" stroke=\"#065f46\" d=\"M103.38,-252C103.38,-252 39.38,-252 39.38,-252 33.37,-252 27.38,-246 27.38,-240 27.38,-240 27.38,-228 27.38,-228 27.38,-222 33.38,-216 39.38,-216 39.38,-216 103.38,-216 103.38,-216 109.38,-216 115.38,-222 115.38,-228 115.38,-228 115.38,-240 115.38,-240 115.38,-246 109.38,-252 103.38,-252\"/>\n",
              "<text text-anchor=\"start\" x=\"35.75\" y=\"-235.5\" font-family=\"Helvetica,sans-Serif\" font-size=\"10.00\">planned process</text>\n",
              "<text text-anchor=\"start\" x=\"35.38\" y=\"-225.5\" font-family=\"Monospace\" font-size=\"10.00\" fill=\"GREY\">uid=jCuyyR9N</text>\n",
              "</g>\n",
              "<!-- jCuyyR9N&#45;&gt;CmCvSNxF -->\n",
              "<g id=\"edge3\" class=\"edge\">\n",
              "<title>jCuyyR9N&#45;&gt;CmCvSNxF</title>\n",
              "<path fill=\"none\" stroke=\"dimgrey\" d=\"M71.38,-215.7C71.38,-206.88 71.38,-196.03 71.38,-186.47\"/>\n",
              "<polygon fill=\"dimgrey\" stroke=\"dimgrey\" points=\"73.13,-186.62 71.38,-181.62 69.63,-186.62 73.13,-186.62\"/>\n",
              "</g>\n",
              "</g>\n",
              "</svg>\n"
            ],
            "text/plain": [
              "<graphviz.graphs.Digraph at 0x2a9031ae0>"
            ]
          },
          "metadata": {},
          "output_type": "display_data"
        }
      ],
      "source": [
        "readout.view_parents(with_children=True)"
      ]
    },
    {
      "cell_type": "markdown",
      "id": "87e8086b",
      "metadata": {},
      "source": [
        "## Register all metadata features"
      ]
    },
    {
      "cell_type": "markdown",
      "id": "c6749204",
      "metadata": {},
      "source": [
        "Here we create a DataFrame with each row as a single image, similar to a link table but with multiple metadata columns:"
      ]
    },
    {
      "cell_type": "code",
      "execution_count": 29,
      "id": "3bdadbd5",
      "metadata": {},
      "outputs": [
        {
          "data": {
            "text/html": [
              "<div>\n",
              "<style scoped>\n",
              "    .dataframe tbody tr th:only-of-type {\n",
              "        vertical-align: middle;\n",
              "    }\n",
              "\n",
              "    .dataframe tbody tr th {\n",
              "        vertical-align: top;\n",
              "    }\n",
              "\n",
              "    .dataframe thead th {\n",
              "        text-align: right;\n",
              "    }\n",
              "</style>\n",
              "<table border=\"1\" class=\"dataframe\">\n",
              "  <thead>\n",
              "    <tr style=\"text-align: right;\">\n",
              "      <th></th>\n",
              "      <th>site_id</th>\n",
              "      <th>well_id</th>\n",
              "      <th>cell_line</th>\n",
              "      <th>split</th>\n",
              "      <th>experiment</th>\n",
              "      <th>plate</th>\n",
              "      <th>well</th>\n",
              "      <th>site</th>\n",
              "      <th>well_type</th>\n",
              "      <th>sirna</th>\n",
              "      <th>sirna_id</th>\n",
              "      <th>path</th>\n",
              "    </tr>\n",
              "  </thead>\n",
              "  <tbody>\n",
              "    <tr>\n",
              "      <th>0</th>\n",
              "      <td>HEPG2-08_1_B02_1</td>\n",
              "      <td>HEPG2-08_1_B02</td>\n",
              "      <td>HEPG2</td>\n",
              "      <td>test</td>\n",
              "      <td>HEPG2-08</td>\n",
              "      <td>1</td>\n",
              "      <td>B02</td>\n",
              "      <td>1</td>\n",
              "      <td>negative_control</td>\n",
              "      <td>EMPTY</td>\n",
              "      <td>1138</td>\n",
              "      <td>images/test/HEPG2-08/Plate1/B02_s1_w1.png</td>\n",
              "    </tr>\n",
              "    <tr>\n",
              "      <th>1</th>\n",
              "      <td>HEPG2-08_1_B02_1</td>\n",
              "      <td>HEPG2-08_1_B02</td>\n",
              "      <td>HEPG2</td>\n",
              "      <td>test</td>\n",
              "      <td>HEPG2-08</td>\n",
              "      <td>1</td>\n",
              "      <td>B02</td>\n",
              "      <td>1</td>\n",
              "      <td>negative_control</td>\n",
              "      <td>EMPTY</td>\n",
              "      <td>1138</td>\n",
              "      <td>images/test/HEPG2-08/Plate1/B02_s1_w2.png</td>\n",
              "    </tr>\n",
              "    <tr>\n",
              "      <th>2</th>\n",
              "      <td>HEPG2-08_1_B02_1</td>\n",
              "      <td>HEPG2-08_1_B02</td>\n",
              "      <td>HEPG2</td>\n",
              "      <td>test</td>\n",
              "      <td>HEPG2-08</td>\n",
              "      <td>1</td>\n",
              "      <td>B02</td>\n",
              "      <td>1</td>\n",
              "      <td>negative_control</td>\n",
              "      <td>EMPTY</td>\n",
              "      <td>1138</td>\n",
              "      <td>images/test/HEPG2-08/Plate1/B02_s1_w3.png</td>\n",
              "    </tr>\n",
              "    <tr>\n",
              "      <th>3</th>\n",
              "      <td>HEPG2-08_1_B02_1</td>\n",
              "      <td>HEPG2-08_1_B02</td>\n",
              "      <td>HEPG2</td>\n",
              "      <td>test</td>\n",
              "      <td>HEPG2-08</td>\n",
              "      <td>1</td>\n",
              "      <td>B02</td>\n",
              "      <td>1</td>\n",
              "      <td>negative_control</td>\n",
              "      <td>EMPTY</td>\n",
              "      <td>1138</td>\n",
              "      <td>images/test/HEPG2-08/Plate1/B02_s1_w4.png</td>\n",
              "    </tr>\n",
              "    <tr>\n",
              "      <th>4</th>\n",
              "      <td>HEPG2-08_1_B02_1</td>\n",
              "      <td>HEPG2-08_1_B02</td>\n",
              "      <td>HEPG2</td>\n",
              "      <td>test</td>\n",
              "      <td>HEPG2-08</td>\n",
              "      <td>1</td>\n",
              "      <td>B02</td>\n",
              "      <td>1</td>\n",
              "      <td>negative_control</td>\n",
              "      <td>EMPTY</td>\n",
              "      <td>1138</td>\n",
              "      <td>images/test/HEPG2-08/Plate1/B02_s1_w5.png</td>\n",
              "    </tr>\n",
              "    <tr>\n",
              "      <th>...</th>\n",
              "      <td>...</td>\n",
              "      <td>...</td>\n",
              "      <td>...</td>\n",
              "      <td>...</td>\n",
              "      <td>...</td>\n",
              "      <td>...</td>\n",
              "      <td>...</td>\n",
              "      <td>...</td>\n",
              "      <td>...</td>\n",
              "      <td>...</td>\n",
              "      <td>...</td>\n",
              "      <td>...</td>\n",
              "    </tr>\n",
              "    <tr>\n",
              "      <th>753055</th>\n",
              "      <td>U2OS-03_4_O23_2</td>\n",
              "      <td>U2OS-03_4_O23</td>\n",
              "      <td>U2OS</td>\n",
              "      <td>train</td>\n",
              "      <td>U2OS-03</td>\n",
              "      <td>4</td>\n",
              "      <td>O23</td>\n",
              "      <td>2</td>\n",
              "      <td>treatment</td>\n",
              "      <td>s21454</td>\n",
              "      <td>509</td>\n",
              "      <td>images/train/U2OS-03/Plate4/O23_s2_w2.png</td>\n",
              "    </tr>\n",
              "    <tr>\n",
              "      <th>753056</th>\n",
              "      <td>U2OS-03_4_O23_2</td>\n",
              "      <td>U2OS-03_4_O23</td>\n",
              "      <td>U2OS</td>\n",
              "      <td>train</td>\n",
              "      <td>U2OS-03</td>\n",
              "      <td>4</td>\n",
              "      <td>O23</td>\n",
              "      <td>2</td>\n",
              "      <td>treatment</td>\n",
              "      <td>s21454</td>\n",
              "      <td>509</td>\n",
              "      <td>images/train/U2OS-03/Plate4/O23_s2_w3.png</td>\n",
              "    </tr>\n",
              "    <tr>\n",
              "      <th>753057</th>\n",
              "      <td>U2OS-03_4_O23_2</td>\n",
              "      <td>U2OS-03_4_O23</td>\n",
              "      <td>U2OS</td>\n",
              "      <td>train</td>\n",
              "      <td>U2OS-03</td>\n",
              "      <td>4</td>\n",
              "      <td>O23</td>\n",
              "      <td>2</td>\n",
              "      <td>treatment</td>\n",
              "      <td>s21454</td>\n",
              "      <td>509</td>\n",
              "      <td>images/train/U2OS-03/Plate4/O23_s2_w4.png</td>\n",
              "    </tr>\n",
              "    <tr>\n",
              "      <th>753058</th>\n",
              "      <td>U2OS-03_4_O23_2</td>\n",
              "      <td>U2OS-03_4_O23</td>\n",
              "      <td>U2OS</td>\n",
              "      <td>train</td>\n",
              "      <td>U2OS-03</td>\n",
              "      <td>4</td>\n",
              "      <td>O23</td>\n",
              "      <td>2</td>\n",
              "      <td>treatment</td>\n",
              "      <td>s21454</td>\n",
              "      <td>509</td>\n",
              "      <td>images/train/U2OS-03/Plate4/O23_s2_w5.png</td>\n",
              "    </tr>\n",
              "    <tr>\n",
              "      <th>753059</th>\n",
              "      <td>U2OS-03_4_O23_2</td>\n",
              "      <td>U2OS-03_4_O23</td>\n",
              "      <td>U2OS</td>\n",
              "      <td>train</td>\n",
              "      <td>U2OS-03</td>\n",
              "      <td>4</td>\n",
              "      <td>O23</td>\n",
              "      <td>2</td>\n",
              "      <td>treatment</td>\n",
              "      <td>s21454</td>\n",
              "      <td>509</td>\n",
              "      <td>images/train/U2OS-03/Plate4/O23_s2_w6.png</td>\n",
              "    </tr>\n",
              "  </tbody>\n",
              "</table>\n",
              "<p>753060 rows × 12 columns</p>\n",
              "</div>"
            ],
            "text/plain": [
              "                 site_id         well_id cell_line  split experiment  plate  \\\n",
              "0       HEPG2-08_1_B02_1  HEPG2-08_1_B02     HEPG2   test   HEPG2-08      1   \n",
              "1       HEPG2-08_1_B02_1  HEPG2-08_1_B02     HEPG2   test   HEPG2-08      1   \n",
              "2       HEPG2-08_1_B02_1  HEPG2-08_1_B02     HEPG2   test   HEPG2-08      1   \n",
              "3       HEPG2-08_1_B02_1  HEPG2-08_1_B02     HEPG2   test   HEPG2-08      1   \n",
              "4       HEPG2-08_1_B02_1  HEPG2-08_1_B02     HEPG2   test   HEPG2-08      1   \n",
              "...                  ...             ...       ...    ...        ...    ...   \n",
              "753055   U2OS-03_4_O23_2   U2OS-03_4_O23      U2OS  train    U2OS-03      4   \n",
              "753056   U2OS-03_4_O23_2   U2OS-03_4_O23      U2OS  train    U2OS-03      4   \n",
              "753057   U2OS-03_4_O23_2   U2OS-03_4_O23      U2OS  train    U2OS-03      4   \n",
              "753058   U2OS-03_4_O23_2   U2OS-03_4_O23      U2OS  train    U2OS-03      4   \n",
              "753059   U2OS-03_4_O23_2   U2OS-03_4_O23      U2OS  train    U2OS-03      4   \n",
              "\n",
              "       well  site         well_type   sirna  sirna_id  \\\n",
              "0       B02     1  negative_control   EMPTY      1138   \n",
              "1       B02     1  negative_control   EMPTY      1138   \n",
              "2       B02     1  negative_control   EMPTY      1138   \n",
              "3       B02     1  negative_control   EMPTY      1138   \n",
              "4       B02     1  negative_control   EMPTY      1138   \n",
              "...     ...   ...               ...     ...       ...   \n",
              "753055  O23     2         treatment  s21454       509   \n",
              "753056  O23     2         treatment  s21454       509   \n",
              "753057  O23     2         treatment  s21454       509   \n",
              "753058  O23     2         treatment  s21454       509   \n",
              "753059  O23     2         treatment  s21454       509   \n",
              "\n",
              "                                             path  \n",
              "0       images/test/HEPG2-08/Plate1/B02_s1_w1.png  \n",
              "1       images/test/HEPG2-08/Plate1/B02_s1_w2.png  \n",
              "2       images/test/HEPG2-08/Plate1/B02_s1_w3.png  \n",
              "3       images/test/HEPG2-08/Plate1/B02_s1_w4.png  \n",
              "4       images/test/HEPG2-08/Plate1/B02_s1_w5.png  \n",
              "...                                           ...  \n",
              "753055  images/train/U2OS-03/Plate4/O23_s2_w2.png  \n",
              "753056  images/train/U2OS-03/Plate4/O23_s2_w3.png  \n",
              "753057  images/train/U2OS-03/Plate4/O23_s2_w4.png  \n",
              "753058  images/train/U2OS-03/Plate4/O23_s2_w5.png  \n",
              "753059  images/train/U2OS-03/Plate4/O23_s2_w6.png  \n",
              "\n",
              "[753060 rows x 12 columns]"
            ]
          },
          "execution_count": 29,
          "metadata": {},
          "output_type": "execute_result"
        }
      ],
      "source": [
        "meta_with_path = meta.copy()\n",
        "keys_list = []\n",
        "for key in meta_with_path[\"paths\"]:\n",
        "    keys = [key.replace(\"w1-w6.png\", f\"w{str(channel)}.png\") for channel in range(1, 7)]\n",
        "    keys_list.append(keys)\n",
        "meta_with_path[\"path\"] = keys_list\n",
        "meta_with_path = meta_with_path.explode(\"path\").reset_index(drop=True)\n",
        "del meta_with_path[\"paths\"]\n",
        "meta_with_path"
      ]
    },
    {
      "cell_type": "markdown",
      "id": "50ddcc64",
      "metadata": {},
      "source": [
        "Here we register all metadata features:"
      ]
    },
    {
      "cell_type": "code",
      "execution_count": 30,
      "id": "6198c6d9",
      "metadata": {},
      "outputs": [],
      "source": [
        "obs_features = ln.Feature.from_df(\n",
        "    meta_with_path[\n",
        "        [\n",
        "            \"cell_line\",\n",
        "            \"split\",\n",
        "            \"experiment\",\n",
        "            \"plate\",\n",
        "            \"well\",\n",
        "            \"well_type\",\n",
        "            \"sirna\",\n",
        "            \"path\",\n",
        "        ]\n",
        "    ]\n",
        ")\n",
        "ln.save(obs_features)"
      ]
    },
    {
      "cell_type": "code",
      "execution_count": 31,
      "id": "5e51cea1",
      "metadata": {},
      "outputs": [
        {
          "data": {
            "text/html": [
              "<div>\n",
              "<style scoped>\n",
              "    .dataframe tbody tr th:only-of-type {\n",
              "        vertical-align: middle;\n",
              "    }\n",
              "\n",
              "    .dataframe tbody tr th {\n",
              "        vertical-align: top;\n",
              "    }\n",
              "\n",
              "    .dataframe thead th {\n",
              "        text-align: right;\n",
              "    }\n",
              "</style>\n",
              "<table border=\"1\" class=\"dataframe\">\n",
              "  <thead>\n",
              "    <tr style=\"text-align: right;\">\n",
              "      <th></th>\n",
              "      <th>uid</th>\n",
              "      <th>name</th>\n",
              "      <th>type</th>\n",
              "      <th>unit</th>\n",
              "      <th>description</th>\n",
              "      <th>registries</th>\n",
              "      <th>synonyms</th>\n",
              "      <th>updated_at</th>\n",
              "      <th>created_by_id</th>\n",
              "    </tr>\n",
              "    <tr>\n",
              "      <th>id</th>\n",
              "      <th></th>\n",
              "      <th></th>\n",
              "      <th></th>\n",
              "      <th></th>\n",
              "      <th></th>\n",
              "      <th></th>\n",
              "      <th></th>\n",
              "      <th></th>\n",
              "      <th></th>\n",
              "    </tr>\n",
              "  </thead>\n",
              "  <tbody>\n",
              "    <tr>\n",
              "      <th>4</th>\n",
              "      <td>QRDI6GPwJXUi</td>\n",
              "      <td>cell_line</td>\n",
              "      <td>category</td>\n",
              "      <td>None</td>\n",
              "      <td>None</td>\n",
              "      <td>bionty.CellLine</td>\n",
              "      <td>None</td>\n",
              "      <td>2023-11-05 17:08:02.833049+00:00</td>\n",
              "      <td>1</td>\n",
              "    </tr>\n",
              "    <tr>\n",
              "      <th>5</th>\n",
              "      <td>7Fu3r6Oqlu54</td>\n",
              "      <td>split</td>\n",
              "      <td>category</td>\n",
              "      <td>None</td>\n",
              "      <td>None</td>\n",
              "      <td>core.ULabel</td>\n",
              "      <td>None</td>\n",
              "      <td>2023-11-05 17:08:04.072217+00:00</td>\n",
              "      <td>1</td>\n",
              "    </tr>\n",
              "    <tr>\n",
              "      <th>6</th>\n",
              "      <td>oJ4yMuWHSyHN</td>\n",
              "      <td>experiment</td>\n",
              "      <td>category</td>\n",
              "      <td>None</td>\n",
              "      <td>None</td>\n",
              "      <td>lamin1.Experiment</td>\n",
              "      <td>None</td>\n",
              "      <td>2023-11-05 17:08:05.213061+00:00</td>\n",
              "      <td>1</td>\n",
              "    </tr>\n",
              "    <tr>\n",
              "      <th>7</th>\n",
              "      <td>kCK1qPgf3koy</td>\n",
              "      <td>plate</td>\n",
              "      <td>number</td>\n",
              "      <td>None</td>\n",
              "      <td>None</td>\n",
              "      <td>core.ULabel</td>\n",
              "      <td>None</td>\n",
              "      <td>2023-11-05 17:08:06.439267+00:00</td>\n",
              "      <td>1</td>\n",
              "    </tr>\n",
              "    <tr>\n",
              "      <th>8</th>\n",
              "      <td>qka3fPyvXUhM</td>\n",
              "      <td>well</td>\n",
              "      <td>category</td>\n",
              "      <td>None</td>\n",
              "      <td>None</td>\n",
              "      <td>lamin1.Well</td>\n",
              "      <td>None</td>\n",
              "      <td>2023-11-05 17:08:07.581034+00:00</td>\n",
              "      <td>1</td>\n",
              "    </tr>\n",
              "    <tr>\n",
              "      <th>10</th>\n",
              "      <td>MeViaVFT7MMO</td>\n",
              "      <td>well_type</td>\n",
              "      <td>category</td>\n",
              "      <td>None</td>\n",
              "      <td>None</td>\n",
              "      <td>core.ULabel</td>\n",
              "      <td>None</td>\n",
              "      <td>2023-11-05 17:08:10.088877+00:00</td>\n",
              "      <td>1</td>\n",
              "    </tr>\n",
              "    <tr>\n",
              "      <th>11</th>\n",
              "      <td>o9daNbNPBP8t</td>\n",
              "      <td>sirna</td>\n",
              "      <td>category</td>\n",
              "      <td>None</td>\n",
              "      <td>None</td>\n",
              "      <td>lamin1.Treatment</td>\n",
              "      <td>None</td>\n",
              "      <td>2023-11-05 17:08:11.289557+00:00</td>\n",
              "      <td>1</td>\n",
              "    </tr>\n",
              "    <tr>\n",
              "      <th>14</th>\n",
              "      <td>Fqt7swNFOXdV</td>\n",
              "      <td>path</td>\n",
              "      <td>object</td>\n",
              "      <td>None</td>\n",
              "      <td>None</td>\n",
              "      <td>None</td>\n",
              "      <td>None</td>\n",
              "      <td>2023-11-05 17:57:28.857915+00:00</td>\n",
              "      <td>1</td>\n",
              "    </tr>\n",
              "    <tr>\n",
              "      <th>1</th>\n",
              "      <td>xjFyZiG6VjzJ</td>\n",
              "      <td>readout</td>\n",
              "      <td>category</td>\n",
              "      <td>None</td>\n",
              "      <td>None</td>\n",
              "      <td>bionty.ExperimentalFactor</td>\n",
              "      <td>None</td>\n",
              "      <td>2023-11-15 05:54:46.044131+00:00</td>\n",
              "      <td>1</td>\n",
              "    </tr>\n",
              "  </tbody>\n",
              "</table>\n",
              "</div>"
            ],
            "text/plain": [
              "             uid        name      type  unit description  \\\n",
              "id                                                         \n",
              "4   QRDI6GPwJXUi   cell_line  category  None        None   \n",
              "5   7Fu3r6Oqlu54       split  category  None        None   \n",
              "6   oJ4yMuWHSyHN  experiment  category  None        None   \n",
              "7   kCK1qPgf3koy       plate    number  None        None   \n",
              "8   qka3fPyvXUhM        well  category  None        None   \n",
              "10  MeViaVFT7MMO   well_type  category  None        None   \n",
              "11  o9daNbNPBP8t       sirna  category  None        None   \n",
              "14  Fqt7swNFOXdV        path    object  None        None   \n",
              "1   xjFyZiG6VjzJ     readout  category  None        None   \n",
              "\n",
              "                   registries synonyms                       updated_at  \\\n",
              "id                                                                        \n",
              "4             bionty.CellLine     None 2023-11-05 17:08:02.833049+00:00   \n",
              "5                 core.ULabel     None 2023-11-05 17:08:04.072217+00:00   \n",
              "6           lamin1.Experiment     None 2023-11-05 17:08:05.213061+00:00   \n",
              "7                 core.ULabel     None 2023-11-05 17:08:06.439267+00:00   \n",
              "8                 lamin1.Well     None 2023-11-05 17:08:07.581034+00:00   \n",
              "10                core.ULabel     None 2023-11-05 17:08:10.088877+00:00   \n",
              "11           lamin1.Treatment     None 2023-11-05 17:08:11.289557+00:00   \n",
              "14                       None     None 2023-11-05 17:57:28.857915+00:00   \n",
              "1   bionty.ExperimentalFactor     None 2023-11-15 05:54:46.044131+00:00   \n",
              "\n",
              "    created_by_id  \n",
              "id                 \n",
              "4               1  \n",
              "5               1  \n",
              "6               1  \n",
              "7               1  \n",
              "8               1  \n",
              "10              1  \n",
              "11              1  \n",
              "14              1  \n",
              "1               1  "
            ]
          },
          "execution_count": 31,
          "metadata": {},
          "output_type": "execute_result"
        }
      ],
      "source": [
        "ln.Feature.filter().df()"
      ]
    },
    {
      "cell_type": "code",
      "execution_count": 32,
      "id": "6c43a7cf",
      "metadata": {},
      "outputs": [],
      "source": [
        "features = ln.Feature.lookup()"
      ]
    },
    {
      "cell_type": "markdown",
      "id": "3823962a",
      "metadata": {},
      "source": [
        "## Register metadata file"
      ]
    },
    {
      "cell_type": "code",
      "execution_count": 33,
      "id": "0b80a2f0",
      "metadata": {},
      "outputs": [
        {
          "name": "stdout",
          "output_type": "stream",
          "text": [
            "❗ \u001b[1;93m4 terms\u001b[0m (33.30%) are not validated for \u001b[3mname\u001b[0m: \u001b[1;93msite_id, well_id, site, sirna_id\u001b[0m\n"
          ]
        }
      ],
      "source": [
        "meta_file = ln.File.from_df(\n",
        "    meta_with_path,\n",
        "    field=ln.Feature.name,\n",
        "    key=\"rxrx1/metadata.parquet\",\n",
        "    description=\"Metadata with file paths for each RxRx1 image.\",\n",
        ")"
      ]
    },
    {
      "cell_type": "code",
      "execution_count": 34,
      "id": "2efaf071",
      "metadata": {},
      "outputs": [
        {
          "name": "stdout",
          "output_type": "stream",
          "text": [
            "... uploading yhJ3uqDZRI4wE7xnoOMz.parquet: 1.00\n",
            "\r"
          ]
        }
      ],
      "source": [
        "meta_file.save()"
      ]
    },
    {
      "cell_type": "markdown",
      "id": "3138c022",
      "metadata": {},
      "source": [
        "Annotate with labels:"
      ]
    },
    {
      "cell_type": "code",
      "execution_count": 35,
      "id": "38f67b1d",
      "metadata": {},
      "outputs": [],
      "source": [
        "cell_lines = lb.CellLine.from_values(meta.cell_line.unique())"
      ]
    },
    {
      "cell_type": "code",
      "execution_count": 36,
      "id": "1b4025ed",
      "metadata": {},
      "outputs": [],
      "source": [
        "# columns\n",
        "meta_file.labels.add(cell_lines, features.cell_line)\n",
        "meta_file.labels.add(train_test, features.split)\n",
        "meta_file.labels.add(experiments, features.experiment)\n",
        "meta_file.labels.add(plates, features.plate)\n",
        "meta_file.labels.add(wells, features.well)\n",
        "meta_file.labels.add(well_types, features.well_type)\n",
        "meta_file.labels.add(sirnas, features.sirna)\n",
        "# external\n",
        "meta_file.labels.add(readout, features.readout)"
      ]
    },
    {
      "cell_type": "code",
      "execution_count": 37,
      "id": "eaad66e1",
      "metadata": {
        "tags": [
          "hide-output"
        ]
      },
      "outputs": [
        {
          "name": "stdout",
          "output_type": "stream",
          "text": [
            "\u001b[1;92mFile\u001b[0m(uid='yhJ3uqDZRI4wE7xnoOMz', key='rxrx1/metadata.parquet', suffix='.parquet', accessor='DataFrame', description='Metadata with file paths for each RxRx1 image.', size=5722206, hash='BzgFQG5HKTIkM7JfEWU-_A', hash_type='md5', visibility=0, key_is_virtual=True, updated_at=2023-11-15 05:54:55 UTC)\n",
            "\n",
            "\u001b[1;92mProvenance\u001b[0m:\n",
            "  🗃️ storage: Storage(uid='DxIABGjc', root='s3://lamindata', type='s3', region='us-east-1', updated_at=2023-11-05 15:57:55 UTC, created_by_id=1)\n",
            "  📔 transform: Transform(uid='Zo0qJt4IQPsbxM', name='Register the RxRx1 dataset', short_name='02-rxrx1', version='1', type='notebook', updated_at=2023-11-15 05:40:06 UTC, initial_version_id=3, created_by_id=1)\n",
            "  👣 run: Run(uid='1wQSEWx8oK23GxLlAIHj', run_at=2023-11-15 05:48:27 UTC, transform_id=4, created_by_id=1)\n",
            "  👤 created_by: User(uid='FBa7SHjn', handle='falexwolf', name='Alex Wolf', updated_at=2023-11-05 14:57:57 UTC)\n",
            "\u001b[1;92mFeatures\u001b[0m:\n",
            "  \u001b[1mcolumns\u001b[0m: FeatureSet(uid='y0uhIW520iTEzrxI14mL', n=8, registry='core.Feature', hash='mnhzsJj-j7VZgNJ88VM0', updated_at=2023-11-05 17:57:58 UTC, created_by_id=1)\n",
            "    🔗 cell_line (4, \u001b[3mbionty.CellLine\u001b[0m): 'HUV-EC-C cell', 'U-2 OS cell', 'hTERT RPE-1 cell', 'Hep G2 cell'\n",
            "    🔗 split (2, \u001b[3mcore.ULabel\u001b[0m): 'test', 'train'\n",
            "    🔗 experiment (51, \u001b[3mlamin1.Experiment\u001b[0m): 'HEPG2-08', 'HEPG2-09', 'HEPG2-10', 'HEPG2-11', 'HUVEC-17', 'HUVEC-18', 'HUVEC-19', 'HUVEC-20', 'HUVEC-21', 'HUVEC-22', ...\n",
            "    plate (number)\n",
            "    🔗 well (308, \u001b[3mlamin1.Well\u001b[0m): 'B02', 'B03', 'B04', 'B05', 'B06', 'B07', 'B08', 'B09', 'B10', 'B11', ...\n",
            "    🔗 well_type (3, \u001b[3mcore.ULabel\u001b[0m): 'negative_control', 'treatment', 'positive_control'\n",
            "    🔗 sirna (1139, \u001b[3mlamin1.Treatment\u001b[0m): 'EMPTY', 's21721', 's20894', 's19827', 's19792', 's19935', 's21398', 's223097', 's348', 's19975', ...\n",
            "    path (object)\n",
            "  \u001b[1mexternal\u001b[0m: FeatureSet(uid='JWcRhQneUEwjkoYnEf59', n=1, registry='core.Feature', hash='AF42DRsoUacKb5l4WgT-', updated_at=2023-11-15 05:55:14 UTC, created_by_id=1)\n",
            "    🔗 readout (1, \u001b[3mbionty.ExperimentalFactor\u001b[0m): 'high content screen'\n",
            "\u001b[1;92mLabels\u001b[0m:\n",
            "  🏷️ experiments (51, \u001b[3mlamin1.Experiment\u001b[0m): 'HEPG2-08', 'HEPG2-09', 'HEPG2-10', 'HEPG2-11', 'HUVEC-17', 'HUVEC-18', 'HUVEC-19', 'HUVEC-20', 'HUVEC-21', 'HUVEC-22', ...\n",
            "  🏷️ wells (308, \u001b[3mlamin1.Well\u001b[0m): 'B02', 'B03', 'B04', 'B05', 'B06', 'B07', 'B08', 'B09', 'B10', 'B11', ...\n",
            "  🏷️ treatments (1139, \u001b[3mlamin1.Treatment\u001b[0m): 'EMPTY', 's21721', 's20894', 's19827', 's19792', 's19935', 's21398', 's223097', 's348', 's19975', ...\n",
            "  🏷️ cell_lines (4, \u001b[3mbionty.CellLine\u001b[0m): 'HUV-EC-C cell', 'U-2 OS cell', 'hTERT RPE-1 cell', 'Hep G2 cell'\n",
            "  🏷️ experimental_factors (1, \u001b[3mbionty.ExperimentalFactor\u001b[0m): 'high content screen'\n",
            "  🏷️ ulabels (9, \u001b[3mcore.ULabel\u001b[0m): 'test', 'train', 'Plate1', 'Plate2', 'Plate3', 'Plate4', 'negative_control', 'treatment', 'positive_control'\n",
            "\n"
          ]
        }
      ],
      "source": [
        "meta_file.describe()"
      ]
    },
    {
      "cell_type": "markdown",
      "id": "b0081037",
      "metadata": {},
      "source": [
        "## Register dataset"
      ]
    },
    {
      "cell_type": "code",
      "execution_count": 38,
      "id": "1b157a68",
      "metadata": {},
      "outputs": [],
      "source": [
        "collection = ln.Collection(\n",
        "    \"gs://rxrx1-europe-west4/images\", name=\"RxRx1 images\", meta=meta_file, version=\"1\"\n",
        ")\n",
        "collection.save()"
      ]
    },
    {
      "cell_type": "code",
      "execution_count": 39,
      "id": "0b6ff9e2",
      "metadata": {},
      "outputs": [],
      "source": [
        "collection.labels.add_from(meta_file)"
      ]
    },
    {
      "cell_type": "code",
      "execution_count": 40,
      "id": "1f236ab8",
      "metadata": {},
      "outputs": [
        {
          "name": "stdout",
          "output_type": "stream",
          "text": [
            "\u001b[1;92mDataset\u001b[0m(uid='flLeukogmLRzleFCpCRD', name='RxRx1 images', version='1', hash='4on4AbbmBL0sr0xe9_gxxQ', visibility=0, updated_at=2023-11-15 05:55:26 UTC)\n",
            "\n",
            "\u001b[1;92mProvenance\u001b[0m:\n",
            "  📄 file: File(uid='flLeukogmLRzleFCpCRD', suffix='.parquet', accessor='DataFrame', description='Metadata with file paths for each RxRx1 image.', size=7806003, hash='4on4AbbmBL0sr0xe9_gxxQ', hash_type='md5', visibility=0, key_is_virtual=True, updated_at=2023-11-15 05:55:25 UTC, storage_id=1, transform_id=3, run_id=2, created_by_id=1)\n",
            "  🗃️ storage: Storage(uid='aLcXXffe', root='gs://rxrx1-europe-west4/images', type='gs', updated_at=2023-11-15 05:55:24 UTC, created_by_id=1)\n",
            "  👤 created_by: User(uid='FBa7SHjn', handle='falexwolf', name='Alex Wolf', updated_at=2023-11-05 14:57:57 UTC)\n",
            "\u001b[1;92mFeatures\u001b[0m:\n",
            "  \u001b[1mcolumns\u001b[0m: FeatureSet(uid='y0uhIW520iTEzrxI14mL', n=8, registry='core.Feature', hash='mnhzsJj-j7VZgNJ88VM0', updated_at=2023-11-05 17:57:58 UTC, created_by_id=1)\n",
            "    🔗 cell_line (4, \u001b[3mbionty.CellLine\u001b[0m): 'HUV-EC-C cell', 'U-2 OS cell', 'hTERT RPE-1 cell', 'Hep G2 cell'\n",
            "    🔗 split (2, \u001b[3mcore.ULabel\u001b[0m): 'test', 'train'\n",
            "    🔗 experiment (51, \u001b[3mlamin1.Experiment\u001b[0m): 'HEPG2-08', 'HEPG2-09', 'HEPG2-10', 'HEPG2-11', 'HUVEC-17', 'HUVEC-18', 'HUVEC-19', 'HUVEC-20', 'HUVEC-21', 'HUVEC-22', ...\n",
            "    plate (number)\n",
            "    🔗 well (308, \u001b[3mlamin1.Well\u001b[0m): 'B02', 'B03', 'B04', 'B05', 'B06', 'B07', 'B08', 'B09', 'B10', 'B11', ...\n",
            "    🔗 well_type (3, \u001b[3mcore.ULabel\u001b[0m): 'negative_control', 'treatment', 'positive_control'\n",
            "    🔗 sirna (1139, \u001b[3mlamin1.Treatment\u001b[0m): 'EMPTY', 's21721', 's20894', 's19827', 's19792', 's19935', 's21398', 's223097', 's348', 's19975', ...\n",
            "    path (object)\n",
            "  \u001b[1mexternal\u001b[0m: FeatureSet(uid='JWcRhQneUEwjkoYnEf59', n=1, registry='core.Feature', hash='AF42DRsoUacKb5l4WgT-', updated_at=2023-11-15 05:55:14 UTC, created_by_id=1)\n",
            "    🔗 readout (1, \u001b[3mbionty.ExperimentalFactor\u001b[0m): 'high content screen'\n",
            "\u001b[1;92mLabels\u001b[0m:\n",
            "  🏷️ experiments (51, \u001b[3mlamin1.Experiment\u001b[0m): 'HEPG2-08', 'HEPG2-09', 'HEPG2-10', 'HEPG2-11', 'HUVEC-17', 'HUVEC-18', 'HUVEC-19', 'HUVEC-20', 'HUVEC-21', 'HUVEC-22', ...\n",
            "  🏷️ wells (308, \u001b[3mlamin1.Well\u001b[0m): 'B02', 'B03', 'B04', 'B05', 'B06', 'B07', 'B08', 'B09', 'B10', 'B11', ...\n",
            "  🏷️ treatments (1139, \u001b[3mlamin1.Treatment\u001b[0m): 'EMPTY', 's21721', 's20894', 's19827', 's19792', 's19935', 's21398', 's223097', 's348', 's19975', ...\n",
            "  🏷️ cell_lines (4, \u001b[3mbionty.CellLine\u001b[0m): 'HUV-EC-C cell', 'U-2 OS cell', 'hTERT RPE-1 cell', 'Hep G2 cell'\n",
            "  🏷️ experimental_factors (1, \u001b[3mbionty.ExperimentalFactor\u001b[0m): 'high content screen'\n",
            "  🏷️ ulabels (9, \u001b[3mcore.ULabel\u001b[0m): 'test', 'train', 'Plate1', 'Plate2', 'Plate3', 'Plate4', 'negative_control', 'treatment', 'positive_control'\n",
            "\n"
          ]
        }
      ],
      "source": [
        "collection.describe()"
      ]
    }
  ],
  "metadata": {
    "kernelspec": {
      "display_name": "Python 3 (ipykernel)",
      "language": "python",
      "name": "python3"
    },
    "language_info": {
      "codemirror_mode": {
        "name": "ipython",
        "version": 3
      },
      "file_extension": ".py",
      "mimetype": "text/x-python",
      "name": "python",
      "nbconvert_exporter": "python",
      "pygments_lexer": "ipython3",
      "version": "3.10.13"
    },
    "nbproject": {
      "id": "Zo0qJt4IQPsb",
      "parent": null,
      "pypackage": null,
      "time_init": "2023-05-12T08:12:15.993422+00:00",
      "user_handle": "giovp",
      "user_id": "eut8h4zv",
      "user_name": null,
      "version": "1"
    }
  },
  "nbformat": 4,
  "nbformat_minor": 5
}
