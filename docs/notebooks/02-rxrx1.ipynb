{
 "cells": [
  {
   "cell_type": "markdown",
   "id": "164627ff",
   "metadata": {},
   "source": [
    "[![](https://img.shields.io/badge/Source%20on%20GitHub-orange)](https://github.com/laminlabs/rxrx-lamin/blob/main/docs/notebooks/02-rxrx1.ipynb)\n",
    "[![lamindata](https://img.shields.io/badge/Source%20%26%20report%20on%20LaminHub-mediumseagreen)](https://lamin.ai/laminlabs/rxrx/record/core/Transform?uid=Zo0qJt4IQPsbxM)"
   ]
  },
  {
   "attachments": {},
   "cell_type": "markdown",
   "id": "82251552-5981-44f1-a7fd-944c59a845de",
   "metadata": {},
   "source": [
    "# Register the RxRx1 dataset"
   ]
  },
  {
   "cell_type": "code",
   "execution_count": 1,
   "id": "0c3efb87",
   "metadata": {},
   "outputs": [
    {
     "name": "stdout",
     "output_type": "stream",
     "text": [
      "💡 found cached instance metadata: /Users/falexwolf/.lamin/instance--testuser1--test-recursion.env\n",
      "💡 loaded instance: testuser1/test-recursion\n",
      "\u001b[0m"
     ]
    }
   ],
   "source": [
    "!lamin load test-recursion"
   ]
  },
  {
   "cell_type": "code",
   "execution_count": 2,
   "id": "d4c819f7",
   "metadata": {},
   "outputs": [],
   "source": [
    "import lamindb as ln\n",
    "import lnschema_bionty as lb\n",
    "import lnschema_lamin1 as ln1"
   ]
  },
  {
   "cell_type": "code",
   "execution_count": 3,
   "id": "ae5f5e0a",
   "metadata": {},
   "outputs": [
    {
     "name": "stdout",
     "output_type": "stream",
     "text": [
      "💡 notebook imports: lamindb==0.63.3 lnschema_bionty==0.31.2 lnschema_lamin1==0.23.2\n",
      "💡 saved: Transform(uid='Zo0qJt4IQPsbxM', name='Register the RxRx1 dataset', short_name='02-rxrx1', version='1', type=notebook, updated_at=2023-12-13 05:30:35 UTC, created_by_id=1)\n",
      "💡 saved: Run(uid='oglppflwzrewbAwcL0Yf', run_at=2023-12-13 05:30:35 UTC, transform_id=2, created_by_id=1)\n"
     ]
    }
   ],
   "source": [
    "ln.track()"
   ]
  },
  {
   "cell_type": "markdown",
   "id": "cfcd84c1",
   "metadata": {},
   "source": [
    "## Load metadata"
   ]
  },
  {
   "cell_type": "markdown",
   "id": "51083bac",
   "metadata": {},
   "source": [
    "Read in the raw metadata of the wells:"
   ]
  },
  {
   "cell_type": "code",
   "execution_count": 4,
   "id": "a20be6b6",
   "metadata": {},
   "outputs": [
    {
     "name": "stdout",
     "output_type": "stream",
     "text": [
      "... downloading metadata.csv: 100.0%\n",
      "\r"
     ]
    },
    {
     "data": {
      "text/plain": [
       "(125510, 11)"
      ]
     },
     "execution_count": 4,
     "metadata": {},
     "output_type": "execute_result"
    }
   ],
   "source": [
    "meta = ln.Artifact.filter(key=\"rxrx1/metadata.csv\").one().load()\n",
    "meta.shape"
   ]
  },
  {
   "cell_type": "code",
   "execution_count": 5,
   "id": "573d7ff5",
   "metadata": {},
   "outputs": [
    {
     "data": {
      "text/html": [
       "<div>\n",
       "<style scoped>\n",
       "    .dataframe tbody tr th:only-of-type {\n",
       "        vertical-align: middle;\n",
       "    }\n",
       "\n",
       "    .dataframe tbody tr th {\n",
       "        vertical-align: top;\n",
       "    }\n",
       "\n",
       "    .dataframe thead th {\n",
       "        text-align: right;\n",
       "    }\n",
       "</style>\n",
       "<table border=\"1\" class=\"dataframe\">\n",
       "  <thead>\n",
       "    <tr style=\"text-align: right;\">\n",
       "      <th></th>\n",
       "      <th>site_id</th>\n",
       "      <th>well_id</th>\n",
       "      <th>cell_type</th>\n",
       "      <th>dataset</th>\n",
       "      <th>experiment</th>\n",
       "      <th>plate</th>\n",
       "      <th>well</th>\n",
       "      <th>site</th>\n",
       "      <th>well_type</th>\n",
       "      <th>sirna</th>\n",
       "      <th>sirna_id</th>\n",
       "    </tr>\n",
       "  </thead>\n",
       "  <tbody>\n",
       "    <tr>\n",
       "      <th>0</th>\n",
       "      <td>HEPG2-08_1_B02_1</td>\n",
       "      <td>HEPG2-08_1_B02</td>\n",
       "      <td>HEPG2</td>\n",
       "      <td>test</td>\n",
       "      <td>HEPG2-08</td>\n",
       "      <td>1</td>\n",
       "      <td>B02</td>\n",
       "      <td>1</td>\n",
       "      <td>negative_control</td>\n",
       "      <td>EMPTY</td>\n",
       "      <td>1138</td>\n",
       "    </tr>\n",
       "    <tr>\n",
       "      <th>1</th>\n",
       "      <td>HEPG2-08_1_B02_2</td>\n",
       "      <td>HEPG2-08_1_B02</td>\n",
       "      <td>HEPG2</td>\n",
       "      <td>test</td>\n",
       "      <td>HEPG2-08</td>\n",
       "      <td>1</td>\n",
       "      <td>B02</td>\n",
       "      <td>2</td>\n",
       "      <td>negative_control</td>\n",
       "      <td>EMPTY</td>\n",
       "      <td>1138</td>\n",
       "    </tr>\n",
       "    <tr>\n",
       "      <th>2</th>\n",
       "      <td>HEPG2-08_1_B03_1</td>\n",
       "      <td>HEPG2-08_1_B03</td>\n",
       "      <td>HEPG2</td>\n",
       "      <td>test</td>\n",
       "      <td>HEPG2-08</td>\n",
       "      <td>1</td>\n",
       "      <td>B03</td>\n",
       "      <td>1</td>\n",
       "      <td>treatment</td>\n",
       "      <td>s21721</td>\n",
       "      <td>855</td>\n",
       "    </tr>\n",
       "    <tr>\n",
       "      <th>3</th>\n",
       "      <td>HEPG2-08_1_B03_2</td>\n",
       "      <td>HEPG2-08_1_B03</td>\n",
       "      <td>HEPG2</td>\n",
       "      <td>test</td>\n",
       "      <td>HEPG2-08</td>\n",
       "      <td>1</td>\n",
       "      <td>B03</td>\n",
       "      <td>2</td>\n",
       "      <td>treatment</td>\n",
       "      <td>s21721</td>\n",
       "      <td>855</td>\n",
       "    </tr>\n",
       "    <tr>\n",
       "      <th>4</th>\n",
       "      <td>HEPG2-08_1_B04_1</td>\n",
       "      <td>HEPG2-08_1_B04</td>\n",
       "      <td>HEPG2</td>\n",
       "      <td>test</td>\n",
       "      <td>HEPG2-08</td>\n",
       "      <td>1</td>\n",
       "      <td>B04</td>\n",
       "      <td>1</td>\n",
       "      <td>treatment</td>\n",
       "      <td>s20894</td>\n",
       "      <td>710</td>\n",
       "    </tr>\n",
       "  </tbody>\n",
       "</table>\n",
       "</div>"
      ],
      "text/plain": [
       "            site_id         well_id cell_type dataset experiment  plate well  \\\n",
       "0  HEPG2-08_1_B02_1  HEPG2-08_1_B02     HEPG2    test   HEPG2-08      1  B02   \n",
       "1  HEPG2-08_1_B02_2  HEPG2-08_1_B02     HEPG2    test   HEPG2-08      1  B02   \n",
       "2  HEPG2-08_1_B03_1  HEPG2-08_1_B03     HEPG2    test   HEPG2-08      1  B03   \n",
       "3  HEPG2-08_1_B03_2  HEPG2-08_1_B03     HEPG2    test   HEPG2-08      1  B03   \n",
       "4  HEPG2-08_1_B04_1  HEPG2-08_1_B04     HEPG2    test   HEPG2-08      1  B04   \n",
       "\n",
       "   site         well_type   sirna  sirna_id  \n",
       "0     1  negative_control   EMPTY      1138  \n",
       "1     2  negative_control   EMPTY      1138  \n",
       "2     1         treatment  s21721       855  \n",
       "3     2         treatment  s21721       855  \n",
       "4     1         treatment  s20894       710  "
      ]
     },
     "execution_count": 5,
     "metadata": {},
     "output_type": "execute_result"
    }
   ],
   "source": [
    "meta.head(5)"
   ]
  },
  {
   "cell_type": "markdown",
   "id": "25153ef1",
   "metadata": {},
   "source": [
    "It seems that the column storing cell lines is erroneously called `cell_type`. \n",
    "\n",
    "Also `dataset` refers to something that's typicalled called `split`.\n",
    "\n",
    "Let's rename it: "
   ]
  },
  {
   "cell_type": "code",
   "execution_count": 6,
   "id": "71c19013",
   "metadata": {},
   "outputs": [],
   "source": [
    "meta.rename({\"cell_type\": \"cell_line\", \"dataset\": \"split\"}, axis=1, inplace=True)\n",
    "meta.head(5)"
   ]
  },
  {
   "cell_type": "markdown",
   "id": "d3544249",
   "metadata": {},
   "source": [
    "Add a `paths` column - this is an aggregate over 6 paths for 6 channels. We'll deconvolute further down:"
   ]
  },
  {
   "cell_type": "code",
   "execution_count": 7,
   "id": "440f91c0",
   "metadata": {},
   "outputs": [],
   "source": [
    "paths = []\n",
    "for _, row in meta.iterrows():\n",
    "    well = row.well\n",
    "    site = row.site\n",
    "    paths.append(\n",
    "        f\"images/{row.split}/{row.experiment}/Plate{row.plate}/{well}_s{site}_w1-w6.png\"\n",
    "    )\n",
    "meta[\"paths\"] = paths"
   ]
  },
  {
   "cell_type": "code",
   "execution_count": 8,
   "id": "d6375cb5",
   "metadata": {},
   "outputs": [
    {
     "data": {
      "text/html": [
       "<div>\n",
       "<style scoped>\n",
       "    .dataframe tbody tr th:only-of-type {\n",
       "        vertical-align: middle;\n",
       "    }\n",
       "\n",
       "    .dataframe tbody tr th {\n",
       "        vertical-align: top;\n",
       "    }\n",
       "\n",
       "    .dataframe thead th {\n",
       "        text-align: right;\n",
       "    }\n",
       "</style>\n",
       "<table border=\"1\" class=\"dataframe\">\n",
       "  <thead>\n",
       "    <tr style=\"text-align: right;\">\n",
       "      <th></th>\n",
       "      <th>site_id</th>\n",
       "      <th>well_id</th>\n",
       "      <th>cell_line</th>\n",
       "      <th>split</th>\n",
       "      <th>experiment</th>\n",
       "      <th>plate</th>\n",
       "      <th>well</th>\n",
       "      <th>site</th>\n",
       "      <th>well_type</th>\n",
       "      <th>sirna</th>\n",
       "      <th>sirna_id</th>\n",
       "      <th>paths</th>\n",
       "    </tr>\n",
       "  </thead>\n",
       "  <tbody>\n",
       "    <tr>\n",
       "      <th>0</th>\n",
       "      <td>HEPG2-08_1_B02_1</td>\n",
       "      <td>HEPG2-08_1_B02</td>\n",
       "      <td>HEPG2</td>\n",
       "      <td>test</td>\n",
       "      <td>HEPG2-08</td>\n",
       "      <td>1</td>\n",
       "      <td>B02</td>\n",
       "      <td>1</td>\n",
       "      <td>negative_control</td>\n",
       "      <td>EMPTY</td>\n",
       "      <td>1138</td>\n",
       "      <td>images/test/HEPG2-08/Plate1/B02_s1_w1-w6.png</td>\n",
       "    </tr>\n",
       "    <tr>\n",
       "      <th>1</th>\n",
       "      <td>HEPG2-08_1_B02_2</td>\n",
       "      <td>HEPG2-08_1_B02</td>\n",
       "      <td>HEPG2</td>\n",
       "      <td>test</td>\n",
       "      <td>HEPG2-08</td>\n",
       "      <td>1</td>\n",
       "      <td>B02</td>\n",
       "      <td>2</td>\n",
       "      <td>negative_control</td>\n",
       "      <td>EMPTY</td>\n",
       "      <td>1138</td>\n",
       "      <td>images/test/HEPG2-08/Plate1/B02_s2_w1-w6.png</td>\n",
       "    </tr>\n",
       "  </tbody>\n",
       "</table>\n",
       "</div>"
      ],
      "text/plain": [
       "            site_id         well_id cell_line split experiment  plate well  \\\n",
       "0  HEPG2-08_1_B02_1  HEPG2-08_1_B02     HEPG2  test   HEPG2-08      1  B02   \n",
       "1  HEPG2-08_1_B02_2  HEPG2-08_1_B02     HEPG2  test   HEPG2-08      1  B02   \n",
       "\n",
       "   site         well_type  sirna  sirna_id  \\\n",
       "0     1  negative_control  EMPTY      1138   \n",
       "1     2  negative_control  EMPTY      1138   \n",
       "\n",
       "                                          paths  \n",
       "0  images/test/HEPG2-08/Plate1/B02_s1_w1-w6.png  \n",
       "1  images/test/HEPG2-08/Plate1/B02_s2_w1-w6.png  "
      ]
     },
     "execution_count": 8,
     "metadata": {},
     "output_type": "execute_result"
    }
   ],
   "source": [
    "meta.head(2)"
   ]
  },
  {
   "attachments": {},
   "cell_type": "markdown",
   "id": "efca351e-a3ef-4550-8c59-a3dc0141dd88",
   "metadata": {},
   "source": [
    "## Validate and register metadata"
   ]
  },
  {
   "cell_type": "markdown",
   "id": "d0a2f4a2",
   "metadata": {},
   "source": [
    "### `cell_line`"
   ]
  },
  {
   "attachments": {},
   "cell_type": "markdown",
   "id": "d255e3b6-dfbd-4319-bebe-6dc1baf11215",
   "metadata": {},
   "source": [
    "We can start with curating the metadata table based on the ontologies from bionty. For example, let's start with the `cell_line` metadata.\n",
    "In this table, they are called \"cell_type\" but they are in fact the cell line for the experiments"
   ]
  },
  {
   "cell_type": "code",
   "execution_count": 9,
   "id": "37d9bb21-b6b9-4915-8b68-365f11fde979",
   "metadata": {
    "tags": []
   },
   "outputs": [
    {
     "data": {
      "text/plain": [
       "array(['HEPG2', 'HUVEC', 'RPE', 'U2OS'], dtype=object)"
      ]
     },
     "execution_count": 9,
     "metadata": {},
     "output_type": "execute_result"
    }
   ],
   "source": [
    "meta[\"cell_line\"].unique()"
   ]
  },
  {
   "cell_type": "code",
   "execution_count": 10,
   "id": "030e7b02",
   "metadata": {},
   "outputs": [],
   "source": [
    "cell_lines = lb.CellLine.from_values(meta[\"cell_line\"])"
   ]
  },
  {
   "cell_type": "code",
   "execution_count": 11,
   "id": "ef0f3709",
   "metadata": {
    "tags": [
     "hide-output"
    ]
   },
   "outputs": [
    {
     "name": "stdout",
     "output_type": "stream",
     "text": [
      "❗ now recursing through parents: this only happens once, but is much slower than bulk saving\n"
     ]
    }
   ],
   "source": [
    "ln.save(cell_lines)"
   ]
  },
  {
   "cell_type": "markdown",
   "id": "470dc1e5",
   "metadata": {},
   "source": [
    "Define abbreviation:"
   ]
  },
  {
   "cell_type": "code",
   "execution_count": 12,
   "id": "90f3fb40",
   "metadata": {
    "tags": [
     "hide-output"
    ]
   },
   "outputs": [
    {
     "data": {
      "text/html": [
       "<div>\n",
       "<style scoped>\n",
       "    .dataframe tbody tr th:only-of-type {\n",
       "        vertical-align: middle;\n",
       "    }\n",
       "\n",
       "    .dataframe tbody tr th {\n",
       "        vertical-align: top;\n",
       "    }\n",
       "\n",
       "    .dataframe thead th {\n",
       "        text-align: right;\n",
       "    }\n",
       "</style>\n",
       "<table border=\"1\" class=\"dataframe\">\n",
       "  <thead>\n",
       "    <tr style=\"text-align: right;\">\n",
       "      <th></th>\n",
       "      <th>uid</th>\n",
       "      <th>name</th>\n",
       "      <th>ontology_id</th>\n",
       "      <th>abbr</th>\n",
       "      <th>synonyms</th>\n",
       "      <th>description</th>\n",
       "      <th>bionty_source_id</th>\n",
       "      <th>updated_at</th>\n",
       "      <th>created_by_id</th>\n",
       "    </tr>\n",
       "    <tr>\n",
       "      <th>id</th>\n",
       "      <th></th>\n",
       "      <th></th>\n",
       "      <th></th>\n",
       "      <th></th>\n",
       "      <th></th>\n",
       "      <th></th>\n",
       "      <th></th>\n",
       "      <th></th>\n",
       "      <th></th>\n",
       "    </tr>\n",
       "  </thead>\n",
       "  <tbody>\n",
       "    <tr>\n",
       "      <th>1</th>\n",
       "      <td>AkJL1qhy</td>\n",
       "      <td>Hep G2 cell</td>\n",
       "      <td>CLO:0003704</td>\n",
       "      <td>HEPG2</td>\n",
       "      <td>HEP-G2|HEPG2|Hep G2|HEP G2|HepG2</td>\n",
       "      <td>None</td>\n",
       "      <td>20</td>\n",
       "      <td>2023-12-13 05:32:20.095919+00:00</td>\n",
       "      <td>1</td>\n",
       "    </tr>\n",
       "    <tr>\n",
       "      <th>2</th>\n",
       "      <td>a3uzySL7</td>\n",
       "      <td>HUV-EC-C cell</td>\n",
       "      <td>CLO:0004307</td>\n",
       "      <td>HUVEC</td>\n",
       "      <td>HUVEC|HUV-EC-C</td>\n",
       "      <td>None</td>\n",
       "      <td>20</td>\n",
       "      <td>2023-12-13 05:32:20.079050+00:00</td>\n",
       "      <td>1</td>\n",
       "    </tr>\n",
       "    <tr>\n",
       "      <th>3</th>\n",
       "      <td>KQYkiVUX</td>\n",
       "      <td>hTERT RPE-1 cell</td>\n",
       "      <td>CLO:0004290</td>\n",
       "      <td>RPE</td>\n",
       "      <td>RPE|RPE-1|hTERT RPE-1|RPE1</td>\n",
       "      <td>disease: pigmented epithelium; immortalized   ...</td>\n",
       "      <td>20</td>\n",
       "      <td>2023-12-13 05:32:20.091141+00:00</td>\n",
       "      <td>1</td>\n",
       "    </tr>\n",
       "    <tr>\n",
       "      <th>4</th>\n",
       "      <td>9dcEG64P</td>\n",
       "      <td>U-2 OS cell</td>\n",
       "      <td>CLO:0009454</td>\n",
       "      <td>U2OS</td>\n",
       "      <td>U2OS|U-2 OS</td>\n",
       "      <td>None</td>\n",
       "      <td>20</td>\n",
       "      <td>2023-12-13 05:32:20.085632+00:00</td>\n",
       "      <td>1</td>\n",
       "    </tr>\n",
       "    <tr>\n",
       "      <th>5</th>\n",
       "      <td>br5GPP6q</td>\n",
       "      <td>immortal human liver-derived cell line cell</td>\n",
       "      <td>CLO:0000565</td>\n",
       "      <td>None</td>\n",
       "      <td>None</td>\n",
       "      <td>An immortal liver-derived cell line cell that ...</td>\n",
       "      <td>20</td>\n",
       "      <td>2023-12-13 05:31:54.702068+00:00</td>\n",
       "      <td>1</td>\n",
       "    </tr>\n",
       "    <tr>\n",
       "      <th>6</th>\n",
       "      <td>XPqCzHAi</td>\n",
       "      <td>immortal liver-derived cell line cell</td>\n",
       "      <td>CLO:0000235</td>\n",
       "      <td>None</td>\n",
       "      <td>None</td>\n",
       "      <td>An immortal cell line cell that derives from l...</td>\n",
       "      <td>20</td>\n",
       "      <td>2023-12-13 05:31:56.001185+00:00</td>\n",
       "      <td>1</td>\n",
       "    </tr>\n",
       "    <tr>\n",
       "      <th>7</th>\n",
       "      <td>0mXEmtun</td>\n",
       "      <td>immortal cell line cell</td>\n",
       "      <td>CLO:0000019</td>\n",
       "      <td>None</td>\n",
       "      <td>continuous cell line cell|permanent cell line ...</td>\n",
       "      <td>A cell line cell that is expected to be capabl...</td>\n",
       "      <td>20</td>\n",
       "      <td>2023-12-13 05:31:57.339541+00:00</td>\n",
       "      <td>1</td>\n",
       "    </tr>\n",
       "    <tr>\n",
       "      <th>8</th>\n",
       "      <td>iaqgKEYY</td>\n",
       "      <td>cell line cell</td>\n",
       "      <td>CLO:0000001</td>\n",
       "      <td>None</td>\n",
       "      <td>None</td>\n",
       "      <td>A cultured cell that is part of a cell line - ...</td>\n",
       "      <td>20</td>\n",
       "      <td>2023-12-13 05:31:58.561840+00:00</td>\n",
       "      <td>1</td>\n",
       "    </tr>\n",
       "    <tr>\n",
       "      <th>9</th>\n",
       "      <td>CkFSX9KW</td>\n",
       "      <td>immortal human vasculature-derived endothelial...</td>\n",
       "      <td>CLO:0037232</td>\n",
       "      <td>None</td>\n",
       "      <td>None</td>\n",
       "      <td>An immortal vasculature-derived cell line cell...</td>\n",
       "      <td>20</td>\n",
       "      <td>2023-12-13 05:31:59.894975+00:00</td>\n",
       "      <td>1</td>\n",
       "    </tr>\n",
       "    <tr>\n",
       "      <th>10</th>\n",
       "      <td>QrS3iIgW</td>\n",
       "      <td>immortal vasculature-derived cell line cell</td>\n",
       "      <td>CLO:0000208</td>\n",
       "      <td>None</td>\n",
       "      <td>None</td>\n",
       "      <td>An immortal cell line cell that derives from v...</td>\n",
       "      <td>20</td>\n",
       "      <td>2023-12-13 05:32:01.130858+00:00</td>\n",
       "      <td>1</td>\n",
       "    </tr>\n",
       "    <tr>\n",
       "      <th>11</th>\n",
       "      <td>DuJQ6bfB</td>\n",
       "      <td>immortal human vasculature-derived cell line cell</td>\n",
       "      <td>CLO:0000853</td>\n",
       "      <td>None</td>\n",
       "      <td>None</td>\n",
       "      <td>An immortal vasculature-derived cell line cell...</td>\n",
       "      <td>20</td>\n",
       "      <td>2023-12-13 05:32:01.130882+00:00</td>\n",
       "      <td>1</td>\n",
       "    </tr>\n",
       "    <tr>\n",
       "      <th>12</th>\n",
       "      <td>TN6tllJM</td>\n",
       "      <td>immortal human eye-derived cell line cell</td>\n",
       "      <td>CLO:0000876</td>\n",
       "      <td>None</td>\n",
       "      <td>None</td>\n",
       "      <td>An immortal eye-derived cell line cell that de...</td>\n",
       "      <td>20</td>\n",
       "      <td>2023-12-13 05:32:02.481006+00:00</td>\n",
       "      <td>1</td>\n",
       "    </tr>\n",
       "    <tr>\n",
       "      <th>13</th>\n",
       "      <td>myWpIoSa</td>\n",
       "      <td>immortal eye-derived cell line cell</td>\n",
       "      <td>CLO:0000271</td>\n",
       "      <td>None</td>\n",
       "      <td>None</td>\n",
       "      <td>An immortal cell line cell that derives from eye.</td>\n",
       "      <td>20</td>\n",
       "      <td>2023-12-13 05:32:03.735692+00:00</td>\n",
       "      <td>1</td>\n",
       "    </tr>\n",
       "    <tr>\n",
       "      <th>14</th>\n",
       "      <td>wWJp03Cz</td>\n",
       "      <td>immortal human bone element-derived epithelial...</td>\n",
       "      <td>CLO:0037233</td>\n",
       "      <td>None</td>\n",
       "      <td>None</td>\n",
       "      <td>An immortal bone element-derived cell line cel...</td>\n",
       "      <td>20</td>\n",
       "      <td>2023-12-13 05:32:05.074083+00:00</td>\n",
       "      <td>1</td>\n",
       "    </tr>\n",
       "    <tr>\n",
       "      <th>15</th>\n",
       "      <td>dMdxE7yc</td>\n",
       "      <td>immortal human bone element-derived cell line ...</td>\n",
       "      <td>CLO:0000560</td>\n",
       "      <td>None</td>\n",
       "      <td>None</td>\n",
       "      <td>An immortal bone element-derived cell line cel...</td>\n",
       "      <td>20</td>\n",
       "      <td>2023-12-13 05:32:06.286340+00:00</td>\n",
       "      <td>1</td>\n",
       "    </tr>\n",
       "    <tr>\n",
       "      <th>16</th>\n",
       "      <td>IBOm04Tv</td>\n",
       "      <td>immortal bone element-derived cell line cell</td>\n",
       "      <td>CLO:0000253</td>\n",
       "      <td>None</td>\n",
       "      <td>None</td>\n",
       "      <td>An immortal cell line cell that derives from b...</td>\n",
       "      <td>20</td>\n",
       "      <td>2023-12-13 05:32:06.286362+00:00</td>\n",
       "      <td>1</td>\n",
       "    </tr>\n",
       "  </tbody>\n",
       "</table>\n",
       "</div>"
      ],
      "text/plain": [
       "         uid                                               name  ontology_id  \\\n",
       "id                                                                             \n",
       "1   AkJL1qhy                                        Hep G2 cell  CLO:0003704   \n",
       "2   a3uzySL7                                      HUV-EC-C cell  CLO:0004307   \n",
       "3   KQYkiVUX                                   hTERT RPE-1 cell  CLO:0004290   \n",
       "4   9dcEG64P                                        U-2 OS cell  CLO:0009454   \n",
       "5   br5GPP6q        immortal human liver-derived cell line cell  CLO:0000565   \n",
       "6   XPqCzHAi              immortal liver-derived cell line cell  CLO:0000235   \n",
       "7   0mXEmtun                            immortal cell line cell  CLO:0000019   \n",
       "8   iaqgKEYY                                     cell line cell  CLO:0000001   \n",
       "9   CkFSX9KW  immortal human vasculature-derived endothelial...  CLO:0037232   \n",
       "10  QrS3iIgW        immortal vasculature-derived cell line cell  CLO:0000208   \n",
       "11  DuJQ6bfB  immortal human vasculature-derived cell line cell  CLO:0000853   \n",
       "12  TN6tllJM          immortal human eye-derived cell line cell  CLO:0000876   \n",
       "13  myWpIoSa                immortal eye-derived cell line cell  CLO:0000271   \n",
       "14  wWJp03Cz  immortal human bone element-derived epithelial...  CLO:0037233   \n",
       "15  dMdxE7yc  immortal human bone element-derived cell line ...  CLO:0000560   \n",
       "16  IBOm04Tv       immortal bone element-derived cell line cell  CLO:0000253   \n",
       "\n",
       "     abbr                                           synonyms  \\\n",
       "id                                                             \n",
       "1   HEPG2                   HEP-G2|HEPG2|Hep G2|HEP G2|HepG2   \n",
       "2   HUVEC                                     HUVEC|HUV-EC-C   \n",
       "3     RPE                         RPE|RPE-1|hTERT RPE-1|RPE1   \n",
       "4    U2OS                                        U2OS|U-2 OS   \n",
       "5    None                                               None   \n",
       "6    None                                               None   \n",
       "7    None  continuous cell line cell|permanent cell line ...   \n",
       "8    None                                               None   \n",
       "9    None                                               None   \n",
       "10   None                                               None   \n",
       "11   None                                               None   \n",
       "12   None                                               None   \n",
       "13   None                                               None   \n",
       "14   None                                               None   \n",
       "15   None                                               None   \n",
       "16   None                                               None   \n",
       "\n",
       "                                          description  bionty_source_id  \\\n",
       "id                                                                        \n",
       "1                                                None                20   \n",
       "2                                                None                20   \n",
       "3   disease: pigmented epithelium; immortalized   ...                20   \n",
       "4                                                None                20   \n",
       "5   An immortal liver-derived cell line cell that ...                20   \n",
       "6   An immortal cell line cell that derives from l...                20   \n",
       "7   A cell line cell that is expected to be capabl...                20   \n",
       "8   A cultured cell that is part of a cell line - ...                20   \n",
       "9   An immortal vasculature-derived cell line cell...                20   \n",
       "10  An immortal cell line cell that derives from v...                20   \n",
       "11  An immortal vasculature-derived cell line cell...                20   \n",
       "12  An immortal eye-derived cell line cell that de...                20   \n",
       "13  An immortal cell line cell that derives from eye.                20   \n",
       "14  An immortal bone element-derived cell line cel...                20   \n",
       "15  An immortal bone element-derived cell line cel...                20   \n",
       "16  An immortal cell line cell that derives from b...                20   \n",
       "\n",
       "                         updated_at  created_by_id  \n",
       "id                                                  \n",
       "1  2023-12-13 05:32:20.095919+00:00              1  \n",
       "2  2023-12-13 05:32:20.079050+00:00              1  \n",
       "3  2023-12-13 05:32:20.091141+00:00              1  \n",
       "4  2023-12-13 05:32:20.085632+00:00              1  \n",
       "5  2023-12-13 05:31:54.702068+00:00              1  \n",
       "6  2023-12-13 05:31:56.001185+00:00              1  \n",
       "7  2023-12-13 05:31:57.339541+00:00              1  \n",
       "8  2023-12-13 05:31:58.561840+00:00              1  \n",
       "9  2023-12-13 05:31:59.894975+00:00              1  \n",
       "10 2023-12-13 05:32:01.130858+00:00              1  \n",
       "11 2023-12-13 05:32:01.130882+00:00              1  \n",
       "12 2023-12-13 05:32:02.481006+00:00              1  \n",
       "13 2023-12-13 05:32:03.735692+00:00              1  \n",
       "14 2023-12-13 05:32:05.074083+00:00              1  \n",
       "15 2023-12-13 05:32:06.286340+00:00              1  \n",
       "16 2023-12-13 05:32:06.286362+00:00              1  "
      ]
     },
     "execution_count": 12,
     "metadata": {},
     "output_type": "execute_result"
    }
   ],
   "source": [
    "lb.CellLine.filter(uid=\"a3uzySL7\").one().set_abbr(\"HUVEC\")\n",
    "lb.CellLine.filter(uid=\"9dcEG64P\").one().set_abbr(\"U2OS\")\n",
    "lb.CellLine.filter(uid=\"KQYkiVUX\").one().set_abbr(\"RPE\")\n",
    "lb.CellLine.filter(uid=\"AkJL1qhy\").one().set_abbr(\"HEPG2\")\n",
    "lb.CellLine.df()"
   ]
  },
  {
   "cell_type": "code",
   "execution_count": 13,
   "id": "553b9d56",
   "metadata": {
    "tags": [
     "hide-output"
    ]
   },
   "outputs": [
    {
     "data": {
      "image/svg+xml": [
       "<?xml version=\"1.0\" encoding=\"UTF-8\" standalone=\"no\"?>\n",
       "<!DOCTYPE svg PUBLIC \"-//W3C//DTD SVG 1.1//EN\"\n",
       " \"http://www.w3.org/Graphics/SVG/1.1/DTD/svg11.dtd\">\n",
       "<!-- Generated by graphviz version 9.0.0 (20230911.1827)\n",
       " -->\n",
       "<!-- Title: a3uzySL7 Pages: 1 -->\n",
       "<svg width=\"332pt\" height=\"404pt\"\n",
       " viewBox=\"0.00 0.00 332.38 404.00\" xmlns=\"http://www.w3.org/2000/svg\" xmlns:xlink=\"http://www.w3.org/1999/xlink\">\n",
       "<g id=\"graph0\" class=\"graph\" transform=\"scale(1 1) rotate(0) translate(4 400)\">\n",
       "<title>a3uzySL7</title>\n",
       "<polygon fill=\"white\" stroke=\"none\" points=\"-4,4 -4,-400 328.38,-400 328.38,4 -4,4\"/>\n",
       "<!-- a3uzySL7 -->\n",
       "<g id=\"node1\" class=\"node\">\n",
       "<title>a3uzySL7</title>\n",
       "<path fill=\"#10b981\" stroke=\"#065f46\" d=\"M171.62,-36C171.62,-36 107.62,-36 107.62,-36 101.62,-36 95.62,-30 95.62,-24 95.62,-24 95.62,-12 95.62,-12 95.62,-6 101.62,0 107.62,0 107.62,0 171.62,0 171.62,0 177.62,0 183.62,-6 183.62,-12 183.62,-12 183.62,-24 183.62,-24 183.62,-30 177.62,-36 171.62,-36\"/>\n",
       "<text text-anchor=\"start\" x=\"105.88\" y=\"-19.5\" font-family=\"Helvetica,sans-Serif\" font-size=\"10.00\">HUV&#45;EC&#45;C cell</text>\n",
       "<text text-anchor=\"start\" x=\"103.62\" y=\"-9.5\" font-family=\"Monospace\" font-size=\"10.00\" fill=\"GREY\">uid=a3uzySL7</text>\n",
       "</g>\n",
       "<!-- CkFSX9KW -->\n",
       "<g id=\"node2\" class=\"node\">\n",
       "<title>CkFSX9KW</title>\n",
       "<path fill=\"honeydew\" stroke=\"#065f46\" d=\"M267.25,-108C267.25,-108 12,-108 12,-108 6,-108 0,-102 0,-96 0,-96 0,-84 0,-84 0,-78 6,-72 12,-72 12,-72 267.25,-72 267.25,-72 273.25,-72 279.25,-78 279.25,-84 279.25,-84 279.25,-96 279.25,-96 279.25,-102 273.25,-108 267.25,-108\"/>\n",
       "<text text-anchor=\"start\" x=\"8\" y=\"-91.5\" font-family=\"Helvetica,sans-Serif\" font-size=\"10.00\">immortal human vasculature&#45;derived endothelial cell line cell&#39;</text>\n",
       "<text text-anchor=\"start\" x=\"103.62\" y=\"-81.5\" font-family=\"Monospace\" font-size=\"10.00\" fill=\"GREY\">uid=CkFSX9KW</text>\n",
       "</g>\n",
       "<!-- CkFSX9KW&#45;&gt;a3uzySL7 -->\n",
       "<g id=\"edge1\" class=\"edge\">\n",
       "<title>CkFSX9KW&#45;&gt;a3uzySL7</title>\n",
       "<path fill=\"none\" stroke=\"dimgrey\" d=\"M139.62,-71.7C139.62,-62.88 139.62,-52.03 139.62,-42.47\"/>\n",
       "<polygon fill=\"dimgrey\" stroke=\"dimgrey\" points=\"141.38,-42.62 139.63,-37.62 137.88,-42.62 141.38,-42.62\"/>\n",
       "</g>\n",
       "<!-- iaqgKEYY -->\n",
       "<g id=\"node3\" class=\"node\">\n",
       "<title>iaqgKEYY</title>\n",
       "<path fill=\"honeydew\" stroke=\"#065f46\" d=\"M171.62,-396C171.62,-396 107.62,-396 107.62,-396 101.62,-396 95.62,-390 95.62,-384 95.62,-384 95.62,-372 95.62,-372 95.62,-366 101.62,-360 107.62,-360 107.62,-360 171.62,-360 171.62,-360 177.62,-360 183.62,-366 183.62,-372 183.62,-372 183.62,-384 183.62,-384 183.62,-390 177.62,-396 171.62,-396\"/>\n",
       "<text text-anchor=\"start\" x=\"114.12\" y=\"-379.5\" font-family=\"Helvetica,sans-Serif\" font-size=\"10.00\">cell line cell</text>\n",
       "<text text-anchor=\"start\" x=\"103.62\" y=\"-369.5\" font-family=\"Monospace\" font-size=\"10.00\" fill=\"GREY\">uid=iaqgKEYY</text>\n",
       "</g>\n",
       "<!-- 0mXEmtun -->\n",
       "<g id=\"node4\" class=\"node\">\n",
       "<title>0mXEmtun</title>\n",
       "<path fill=\"honeydew\" stroke=\"#065f46\" d=\"M181.38,-324C181.38,-324 97.88,-324 97.88,-324 91.88,-324 85.88,-318 85.88,-312 85.88,-312 85.88,-300 85.88,-300 85.88,-294 91.88,-288 97.88,-288 97.88,-288 181.38,-288 181.38,-288 187.38,-288 193.38,-294 193.38,-300 193.38,-300 193.38,-312 193.38,-312 193.38,-318 187.38,-324 181.38,-324\"/>\n",
       "<text text-anchor=\"start\" x=\"93.88\" y=\"-307.5\" font-family=\"Helvetica,sans-Serif\" font-size=\"10.00\">immortal cell line cell</text>\n",
       "<text text-anchor=\"start\" x=\"103.62\" y=\"-297.5\" font-family=\"Monospace\" font-size=\"10.00\" fill=\"GREY\">uid=0mXEmtun</text>\n",
       "</g>\n",
       "<!-- iaqgKEYY&#45;&gt;0mXEmtun -->\n",
       "<g id=\"edge2\" class=\"edge\">\n",
       "<title>iaqgKEYY&#45;&gt;0mXEmtun</title>\n",
       "<path fill=\"none\" stroke=\"dimgrey\" d=\"M139.62,-359.7C139.62,-350.88 139.62,-340.03 139.62,-330.47\"/>\n",
       "<polygon fill=\"dimgrey\" stroke=\"dimgrey\" points=\"141.38,-330.62 139.63,-325.62 137.88,-330.62 141.38,-330.62\"/>\n",
       "</g>\n",
       "<!-- QrS3iIgW -->\n",
       "<g id=\"node5\" class=\"node\">\n",
       "<title>QrS3iIgW</title>\n",
       "<path fill=\"honeydew\" stroke=\"#065f46\" d=\"M225.25,-252C225.25,-252 54,-252 54,-252 48,-252 42,-246 42,-240 42,-240 42,-228 42,-228 42,-222 48,-216 54,-216 54,-216 225.25,-216 225.25,-216 231.25,-216 237.25,-222 237.25,-228 237.25,-228 237.25,-240 237.25,-240 237.25,-246 231.25,-252 225.25,-252\"/>\n",
       "<text text-anchor=\"start\" x=\"50\" y=\"-235.5\" font-family=\"Helvetica,sans-Serif\" font-size=\"10.00\">immortal vasculature&#45;derived cell line cell</text>\n",
       "<text text-anchor=\"start\" x=\"103.62\" y=\"-225.5\" font-family=\"Monospace\" font-size=\"10.00\" fill=\"GREY\">uid=QrS3iIgW</text>\n",
       "</g>\n",
       "<!-- 0mXEmtun&#45;&gt;QrS3iIgW -->\n",
       "<g id=\"edge5\" class=\"edge\">\n",
       "<title>0mXEmtun&#45;&gt;QrS3iIgW</title>\n",
       "<path fill=\"none\" stroke=\"dimgrey\" d=\"M139.62,-287.7C139.62,-278.88 139.62,-268.03 139.62,-258.47\"/>\n",
       "<polygon fill=\"dimgrey\" stroke=\"dimgrey\" points=\"141.38,-258.62 139.63,-253.62 137.88,-258.62 141.38,-258.62\"/>\n",
       "</g>\n",
       "<!-- QrS3iIgW&#45;&gt;CkFSX9KW -->\n",
       "<g id=\"edge3\" class=\"edge\">\n",
       "<title>QrS3iIgW&#45;&gt;CkFSX9KW</title>\n",
       "<path fill=\"none\" stroke=\"dimgrey\" d=\"M115.6,-215.68C104.88,-206.44 93.38,-194.08 87.62,-180 81.57,-165.19 81.57,-158.81 87.62,-144 92.52,-132.01 101.59,-121.27 110.8,-112.64\"/>\n",
       "<polygon fill=\"dimgrey\" stroke=\"dimgrey\" points=\"111.92,-113.98 114.47,-109.34 109.58,-111.37 111.92,-113.98\"/>\n",
       "</g>\n",
       "<!-- DuJQ6bfB -->\n",
       "<g id=\"node6\" class=\"node\">\n",
       "<title>DuJQ6bfB</title>\n",
       "<path fill=\"honeydew\" stroke=\"#065f46\" d=\"M312.38,-180C312.38,-180 108.88,-180 108.88,-180 102.88,-180 96.88,-174 96.88,-168 96.88,-168 96.88,-156 96.88,-156 96.88,-150 102.88,-144 108.88,-144 108.88,-144 312.38,-144 312.38,-144 318.38,-144 324.38,-150 324.38,-156 324.38,-156 324.38,-168 324.38,-168 324.38,-174 318.38,-180 312.38,-180\"/>\n",
       "<text text-anchor=\"start\" x=\"104.88\" y=\"-163.5\" font-family=\"Helvetica,sans-Serif\" font-size=\"10.00\">immortal human vasculature&#45;derived cell line cell</text>\n",
       "<text text-anchor=\"start\" x=\"174.62\" y=\"-153.5\" font-family=\"Monospace\" font-size=\"10.00\" fill=\"GREY\">uid=DuJQ6bfB</text>\n",
       "</g>\n",
       "<!-- QrS3iIgW&#45;&gt;DuJQ6bfB -->\n",
       "<g id=\"edge6\" class=\"edge\">\n",
       "<title>QrS3iIgW&#45;&gt;DuJQ6bfB</title>\n",
       "<path fill=\"none\" stroke=\"dimgrey\" d=\"M157.18,-215.7C166.72,-206.29 178.61,-194.56 188.75,-184.56\"/>\n",
       "<polygon fill=\"dimgrey\" stroke=\"dimgrey\" points=\"189.87,-185.92 192.2,-181.17 187.41,-183.43 189.87,-185.92\"/>\n",
       "</g>\n",
       "<!-- DuJQ6bfB&#45;&gt;CkFSX9KW -->\n",
       "<g id=\"edge4\" class=\"edge\">\n",
       "<title>DuJQ6bfB&#45;&gt;CkFSX9KW</title>\n",
       "<path fill=\"none\" stroke=\"dimgrey\" d=\"M193.07,-143.7C183.53,-134.29 171.64,-122.56 161.5,-112.56\"/>\n",
       "<polygon fill=\"dimgrey\" stroke=\"dimgrey\" points=\"162.84,-111.43 158.05,-109.17 160.38,-113.92 162.84,-111.43\"/>\n",
       "</g>\n",
       "</g>\n",
       "</svg>\n"
      ],
      "text/plain": [
       "<graphviz.graphs.Digraph at 0x298dcacb0>"
      ]
     },
     "metadata": {},
     "output_type": "display_data"
    }
   ],
   "source": [
    "cell_lines = lb.CellLine.lookup(field=\"abbr\")\n",
    "cell_lines.huvec.view_parents()"
   ]
  },
  {
   "cell_type": "code",
   "execution_count": 14,
   "id": "2e615485",
   "metadata": {
    "tags": [
     "hide-output"
    ]
   },
   "outputs": [
    {
     "data": {
      "image/svg+xml": [
       "<?xml version=\"1.0\" encoding=\"UTF-8\" standalone=\"no\"?>\n",
       "<!DOCTYPE svg PUBLIC \"-//W3C//DTD SVG 1.1//EN\"\n",
       " \"http://www.w3.org/Graphics/SVG/1.1/DTD/svg11.dtd\">\n",
       "<!-- Generated by graphviz version 9.0.0 (20230911.1827)\n",
       " -->\n",
       "<!-- Title: AkJL1qhy Pages: 1 -->\n",
       "<svg width=\"203pt\" height=\"332pt\"\n",
       " viewBox=\"0.00 0.00 203.25 332.00\" xmlns=\"http://www.w3.org/2000/svg\" xmlns:xlink=\"http://www.w3.org/1999/xlink\">\n",
       "<g id=\"graph0\" class=\"graph\" transform=\"scale(1 1) rotate(0) translate(4 328)\">\n",
       "<title>AkJL1qhy</title>\n",
       "<polygon fill=\"white\" stroke=\"none\" points=\"-4,4 -4,-328 199.25,-328 199.25,4 -4,4\"/>\n",
       "<!-- AkJL1qhy -->\n",
       "<g id=\"node1\" class=\"node\">\n",
       "<title>AkJL1qhy</title>\n",
       "<path fill=\"#10b981\" stroke=\"#065f46\" d=\"M129.62,-36C129.62,-36 65.62,-36 65.62,-36 59.62,-36 53.62,-30 53.62,-24 53.62,-24 53.62,-12 53.62,-12 53.62,-6 59.62,0 65.62,0 65.62,0 129.62,0 129.62,0 135.62,0 141.62,-6 141.62,-12 141.62,-12 141.62,-24 141.62,-24 141.62,-30 135.62,-36 129.62,-36\"/>\n",
       "<text text-anchor=\"start\" x=\"71.75\" y=\"-19.5\" font-family=\"Helvetica,sans-Serif\" font-size=\"10.00\">Hep G2 cell</text>\n",
       "<text text-anchor=\"start\" x=\"61.62\" y=\"-9.5\" font-family=\"Monospace\" font-size=\"10.00\" fill=\"GREY\">uid=AkJL1qhy</text>\n",
       "</g>\n",
       "<!-- br5GPP6q -->\n",
       "<g id=\"node2\" class=\"node\">\n",
       "<title>br5GPP6q</title>\n",
       "<path fill=\"honeydew\" stroke=\"#065f46\" d=\"M183.25,-108C183.25,-108 12,-108 12,-108 6,-108 0,-102 0,-96 0,-96 0,-84 0,-84 0,-78 6,-72 12,-72 12,-72 183.25,-72 183.25,-72 189.25,-72 195.25,-78 195.25,-84 195.25,-84 195.25,-96 195.25,-96 195.25,-102 189.25,-108 183.25,-108\"/>\n",
       "<text text-anchor=\"start\" x=\"8\" y=\"-91.5\" font-family=\"Helvetica,sans-Serif\" font-size=\"10.00\">immortal human liver&#45;derived cell line cell</text>\n",
       "<text text-anchor=\"start\" x=\"61.62\" y=\"-81.5\" font-family=\"Monospace\" font-size=\"10.00\" fill=\"GREY\">uid=br5GPP6q</text>\n",
       "</g>\n",
       "<!-- br5GPP6q&#45;&gt;AkJL1qhy -->\n",
       "<g id=\"edge1\" class=\"edge\">\n",
       "<title>br5GPP6q&#45;&gt;AkJL1qhy</title>\n",
       "<path fill=\"none\" stroke=\"dimgrey\" d=\"M97.62,-71.7C97.62,-62.88 97.62,-52.03 97.62,-42.47\"/>\n",
       "<polygon fill=\"dimgrey\" stroke=\"dimgrey\" points=\"99.38,-42.62 97.63,-37.62 95.88,-42.62 99.38,-42.62\"/>\n",
       "</g>\n",
       "<!-- XPqCzHAi -->\n",
       "<g id=\"node3\" class=\"node\">\n",
       "<title>XPqCzHAi</title>\n",
       "<path fill=\"honeydew\" stroke=\"#065f46\" d=\"M167.12,-180C167.12,-180 28.13,-180 28.13,-180 22.12,-180 16.12,-174 16.12,-168 16.12,-168 16.12,-156 16.12,-156 16.12,-150 22.12,-144 28.12,-144 28.12,-144 167.12,-144 167.12,-144 173.12,-144 179.12,-150 179.12,-156 179.12,-156 179.12,-168 179.12,-168 179.12,-174 173.12,-180 167.12,-180\"/>\n",
       "<text text-anchor=\"start\" x=\"24.12\" y=\"-163.5\" font-family=\"Helvetica,sans-Serif\" font-size=\"10.00\">immortal liver&#45;derived cell line cell</text>\n",
       "<text text-anchor=\"start\" x=\"61.62\" y=\"-153.5\" font-family=\"Monospace\" font-size=\"10.00\" fill=\"GREY\">uid=XPqCzHAi</text>\n",
       "</g>\n",
       "<!-- XPqCzHAi&#45;&gt;br5GPP6q -->\n",
       "<g id=\"edge2\" class=\"edge\">\n",
       "<title>XPqCzHAi&#45;&gt;br5GPP6q</title>\n",
       "<path fill=\"none\" stroke=\"dimgrey\" d=\"M97.62,-143.7C97.62,-134.88 97.62,-124.03 97.62,-114.47\"/>\n",
       "<polygon fill=\"dimgrey\" stroke=\"dimgrey\" points=\"99.38,-114.62 97.63,-109.62 95.88,-114.62 99.38,-114.62\"/>\n",
       "</g>\n",
       "<!-- 0mXEmtun -->\n",
       "<g id=\"node4\" class=\"node\">\n",
       "<title>0mXEmtun</title>\n",
       "<path fill=\"honeydew\" stroke=\"#065f46\" d=\"M139.38,-252C139.38,-252 55.88,-252 55.88,-252 49.88,-252 43.88,-246 43.88,-240 43.88,-240 43.88,-228 43.88,-228 43.88,-222 49.88,-216 55.88,-216 55.88,-216 139.38,-216 139.38,-216 145.38,-216 151.38,-222 151.38,-228 151.38,-228 151.38,-240 151.38,-240 151.38,-246 145.38,-252 139.38,-252\"/>\n",
       "<text text-anchor=\"start\" x=\"51.88\" y=\"-235.5\" font-family=\"Helvetica,sans-Serif\" font-size=\"10.00\">immortal cell line cell</text>\n",
       "<text text-anchor=\"start\" x=\"61.62\" y=\"-225.5\" font-family=\"Monospace\" font-size=\"10.00\" fill=\"GREY\">uid=0mXEmtun</text>\n",
       "</g>\n",
       "<!-- 0mXEmtun&#45;&gt;XPqCzHAi -->\n",
       "<g id=\"edge3\" class=\"edge\">\n",
       "<title>0mXEmtun&#45;&gt;XPqCzHAi</title>\n",
       "<path fill=\"none\" stroke=\"dimgrey\" d=\"M97.62,-215.7C97.62,-206.88 97.62,-196.03 97.62,-186.47\"/>\n",
       "<polygon fill=\"dimgrey\" stroke=\"dimgrey\" points=\"99.38,-186.62 97.63,-181.62 95.88,-186.62 99.38,-186.62\"/>\n",
       "</g>\n",
       "<!-- iaqgKEYY -->\n",
       "<g id=\"node5\" class=\"node\">\n",
       "<title>iaqgKEYY</title>\n",
       "<path fill=\"honeydew\" stroke=\"#065f46\" d=\"M129.62,-324C129.62,-324 65.62,-324 65.62,-324 59.62,-324 53.62,-318 53.62,-312 53.62,-312 53.62,-300 53.62,-300 53.62,-294 59.62,-288 65.62,-288 65.62,-288 129.62,-288 129.62,-288 135.62,-288 141.62,-294 141.62,-300 141.62,-300 141.62,-312 141.62,-312 141.62,-318 135.62,-324 129.62,-324\"/>\n",
       "<text text-anchor=\"start\" x=\"72.12\" y=\"-307.5\" font-family=\"Helvetica,sans-Serif\" font-size=\"10.00\">cell line cell</text>\n",
       "<text text-anchor=\"start\" x=\"61.62\" y=\"-297.5\" font-family=\"Monospace\" font-size=\"10.00\" fill=\"GREY\">uid=iaqgKEYY</text>\n",
       "</g>\n",
       "<!-- iaqgKEYY&#45;&gt;0mXEmtun -->\n",
       "<g id=\"edge4\" class=\"edge\">\n",
       "<title>iaqgKEYY&#45;&gt;0mXEmtun</title>\n",
       "<path fill=\"none\" stroke=\"dimgrey\" d=\"M97.62,-287.7C97.62,-278.88 97.62,-268.03 97.62,-258.47\"/>\n",
       "<polygon fill=\"dimgrey\" stroke=\"dimgrey\" points=\"99.38,-258.62 97.63,-253.62 95.88,-258.62 99.38,-258.62\"/>\n",
       "</g>\n",
       "</g>\n",
       "</svg>\n"
      ],
      "text/plain": [
       "<graphviz.graphs.Digraph at 0x2951ef880>"
      ]
     },
     "metadata": {},
     "output_type": "display_data"
    }
   ],
   "source": [
    "cell_lines.hepg2.view_parents()"
   ]
  },
  {
   "cell_type": "markdown",
   "id": "591ddd62",
   "metadata": {},
   "source": [
    "### `split`"
   ]
  },
  {
   "cell_type": "markdown",
   "id": "87bc0d16",
   "metadata": {},
   "source": [
    "Use `ULabel` for \"train\", \"test\":"
   ]
  },
  {
   "cell_type": "code",
   "execution_count": 15,
   "id": "03800f02",
   "metadata": {},
   "outputs": [
    {
     "data": {
      "text/plain": [
       "array(['test', 'train'], dtype=object)"
      ]
     },
     "execution_count": 15,
     "metadata": {},
     "output_type": "execute_result"
    }
   ],
   "source": [
    "meta[\"split\"].unique()"
   ]
  },
  {
   "cell_type": "code",
   "execution_count": 16,
   "id": "2feaee03",
   "metadata": {},
   "outputs": [],
   "source": [
    "train_test = [\n",
    "    ln.ULabel(name=name, description=\"ML split\") for name in meta[\"split\"].unique()\n",
    "]\n",
    "ln.save(train_test)"
   ]
  },
  {
   "cell_type": "markdown",
   "id": "96adcbcb",
   "metadata": {},
   "source": [
    "Define a parent:"
   ]
  },
  {
   "cell_type": "code",
   "execution_count": 17,
   "id": "c5e10e5f",
   "metadata": {},
   "outputs": [
    {
     "data": {
      "image/svg+xml": [
       "<?xml version=\"1.0\" encoding=\"UTF-8\" standalone=\"no\"?>\n",
       "<!DOCTYPE svg PUBLIC \"-//W3C//DTD SVG 1.1//EN\"\n",
       " \"http://www.w3.org/Graphics/SVG/1.1/DTD/svg11.dtd\">\n",
       "<!-- Generated by graphviz version 9.0.0 (20230911.1827)\n",
       " -->\n",
       "<!-- Title: 2uRcFzty Pages: 1 -->\n",
       "<svg width=\"202pt\" height=\"116pt\"\n",
       " viewBox=\"0.00 0.00 202.00 116.00\" xmlns=\"http://www.w3.org/2000/svg\" xmlns:xlink=\"http://www.w3.org/1999/xlink\">\n",
       "<g id=\"graph0\" class=\"graph\" transform=\"scale(1 1) rotate(0) translate(4 112)\">\n",
       "<title>2uRcFzty</title>\n",
       "<polygon fill=\"white\" stroke=\"none\" points=\"-4,4 -4,-112 198,-112 198,4 -4,4\"/>\n",
       "<!-- 2uRcFzty -->\n",
       "<g id=\"node1\" class=\"node\">\n",
       "<title>2uRcFzty</title>\n",
       "<path fill=\"#10b981\" stroke=\"#065f46\" d=\"M129,-108C129,-108 65,-108 65,-108 59,-108 53,-102 53,-96 53,-96 53,-84 53,-84 53,-78 59,-72 65,-72 65,-72 129,-72 129,-72 135,-72 141,-78 141,-84 141,-84 141,-96 141,-96 141,-102 135,-108 129,-108\"/>\n",
       "<text text-anchor=\"start\" x=\"81.62\" y=\"-91.5\" font-family=\"Helvetica,sans-Serif\" font-size=\"10.00\">is_split</text>\n",
       "<text text-anchor=\"start\" x=\"61\" y=\"-81.5\" font-family=\"Monospace\" font-size=\"10.00\" fill=\"GREY\">uid=2uRcFzty</text>\n",
       "</g>\n",
       "<!-- KcOBkXeT -->\n",
       "<g id=\"node2\" class=\"node\">\n",
       "<title>KcOBkXeT</title>\n",
       "<path fill=\"honeydew\" stroke=\"#065f46\" d=\"M76,-36C76,-36 12,-36 12,-36 6,-36 0,-30 0,-24 0,-24 0,-12 0,-12 0,-6 6,0 12,0 12,0 76,0 76,0 82,0 88,-6 88,-12 88,-12 88,-24 88,-24 88,-30 82,-36 76,-36\"/>\n",
       "<text text-anchor=\"start\" x=\"35.75\" y=\"-19.5\" font-family=\"Helvetica,sans-Serif\" font-size=\"10.00\">test</text>\n",
       "<text text-anchor=\"start\" x=\"8\" y=\"-9.5\" font-family=\"Monospace\" font-size=\"10.00\" fill=\"GREY\">uid=KcOBkXeT</text>\n",
       "</g>\n",
       "<!-- 2uRcFzty&#45;&gt;KcOBkXeT -->\n",
       "<g id=\"edge1\" class=\"edge\">\n",
       "<title>2uRcFzty&#45;&gt;KcOBkXeT</title>\n",
       "<path fill=\"none\" stroke=\"dimgrey\" d=\"M83.9,-71.7C76.9,-62.46 68.22,-50.98 60.74,-41.11\"/>\n",
       "<polygon fill=\"dimgrey\" stroke=\"dimgrey\" points=\"62.28,-40.24 57.86,-37.31 59.49,-42.35 62.28,-40.24\"/>\n",
       "</g>\n",
       "<!-- E0iStywP -->\n",
       "<g id=\"node3\" class=\"node\">\n",
       "<title>E0iStywP</title>\n",
       "<path fill=\"honeydew\" stroke=\"#065f46\" d=\"M182,-36C182,-36 118,-36 118,-36 112,-36 106,-30 106,-24 106,-24 106,-12 106,-12 106,-6 112,0 118,0 118,0 182,0 182,0 188,0 194,-6 194,-12 194,-12 194,-24 194,-24 194,-30 188,-36 182,-36\"/>\n",
       "<text text-anchor=\"start\" x=\"140.62\" y=\"-19.5\" font-family=\"Helvetica,sans-Serif\" font-size=\"10.00\">train</text>\n",
       "<text text-anchor=\"start\" x=\"114\" y=\"-9.5\" font-family=\"Monospace\" font-size=\"10.00\" fill=\"GREY\">uid=E0iStywP</text>\n",
       "</g>\n",
       "<!-- 2uRcFzty&#45;&gt;E0iStywP -->\n",
       "<g id=\"edge2\" class=\"edge\">\n",
       "<title>2uRcFzty&#45;&gt;E0iStywP</title>\n",
       "<path fill=\"none\" stroke=\"dimgrey\" d=\"M110.1,-71.7C117.1,-62.46 125.78,-50.98 133.26,-41.11\"/>\n",
       "<polygon fill=\"dimgrey\" stroke=\"dimgrey\" points=\"134.51,-42.35 136.14,-37.31 131.72,-40.24 134.51,-42.35\"/>\n",
       "</g>\n",
       "</g>\n",
       "</svg>\n"
      ],
      "text/plain": [
       "<graphviz.graphs.Digraph at 0x11088fdc0>"
      ]
     },
     "metadata": {},
     "output_type": "display_data"
    }
   ],
   "source": [
    "is_split = ln.ULabel(name=\"is_split\", description=\"ML split\")\n",
    "is_split.save()\n",
    "is_split.children.add(*train_test)\n",
    "is_split.view_parents(with_children=True)"
   ]
  },
  {
   "cell_type": "markdown",
   "id": "1332431d",
   "metadata": {},
   "source": [
    "### `experiment`"
   ]
  },
  {
   "cell_type": "code",
   "execution_count": 18,
   "id": "20e1f372",
   "metadata": {
    "tags": [
     "hide-output"
    ]
   },
   "outputs": [],
   "source": [
    "ln.settings.upon_create_search_name = False\n",
    "experiments = [\n",
    "    ln1.Experiment(name=name, description=\"RxRx1\")\n",
    "    for name in meta[\"experiment\"].unique()\n",
    "]\n",
    "ln.save(experiments)\n",
    "ln.settings.upon_create_search_name = True"
   ]
  },
  {
   "cell_type": "markdown",
   "id": "450de01b",
   "metadata": {},
   "source": [
    "### `plate`"
   ]
  },
  {
   "cell_type": "code",
   "execution_count": 19,
   "id": "c71cf241",
   "metadata": {
    "tags": [
     "hide-output"
    ]
   },
   "outputs": [],
   "source": [
    "is_plate = ln.ULabel(name=\"is_plate\", description=\"parent of plates\")\n",
    "is_plate.save()\n",
    "plates = [ln.ULabel(name=f\"Plate{name}\") for name in meta[\"plate\"].unique()]\n",
    "ln.save(plates)\n",
    "is_plate.children.set(plates)"
   ]
  },
  {
   "cell_type": "code",
   "execution_count": 20,
   "id": "dcdd2a78",
   "metadata": {},
   "outputs": [
    {
     "data": {
      "image/svg+xml": [
       "<?xml version=\"1.0\" encoding=\"UTF-8\" standalone=\"no\"?>\n",
       "<!DOCTYPE svg PUBLIC \"-//W3C//DTD SVG 1.1//EN\"\n",
       " \"http://www.w3.org/Graphics/SVG/1.1/DTD/svg11.dtd\">\n",
       "<!-- Generated by graphviz version 9.0.0 (20230911.1827)\n",
       " -->\n",
       "<!-- Title: dBdZdNeE Pages: 1 -->\n",
       "<svg width=\"414pt\" height=\"116pt\"\n",
       " viewBox=\"0.00 0.00 414.00 116.00\" xmlns=\"http://www.w3.org/2000/svg\" xmlns:xlink=\"http://www.w3.org/1999/xlink\">\n",
       "<g id=\"graph0\" class=\"graph\" transform=\"scale(1 1) rotate(0) translate(4 112)\">\n",
       "<title>dBdZdNeE</title>\n",
       "<polygon fill=\"white\" stroke=\"none\" points=\"-4,4 -4,-112 410,-112 410,4 -4,4\"/>\n",
       "<!-- dBdZdNeE -->\n",
       "<g id=\"node1\" class=\"node\">\n",
       "<title>dBdZdNeE</title>\n",
       "<path fill=\"#10b981\" stroke=\"#065f46\" d=\"M235,-108C235,-108 171,-108 171,-108 165,-108 159,-102 159,-96 159,-96 159,-84 159,-84 159,-78 165,-72 171,-72 171,-72 235,-72 235,-72 241,-72 247,-78 247,-84 247,-84 247,-96 247,-96 247,-102 241,-108 235,-108\"/>\n",
       "<text text-anchor=\"start\" x=\"186.12\" y=\"-91.5\" font-family=\"Helvetica,sans-Serif\" font-size=\"10.00\">is_plate</text>\n",
       "<text text-anchor=\"start\" x=\"167\" y=\"-81.5\" font-family=\"Monospace\" font-size=\"10.00\" fill=\"GREY\">uid=dBdZdNeE</text>\n",
       "</g>\n",
       "<!-- sbi3AA2I -->\n",
       "<g id=\"node2\" class=\"node\">\n",
       "<title>sbi3AA2I</title>\n",
       "<path fill=\"honeydew\" stroke=\"#065f46\" d=\"M76,-36C76,-36 12,-36 12,-36 6,-36 0,-30 0,-24 0,-24 0,-12 0,-12 0,-6 6,0 12,0 12,0 76,0 76,0 82,0 88,-6 88,-12 88,-12 88,-24 88,-24 88,-30 82,-36 76,-36\"/>\n",
       "<text text-anchor=\"start\" x=\"30.12\" y=\"-19.5\" font-family=\"Helvetica,sans-Serif\" font-size=\"10.00\">Plate1</text>\n",
       "<text text-anchor=\"start\" x=\"8\" y=\"-9.5\" font-family=\"Monospace\" font-size=\"10.00\" fill=\"GREY\">uid=sbi3AA2I</text>\n",
       "</g>\n",
       "<!-- dBdZdNeE&#45;&gt;sbi3AA2I -->\n",
       "<g id=\"edge1\" class=\"edge\">\n",
       "<title>dBdZdNeE&#45;&gt;sbi3AA2I</title>\n",
       "<path fill=\"none\" stroke=\"dimgrey\" d=\"M163.29,-71.52C140.82,-61.62 112.63,-49.22 89.3,-38.94\"/>\n",
       "<polygon fill=\"dimgrey\" stroke=\"dimgrey\" points=\"90.15,-37.4 84.87,-36.99 88.74,-40.61 90.15,-37.4\"/>\n",
       "</g>\n",
       "<!-- c5pZnD6y -->\n",
       "<g id=\"node3\" class=\"node\">\n",
       "<title>c5pZnD6y</title>\n",
       "<path fill=\"honeydew\" stroke=\"#065f46\" d=\"M182,-36C182,-36 118,-36 118,-36 112,-36 106,-30 106,-24 106,-24 106,-12 106,-12 106,-6 112,0 118,0 118,0 182,0 182,0 188,0 194,-6 194,-12 194,-12 194,-24 194,-24 194,-30 188,-36 182,-36\"/>\n",
       "<text text-anchor=\"start\" x=\"136.12\" y=\"-19.5\" font-family=\"Helvetica,sans-Serif\" font-size=\"10.00\">Plate2</text>\n",
       "<text text-anchor=\"start\" x=\"114\" y=\"-9.5\" font-family=\"Monospace\" font-size=\"10.00\" fill=\"GREY\">uid=c5pZnD6y</text>\n",
       "</g>\n",
       "<!-- dBdZdNeE&#45;&gt;c5pZnD6y -->\n",
       "<g id=\"edge2\" class=\"edge\">\n",
       "<title>dBdZdNeE&#45;&gt;c5pZnD6y</title>\n",
       "<path fill=\"none\" stroke=\"dimgrey\" d=\"M189.9,-71.7C182.9,-62.46 174.22,-50.98 166.74,-41.11\"/>\n",
       "<polygon fill=\"dimgrey\" stroke=\"dimgrey\" points=\"168.28,-40.24 163.86,-37.31 165.49,-42.35 168.28,-40.24\"/>\n",
       "</g>\n",
       "<!-- uYDxhiAB -->\n",
       "<g id=\"node4\" class=\"node\">\n",
       "<title>uYDxhiAB</title>\n",
       "<path fill=\"honeydew\" stroke=\"#065f46\" d=\"M288,-36C288,-36 224,-36 224,-36 218,-36 212,-30 212,-24 212,-24 212,-12 212,-12 212,-6 218,0 224,0 224,0 288,0 288,0 294,0 300,-6 300,-12 300,-12 300,-24 300,-24 300,-30 294,-36 288,-36\"/>\n",
       "<text text-anchor=\"start\" x=\"242.12\" y=\"-19.5\" font-family=\"Helvetica,sans-Serif\" font-size=\"10.00\">Plate3</text>\n",
       "<text text-anchor=\"start\" x=\"220\" y=\"-9.5\" font-family=\"Monospace\" font-size=\"10.00\" fill=\"GREY\">uid=uYDxhiAB</text>\n",
       "</g>\n",
       "<!-- dBdZdNeE&#45;&gt;uYDxhiAB -->\n",
       "<g id=\"edge3\" class=\"edge\">\n",
       "<title>dBdZdNeE&#45;&gt;uYDxhiAB</title>\n",
       "<path fill=\"none\" stroke=\"dimgrey\" d=\"M216.1,-71.7C223.1,-62.46 231.78,-50.98 239.26,-41.11\"/>\n",
       "<polygon fill=\"dimgrey\" stroke=\"dimgrey\" points=\"240.51,-42.35 242.14,-37.31 237.72,-40.24 240.51,-42.35\"/>\n",
       "</g>\n",
       "<!-- n6BHhCqf -->\n",
       "<g id=\"node5\" class=\"node\">\n",
       "<title>n6BHhCqf</title>\n",
       "<path fill=\"honeydew\" stroke=\"#065f46\" d=\"M394,-36C394,-36 330,-36 330,-36 324,-36 318,-30 318,-24 318,-24 318,-12 318,-12 318,-6 324,0 330,0 330,0 394,0 394,0 400,0 406,-6 406,-12 406,-12 406,-24 406,-24 406,-30 400,-36 394,-36\"/>\n",
       "<text text-anchor=\"start\" x=\"348.12\" y=\"-19.5\" font-family=\"Helvetica,sans-Serif\" font-size=\"10.00\">Plate4</text>\n",
       "<text text-anchor=\"start\" x=\"326\" y=\"-9.5\" font-family=\"Monospace\" font-size=\"10.00\" fill=\"GREY\">uid=n6BHhCqf</text>\n",
       "</g>\n",
       "<!-- dBdZdNeE&#45;&gt;n6BHhCqf -->\n",
       "<g id=\"edge4\" class=\"edge\">\n",
       "<title>dBdZdNeE&#45;&gt;n6BHhCqf</title>\n",
       "<path fill=\"none\" stroke=\"dimgrey\" d=\"M242.71,-71.52C265.18,-61.62 293.37,-49.22 316.7,-38.94\"/>\n",
       "<polygon fill=\"dimgrey\" stroke=\"dimgrey\" points=\"317.26,-40.61 321.13,-36.99 315.85,-37.4 317.26,-40.61\"/>\n",
       "</g>\n",
       "</g>\n",
       "</svg>\n"
      ],
      "text/plain": [
       "<graphviz.graphs.Digraph at 0x2a6de4100>"
      ]
     },
     "metadata": {},
     "output_type": "display_data"
    }
   ],
   "source": [
    "is_plate.view_parents(with_children=True)"
   ]
  },
  {
   "cell_type": "markdown",
   "id": "eb573cf8",
   "metadata": {},
   "source": [
    "### `well`"
   ]
  },
  {
   "attachments": {},
   "cell_type": "markdown",
   "id": "80198d9f-dd52-476f-8333-c2742af9c38f",
   "metadata": {},
   "source": [
    "We might also want to add the well information, so that we can link image files and parse images based on well coordinates. To do this, let's first extract well locations from the table:"
   ]
  },
  {
   "cell_type": "code",
   "execution_count": 21,
   "id": "0614c46a-d8f6-40db-be75-acf31411a43c",
   "metadata": {
    "tags": [
     "hide-output"
    ]
   },
   "outputs": [],
   "source": [
    "ln.settings.upon_create_search_name = False\n",
    "wells = [\n",
    "    ln1.Well(name=well, row=well[0], column=int(well[1:]))\n",
    "    for well in meta[\"well\"].unique()\n",
    "]\n",
    "ln.save(wells)\n",
    "ln.settings.upon_create_search_name = True"
   ]
  },
  {
   "cell_type": "markdown",
   "id": "b84b665c",
   "metadata": {},
   "source": [
    "### `well_type`"
   ]
  },
  {
   "cell_type": "code",
   "execution_count": 22,
   "id": "d5d846c3",
   "metadata": {},
   "outputs": [],
   "source": [
    "is_well_type = ln.ULabel(name=\"is_well_type\", description=\"parent of well types\")\n",
    "is_well_type.save()"
   ]
  },
  {
   "cell_type": "code",
   "execution_count": 23,
   "id": "05cd6429",
   "metadata": {
    "tags": [
     "hide-output"
    ]
   },
   "outputs": [],
   "source": [
    "well_types = [ln.ULabel(name=name) for name in meta[\"well_type\"].unique()]\n",
    "ln.save(well_types)\n",
    "is_well_type.children.set(well_types)"
   ]
  },
  {
   "cell_type": "code",
   "execution_count": 24,
   "id": "fdb3802b",
   "metadata": {},
   "outputs": [
    {
     "data": {
      "image/svg+xml": [
       "<?xml version=\"1.0\" encoding=\"UTF-8\" standalone=\"no\"?>\n",
       "<!DOCTYPE svg PUBLIC \"-//W3C//DTD SVG 1.1//EN\"\n",
       " \"http://www.w3.org/Graphics/SVG/1.1/DTD/svg11.dtd\">\n",
       "<!-- Generated by graphviz version 9.0.0 (20230911.1827)\n",
       " -->\n",
       "<!-- Title: JjWKsNis Pages: 1 -->\n",
       "<svg width=\"308pt\" height=\"116pt\"\n",
       " viewBox=\"0.00 0.00 308.00 116.00\" xmlns=\"http://www.w3.org/2000/svg\" xmlns:xlink=\"http://www.w3.org/1999/xlink\">\n",
       "<g id=\"graph0\" class=\"graph\" transform=\"scale(1 1) rotate(0) translate(4 112)\">\n",
       "<title>JjWKsNis</title>\n",
       "<polygon fill=\"white\" stroke=\"none\" points=\"-4,4 -4,-112 304,-112 304,4 -4,4\"/>\n",
       "<!-- JjWKsNis -->\n",
       "<g id=\"node1\" class=\"node\">\n",
       "<title>JjWKsNis</title>\n",
       "<path fill=\"#10b981\" stroke=\"#065f46\" d=\"M182,-108C182,-108 118,-108 118,-108 112,-108 106,-102 106,-96 106,-96 106,-84 106,-84 106,-78 112,-72 118,-72 118,-72 182,-72 182,-72 188,-72 194,-78 194,-84 194,-84 194,-96 194,-96 194,-102 188,-108 182,-108\"/>\n",
       "<text text-anchor=\"start\" x=\"123\" y=\"-91.5\" font-family=\"Helvetica,sans-Serif\" font-size=\"10.00\">is_well_type</text>\n",
       "<text text-anchor=\"start\" x=\"114\" y=\"-81.5\" font-family=\"Monospace\" font-size=\"10.00\" fill=\"GREY\">uid=JjWKsNis</text>\n",
       "</g>\n",
       "<!-- JNjD5po4 -->\n",
       "<g id=\"node2\" class=\"node\">\n",
       "<title>JNjD5po4</title>\n",
       "<path fill=\"honeydew\" stroke=\"#065f46\" d=\"M76,-36C76,-36 12,-36 12,-36 6,-36 0,-30 0,-24 0,-24 0,-12 0,-12 0,-6 6,0 12,0 12,0 76,0 76,0 82,0 88,-6 88,-12 88,-12 88,-24 88,-24 88,-30 82,-36 76,-36\"/>\n",
       "<text text-anchor=\"start\" x=\"8.38\" y=\"-19.5\" font-family=\"Helvetica,sans-Serif\" font-size=\"10.00\">negative_control</text>\n",
       "<text text-anchor=\"start\" x=\"8\" y=\"-9.5\" font-family=\"Monospace\" font-size=\"10.00\" fill=\"GREY\">uid=JNjD5po4</text>\n",
       "</g>\n",
       "<!-- JjWKsNis&#45;&gt;JNjD5po4 -->\n",
       "<g id=\"edge1\" class=\"edge\">\n",
       "<title>JjWKsNis&#45;&gt;JNjD5po4</title>\n",
       "<path fill=\"none\" stroke=\"dimgrey\" d=\"M123.53,-71.52C108.87,-61.84 90.57,-49.75 75.22,-39.62\"/>\n",
       "<polygon fill=\"dimgrey\" stroke=\"dimgrey\" points=\"76.54,-38.39 71.4,-37.09 74.61,-41.31 76.54,-38.39\"/>\n",
       "</g>\n",
       "<!-- BosG0qoM -->\n",
       "<g id=\"node3\" class=\"node\">\n",
       "<title>BosG0qoM</title>\n",
       "<path fill=\"honeydew\" stroke=\"#065f46\" d=\"M182,-36C182,-36 118,-36 118,-36 112,-36 106,-30 106,-24 106,-24 106,-12 106,-12 106,-6 112,0 118,0 118,0 182,0 182,0 188,0 194,-6 194,-12 194,-12 194,-24 194,-24 194,-30 188,-36 182,-36\"/>\n",
       "<text text-anchor=\"start\" x=\"129.38\" y=\"-19.5\" font-family=\"Helvetica,sans-Serif\" font-size=\"10.00\">treatment</text>\n",
       "<text text-anchor=\"start\" x=\"114\" y=\"-9.5\" font-family=\"Monospace\" font-size=\"10.00\" fill=\"GREY\">uid=BosG0qoM</text>\n",
       "</g>\n",
       "<!-- JjWKsNis&#45;&gt;BosG0qoM -->\n",
       "<g id=\"edge2\" class=\"edge\">\n",
       "<title>JjWKsNis&#45;&gt;BosG0qoM</title>\n",
       "<path fill=\"none\" stroke=\"dimgrey\" d=\"M150,-71.7C150,-62.88 150,-52.03 150,-42.47\"/>\n",
       "<polygon fill=\"dimgrey\" stroke=\"dimgrey\" points=\"151.75,-42.62 150,-37.62 148.25,-42.62 151.75,-42.62\"/>\n",
       "</g>\n",
       "<!-- Kk28MdTG -->\n",
       "<g id=\"node4\" class=\"node\">\n",
       "<title>Kk28MdTG</title>\n",
       "<path fill=\"honeydew\" stroke=\"#065f46\" d=\"M288,-36C288,-36 224,-36 224,-36 218,-36 212,-30 212,-24 212,-24 212,-12 212,-12 212,-6 218,0 224,0 224,0 288,0 288,0 294,0 300,-6 300,-12 300,-12 300,-24 300,-24 300,-30 294,-36 288,-36\"/>\n",
       "<text text-anchor=\"start\" x=\"221.88\" y=\"-19.5\" font-family=\"Helvetica,sans-Serif\" font-size=\"10.00\">positive_control</text>\n",
       "<text text-anchor=\"start\" x=\"220\" y=\"-9.5\" font-family=\"Monospace\" font-size=\"10.00\" fill=\"GREY\">uid=Kk28MdTG</text>\n",
       "</g>\n",
       "<!-- JjWKsNis&#45;&gt;Kk28MdTG -->\n",
       "<g id=\"edge3\" class=\"edge\">\n",
       "<title>JjWKsNis&#45;&gt;Kk28MdTG</title>\n",
       "<path fill=\"none\" stroke=\"dimgrey\" d=\"M176.47,-71.52C191.13,-61.84 209.43,-49.75 224.78,-39.62\"/>\n",
       "<polygon fill=\"dimgrey\" stroke=\"dimgrey\" points=\"225.39,-41.31 228.6,-37.09 223.46,-38.39 225.39,-41.31\"/>\n",
       "</g>\n",
       "</g>\n",
       "</svg>\n"
      ],
      "text/plain": [
       "<graphviz.graphs.Digraph at 0x29c7be410>"
      ]
     },
     "metadata": {},
     "output_type": "display_data"
    }
   ],
   "source": [
    "is_well_type.view_parents(with_children=True)"
   ]
  },
  {
   "cell_type": "markdown",
   "id": "a868cc17",
   "metadata": {},
   "source": [
    "### `sirna`"
   ]
  },
  {
   "attachments": {},
   "cell_type": "markdown",
   "id": "dc821ebd",
   "metadata": {},
   "source": [
    "Add `sirna` to Treatment table:"
   ]
  },
  {
   "cell_type": "code",
   "execution_count": 25,
   "id": "3f029d5c",
   "metadata": {
    "tags": [
     "hide-output"
    ]
   },
   "outputs": [],
   "source": [
    "ln.settings.upon_create_search_name = False\n",
    "sirnas = [\n",
    "    ln1.Treatment(\n",
    "        name=sirna,\n",
    "        type=\"genetic\",\n",
    "        system=\"siRNA\",\n",
    "        description=\"ThermoFisher ID of siRNA\",\n",
    "    )\n",
    "    for sirna in meta[\"sirna\"].unique()\n",
    "]\n",
    "ln.save(sirnas)\n",
    "ln.settings.upon_create_search_name = True"
   ]
  },
  {
   "cell_type": "markdown",
   "id": "860ecbd9",
   "metadata": {},
   "source": [
    "### `readout`"
   ]
  },
  {
   "cell_type": "code",
   "execution_count": 26,
   "id": "272bc79a",
   "metadata": {},
   "outputs": [
    {
     "name": "stdout",
     "output_type": "stream",
     "text": [
      "❗ now recursing through parents: this only happens once, but is much slower than bulk saving\n"
     ]
    }
   ],
   "source": [
    "ln.Feature(name=\"readout\", type=\"category\").save()\n",
    "readout = lb.ExperimentalFactor.from_bionty(name=\"high content screen\")\n",
    "readout.save()"
   ]
  },
  {
   "cell_type": "code",
   "execution_count": 27,
   "id": "c99511a4",
   "metadata": {},
   "outputs": [
    {
     "data": {
      "image/svg+xml": [
       "<?xml version=\"1.0\" encoding=\"UTF-8\" standalone=\"no\"?>\n",
       "<!DOCTYPE svg PUBLIC \"-//W3C//DTD SVG 1.1//EN\"\n",
       " \"http://www.w3.org/Graphics/SVG/1.1/DTD/svg11.dtd\">\n",
       "<!-- Generated by graphviz version 9.0.0 (20230911.1827)\n",
       " -->\n",
       "<!-- Title: ahNepk9H Pages: 1 -->\n",
       "<svg width=\"151pt\" height=\"260pt\"\n",
       " viewBox=\"0.00 0.00 150.75 260.00\" xmlns=\"http://www.w3.org/2000/svg\" xmlns:xlink=\"http://www.w3.org/1999/xlink\">\n",
       "<g id=\"graph0\" class=\"graph\" transform=\"scale(1 1) rotate(0) translate(4 256)\">\n",
       "<title>ahNepk9H</title>\n",
       "<polygon fill=\"white\" stroke=\"none\" points=\"-4,4 -4,-256 146.75,-256 146.75,4 -4,4\"/>\n",
       "<!-- ahNepk9H -->\n",
       "<g id=\"node1\" class=\"node\">\n",
       "<title>ahNepk9H</title>\n",
       "<path fill=\"#10b981\" stroke=\"#065f46\" d=\"M110.12,-36C110.12,-36 32.62,-36 32.62,-36 26.63,-36 20.62,-30 20.62,-24 20.62,-24 20.62,-12 20.62,-12 20.62,-6 26.62,0 32.62,0 32.62,0 110.12,0 110.12,0 116.12,0 122.12,-6 122.12,-12 122.12,-12 122.12,-24 122.12,-24 122.12,-30 116.12,-36 110.12,-36\"/>\n",
       "<text text-anchor=\"start\" x=\"28.62\" y=\"-19.5\" font-family=\"Helvetica,sans-Serif\" font-size=\"10.00\">high content screen</text>\n",
       "<text text-anchor=\"start\" x=\"35.38\" y=\"-9.5\" font-family=\"Monospace\" font-size=\"10.00\" fill=\"GREY\">uid=ahNepk9H</text>\n",
       "</g>\n",
       "<!-- x3xSG8Ef -->\n",
       "<g id=\"node2\" class=\"node\">\n",
       "<title>x3xSG8Ef</title>\n",
       "<path fill=\"honeydew\" stroke=\"#065f46\" d=\"M130.75,-108C130.75,-108 12,-108 12,-108 6,-108 0,-102 0,-96 0,-96 0,-84 0,-84 0,-78 6,-72 12,-72 12,-72 130.75,-72 130.75,-72 136.75,-72 142.75,-78 142.75,-84 142.75,-84 142.75,-96 142.75,-96 142.75,-102 136.75,-108 130.75,-108\"/>\n",
       "<text text-anchor=\"start\" x=\"8\" y=\"-91.5\" font-family=\"Helvetica,sans-Serif\" font-size=\"10.00\">high content analysis of cells</text>\n",
       "<text text-anchor=\"start\" x=\"35.38\" y=\"-81.5\" font-family=\"Monospace\" font-size=\"10.00\" fill=\"GREY\">uid=x3xSG8Ef</text>\n",
       "</g>\n",
       "<!-- x3xSG8Ef&#45;&gt;ahNepk9H -->\n",
       "<g id=\"edge1\" class=\"edge\">\n",
       "<title>x3xSG8Ef&#45;&gt;ahNepk9H</title>\n",
       "<path fill=\"none\" stroke=\"dimgrey\" d=\"M71.38,-71.7C71.38,-62.88 71.38,-52.03 71.38,-42.47\"/>\n",
       "<polygon fill=\"dimgrey\" stroke=\"dimgrey\" points=\"73.13,-42.62 71.38,-37.62 69.63,-42.62 73.13,-42.62\"/>\n",
       "</g>\n",
       "<!-- CmCvSNxF -->\n",
       "<g id=\"node3\" class=\"node\">\n",
       "<title>CmCvSNxF</title>\n",
       "<path fill=\"honeydew\" stroke=\"#065f46\" d=\"M113.88,-180C113.88,-180 28.88,-180 28.88,-180 22.88,-180 16.88,-174 16.88,-168 16.88,-168 16.88,-156 16.88,-156 16.88,-150 22.88,-144 28.88,-144 28.88,-144 113.88,-144 113.88,-144 119.88,-144 125.88,-150 125.88,-156 125.88,-156 125.88,-168 125.88,-168 125.88,-174 119.88,-180 113.88,-180\"/>\n",
       "<text text-anchor=\"start\" x=\"24.88\" y=\"-163.5\" font-family=\"Helvetica,sans-Serif\" font-size=\"10.00\">experimental process</text>\n",
       "<text text-anchor=\"start\" x=\"35.38\" y=\"-153.5\" font-family=\"Monospace\" font-size=\"10.00\" fill=\"GREY\">uid=CmCvSNxF</text>\n",
       "</g>\n",
       "<!-- CmCvSNxF&#45;&gt;x3xSG8Ef -->\n",
       "<g id=\"edge2\" class=\"edge\">\n",
       "<title>CmCvSNxF&#45;&gt;x3xSG8Ef</title>\n",
       "<path fill=\"none\" stroke=\"dimgrey\" d=\"M71.38,-143.7C71.38,-134.88 71.38,-124.03 71.38,-114.47\"/>\n",
       "<polygon fill=\"dimgrey\" stroke=\"dimgrey\" points=\"73.13,-114.62 71.38,-109.62 69.63,-114.62 73.13,-114.62\"/>\n",
       "</g>\n",
       "<!-- jCuyyR9N -->\n",
       "<g id=\"node4\" class=\"node\">\n",
       "<title>jCuyyR9N</title>\n",
       "<path fill=\"honeydew\" stroke=\"#065f46\" d=\"M103.38,-252C103.38,-252 39.38,-252 39.38,-252 33.37,-252 27.38,-246 27.38,-240 27.38,-240 27.38,-228 27.38,-228 27.38,-222 33.38,-216 39.38,-216 39.38,-216 103.38,-216 103.38,-216 109.38,-216 115.38,-222 115.38,-228 115.38,-228 115.38,-240 115.38,-240 115.38,-246 109.38,-252 103.38,-252\"/>\n",
       "<text text-anchor=\"start\" x=\"35.75\" y=\"-235.5\" font-family=\"Helvetica,sans-Serif\" font-size=\"10.00\">planned process</text>\n",
       "<text text-anchor=\"start\" x=\"35.38\" y=\"-225.5\" font-family=\"Monospace\" font-size=\"10.00\" fill=\"GREY\">uid=jCuyyR9N</text>\n",
       "</g>\n",
       "<!-- jCuyyR9N&#45;&gt;CmCvSNxF -->\n",
       "<g id=\"edge3\" class=\"edge\">\n",
       "<title>jCuyyR9N&#45;&gt;CmCvSNxF</title>\n",
       "<path fill=\"none\" stroke=\"dimgrey\" d=\"M71.38,-215.7C71.38,-206.88 71.38,-196.03 71.38,-186.47\"/>\n",
       "<polygon fill=\"dimgrey\" stroke=\"dimgrey\" points=\"73.13,-186.62 71.38,-181.62 69.63,-186.62 73.13,-186.62\"/>\n",
       "</g>\n",
       "</g>\n",
       "</svg>\n"
      ],
      "text/plain": [
       "<graphviz.graphs.Digraph at 0x2b9994250>"
      ]
     },
     "metadata": {},
     "output_type": "display_data"
    }
   ],
   "source": [
    "readout.view_parents(with_children=True)"
   ]
  },
  {
   "cell_type": "markdown",
   "id": "87e8086b",
   "metadata": {},
   "source": [
    "## Register all metadata features"
   ]
  },
  {
   "cell_type": "markdown",
   "id": "c6749204",
   "metadata": {},
   "source": [
    "Here we create a DataFrame with each row as a single image, similar to a link table but with multiple metadata columns:"
   ]
  },
  {
   "cell_type": "code",
   "execution_count": 28,
   "id": "3bdadbd5",
   "metadata": {},
   "outputs": [
    {
     "data": {
      "text/html": [
       "<div>\n",
       "<style scoped>\n",
       "    .dataframe tbody tr th:only-of-type {\n",
       "        vertical-align: middle;\n",
       "    }\n",
       "\n",
       "    .dataframe tbody tr th {\n",
       "        vertical-align: top;\n",
       "    }\n",
       "\n",
       "    .dataframe thead th {\n",
       "        text-align: right;\n",
       "    }\n",
       "</style>\n",
       "<table border=\"1\" class=\"dataframe\">\n",
       "  <thead>\n",
       "    <tr style=\"text-align: right;\">\n",
       "      <th></th>\n",
       "      <th>site_id</th>\n",
       "      <th>well_id</th>\n",
       "      <th>cell_line</th>\n",
       "      <th>split</th>\n",
       "      <th>experiment</th>\n",
       "      <th>plate</th>\n",
       "      <th>well</th>\n",
       "      <th>site</th>\n",
       "      <th>well_type</th>\n",
       "      <th>sirna</th>\n",
       "      <th>sirna_id</th>\n",
       "      <th>path</th>\n",
       "    </tr>\n",
       "  </thead>\n",
       "  <tbody>\n",
       "    <tr>\n",
       "      <th>0</th>\n",
       "      <td>HEPG2-08_1_B02_1</td>\n",
       "      <td>HEPG2-08_1_B02</td>\n",
       "      <td>HEPG2</td>\n",
       "      <td>test</td>\n",
       "      <td>HEPG2-08</td>\n",
       "      <td>1</td>\n",
       "      <td>B02</td>\n",
       "      <td>1</td>\n",
       "      <td>negative_control</td>\n",
       "      <td>EMPTY</td>\n",
       "      <td>1138</td>\n",
       "      <td>images/test/HEPG2-08/Plate1/B02_s1_w1.png</td>\n",
       "    </tr>\n",
       "    <tr>\n",
       "      <th>1</th>\n",
       "      <td>HEPG2-08_1_B02_1</td>\n",
       "      <td>HEPG2-08_1_B02</td>\n",
       "      <td>HEPG2</td>\n",
       "      <td>test</td>\n",
       "      <td>HEPG2-08</td>\n",
       "      <td>1</td>\n",
       "      <td>B02</td>\n",
       "      <td>1</td>\n",
       "      <td>negative_control</td>\n",
       "      <td>EMPTY</td>\n",
       "      <td>1138</td>\n",
       "      <td>images/test/HEPG2-08/Plate1/B02_s1_w2.png</td>\n",
       "    </tr>\n",
       "    <tr>\n",
       "      <th>2</th>\n",
       "      <td>HEPG2-08_1_B02_1</td>\n",
       "      <td>HEPG2-08_1_B02</td>\n",
       "      <td>HEPG2</td>\n",
       "      <td>test</td>\n",
       "      <td>HEPG2-08</td>\n",
       "      <td>1</td>\n",
       "      <td>B02</td>\n",
       "      <td>1</td>\n",
       "      <td>negative_control</td>\n",
       "      <td>EMPTY</td>\n",
       "      <td>1138</td>\n",
       "      <td>images/test/HEPG2-08/Plate1/B02_s1_w3.png</td>\n",
       "    </tr>\n",
       "    <tr>\n",
       "      <th>3</th>\n",
       "      <td>HEPG2-08_1_B02_1</td>\n",
       "      <td>HEPG2-08_1_B02</td>\n",
       "      <td>HEPG2</td>\n",
       "      <td>test</td>\n",
       "      <td>HEPG2-08</td>\n",
       "      <td>1</td>\n",
       "      <td>B02</td>\n",
       "      <td>1</td>\n",
       "      <td>negative_control</td>\n",
       "      <td>EMPTY</td>\n",
       "      <td>1138</td>\n",
       "      <td>images/test/HEPG2-08/Plate1/B02_s1_w4.png</td>\n",
       "    </tr>\n",
       "    <tr>\n",
       "      <th>4</th>\n",
       "      <td>HEPG2-08_1_B02_1</td>\n",
       "      <td>HEPG2-08_1_B02</td>\n",
       "      <td>HEPG2</td>\n",
       "      <td>test</td>\n",
       "      <td>HEPG2-08</td>\n",
       "      <td>1</td>\n",
       "      <td>B02</td>\n",
       "      <td>1</td>\n",
       "      <td>negative_control</td>\n",
       "      <td>EMPTY</td>\n",
       "      <td>1138</td>\n",
       "      <td>images/test/HEPG2-08/Plate1/B02_s1_w5.png</td>\n",
       "    </tr>\n",
       "    <tr>\n",
       "      <th>...</th>\n",
       "      <td>...</td>\n",
       "      <td>...</td>\n",
       "      <td>...</td>\n",
       "      <td>...</td>\n",
       "      <td>...</td>\n",
       "      <td>...</td>\n",
       "      <td>...</td>\n",
       "      <td>...</td>\n",
       "      <td>...</td>\n",
       "      <td>...</td>\n",
       "      <td>...</td>\n",
       "      <td>...</td>\n",
       "    </tr>\n",
       "    <tr>\n",
       "      <th>753055</th>\n",
       "      <td>U2OS-03_4_O23_2</td>\n",
       "      <td>U2OS-03_4_O23</td>\n",
       "      <td>U2OS</td>\n",
       "      <td>train</td>\n",
       "      <td>U2OS-03</td>\n",
       "      <td>4</td>\n",
       "      <td>O23</td>\n",
       "      <td>2</td>\n",
       "      <td>treatment</td>\n",
       "      <td>s21454</td>\n",
       "      <td>509</td>\n",
       "      <td>images/train/U2OS-03/Plate4/O23_s2_w2.png</td>\n",
       "    </tr>\n",
       "    <tr>\n",
       "      <th>753056</th>\n",
       "      <td>U2OS-03_4_O23_2</td>\n",
       "      <td>U2OS-03_4_O23</td>\n",
       "      <td>U2OS</td>\n",
       "      <td>train</td>\n",
       "      <td>U2OS-03</td>\n",
       "      <td>4</td>\n",
       "      <td>O23</td>\n",
       "      <td>2</td>\n",
       "      <td>treatment</td>\n",
       "      <td>s21454</td>\n",
       "      <td>509</td>\n",
       "      <td>images/train/U2OS-03/Plate4/O23_s2_w3.png</td>\n",
       "    </tr>\n",
       "    <tr>\n",
       "      <th>753057</th>\n",
       "      <td>U2OS-03_4_O23_2</td>\n",
       "      <td>U2OS-03_4_O23</td>\n",
       "      <td>U2OS</td>\n",
       "      <td>train</td>\n",
       "      <td>U2OS-03</td>\n",
       "      <td>4</td>\n",
       "      <td>O23</td>\n",
       "      <td>2</td>\n",
       "      <td>treatment</td>\n",
       "      <td>s21454</td>\n",
       "      <td>509</td>\n",
       "      <td>images/train/U2OS-03/Plate4/O23_s2_w4.png</td>\n",
       "    </tr>\n",
       "    <tr>\n",
       "      <th>753058</th>\n",
       "      <td>U2OS-03_4_O23_2</td>\n",
       "      <td>U2OS-03_4_O23</td>\n",
       "      <td>U2OS</td>\n",
       "      <td>train</td>\n",
       "      <td>U2OS-03</td>\n",
       "      <td>4</td>\n",
       "      <td>O23</td>\n",
       "      <td>2</td>\n",
       "      <td>treatment</td>\n",
       "      <td>s21454</td>\n",
       "      <td>509</td>\n",
       "      <td>images/train/U2OS-03/Plate4/O23_s2_w5.png</td>\n",
       "    </tr>\n",
       "    <tr>\n",
       "      <th>753059</th>\n",
       "      <td>U2OS-03_4_O23_2</td>\n",
       "      <td>U2OS-03_4_O23</td>\n",
       "      <td>U2OS</td>\n",
       "      <td>train</td>\n",
       "      <td>U2OS-03</td>\n",
       "      <td>4</td>\n",
       "      <td>O23</td>\n",
       "      <td>2</td>\n",
       "      <td>treatment</td>\n",
       "      <td>s21454</td>\n",
       "      <td>509</td>\n",
       "      <td>images/train/U2OS-03/Plate4/O23_s2_w6.png</td>\n",
       "    </tr>\n",
       "  </tbody>\n",
       "</table>\n",
       "<p>753060 rows × 12 columns</p>\n",
       "</div>"
      ],
      "text/plain": [
       "                 site_id         well_id cell_line  split experiment  plate  \\\n",
       "0       HEPG2-08_1_B02_1  HEPG2-08_1_B02     HEPG2   test   HEPG2-08      1   \n",
       "1       HEPG2-08_1_B02_1  HEPG2-08_1_B02     HEPG2   test   HEPG2-08      1   \n",
       "2       HEPG2-08_1_B02_1  HEPG2-08_1_B02     HEPG2   test   HEPG2-08      1   \n",
       "3       HEPG2-08_1_B02_1  HEPG2-08_1_B02     HEPG2   test   HEPG2-08      1   \n",
       "4       HEPG2-08_1_B02_1  HEPG2-08_1_B02     HEPG2   test   HEPG2-08      1   \n",
       "...                  ...             ...       ...    ...        ...    ...   \n",
       "753055   U2OS-03_4_O23_2   U2OS-03_4_O23      U2OS  train    U2OS-03      4   \n",
       "753056   U2OS-03_4_O23_2   U2OS-03_4_O23      U2OS  train    U2OS-03      4   \n",
       "753057   U2OS-03_4_O23_2   U2OS-03_4_O23      U2OS  train    U2OS-03      4   \n",
       "753058   U2OS-03_4_O23_2   U2OS-03_4_O23      U2OS  train    U2OS-03      4   \n",
       "753059   U2OS-03_4_O23_2   U2OS-03_4_O23      U2OS  train    U2OS-03      4   \n",
       "\n",
       "       well  site         well_type   sirna  sirna_id  \\\n",
       "0       B02     1  negative_control   EMPTY      1138   \n",
       "1       B02     1  negative_control   EMPTY      1138   \n",
       "2       B02     1  negative_control   EMPTY      1138   \n",
       "3       B02     1  negative_control   EMPTY      1138   \n",
       "4       B02     1  negative_control   EMPTY      1138   \n",
       "...     ...   ...               ...     ...       ...   \n",
       "753055  O23     2         treatment  s21454       509   \n",
       "753056  O23     2         treatment  s21454       509   \n",
       "753057  O23     2         treatment  s21454       509   \n",
       "753058  O23     2         treatment  s21454       509   \n",
       "753059  O23     2         treatment  s21454       509   \n",
       "\n",
       "                                             path  \n",
       "0       images/test/HEPG2-08/Plate1/B02_s1_w1.png  \n",
       "1       images/test/HEPG2-08/Plate1/B02_s1_w2.png  \n",
       "2       images/test/HEPG2-08/Plate1/B02_s1_w3.png  \n",
       "3       images/test/HEPG2-08/Plate1/B02_s1_w4.png  \n",
       "4       images/test/HEPG2-08/Plate1/B02_s1_w5.png  \n",
       "...                                           ...  \n",
       "753055  images/train/U2OS-03/Plate4/O23_s2_w2.png  \n",
       "753056  images/train/U2OS-03/Plate4/O23_s2_w3.png  \n",
       "753057  images/train/U2OS-03/Plate4/O23_s2_w4.png  \n",
       "753058  images/train/U2OS-03/Plate4/O23_s2_w5.png  \n",
       "753059  images/train/U2OS-03/Plate4/O23_s2_w6.png  \n",
       "\n",
       "[753060 rows x 12 columns]"
      ]
     },
     "execution_count": 28,
     "metadata": {},
     "output_type": "execute_result"
    }
   ],
   "source": [
    "meta_with_path = meta.copy()\n",
    "keys_list = []\n",
    "for key in meta_with_path[\"paths\"]:\n",
    "    keys = [key.replace(\"w1-w6.png\", f\"w{str(channel)}.png\") for channel in range(1, 7)]\n",
    "    keys_list.append(keys)\n",
    "meta_with_path[\"path\"] = keys_list\n",
    "meta_with_path = meta_with_path.explode(\"path\").reset_index(drop=True)\n",
    "del meta_with_path[\"paths\"]\n",
    "meta_with_path"
   ]
  },
  {
   "cell_type": "markdown",
   "id": "50ddcc64",
   "metadata": {},
   "source": [
    "Here we register all metadata features:"
   ]
  },
  {
   "cell_type": "code",
   "execution_count": 29,
   "id": "6198c6d9",
   "metadata": {},
   "outputs": [],
   "source": [
    "obs_features = ln.Feature.from_df(\n",
    "    meta_with_path[\n",
    "        [\n",
    "            \"cell_line\",\n",
    "            \"split\",\n",
    "            \"experiment\",\n",
    "            \"plate\",\n",
    "            \"well\",\n",
    "            \"well_type\",\n",
    "            \"sirna\",\n",
    "            \"path\",\n",
    "        ]\n",
    "    ]\n",
    ")\n",
    "ln.save(obs_features)"
   ]
  },
  {
   "cell_type": "code",
   "execution_count": 30,
   "id": "5e51cea1",
   "metadata": {},
   "outputs": [
    {
     "data": {
      "text/html": [
       "<div>\n",
       "<style scoped>\n",
       "    .dataframe tbody tr th:only-of-type {\n",
       "        vertical-align: middle;\n",
       "    }\n",
       "\n",
       "    .dataframe tbody tr th {\n",
       "        vertical-align: top;\n",
       "    }\n",
       "\n",
       "    .dataframe thead th {\n",
       "        text-align: right;\n",
       "    }\n",
       "</style>\n",
       "<table border=\"1\" class=\"dataframe\">\n",
       "  <thead>\n",
       "    <tr style=\"text-align: right;\">\n",
       "      <th></th>\n",
       "      <th>uid</th>\n",
       "      <th>name</th>\n",
       "      <th>type</th>\n",
       "      <th>unit</th>\n",
       "      <th>description</th>\n",
       "      <th>registries</th>\n",
       "      <th>synonyms</th>\n",
       "      <th>updated_at</th>\n",
       "      <th>created_by_id</th>\n",
       "    </tr>\n",
       "    <tr>\n",
       "      <th>id</th>\n",
       "      <th></th>\n",
       "      <th></th>\n",
       "      <th></th>\n",
       "      <th></th>\n",
       "      <th></th>\n",
       "      <th></th>\n",
       "      <th></th>\n",
       "      <th></th>\n",
       "      <th></th>\n",
       "    </tr>\n",
       "  </thead>\n",
       "  <tbody>\n",
       "    <tr>\n",
       "      <th>1</th>\n",
       "      <td>NB1OjzWnUhWR</td>\n",
       "      <td>readout</td>\n",
       "      <td>category</td>\n",
       "      <td>None</td>\n",
       "      <td>None</td>\n",
       "      <td>None</td>\n",
       "      <td>None</td>\n",
       "      <td>2023-12-13 05:33:12.950923+00:00</td>\n",
       "      <td>1</td>\n",
       "    </tr>\n",
       "    <tr>\n",
       "      <th>2</th>\n",
       "      <td>hmAxDZBdosuR</td>\n",
       "      <td>cell_line</td>\n",
       "      <td>category</td>\n",
       "      <td>None</td>\n",
       "      <td>None</td>\n",
       "      <td>None</td>\n",
       "      <td>None</td>\n",
       "      <td>2023-12-13 05:33:30.139462+00:00</td>\n",
       "      <td>1</td>\n",
       "    </tr>\n",
       "    <tr>\n",
       "      <th>3</th>\n",
       "      <td>MhW8J23ZcfIr</td>\n",
       "      <td>split</td>\n",
       "      <td>category</td>\n",
       "      <td>None</td>\n",
       "      <td>None</td>\n",
       "      <td>None</td>\n",
       "      <td>None</td>\n",
       "      <td>2023-12-13 05:33:30.139487+00:00</td>\n",
       "      <td>1</td>\n",
       "    </tr>\n",
       "    <tr>\n",
       "      <th>4</th>\n",
       "      <td>yIfKyMU1VkNB</td>\n",
       "      <td>experiment</td>\n",
       "      <td>category</td>\n",
       "      <td>None</td>\n",
       "      <td>None</td>\n",
       "      <td>None</td>\n",
       "      <td>None</td>\n",
       "      <td>2023-12-13 05:33:30.139504+00:00</td>\n",
       "      <td>1</td>\n",
       "    </tr>\n",
       "    <tr>\n",
       "      <th>5</th>\n",
       "      <td>0OYai0jrGGIm</td>\n",
       "      <td>plate</td>\n",
       "      <td>number</td>\n",
       "      <td>None</td>\n",
       "      <td>None</td>\n",
       "      <td>None</td>\n",
       "      <td>None</td>\n",
       "      <td>2023-12-13 05:33:30.139520+00:00</td>\n",
       "      <td>1</td>\n",
       "    </tr>\n",
       "    <tr>\n",
       "      <th>6</th>\n",
       "      <td>JTS30Mb0OmPl</td>\n",
       "      <td>well</td>\n",
       "      <td>category</td>\n",
       "      <td>None</td>\n",
       "      <td>None</td>\n",
       "      <td>None</td>\n",
       "      <td>None</td>\n",
       "      <td>2023-12-13 05:33:30.139536+00:00</td>\n",
       "      <td>1</td>\n",
       "    </tr>\n",
       "    <tr>\n",
       "      <th>7</th>\n",
       "      <td>Z27l8Xl5eOt9</td>\n",
       "      <td>well_type</td>\n",
       "      <td>category</td>\n",
       "      <td>None</td>\n",
       "      <td>None</td>\n",
       "      <td>None</td>\n",
       "      <td>None</td>\n",
       "      <td>2023-12-13 05:33:30.139552+00:00</td>\n",
       "      <td>1</td>\n",
       "    </tr>\n",
       "    <tr>\n",
       "      <th>8</th>\n",
       "      <td>mYyMInC485pS</td>\n",
       "      <td>sirna</td>\n",
       "      <td>category</td>\n",
       "      <td>None</td>\n",
       "      <td>None</td>\n",
       "      <td>None</td>\n",
       "      <td>None</td>\n",
       "      <td>2023-12-13 05:33:30.139567+00:00</td>\n",
       "      <td>1</td>\n",
       "    </tr>\n",
       "    <tr>\n",
       "      <th>9</th>\n",
       "      <td>ZSSs01b3fmXW</td>\n",
       "      <td>path</td>\n",
       "      <td>category</td>\n",
       "      <td>None</td>\n",
       "      <td>None</td>\n",
       "      <td>None</td>\n",
       "      <td>None</td>\n",
       "      <td>2023-12-13 05:33:30.139582+00:00</td>\n",
       "      <td>1</td>\n",
       "    </tr>\n",
       "  </tbody>\n",
       "</table>\n",
       "</div>"
      ],
      "text/plain": [
       "             uid        name      type  unit description registries synonyms  \\\n",
       "id                                                                             \n",
       "1   NB1OjzWnUhWR     readout  category  None        None       None     None   \n",
       "2   hmAxDZBdosuR   cell_line  category  None        None       None     None   \n",
       "3   MhW8J23ZcfIr       split  category  None        None       None     None   \n",
       "4   yIfKyMU1VkNB  experiment  category  None        None       None     None   \n",
       "5   0OYai0jrGGIm       plate    number  None        None       None     None   \n",
       "6   JTS30Mb0OmPl        well  category  None        None       None     None   \n",
       "7   Z27l8Xl5eOt9   well_type  category  None        None       None     None   \n",
       "8   mYyMInC485pS       sirna  category  None        None       None     None   \n",
       "9   ZSSs01b3fmXW        path  category  None        None       None     None   \n",
       "\n",
       "                         updated_at  created_by_id  \n",
       "id                                                  \n",
       "1  2023-12-13 05:33:12.950923+00:00              1  \n",
       "2  2023-12-13 05:33:30.139462+00:00              1  \n",
       "3  2023-12-13 05:33:30.139487+00:00              1  \n",
       "4  2023-12-13 05:33:30.139504+00:00              1  \n",
       "5  2023-12-13 05:33:30.139520+00:00              1  \n",
       "6  2023-12-13 05:33:30.139536+00:00              1  \n",
       "7  2023-12-13 05:33:30.139552+00:00              1  \n",
       "8  2023-12-13 05:33:30.139567+00:00              1  \n",
       "9  2023-12-13 05:33:30.139582+00:00              1  "
      ]
     },
     "execution_count": 30,
     "metadata": {},
     "output_type": "execute_result"
    }
   ],
   "source": [
    "ln.Feature.filter().df()"
   ]
  },
  {
   "cell_type": "code",
   "execution_count": 31,
   "id": "6c43a7cf",
   "metadata": {},
   "outputs": [],
   "source": [
    "features = ln.Feature.lookup()"
   ]
  },
  {
   "cell_type": "markdown",
   "id": "3823962a",
   "metadata": {},
   "source": [
    "## Register metadata file"
   ]
  },
  {
   "cell_type": "code",
   "execution_count": 32,
   "id": "0b80a2f0",
   "metadata": {},
   "outputs": [
    {
     "name": "stdout",
     "output_type": "stream",
     "text": [
      "❗ \u001b[1;93m4 terms\u001b[0m (33.30%) are not validated for \u001b[3mname\u001b[0m: \u001b[1;93msite_id, well_id, site, sirna_id\u001b[0m\n"
     ]
    }
   ],
   "source": [
    "meta_file = ln.Artifact.from_df(\n",
    "    meta_with_path,\n",
    "    field=ln.Feature.name,\n",
    "    key=\"rxrx1/metadata.parquet\",\n",
    "    description=\"Metadata with file paths for each RxRx1 image.\",\n",
    ")"
   ]
  },
  {
   "cell_type": "code",
   "execution_count": 33,
   "id": "2efaf071",
   "metadata": {},
   "outputs": [],
   "source": [
    "meta_file.save()"
   ]
  },
  {
   "cell_type": "markdown",
   "id": "3138c022",
   "metadata": {},
   "source": [
    "Annotate with labels:"
   ]
  },
  {
   "cell_type": "code",
   "execution_count": 34,
   "id": "38f67b1d",
   "metadata": {},
   "outputs": [],
   "source": [
    "cell_lines = lb.CellLine.from_values(meta.cell_line.unique())"
   ]
  },
  {
   "cell_type": "code",
   "execution_count": 35,
   "id": "1b4025ed",
   "metadata": {},
   "outputs": [],
   "source": [
    "# columns\n",
    "meta_file.labels.add(cell_lines, features.cell_line)\n",
    "meta_file.labels.add(train_test, features.split)\n",
    "meta_file.labels.add(experiments, features.experiment)\n",
    "meta_file.labels.add(plates, features.plate)\n",
    "meta_file.labels.add(wells, features.well)\n",
    "meta_file.labels.add(well_types, features.well_type)\n",
    "meta_file.labels.add(sirnas, features.sirna)\n",
    "# external\n",
    "meta_file.labels.add(readout, features.readout)"
   ]
  },
  {
   "cell_type": "code",
   "execution_count": 36,
   "id": "eaad66e1",
   "metadata": {
    "tags": [
     "hide-output"
    ]
   },
   "outputs": [
    {
     "name": "stdout",
     "output_type": "stream",
     "text": [
      "\u001b[1;92mArtifact\u001b[0m(uid='enOHXqipuSajzescdA2M', key='rxrx1/metadata.parquet', suffix='.parquet', accessor='DataFrame', description='Metadata with file paths for each RxRx1 image.', size=5722206, hash='BzgFQG5HKTIkM7JfEWU-_A', hash_type='md5', visibility=1, key_is_virtual=True, updated_at=2023-12-13 05:33:50 UTC)\n",
      "\n",
      "\u001b[1;92mProvenance\u001b[0m:\n",
      "  🗃️ storage: Storage(uid='m7Keesfc', root='/Users/falexwolf/repos/rxrx-lamin/docs/notebooks/test-recursion', type='local', updated_at=2023-12-13 05:29:52 UTC, created_by_id=1)\n",
      "  💫 transform: Transform(uid='Zo0qJt4IQPsbxM', name='Register the RxRx1 dataset', short_name='02-rxrx1', version='1', type=notebook, updated_at=2023-12-13 05:30:35 UTC, created_by_id=1)\n",
      "  👣 run: Run(uid='oglppflwzrewbAwcL0Yf', run_at=2023-12-13 05:30:35 UTC, transform_id=2, created_by_id=1)\n",
      "  👤 created_by: User(uid='DzTjkKse', handle='testuser1', name='Test User1', updated_at=2023-12-13 05:29:52 UTC)\n",
      "\u001b[1;92mFeatures\u001b[0m:\n",
      "  \u001b[1mcolumns\u001b[0m: FeatureSet(uid='Y32yzNDisoWYnBEcEVn3', n=8, registry='core.Feature', hash='bUyI6tY6P7rWyAtiQsCc', updated_at=2023-12-13 05:33:50 UTC, created_by_id=1)\n",
      "    🔗 cell_line (4, \u001b[3mbionty.CellLine\u001b[0m): 'Hep G2 cell', 'HUV-EC-C cell', 'hTERT RPE-1 cell', 'U-2 OS cell'\n",
      "    🔗 split (2, \u001b[3mcore.ULabel\u001b[0m): 'test', 'train'\n",
      "    🔗 experiment (51, \u001b[3mlamin1.Experiment\u001b[0m): 'HEPG2-08', 'HEPG2-09', 'HEPG2-10', 'HEPG2-11', 'HUVEC-17', 'HUVEC-18', 'HUVEC-19', 'HUVEC-20', 'HUVEC-21', 'HUVEC-22', ...\n",
      "    plate (number)\n",
      "    🔗 well (308, \u001b[3mlamin1.Well\u001b[0m): 'B02', 'B03', 'B04', 'B05', 'B06', 'B07', 'B08', 'B09', 'B10', 'B11', ...\n",
      "    🔗 well_type (3, \u001b[3mcore.ULabel\u001b[0m): 'negative_control', 'treatment', 'positive_control'\n",
      "    🔗 sirna (1139, \u001b[3mlamin1.Treatment\u001b[0m): 'EMPTY', 's21721', 's20894', 's19827', 's19792', 's19935', 's21398', 's223097', 's348', 's19975', ...\n",
      "    path (category)\n",
      "  \u001b[1mexternal\u001b[0m: FeatureSet(uid='EhLn7pUOeL5hufmYnYme', n=1, registry='core.Feature', hash='QPBJpZL0ztuaSr0rhDak', updated_at=2023-12-13 05:33:58 UTC, created_by_id=1)\n",
      "    🔗 readout (1, \u001b[3mbionty.ExperimentalFactor\u001b[0m): 'high content screen'\n",
      "\u001b[1;92mLabels\u001b[0m:\n",
      "  🏷️ experiments (51, \u001b[3mlamin1.Experiment\u001b[0m): 'HEPG2-08', 'HEPG2-09', 'HEPG2-10', 'HEPG2-11', 'HUVEC-17', 'HUVEC-18', 'HUVEC-19', 'HUVEC-20', 'HUVEC-21', 'HUVEC-22', ...\n",
      "  🏷️ wells (308, \u001b[3mlamin1.Well\u001b[0m): 'B02', 'B03', 'B04', 'B05', 'B06', 'B07', 'B08', 'B09', 'B10', 'B11', ...\n",
      "  🏷️ treatments (1139, \u001b[3mlamin1.Treatment\u001b[0m): 'EMPTY', 's21721', 's20894', 's19827', 's19792', 's19935', 's21398', 's223097', 's348', 's19975', ...\n",
      "  🏷️ cell_lines (4, \u001b[3mbionty.CellLine\u001b[0m): 'Hep G2 cell', 'HUV-EC-C cell', 'hTERT RPE-1 cell', 'U-2 OS cell'\n",
      "  🏷️ experimental_factors (1, \u001b[3mbionty.ExperimentalFactor\u001b[0m): 'high content screen'\n",
      "  🏷️ ulabels (9, \u001b[3mcore.ULabel\u001b[0m): 'test', 'train', 'Plate1', 'Plate2', 'Plate3', 'Plate4', 'negative_control', 'treatment', 'positive_control'\n",
      "\n"
     ]
    }
   ],
   "source": [
    "meta_file.describe()"
   ]
  },
  {
   "cell_type": "markdown",
   "id": "b0081037",
   "metadata": {},
   "source": [
    "## Register dataset"
   ]
  },
  {
   "cell_type": "code",
   "execution_count": 2,
   "id": "287cb0cd",
   "metadata": {},
   "outputs": [],
   "source": [
    "import lamindb as ln"
   ]
  },
  {
   "cell_type": "code",
   "execution_count": 6,
   "id": "b527d1bb",
   "metadata": {},
   "outputs": [
    {
     "data": {
      "text/plain": [
       "GCSPath('gs://rxrx1-europe-west4/images')"
      ]
     },
     "execution_count": 6,
     "metadata": {},
     "output_type": "execute_result"
    }
   ],
   "source": [
    "path = ln.UPath(\"gs://rxrx1-europe-west4/images\")\n",
    "path"
   ]
  },
  {
   "cell_type": "code",
   "execution_count": 1,
   "id": "0c7b78cf",
   "metadata": {},
   "outputs": [],
   "source": []
  },
  {
   "cell_type": "code",
   "execution_count": 2,
   "id": "1ff2ab9f",
   "metadata": {},
   "outputs": [],
   "source": []
  },
  {
   "cell_type": "code",
   "execution_count": 8,
   "id": "a7778882",
   "metadata": {},
   "outputs": [
    {
     "ename": "KeyboardInterrupt",
     "evalue": "",
     "output_type": "error",
     "traceback": [
      "\u001b[0;31m---------------------------------------------------------------------------\u001b[0m",
      "\u001b[0;31mKeyboardInterrupt\u001b[0m                         Traceback (most recent call last)",
      "Cell \u001b[0;32mIn[8], line 4\u001b[0m\n\u001b[1;32m      2\u001b[0m client \u001b[38;5;241m=\u001b[39m gcs_storage\u001b[38;5;241m.\u001b[39mClient(project\u001b[38;5;241m=\u001b[39m\u001b[38;5;124m\"\u001b[39m\u001b[38;5;124mdata-totality-352303\u001b[39m\u001b[38;5;124m\"\u001b[39m)\n\u001b[1;32m      3\u001b[0m objects \u001b[38;5;241m=\u001b[39m client\u001b[38;5;241m.\u001b[39mbucket(\u001b[38;5;124m\"\u001b[39m\u001b[38;5;124mrxrx1-europe-west4\u001b[39m\u001b[38;5;124m\"\u001b[39m)\u001b[38;5;241m.\u001b[39mlist_blobs(prefix\u001b[38;5;241m=\u001b[39m\u001b[38;5;124m\"\u001b[39m\u001b[38;5;124mimages\u001b[39m\u001b[38;5;124m\"\u001b[39m, max_results\u001b[38;5;241m=\u001b[39m\u001b[38;5;241m10\u001b[39m)\n\u001b[0;32m----> 4\u001b[0m \u001b[38;5;28;43mnext\u001b[39;49m\u001b[43m(\u001b[49m\u001b[43mobjects\u001b[49m\u001b[43m)\u001b[49m\n",
      "File \u001b[0;32m~/miniconda3/envs/py310/lib/python3.10/site-packages/google/api_core/page_iterator.py:230\u001b[0m, in \u001b[0;36mIterator.__next__\u001b[0;34m(self)\u001b[0m\n\u001b[1;32m    228\u001b[0m \u001b[38;5;28;01mif\u001b[39;00m \u001b[38;5;28mself\u001b[39m\u001b[38;5;241m.\u001b[39m__active_iterator \u001b[38;5;129;01mis\u001b[39;00m \u001b[38;5;28;01mNone\u001b[39;00m:\n\u001b[1;32m    229\u001b[0m     \u001b[38;5;28mself\u001b[39m\u001b[38;5;241m.\u001b[39m__active_iterator \u001b[38;5;241m=\u001b[39m \u001b[38;5;28miter\u001b[39m(\u001b[38;5;28mself\u001b[39m)\n\u001b[0;32m--> 230\u001b[0m \u001b[38;5;28;01mreturn\u001b[39;00m \u001b[38;5;28;43mnext\u001b[39;49m\u001b[43m(\u001b[49m\u001b[38;5;28;43mself\u001b[39;49m\u001b[38;5;241;43m.\u001b[39;49m\u001b[43m__active_iterator\u001b[49m\u001b[43m)\u001b[49m\n",
      "File \u001b[0;32m~/miniconda3/envs/py310/lib/python3.10/site-packages/google/api_core/page_iterator.py:208\u001b[0m, in \u001b[0;36mIterator._items_iter\u001b[0;34m(self)\u001b[0m\n\u001b[1;32m    206\u001b[0m \u001b[38;5;28;01mdef\u001b[39;00m \u001b[38;5;21m_items_iter\u001b[39m(\u001b[38;5;28mself\u001b[39m):\n\u001b[1;32m    207\u001b[0m \u001b[38;5;250m    \u001b[39m\u001b[38;5;124;03m\"\"\"Iterator for each item returned.\"\"\"\u001b[39;00m\n\u001b[0;32m--> 208\u001b[0m     \u001b[38;5;28;01mfor\u001b[39;00m page \u001b[38;5;129;01min\u001b[39;00m \u001b[38;5;28mself\u001b[39m\u001b[38;5;241m.\u001b[39m_page_iter(increment\u001b[38;5;241m=\u001b[39m\u001b[38;5;28;01mFalse\u001b[39;00m):\n\u001b[1;32m    209\u001b[0m         \u001b[38;5;28;01mfor\u001b[39;00m item \u001b[38;5;129;01min\u001b[39;00m page:\n\u001b[1;32m    210\u001b[0m             \u001b[38;5;28mself\u001b[39m\u001b[38;5;241m.\u001b[39mnum_results \u001b[38;5;241m+\u001b[39m\u001b[38;5;241m=\u001b[39m \u001b[38;5;241m1\u001b[39m\n",
      "File \u001b[0;32m~/miniconda3/envs/py310/lib/python3.10/site-packages/google/api_core/page_iterator.py:244\u001b[0m, in \u001b[0;36mIterator._page_iter\u001b[0;34m(self, increment)\u001b[0m\n\u001b[1;32m    232\u001b[0m \u001b[38;5;28;01mdef\u001b[39;00m \u001b[38;5;21m_page_iter\u001b[39m(\u001b[38;5;28mself\u001b[39m, increment):\n\u001b[1;32m    233\u001b[0m \u001b[38;5;250m    \u001b[39m\u001b[38;5;124;03m\"\"\"Generator of pages of API responses.\u001b[39;00m\n\u001b[1;32m    234\u001b[0m \n\u001b[1;32m    235\u001b[0m \u001b[38;5;124;03m    Args:\u001b[39;00m\n\u001b[0;32m   (...)\u001b[0m\n\u001b[1;32m    242\u001b[0m \u001b[38;5;124;03m        Page: each page of items from the API.\u001b[39;00m\n\u001b[1;32m    243\u001b[0m \u001b[38;5;124;03m    \"\"\"\u001b[39;00m\n\u001b[0;32m--> 244\u001b[0m     page \u001b[38;5;241m=\u001b[39m \u001b[38;5;28;43mself\u001b[39;49m\u001b[38;5;241;43m.\u001b[39;49m\u001b[43m_next_page\u001b[49m\u001b[43m(\u001b[49m\u001b[43m)\u001b[49m\n\u001b[1;32m    245\u001b[0m     \u001b[38;5;28;01mwhile\u001b[39;00m page \u001b[38;5;129;01mis\u001b[39;00m \u001b[38;5;129;01mnot\u001b[39;00m \u001b[38;5;28;01mNone\u001b[39;00m:\n\u001b[1;32m    246\u001b[0m         \u001b[38;5;28mself\u001b[39m\u001b[38;5;241m.\u001b[39mpage_number \u001b[38;5;241m+\u001b[39m\u001b[38;5;241m=\u001b[39m \u001b[38;5;241m1\u001b[39m\n",
      "File \u001b[0;32m~/miniconda3/envs/py310/lib/python3.10/site-packages/google/api_core/page_iterator.py:373\u001b[0m, in \u001b[0;36mHTTPIterator._next_page\u001b[0;34m(self)\u001b[0m\n\u001b[1;32m    366\u001b[0m \u001b[38;5;250m\u001b[39m\u001b[38;5;124;03m\"\"\"Get the next page in the iterator.\u001b[39;00m\n\u001b[1;32m    367\u001b[0m \n\u001b[1;32m    368\u001b[0m \u001b[38;5;124;03mReturns:\u001b[39;00m\n\u001b[1;32m    369\u001b[0m \u001b[38;5;124;03m    Optional[Page]: The next page in the iterator or :data:`None` if\u001b[39;00m\n\u001b[1;32m    370\u001b[0m \u001b[38;5;124;03m        there are no pages left.\u001b[39;00m\n\u001b[1;32m    371\u001b[0m \u001b[38;5;124;03m\"\"\"\u001b[39;00m\n\u001b[1;32m    372\u001b[0m \u001b[38;5;28;01mif\u001b[39;00m \u001b[38;5;28mself\u001b[39m\u001b[38;5;241m.\u001b[39m_has_next_page():\n\u001b[0;32m--> 373\u001b[0m     response \u001b[38;5;241m=\u001b[39m \u001b[38;5;28;43mself\u001b[39;49m\u001b[38;5;241;43m.\u001b[39;49m\u001b[43m_get_next_page_response\u001b[49m\u001b[43m(\u001b[49m\u001b[43m)\u001b[49m\n\u001b[1;32m    374\u001b[0m     items \u001b[38;5;241m=\u001b[39m response\u001b[38;5;241m.\u001b[39mget(\u001b[38;5;28mself\u001b[39m\u001b[38;5;241m.\u001b[39m_items_key, ())\n\u001b[1;32m    375\u001b[0m     page \u001b[38;5;241m=\u001b[39m Page(\u001b[38;5;28mself\u001b[39m, items, \u001b[38;5;28mself\u001b[39m\u001b[38;5;241m.\u001b[39mitem_to_value, raw_page\u001b[38;5;241m=\u001b[39mresponse)\n",
      "File \u001b[0;32m~/miniconda3/envs/py310/lib/python3.10/site-packages/google/api_core/page_iterator.py:432\u001b[0m, in \u001b[0;36mHTTPIterator._get_next_page_response\u001b[0;34m(self)\u001b[0m\n\u001b[1;32m    430\u001b[0m params \u001b[38;5;241m=\u001b[39m \u001b[38;5;28mself\u001b[39m\u001b[38;5;241m.\u001b[39m_get_query_params()\n\u001b[1;32m    431\u001b[0m \u001b[38;5;28;01mif\u001b[39;00m \u001b[38;5;28mself\u001b[39m\u001b[38;5;241m.\u001b[39m_HTTP_METHOD \u001b[38;5;241m==\u001b[39m \u001b[38;5;124m\"\u001b[39m\u001b[38;5;124mGET\u001b[39m\u001b[38;5;124m\"\u001b[39m:\n\u001b[0;32m--> 432\u001b[0m     \u001b[38;5;28;01mreturn\u001b[39;00m \u001b[38;5;28;43mself\u001b[39;49m\u001b[38;5;241;43m.\u001b[39;49m\u001b[43mapi_request\u001b[49m\u001b[43m(\u001b[49m\n\u001b[1;32m    433\u001b[0m \u001b[43m        \u001b[49m\u001b[43mmethod\u001b[49m\u001b[38;5;241;43m=\u001b[39;49m\u001b[38;5;28;43mself\u001b[39;49m\u001b[38;5;241;43m.\u001b[39;49m\u001b[43m_HTTP_METHOD\u001b[49m\u001b[43m,\u001b[49m\u001b[43m \u001b[49m\u001b[43mpath\u001b[49m\u001b[38;5;241;43m=\u001b[39;49m\u001b[38;5;28;43mself\u001b[39;49m\u001b[38;5;241;43m.\u001b[39;49m\u001b[43mpath\u001b[49m\u001b[43m,\u001b[49m\u001b[43m \u001b[49m\u001b[43mquery_params\u001b[49m\u001b[38;5;241;43m=\u001b[39;49m\u001b[43mparams\u001b[49m\n\u001b[1;32m    434\u001b[0m \u001b[43m    \u001b[49m\u001b[43m)\u001b[49m\n\u001b[1;32m    435\u001b[0m \u001b[38;5;28;01melif\u001b[39;00m \u001b[38;5;28mself\u001b[39m\u001b[38;5;241m.\u001b[39m_HTTP_METHOD \u001b[38;5;241m==\u001b[39m \u001b[38;5;124m\"\u001b[39m\u001b[38;5;124mPOST\u001b[39m\u001b[38;5;124m\"\u001b[39m:\n\u001b[1;32m    436\u001b[0m     \u001b[38;5;28;01mreturn\u001b[39;00m \u001b[38;5;28mself\u001b[39m\u001b[38;5;241m.\u001b[39mapi_request(\n\u001b[1;32m    437\u001b[0m         method\u001b[38;5;241m=\u001b[39m\u001b[38;5;28mself\u001b[39m\u001b[38;5;241m.\u001b[39m_HTTP_METHOD, path\u001b[38;5;241m=\u001b[39m\u001b[38;5;28mself\u001b[39m\u001b[38;5;241m.\u001b[39mpath, data\u001b[38;5;241m=\u001b[39mparams\n\u001b[1;32m    438\u001b[0m     )\n",
      "File \u001b[0;32m~/miniconda3/envs/py310/lib/python3.10/site-packages/google/cloud/storage/_http.py:72\u001b[0m, in \u001b[0;36mConnection.api_request\u001b[0;34m(self, *args, **kwargs)\u001b[0m\n\u001b[1;32m     70\u001b[0m     \u001b[38;5;28;01mif\u001b[39;00m retry:\n\u001b[1;32m     71\u001b[0m         call \u001b[38;5;241m=\u001b[39m retry(call)\n\u001b[0;32m---> 72\u001b[0m \u001b[38;5;28;01mreturn\u001b[39;00m \u001b[43mcall\u001b[49m\u001b[43m(\u001b[49m\u001b[43m)\u001b[49m\n",
      "File \u001b[0;32m~/miniconda3/envs/py310/lib/python3.10/site-packages/google/api_core/retry.py:366\u001b[0m, in \u001b[0;36mRetry.__call__.<locals>.retry_wrapped_func\u001b[0;34m(*args, **kwargs)\u001b[0m\n\u001b[1;32m    362\u001b[0m target \u001b[38;5;241m=\u001b[39m functools\u001b[38;5;241m.\u001b[39mpartial(func, \u001b[38;5;241m*\u001b[39margs, \u001b[38;5;241m*\u001b[39m\u001b[38;5;241m*\u001b[39mkwargs)\n\u001b[1;32m    363\u001b[0m sleep_generator \u001b[38;5;241m=\u001b[39m exponential_sleep_generator(\n\u001b[1;32m    364\u001b[0m     \u001b[38;5;28mself\u001b[39m\u001b[38;5;241m.\u001b[39m_initial, \u001b[38;5;28mself\u001b[39m\u001b[38;5;241m.\u001b[39m_maximum, multiplier\u001b[38;5;241m=\u001b[39m\u001b[38;5;28mself\u001b[39m\u001b[38;5;241m.\u001b[39m_multiplier\n\u001b[1;32m    365\u001b[0m )\n\u001b[0;32m--> 366\u001b[0m \u001b[38;5;28;01mreturn\u001b[39;00m \u001b[43mretry_target\u001b[49m\u001b[43m(\u001b[49m\n\u001b[1;32m    367\u001b[0m \u001b[43m    \u001b[49m\u001b[43mtarget\u001b[49m\u001b[43m,\u001b[49m\n\u001b[1;32m    368\u001b[0m \u001b[43m    \u001b[49m\u001b[38;5;28;43mself\u001b[39;49m\u001b[38;5;241;43m.\u001b[39;49m\u001b[43m_predicate\u001b[49m\u001b[43m,\u001b[49m\n\u001b[1;32m    369\u001b[0m \u001b[43m    \u001b[49m\u001b[43msleep_generator\u001b[49m\u001b[43m,\u001b[49m\n\u001b[1;32m    370\u001b[0m \u001b[43m    \u001b[49m\u001b[38;5;28;43mself\u001b[39;49m\u001b[38;5;241;43m.\u001b[39;49m\u001b[43m_timeout\u001b[49m\u001b[43m,\u001b[49m\n\u001b[1;32m    371\u001b[0m \u001b[43m    \u001b[49m\u001b[43mon_error\u001b[49m\u001b[38;5;241;43m=\u001b[39;49m\u001b[43mon_error\u001b[49m\u001b[43m,\u001b[49m\n\u001b[1;32m    372\u001b[0m \u001b[43m\u001b[49m\u001b[43m)\u001b[49m\n",
      "File \u001b[0;32m~/miniconda3/envs/py310/lib/python3.10/site-packages/google/api_core/retry.py:204\u001b[0m, in \u001b[0;36mretry_target\u001b[0;34m(target, predicate, sleep_generator, timeout, on_error, **kwargs)\u001b[0m\n\u001b[1;32m    202\u001b[0m \u001b[38;5;28;01mfor\u001b[39;00m sleep \u001b[38;5;129;01min\u001b[39;00m sleep_generator:\n\u001b[1;32m    203\u001b[0m     \u001b[38;5;28;01mtry\u001b[39;00m:\n\u001b[0;32m--> 204\u001b[0m         \u001b[38;5;28;01mreturn\u001b[39;00m \u001b[43mtarget\u001b[49m\u001b[43m(\u001b[49m\u001b[43m)\u001b[49m\n\u001b[1;32m    206\u001b[0m     \u001b[38;5;66;03m# pylint: disable=broad-except\u001b[39;00m\n\u001b[1;32m    207\u001b[0m     \u001b[38;5;66;03m# This function explicitly must deal with broad exceptions.\u001b[39;00m\n\u001b[1;32m    208\u001b[0m     \u001b[38;5;28;01mexcept\u001b[39;00m \u001b[38;5;167;01mException\u001b[39;00m \u001b[38;5;28;01mas\u001b[39;00m exc:\n",
      "File \u001b[0;32m~/miniconda3/envs/py310/lib/python3.10/site-packages/google/cloud/_http/__init__.py:482\u001b[0m, in \u001b[0;36mJSONConnection.api_request\u001b[0;34m(self, method, path, query_params, data, content_type, headers, api_base_url, api_version, expect_json, _target_object, timeout, extra_api_info)\u001b[0m\n\u001b[1;32m    479\u001b[0m     data \u001b[38;5;241m=\u001b[39m json\u001b[38;5;241m.\u001b[39mdumps(data)\n\u001b[1;32m    480\u001b[0m     content_type \u001b[38;5;241m=\u001b[39m \u001b[38;5;124m\"\u001b[39m\u001b[38;5;124mapplication/json\u001b[39m\u001b[38;5;124m\"\u001b[39m\n\u001b[0;32m--> 482\u001b[0m response \u001b[38;5;241m=\u001b[39m \u001b[38;5;28;43mself\u001b[39;49m\u001b[38;5;241;43m.\u001b[39;49m\u001b[43m_make_request\u001b[49m\u001b[43m(\u001b[49m\n\u001b[1;32m    483\u001b[0m \u001b[43m    \u001b[49m\u001b[43mmethod\u001b[49m\u001b[38;5;241;43m=\u001b[39;49m\u001b[43mmethod\u001b[49m\u001b[43m,\u001b[49m\n\u001b[1;32m    484\u001b[0m \u001b[43m    \u001b[49m\u001b[43murl\u001b[49m\u001b[38;5;241;43m=\u001b[39;49m\u001b[43murl\u001b[49m\u001b[43m,\u001b[49m\n\u001b[1;32m    485\u001b[0m \u001b[43m    \u001b[49m\u001b[43mdata\u001b[49m\u001b[38;5;241;43m=\u001b[39;49m\u001b[43mdata\u001b[49m\u001b[43m,\u001b[49m\n\u001b[1;32m    486\u001b[0m \u001b[43m    \u001b[49m\u001b[43mcontent_type\u001b[49m\u001b[38;5;241;43m=\u001b[39;49m\u001b[43mcontent_type\u001b[49m\u001b[43m,\u001b[49m\n\u001b[1;32m    487\u001b[0m \u001b[43m    \u001b[49m\u001b[43mheaders\u001b[49m\u001b[38;5;241;43m=\u001b[39;49m\u001b[43mheaders\u001b[49m\u001b[43m,\u001b[49m\n\u001b[1;32m    488\u001b[0m \u001b[43m    \u001b[49m\u001b[43mtarget_object\u001b[49m\u001b[38;5;241;43m=\u001b[39;49m\u001b[43m_target_object\u001b[49m\u001b[43m,\u001b[49m\n\u001b[1;32m    489\u001b[0m \u001b[43m    \u001b[49m\u001b[43mtimeout\u001b[49m\u001b[38;5;241;43m=\u001b[39;49m\u001b[43mtimeout\u001b[49m\u001b[43m,\u001b[49m\n\u001b[1;32m    490\u001b[0m \u001b[43m    \u001b[49m\u001b[43mextra_api_info\u001b[49m\u001b[38;5;241;43m=\u001b[39;49m\u001b[43mextra_api_info\u001b[49m\u001b[43m,\u001b[49m\n\u001b[1;32m    491\u001b[0m \u001b[43m\u001b[49m\u001b[43m)\u001b[49m\n\u001b[1;32m    493\u001b[0m \u001b[38;5;28;01mif\u001b[39;00m \u001b[38;5;129;01mnot\u001b[39;00m \u001b[38;5;241m200\u001b[39m \u001b[38;5;241m<\u001b[39m\u001b[38;5;241m=\u001b[39m response\u001b[38;5;241m.\u001b[39mstatus_code \u001b[38;5;241m<\u001b[39m \u001b[38;5;241m300\u001b[39m:\n\u001b[1;32m    494\u001b[0m     \u001b[38;5;28;01mraise\u001b[39;00m exceptions\u001b[38;5;241m.\u001b[39mfrom_http_response(response)\n",
      "File \u001b[0;32m~/miniconda3/envs/py310/lib/python3.10/site-packages/google/cloud/_http/__init__.py:341\u001b[0m, in \u001b[0;36mJSONConnection._make_request\u001b[0;34m(self, method, url, data, content_type, headers, target_object, timeout, extra_api_info)\u001b[0m\n\u001b[1;32m    338\u001b[0m     headers[CLIENT_INFO_HEADER] \u001b[38;5;241m=\u001b[39m \u001b[38;5;28mself\u001b[39m\u001b[38;5;241m.\u001b[39muser_agent\n\u001b[1;32m    339\u001b[0m headers[\u001b[38;5;124m\"\u001b[39m\u001b[38;5;124mUser-Agent\u001b[39m\u001b[38;5;124m\"\u001b[39m] \u001b[38;5;241m=\u001b[39m \u001b[38;5;28mself\u001b[39m\u001b[38;5;241m.\u001b[39muser_agent\n\u001b[0;32m--> 341\u001b[0m \u001b[38;5;28;01mreturn\u001b[39;00m \u001b[38;5;28;43mself\u001b[39;49m\u001b[38;5;241;43m.\u001b[39;49m\u001b[43m_do_request\u001b[49m\u001b[43m(\u001b[49m\n\u001b[1;32m    342\u001b[0m \u001b[43m    \u001b[49m\u001b[43mmethod\u001b[49m\u001b[43m,\u001b[49m\u001b[43m \u001b[49m\u001b[43murl\u001b[49m\u001b[43m,\u001b[49m\u001b[43m \u001b[49m\u001b[43mheaders\u001b[49m\u001b[43m,\u001b[49m\u001b[43m \u001b[49m\u001b[43mdata\u001b[49m\u001b[43m,\u001b[49m\u001b[43m \u001b[49m\u001b[43mtarget_object\u001b[49m\u001b[43m,\u001b[49m\u001b[43m \u001b[49m\u001b[43mtimeout\u001b[49m\u001b[38;5;241;43m=\u001b[39;49m\u001b[43mtimeout\u001b[49m\n\u001b[1;32m    343\u001b[0m \u001b[43m\u001b[49m\u001b[43m)\u001b[49m\n",
      "File \u001b[0;32m~/miniconda3/envs/py310/lib/python3.10/site-packages/google/cloud/_http/__init__.py:379\u001b[0m, in \u001b[0;36mJSONConnection._do_request\u001b[0;34m(self, method, url, headers, data, target_object, timeout)\u001b[0m\n\u001b[1;32m    345\u001b[0m \u001b[38;5;28;01mdef\u001b[39;00m \u001b[38;5;21m_do_request\u001b[39m(\n\u001b[1;32m    346\u001b[0m     \u001b[38;5;28mself\u001b[39m, method, url, headers, data, target_object, timeout\u001b[38;5;241m=\u001b[39m_DEFAULT_TIMEOUT\n\u001b[1;32m    347\u001b[0m ):  \u001b[38;5;66;03m# pylint: disable=unused-argument\u001b[39;00m\n\u001b[1;32m    348\u001b[0m \u001b[38;5;250m    \u001b[39m\u001b[38;5;124;03m\"\"\"Low-level helper:  perform the actual API request over HTTP.\u001b[39;00m\n\u001b[1;32m    349\u001b[0m \n\u001b[1;32m    350\u001b[0m \u001b[38;5;124;03m    Allows batch context managers to override and defer a request.\u001b[39;00m\n\u001b[0;32m   (...)\u001b[0m\n\u001b[1;32m    377\u001b[0m \u001b[38;5;124;03m    :returns: The HTTP response.\u001b[39;00m\n\u001b[1;32m    378\u001b[0m \u001b[38;5;124;03m    \"\"\"\u001b[39;00m\n\u001b[0;32m--> 379\u001b[0m     \u001b[38;5;28;01mreturn\u001b[39;00m \u001b[38;5;28;43mself\u001b[39;49m\u001b[38;5;241;43m.\u001b[39;49m\u001b[43mhttp\u001b[49m\u001b[38;5;241;43m.\u001b[39;49m\u001b[43mrequest\u001b[49m\u001b[43m(\u001b[49m\n\u001b[1;32m    380\u001b[0m \u001b[43m        \u001b[49m\u001b[43murl\u001b[49m\u001b[38;5;241;43m=\u001b[39;49m\u001b[43murl\u001b[49m\u001b[43m,\u001b[49m\u001b[43m \u001b[49m\u001b[43mmethod\u001b[49m\u001b[38;5;241;43m=\u001b[39;49m\u001b[43mmethod\u001b[49m\u001b[43m,\u001b[49m\u001b[43m \u001b[49m\u001b[43mheaders\u001b[49m\u001b[38;5;241;43m=\u001b[39;49m\u001b[43mheaders\u001b[49m\u001b[43m,\u001b[49m\u001b[43m \u001b[49m\u001b[43mdata\u001b[49m\u001b[38;5;241;43m=\u001b[39;49m\u001b[43mdata\u001b[49m\u001b[43m,\u001b[49m\u001b[43m \u001b[49m\u001b[43mtimeout\u001b[49m\u001b[38;5;241;43m=\u001b[39;49m\u001b[43mtimeout\u001b[49m\n\u001b[1;32m    381\u001b[0m \u001b[43m    \u001b[49m\u001b[43m)\u001b[49m\n",
      "File \u001b[0;32m~/miniconda3/envs/py310/lib/python3.10/site-packages/google/auth/transport/requests.py:538\u001b[0m, in \u001b[0;36mAuthorizedSession.request\u001b[0;34m(self, method, url, data, headers, max_allowed_time, timeout, **kwargs)\u001b[0m\n\u001b[1;32m    535\u001b[0m remaining_time \u001b[38;5;241m=\u001b[39m max_allowed_time\n\u001b[1;32m    537\u001b[0m \u001b[38;5;28;01mwith\u001b[39;00m TimeoutGuard(remaining_time) \u001b[38;5;28;01mas\u001b[39;00m guard:\n\u001b[0;32m--> 538\u001b[0m     \u001b[38;5;28;43mself\u001b[39;49m\u001b[38;5;241;43m.\u001b[39;49m\u001b[43mcredentials\u001b[49m\u001b[38;5;241;43m.\u001b[39;49m\u001b[43mbefore_request\u001b[49m\u001b[43m(\u001b[49m\u001b[43mauth_request\u001b[49m\u001b[43m,\u001b[49m\u001b[43m \u001b[49m\u001b[43mmethod\u001b[49m\u001b[43m,\u001b[49m\u001b[43m \u001b[49m\u001b[43murl\u001b[49m\u001b[43m,\u001b[49m\u001b[43m \u001b[49m\u001b[43mrequest_headers\u001b[49m\u001b[43m)\u001b[49m\n\u001b[1;32m    539\u001b[0m remaining_time \u001b[38;5;241m=\u001b[39m guard\u001b[38;5;241m.\u001b[39mremaining_timeout\n\u001b[1;32m    541\u001b[0m \u001b[38;5;28;01mwith\u001b[39;00m TimeoutGuard(remaining_time) \u001b[38;5;28;01mas\u001b[39;00m guard:\n",
      "File \u001b[0;32m~/miniconda3/envs/py310/lib/python3.10/site-packages/google/auth/credentials.py:175\u001b[0m, in \u001b[0;36mCredentials.before_request\u001b[0;34m(self, request, method, url, headers)\u001b[0m\n\u001b[1;32m    171\u001b[0m \u001b[38;5;66;03m# pylint: disable=unused-argument\u001b[39;00m\n\u001b[1;32m    172\u001b[0m \u001b[38;5;66;03m# (Subclasses may use these arguments to ascertain information about\u001b[39;00m\n\u001b[1;32m    173\u001b[0m \u001b[38;5;66;03m# the http request.)\u001b[39;00m\n\u001b[1;32m    174\u001b[0m \u001b[38;5;28;01mif\u001b[39;00m \u001b[38;5;129;01mnot\u001b[39;00m \u001b[38;5;28mself\u001b[39m\u001b[38;5;241m.\u001b[39mvalid:\n\u001b[0;32m--> 175\u001b[0m     \u001b[38;5;28;43mself\u001b[39;49m\u001b[38;5;241;43m.\u001b[39;49m\u001b[43mrefresh\u001b[49m\u001b[43m(\u001b[49m\u001b[43mrequest\u001b[49m\u001b[43m)\u001b[49m\n\u001b[1;32m    176\u001b[0m metrics\u001b[38;5;241m.\u001b[39madd_metric_header(headers, \u001b[38;5;28mself\u001b[39m\u001b[38;5;241m.\u001b[39m_metric_header_for_usage())\n\u001b[1;32m    177\u001b[0m \u001b[38;5;28mself\u001b[39m\u001b[38;5;241m.\u001b[39mapply(headers)\n",
      "File \u001b[0;32m~/miniconda3/envs/py310/lib/python3.10/site-packages/google/oauth2/credentials.py:344\u001b[0m, in \u001b[0;36mCredentials.refresh\u001b[0;34m(self, request)\u001b[0m\n\u001b[1;32m    326\u001b[0m \u001b[38;5;28;01mif\u001b[39;00m (\n\u001b[1;32m    327\u001b[0m     \u001b[38;5;28mself\u001b[39m\u001b[38;5;241m.\u001b[39m_refresh_token \u001b[38;5;129;01mis\u001b[39;00m \u001b[38;5;28;01mNone\u001b[39;00m\n\u001b[1;32m    328\u001b[0m     \u001b[38;5;129;01mor\u001b[39;00m \u001b[38;5;28mself\u001b[39m\u001b[38;5;241m.\u001b[39m_token_uri \u001b[38;5;129;01mis\u001b[39;00m \u001b[38;5;28;01mNone\u001b[39;00m\n\u001b[1;32m    329\u001b[0m     \u001b[38;5;129;01mor\u001b[39;00m \u001b[38;5;28mself\u001b[39m\u001b[38;5;241m.\u001b[39m_client_id \u001b[38;5;129;01mis\u001b[39;00m \u001b[38;5;28;01mNone\u001b[39;00m\n\u001b[1;32m    330\u001b[0m     \u001b[38;5;129;01mor\u001b[39;00m \u001b[38;5;28mself\u001b[39m\u001b[38;5;241m.\u001b[39m_client_secret \u001b[38;5;129;01mis\u001b[39;00m \u001b[38;5;28;01mNone\u001b[39;00m\n\u001b[1;32m    331\u001b[0m ):\n\u001b[1;32m    332\u001b[0m     \u001b[38;5;28;01mraise\u001b[39;00m exceptions\u001b[38;5;241m.\u001b[39mRefreshError(\n\u001b[1;32m    333\u001b[0m         \u001b[38;5;124m\"\u001b[39m\u001b[38;5;124mThe credentials do not contain the necessary fields need to \u001b[39m\u001b[38;5;124m\"\u001b[39m\n\u001b[1;32m    334\u001b[0m         \u001b[38;5;124m\"\u001b[39m\u001b[38;5;124mrefresh the access token. You must specify refresh_token, \u001b[39m\u001b[38;5;124m\"\u001b[39m\n\u001b[1;32m    335\u001b[0m         \u001b[38;5;124m\"\u001b[39m\u001b[38;5;124mtoken_uri, client_id, and client_secret.\u001b[39m\u001b[38;5;124m\"\u001b[39m\n\u001b[1;32m    336\u001b[0m     )\n\u001b[1;32m    338\u001b[0m (\n\u001b[1;32m    339\u001b[0m     access_token,\n\u001b[1;32m    340\u001b[0m     refresh_token,\n\u001b[1;32m    341\u001b[0m     expiry,\n\u001b[1;32m    342\u001b[0m     grant_response,\n\u001b[1;32m    343\u001b[0m     rapt_token,\n\u001b[0;32m--> 344\u001b[0m ) \u001b[38;5;241m=\u001b[39m \u001b[43mreauth\u001b[49m\u001b[38;5;241;43m.\u001b[39;49m\u001b[43mrefresh_grant\u001b[49m\u001b[43m(\u001b[49m\n\u001b[1;32m    345\u001b[0m \u001b[43m    \u001b[49m\u001b[43mrequest\u001b[49m\u001b[43m,\u001b[49m\n\u001b[1;32m    346\u001b[0m \u001b[43m    \u001b[49m\u001b[38;5;28;43mself\u001b[39;49m\u001b[38;5;241;43m.\u001b[39;49m\u001b[43m_token_uri\u001b[49m\u001b[43m,\u001b[49m\n\u001b[1;32m    347\u001b[0m \u001b[43m    \u001b[49m\u001b[38;5;28;43mself\u001b[39;49m\u001b[38;5;241;43m.\u001b[39;49m\u001b[43m_refresh_token\u001b[49m\u001b[43m,\u001b[49m\n\u001b[1;32m    348\u001b[0m \u001b[43m    \u001b[49m\u001b[38;5;28;43mself\u001b[39;49m\u001b[38;5;241;43m.\u001b[39;49m\u001b[43m_client_id\u001b[49m\u001b[43m,\u001b[49m\n\u001b[1;32m    349\u001b[0m \u001b[43m    \u001b[49m\u001b[38;5;28;43mself\u001b[39;49m\u001b[38;5;241;43m.\u001b[39;49m\u001b[43m_client_secret\u001b[49m\u001b[43m,\u001b[49m\n\u001b[1;32m    350\u001b[0m \u001b[43m    \u001b[49m\u001b[43mscopes\u001b[49m\u001b[38;5;241;43m=\u001b[39;49m\u001b[43mscopes\u001b[49m\u001b[43m,\u001b[49m\n\u001b[1;32m    351\u001b[0m \u001b[43m    \u001b[49m\u001b[43mrapt_token\u001b[49m\u001b[38;5;241;43m=\u001b[39;49m\u001b[38;5;28;43mself\u001b[39;49m\u001b[38;5;241;43m.\u001b[39;49m\u001b[43m_rapt_token\u001b[49m\u001b[43m,\u001b[49m\n\u001b[1;32m    352\u001b[0m \u001b[43m    \u001b[49m\u001b[43menable_reauth_refresh\u001b[49m\u001b[38;5;241;43m=\u001b[39;49m\u001b[38;5;28;43mself\u001b[39;49m\u001b[38;5;241;43m.\u001b[39;49m\u001b[43m_enable_reauth_refresh\u001b[49m\u001b[43m,\u001b[49m\n\u001b[1;32m    353\u001b[0m \u001b[43m\u001b[49m\u001b[43m)\u001b[49m\n\u001b[1;32m    355\u001b[0m \u001b[38;5;28mself\u001b[39m\u001b[38;5;241m.\u001b[39mtoken \u001b[38;5;241m=\u001b[39m access_token\n\u001b[1;32m    356\u001b[0m \u001b[38;5;28mself\u001b[39m\u001b[38;5;241m.\u001b[39mexpiry \u001b[38;5;241m=\u001b[39m expiry\n",
      "File \u001b[0;32m~/miniconda3/envs/py310/lib/python3.10/site-packages/google/oauth2/reauth.py:332\u001b[0m, in \u001b[0;36mrefresh_grant\u001b[0;34m(request, token_uri, refresh_token, client_id, client_secret, scopes, rapt_token, enable_reauth_refresh)\u001b[0m\n\u001b[1;32m    329\u001b[0m     body[\u001b[38;5;124m\"\u001b[39m\u001b[38;5;124mrapt\u001b[39m\u001b[38;5;124m\"\u001b[39m] \u001b[38;5;241m=\u001b[39m rapt_token\n\u001b[1;32m    330\u001b[0m metrics_header \u001b[38;5;241m=\u001b[39m {metrics\u001b[38;5;241m.\u001b[39mAPI_CLIENT_HEADER: metrics\u001b[38;5;241m.\u001b[39mtoken_request_user()}\n\u001b[0;32m--> 332\u001b[0m response_status_ok, response_data, retryable_error \u001b[38;5;241m=\u001b[39m \u001b[43m_client\u001b[49m\u001b[38;5;241;43m.\u001b[39;49m\u001b[43m_token_endpoint_request_no_throw\u001b[49m\u001b[43m(\u001b[49m\n\u001b[1;32m    333\u001b[0m \u001b[43m    \u001b[49m\u001b[43mrequest\u001b[49m\u001b[43m,\u001b[49m\u001b[43m \u001b[49m\u001b[43mtoken_uri\u001b[49m\u001b[43m,\u001b[49m\u001b[43m \u001b[49m\u001b[43mbody\u001b[49m\u001b[43m,\u001b[49m\u001b[43m \u001b[49m\u001b[43mheaders\u001b[49m\u001b[38;5;241;43m=\u001b[39;49m\u001b[43mmetrics_header\u001b[49m\n\u001b[1;32m    334\u001b[0m \u001b[43m\u001b[49m\u001b[43m)\u001b[49m\n\u001b[1;32m    336\u001b[0m \u001b[38;5;28;01mif\u001b[39;00m \u001b[38;5;129;01mnot\u001b[39;00m response_status_ok \u001b[38;5;129;01mand\u001b[39;00m \u001b[38;5;28misinstance\u001b[39m(response_data, \u001b[38;5;28mstr\u001b[39m):\n\u001b[1;32m    337\u001b[0m     \u001b[38;5;28;01mraise\u001b[39;00m exceptions\u001b[38;5;241m.\u001b[39mRefreshError(response_data, retryable\u001b[38;5;241m=\u001b[39m\u001b[38;5;28;01mFalse\u001b[39;00m)\n",
      "File \u001b[0;32m~/miniconda3/envs/py310/lib/python3.10/site-packages/google/oauth2/_client.py:215\u001b[0m, in \u001b[0;36m_token_endpoint_request_no_throw\u001b[0;34m(request, token_uri, body, access_token, use_json, can_retry, headers, **kwargs)\u001b[0m\n\u001b[1;32m    209\u001b[0m     retryable_error \u001b[38;5;241m=\u001b[39m _can_retry(\n\u001b[1;32m    210\u001b[0m         status_code\u001b[38;5;241m=\u001b[39mresponse\u001b[38;5;241m.\u001b[39mstatus, response_data\u001b[38;5;241m=\u001b[39mresponse_data\n\u001b[1;32m    211\u001b[0m     )\n\u001b[1;32m    213\u001b[0m     \u001b[38;5;28;01mreturn\u001b[39;00m \u001b[38;5;28;01mFalse\u001b[39;00m, response_data, retryable_error\n\u001b[0;32m--> 215\u001b[0m request_succeeded, response_data, retryable_error \u001b[38;5;241m=\u001b[39m \u001b[43m_perform_request\u001b[49m\u001b[43m(\u001b[49m\u001b[43m)\u001b[49m\n\u001b[1;32m    217\u001b[0m \u001b[38;5;28;01mif\u001b[39;00m request_succeeded \u001b[38;5;129;01mor\u001b[39;00m \u001b[38;5;129;01mnot\u001b[39;00m retryable_error \u001b[38;5;129;01mor\u001b[39;00m \u001b[38;5;129;01mnot\u001b[39;00m can_retry:\n\u001b[1;32m    218\u001b[0m     \u001b[38;5;28;01mreturn\u001b[39;00m request_succeeded, response_data, retryable_error\n",
      "File \u001b[0;32m~/miniconda3/envs/py310/lib/python3.10/site-packages/google/oauth2/_client.py:191\u001b[0m, in \u001b[0;36m_token_endpoint_request_no_throw.<locals>._perform_request\u001b[0;34m()\u001b[0m\n\u001b[1;32m    190\u001b[0m \u001b[38;5;28;01mdef\u001b[39;00m \u001b[38;5;21m_perform_request\u001b[39m():\n\u001b[0;32m--> 191\u001b[0m     response \u001b[38;5;241m=\u001b[39m \u001b[43mrequest\u001b[49m\u001b[43m(\u001b[49m\n\u001b[1;32m    192\u001b[0m \u001b[43m        \u001b[49m\u001b[43mmethod\u001b[49m\u001b[38;5;241;43m=\u001b[39;49m\u001b[38;5;124;43m\"\u001b[39;49m\u001b[38;5;124;43mPOST\u001b[39;49m\u001b[38;5;124;43m\"\u001b[39;49m\u001b[43m,\u001b[49m\u001b[43m \u001b[49m\u001b[43murl\u001b[49m\u001b[38;5;241;43m=\u001b[39;49m\u001b[43mtoken_uri\u001b[49m\u001b[43m,\u001b[49m\u001b[43m \u001b[49m\u001b[43mheaders\u001b[49m\u001b[38;5;241;43m=\u001b[39;49m\u001b[43mheaders_to_use\u001b[49m\u001b[43m,\u001b[49m\u001b[43m \u001b[49m\u001b[43mbody\u001b[49m\u001b[38;5;241;43m=\u001b[39;49m\u001b[43mbody\u001b[49m\u001b[43m,\u001b[49m\u001b[43m \u001b[49m\u001b[38;5;241;43m*\u001b[39;49m\u001b[38;5;241;43m*\u001b[39;49m\u001b[43mkwargs\u001b[49m\n\u001b[1;32m    193\u001b[0m \u001b[43m    \u001b[49m\u001b[43m)\u001b[49m\n\u001b[1;32m    194\u001b[0m     response_body \u001b[38;5;241m=\u001b[39m (\n\u001b[1;32m    195\u001b[0m         response\u001b[38;5;241m.\u001b[39mdata\u001b[38;5;241m.\u001b[39mdecode(\u001b[38;5;124m\"\u001b[39m\u001b[38;5;124mutf-8\u001b[39m\u001b[38;5;124m\"\u001b[39m)\n\u001b[1;32m    196\u001b[0m         \u001b[38;5;28;01mif\u001b[39;00m \u001b[38;5;28mhasattr\u001b[39m(response\u001b[38;5;241m.\u001b[39mdata, \u001b[38;5;124m\"\u001b[39m\u001b[38;5;124mdecode\u001b[39m\u001b[38;5;124m\"\u001b[39m)\n\u001b[1;32m    197\u001b[0m         \u001b[38;5;28;01melse\u001b[39;00m response\u001b[38;5;241m.\u001b[39mdata\n\u001b[1;32m    198\u001b[0m     )\n\u001b[1;32m    199\u001b[0m     response_data \u001b[38;5;241m=\u001b[39m \u001b[38;5;124m\"\u001b[39m\u001b[38;5;124m\"\u001b[39m\n",
      "File \u001b[0;32m~/miniconda3/envs/py310/lib/python3.10/site-packages/google/auth/transport/requests.py:186\u001b[0m, in \u001b[0;36mRequest.__call__\u001b[0;34m(self, url, method, body, headers, timeout, **kwargs)\u001b[0m\n\u001b[1;32m    184\u001b[0m \u001b[38;5;28;01mtry\u001b[39;00m:\n\u001b[1;32m    185\u001b[0m     _LOGGER\u001b[38;5;241m.\u001b[39mdebug(\u001b[38;5;124m\"\u001b[39m\u001b[38;5;124mMaking request: \u001b[39m\u001b[38;5;132;01m%s\u001b[39;00m\u001b[38;5;124m \u001b[39m\u001b[38;5;132;01m%s\u001b[39;00m\u001b[38;5;124m\"\u001b[39m, method, url)\n\u001b[0;32m--> 186\u001b[0m     response \u001b[38;5;241m=\u001b[39m \u001b[38;5;28;43mself\u001b[39;49m\u001b[38;5;241;43m.\u001b[39;49m\u001b[43msession\u001b[49m\u001b[38;5;241;43m.\u001b[39;49m\u001b[43mrequest\u001b[49m\u001b[43m(\u001b[49m\n\u001b[1;32m    187\u001b[0m \u001b[43m        \u001b[49m\u001b[43mmethod\u001b[49m\u001b[43m,\u001b[49m\u001b[43m \u001b[49m\u001b[43murl\u001b[49m\u001b[43m,\u001b[49m\u001b[43m \u001b[49m\u001b[43mdata\u001b[49m\u001b[38;5;241;43m=\u001b[39;49m\u001b[43mbody\u001b[49m\u001b[43m,\u001b[49m\u001b[43m \u001b[49m\u001b[43mheaders\u001b[49m\u001b[38;5;241;43m=\u001b[39;49m\u001b[43mheaders\u001b[49m\u001b[43m,\u001b[49m\u001b[43m \u001b[49m\u001b[43mtimeout\u001b[49m\u001b[38;5;241;43m=\u001b[39;49m\u001b[43mtimeout\u001b[49m\u001b[43m,\u001b[49m\u001b[43m \u001b[49m\u001b[38;5;241;43m*\u001b[39;49m\u001b[38;5;241;43m*\u001b[39;49m\u001b[43mkwargs\u001b[49m\n\u001b[1;32m    188\u001b[0m \u001b[43m    \u001b[49m\u001b[43m)\u001b[49m\n\u001b[1;32m    189\u001b[0m     \u001b[38;5;28;01mreturn\u001b[39;00m _Response(response)\n\u001b[1;32m    190\u001b[0m \u001b[38;5;28;01mexcept\u001b[39;00m requests\u001b[38;5;241m.\u001b[39mexceptions\u001b[38;5;241m.\u001b[39mRequestException \u001b[38;5;28;01mas\u001b[39;00m caught_exc:\n",
      "File \u001b[0;32m~/miniconda3/envs/py310/lib/python3.10/site-packages/requests/sessions.py:542\u001b[0m, in \u001b[0;36mSession.request\u001b[0;34m(self, method, url, params, data, headers, cookies, files, auth, timeout, allow_redirects, proxies, hooks, stream, verify, cert, json)\u001b[0m\n\u001b[1;32m    537\u001b[0m send_kwargs \u001b[38;5;241m=\u001b[39m {\n\u001b[1;32m    538\u001b[0m     \u001b[38;5;124m'\u001b[39m\u001b[38;5;124mtimeout\u001b[39m\u001b[38;5;124m'\u001b[39m: timeout,\n\u001b[1;32m    539\u001b[0m     \u001b[38;5;124m'\u001b[39m\u001b[38;5;124mallow_redirects\u001b[39m\u001b[38;5;124m'\u001b[39m: allow_redirects,\n\u001b[1;32m    540\u001b[0m }\n\u001b[1;32m    541\u001b[0m send_kwargs\u001b[38;5;241m.\u001b[39mupdate(settings)\n\u001b[0;32m--> 542\u001b[0m resp \u001b[38;5;241m=\u001b[39m \u001b[38;5;28;43mself\u001b[39;49m\u001b[38;5;241;43m.\u001b[39;49m\u001b[43msend\u001b[49m\u001b[43m(\u001b[49m\u001b[43mprep\u001b[49m\u001b[43m,\u001b[49m\u001b[43m \u001b[49m\u001b[38;5;241;43m*\u001b[39;49m\u001b[38;5;241;43m*\u001b[39;49m\u001b[43msend_kwargs\u001b[49m\u001b[43m)\u001b[49m\n\u001b[1;32m    544\u001b[0m \u001b[38;5;28;01mreturn\u001b[39;00m resp\n",
      "File \u001b[0;32m~/miniconda3/envs/py310/lib/python3.10/site-packages/requests/sessions.py:655\u001b[0m, in \u001b[0;36mSession.send\u001b[0;34m(self, request, **kwargs)\u001b[0m\n\u001b[1;32m    652\u001b[0m start \u001b[38;5;241m=\u001b[39m preferred_clock()\n\u001b[1;32m    654\u001b[0m \u001b[38;5;66;03m# Send the request\u001b[39;00m\n\u001b[0;32m--> 655\u001b[0m r \u001b[38;5;241m=\u001b[39m \u001b[43madapter\u001b[49m\u001b[38;5;241;43m.\u001b[39;49m\u001b[43msend\u001b[49m\u001b[43m(\u001b[49m\u001b[43mrequest\u001b[49m\u001b[43m,\u001b[49m\u001b[43m \u001b[49m\u001b[38;5;241;43m*\u001b[39;49m\u001b[38;5;241;43m*\u001b[39;49m\u001b[43mkwargs\u001b[49m\u001b[43m)\u001b[49m\n\u001b[1;32m    657\u001b[0m \u001b[38;5;66;03m# Total elapsed time of the request (approximately)\u001b[39;00m\n\u001b[1;32m    658\u001b[0m elapsed \u001b[38;5;241m=\u001b[39m preferred_clock() \u001b[38;5;241m-\u001b[39m start\n",
      "File \u001b[0;32m~/miniconda3/envs/py310/lib/python3.10/site-packages/requests/adapters.py:439\u001b[0m, in \u001b[0;36mHTTPAdapter.send\u001b[0;34m(self, request, stream, timeout, verify, cert, proxies)\u001b[0m\n\u001b[1;32m    437\u001b[0m \u001b[38;5;28;01mtry\u001b[39;00m:\n\u001b[1;32m    438\u001b[0m     \u001b[38;5;28;01mif\u001b[39;00m \u001b[38;5;129;01mnot\u001b[39;00m chunked:\n\u001b[0;32m--> 439\u001b[0m         resp \u001b[38;5;241m=\u001b[39m \u001b[43mconn\u001b[49m\u001b[38;5;241;43m.\u001b[39;49m\u001b[43murlopen\u001b[49m\u001b[43m(\u001b[49m\n\u001b[1;32m    440\u001b[0m \u001b[43m            \u001b[49m\u001b[43mmethod\u001b[49m\u001b[38;5;241;43m=\u001b[39;49m\u001b[43mrequest\u001b[49m\u001b[38;5;241;43m.\u001b[39;49m\u001b[43mmethod\u001b[49m\u001b[43m,\u001b[49m\n\u001b[1;32m    441\u001b[0m \u001b[43m            \u001b[49m\u001b[43murl\u001b[49m\u001b[38;5;241;43m=\u001b[39;49m\u001b[43murl\u001b[49m\u001b[43m,\u001b[49m\n\u001b[1;32m    442\u001b[0m \u001b[43m            \u001b[49m\u001b[43mbody\u001b[49m\u001b[38;5;241;43m=\u001b[39;49m\u001b[43mrequest\u001b[49m\u001b[38;5;241;43m.\u001b[39;49m\u001b[43mbody\u001b[49m\u001b[43m,\u001b[49m\n\u001b[1;32m    443\u001b[0m \u001b[43m            \u001b[49m\u001b[43mheaders\u001b[49m\u001b[38;5;241;43m=\u001b[39;49m\u001b[43mrequest\u001b[49m\u001b[38;5;241;43m.\u001b[39;49m\u001b[43mheaders\u001b[49m\u001b[43m,\u001b[49m\n\u001b[1;32m    444\u001b[0m \u001b[43m            \u001b[49m\u001b[43mredirect\u001b[49m\u001b[38;5;241;43m=\u001b[39;49m\u001b[38;5;28;43;01mFalse\u001b[39;49;00m\u001b[43m,\u001b[49m\n\u001b[1;32m    445\u001b[0m \u001b[43m            \u001b[49m\u001b[43massert_same_host\u001b[49m\u001b[38;5;241;43m=\u001b[39;49m\u001b[38;5;28;43;01mFalse\u001b[39;49;00m\u001b[43m,\u001b[49m\n\u001b[1;32m    446\u001b[0m \u001b[43m            \u001b[49m\u001b[43mpreload_content\u001b[49m\u001b[38;5;241;43m=\u001b[39;49m\u001b[38;5;28;43;01mFalse\u001b[39;49;00m\u001b[43m,\u001b[49m\n\u001b[1;32m    447\u001b[0m \u001b[43m            \u001b[49m\u001b[43mdecode_content\u001b[49m\u001b[38;5;241;43m=\u001b[39;49m\u001b[38;5;28;43;01mFalse\u001b[39;49;00m\u001b[43m,\u001b[49m\n\u001b[1;32m    448\u001b[0m \u001b[43m            \u001b[49m\u001b[43mretries\u001b[49m\u001b[38;5;241;43m=\u001b[39;49m\u001b[38;5;28;43mself\u001b[39;49m\u001b[38;5;241;43m.\u001b[39;49m\u001b[43mmax_retries\u001b[49m\u001b[43m,\u001b[49m\n\u001b[1;32m    449\u001b[0m \u001b[43m            \u001b[49m\u001b[43mtimeout\u001b[49m\u001b[38;5;241;43m=\u001b[39;49m\u001b[43mtimeout\u001b[49m\n\u001b[1;32m    450\u001b[0m \u001b[43m        \u001b[49m\u001b[43m)\u001b[49m\n\u001b[1;32m    452\u001b[0m     \u001b[38;5;66;03m# Send the request.\u001b[39;00m\n\u001b[1;32m    453\u001b[0m     \u001b[38;5;28;01melse\u001b[39;00m:\n\u001b[1;32m    454\u001b[0m         \u001b[38;5;28;01mif\u001b[39;00m \u001b[38;5;28mhasattr\u001b[39m(conn, \u001b[38;5;124m'\u001b[39m\u001b[38;5;124mproxy_pool\u001b[39m\u001b[38;5;124m'\u001b[39m):\n",
      "File \u001b[0;32m~/miniconda3/envs/py310/lib/python3.10/site-packages/urllib3/connectionpool.py:714\u001b[0m, in \u001b[0;36mHTTPConnectionPool.urlopen\u001b[0;34m(self, method, url, body, headers, retries, redirect, assert_same_host, timeout, pool_timeout, release_conn, chunked, body_pos, **response_kw)\u001b[0m\n\u001b[1;32m    711\u001b[0m     \u001b[38;5;28mself\u001b[39m\u001b[38;5;241m.\u001b[39m_prepare_proxy(conn)\n\u001b[1;32m    713\u001b[0m \u001b[38;5;66;03m# Make the request on the httplib connection object.\u001b[39;00m\n\u001b[0;32m--> 714\u001b[0m httplib_response \u001b[38;5;241m=\u001b[39m \u001b[38;5;28;43mself\u001b[39;49m\u001b[38;5;241;43m.\u001b[39;49m\u001b[43m_make_request\u001b[49m\u001b[43m(\u001b[49m\n\u001b[1;32m    715\u001b[0m \u001b[43m    \u001b[49m\u001b[43mconn\u001b[49m\u001b[43m,\u001b[49m\n\u001b[1;32m    716\u001b[0m \u001b[43m    \u001b[49m\u001b[43mmethod\u001b[49m\u001b[43m,\u001b[49m\n\u001b[1;32m    717\u001b[0m \u001b[43m    \u001b[49m\u001b[43murl\u001b[49m\u001b[43m,\u001b[49m\n\u001b[1;32m    718\u001b[0m \u001b[43m    \u001b[49m\u001b[43mtimeout\u001b[49m\u001b[38;5;241;43m=\u001b[39;49m\u001b[43mtimeout_obj\u001b[49m\u001b[43m,\u001b[49m\n\u001b[1;32m    719\u001b[0m \u001b[43m    \u001b[49m\u001b[43mbody\u001b[49m\u001b[38;5;241;43m=\u001b[39;49m\u001b[43mbody\u001b[49m\u001b[43m,\u001b[49m\n\u001b[1;32m    720\u001b[0m \u001b[43m    \u001b[49m\u001b[43mheaders\u001b[49m\u001b[38;5;241;43m=\u001b[39;49m\u001b[43mheaders\u001b[49m\u001b[43m,\u001b[49m\n\u001b[1;32m    721\u001b[0m \u001b[43m    \u001b[49m\u001b[43mchunked\u001b[49m\u001b[38;5;241;43m=\u001b[39;49m\u001b[43mchunked\u001b[49m\u001b[43m,\u001b[49m\n\u001b[1;32m    722\u001b[0m \u001b[43m\u001b[49m\u001b[43m)\u001b[49m\n\u001b[1;32m    724\u001b[0m \u001b[38;5;66;03m# If we're going to release the connection in ``finally:``, then\u001b[39;00m\n\u001b[1;32m    725\u001b[0m \u001b[38;5;66;03m# the response doesn't need to know about the connection. Otherwise\u001b[39;00m\n\u001b[1;32m    726\u001b[0m \u001b[38;5;66;03m# it will also try to release it and we'll have a double-release\u001b[39;00m\n\u001b[1;32m    727\u001b[0m \u001b[38;5;66;03m# mess.\u001b[39;00m\n\u001b[1;32m    728\u001b[0m response_conn \u001b[38;5;241m=\u001b[39m conn \u001b[38;5;28;01mif\u001b[39;00m \u001b[38;5;129;01mnot\u001b[39;00m release_conn \u001b[38;5;28;01melse\u001b[39;00m \u001b[38;5;28;01mNone\u001b[39;00m\n",
      "File \u001b[0;32m~/miniconda3/envs/py310/lib/python3.10/site-packages/urllib3/connectionpool.py:403\u001b[0m, in \u001b[0;36mHTTPConnectionPool._make_request\u001b[0;34m(self, conn, method, url, timeout, chunked, **httplib_request_kw)\u001b[0m\n\u001b[1;32m    401\u001b[0m \u001b[38;5;66;03m# Trigger any extra validation we need to do.\u001b[39;00m\n\u001b[1;32m    402\u001b[0m \u001b[38;5;28;01mtry\u001b[39;00m:\n\u001b[0;32m--> 403\u001b[0m     \u001b[38;5;28;43mself\u001b[39;49m\u001b[38;5;241;43m.\u001b[39;49m\u001b[43m_validate_conn\u001b[49m\u001b[43m(\u001b[49m\u001b[43mconn\u001b[49m\u001b[43m)\u001b[49m\n\u001b[1;32m    404\u001b[0m \u001b[38;5;28;01mexcept\u001b[39;00m (SocketTimeout, BaseSSLError) \u001b[38;5;28;01mas\u001b[39;00m e:\n\u001b[1;32m    405\u001b[0m     \u001b[38;5;66;03m# Py2 raises this as a BaseSSLError, Py3 raises it as socket timeout.\u001b[39;00m\n\u001b[1;32m    406\u001b[0m     \u001b[38;5;28mself\u001b[39m\u001b[38;5;241m.\u001b[39m_raise_timeout(err\u001b[38;5;241m=\u001b[39me, url\u001b[38;5;241m=\u001b[39murl, timeout_value\u001b[38;5;241m=\u001b[39mconn\u001b[38;5;241m.\u001b[39mtimeout)\n",
      "File \u001b[0;32m~/miniconda3/envs/py310/lib/python3.10/site-packages/urllib3/connectionpool.py:1053\u001b[0m, in \u001b[0;36mHTTPSConnectionPool._validate_conn\u001b[0;34m(self, conn)\u001b[0m\n\u001b[1;32m   1051\u001b[0m \u001b[38;5;66;03m# Force connect early to allow us to validate the connection.\u001b[39;00m\n\u001b[1;32m   1052\u001b[0m \u001b[38;5;28;01mif\u001b[39;00m \u001b[38;5;129;01mnot\u001b[39;00m \u001b[38;5;28mgetattr\u001b[39m(conn, \u001b[38;5;124m\"\u001b[39m\u001b[38;5;124msock\u001b[39m\u001b[38;5;124m\"\u001b[39m, \u001b[38;5;28;01mNone\u001b[39;00m):  \u001b[38;5;66;03m# AppEngine might not have  `.sock`\u001b[39;00m\n\u001b[0;32m-> 1053\u001b[0m     \u001b[43mconn\u001b[49m\u001b[38;5;241;43m.\u001b[39;49m\u001b[43mconnect\u001b[49m\u001b[43m(\u001b[49m\u001b[43m)\u001b[49m\n\u001b[1;32m   1055\u001b[0m \u001b[38;5;28;01mif\u001b[39;00m \u001b[38;5;129;01mnot\u001b[39;00m conn\u001b[38;5;241m.\u001b[39mis_verified:\n\u001b[1;32m   1056\u001b[0m     warnings\u001b[38;5;241m.\u001b[39mwarn(\n\u001b[1;32m   1057\u001b[0m         (\n\u001b[1;32m   1058\u001b[0m             \u001b[38;5;124m\"\u001b[39m\u001b[38;5;124mUnverified HTTPS request is being made to host \u001b[39m\u001b[38;5;124m'\u001b[39m\u001b[38;5;132;01m%s\u001b[39;00m\u001b[38;5;124m'\u001b[39m\u001b[38;5;124m. \u001b[39m\u001b[38;5;124m\"\u001b[39m\n\u001b[0;32m   (...)\u001b[0m\n\u001b[1;32m   1063\u001b[0m         InsecureRequestWarning,\n\u001b[1;32m   1064\u001b[0m     )\n",
      "File \u001b[0;32m~/miniconda3/envs/py310/lib/python3.10/site-packages/urllib3/connection.py:363\u001b[0m, in \u001b[0;36mHTTPSConnection.connect\u001b[0;34m(self)\u001b[0m\n\u001b[1;32m    361\u001b[0m \u001b[38;5;28;01mdef\u001b[39;00m \u001b[38;5;21mconnect\u001b[39m(\u001b[38;5;28mself\u001b[39m):\n\u001b[1;32m    362\u001b[0m     \u001b[38;5;66;03m# Add certificate verification\u001b[39;00m\n\u001b[0;32m--> 363\u001b[0m     \u001b[38;5;28mself\u001b[39m\u001b[38;5;241m.\u001b[39msock \u001b[38;5;241m=\u001b[39m conn \u001b[38;5;241m=\u001b[39m \u001b[38;5;28;43mself\u001b[39;49m\u001b[38;5;241;43m.\u001b[39;49m\u001b[43m_new_conn\u001b[49m\u001b[43m(\u001b[49m\u001b[43m)\u001b[49m\n\u001b[1;32m    364\u001b[0m     hostname \u001b[38;5;241m=\u001b[39m \u001b[38;5;28mself\u001b[39m\u001b[38;5;241m.\u001b[39mhost\n\u001b[1;32m    365\u001b[0m     tls_in_tls \u001b[38;5;241m=\u001b[39m \u001b[38;5;28;01mFalse\u001b[39;00m\n",
      "File \u001b[0;32m~/miniconda3/envs/py310/lib/python3.10/site-packages/urllib3/connection.py:174\u001b[0m, in \u001b[0;36mHTTPConnection._new_conn\u001b[0;34m(self)\u001b[0m\n\u001b[1;32m    171\u001b[0m     extra_kw[\u001b[38;5;124m\"\u001b[39m\u001b[38;5;124msocket_options\u001b[39m\u001b[38;5;124m\"\u001b[39m] \u001b[38;5;241m=\u001b[39m \u001b[38;5;28mself\u001b[39m\u001b[38;5;241m.\u001b[39msocket_options\n\u001b[1;32m    173\u001b[0m \u001b[38;5;28;01mtry\u001b[39;00m:\n\u001b[0;32m--> 174\u001b[0m     conn \u001b[38;5;241m=\u001b[39m \u001b[43mconnection\u001b[49m\u001b[38;5;241;43m.\u001b[39;49m\u001b[43mcreate_connection\u001b[49m\u001b[43m(\u001b[49m\n\u001b[1;32m    175\u001b[0m \u001b[43m        \u001b[49m\u001b[43m(\u001b[49m\u001b[38;5;28;43mself\u001b[39;49m\u001b[38;5;241;43m.\u001b[39;49m\u001b[43m_dns_host\u001b[49m\u001b[43m,\u001b[49m\u001b[43m \u001b[49m\u001b[38;5;28;43mself\u001b[39;49m\u001b[38;5;241;43m.\u001b[39;49m\u001b[43mport\u001b[49m\u001b[43m)\u001b[49m\u001b[43m,\u001b[49m\u001b[43m \u001b[49m\u001b[38;5;28;43mself\u001b[39;49m\u001b[38;5;241;43m.\u001b[39;49m\u001b[43mtimeout\u001b[49m\u001b[43m,\u001b[49m\u001b[43m \u001b[49m\u001b[38;5;241;43m*\u001b[39;49m\u001b[38;5;241;43m*\u001b[39;49m\u001b[43mextra_kw\u001b[49m\n\u001b[1;32m    176\u001b[0m \u001b[43m    \u001b[49m\u001b[43m)\u001b[49m\n\u001b[1;32m    178\u001b[0m \u001b[38;5;28;01mexcept\u001b[39;00m SocketTimeout:\n\u001b[1;32m    179\u001b[0m     \u001b[38;5;28;01mraise\u001b[39;00m ConnectTimeoutError(\n\u001b[1;32m    180\u001b[0m         \u001b[38;5;28mself\u001b[39m,\n\u001b[1;32m    181\u001b[0m         \u001b[38;5;124m\"\u001b[39m\u001b[38;5;124mConnection to \u001b[39m\u001b[38;5;132;01m%s\u001b[39;00m\u001b[38;5;124m timed out. (connect timeout=\u001b[39m\u001b[38;5;132;01m%s\u001b[39;00m\u001b[38;5;124m)\u001b[39m\u001b[38;5;124m\"\u001b[39m\n\u001b[1;32m    182\u001b[0m         \u001b[38;5;241m%\u001b[39m (\u001b[38;5;28mself\u001b[39m\u001b[38;5;241m.\u001b[39mhost, \u001b[38;5;28mself\u001b[39m\u001b[38;5;241m.\u001b[39mtimeout),\n\u001b[1;32m    183\u001b[0m     )\n",
      "File \u001b[0;32m~/miniconda3/envs/py310/lib/python3.10/site-packages/urllib3/util/connection.py:85\u001b[0m, in \u001b[0;36mcreate_connection\u001b[0;34m(address, timeout, source_address, socket_options)\u001b[0m\n\u001b[1;32m     83\u001b[0m     \u001b[38;5;28;01mif\u001b[39;00m source_address:\n\u001b[1;32m     84\u001b[0m         sock\u001b[38;5;241m.\u001b[39mbind(source_address)\n\u001b[0;32m---> 85\u001b[0m     \u001b[43msock\u001b[49m\u001b[38;5;241;43m.\u001b[39;49m\u001b[43mconnect\u001b[49m\u001b[43m(\u001b[49m\u001b[43msa\u001b[49m\u001b[43m)\u001b[49m\n\u001b[1;32m     86\u001b[0m     \u001b[38;5;28;01mreturn\u001b[39;00m sock\n\u001b[1;32m     88\u001b[0m \u001b[38;5;28;01mexcept\u001b[39;00m socket\u001b[38;5;241m.\u001b[39merror \u001b[38;5;28;01mas\u001b[39;00m e:\n",
      "\u001b[0;31mKeyboardInterrupt\u001b[0m: "
     ]
    }
   ],
   "source": [
    "import google.cloud.storage as gcs_storage\n",
    "\n",
    "client = gcs_storage.Client(project=\"data-totality-352303\")\n",
    "objects = client.bucket(\"rxrx1-europe-west4\").list_blobs(\n",
    "    prefix=\"images\", max_results=10\n",
    ")\n",
    "next(objects)"
   ]
  },
  {
   "cell_type": "code",
   "execution_count": 6,
   "id": "a7bd6e6f",
   "metadata": {},
   "outputs": [
    {
     "ename": "KeyboardInterrupt",
     "evalue": "",
     "output_type": "error",
     "traceback": [
      "\u001b[0;31m---------------------------------------------------------------------------\u001b[0m",
      "\u001b[0;31mKeyboardInterrupt\u001b[0m                         Traceback (most recent call last)",
      "Cell \u001b[0;32mIn[6], line 1\u001b[0m\n\u001b[0;32m----> 1\u001b[0m \u001b[38;5;28;43mnext\u001b[39;49m\u001b[43m(\u001b[49m\u001b[43mobjects\u001b[49m\u001b[43m)\u001b[49m\n",
      "File \u001b[0;32m~/miniconda3/envs/py310/lib/python3.10/site-packages/google/api_core/page_iterator.py:230\u001b[0m, in \u001b[0;36mIterator.__next__\u001b[0;34m(self)\u001b[0m\n\u001b[1;32m    228\u001b[0m \u001b[38;5;28;01mif\u001b[39;00m \u001b[38;5;28mself\u001b[39m\u001b[38;5;241m.\u001b[39m__active_iterator \u001b[38;5;129;01mis\u001b[39;00m \u001b[38;5;28;01mNone\u001b[39;00m:\n\u001b[1;32m    229\u001b[0m     \u001b[38;5;28mself\u001b[39m\u001b[38;5;241m.\u001b[39m__active_iterator \u001b[38;5;241m=\u001b[39m \u001b[38;5;28miter\u001b[39m(\u001b[38;5;28mself\u001b[39m)\n\u001b[0;32m--> 230\u001b[0m \u001b[38;5;28;01mreturn\u001b[39;00m \u001b[38;5;28;43mnext\u001b[39;49m\u001b[43m(\u001b[49m\u001b[38;5;28;43mself\u001b[39;49m\u001b[38;5;241;43m.\u001b[39;49m\u001b[43m__active_iterator\u001b[49m\u001b[43m)\u001b[49m\n",
      "File \u001b[0;32m~/miniconda3/envs/py310/lib/python3.10/site-packages/google/api_core/page_iterator.py:208\u001b[0m, in \u001b[0;36mIterator._items_iter\u001b[0;34m(self)\u001b[0m\n\u001b[1;32m    206\u001b[0m \u001b[38;5;28;01mdef\u001b[39;00m \u001b[38;5;21m_items_iter\u001b[39m(\u001b[38;5;28mself\u001b[39m):\n\u001b[1;32m    207\u001b[0m \u001b[38;5;250m    \u001b[39m\u001b[38;5;124;03m\"\"\"Iterator for each item returned.\"\"\"\u001b[39;00m\n\u001b[0;32m--> 208\u001b[0m     \u001b[38;5;28;01mfor\u001b[39;00m page \u001b[38;5;129;01min\u001b[39;00m \u001b[38;5;28mself\u001b[39m\u001b[38;5;241m.\u001b[39m_page_iter(increment\u001b[38;5;241m=\u001b[39m\u001b[38;5;28;01mFalse\u001b[39;00m):\n\u001b[1;32m    209\u001b[0m         \u001b[38;5;28;01mfor\u001b[39;00m item \u001b[38;5;129;01min\u001b[39;00m page:\n\u001b[1;32m    210\u001b[0m             \u001b[38;5;28mself\u001b[39m\u001b[38;5;241m.\u001b[39mnum_results \u001b[38;5;241m+\u001b[39m\u001b[38;5;241m=\u001b[39m \u001b[38;5;241m1\u001b[39m\n",
      "File \u001b[0;32m~/miniconda3/envs/py310/lib/python3.10/site-packages/google/api_core/page_iterator.py:244\u001b[0m, in \u001b[0;36mIterator._page_iter\u001b[0;34m(self, increment)\u001b[0m\n\u001b[1;32m    232\u001b[0m \u001b[38;5;28;01mdef\u001b[39;00m \u001b[38;5;21m_page_iter\u001b[39m(\u001b[38;5;28mself\u001b[39m, increment):\n\u001b[1;32m    233\u001b[0m \u001b[38;5;250m    \u001b[39m\u001b[38;5;124;03m\"\"\"Generator of pages of API responses.\u001b[39;00m\n\u001b[1;32m    234\u001b[0m \n\u001b[1;32m    235\u001b[0m \u001b[38;5;124;03m    Args:\u001b[39;00m\n\u001b[0;32m   (...)\u001b[0m\n\u001b[1;32m    242\u001b[0m \u001b[38;5;124;03m        Page: each page of items from the API.\u001b[39;00m\n\u001b[1;32m    243\u001b[0m \u001b[38;5;124;03m    \"\"\"\u001b[39;00m\n\u001b[0;32m--> 244\u001b[0m     page \u001b[38;5;241m=\u001b[39m \u001b[38;5;28;43mself\u001b[39;49m\u001b[38;5;241;43m.\u001b[39;49m\u001b[43m_next_page\u001b[49m\u001b[43m(\u001b[49m\u001b[43m)\u001b[49m\n\u001b[1;32m    245\u001b[0m     \u001b[38;5;28;01mwhile\u001b[39;00m page \u001b[38;5;129;01mis\u001b[39;00m \u001b[38;5;129;01mnot\u001b[39;00m \u001b[38;5;28;01mNone\u001b[39;00m:\n\u001b[1;32m    246\u001b[0m         \u001b[38;5;28mself\u001b[39m\u001b[38;5;241m.\u001b[39mpage_number \u001b[38;5;241m+\u001b[39m\u001b[38;5;241m=\u001b[39m \u001b[38;5;241m1\u001b[39m\n",
      "File \u001b[0;32m~/miniconda3/envs/py310/lib/python3.10/site-packages/google/api_core/page_iterator.py:373\u001b[0m, in \u001b[0;36mHTTPIterator._next_page\u001b[0;34m(self)\u001b[0m\n\u001b[1;32m    366\u001b[0m \u001b[38;5;250m\u001b[39m\u001b[38;5;124;03m\"\"\"Get the next page in the iterator.\u001b[39;00m\n\u001b[1;32m    367\u001b[0m \n\u001b[1;32m    368\u001b[0m \u001b[38;5;124;03mReturns:\u001b[39;00m\n\u001b[1;32m    369\u001b[0m \u001b[38;5;124;03m    Optional[Page]: The next page in the iterator or :data:`None` if\u001b[39;00m\n\u001b[1;32m    370\u001b[0m \u001b[38;5;124;03m        there are no pages left.\u001b[39;00m\n\u001b[1;32m    371\u001b[0m \u001b[38;5;124;03m\"\"\"\u001b[39;00m\n\u001b[1;32m    372\u001b[0m \u001b[38;5;28;01mif\u001b[39;00m \u001b[38;5;28mself\u001b[39m\u001b[38;5;241m.\u001b[39m_has_next_page():\n\u001b[0;32m--> 373\u001b[0m     response \u001b[38;5;241m=\u001b[39m \u001b[38;5;28;43mself\u001b[39;49m\u001b[38;5;241;43m.\u001b[39;49m\u001b[43m_get_next_page_response\u001b[49m\u001b[43m(\u001b[49m\u001b[43m)\u001b[49m\n\u001b[1;32m    374\u001b[0m     items \u001b[38;5;241m=\u001b[39m response\u001b[38;5;241m.\u001b[39mget(\u001b[38;5;28mself\u001b[39m\u001b[38;5;241m.\u001b[39m_items_key, ())\n\u001b[1;32m    375\u001b[0m     page \u001b[38;5;241m=\u001b[39m Page(\u001b[38;5;28mself\u001b[39m, items, \u001b[38;5;28mself\u001b[39m\u001b[38;5;241m.\u001b[39mitem_to_value, raw_page\u001b[38;5;241m=\u001b[39mresponse)\n",
      "File \u001b[0;32m~/miniconda3/envs/py310/lib/python3.10/site-packages/google/api_core/page_iterator.py:432\u001b[0m, in \u001b[0;36mHTTPIterator._get_next_page_response\u001b[0;34m(self)\u001b[0m\n\u001b[1;32m    430\u001b[0m params \u001b[38;5;241m=\u001b[39m \u001b[38;5;28mself\u001b[39m\u001b[38;5;241m.\u001b[39m_get_query_params()\n\u001b[1;32m    431\u001b[0m \u001b[38;5;28;01mif\u001b[39;00m \u001b[38;5;28mself\u001b[39m\u001b[38;5;241m.\u001b[39m_HTTP_METHOD \u001b[38;5;241m==\u001b[39m \u001b[38;5;124m\"\u001b[39m\u001b[38;5;124mGET\u001b[39m\u001b[38;5;124m\"\u001b[39m:\n\u001b[0;32m--> 432\u001b[0m     \u001b[38;5;28;01mreturn\u001b[39;00m \u001b[38;5;28;43mself\u001b[39;49m\u001b[38;5;241;43m.\u001b[39;49m\u001b[43mapi_request\u001b[49m\u001b[43m(\u001b[49m\n\u001b[1;32m    433\u001b[0m \u001b[43m        \u001b[49m\u001b[43mmethod\u001b[49m\u001b[38;5;241;43m=\u001b[39;49m\u001b[38;5;28;43mself\u001b[39;49m\u001b[38;5;241;43m.\u001b[39;49m\u001b[43m_HTTP_METHOD\u001b[49m\u001b[43m,\u001b[49m\u001b[43m \u001b[49m\u001b[43mpath\u001b[49m\u001b[38;5;241;43m=\u001b[39;49m\u001b[38;5;28;43mself\u001b[39;49m\u001b[38;5;241;43m.\u001b[39;49m\u001b[43mpath\u001b[49m\u001b[43m,\u001b[49m\u001b[43m \u001b[49m\u001b[43mquery_params\u001b[49m\u001b[38;5;241;43m=\u001b[39;49m\u001b[43mparams\u001b[49m\n\u001b[1;32m    434\u001b[0m \u001b[43m    \u001b[49m\u001b[43m)\u001b[49m\n\u001b[1;32m    435\u001b[0m \u001b[38;5;28;01melif\u001b[39;00m \u001b[38;5;28mself\u001b[39m\u001b[38;5;241m.\u001b[39m_HTTP_METHOD \u001b[38;5;241m==\u001b[39m \u001b[38;5;124m\"\u001b[39m\u001b[38;5;124mPOST\u001b[39m\u001b[38;5;124m\"\u001b[39m:\n\u001b[1;32m    436\u001b[0m     \u001b[38;5;28;01mreturn\u001b[39;00m \u001b[38;5;28mself\u001b[39m\u001b[38;5;241m.\u001b[39mapi_request(\n\u001b[1;32m    437\u001b[0m         method\u001b[38;5;241m=\u001b[39m\u001b[38;5;28mself\u001b[39m\u001b[38;5;241m.\u001b[39m_HTTP_METHOD, path\u001b[38;5;241m=\u001b[39m\u001b[38;5;28mself\u001b[39m\u001b[38;5;241m.\u001b[39mpath, data\u001b[38;5;241m=\u001b[39mparams\n\u001b[1;32m    438\u001b[0m     )\n",
      "File \u001b[0;32m~/miniconda3/envs/py310/lib/python3.10/site-packages/google/cloud/storage/_http.py:72\u001b[0m, in \u001b[0;36mConnection.api_request\u001b[0;34m(self, *args, **kwargs)\u001b[0m\n\u001b[1;32m     70\u001b[0m     \u001b[38;5;28;01mif\u001b[39;00m retry:\n\u001b[1;32m     71\u001b[0m         call \u001b[38;5;241m=\u001b[39m retry(call)\n\u001b[0;32m---> 72\u001b[0m \u001b[38;5;28;01mreturn\u001b[39;00m \u001b[43mcall\u001b[49m\u001b[43m(\u001b[49m\u001b[43m)\u001b[49m\n",
      "File \u001b[0;32m~/miniconda3/envs/py310/lib/python3.10/site-packages/google/api_core/retry.py:366\u001b[0m, in \u001b[0;36mRetry.__call__.<locals>.retry_wrapped_func\u001b[0;34m(*args, **kwargs)\u001b[0m\n\u001b[1;32m    362\u001b[0m target \u001b[38;5;241m=\u001b[39m functools\u001b[38;5;241m.\u001b[39mpartial(func, \u001b[38;5;241m*\u001b[39margs, \u001b[38;5;241m*\u001b[39m\u001b[38;5;241m*\u001b[39mkwargs)\n\u001b[1;32m    363\u001b[0m sleep_generator \u001b[38;5;241m=\u001b[39m exponential_sleep_generator(\n\u001b[1;32m    364\u001b[0m     \u001b[38;5;28mself\u001b[39m\u001b[38;5;241m.\u001b[39m_initial, \u001b[38;5;28mself\u001b[39m\u001b[38;5;241m.\u001b[39m_maximum, multiplier\u001b[38;5;241m=\u001b[39m\u001b[38;5;28mself\u001b[39m\u001b[38;5;241m.\u001b[39m_multiplier\n\u001b[1;32m    365\u001b[0m )\n\u001b[0;32m--> 366\u001b[0m \u001b[38;5;28;01mreturn\u001b[39;00m \u001b[43mretry_target\u001b[49m\u001b[43m(\u001b[49m\n\u001b[1;32m    367\u001b[0m \u001b[43m    \u001b[49m\u001b[43mtarget\u001b[49m\u001b[43m,\u001b[49m\n\u001b[1;32m    368\u001b[0m \u001b[43m    \u001b[49m\u001b[38;5;28;43mself\u001b[39;49m\u001b[38;5;241;43m.\u001b[39;49m\u001b[43m_predicate\u001b[49m\u001b[43m,\u001b[49m\n\u001b[1;32m    369\u001b[0m \u001b[43m    \u001b[49m\u001b[43msleep_generator\u001b[49m\u001b[43m,\u001b[49m\n\u001b[1;32m    370\u001b[0m \u001b[43m    \u001b[49m\u001b[38;5;28;43mself\u001b[39;49m\u001b[38;5;241;43m.\u001b[39;49m\u001b[43m_timeout\u001b[49m\u001b[43m,\u001b[49m\n\u001b[1;32m    371\u001b[0m \u001b[43m    \u001b[49m\u001b[43mon_error\u001b[49m\u001b[38;5;241;43m=\u001b[39;49m\u001b[43mon_error\u001b[49m\u001b[43m,\u001b[49m\n\u001b[1;32m    372\u001b[0m \u001b[43m\u001b[49m\u001b[43m)\u001b[49m\n",
      "File \u001b[0;32m~/miniconda3/envs/py310/lib/python3.10/site-packages/google/api_core/retry.py:204\u001b[0m, in \u001b[0;36mretry_target\u001b[0;34m(target, predicate, sleep_generator, timeout, on_error, **kwargs)\u001b[0m\n\u001b[1;32m    202\u001b[0m \u001b[38;5;28;01mfor\u001b[39;00m sleep \u001b[38;5;129;01min\u001b[39;00m sleep_generator:\n\u001b[1;32m    203\u001b[0m     \u001b[38;5;28;01mtry\u001b[39;00m:\n\u001b[0;32m--> 204\u001b[0m         \u001b[38;5;28;01mreturn\u001b[39;00m \u001b[43mtarget\u001b[49m\u001b[43m(\u001b[49m\u001b[43m)\u001b[49m\n\u001b[1;32m    206\u001b[0m     \u001b[38;5;66;03m# pylint: disable=broad-except\u001b[39;00m\n\u001b[1;32m    207\u001b[0m     \u001b[38;5;66;03m# This function explicitly must deal with broad exceptions.\u001b[39;00m\n\u001b[1;32m    208\u001b[0m     \u001b[38;5;28;01mexcept\u001b[39;00m \u001b[38;5;167;01mException\u001b[39;00m \u001b[38;5;28;01mas\u001b[39;00m exc:\n",
      "File \u001b[0;32m~/miniconda3/envs/py310/lib/python3.10/site-packages/google/cloud/_http/__init__.py:482\u001b[0m, in \u001b[0;36mJSONConnection.api_request\u001b[0;34m(self, method, path, query_params, data, content_type, headers, api_base_url, api_version, expect_json, _target_object, timeout, extra_api_info)\u001b[0m\n\u001b[1;32m    479\u001b[0m     data \u001b[38;5;241m=\u001b[39m json\u001b[38;5;241m.\u001b[39mdumps(data)\n\u001b[1;32m    480\u001b[0m     content_type \u001b[38;5;241m=\u001b[39m \u001b[38;5;124m\"\u001b[39m\u001b[38;5;124mapplication/json\u001b[39m\u001b[38;5;124m\"\u001b[39m\n\u001b[0;32m--> 482\u001b[0m response \u001b[38;5;241m=\u001b[39m \u001b[38;5;28;43mself\u001b[39;49m\u001b[38;5;241;43m.\u001b[39;49m\u001b[43m_make_request\u001b[49m\u001b[43m(\u001b[49m\n\u001b[1;32m    483\u001b[0m \u001b[43m    \u001b[49m\u001b[43mmethod\u001b[49m\u001b[38;5;241;43m=\u001b[39;49m\u001b[43mmethod\u001b[49m\u001b[43m,\u001b[49m\n\u001b[1;32m    484\u001b[0m \u001b[43m    \u001b[49m\u001b[43murl\u001b[49m\u001b[38;5;241;43m=\u001b[39;49m\u001b[43murl\u001b[49m\u001b[43m,\u001b[49m\n\u001b[1;32m    485\u001b[0m \u001b[43m    \u001b[49m\u001b[43mdata\u001b[49m\u001b[38;5;241;43m=\u001b[39;49m\u001b[43mdata\u001b[49m\u001b[43m,\u001b[49m\n\u001b[1;32m    486\u001b[0m \u001b[43m    \u001b[49m\u001b[43mcontent_type\u001b[49m\u001b[38;5;241;43m=\u001b[39;49m\u001b[43mcontent_type\u001b[49m\u001b[43m,\u001b[49m\n\u001b[1;32m    487\u001b[0m \u001b[43m    \u001b[49m\u001b[43mheaders\u001b[49m\u001b[38;5;241;43m=\u001b[39;49m\u001b[43mheaders\u001b[49m\u001b[43m,\u001b[49m\n\u001b[1;32m    488\u001b[0m \u001b[43m    \u001b[49m\u001b[43mtarget_object\u001b[49m\u001b[38;5;241;43m=\u001b[39;49m\u001b[43m_target_object\u001b[49m\u001b[43m,\u001b[49m\n\u001b[1;32m    489\u001b[0m \u001b[43m    \u001b[49m\u001b[43mtimeout\u001b[49m\u001b[38;5;241;43m=\u001b[39;49m\u001b[43mtimeout\u001b[49m\u001b[43m,\u001b[49m\n\u001b[1;32m    490\u001b[0m \u001b[43m    \u001b[49m\u001b[43mextra_api_info\u001b[49m\u001b[38;5;241;43m=\u001b[39;49m\u001b[43mextra_api_info\u001b[49m\u001b[43m,\u001b[49m\n\u001b[1;32m    491\u001b[0m \u001b[43m\u001b[49m\u001b[43m)\u001b[49m\n\u001b[1;32m    493\u001b[0m \u001b[38;5;28;01mif\u001b[39;00m \u001b[38;5;129;01mnot\u001b[39;00m \u001b[38;5;241m200\u001b[39m \u001b[38;5;241m<\u001b[39m\u001b[38;5;241m=\u001b[39m response\u001b[38;5;241m.\u001b[39mstatus_code \u001b[38;5;241m<\u001b[39m \u001b[38;5;241m300\u001b[39m:\n\u001b[1;32m    494\u001b[0m     \u001b[38;5;28;01mraise\u001b[39;00m exceptions\u001b[38;5;241m.\u001b[39mfrom_http_response(response)\n",
      "File \u001b[0;32m~/miniconda3/envs/py310/lib/python3.10/site-packages/google/cloud/_http/__init__.py:341\u001b[0m, in \u001b[0;36mJSONConnection._make_request\u001b[0;34m(self, method, url, data, content_type, headers, target_object, timeout, extra_api_info)\u001b[0m\n\u001b[1;32m    338\u001b[0m     headers[CLIENT_INFO_HEADER] \u001b[38;5;241m=\u001b[39m \u001b[38;5;28mself\u001b[39m\u001b[38;5;241m.\u001b[39muser_agent\n\u001b[1;32m    339\u001b[0m headers[\u001b[38;5;124m\"\u001b[39m\u001b[38;5;124mUser-Agent\u001b[39m\u001b[38;5;124m\"\u001b[39m] \u001b[38;5;241m=\u001b[39m \u001b[38;5;28mself\u001b[39m\u001b[38;5;241m.\u001b[39muser_agent\n\u001b[0;32m--> 341\u001b[0m \u001b[38;5;28;01mreturn\u001b[39;00m \u001b[38;5;28;43mself\u001b[39;49m\u001b[38;5;241;43m.\u001b[39;49m\u001b[43m_do_request\u001b[49m\u001b[43m(\u001b[49m\n\u001b[1;32m    342\u001b[0m \u001b[43m    \u001b[49m\u001b[43mmethod\u001b[49m\u001b[43m,\u001b[49m\u001b[43m \u001b[49m\u001b[43murl\u001b[49m\u001b[43m,\u001b[49m\u001b[43m \u001b[49m\u001b[43mheaders\u001b[49m\u001b[43m,\u001b[49m\u001b[43m \u001b[49m\u001b[43mdata\u001b[49m\u001b[43m,\u001b[49m\u001b[43m \u001b[49m\u001b[43mtarget_object\u001b[49m\u001b[43m,\u001b[49m\u001b[43m \u001b[49m\u001b[43mtimeout\u001b[49m\u001b[38;5;241;43m=\u001b[39;49m\u001b[43mtimeout\u001b[49m\n\u001b[1;32m    343\u001b[0m \u001b[43m\u001b[49m\u001b[43m)\u001b[49m\n",
      "File \u001b[0;32m~/miniconda3/envs/py310/lib/python3.10/site-packages/google/cloud/_http/__init__.py:379\u001b[0m, in \u001b[0;36mJSONConnection._do_request\u001b[0;34m(self, method, url, headers, data, target_object, timeout)\u001b[0m\n\u001b[1;32m    345\u001b[0m \u001b[38;5;28;01mdef\u001b[39;00m \u001b[38;5;21m_do_request\u001b[39m(\n\u001b[1;32m    346\u001b[0m     \u001b[38;5;28mself\u001b[39m, method, url, headers, data, target_object, timeout\u001b[38;5;241m=\u001b[39m_DEFAULT_TIMEOUT\n\u001b[1;32m    347\u001b[0m ):  \u001b[38;5;66;03m# pylint: disable=unused-argument\u001b[39;00m\n\u001b[1;32m    348\u001b[0m \u001b[38;5;250m    \u001b[39m\u001b[38;5;124;03m\"\"\"Low-level helper:  perform the actual API request over HTTP.\u001b[39;00m\n\u001b[1;32m    349\u001b[0m \n\u001b[1;32m    350\u001b[0m \u001b[38;5;124;03m    Allows batch context managers to override and defer a request.\u001b[39;00m\n\u001b[0;32m   (...)\u001b[0m\n\u001b[1;32m    377\u001b[0m \u001b[38;5;124;03m    :returns: The HTTP response.\u001b[39;00m\n\u001b[1;32m    378\u001b[0m \u001b[38;5;124;03m    \"\"\"\u001b[39;00m\n\u001b[0;32m--> 379\u001b[0m     \u001b[38;5;28;01mreturn\u001b[39;00m \u001b[38;5;28;43mself\u001b[39;49m\u001b[38;5;241;43m.\u001b[39;49m\u001b[43mhttp\u001b[49m\u001b[38;5;241;43m.\u001b[39;49m\u001b[43mrequest\u001b[49m\u001b[43m(\u001b[49m\n\u001b[1;32m    380\u001b[0m \u001b[43m        \u001b[49m\u001b[43murl\u001b[49m\u001b[38;5;241;43m=\u001b[39;49m\u001b[43murl\u001b[49m\u001b[43m,\u001b[49m\u001b[43m \u001b[49m\u001b[43mmethod\u001b[49m\u001b[38;5;241;43m=\u001b[39;49m\u001b[43mmethod\u001b[49m\u001b[43m,\u001b[49m\u001b[43m \u001b[49m\u001b[43mheaders\u001b[49m\u001b[38;5;241;43m=\u001b[39;49m\u001b[43mheaders\u001b[49m\u001b[43m,\u001b[49m\u001b[43m \u001b[49m\u001b[43mdata\u001b[49m\u001b[38;5;241;43m=\u001b[39;49m\u001b[43mdata\u001b[49m\u001b[43m,\u001b[49m\u001b[43m \u001b[49m\u001b[43mtimeout\u001b[49m\u001b[38;5;241;43m=\u001b[39;49m\u001b[43mtimeout\u001b[49m\n\u001b[1;32m    381\u001b[0m \u001b[43m    \u001b[49m\u001b[43m)\u001b[49m\n",
      "File \u001b[0;32m~/miniconda3/envs/py310/lib/python3.10/site-packages/google/auth/transport/requests.py:542\u001b[0m, in \u001b[0;36mAuthorizedSession.request\u001b[0;34m(self, method, url, data, headers, max_allowed_time, timeout, **kwargs)\u001b[0m\n\u001b[1;32m    539\u001b[0m remaining_time \u001b[38;5;241m=\u001b[39m guard\u001b[38;5;241m.\u001b[39mremaining_timeout\n\u001b[1;32m    541\u001b[0m \u001b[38;5;28;01mwith\u001b[39;00m TimeoutGuard(remaining_time) \u001b[38;5;28;01mas\u001b[39;00m guard:\n\u001b[0;32m--> 542\u001b[0m     response \u001b[38;5;241m=\u001b[39m \u001b[38;5;28;43msuper\u001b[39;49m\u001b[43m(\u001b[49m\u001b[43mAuthorizedSession\u001b[49m\u001b[43m,\u001b[49m\u001b[43m \u001b[49m\u001b[38;5;28;43mself\u001b[39;49m\u001b[43m)\u001b[49m\u001b[38;5;241;43m.\u001b[39;49m\u001b[43mrequest\u001b[49m\u001b[43m(\u001b[49m\n\u001b[1;32m    543\u001b[0m \u001b[43m        \u001b[49m\u001b[43mmethod\u001b[49m\u001b[43m,\u001b[49m\n\u001b[1;32m    544\u001b[0m \u001b[43m        \u001b[49m\u001b[43murl\u001b[49m\u001b[43m,\u001b[49m\n\u001b[1;32m    545\u001b[0m \u001b[43m        \u001b[49m\u001b[43mdata\u001b[49m\u001b[38;5;241;43m=\u001b[39;49m\u001b[43mdata\u001b[49m\u001b[43m,\u001b[49m\n\u001b[1;32m    546\u001b[0m \u001b[43m        \u001b[49m\u001b[43mheaders\u001b[49m\u001b[38;5;241;43m=\u001b[39;49m\u001b[43mrequest_headers\u001b[49m\u001b[43m,\u001b[49m\n\u001b[1;32m    547\u001b[0m \u001b[43m        \u001b[49m\u001b[43mtimeout\u001b[49m\u001b[38;5;241;43m=\u001b[39;49m\u001b[43mtimeout\u001b[49m\u001b[43m,\u001b[49m\n\u001b[1;32m    548\u001b[0m \u001b[43m        \u001b[49m\u001b[38;5;241;43m*\u001b[39;49m\u001b[38;5;241;43m*\u001b[39;49m\u001b[43mkwargs\u001b[49m\n\u001b[1;32m    549\u001b[0m \u001b[43m    \u001b[49m\u001b[43m)\u001b[49m\n\u001b[1;32m    550\u001b[0m remaining_time \u001b[38;5;241m=\u001b[39m guard\u001b[38;5;241m.\u001b[39mremaining_timeout\n\u001b[1;32m    552\u001b[0m \u001b[38;5;66;03m# If the response indicated that the credentials needed to be\u001b[39;00m\n\u001b[1;32m    553\u001b[0m \u001b[38;5;66;03m# refreshed, then refresh the credentials and re-attempt the\u001b[39;00m\n\u001b[1;32m    554\u001b[0m \u001b[38;5;66;03m# request.\u001b[39;00m\n\u001b[1;32m    555\u001b[0m \u001b[38;5;66;03m# A stored token may expire between the time it is retrieved and\u001b[39;00m\n\u001b[1;32m    556\u001b[0m \u001b[38;5;66;03m# the time the request is made, so we may need to try twice.\u001b[39;00m\n",
      "File \u001b[0;32m~/miniconda3/envs/py310/lib/python3.10/site-packages/requests/sessions.py:542\u001b[0m, in \u001b[0;36mSession.request\u001b[0;34m(self, method, url, params, data, headers, cookies, files, auth, timeout, allow_redirects, proxies, hooks, stream, verify, cert, json)\u001b[0m\n\u001b[1;32m    537\u001b[0m send_kwargs \u001b[38;5;241m=\u001b[39m {\n\u001b[1;32m    538\u001b[0m     \u001b[38;5;124m'\u001b[39m\u001b[38;5;124mtimeout\u001b[39m\u001b[38;5;124m'\u001b[39m: timeout,\n\u001b[1;32m    539\u001b[0m     \u001b[38;5;124m'\u001b[39m\u001b[38;5;124mallow_redirects\u001b[39m\u001b[38;5;124m'\u001b[39m: allow_redirects,\n\u001b[1;32m    540\u001b[0m }\n\u001b[1;32m    541\u001b[0m send_kwargs\u001b[38;5;241m.\u001b[39mupdate(settings)\n\u001b[0;32m--> 542\u001b[0m resp \u001b[38;5;241m=\u001b[39m \u001b[38;5;28;43mself\u001b[39;49m\u001b[38;5;241;43m.\u001b[39;49m\u001b[43msend\u001b[49m\u001b[43m(\u001b[49m\u001b[43mprep\u001b[49m\u001b[43m,\u001b[49m\u001b[43m \u001b[49m\u001b[38;5;241;43m*\u001b[39;49m\u001b[38;5;241;43m*\u001b[39;49m\u001b[43msend_kwargs\u001b[49m\u001b[43m)\u001b[49m\n\u001b[1;32m    544\u001b[0m \u001b[38;5;28;01mreturn\u001b[39;00m resp\n",
      "File \u001b[0;32m~/miniconda3/envs/py310/lib/python3.10/site-packages/requests/sessions.py:655\u001b[0m, in \u001b[0;36mSession.send\u001b[0;34m(self, request, **kwargs)\u001b[0m\n\u001b[1;32m    652\u001b[0m start \u001b[38;5;241m=\u001b[39m preferred_clock()\n\u001b[1;32m    654\u001b[0m \u001b[38;5;66;03m# Send the request\u001b[39;00m\n\u001b[0;32m--> 655\u001b[0m r \u001b[38;5;241m=\u001b[39m \u001b[43madapter\u001b[49m\u001b[38;5;241;43m.\u001b[39;49m\u001b[43msend\u001b[49m\u001b[43m(\u001b[49m\u001b[43mrequest\u001b[49m\u001b[43m,\u001b[49m\u001b[43m \u001b[49m\u001b[38;5;241;43m*\u001b[39;49m\u001b[38;5;241;43m*\u001b[39;49m\u001b[43mkwargs\u001b[49m\u001b[43m)\u001b[49m\n\u001b[1;32m    657\u001b[0m \u001b[38;5;66;03m# Total elapsed time of the request (approximately)\u001b[39;00m\n\u001b[1;32m    658\u001b[0m elapsed \u001b[38;5;241m=\u001b[39m preferred_clock() \u001b[38;5;241m-\u001b[39m start\n",
      "File \u001b[0;32m~/miniconda3/envs/py310/lib/python3.10/site-packages/requests/adapters.py:439\u001b[0m, in \u001b[0;36mHTTPAdapter.send\u001b[0;34m(self, request, stream, timeout, verify, cert, proxies)\u001b[0m\n\u001b[1;32m    437\u001b[0m \u001b[38;5;28;01mtry\u001b[39;00m:\n\u001b[1;32m    438\u001b[0m     \u001b[38;5;28;01mif\u001b[39;00m \u001b[38;5;129;01mnot\u001b[39;00m chunked:\n\u001b[0;32m--> 439\u001b[0m         resp \u001b[38;5;241m=\u001b[39m \u001b[43mconn\u001b[49m\u001b[38;5;241;43m.\u001b[39;49m\u001b[43murlopen\u001b[49m\u001b[43m(\u001b[49m\n\u001b[1;32m    440\u001b[0m \u001b[43m            \u001b[49m\u001b[43mmethod\u001b[49m\u001b[38;5;241;43m=\u001b[39;49m\u001b[43mrequest\u001b[49m\u001b[38;5;241;43m.\u001b[39;49m\u001b[43mmethod\u001b[49m\u001b[43m,\u001b[49m\n\u001b[1;32m    441\u001b[0m \u001b[43m            \u001b[49m\u001b[43murl\u001b[49m\u001b[38;5;241;43m=\u001b[39;49m\u001b[43murl\u001b[49m\u001b[43m,\u001b[49m\n\u001b[1;32m    442\u001b[0m \u001b[43m            \u001b[49m\u001b[43mbody\u001b[49m\u001b[38;5;241;43m=\u001b[39;49m\u001b[43mrequest\u001b[49m\u001b[38;5;241;43m.\u001b[39;49m\u001b[43mbody\u001b[49m\u001b[43m,\u001b[49m\n\u001b[1;32m    443\u001b[0m \u001b[43m            \u001b[49m\u001b[43mheaders\u001b[49m\u001b[38;5;241;43m=\u001b[39;49m\u001b[43mrequest\u001b[49m\u001b[38;5;241;43m.\u001b[39;49m\u001b[43mheaders\u001b[49m\u001b[43m,\u001b[49m\n\u001b[1;32m    444\u001b[0m \u001b[43m            \u001b[49m\u001b[43mredirect\u001b[49m\u001b[38;5;241;43m=\u001b[39;49m\u001b[38;5;28;43;01mFalse\u001b[39;49;00m\u001b[43m,\u001b[49m\n\u001b[1;32m    445\u001b[0m \u001b[43m            \u001b[49m\u001b[43massert_same_host\u001b[49m\u001b[38;5;241;43m=\u001b[39;49m\u001b[38;5;28;43;01mFalse\u001b[39;49;00m\u001b[43m,\u001b[49m\n\u001b[1;32m    446\u001b[0m \u001b[43m            \u001b[49m\u001b[43mpreload_content\u001b[49m\u001b[38;5;241;43m=\u001b[39;49m\u001b[38;5;28;43;01mFalse\u001b[39;49;00m\u001b[43m,\u001b[49m\n\u001b[1;32m    447\u001b[0m \u001b[43m            \u001b[49m\u001b[43mdecode_content\u001b[49m\u001b[38;5;241;43m=\u001b[39;49m\u001b[38;5;28;43;01mFalse\u001b[39;49;00m\u001b[43m,\u001b[49m\n\u001b[1;32m    448\u001b[0m \u001b[43m            \u001b[49m\u001b[43mretries\u001b[49m\u001b[38;5;241;43m=\u001b[39;49m\u001b[38;5;28;43mself\u001b[39;49m\u001b[38;5;241;43m.\u001b[39;49m\u001b[43mmax_retries\u001b[49m\u001b[43m,\u001b[49m\n\u001b[1;32m    449\u001b[0m \u001b[43m            \u001b[49m\u001b[43mtimeout\u001b[49m\u001b[38;5;241;43m=\u001b[39;49m\u001b[43mtimeout\u001b[49m\n\u001b[1;32m    450\u001b[0m \u001b[43m        \u001b[49m\u001b[43m)\u001b[49m\n\u001b[1;32m    452\u001b[0m     \u001b[38;5;66;03m# Send the request.\u001b[39;00m\n\u001b[1;32m    453\u001b[0m     \u001b[38;5;28;01melse\u001b[39;00m:\n\u001b[1;32m    454\u001b[0m         \u001b[38;5;28;01mif\u001b[39;00m \u001b[38;5;28mhasattr\u001b[39m(conn, \u001b[38;5;124m'\u001b[39m\u001b[38;5;124mproxy_pool\u001b[39m\u001b[38;5;124m'\u001b[39m):\n",
      "File \u001b[0;32m~/miniconda3/envs/py310/lib/python3.10/site-packages/urllib3/connectionpool.py:714\u001b[0m, in \u001b[0;36mHTTPConnectionPool.urlopen\u001b[0;34m(self, method, url, body, headers, retries, redirect, assert_same_host, timeout, pool_timeout, release_conn, chunked, body_pos, **response_kw)\u001b[0m\n\u001b[1;32m    711\u001b[0m     \u001b[38;5;28mself\u001b[39m\u001b[38;5;241m.\u001b[39m_prepare_proxy(conn)\n\u001b[1;32m    713\u001b[0m \u001b[38;5;66;03m# Make the request on the httplib connection object.\u001b[39;00m\n\u001b[0;32m--> 714\u001b[0m httplib_response \u001b[38;5;241m=\u001b[39m \u001b[38;5;28;43mself\u001b[39;49m\u001b[38;5;241;43m.\u001b[39;49m\u001b[43m_make_request\u001b[49m\u001b[43m(\u001b[49m\n\u001b[1;32m    715\u001b[0m \u001b[43m    \u001b[49m\u001b[43mconn\u001b[49m\u001b[43m,\u001b[49m\n\u001b[1;32m    716\u001b[0m \u001b[43m    \u001b[49m\u001b[43mmethod\u001b[49m\u001b[43m,\u001b[49m\n\u001b[1;32m    717\u001b[0m \u001b[43m    \u001b[49m\u001b[43murl\u001b[49m\u001b[43m,\u001b[49m\n\u001b[1;32m    718\u001b[0m \u001b[43m    \u001b[49m\u001b[43mtimeout\u001b[49m\u001b[38;5;241;43m=\u001b[39;49m\u001b[43mtimeout_obj\u001b[49m\u001b[43m,\u001b[49m\n\u001b[1;32m    719\u001b[0m \u001b[43m    \u001b[49m\u001b[43mbody\u001b[49m\u001b[38;5;241;43m=\u001b[39;49m\u001b[43mbody\u001b[49m\u001b[43m,\u001b[49m\n\u001b[1;32m    720\u001b[0m \u001b[43m    \u001b[49m\u001b[43mheaders\u001b[49m\u001b[38;5;241;43m=\u001b[39;49m\u001b[43mheaders\u001b[49m\u001b[43m,\u001b[49m\n\u001b[1;32m    721\u001b[0m \u001b[43m    \u001b[49m\u001b[43mchunked\u001b[49m\u001b[38;5;241;43m=\u001b[39;49m\u001b[43mchunked\u001b[49m\u001b[43m,\u001b[49m\n\u001b[1;32m    722\u001b[0m \u001b[43m\u001b[49m\u001b[43m)\u001b[49m\n\u001b[1;32m    724\u001b[0m \u001b[38;5;66;03m# If we're going to release the connection in ``finally:``, then\u001b[39;00m\n\u001b[1;32m    725\u001b[0m \u001b[38;5;66;03m# the response doesn't need to know about the connection. Otherwise\u001b[39;00m\n\u001b[1;32m    726\u001b[0m \u001b[38;5;66;03m# it will also try to release it and we'll have a double-release\u001b[39;00m\n\u001b[1;32m    727\u001b[0m \u001b[38;5;66;03m# mess.\u001b[39;00m\n\u001b[1;32m    728\u001b[0m response_conn \u001b[38;5;241m=\u001b[39m conn \u001b[38;5;28;01mif\u001b[39;00m \u001b[38;5;129;01mnot\u001b[39;00m release_conn \u001b[38;5;28;01melse\u001b[39;00m \u001b[38;5;28;01mNone\u001b[39;00m\n",
      "File \u001b[0;32m~/miniconda3/envs/py310/lib/python3.10/site-packages/urllib3/connectionpool.py:403\u001b[0m, in \u001b[0;36mHTTPConnectionPool._make_request\u001b[0;34m(self, conn, method, url, timeout, chunked, **httplib_request_kw)\u001b[0m\n\u001b[1;32m    401\u001b[0m \u001b[38;5;66;03m# Trigger any extra validation we need to do.\u001b[39;00m\n\u001b[1;32m    402\u001b[0m \u001b[38;5;28;01mtry\u001b[39;00m:\n\u001b[0;32m--> 403\u001b[0m     \u001b[38;5;28;43mself\u001b[39;49m\u001b[38;5;241;43m.\u001b[39;49m\u001b[43m_validate_conn\u001b[49m\u001b[43m(\u001b[49m\u001b[43mconn\u001b[49m\u001b[43m)\u001b[49m\n\u001b[1;32m    404\u001b[0m \u001b[38;5;28;01mexcept\u001b[39;00m (SocketTimeout, BaseSSLError) \u001b[38;5;28;01mas\u001b[39;00m e:\n\u001b[1;32m    405\u001b[0m     \u001b[38;5;66;03m# Py2 raises this as a BaseSSLError, Py3 raises it as socket timeout.\u001b[39;00m\n\u001b[1;32m    406\u001b[0m     \u001b[38;5;28mself\u001b[39m\u001b[38;5;241m.\u001b[39m_raise_timeout(err\u001b[38;5;241m=\u001b[39me, url\u001b[38;5;241m=\u001b[39murl, timeout_value\u001b[38;5;241m=\u001b[39mconn\u001b[38;5;241m.\u001b[39mtimeout)\n",
      "File \u001b[0;32m~/miniconda3/envs/py310/lib/python3.10/site-packages/urllib3/connectionpool.py:1053\u001b[0m, in \u001b[0;36mHTTPSConnectionPool._validate_conn\u001b[0;34m(self, conn)\u001b[0m\n\u001b[1;32m   1051\u001b[0m \u001b[38;5;66;03m# Force connect early to allow us to validate the connection.\u001b[39;00m\n\u001b[1;32m   1052\u001b[0m \u001b[38;5;28;01mif\u001b[39;00m \u001b[38;5;129;01mnot\u001b[39;00m \u001b[38;5;28mgetattr\u001b[39m(conn, \u001b[38;5;124m\"\u001b[39m\u001b[38;5;124msock\u001b[39m\u001b[38;5;124m\"\u001b[39m, \u001b[38;5;28;01mNone\u001b[39;00m):  \u001b[38;5;66;03m# AppEngine might not have  `.sock`\u001b[39;00m\n\u001b[0;32m-> 1053\u001b[0m     \u001b[43mconn\u001b[49m\u001b[38;5;241;43m.\u001b[39;49m\u001b[43mconnect\u001b[49m\u001b[43m(\u001b[49m\u001b[43m)\u001b[49m\n\u001b[1;32m   1055\u001b[0m \u001b[38;5;28;01mif\u001b[39;00m \u001b[38;5;129;01mnot\u001b[39;00m conn\u001b[38;5;241m.\u001b[39mis_verified:\n\u001b[1;32m   1056\u001b[0m     warnings\u001b[38;5;241m.\u001b[39mwarn(\n\u001b[1;32m   1057\u001b[0m         (\n\u001b[1;32m   1058\u001b[0m             \u001b[38;5;124m\"\u001b[39m\u001b[38;5;124mUnverified HTTPS request is being made to host \u001b[39m\u001b[38;5;124m'\u001b[39m\u001b[38;5;132;01m%s\u001b[39;00m\u001b[38;5;124m'\u001b[39m\u001b[38;5;124m. \u001b[39m\u001b[38;5;124m\"\u001b[39m\n\u001b[0;32m   (...)\u001b[0m\n\u001b[1;32m   1063\u001b[0m         InsecureRequestWarning,\n\u001b[1;32m   1064\u001b[0m     )\n",
      "File \u001b[0;32m~/miniconda3/envs/py310/lib/python3.10/site-packages/urllib3/connection.py:363\u001b[0m, in \u001b[0;36mHTTPSConnection.connect\u001b[0;34m(self)\u001b[0m\n\u001b[1;32m    361\u001b[0m \u001b[38;5;28;01mdef\u001b[39;00m \u001b[38;5;21mconnect\u001b[39m(\u001b[38;5;28mself\u001b[39m):\n\u001b[1;32m    362\u001b[0m     \u001b[38;5;66;03m# Add certificate verification\u001b[39;00m\n\u001b[0;32m--> 363\u001b[0m     \u001b[38;5;28mself\u001b[39m\u001b[38;5;241m.\u001b[39msock \u001b[38;5;241m=\u001b[39m conn \u001b[38;5;241m=\u001b[39m \u001b[38;5;28;43mself\u001b[39;49m\u001b[38;5;241;43m.\u001b[39;49m\u001b[43m_new_conn\u001b[49m\u001b[43m(\u001b[49m\u001b[43m)\u001b[49m\n\u001b[1;32m    364\u001b[0m     hostname \u001b[38;5;241m=\u001b[39m \u001b[38;5;28mself\u001b[39m\u001b[38;5;241m.\u001b[39mhost\n\u001b[1;32m    365\u001b[0m     tls_in_tls \u001b[38;5;241m=\u001b[39m \u001b[38;5;28;01mFalse\u001b[39;00m\n",
      "File \u001b[0;32m~/miniconda3/envs/py310/lib/python3.10/site-packages/urllib3/connection.py:174\u001b[0m, in \u001b[0;36mHTTPConnection._new_conn\u001b[0;34m(self)\u001b[0m\n\u001b[1;32m    171\u001b[0m     extra_kw[\u001b[38;5;124m\"\u001b[39m\u001b[38;5;124msocket_options\u001b[39m\u001b[38;5;124m\"\u001b[39m] \u001b[38;5;241m=\u001b[39m \u001b[38;5;28mself\u001b[39m\u001b[38;5;241m.\u001b[39msocket_options\n\u001b[1;32m    173\u001b[0m \u001b[38;5;28;01mtry\u001b[39;00m:\n\u001b[0;32m--> 174\u001b[0m     conn \u001b[38;5;241m=\u001b[39m \u001b[43mconnection\u001b[49m\u001b[38;5;241;43m.\u001b[39;49m\u001b[43mcreate_connection\u001b[49m\u001b[43m(\u001b[49m\n\u001b[1;32m    175\u001b[0m \u001b[43m        \u001b[49m\u001b[43m(\u001b[49m\u001b[38;5;28;43mself\u001b[39;49m\u001b[38;5;241;43m.\u001b[39;49m\u001b[43m_dns_host\u001b[49m\u001b[43m,\u001b[49m\u001b[43m \u001b[49m\u001b[38;5;28;43mself\u001b[39;49m\u001b[38;5;241;43m.\u001b[39;49m\u001b[43mport\u001b[49m\u001b[43m)\u001b[49m\u001b[43m,\u001b[49m\u001b[43m \u001b[49m\u001b[38;5;28;43mself\u001b[39;49m\u001b[38;5;241;43m.\u001b[39;49m\u001b[43mtimeout\u001b[49m\u001b[43m,\u001b[49m\u001b[43m \u001b[49m\u001b[38;5;241;43m*\u001b[39;49m\u001b[38;5;241;43m*\u001b[39;49m\u001b[43mextra_kw\u001b[49m\n\u001b[1;32m    176\u001b[0m \u001b[43m    \u001b[49m\u001b[43m)\u001b[49m\n\u001b[1;32m    178\u001b[0m \u001b[38;5;28;01mexcept\u001b[39;00m SocketTimeout:\n\u001b[1;32m    179\u001b[0m     \u001b[38;5;28;01mraise\u001b[39;00m ConnectTimeoutError(\n\u001b[1;32m    180\u001b[0m         \u001b[38;5;28mself\u001b[39m,\n\u001b[1;32m    181\u001b[0m         \u001b[38;5;124m\"\u001b[39m\u001b[38;5;124mConnection to \u001b[39m\u001b[38;5;132;01m%s\u001b[39;00m\u001b[38;5;124m timed out. (connect timeout=\u001b[39m\u001b[38;5;132;01m%s\u001b[39;00m\u001b[38;5;124m)\u001b[39m\u001b[38;5;124m\"\u001b[39m\n\u001b[1;32m    182\u001b[0m         \u001b[38;5;241m%\u001b[39m (\u001b[38;5;28mself\u001b[39m\u001b[38;5;241m.\u001b[39mhost, \u001b[38;5;28mself\u001b[39m\u001b[38;5;241m.\u001b[39mtimeout),\n\u001b[1;32m    183\u001b[0m     )\n",
      "File \u001b[0;32m~/miniconda3/envs/py310/lib/python3.10/site-packages/urllib3/util/connection.py:85\u001b[0m, in \u001b[0;36mcreate_connection\u001b[0;34m(address, timeout, source_address, socket_options)\u001b[0m\n\u001b[1;32m     83\u001b[0m     \u001b[38;5;28;01mif\u001b[39;00m source_address:\n\u001b[1;32m     84\u001b[0m         sock\u001b[38;5;241m.\u001b[39mbind(source_address)\n\u001b[0;32m---> 85\u001b[0m     \u001b[43msock\u001b[49m\u001b[38;5;241;43m.\u001b[39;49m\u001b[43mconnect\u001b[49m\u001b[43m(\u001b[49m\u001b[43msa\u001b[49m\u001b[43m)\u001b[49m\n\u001b[1;32m     86\u001b[0m     \u001b[38;5;28;01mreturn\u001b[39;00m sock\n\u001b[1;32m     88\u001b[0m \u001b[38;5;28;01mexcept\u001b[39;00m socket\u001b[38;5;241m.\u001b[39merror \u001b[38;5;28;01mas\u001b[39;00m e:\n",
      "\u001b[0;31mKeyboardInterrupt\u001b[0m: "
     ]
    }
   ],
   "source": []
  },
  {
   "cell_type": "code",
   "execution_count": 11,
   "id": "d7e88609",
   "metadata": {},
   "outputs": [
    {
     "ename": "KeyboardInterrupt",
     "evalue": "",
     "output_type": "error",
     "traceback": [
      "\u001b[0;31m---------------------------------------------------------------------------\u001b[0m",
      "\u001b[0;31mKeyboardInterrupt\u001b[0m                         Traceback (most recent call last)",
      "File \u001b[0;32m<timed exec>:2\u001b[0m\n",
      "File \u001b[0;32m~/miniconda3/envs/py310/lib/python3.10/site-packages/google/api_core/page_iterator.py:208\u001b[0m, in \u001b[0;36mIterator._items_iter\u001b[0;34m(self)\u001b[0m\n\u001b[1;32m    206\u001b[0m \u001b[38;5;28;01mdef\u001b[39;00m \u001b[38;5;21m_items_iter\u001b[39m(\u001b[38;5;28mself\u001b[39m):\n\u001b[1;32m    207\u001b[0m \u001b[38;5;250m    \u001b[39m\u001b[38;5;124;03m\"\"\"Iterator for each item returned.\"\"\"\u001b[39;00m\n\u001b[0;32m--> 208\u001b[0m     \u001b[38;5;28;01mfor\u001b[39;00m page \u001b[38;5;129;01min\u001b[39;00m \u001b[38;5;28mself\u001b[39m\u001b[38;5;241m.\u001b[39m_page_iter(increment\u001b[38;5;241m=\u001b[39m\u001b[38;5;28;01mFalse\u001b[39;00m):\n\u001b[1;32m    209\u001b[0m         \u001b[38;5;28;01mfor\u001b[39;00m item \u001b[38;5;129;01min\u001b[39;00m page:\n\u001b[1;32m    210\u001b[0m             \u001b[38;5;28mself\u001b[39m\u001b[38;5;241m.\u001b[39mnum_results \u001b[38;5;241m+\u001b[39m\u001b[38;5;241m=\u001b[39m \u001b[38;5;241m1\u001b[39m\n",
      "File \u001b[0;32m~/miniconda3/envs/py310/lib/python3.10/site-packages/google/api_core/page_iterator.py:244\u001b[0m, in \u001b[0;36mIterator._page_iter\u001b[0;34m(self, increment)\u001b[0m\n\u001b[1;32m    232\u001b[0m \u001b[38;5;28;01mdef\u001b[39;00m \u001b[38;5;21m_page_iter\u001b[39m(\u001b[38;5;28mself\u001b[39m, increment):\n\u001b[1;32m    233\u001b[0m \u001b[38;5;250m    \u001b[39m\u001b[38;5;124;03m\"\"\"Generator of pages of API responses.\u001b[39;00m\n\u001b[1;32m    234\u001b[0m \n\u001b[1;32m    235\u001b[0m \u001b[38;5;124;03m    Args:\u001b[39;00m\n\u001b[0;32m   (...)\u001b[0m\n\u001b[1;32m    242\u001b[0m \u001b[38;5;124;03m        Page: each page of items from the API.\u001b[39;00m\n\u001b[1;32m    243\u001b[0m \u001b[38;5;124;03m    \"\"\"\u001b[39;00m\n\u001b[0;32m--> 244\u001b[0m     page \u001b[38;5;241m=\u001b[39m \u001b[38;5;28;43mself\u001b[39;49m\u001b[38;5;241;43m.\u001b[39;49m\u001b[43m_next_page\u001b[49m\u001b[43m(\u001b[49m\u001b[43m)\u001b[49m\n\u001b[1;32m    245\u001b[0m     \u001b[38;5;28;01mwhile\u001b[39;00m page \u001b[38;5;129;01mis\u001b[39;00m \u001b[38;5;129;01mnot\u001b[39;00m \u001b[38;5;28;01mNone\u001b[39;00m:\n\u001b[1;32m    246\u001b[0m         \u001b[38;5;28mself\u001b[39m\u001b[38;5;241m.\u001b[39mpage_number \u001b[38;5;241m+\u001b[39m\u001b[38;5;241m=\u001b[39m \u001b[38;5;241m1\u001b[39m\n",
      "File \u001b[0;32m~/miniconda3/envs/py310/lib/python3.10/site-packages/google/api_core/page_iterator.py:373\u001b[0m, in \u001b[0;36mHTTPIterator._next_page\u001b[0;34m(self)\u001b[0m\n\u001b[1;32m    366\u001b[0m \u001b[38;5;250m\u001b[39m\u001b[38;5;124;03m\"\"\"Get the next page in the iterator.\u001b[39;00m\n\u001b[1;32m    367\u001b[0m \n\u001b[1;32m    368\u001b[0m \u001b[38;5;124;03mReturns:\u001b[39;00m\n\u001b[1;32m    369\u001b[0m \u001b[38;5;124;03m    Optional[Page]: The next page in the iterator or :data:`None` if\u001b[39;00m\n\u001b[1;32m    370\u001b[0m \u001b[38;5;124;03m        there are no pages left.\u001b[39;00m\n\u001b[1;32m    371\u001b[0m \u001b[38;5;124;03m\"\"\"\u001b[39;00m\n\u001b[1;32m    372\u001b[0m \u001b[38;5;28;01mif\u001b[39;00m \u001b[38;5;28mself\u001b[39m\u001b[38;5;241m.\u001b[39m_has_next_page():\n\u001b[0;32m--> 373\u001b[0m     response \u001b[38;5;241m=\u001b[39m \u001b[38;5;28;43mself\u001b[39;49m\u001b[38;5;241;43m.\u001b[39;49m\u001b[43m_get_next_page_response\u001b[49m\u001b[43m(\u001b[49m\u001b[43m)\u001b[49m\n\u001b[1;32m    374\u001b[0m     items \u001b[38;5;241m=\u001b[39m response\u001b[38;5;241m.\u001b[39mget(\u001b[38;5;28mself\u001b[39m\u001b[38;5;241m.\u001b[39m_items_key, ())\n\u001b[1;32m    375\u001b[0m     page \u001b[38;5;241m=\u001b[39m Page(\u001b[38;5;28mself\u001b[39m, items, \u001b[38;5;28mself\u001b[39m\u001b[38;5;241m.\u001b[39mitem_to_value, raw_page\u001b[38;5;241m=\u001b[39mresponse)\n",
      "File \u001b[0;32m~/miniconda3/envs/py310/lib/python3.10/site-packages/google/api_core/page_iterator.py:432\u001b[0m, in \u001b[0;36mHTTPIterator._get_next_page_response\u001b[0;34m(self)\u001b[0m\n\u001b[1;32m    430\u001b[0m params \u001b[38;5;241m=\u001b[39m \u001b[38;5;28mself\u001b[39m\u001b[38;5;241m.\u001b[39m_get_query_params()\n\u001b[1;32m    431\u001b[0m \u001b[38;5;28;01mif\u001b[39;00m \u001b[38;5;28mself\u001b[39m\u001b[38;5;241m.\u001b[39m_HTTP_METHOD \u001b[38;5;241m==\u001b[39m \u001b[38;5;124m\"\u001b[39m\u001b[38;5;124mGET\u001b[39m\u001b[38;5;124m\"\u001b[39m:\n\u001b[0;32m--> 432\u001b[0m     \u001b[38;5;28;01mreturn\u001b[39;00m \u001b[38;5;28;43mself\u001b[39;49m\u001b[38;5;241;43m.\u001b[39;49m\u001b[43mapi_request\u001b[49m\u001b[43m(\u001b[49m\n\u001b[1;32m    433\u001b[0m \u001b[43m        \u001b[49m\u001b[43mmethod\u001b[49m\u001b[38;5;241;43m=\u001b[39;49m\u001b[38;5;28;43mself\u001b[39;49m\u001b[38;5;241;43m.\u001b[39;49m\u001b[43m_HTTP_METHOD\u001b[49m\u001b[43m,\u001b[49m\u001b[43m \u001b[49m\u001b[43mpath\u001b[49m\u001b[38;5;241;43m=\u001b[39;49m\u001b[38;5;28;43mself\u001b[39;49m\u001b[38;5;241;43m.\u001b[39;49m\u001b[43mpath\u001b[49m\u001b[43m,\u001b[49m\u001b[43m \u001b[49m\u001b[43mquery_params\u001b[49m\u001b[38;5;241;43m=\u001b[39;49m\u001b[43mparams\u001b[49m\n\u001b[1;32m    434\u001b[0m \u001b[43m    \u001b[49m\u001b[43m)\u001b[49m\n\u001b[1;32m    435\u001b[0m \u001b[38;5;28;01melif\u001b[39;00m \u001b[38;5;28mself\u001b[39m\u001b[38;5;241m.\u001b[39m_HTTP_METHOD \u001b[38;5;241m==\u001b[39m \u001b[38;5;124m\"\u001b[39m\u001b[38;5;124mPOST\u001b[39m\u001b[38;5;124m\"\u001b[39m:\n\u001b[1;32m    436\u001b[0m     \u001b[38;5;28;01mreturn\u001b[39;00m \u001b[38;5;28mself\u001b[39m\u001b[38;5;241m.\u001b[39mapi_request(\n\u001b[1;32m    437\u001b[0m         method\u001b[38;5;241m=\u001b[39m\u001b[38;5;28mself\u001b[39m\u001b[38;5;241m.\u001b[39m_HTTP_METHOD, path\u001b[38;5;241m=\u001b[39m\u001b[38;5;28mself\u001b[39m\u001b[38;5;241m.\u001b[39mpath, data\u001b[38;5;241m=\u001b[39mparams\n\u001b[1;32m    438\u001b[0m     )\n",
      "File \u001b[0;32m~/miniconda3/envs/py310/lib/python3.10/site-packages/google/cloud/storage/_http.py:72\u001b[0m, in \u001b[0;36mConnection.api_request\u001b[0;34m(self, *args, **kwargs)\u001b[0m\n\u001b[1;32m     70\u001b[0m     \u001b[38;5;28;01mif\u001b[39;00m retry:\n\u001b[1;32m     71\u001b[0m         call \u001b[38;5;241m=\u001b[39m retry(call)\n\u001b[0;32m---> 72\u001b[0m \u001b[38;5;28;01mreturn\u001b[39;00m \u001b[43mcall\u001b[49m\u001b[43m(\u001b[49m\u001b[43m)\u001b[49m\n",
      "File \u001b[0;32m~/miniconda3/envs/py310/lib/python3.10/site-packages/google/api_core/retry.py:366\u001b[0m, in \u001b[0;36mRetry.__call__.<locals>.retry_wrapped_func\u001b[0;34m(*args, **kwargs)\u001b[0m\n\u001b[1;32m    362\u001b[0m target \u001b[38;5;241m=\u001b[39m functools\u001b[38;5;241m.\u001b[39mpartial(func, \u001b[38;5;241m*\u001b[39margs, \u001b[38;5;241m*\u001b[39m\u001b[38;5;241m*\u001b[39mkwargs)\n\u001b[1;32m    363\u001b[0m sleep_generator \u001b[38;5;241m=\u001b[39m exponential_sleep_generator(\n\u001b[1;32m    364\u001b[0m     \u001b[38;5;28mself\u001b[39m\u001b[38;5;241m.\u001b[39m_initial, \u001b[38;5;28mself\u001b[39m\u001b[38;5;241m.\u001b[39m_maximum, multiplier\u001b[38;5;241m=\u001b[39m\u001b[38;5;28mself\u001b[39m\u001b[38;5;241m.\u001b[39m_multiplier\n\u001b[1;32m    365\u001b[0m )\n\u001b[0;32m--> 366\u001b[0m \u001b[38;5;28;01mreturn\u001b[39;00m \u001b[43mretry_target\u001b[49m\u001b[43m(\u001b[49m\n\u001b[1;32m    367\u001b[0m \u001b[43m    \u001b[49m\u001b[43mtarget\u001b[49m\u001b[43m,\u001b[49m\n\u001b[1;32m    368\u001b[0m \u001b[43m    \u001b[49m\u001b[38;5;28;43mself\u001b[39;49m\u001b[38;5;241;43m.\u001b[39;49m\u001b[43m_predicate\u001b[49m\u001b[43m,\u001b[49m\n\u001b[1;32m    369\u001b[0m \u001b[43m    \u001b[49m\u001b[43msleep_generator\u001b[49m\u001b[43m,\u001b[49m\n\u001b[1;32m    370\u001b[0m \u001b[43m    \u001b[49m\u001b[38;5;28;43mself\u001b[39;49m\u001b[38;5;241;43m.\u001b[39;49m\u001b[43m_timeout\u001b[49m\u001b[43m,\u001b[49m\n\u001b[1;32m    371\u001b[0m \u001b[43m    \u001b[49m\u001b[43mon_error\u001b[49m\u001b[38;5;241;43m=\u001b[39;49m\u001b[43mon_error\u001b[49m\u001b[43m,\u001b[49m\n\u001b[1;32m    372\u001b[0m \u001b[43m\u001b[49m\u001b[43m)\u001b[49m\n",
      "File \u001b[0;32m~/miniconda3/envs/py310/lib/python3.10/site-packages/google/api_core/retry.py:204\u001b[0m, in \u001b[0;36mretry_target\u001b[0;34m(target, predicate, sleep_generator, timeout, on_error, **kwargs)\u001b[0m\n\u001b[1;32m    202\u001b[0m \u001b[38;5;28;01mfor\u001b[39;00m sleep \u001b[38;5;129;01min\u001b[39;00m sleep_generator:\n\u001b[1;32m    203\u001b[0m     \u001b[38;5;28;01mtry\u001b[39;00m:\n\u001b[0;32m--> 204\u001b[0m         \u001b[38;5;28;01mreturn\u001b[39;00m \u001b[43mtarget\u001b[49m\u001b[43m(\u001b[49m\u001b[43m)\u001b[49m\n\u001b[1;32m    206\u001b[0m     \u001b[38;5;66;03m# pylint: disable=broad-except\u001b[39;00m\n\u001b[1;32m    207\u001b[0m     \u001b[38;5;66;03m# This function explicitly must deal with broad exceptions.\u001b[39;00m\n\u001b[1;32m    208\u001b[0m     \u001b[38;5;28;01mexcept\u001b[39;00m \u001b[38;5;167;01mException\u001b[39;00m \u001b[38;5;28;01mas\u001b[39;00m exc:\n",
      "File \u001b[0;32m~/miniconda3/envs/py310/lib/python3.10/site-packages/google/cloud/_http/__init__.py:482\u001b[0m, in \u001b[0;36mJSONConnection.api_request\u001b[0;34m(self, method, path, query_params, data, content_type, headers, api_base_url, api_version, expect_json, _target_object, timeout, extra_api_info)\u001b[0m\n\u001b[1;32m    479\u001b[0m     data \u001b[38;5;241m=\u001b[39m json\u001b[38;5;241m.\u001b[39mdumps(data)\n\u001b[1;32m    480\u001b[0m     content_type \u001b[38;5;241m=\u001b[39m \u001b[38;5;124m\"\u001b[39m\u001b[38;5;124mapplication/json\u001b[39m\u001b[38;5;124m\"\u001b[39m\n\u001b[0;32m--> 482\u001b[0m response \u001b[38;5;241m=\u001b[39m \u001b[38;5;28;43mself\u001b[39;49m\u001b[38;5;241;43m.\u001b[39;49m\u001b[43m_make_request\u001b[49m\u001b[43m(\u001b[49m\n\u001b[1;32m    483\u001b[0m \u001b[43m    \u001b[49m\u001b[43mmethod\u001b[49m\u001b[38;5;241;43m=\u001b[39;49m\u001b[43mmethod\u001b[49m\u001b[43m,\u001b[49m\n\u001b[1;32m    484\u001b[0m \u001b[43m    \u001b[49m\u001b[43murl\u001b[49m\u001b[38;5;241;43m=\u001b[39;49m\u001b[43murl\u001b[49m\u001b[43m,\u001b[49m\n\u001b[1;32m    485\u001b[0m \u001b[43m    \u001b[49m\u001b[43mdata\u001b[49m\u001b[38;5;241;43m=\u001b[39;49m\u001b[43mdata\u001b[49m\u001b[43m,\u001b[49m\n\u001b[1;32m    486\u001b[0m \u001b[43m    \u001b[49m\u001b[43mcontent_type\u001b[49m\u001b[38;5;241;43m=\u001b[39;49m\u001b[43mcontent_type\u001b[49m\u001b[43m,\u001b[49m\n\u001b[1;32m    487\u001b[0m \u001b[43m    \u001b[49m\u001b[43mheaders\u001b[49m\u001b[38;5;241;43m=\u001b[39;49m\u001b[43mheaders\u001b[49m\u001b[43m,\u001b[49m\n\u001b[1;32m    488\u001b[0m \u001b[43m    \u001b[49m\u001b[43mtarget_object\u001b[49m\u001b[38;5;241;43m=\u001b[39;49m\u001b[43m_target_object\u001b[49m\u001b[43m,\u001b[49m\n\u001b[1;32m    489\u001b[0m \u001b[43m    \u001b[49m\u001b[43mtimeout\u001b[49m\u001b[38;5;241;43m=\u001b[39;49m\u001b[43mtimeout\u001b[49m\u001b[43m,\u001b[49m\n\u001b[1;32m    490\u001b[0m \u001b[43m    \u001b[49m\u001b[43mextra_api_info\u001b[49m\u001b[38;5;241;43m=\u001b[39;49m\u001b[43mextra_api_info\u001b[49m\u001b[43m,\u001b[49m\n\u001b[1;32m    491\u001b[0m \u001b[43m\u001b[49m\u001b[43m)\u001b[49m\n\u001b[1;32m    493\u001b[0m \u001b[38;5;28;01mif\u001b[39;00m \u001b[38;5;129;01mnot\u001b[39;00m \u001b[38;5;241m200\u001b[39m \u001b[38;5;241m<\u001b[39m\u001b[38;5;241m=\u001b[39m response\u001b[38;5;241m.\u001b[39mstatus_code \u001b[38;5;241m<\u001b[39m \u001b[38;5;241m300\u001b[39m:\n\u001b[1;32m    494\u001b[0m     \u001b[38;5;28;01mraise\u001b[39;00m exceptions\u001b[38;5;241m.\u001b[39mfrom_http_response(response)\n",
      "File \u001b[0;32m~/miniconda3/envs/py310/lib/python3.10/site-packages/google/cloud/_http/__init__.py:341\u001b[0m, in \u001b[0;36mJSONConnection._make_request\u001b[0;34m(self, method, url, data, content_type, headers, target_object, timeout, extra_api_info)\u001b[0m\n\u001b[1;32m    338\u001b[0m     headers[CLIENT_INFO_HEADER] \u001b[38;5;241m=\u001b[39m \u001b[38;5;28mself\u001b[39m\u001b[38;5;241m.\u001b[39muser_agent\n\u001b[1;32m    339\u001b[0m headers[\u001b[38;5;124m\"\u001b[39m\u001b[38;5;124mUser-Agent\u001b[39m\u001b[38;5;124m\"\u001b[39m] \u001b[38;5;241m=\u001b[39m \u001b[38;5;28mself\u001b[39m\u001b[38;5;241m.\u001b[39muser_agent\n\u001b[0;32m--> 341\u001b[0m \u001b[38;5;28;01mreturn\u001b[39;00m \u001b[38;5;28;43mself\u001b[39;49m\u001b[38;5;241;43m.\u001b[39;49m\u001b[43m_do_request\u001b[49m\u001b[43m(\u001b[49m\n\u001b[1;32m    342\u001b[0m \u001b[43m    \u001b[49m\u001b[43mmethod\u001b[49m\u001b[43m,\u001b[49m\u001b[43m \u001b[49m\u001b[43murl\u001b[49m\u001b[43m,\u001b[49m\u001b[43m \u001b[49m\u001b[43mheaders\u001b[49m\u001b[43m,\u001b[49m\u001b[43m \u001b[49m\u001b[43mdata\u001b[49m\u001b[43m,\u001b[49m\u001b[43m \u001b[49m\u001b[43mtarget_object\u001b[49m\u001b[43m,\u001b[49m\u001b[43m \u001b[49m\u001b[43mtimeout\u001b[49m\u001b[38;5;241;43m=\u001b[39;49m\u001b[43mtimeout\u001b[49m\n\u001b[1;32m    343\u001b[0m \u001b[43m\u001b[49m\u001b[43m)\u001b[49m\n",
      "File \u001b[0;32m~/miniconda3/envs/py310/lib/python3.10/site-packages/google/cloud/_http/__init__.py:379\u001b[0m, in \u001b[0;36mJSONConnection._do_request\u001b[0;34m(self, method, url, headers, data, target_object, timeout)\u001b[0m\n\u001b[1;32m    345\u001b[0m \u001b[38;5;28;01mdef\u001b[39;00m \u001b[38;5;21m_do_request\u001b[39m(\n\u001b[1;32m    346\u001b[0m     \u001b[38;5;28mself\u001b[39m, method, url, headers, data, target_object, timeout\u001b[38;5;241m=\u001b[39m_DEFAULT_TIMEOUT\n\u001b[1;32m    347\u001b[0m ):  \u001b[38;5;66;03m# pylint: disable=unused-argument\u001b[39;00m\n\u001b[1;32m    348\u001b[0m \u001b[38;5;250m    \u001b[39m\u001b[38;5;124;03m\"\"\"Low-level helper:  perform the actual API request over HTTP.\u001b[39;00m\n\u001b[1;32m    349\u001b[0m \n\u001b[1;32m    350\u001b[0m \u001b[38;5;124;03m    Allows batch context managers to override and defer a request.\u001b[39;00m\n\u001b[0;32m   (...)\u001b[0m\n\u001b[1;32m    377\u001b[0m \u001b[38;5;124;03m    :returns: The HTTP response.\u001b[39;00m\n\u001b[1;32m    378\u001b[0m \u001b[38;5;124;03m    \"\"\"\u001b[39;00m\n\u001b[0;32m--> 379\u001b[0m     \u001b[38;5;28;01mreturn\u001b[39;00m \u001b[38;5;28;43mself\u001b[39;49m\u001b[38;5;241;43m.\u001b[39;49m\u001b[43mhttp\u001b[49m\u001b[38;5;241;43m.\u001b[39;49m\u001b[43mrequest\u001b[49m\u001b[43m(\u001b[49m\n\u001b[1;32m    380\u001b[0m \u001b[43m        \u001b[49m\u001b[43murl\u001b[49m\u001b[38;5;241;43m=\u001b[39;49m\u001b[43murl\u001b[49m\u001b[43m,\u001b[49m\u001b[43m \u001b[49m\u001b[43mmethod\u001b[49m\u001b[38;5;241;43m=\u001b[39;49m\u001b[43mmethod\u001b[49m\u001b[43m,\u001b[49m\u001b[43m \u001b[49m\u001b[43mheaders\u001b[49m\u001b[38;5;241;43m=\u001b[39;49m\u001b[43mheaders\u001b[49m\u001b[43m,\u001b[49m\u001b[43m \u001b[49m\u001b[43mdata\u001b[49m\u001b[38;5;241;43m=\u001b[39;49m\u001b[43mdata\u001b[49m\u001b[43m,\u001b[49m\u001b[43m \u001b[49m\u001b[43mtimeout\u001b[49m\u001b[38;5;241;43m=\u001b[39;49m\u001b[43mtimeout\u001b[49m\n\u001b[1;32m    381\u001b[0m \u001b[43m    \u001b[49m\u001b[43m)\u001b[49m\n",
      "File \u001b[0;32m~/miniconda3/envs/py310/lib/python3.10/site-packages/google/auth/transport/requests.py:542\u001b[0m, in \u001b[0;36mAuthorizedSession.request\u001b[0;34m(self, method, url, data, headers, max_allowed_time, timeout, **kwargs)\u001b[0m\n\u001b[1;32m    539\u001b[0m remaining_time \u001b[38;5;241m=\u001b[39m guard\u001b[38;5;241m.\u001b[39mremaining_timeout\n\u001b[1;32m    541\u001b[0m \u001b[38;5;28;01mwith\u001b[39;00m TimeoutGuard(remaining_time) \u001b[38;5;28;01mas\u001b[39;00m guard:\n\u001b[0;32m--> 542\u001b[0m     response \u001b[38;5;241m=\u001b[39m \u001b[38;5;28;43msuper\u001b[39;49m\u001b[43m(\u001b[49m\u001b[43mAuthorizedSession\u001b[49m\u001b[43m,\u001b[49m\u001b[43m \u001b[49m\u001b[38;5;28;43mself\u001b[39;49m\u001b[43m)\u001b[49m\u001b[38;5;241;43m.\u001b[39;49m\u001b[43mrequest\u001b[49m\u001b[43m(\u001b[49m\n\u001b[1;32m    543\u001b[0m \u001b[43m        \u001b[49m\u001b[43mmethod\u001b[49m\u001b[43m,\u001b[49m\n\u001b[1;32m    544\u001b[0m \u001b[43m        \u001b[49m\u001b[43murl\u001b[49m\u001b[43m,\u001b[49m\n\u001b[1;32m    545\u001b[0m \u001b[43m        \u001b[49m\u001b[43mdata\u001b[49m\u001b[38;5;241;43m=\u001b[39;49m\u001b[43mdata\u001b[49m\u001b[43m,\u001b[49m\n\u001b[1;32m    546\u001b[0m \u001b[43m        \u001b[49m\u001b[43mheaders\u001b[49m\u001b[38;5;241;43m=\u001b[39;49m\u001b[43mrequest_headers\u001b[49m\u001b[43m,\u001b[49m\n\u001b[1;32m    547\u001b[0m \u001b[43m        \u001b[49m\u001b[43mtimeout\u001b[49m\u001b[38;5;241;43m=\u001b[39;49m\u001b[43mtimeout\u001b[49m\u001b[43m,\u001b[49m\n\u001b[1;32m    548\u001b[0m \u001b[43m        \u001b[49m\u001b[38;5;241;43m*\u001b[39;49m\u001b[38;5;241;43m*\u001b[39;49m\u001b[43mkwargs\u001b[49m\n\u001b[1;32m    549\u001b[0m \u001b[43m    \u001b[49m\u001b[43m)\u001b[49m\n\u001b[1;32m    550\u001b[0m remaining_time \u001b[38;5;241m=\u001b[39m guard\u001b[38;5;241m.\u001b[39mremaining_timeout\n\u001b[1;32m    552\u001b[0m \u001b[38;5;66;03m# If the response indicated that the credentials needed to be\u001b[39;00m\n\u001b[1;32m    553\u001b[0m \u001b[38;5;66;03m# refreshed, then refresh the credentials and re-attempt the\u001b[39;00m\n\u001b[1;32m    554\u001b[0m \u001b[38;5;66;03m# request.\u001b[39;00m\n\u001b[1;32m    555\u001b[0m \u001b[38;5;66;03m# A stored token may expire between the time it is retrieved and\u001b[39;00m\n\u001b[1;32m    556\u001b[0m \u001b[38;5;66;03m# the time the request is made, so we may need to try twice.\u001b[39;00m\n",
      "File \u001b[0;32m~/miniconda3/envs/py310/lib/python3.10/site-packages/requests/sessions.py:542\u001b[0m, in \u001b[0;36mSession.request\u001b[0;34m(self, method, url, params, data, headers, cookies, files, auth, timeout, allow_redirects, proxies, hooks, stream, verify, cert, json)\u001b[0m\n\u001b[1;32m    537\u001b[0m send_kwargs \u001b[38;5;241m=\u001b[39m {\n\u001b[1;32m    538\u001b[0m     \u001b[38;5;124m'\u001b[39m\u001b[38;5;124mtimeout\u001b[39m\u001b[38;5;124m'\u001b[39m: timeout,\n\u001b[1;32m    539\u001b[0m     \u001b[38;5;124m'\u001b[39m\u001b[38;5;124mallow_redirects\u001b[39m\u001b[38;5;124m'\u001b[39m: allow_redirects,\n\u001b[1;32m    540\u001b[0m }\n\u001b[1;32m    541\u001b[0m send_kwargs\u001b[38;5;241m.\u001b[39mupdate(settings)\n\u001b[0;32m--> 542\u001b[0m resp \u001b[38;5;241m=\u001b[39m \u001b[38;5;28;43mself\u001b[39;49m\u001b[38;5;241;43m.\u001b[39;49m\u001b[43msend\u001b[49m\u001b[43m(\u001b[49m\u001b[43mprep\u001b[49m\u001b[43m,\u001b[49m\u001b[43m \u001b[49m\u001b[38;5;241;43m*\u001b[39;49m\u001b[38;5;241;43m*\u001b[39;49m\u001b[43msend_kwargs\u001b[49m\u001b[43m)\u001b[49m\n\u001b[1;32m    544\u001b[0m \u001b[38;5;28;01mreturn\u001b[39;00m resp\n",
      "File \u001b[0;32m~/miniconda3/envs/py310/lib/python3.10/site-packages/requests/sessions.py:655\u001b[0m, in \u001b[0;36mSession.send\u001b[0;34m(self, request, **kwargs)\u001b[0m\n\u001b[1;32m    652\u001b[0m start \u001b[38;5;241m=\u001b[39m preferred_clock()\n\u001b[1;32m    654\u001b[0m \u001b[38;5;66;03m# Send the request\u001b[39;00m\n\u001b[0;32m--> 655\u001b[0m r \u001b[38;5;241m=\u001b[39m \u001b[43madapter\u001b[49m\u001b[38;5;241;43m.\u001b[39;49m\u001b[43msend\u001b[49m\u001b[43m(\u001b[49m\u001b[43mrequest\u001b[49m\u001b[43m,\u001b[49m\u001b[43m \u001b[49m\u001b[38;5;241;43m*\u001b[39;49m\u001b[38;5;241;43m*\u001b[39;49m\u001b[43mkwargs\u001b[49m\u001b[43m)\u001b[49m\n\u001b[1;32m    657\u001b[0m \u001b[38;5;66;03m# Total elapsed time of the request (approximately)\u001b[39;00m\n\u001b[1;32m    658\u001b[0m elapsed \u001b[38;5;241m=\u001b[39m preferred_clock() \u001b[38;5;241m-\u001b[39m start\n",
      "File \u001b[0;32m~/miniconda3/envs/py310/lib/python3.10/site-packages/requests/adapters.py:439\u001b[0m, in \u001b[0;36mHTTPAdapter.send\u001b[0;34m(self, request, stream, timeout, verify, cert, proxies)\u001b[0m\n\u001b[1;32m    437\u001b[0m \u001b[38;5;28;01mtry\u001b[39;00m:\n\u001b[1;32m    438\u001b[0m     \u001b[38;5;28;01mif\u001b[39;00m \u001b[38;5;129;01mnot\u001b[39;00m chunked:\n\u001b[0;32m--> 439\u001b[0m         resp \u001b[38;5;241m=\u001b[39m \u001b[43mconn\u001b[49m\u001b[38;5;241;43m.\u001b[39;49m\u001b[43murlopen\u001b[49m\u001b[43m(\u001b[49m\n\u001b[1;32m    440\u001b[0m \u001b[43m            \u001b[49m\u001b[43mmethod\u001b[49m\u001b[38;5;241;43m=\u001b[39;49m\u001b[43mrequest\u001b[49m\u001b[38;5;241;43m.\u001b[39;49m\u001b[43mmethod\u001b[49m\u001b[43m,\u001b[49m\n\u001b[1;32m    441\u001b[0m \u001b[43m            \u001b[49m\u001b[43murl\u001b[49m\u001b[38;5;241;43m=\u001b[39;49m\u001b[43murl\u001b[49m\u001b[43m,\u001b[49m\n\u001b[1;32m    442\u001b[0m \u001b[43m            \u001b[49m\u001b[43mbody\u001b[49m\u001b[38;5;241;43m=\u001b[39;49m\u001b[43mrequest\u001b[49m\u001b[38;5;241;43m.\u001b[39;49m\u001b[43mbody\u001b[49m\u001b[43m,\u001b[49m\n\u001b[1;32m    443\u001b[0m \u001b[43m            \u001b[49m\u001b[43mheaders\u001b[49m\u001b[38;5;241;43m=\u001b[39;49m\u001b[43mrequest\u001b[49m\u001b[38;5;241;43m.\u001b[39;49m\u001b[43mheaders\u001b[49m\u001b[43m,\u001b[49m\n\u001b[1;32m    444\u001b[0m \u001b[43m            \u001b[49m\u001b[43mredirect\u001b[49m\u001b[38;5;241;43m=\u001b[39;49m\u001b[38;5;28;43;01mFalse\u001b[39;49;00m\u001b[43m,\u001b[49m\n\u001b[1;32m    445\u001b[0m \u001b[43m            \u001b[49m\u001b[43massert_same_host\u001b[49m\u001b[38;5;241;43m=\u001b[39;49m\u001b[38;5;28;43;01mFalse\u001b[39;49;00m\u001b[43m,\u001b[49m\n\u001b[1;32m    446\u001b[0m \u001b[43m            \u001b[49m\u001b[43mpreload_content\u001b[49m\u001b[38;5;241;43m=\u001b[39;49m\u001b[38;5;28;43;01mFalse\u001b[39;49;00m\u001b[43m,\u001b[49m\n\u001b[1;32m    447\u001b[0m \u001b[43m            \u001b[49m\u001b[43mdecode_content\u001b[49m\u001b[38;5;241;43m=\u001b[39;49m\u001b[38;5;28;43;01mFalse\u001b[39;49;00m\u001b[43m,\u001b[49m\n\u001b[1;32m    448\u001b[0m \u001b[43m            \u001b[49m\u001b[43mretries\u001b[49m\u001b[38;5;241;43m=\u001b[39;49m\u001b[38;5;28;43mself\u001b[39;49m\u001b[38;5;241;43m.\u001b[39;49m\u001b[43mmax_retries\u001b[49m\u001b[43m,\u001b[49m\n\u001b[1;32m    449\u001b[0m \u001b[43m            \u001b[49m\u001b[43mtimeout\u001b[49m\u001b[38;5;241;43m=\u001b[39;49m\u001b[43mtimeout\u001b[49m\n\u001b[1;32m    450\u001b[0m \u001b[43m        \u001b[49m\u001b[43m)\u001b[49m\n\u001b[1;32m    452\u001b[0m     \u001b[38;5;66;03m# Send the request.\u001b[39;00m\n\u001b[1;32m    453\u001b[0m     \u001b[38;5;28;01melse\u001b[39;00m:\n\u001b[1;32m    454\u001b[0m         \u001b[38;5;28;01mif\u001b[39;00m \u001b[38;5;28mhasattr\u001b[39m(conn, \u001b[38;5;124m'\u001b[39m\u001b[38;5;124mproxy_pool\u001b[39m\u001b[38;5;124m'\u001b[39m):\n",
      "File \u001b[0;32m~/miniconda3/envs/py310/lib/python3.10/site-packages/urllib3/connectionpool.py:714\u001b[0m, in \u001b[0;36mHTTPConnectionPool.urlopen\u001b[0;34m(self, method, url, body, headers, retries, redirect, assert_same_host, timeout, pool_timeout, release_conn, chunked, body_pos, **response_kw)\u001b[0m\n\u001b[1;32m    711\u001b[0m     \u001b[38;5;28mself\u001b[39m\u001b[38;5;241m.\u001b[39m_prepare_proxy(conn)\n\u001b[1;32m    713\u001b[0m \u001b[38;5;66;03m# Make the request on the httplib connection object.\u001b[39;00m\n\u001b[0;32m--> 714\u001b[0m httplib_response \u001b[38;5;241m=\u001b[39m \u001b[38;5;28;43mself\u001b[39;49m\u001b[38;5;241;43m.\u001b[39;49m\u001b[43m_make_request\u001b[49m\u001b[43m(\u001b[49m\n\u001b[1;32m    715\u001b[0m \u001b[43m    \u001b[49m\u001b[43mconn\u001b[49m\u001b[43m,\u001b[49m\n\u001b[1;32m    716\u001b[0m \u001b[43m    \u001b[49m\u001b[43mmethod\u001b[49m\u001b[43m,\u001b[49m\n\u001b[1;32m    717\u001b[0m \u001b[43m    \u001b[49m\u001b[43murl\u001b[49m\u001b[43m,\u001b[49m\n\u001b[1;32m    718\u001b[0m \u001b[43m    \u001b[49m\u001b[43mtimeout\u001b[49m\u001b[38;5;241;43m=\u001b[39;49m\u001b[43mtimeout_obj\u001b[49m\u001b[43m,\u001b[49m\n\u001b[1;32m    719\u001b[0m \u001b[43m    \u001b[49m\u001b[43mbody\u001b[49m\u001b[38;5;241;43m=\u001b[39;49m\u001b[43mbody\u001b[49m\u001b[43m,\u001b[49m\n\u001b[1;32m    720\u001b[0m \u001b[43m    \u001b[49m\u001b[43mheaders\u001b[49m\u001b[38;5;241;43m=\u001b[39;49m\u001b[43mheaders\u001b[49m\u001b[43m,\u001b[49m\n\u001b[1;32m    721\u001b[0m \u001b[43m    \u001b[49m\u001b[43mchunked\u001b[49m\u001b[38;5;241;43m=\u001b[39;49m\u001b[43mchunked\u001b[49m\u001b[43m,\u001b[49m\n\u001b[1;32m    722\u001b[0m \u001b[43m\u001b[49m\u001b[43m)\u001b[49m\n\u001b[1;32m    724\u001b[0m \u001b[38;5;66;03m# If we're going to release the connection in ``finally:``, then\u001b[39;00m\n\u001b[1;32m    725\u001b[0m \u001b[38;5;66;03m# the response doesn't need to know about the connection. Otherwise\u001b[39;00m\n\u001b[1;32m    726\u001b[0m \u001b[38;5;66;03m# it will also try to release it and we'll have a double-release\u001b[39;00m\n\u001b[1;32m    727\u001b[0m \u001b[38;5;66;03m# mess.\u001b[39;00m\n\u001b[1;32m    728\u001b[0m response_conn \u001b[38;5;241m=\u001b[39m conn \u001b[38;5;28;01mif\u001b[39;00m \u001b[38;5;129;01mnot\u001b[39;00m release_conn \u001b[38;5;28;01melse\u001b[39;00m \u001b[38;5;28;01mNone\u001b[39;00m\n",
      "File \u001b[0;32m~/miniconda3/envs/py310/lib/python3.10/site-packages/urllib3/connectionpool.py:403\u001b[0m, in \u001b[0;36mHTTPConnectionPool._make_request\u001b[0;34m(self, conn, method, url, timeout, chunked, **httplib_request_kw)\u001b[0m\n\u001b[1;32m    401\u001b[0m \u001b[38;5;66;03m# Trigger any extra validation we need to do.\u001b[39;00m\n\u001b[1;32m    402\u001b[0m \u001b[38;5;28;01mtry\u001b[39;00m:\n\u001b[0;32m--> 403\u001b[0m     \u001b[38;5;28;43mself\u001b[39;49m\u001b[38;5;241;43m.\u001b[39;49m\u001b[43m_validate_conn\u001b[49m\u001b[43m(\u001b[49m\u001b[43mconn\u001b[49m\u001b[43m)\u001b[49m\n\u001b[1;32m    404\u001b[0m \u001b[38;5;28;01mexcept\u001b[39;00m (SocketTimeout, BaseSSLError) \u001b[38;5;28;01mas\u001b[39;00m e:\n\u001b[1;32m    405\u001b[0m     \u001b[38;5;66;03m# Py2 raises this as a BaseSSLError, Py3 raises it as socket timeout.\u001b[39;00m\n\u001b[1;32m    406\u001b[0m     \u001b[38;5;28mself\u001b[39m\u001b[38;5;241m.\u001b[39m_raise_timeout(err\u001b[38;5;241m=\u001b[39me, url\u001b[38;5;241m=\u001b[39murl, timeout_value\u001b[38;5;241m=\u001b[39mconn\u001b[38;5;241m.\u001b[39mtimeout)\n",
      "File \u001b[0;32m~/miniconda3/envs/py310/lib/python3.10/site-packages/urllib3/connectionpool.py:1053\u001b[0m, in \u001b[0;36mHTTPSConnectionPool._validate_conn\u001b[0;34m(self, conn)\u001b[0m\n\u001b[1;32m   1051\u001b[0m \u001b[38;5;66;03m# Force connect early to allow us to validate the connection.\u001b[39;00m\n\u001b[1;32m   1052\u001b[0m \u001b[38;5;28;01mif\u001b[39;00m \u001b[38;5;129;01mnot\u001b[39;00m \u001b[38;5;28mgetattr\u001b[39m(conn, \u001b[38;5;124m\"\u001b[39m\u001b[38;5;124msock\u001b[39m\u001b[38;5;124m\"\u001b[39m, \u001b[38;5;28;01mNone\u001b[39;00m):  \u001b[38;5;66;03m# AppEngine might not have  `.sock`\u001b[39;00m\n\u001b[0;32m-> 1053\u001b[0m     \u001b[43mconn\u001b[49m\u001b[38;5;241;43m.\u001b[39;49m\u001b[43mconnect\u001b[49m\u001b[43m(\u001b[49m\u001b[43m)\u001b[49m\n\u001b[1;32m   1055\u001b[0m \u001b[38;5;28;01mif\u001b[39;00m \u001b[38;5;129;01mnot\u001b[39;00m conn\u001b[38;5;241m.\u001b[39mis_verified:\n\u001b[1;32m   1056\u001b[0m     warnings\u001b[38;5;241m.\u001b[39mwarn(\n\u001b[1;32m   1057\u001b[0m         (\n\u001b[1;32m   1058\u001b[0m             \u001b[38;5;124m\"\u001b[39m\u001b[38;5;124mUnverified HTTPS request is being made to host \u001b[39m\u001b[38;5;124m'\u001b[39m\u001b[38;5;132;01m%s\u001b[39;00m\u001b[38;5;124m'\u001b[39m\u001b[38;5;124m. \u001b[39m\u001b[38;5;124m\"\u001b[39m\n\u001b[0;32m   (...)\u001b[0m\n\u001b[1;32m   1063\u001b[0m         InsecureRequestWarning,\n\u001b[1;32m   1064\u001b[0m     )\n",
      "File \u001b[0;32m~/miniconda3/envs/py310/lib/python3.10/site-packages/urllib3/connection.py:363\u001b[0m, in \u001b[0;36mHTTPSConnection.connect\u001b[0;34m(self)\u001b[0m\n\u001b[1;32m    361\u001b[0m \u001b[38;5;28;01mdef\u001b[39;00m \u001b[38;5;21mconnect\u001b[39m(\u001b[38;5;28mself\u001b[39m):\n\u001b[1;32m    362\u001b[0m     \u001b[38;5;66;03m# Add certificate verification\u001b[39;00m\n\u001b[0;32m--> 363\u001b[0m     \u001b[38;5;28mself\u001b[39m\u001b[38;5;241m.\u001b[39msock \u001b[38;5;241m=\u001b[39m conn \u001b[38;5;241m=\u001b[39m \u001b[38;5;28;43mself\u001b[39;49m\u001b[38;5;241;43m.\u001b[39;49m\u001b[43m_new_conn\u001b[49m\u001b[43m(\u001b[49m\u001b[43m)\u001b[49m\n\u001b[1;32m    364\u001b[0m     hostname \u001b[38;5;241m=\u001b[39m \u001b[38;5;28mself\u001b[39m\u001b[38;5;241m.\u001b[39mhost\n\u001b[1;32m    365\u001b[0m     tls_in_tls \u001b[38;5;241m=\u001b[39m \u001b[38;5;28;01mFalse\u001b[39;00m\n",
      "File \u001b[0;32m~/miniconda3/envs/py310/lib/python3.10/site-packages/urllib3/connection.py:174\u001b[0m, in \u001b[0;36mHTTPConnection._new_conn\u001b[0;34m(self)\u001b[0m\n\u001b[1;32m    171\u001b[0m     extra_kw[\u001b[38;5;124m\"\u001b[39m\u001b[38;5;124msocket_options\u001b[39m\u001b[38;5;124m\"\u001b[39m] \u001b[38;5;241m=\u001b[39m \u001b[38;5;28mself\u001b[39m\u001b[38;5;241m.\u001b[39msocket_options\n\u001b[1;32m    173\u001b[0m \u001b[38;5;28;01mtry\u001b[39;00m:\n\u001b[0;32m--> 174\u001b[0m     conn \u001b[38;5;241m=\u001b[39m \u001b[43mconnection\u001b[49m\u001b[38;5;241;43m.\u001b[39;49m\u001b[43mcreate_connection\u001b[49m\u001b[43m(\u001b[49m\n\u001b[1;32m    175\u001b[0m \u001b[43m        \u001b[49m\u001b[43m(\u001b[49m\u001b[38;5;28;43mself\u001b[39;49m\u001b[38;5;241;43m.\u001b[39;49m\u001b[43m_dns_host\u001b[49m\u001b[43m,\u001b[49m\u001b[43m \u001b[49m\u001b[38;5;28;43mself\u001b[39;49m\u001b[38;5;241;43m.\u001b[39;49m\u001b[43mport\u001b[49m\u001b[43m)\u001b[49m\u001b[43m,\u001b[49m\u001b[43m \u001b[49m\u001b[38;5;28;43mself\u001b[39;49m\u001b[38;5;241;43m.\u001b[39;49m\u001b[43mtimeout\u001b[49m\u001b[43m,\u001b[49m\u001b[43m \u001b[49m\u001b[38;5;241;43m*\u001b[39;49m\u001b[38;5;241;43m*\u001b[39;49m\u001b[43mextra_kw\u001b[49m\n\u001b[1;32m    176\u001b[0m \u001b[43m    \u001b[49m\u001b[43m)\u001b[49m\n\u001b[1;32m    178\u001b[0m \u001b[38;5;28;01mexcept\u001b[39;00m SocketTimeout:\n\u001b[1;32m    179\u001b[0m     \u001b[38;5;28;01mraise\u001b[39;00m ConnectTimeoutError(\n\u001b[1;32m    180\u001b[0m         \u001b[38;5;28mself\u001b[39m,\n\u001b[1;32m    181\u001b[0m         \u001b[38;5;124m\"\u001b[39m\u001b[38;5;124mConnection to \u001b[39m\u001b[38;5;132;01m%s\u001b[39;00m\u001b[38;5;124m timed out. (connect timeout=\u001b[39m\u001b[38;5;132;01m%s\u001b[39;00m\u001b[38;5;124m)\u001b[39m\u001b[38;5;124m\"\u001b[39m\n\u001b[1;32m    182\u001b[0m         \u001b[38;5;241m%\u001b[39m (\u001b[38;5;28mself\u001b[39m\u001b[38;5;241m.\u001b[39mhost, \u001b[38;5;28mself\u001b[39m\u001b[38;5;241m.\u001b[39mtimeout),\n\u001b[1;32m    183\u001b[0m     )\n",
      "File \u001b[0;32m~/miniconda3/envs/py310/lib/python3.10/site-packages/urllib3/util/connection.py:85\u001b[0m, in \u001b[0;36mcreate_connection\u001b[0;34m(address, timeout, source_address, socket_options)\u001b[0m\n\u001b[1;32m     83\u001b[0m     \u001b[38;5;28;01mif\u001b[39;00m source_address:\n\u001b[1;32m     84\u001b[0m         sock\u001b[38;5;241m.\u001b[39mbind(source_address)\n\u001b[0;32m---> 85\u001b[0m     \u001b[43msock\u001b[49m\u001b[38;5;241;43m.\u001b[39;49m\u001b[43mconnect\u001b[49m\u001b[43m(\u001b[49m\u001b[43msa\u001b[49m\u001b[43m)\u001b[49m\n\u001b[1;32m     86\u001b[0m     \u001b[38;5;28;01mreturn\u001b[39;00m sock\n\u001b[1;32m     88\u001b[0m \u001b[38;5;28;01mexcept\u001b[39;00m socket\u001b[38;5;241m.\u001b[39merror \u001b[38;5;28;01mas\u001b[39;00m e:\n",
      "\u001b[0;31mKeyboardInterrupt\u001b[0m: "
     ]
    }
   ],
   "source": [
    "%%time\n",
    "sizes, md5s = [], []\n",
    "for object in objects:\n",
    "    sizes.append(object.size)\n",
    "    md5s.append(object.md5_hash)"
   ]
  },
  {
   "cell_type": "code",
   "execution_count": 5,
   "id": "1301892c",
   "metadata": {},
   "outputs": [
    {
     "data": {
      "text/plain": [
       "'gs'"
      ]
     },
     "execution_count": 5,
     "metadata": {},
     "output_type": "execute_result"
    }
   ],
   "source": [
    "path.protocol"
   ]
  },
  {
   "cell_type": "code",
   "execution_count": 4,
   "id": "c59edb71",
   "metadata": {},
   "outputs": [
    {
     "ename": "KeyboardInterrupt",
     "evalue": "",
     "output_type": "error",
     "traceback": [
      "\u001b[0;31m---------------------------------------------------------------------------\u001b[0m",
      "\u001b[0;31mKeyboardInterrupt\u001b[0m                         Traceback (most recent call last)",
      "Cell \u001b[0;32mIn[4], line 1\u001b[0m\n\u001b[0;32m----> 1\u001b[0m \u001b[43mpath\u001b[49m\u001b[38;5;241;43m.\u001b[39;49m\u001b[43mview_tree\u001b[49m\u001b[43m(\u001b[49m\u001b[43mlevel\u001b[49m\u001b[38;5;241;43m=\u001b[39;49m\u001b[38;5;241;43m1\u001b[39;49m\u001b[43m)\u001b[49m\n",
      "File \u001b[0;32m~/repos/lamin-platform/src/lamindb/sub/lamindb-setup/lamindb_setup/dev/upath.py:322\u001b[0m, in \u001b[0;36mview_tree\u001b[0;34m(path, level, only_dirs, limit, include_paths)\u001b[0m\n\u001b[1;32m    320\u001b[0m folder_tree \u001b[38;5;241m=\u001b[39m \u001b[38;5;124m\"\u001b[39m\u001b[38;5;124m\"\u001b[39m\n\u001b[1;32m    321\u001b[0m iterator \u001b[38;5;241m=\u001b[39m inner(dir_path, level\u001b[38;5;241m=\u001b[39mlevel)\n\u001b[0;32m--> 322\u001b[0m \u001b[38;5;28;01mfor\u001b[39;00m line \u001b[38;5;129;01min\u001b[39;00m islice(iterator, limit):\n\u001b[1;32m    323\u001b[0m     folder_tree \u001b[38;5;241m+\u001b[39m\u001b[38;5;241m=\u001b[39m \u001b[38;5;124mf\u001b[39m\u001b[38;5;124m\"\u001b[39m\u001b[38;5;130;01m\\n\u001b[39;00m\u001b[38;5;132;01m{\u001b[39;00mline\u001b[38;5;132;01m}\u001b[39;00m\u001b[38;5;124m\"\u001b[39m\n\u001b[1;32m    324\u001b[0m     \u001b[38;5;28mprint\u001b[39m(folder_tree)\n",
      "File \u001b[0;32m~/repos/lamin-platform/src/lamindb/sub/lamindb-setup/lamindb_setup/dev/upath.py:288\u001b[0m, in \u001b[0;36mview_tree.<locals>.inner\u001b[0;34m(dir_path, prefix, level)\u001b[0m\n\u001b[1;32m    286\u001b[0m     \u001b[38;5;28;01mreturn\u001b[39;00m\n\u001b[1;32m    287\u001b[0m \u001b[38;5;66;03m# this is needed so that the passed folder is not listed\u001b[39;00m\n\u001b[0;32m--> 288\u001b[0m contents \u001b[38;5;241m=\u001b[39m [\n\u001b[1;32m    289\u001b[0m     i\n\u001b[1;32m    290\u001b[0m     \u001b[38;5;28;01mfor\u001b[39;00m i \u001b[38;5;129;01min\u001b[39;00m dir_path\u001b[38;5;241m.\u001b[39miterdir()\n\u001b[1;32m    291\u001b[0m     \u001b[38;5;28;01mif\u001b[39;00m i\u001b[38;5;241m.\u001b[39mas_posix()\u001b[38;5;241m.\u001b[39mrstrip(\u001b[38;5;124m\"\u001b[39m\u001b[38;5;124m/\u001b[39m\u001b[38;5;124m\"\u001b[39m) \u001b[38;5;241m!=\u001b[39m stripped_dir_path\n\u001b[1;32m    292\u001b[0m ]\n\u001b[1;32m    293\u001b[0m \u001b[38;5;28;01mif\u001b[39;00m only_dirs:\n\u001b[1;32m    294\u001b[0m     contents \u001b[38;5;241m=\u001b[39m [d \u001b[38;5;28;01mfor\u001b[39;00m d \u001b[38;5;129;01min\u001b[39;00m contents \u001b[38;5;28;01mif\u001b[39;00m d\u001b[38;5;241m.\u001b[39mis_dir()]\n",
      "File \u001b[0;32m~/repos/lamin-platform/src/lamindb/sub/lamindb-setup/lamindb_setup/dev/upath.py:288\u001b[0m, in \u001b[0;36m<listcomp>\u001b[0;34m(.0)\u001b[0m\n\u001b[1;32m    286\u001b[0m     \u001b[38;5;28;01mreturn\u001b[39;00m\n\u001b[1;32m    287\u001b[0m \u001b[38;5;66;03m# this is needed so that the passed folder is not listed\u001b[39;00m\n\u001b[0;32m--> 288\u001b[0m contents \u001b[38;5;241m=\u001b[39m [\n\u001b[1;32m    289\u001b[0m     i\n\u001b[1;32m    290\u001b[0m     \u001b[38;5;28;01mfor\u001b[39;00m i \u001b[38;5;129;01min\u001b[39;00m dir_path\u001b[38;5;241m.\u001b[39miterdir()\n\u001b[1;32m    291\u001b[0m     \u001b[38;5;28;01mif\u001b[39;00m i\u001b[38;5;241m.\u001b[39mas_posix()\u001b[38;5;241m.\u001b[39mrstrip(\u001b[38;5;124m\"\u001b[39m\u001b[38;5;124m/\u001b[39m\u001b[38;5;124m\"\u001b[39m) \u001b[38;5;241m!=\u001b[39m stripped_dir_path\n\u001b[1;32m    292\u001b[0m ]\n\u001b[1;32m    293\u001b[0m \u001b[38;5;28;01mif\u001b[39;00m only_dirs:\n\u001b[1;32m    294\u001b[0m     contents \u001b[38;5;241m=\u001b[39m [d \u001b[38;5;28;01mfor\u001b[39;00m d \u001b[38;5;129;01min\u001b[39;00m contents \u001b[38;5;28;01mif\u001b[39;00m d\u001b[38;5;241m.\u001b[39mis_dir()]\n",
      "File \u001b[0;32m~/miniconda3/envs/py310/lib/python3.10/site-packages/upath/core.py:348\u001b[0m, in \u001b[0;36mUPath.iterdir\u001b[0;34m(self)\u001b[0m\n\u001b[1;32m    344\u001b[0m \u001b[38;5;28;01mdef\u001b[39;00m \u001b[38;5;21miterdir\u001b[39m(\u001b[38;5;28mself\u001b[39m: PT) \u001b[38;5;241m-\u001b[39m\u001b[38;5;241m>\u001b[39m Generator[PT, \u001b[38;5;28;01mNone\u001b[39;00m, \u001b[38;5;28;01mNone\u001b[39;00m]:\n\u001b[1;32m    345\u001b[0m \u001b[38;5;250m    \u001b[39m\u001b[38;5;124;03m\"\"\"Iterate over the files in this directory.  Does not yield any\u001b[39;00m\n\u001b[1;32m    346\u001b[0m \u001b[38;5;124;03m    result for the special paths '.' and '..'.\u001b[39;00m\n\u001b[1;32m    347\u001b[0m \u001b[38;5;124;03m    \"\"\"\u001b[39;00m\n\u001b[0;32m--> 348\u001b[0m     \u001b[38;5;28;01mfor\u001b[39;00m name \u001b[38;5;129;01min\u001b[39;00m \u001b[38;5;28;43mself\u001b[39;49m\u001b[38;5;241;43m.\u001b[39;49m\u001b[43m_accessor\u001b[49m\u001b[38;5;241;43m.\u001b[39;49m\u001b[43mlistdir\u001b[49m\u001b[43m(\u001b[49m\u001b[38;5;28;43mself\u001b[39;49m\u001b[43m)\u001b[49m:\n\u001b[1;32m    349\u001b[0m         \u001b[38;5;66;03m# fsspec returns dictionaries\u001b[39;00m\n\u001b[1;32m    350\u001b[0m         \u001b[38;5;28;01mif\u001b[39;00m \u001b[38;5;28misinstance\u001b[39m(name, \u001b[38;5;28mdict\u001b[39m):\n\u001b[1;32m    351\u001b[0m             name \u001b[38;5;241m=\u001b[39m name\u001b[38;5;241m.\u001b[39mget(\u001b[38;5;124m\"\u001b[39m\u001b[38;5;124mname\u001b[39m\u001b[38;5;124m\"\u001b[39m)\n",
      "File \u001b[0;32m~/miniconda3/envs/py310/lib/python3.10/site-packages/upath/core.py:70\u001b[0m, in \u001b[0;36m_FSSpecAccessor.listdir\u001b[0;34m(self, path, **kwargs)\u001b[0m\n\u001b[1;32m     68\u001b[0m \u001b[38;5;28;01mdef\u001b[39;00m \u001b[38;5;21mlistdir\u001b[39m(\u001b[38;5;28mself\u001b[39m, path, \u001b[38;5;241m*\u001b[39m\u001b[38;5;241m*\u001b[39mkwargs):\n\u001b[1;32m     69\u001b[0m     p_fmt \u001b[38;5;241m=\u001b[39m \u001b[38;5;28mself\u001b[39m\u001b[38;5;241m.\u001b[39m_format_path(path)\n\u001b[0;32m---> 70\u001b[0m     contents \u001b[38;5;241m=\u001b[39m \u001b[38;5;28;43mself\u001b[39;49m\u001b[38;5;241;43m.\u001b[39;49m\u001b[43m_fs\u001b[49m\u001b[38;5;241;43m.\u001b[39;49m\u001b[43mlistdir\u001b[49m\u001b[43m(\u001b[49m\u001b[43mp_fmt\u001b[49m\u001b[43m,\u001b[49m\u001b[43m \u001b[49m\u001b[38;5;241;43m*\u001b[39;49m\u001b[38;5;241;43m*\u001b[39;49m\u001b[43mkwargs\u001b[49m\u001b[43m)\u001b[49m\n\u001b[1;32m     71\u001b[0m     \u001b[38;5;28;01mif\u001b[39;00m \u001b[38;5;28mlen\u001b[39m(contents) \u001b[38;5;241m==\u001b[39m \u001b[38;5;241m0\u001b[39m \u001b[38;5;129;01mand\u001b[39;00m \u001b[38;5;129;01mnot\u001b[39;00m \u001b[38;5;28mself\u001b[39m\u001b[38;5;241m.\u001b[39m_fs\u001b[38;5;241m.\u001b[39misdir(p_fmt):\n\u001b[1;32m     72\u001b[0m         \u001b[38;5;28;01mraise\u001b[39;00m \u001b[38;5;167;01mNotADirectoryError\u001b[39;00m(\u001b[38;5;28mstr\u001b[39m(\u001b[38;5;28mself\u001b[39m))\n",
      "File \u001b[0;32m~/miniconda3/envs/py310/lib/python3.10/site-packages/fsspec/spec.py:1514\u001b[0m, in \u001b[0;36mAbstractFileSystem.listdir\u001b[0;34m(self, path, detail, **kwargs)\u001b[0m\n\u001b[1;32m   1512\u001b[0m \u001b[38;5;28;01mdef\u001b[39;00m \u001b[38;5;21mlistdir\u001b[39m(\u001b[38;5;28mself\u001b[39m, path, detail\u001b[38;5;241m=\u001b[39m\u001b[38;5;28;01mTrue\u001b[39;00m, \u001b[38;5;241m*\u001b[39m\u001b[38;5;241m*\u001b[39mkwargs):\n\u001b[1;32m   1513\u001b[0m \u001b[38;5;250m    \u001b[39m\u001b[38;5;124;03m\"\"\"Alias of `AbstractFileSystem.ls`.\"\"\"\u001b[39;00m\n\u001b[0;32m-> 1514\u001b[0m     \u001b[38;5;28;01mreturn\u001b[39;00m \u001b[38;5;28;43mself\u001b[39;49m\u001b[38;5;241;43m.\u001b[39;49m\u001b[43mls\u001b[49m\u001b[43m(\u001b[49m\u001b[43mpath\u001b[49m\u001b[43m,\u001b[49m\u001b[43m \u001b[49m\u001b[43mdetail\u001b[49m\u001b[38;5;241;43m=\u001b[39;49m\u001b[43mdetail\u001b[49m\u001b[43m,\u001b[49m\u001b[43m \u001b[49m\u001b[38;5;241;43m*\u001b[39;49m\u001b[38;5;241;43m*\u001b[39;49m\u001b[43mkwargs\u001b[49m\u001b[43m)\u001b[49m\n",
      "File \u001b[0;32m~/miniconda3/envs/py310/lib/python3.10/site-packages/fsspec/asyn.py:118\u001b[0m, in \u001b[0;36msync_wrapper.<locals>.wrapper\u001b[0;34m(*args, **kwargs)\u001b[0m\n\u001b[1;32m    115\u001b[0m \u001b[38;5;129m@functools\u001b[39m\u001b[38;5;241m.\u001b[39mwraps(func)\n\u001b[1;32m    116\u001b[0m \u001b[38;5;28;01mdef\u001b[39;00m \u001b[38;5;21mwrapper\u001b[39m(\u001b[38;5;241m*\u001b[39margs, \u001b[38;5;241m*\u001b[39m\u001b[38;5;241m*\u001b[39mkwargs):\n\u001b[1;32m    117\u001b[0m     \u001b[38;5;28mself\u001b[39m \u001b[38;5;241m=\u001b[39m obj \u001b[38;5;129;01mor\u001b[39;00m args[\u001b[38;5;241m0\u001b[39m]\n\u001b[0;32m--> 118\u001b[0m     \u001b[38;5;28;01mreturn\u001b[39;00m \u001b[43msync\u001b[49m\u001b[43m(\u001b[49m\u001b[38;5;28;43mself\u001b[39;49m\u001b[38;5;241;43m.\u001b[39;49m\u001b[43mloop\u001b[49m\u001b[43m,\u001b[49m\u001b[43m \u001b[49m\u001b[43mfunc\u001b[49m\u001b[43m,\u001b[49m\u001b[43m \u001b[49m\u001b[38;5;241;43m*\u001b[39;49m\u001b[43margs\u001b[49m\u001b[43m,\u001b[49m\u001b[43m \u001b[49m\u001b[38;5;241;43m*\u001b[39;49m\u001b[38;5;241;43m*\u001b[39;49m\u001b[43mkwargs\u001b[49m\u001b[43m)\u001b[49m\n",
      "File \u001b[0;32m~/miniconda3/envs/py310/lib/python3.10/site-packages/fsspec/asyn.py:91\u001b[0m, in \u001b[0;36msync\u001b[0;34m(loop, func, timeout, *args, **kwargs)\u001b[0m\n\u001b[1;32m     88\u001b[0m asyncio\u001b[38;5;241m.\u001b[39mrun_coroutine_threadsafe(_runner(event, coro, result, timeout), loop)\n\u001b[1;32m     89\u001b[0m \u001b[38;5;28;01mwhile\u001b[39;00m \u001b[38;5;28;01mTrue\u001b[39;00m:\n\u001b[1;32m     90\u001b[0m     \u001b[38;5;66;03m# this loops allows thread to get interrupted\u001b[39;00m\n\u001b[0;32m---> 91\u001b[0m     \u001b[38;5;28;01mif\u001b[39;00m \u001b[43mevent\u001b[49m\u001b[38;5;241;43m.\u001b[39;49m\u001b[43mwait\u001b[49m\u001b[43m(\u001b[49m\u001b[38;5;241;43m1\u001b[39;49m\u001b[43m)\u001b[49m:\n\u001b[1;32m     92\u001b[0m         \u001b[38;5;28;01mbreak\u001b[39;00m\n\u001b[1;32m     93\u001b[0m     \u001b[38;5;28;01mif\u001b[39;00m timeout \u001b[38;5;129;01mis\u001b[39;00m \u001b[38;5;129;01mnot\u001b[39;00m \u001b[38;5;28;01mNone\u001b[39;00m:\n",
      "File \u001b[0;32m~/miniconda3/envs/py310/lib/python3.10/threading.py:607\u001b[0m, in \u001b[0;36mEvent.wait\u001b[0;34m(self, timeout)\u001b[0m\n\u001b[1;32m    605\u001b[0m signaled \u001b[38;5;241m=\u001b[39m \u001b[38;5;28mself\u001b[39m\u001b[38;5;241m.\u001b[39m_flag\n\u001b[1;32m    606\u001b[0m \u001b[38;5;28;01mif\u001b[39;00m \u001b[38;5;129;01mnot\u001b[39;00m signaled:\n\u001b[0;32m--> 607\u001b[0m     signaled \u001b[38;5;241m=\u001b[39m \u001b[38;5;28;43mself\u001b[39;49m\u001b[38;5;241;43m.\u001b[39;49m\u001b[43m_cond\u001b[49m\u001b[38;5;241;43m.\u001b[39;49m\u001b[43mwait\u001b[49m\u001b[43m(\u001b[49m\u001b[43mtimeout\u001b[49m\u001b[43m)\u001b[49m\n\u001b[1;32m    608\u001b[0m \u001b[38;5;28;01mreturn\u001b[39;00m signaled\n",
      "File \u001b[0;32m~/miniconda3/envs/py310/lib/python3.10/threading.py:324\u001b[0m, in \u001b[0;36mCondition.wait\u001b[0;34m(self, timeout)\u001b[0m\n\u001b[1;32m    322\u001b[0m \u001b[38;5;28;01melse\u001b[39;00m:\n\u001b[1;32m    323\u001b[0m     \u001b[38;5;28;01mif\u001b[39;00m timeout \u001b[38;5;241m>\u001b[39m \u001b[38;5;241m0\u001b[39m:\n\u001b[0;32m--> 324\u001b[0m         gotit \u001b[38;5;241m=\u001b[39m \u001b[43mwaiter\u001b[49m\u001b[38;5;241;43m.\u001b[39;49m\u001b[43macquire\u001b[49m\u001b[43m(\u001b[49m\u001b[38;5;28;43;01mTrue\u001b[39;49;00m\u001b[43m,\u001b[49m\u001b[43m \u001b[49m\u001b[43mtimeout\u001b[49m\u001b[43m)\u001b[49m\n\u001b[1;32m    325\u001b[0m     \u001b[38;5;28;01melse\u001b[39;00m:\n\u001b[1;32m    326\u001b[0m         gotit \u001b[38;5;241m=\u001b[39m waiter\u001b[38;5;241m.\u001b[39macquire(\u001b[38;5;28;01mFalse\u001b[39;00m)\n",
      "\u001b[0;31mKeyboardInterrupt\u001b[0m: "
     ]
    }
   ],
   "source": [
    "path.view_tree(level=1)"
   ]
  },
  {
   "cell_type": "code",
   "execution_count": null,
   "id": "676e7d0b",
   "metadata": {},
   "outputs": [],
   "source": [
    "images = ln.Artifact(\"gs://rxrx1-europe-west4/images\", description=\"RxRx1 image files\")"
   ]
  },
  {
   "cell_type": "code",
   "execution_count": 38,
   "id": "1b157a68",
   "metadata": {},
   "outputs": [],
   "source": [
    "dataset = ln.Dataset(images, name=\"RxRx1 images\", meta=meta_file, version=\"1\")\n",
    "dataset.save()"
   ]
  },
  {
   "cell_type": "code",
   "execution_count": 39,
   "id": "0b6ff9e2",
   "metadata": {},
   "outputs": [],
   "source": [
    "dataset.labels.add_from(meta_file)"
   ]
  },
  {
   "cell_type": "code",
   "execution_count": 40,
   "id": "1f236ab8",
   "metadata": {},
   "outputs": [
    {
     "name": "stdout",
     "output_type": "stream",
     "text": [
      "\u001b[1;92mDataset\u001b[0m(uid='flLeukogmLRzleFCpCRD', name='RxRx1 images', version='1', hash='4on4AbbmBL0sr0xe9_gxxQ', visibility=0, updated_at=2023-11-15 05:55:26 UTC)\n",
      "\n",
      "\u001b[1;92mProvenance\u001b[0m:\n",
      "  📄 file: File(uid='flLeukogmLRzleFCpCRD', suffix='.parquet', accessor='DataFrame', description='Metadata with file paths for each RxRx1 image.', size=7806003, hash='4on4AbbmBL0sr0xe9_gxxQ', hash_type='md5', visibility=0, key_is_virtual=True, updated_at=2023-11-15 05:55:25 UTC, storage_id=1, transform_id=3, run_id=2, created_by_id=1)\n",
      "  🗃️ storage: Storage(uid='aLcXXffe', root='gs://rxrx1-europe-west4/images', type='gs', updated_at=2023-11-15 05:55:24 UTC, created_by_id=1)\n",
      "  👤 created_by: User(uid='FBa7SHjn', handle='falexwolf', name='Alex Wolf', updated_at=2023-11-05 14:57:57 UTC)\n",
      "\u001b[1;92mFeatures\u001b[0m:\n",
      "  \u001b[1mcolumns\u001b[0m: FeatureSet(uid='y0uhIW520iTEzrxI14mL', n=8, registry='core.Feature', hash='mnhzsJj-j7VZgNJ88VM0', updated_at=2023-11-05 17:57:58 UTC, created_by_id=1)\n",
      "    🔗 cell_line (4, \u001b[3mbionty.CellLine\u001b[0m): 'HUV-EC-C cell', 'U-2 OS cell', 'hTERT RPE-1 cell', 'Hep G2 cell'\n",
      "    🔗 split (2, \u001b[3mcore.ULabel\u001b[0m): 'test', 'train'\n",
      "    🔗 experiment (51, \u001b[3mlamin1.Experiment\u001b[0m): 'HEPG2-08', 'HEPG2-09', 'HEPG2-10', 'HEPG2-11', 'HUVEC-17', 'HUVEC-18', 'HUVEC-19', 'HUVEC-20', 'HUVEC-21', 'HUVEC-22', ...\n",
      "    plate (number)\n",
      "    🔗 well (308, \u001b[3mlamin1.Well\u001b[0m): 'B02', 'B03', 'B04', 'B05', 'B06', 'B07', 'B08', 'B09', 'B10', 'B11', ...\n",
      "    🔗 well_type (3, \u001b[3mcore.ULabel\u001b[0m): 'negative_control', 'treatment', 'positive_control'\n",
      "    🔗 sirna (1139, \u001b[3mlamin1.Treatment\u001b[0m): 'EMPTY', 's21721', 's20894', 's19827', 's19792', 's19935', 's21398', 's223097', 's348', 's19975', ...\n",
      "    path (object)\n",
      "  \u001b[1mexternal\u001b[0m: FeatureSet(uid='JWcRhQneUEwjkoYnEf59', n=1, registry='core.Feature', hash='AF42DRsoUacKb5l4WgT-', updated_at=2023-11-15 05:55:14 UTC, created_by_id=1)\n",
      "    🔗 readout (1, \u001b[3mbionty.ExperimentalFactor\u001b[0m): 'high content screen'\n",
      "\u001b[1;92mLabels\u001b[0m:\n",
      "  🏷️ experiments (51, \u001b[3mlamin1.Experiment\u001b[0m): 'HEPG2-08', 'HEPG2-09', 'HEPG2-10', 'HEPG2-11', 'HUVEC-17', 'HUVEC-18', 'HUVEC-19', 'HUVEC-20', 'HUVEC-21', 'HUVEC-22', ...\n",
      "  🏷️ wells (308, \u001b[3mlamin1.Well\u001b[0m): 'B02', 'B03', 'B04', 'B05', 'B06', 'B07', 'B08', 'B09', 'B10', 'B11', ...\n",
      "  🏷️ treatments (1139, \u001b[3mlamin1.Treatment\u001b[0m): 'EMPTY', 's21721', 's20894', 's19827', 's19792', 's19935', 's21398', 's223097', 's348', 's19975', ...\n",
      "  🏷️ cell_lines (4, \u001b[3mbionty.CellLine\u001b[0m): 'HUV-EC-C cell', 'U-2 OS cell', 'hTERT RPE-1 cell', 'Hep G2 cell'\n",
      "  🏷️ experimental_factors (1, \u001b[3mbionty.ExperimentalFactor\u001b[0m): 'high content screen'\n",
      "  🏷️ ulabels (9, \u001b[3mcore.ULabel\u001b[0m): 'test', 'train', 'Plate1', 'Plate2', 'Plate3', 'Plate4', 'negative_control', 'treatment', 'positive_control'\n",
      "\n"
     ]
    }
   ],
   "source": [
    "dataset.describe()"
   ]
  }
 ],
 "metadata": {
  "kernelspec": {
   "display_name": "Python 3 (ipykernel)",
   "language": "python",
   "name": "python3"
  },
  "language_info": {
   "codemirror_mode": {
    "name": "ipython",
    "version": 3
   },
   "file_extension": ".py",
   "mimetype": "text/x-python",
   "name": "python",
   "nbconvert_exporter": "python",
   "pygments_lexer": "ipython3",
   "version": "3.10.13"
  },
  "nbproject": {
   "id": "Zo0qJt4IQPsb",
   "parent": null,
   "pypackage": null,
   "time_init": "2023-05-12T08:12:15.993422+00:00",
   "user_handle": "giovp",
   "user_id": "eut8h4zv",
   "user_name": null,
   "version": "1"
  }
 },
 "nbformat": 4,
 "nbformat_minor": 5
}
