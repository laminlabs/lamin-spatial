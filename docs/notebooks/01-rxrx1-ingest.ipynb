{
 "cells": [
  {
   "attachments": {},
   "cell_type": "markdown",
   "id": "82251552-5981-44f1-a7fd-944c59a845de",
   "metadata": {},
   "source": [
    "# Ingest the RxRx1 dataset"
   ]
  },
  {
   "cell_type": "code",
   "execution_count": null,
   "id": "9ae2ee42",
   "metadata": {
    "tags": [
     "hide-output"
    ]
   },
   "outputs": [],
   "source": [
    "!lamin init --storage test-rxrx --modules bionty,wetlab"
   ]
  },
  {
   "cell_type": "code",
   "execution_count": null,
   "id": "d4c819f7",
   "metadata": {
    "tags": [
     "hide-output"
    ]
   },
   "outputs": [],
   "source": [
    "import lamindb as ln\n",
    "import bionty as bt\n",
    "import wetlab as wl\n",
    "\n",
    "ln.track(\"Zo0qJt4IQPsb\")"
   ]
  },
  {
   "cell_type": "markdown",
   "id": "c5388fe5",
   "metadata": {},
   "source": [
    "The `metadata.csv` was originally downloaded from [here](https://www.rxrx.ai/rxrx1#Download) and deposited on S3."
   ]
  },
  {
   "cell_type": "markdown",
   "id": "cfcd84c1",
   "metadata": {},
   "source": [
    "## Load metadata"
   ]
  },
  {
   "cell_type": "markdown",
   "id": "51083bac",
   "metadata": {},
   "source": [
    "Read in the raw metadata of the wells:"
   ]
  },
  {
   "cell_type": "code",
   "execution_count": null,
   "id": "e65f84f0",
   "metadata": {
    "tags": [
     "hide-output"
    ]
   },
   "outputs": [],
   "source": [
    "meta = ln.Artifact(\n",
    "    \"s3://lamindata/rxrx1/metadata.csv\",\n",
    "    description=(\n",
    "        \"Experimental design of RxRx1, e.g. what cell type and treatment are in each well.\"\n",
    "    ),\n",
    ").load()\n",
    "meta.head()"
   ]
  },
  {
   "cell_type": "markdown",
   "id": "25153ef1",
   "metadata": {},
   "source": [
    "It seems that the column storing cell lines is erroneously called `cell_type`. \n",
    "Also `dataset` refers to something that's typically called `split`.\n",
    "Let's rename it: "
   ]
  },
  {
   "cell_type": "code",
   "execution_count": null,
   "id": "71c19013",
   "metadata": {
    "tags": [
     "hide-output"
    ]
   },
   "outputs": [],
   "source": [
    "meta.rename({\"cell_type\": \"cell_line\", \"dataset\": \"split\"}, axis=1, inplace=True)"
   ]
  },
  {
   "cell_type": "markdown",
   "id": "d3544249",
   "metadata": {},
   "source": [
    "Add a `paths` column - this is an aggregate over 6 paths for 6 channels. We'll deconvolute further down:"
   ]
  },
  {
   "cell_type": "code",
   "execution_count": null,
   "id": "440f91c0",
   "metadata": {
    "tags": [
     "hide-output"
    ]
   },
   "outputs": [],
   "source": [
    "paths = []\n",
    "for _, row in meta.iterrows():\n",
    "    well = row.well\n",
    "    site = row.site\n",
    "    paths.append(\n",
    "        f\"images/{row.split}/{row.experiment}/Plate{row.plate}/{well}_s{site}_w1-w6.png\"\n",
    "    )\n",
    "meta[\"paths\"] = paths"
   ]
  },
  {
   "cell_type": "markdown",
   "id": "b3d62757",
   "metadata": {},
   "source": [
    "Use more meaningful plate names:"
   ]
  },
  {
   "cell_type": "code",
   "execution_count": null,
   "id": "0efdbb4f",
   "metadata": {
    "tags": [
     "hide-output"
    ]
   },
   "outputs": [],
   "source": [
    "meta[\"plate\"] = meta[\"plate\"].apply(lambda name: f\"Plate{name}\")"
   ]
  },
  {
   "cell_type": "markdown",
   "id": "dcf16f00",
   "metadata": {},
   "source": [
    "Create a DataFrame with each row as a single image, similar to a link table but with multiple metadata columns:"
   ]
  },
  {
   "cell_type": "code",
   "execution_count": null,
   "id": "9a2c519e",
   "metadata": {
    "tags": [
     "hide-output"
    ]
   },
   "outputs": [],
   "source": [
    "meta_with_path = meta.copy()\n",
    "keys_list = []\n",
    "for key in meta_with_path[\"paths\"]:\n",
    "    keys = [key.replace(\"w1-w6.png\", f\"w{str(channel)}.png\") for channel in range(1, 7)]\n",
    "    keys_list.append(keys)\n",
    "meta_with_path[\"path\"] = keys_list\n",
    "meta_with_path = meta_with_path.explode(\"path\").reset_index(drop=True)\n",
    "del meta_with_path[\"paths\"]\n",
    "meta_with_path"
   ]
  },
  {
   "attachments": {},
   "cell_type": "markdown",
   "id": "efca351e-a3ef-4550-8c59-a3dc0141dd88",
   "metadata": {},
   "source": [
    "## Validate and register metadata"
   ]
  },
  {
   "cell_type": "code",
   "execution_count": null,
   "id": "61978666",
   "metadata": {
    "tags": [
     "hide-output"
    ]
   },
   "outputs": [],
   "source": [
    "schema = ln.Schema(\n",
    "    features=[\n",
    "        ln.Feature(name=\"cell_line\", dtype=bt.CellLine).save(),\n",
    "        ln.Feature(name=\"split\", dtype=ln.ULabel).save(),\n",
    "        ln.Feature(name=\"experiment\", dtype=wl.Experiment).save(),\n",
    "        ln.Feature(name=\"plate\", dtype=ln.ULabel).save(),\n",
    "        ln.Feature(name=\"well_type\", dtype=ln.ULabel).save(),\n",
    "        ln.Feature(name=\"sirna\", dtype=wl.GeneticPerturbation).save(),\n",
    "    ],\n",
    "    coerce_dtype=True,\n",
    ").save()\n",
    "\n",
    "rxrx_curator = ln.curators.DataFrameCurator(meta_with_path, schema)"
   ]
  },
  {
   "cell_type": "code",
   "execution_count": null,
   "id": "2df9e533",
   "metadata": {
    "tags": [
     "hide-output"
    ]
   },
   "outputs": [],
   "source": [
    "try:\n",
    "    rxrx_curator.validate()\n",
    "except ln.errors.ValidationError as e:\n",
    "    print(e)"
   ]
  },
  {
   "cell_type": "code",
   "execution_count": null,
   "id": "7c25fd50",
   "metadata": {
    "tags": [
     "hide-output"
    ]
   },
   "outputs": [],
   "source": [
    "rxrx_curator.cat.standardize(\"cell_line\")\n",
    "rxrx_curator.cat.add_new_from(\"split\")\n",
    "rxrx_curator.cat.add_new_from(\"experiment\")\n",
    "rxrx_curator.cat.add_new_from(\"plate\")\n",
    "rxrx_curator.cat.add_new_from(\"well_type\")\n",
    "# well requires row and column information so we'll create records manually\n",
    "# sirna requires system information so we'll create records manually"
   ]
  },
  {
   "cell_type": "markdown",
   "id": "a868cc17",
   "metadata": {},
   "source": [
    "### `sirna`"
   ]
  },
  {
   "attachments": {},
   "cell_type": "markdown",
   "id": "dc821ebd",
   "metadata": {},
   "source": [
    "Add `sirna` to `GeneticPerturbation` table:"
   ]
  },
  {
   "cell_type": "code",
   "execution_count": null,
   "id": "3f029d5c",
   "metadata": {
    "tags": [
     "hide-output"
    ]
   },
   "outputs": [],
   "source": [
    "sirnas = [\n",
    "    wl.GeneticPerturbation(\n",
    "        name=sirna,\n",
    "        system=\"siRNA\",\n",
    "        _skip_validation=True,\n",
    "    )\n",
    "    for sirna in meta[\"sirna\"].unique()\n",
    "]\n",
    "ln.save(sirnas)"
   ]
  },
  {
   "cell_type": "markdown",
   "id": "2dcb996e",
   "metadata": {},
   "source": [
    "### `cell_line`"
   ]
  },
  {
   "cell_type": "markdown",
   "id": "470dc1e5",
   "metadata": {},
   "source": [
    "Add commonly used abbreviations:"
   ]
  },
  {
   "cell_type": "code",
   "execution_count": null,
   "id": "90f3fb40",
   "metadata": {
    "tags": [
     "hide-output"
    ]
   },
   "outputs": [],
   "source": [
    "bt.CellLine.get(\"30n7ByjL\").set_abbr(\"HUVEC\")\n",
    "bt.CellLine.get(\"6EK4GXdy\").set_abbr(\"U2OS\")\n",
    "bt.CellLine.get(\"og6IaxOV\").set_abbr(\"RPE\")\n",
    "bt.CellLine.get(\"4ea731nb\").set_abbr(\"HEPG2\")"
   ]
  },
  {
   "cell_type": "markdown",
   "id": "3823962a",
   "metadata": {},
   "source": [
    "## Register metadata file"
   ]
  },
  {
   "cell_type": "code",
   "execution_count": null,
   "id": "7e28cf82",
   "metadata": {
    "tags": [
     "hide-output"
    ]
   },
   "outputs": [],
   "source": [
    "meta_af = rxrx_curator.save_artifact(\n",
    "    key=\"rxrx1/metadata.parquet\",\n",
    "    description=\"Metadata with file paths for each RxRx1 image.\",\n",
    ")\n",
    "\n",
    "# Add a `readout` label using The `Experimental Factor Ontology`:\n",
    "readout_feat = ln.Feature(name=\"readout\", dtype=\"cat\").save()\n",
    "readout = bt.ExperimentalFactor.from_source(name=\"high content screen\").save()\n",
    "meta_af.labels.add(readout, readout_feat)"
   ]
  },
  {
   "cell_type": "code",
   "execution_count": null,
   "id": "3cb62860",
   "metadata": {
    "tags": [
     "hide-output"
    ]
   },
   "outputs": [],
   "source": [
    "meta_af.describe()"
   ]
  },
  {
   "cell_type": "markdown",
   "id": "b0081037",
   "metadata": {},
   "source": [
    "## Register images"
   ]
  },
  {
   "cell_type": "code",
   "execution_count": null,
   "id": "736b613e",
   "metadata": {
    "tags": [
     "hide-output"
    ]
   },
   "outputs": [],
   "source": [
    "ln.UPath(\"gs://rxrx1-europe-west4/images\").view_tree(level=2)"
   ]
  },
  {
   "cell_type": "markdown",
   "id": "a8c6eca4",
   "metadata": {},
   "source": [
    "Take a subset to run on CI:"
   ]
  },
  {
   "cell_type": "code",
   "execution_count": null,
   "id": "676e7d0b",
   "metadata": {
    "tags": [
     "hide-output"
    ]
   },
   "outputs": [],
   "source": [
    "images = ln.Artifact(\n",
    "    \"gs://rxrx1-europe-west4/images/test/HEPG2-08\", description=\"RxRx1 image files\"\n",
    ").save()\n",
    "images.n_files"
   ]
  },
  {
   "cell_type": "code",
   "execution_count": null,
   "id": "1b157a68",
   "metadata": {
    "tags": [
     "hide-output"
    ]
   },
   "outputs": [],
   "source": [
    "collection = ln.Collection(\n",
    "    images, key=\"Annotated RxRx1 images\", meta_artifact=meta_af\n",
    ").save()"
   ]
  },
  {
   "cell_type": "code",
   "execution_count": null,
   "id": "27541667",
   "metadata": {
    "tags": [
     "hide-output"
    ]
   },
   "outputs": [],
   "source": [
    "collection.meta_artifact"
   ]
  },
  {
   "cell_type": "code",
   "execution_count": null,
   "id": "cdfc47bf",
   "metadata": {
    "tags": [
     "hide-output"
    ]
   },
   "outputs": [],
   "source": [
    "collection.data_artifact"
   ]
  },
  {
   "cell_type": "code",
   "execution_count": null,
   "id": "1f236ab8",
   "metadata": {
    "tags": [
     "hide-output"
    ]
   },
   "outputs": [],
   "source": [
    "collection.describe()"
   ]
  }
 ],
 "metadata": {
  "kernelspec": {
   "display_name": "lamindb",
   "language": "python",
   "name": "python3"
  },
  "language_info": {
   "codemirror_mode": {
    "name": "ipython",
    "version": 3
   },
   "file_extension": ".py",
   "mimetype": "text/x-python",
   "name": "python",
   "nbconvert_exporter": "python",
   "pygments_lexer": "ipython3",
   "version": "3.12.8"
  },
  "nbproject": {
   "id": "Zo0qJt4IQPsb",
   "parent": null,
   "pypackage": null,
   "time_init": "2023-05-12T08:12:15.993422+00:00",
   "user_handle": "giovp",
   "user_id": "eut8h4zv",
   "user_name": null,
   "version": "1"
  }
 },
 "nbformat": 4,
 "nbformat_minor": 5
}
