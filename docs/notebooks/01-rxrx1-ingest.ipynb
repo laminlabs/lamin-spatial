{
 "cells": [
  {
   "attachments": {},
   "cell_type": "markdown",
   "id": "82251552-5981-44f1-a7fd-944c59a845de",
   "metadata": {},
   "source": [
    "# Ingest the RxRx1 dataset"
   ]
  },
  {
   "cell_type": "code",
   "execution_count": null,
   "id": "9ae2ee42",
   "metadata": {},
   "outputs": [],
   "source": [
    "!lamin init --storage test-rxrx --schema bionty,wetlab"
   ]
  },
  {
   "cell_type": "code",
   "execution_count": null,
   "id": "d4c819f7",
   "metadata": {},
   "outputs": [],
   "source": [
    "import lamindb as ln\n",
    "import bionty as bt\n",
    "import wetlab as wl\n",
    "\n",
    "ln.context.uid = \"Zo0qJt4IQPsb0000\"\n",
    "run = ln.context.track()"
   ]
  },
  {
   "cell_type": "markdown",
   "id": "c5388fe5",
   "metadata": {},
   "source": [
    "The `metadata.csv` was originally downloaded from [here](https://www.rxrx.ai/rxrx1#Download) and deposited on S3."
   ]
  },
  {
   "cell_type": "markdown",
   "id": "cfcd84c1",
   "metadata": {},
   "source": [
    "## Load metadata"
   ]
  },
  {
   "cell_type": "markdown",
   "id": "51083bac",
   "metadata": {},
   "source": [
    "Read in the raw metadata of the wells:"
   ]
  },
  {
   "cell_type": "code",
   "execution_count": null,
   "id": "e65f84f0",
   "metadata": {},
   "outputs": [],
   "source": [
    "meta = ln.Artifact(\n",
    "    \"s3://lamindata/rxrx1/metadata.csv\",\n",
    "    description=(\n",
    "        \"Experimental design of RxRx1, e.g. what cell type and\"\n",
    "        \" treatment are in each well.\"\n",
    "    ),\n",
    ").load()\n",
    "meta.shape"
   ]
  },
  {
   "cell_type": "code",
   "execution_count": null,
   "id": "573d7ff5",
   "metadata": {},
   "outputs": [],
   "source": [
    "meta.head(5)"
   ]
  },
  {
   "cell_type": "markdown",
   "id": "25153ef1",
   "metadata": {},
   "source": [
    "It seems that the column storing cell lines is erroneously called `cell_type`. \n",
    "\n",
    "Also `dataset` refers to something that's typicalled called `split`.\n",
    "\n",
    "Let's rename it: "
   ]
  },
  {
   "cell_type": "code",
   "execution_count": null,
   "id": "71c19013",
   "metadata": {},
   "outputs": [],
   "source": [
    "meta.rename({\"cell_type\": \"cell_line\", \"dataset\": \"split\"}, axis=1, inplace=True)\n",
    "meta.head(5)"
   ]
  },
  {
   "cell_type": "markdown",
   "id": "d3544249",
   "metadata": {},
   "source": [
    "Add a `paths` column - this is an aggregate over 6 paths for 6 channels. We'll deconvolute further down:"
   ]
  },
  {
   "cell_type": "code",
   "execution_count": null,
   "id": "440f91c0",
   "metadata": {},
   "outputs": [],
   "source": [
    "paths = []\n",
    "for _, row in meta.iterrows():\n",
    "    well = row.well\n",
    "    site = row.site\n",
    "    paths.append(\n",
    "        f\"images/{row.split}/{row.experiment}/Plate{row.plate}/{well}_s{site}_w1-w6.png\"\n",
    "    )\n",
    "meta[\"paths\"] = paths"
   ]
  },
  {
   "cell_type": "code",
   "execution_count": null,
   "id": "d6375cb5",
   "metadata": {},
   "outputs": [],
   "source": [
    "meta.head(2)"
   ]
  },
  {
   "attachments": {},
   "cell_type": "markdown",
   "id": "efca351e-a3ef-4550-8c59-a3dc0141dd88",
   "metadata": {},
   "source": [
    "## Validate and register metadata"
   ]
  },
  {
   "cell_type": "markdown",
   "id": "d0a2f4a2",
   "metadata": {},
   "source": [
    "### `cell_line`"
   ]
  },
  {
   "attachments": {},
   "cell_type": "markdown",
   "id": "d255e3b6-dfbd-4319-bebe-6dc1baf11215",
   "metadata": {},
   "source": [
    "We can start with curating the metadata table based on the ontologies from bionty. For example, let's start with the `cell_line` metadata.\n",
    "In this table, they are called \"cell_type\" but they are in fact the cell line for the experiments"
   ]
  },
  {
   "cell_type": "code",
   "execution_count": null,
   "id": "37d9bb21-b6b9-4915-8b68-365f11fde979",
   "metadata": {
    "tags": []
   },
   "outputs": [],
   "source": [
    "meta[\"cell_line\"].unique()"
   ]
  },
  {
   "cell_type": "code",
   "execution_count": null,
   "id": "030e7b02",
   "metadata": {},
   "outputs": [],
   "source": [
    "cell_lines = bt.CellLine.from_values(meta[\"cell_line\"])"
   ]
  },
  {
   "cell_type": "code",
   "execution_count": null,
   "id": "ef0f3709",
   "metadata": {
    "tags": [
     "hide-output"
    ]
   },
   "outputs": [],
   "source": [
    "ln.save(cell_lines)"
   ]
  },
  {
   "cell_type": "markdown",
   "id": "470dc1e5",
   "metadata": {},
   "source": [
    "Define abbreviation:"
   ]
  },
  {
   "cell_type": "code",
   "execution_count": null,
   "id": "90f3fb40",
   "metadata": {
    "tags": [
     "hide-output"
    ]
   },
   "outputs": [],
   "source": [
    "bt.CellLine.get(\"30n7ByjL\").set_abbr(\"HUVEC\")\n",
    "bt.CellLine.get(\"6EK4GXdy\").set_abbr(\"U2OS\")\n",
    "bt.CellLine.get(\"og6IaxOV\").set_abbr(\"RPE\")\n",
    "bt.CellLine.get(\"4ea731nb\").set_abbr(\"HEPG2\")\n",
    "bt.CellLine.df().head(4)"
   ]
  },
  {
   "cell_type": "code",
   "execution_count": null,
   "id": "553b9d56",
   "metadata": {
    "tags": [
     "hide-output"
    ]
   },
   "outputs": [],
   "source": [
    "cell_lines = bt.CellLine.lookup(field=\"abbr\")\n",
    "cell_lines.huvec.view_parents()"
   ]
  },
  {
   "cell_type": "code",
   "execution_count": null,
   "id": "2e615485",
   "metadata": {
    "tags": [
     "hide-output"
    ]
   },
   "outputs": [],
   "source": [
    "cell_lines.hepg2.view_parents()"
   ]
  },
  {
   "cell_type": "markdown",
   "id": "591ddd62",
   "metadata": {},
   "source": [
    "### `split`"
   ]
  },
  {
   "cell_type": "markdown",
   "id": "87bc0d16",
   "metadata": {},
   "source": [
    "Use `ULabel` for \"train\", \"test\":"
   ]
  },
  {
   "cell_type": "code",
   "execution_count": null,
   "id": "03800f02",
   "metadata": {},
   "outputs": [],
   "source": [
    "meta[\"split\"].unique()"
   ]
  },
  {
   "cell_type": "code",
   "execution_count": null,
   "id": "2feaee03",
   "metadata": {},
   "outputs": [],
   "source": [
    "train_test = [\n",
    "    ln.ULabel(name=name, description=\"ML split\") for name in meta[\"split\"].unique()\n",
    "]\n",
    "ln.save(train_test)"
   ]
  },
  {
   "cell_type": "markdown",
   "id": "96adcbcb",
   "metadata": {},
   "source": [
    "Define a parent:"
   ]
  },
  {
   "cell_type": "code",
   "execution_count": null,
   "id": "c5e10e5f",
   "metadata": {},
   "outputs": [],
   "source": [
    "is_split = ln.ULabel(name=\"is_split\", description=\"ML split\")\n",
    "is_split.save()\n",
    "is_split.children.add(*train_test)\n",
    "is_split.view_parents(with_children=True)"
   ]
  },
  {
   "cell_type": "markdown",
   "id": "1332431d",
   "metadata": {},
   "source": [
    "### `experiment`"
   ]
  },
  {
   "cell_type": "code",
   "execution_count": null,
   "id": "20e1f372",
   "metadata": {
    "tags": [
     "hide-output"
    ]
   },
   "outputs": [],
   "source": [
    "ln.settings.creation.search_names = False\n",
    "experiments = [\n",
    "    wl.Experiment(name=name, description=\"RxRx1\")\n",
    "    for name in meta[\"experiment\"].unique()\n",
    "]\n",
    "ln.save(experiments)\n",
    "ln.settings.creation.search_names = True"
   ]
  },
  {
   "cell_type": "markdown",
   "id": "450de01b",
   "metadata": {},
   "source": [
    "### `plate`"
   ]
  },
  {
   "cell_type": "code",
   "execution_count": null,
   "id": "c71cf241",
   "metadata": {
    "tags": [
     "hide-output"
    ]
   },
   "outputs": [],
   "source": [
    "ln.settings.creation.search_names = False\n",
    "is_plate = ln.ULabel(name=\"is_plate\", description=\"parent of plates\")\n",
    "is_plate.save()\n",
    "plates = [ln.ULabel(name=f\"Plate{name}\") for name in meta[\"plate\"].unique()]\n",
    "ln.save(plates)\n",
    "is_plate.children.set(plates)\n",
    "ln.settings.creation.search_names = True"
   ]
  },
  {
   "cell_type": "code",
   "execution_count": null,
   "id": "dcdd2a78",
   "metadata": {},
   "outputs": [],
   "source": [
    "is_plate.view_parents(with_children=True)"
   ]
  },
  {
   "cell_type": "markdown",
   "id": "eb573cf8",
   "metadata": {},
   "source": [
    "### `well`"
   ]
  },
  {
   "attachments": {},
   "cell_type": "markdown",
   "id": "80198d9f-dd52-476f-8333-c2742af9c38f",
   "metadata": {},
   "source": [
    "We might also want to add the well information, so that we can link image files and parse images based on well coordinates. To do this, let's first extract well locations from the table:"
   ]
  },
  {
   "cell_type": "code",
   "execution_count": null,
   "id": "0614c46a-d8f6-40db-be75-acf31411a43c",
   "metadata": {
    "tags": [
     "hide-output"
    ]
   },
   "outputs": [],
   "source": [
    "ln.settings.creation.search_names = False\n",
    "wells = [\n",
    "    wl.Well(name=well, row=well[0], column=int(well[1:]))\n",
    "    for well in meta[\"well\"].unique()\n",
    "]\n",
    "ln.save(wells)\n",
    "ln.settings.creation.search_names = True"
   ]
  },
  {
   "cell_type": "markdown",
   "id": "b84b665c",
   "metadata": {},
   "source": [
    "### `well_type`"
   ]
  },
  {
   "cell_type": "code",
   "execution_count": null,
   "id": "d5d846c3",
   "metadata": {},
   "outputs": [],
   "source": [
    "is_well_type = ln.ULabel(name=\"is_well_type\", description=\"parent of well types\")\n",
    "is_well_type.save()"
   ]
  },
  {
   "cell_type": "code",
   "execution_count": null,
   "id": "05cd6429",
   "metadata": {
    "tags": [
     "hide-output"
    ]
   },
   "outputs": [],
   "source": [
    "well_types = [ln.ULabel(name=name) for name in meta[\"well_type\"].unique()]\n",
    "ln.save(well_types)\n",
    "is_well_type.children.set(well_types)"
   ]
  },
  {
   "cell_type": "code",
   "execution_count": null,
   "id": "fdb3802b",
   "metadata": {},
   "outputs": [],
   "source": [
    "is_well_type.view_parents(with_children=True)"
   ]
  },
  {
   "cell_type": "markdown",
   "id": "a868cc17",
   "metadata": {},
   "source": [
    "### `sirna`"
   ]
  },
  {
   "attachments": {},
   "cell_type": "markdown",
   "id": "dc821ebd",
   "metadata": {},
   "source": [
    "Add `sirna` to Treatment table:"
   ]
  },
  {
   "cell_type": "code",
   "execution_count": null,
   "id": "3f029d5c",
   "metadata": {
    "tags": [
     "hide-output"
    ]
   },
   "outputs": [],
   "source": [
    "ln.settings.creation.search_names = False\n",
    "sirnas = [\n",
    "    wl.GeneticTreatment(\n",
    "        name=sirna,\n",
    "        system=\"siRNA\",\n",
    "        # description=\"ThermoFisher ID of siRNA\",\n",
    "    )\n",
    "    for sirna in meta[\"sirna\"].unique()\n",
    "]\n",
    "ln.save(sirnas)\n",
    "ln.settings.creation.search_names = True"
   ]
  },
  {
   "cell_type": "markdown",
   "id": "860ecbd9",
   "metadata": {},
   "source": [
    "### `readout`"
   ]
  },
  {
   "cell_type": "code",
   "execution_count": null,
   "id": "272bc79a",
   "metadata": {},
   "outputs": [],
   "source": [
    "ln.Feature(name=\"readout\", dtype=\"cat\").save()\n",
    "readout = bt.ExperimentalFactor.from_public(name=\"high content screen\")\n",
    "readout.save()"
   ]
  },
  {
   "cell_type": "code",
   "execution_count": null,
   "id": "c99511a4",
   "metadata": {},
   "outputs": [],
   "source": [
    "readout.view_parents(with_children=True)"
   ]
  },
  {
   "cell_type": "markdown",
   "id": "87e8086b",
   "metadata": {},
   "source": [
    "## Register all metadata features"
   ]
  },
  {
   "cell_type": "markdown",
   "id": "c6749204",
   "metadata": {},
   "source": [
    "Here we create a DataFrame with each row as a single image, similar to a link table but with multiple metadata columns:"
   ]
  },
  {
   "cell_type": "code",
   "execution_count": null,
   "id": "3bdadbd5",
   "metadata": {},
   "outputs": [],
   "source": [
    "meta_with_path = meta.copy()\n",
    "keys_list = []\n",
    "for key in meta_with_path[\"paths\"]:\n",
    "    keys = [key.replace(\"w1-w6.png\", f\"w{str(channel)}.png\") for channel in range(1, 7)]\n",
    "    keys_list.append(keys)\n",
    "meta_with_path[\"path\"] = keys_list\n",
    "meta_with_path = meta_with_path.explode(\"path\").reset_index(drop=True)\n",
    "del meta_with_path[\"paths\"]\n",
    "meta_with_path"
   ]
  },
  {
   "cell_type": "markdown",
   "id": "50ddcc64",
   "metadata": {},
   "source": [
    "Here we register all metadata features:"
   ]
  },
  {
   "cell_type": "code",
   "execution_count": null,
   "id": "6198c6d9",
   "metadata": {},
   "outputs": [],
   "source": [
    "obs_features = ln.Feature.from_df(\n",
    "    meta_with_path[\n",
    "        [\n",
    "            \"cell_line\",\n",
    "            \"split\",\n",
    "            \"experiment\",\n",
    "            \"plate\",\n",
    "            \"well\",\n",
    "            \"well_type\",\n",
    "            \"sirna\",\n",
    "            \"path\",\n",
    "        ]\n",
    "    ]\n",
    ")\n",
    "ln.save(obs_features)"
   ]
  },
  {
   "cell_type": "code",
   "execution_count": null,
   "id": "5e51cea1",
   "metadata": {},
   "outputs": [],
   "source": [
    "obs_features.df()"
   ]
  },
  {
   "cell_type": "code",
   "execution_count": null,
   "id": "6c43a7cf",
   "metadata": {},
   "outputs": [],
   "source": [
    "features = ln.Feature.lookup()"
   ]
  },
  {
   "cell_type": "markdown",
   "id": "3823962a",
   "metadata": {},
   "source": [
    "## Register metadata file"
   ]
  },
  {
   "cell_type": "code",
   "execution_count": null,
   "id": "0b80a2f0",
   "metadata": {},
   "outputs": [],
   "source": [
    "meta_file = ln.Artifact.from_df(\n",
    "    meta_with_path,\n",
    "    key=\"rxrx1/metadata.parquet\",\n",
    "    description=\"Metadata with file paths for each RxRx1 image.\",\n",
    ")"
   ]
  },
  {
   "cell_type": "code",
   "execution_count": null,
   "id": "8d313ec8",
   "metadata": {},
   "outputs": [],
   "source": [
    "meta_file.features._add_set_from_df()"
   ]
  },
  {
   "cell_type": "code",
   "execution_count": null,
   "id": "2efaf071",
   "metadata": {},
   "outputs": [],
   "source": [
    "meta_file.save()"
   ]
  },
  {
   "cell_type": "markdown",
   "id": "3138c022",
   "metadata": {},
   "source": [
    "Annotate with labels:"
   ]
  },
  {
   "cell_type": "code",
   "execution_count": null,
   "id": "38f67b1d",
   "metadata": {},
   "outputs": [],
   "source": [
    "cell_lines = bt.CellLine.from_values(meta.cell_line.unique())"
   ]
  },
  {
   "cell_type": "code",
   "execution_count": null,
   "id": "1b4025ed",
   "metadata": {},
   "outputs": [],
   "source": [
    "# columns\n",
    "meta_file.labels.add(cell_lines, features.cell_line)\n",
    "meta_file.labels.add(train_test, features.split)\n",
    "meta_file.labels.add(experiments, features.experiment)\n",
    "meta_file.labels.add(plates, features.plate)\n",
    "meta_file.labels.add(wells, features.well)\n",
    "meta_file.labels.add(well_types, features.well_type)\n",
    "meta_file.labels.add(sirnas, features.sirna)\n",
    "# external\n",
    "meta_file.labels.add(readout, features.readout)"
   ]
  },
  {
   "cell_type": "code",
   "execution_count": null,
   "id": "3cb62860",
   "metadata": {},
   "outputs": [],
   "source": [
    "meta_file.describe()"
   ]
  },
  {
   "cell_type": "markdown",
   "id": "b0081037",
   "metadata": {},
   "source": [
    "## Register images"
   ]
  },
  {
   "cell_type": "code",
   "execution_count": null,
   "id": "736b613e",
   "metadata": {},
   "outputs": [],
   "source": [
    "ln.UPath(\"gs://rxrx1-europe-west4/images\").view_tree(level=2)"
   ]
  },
  {
   "cell_type": "markdown",
   "id": "a8c6eca4",
   "metadata": {},
   "source": [
    "Take a subset to run on CI:"
   ]
  },
  {
   "cell_type": "code",
   "execution_count": null,
   "id": "676e7d0b",
   "metadata": {},
   "outputs": [],
   "source": [
    "images = ln.Artifact(\n",
    "    \"gs://rxrx1-europe-west4/images/test/HEPG2-08\", description=\"RxRx1 image files\"\n",
    ")\n",
    "images.n_objects"
   ]
  },
  {
   "cell_type": "code",
   "execution_count": null,
   "id": "d0b22bf8",
   "metadata": {},
   "outputs": [],
   "source": [
    "images.hash"
   ]
  },
  {
   "cell_type": "code",
   "execution_count": null,
   "id": "4584d829",
   "metadata": {},
   "outputs": [],
   "source": [
    "images.save()"
   ]
  },
  {
   "cell_type": "code",
   "execution_count": null,
   "id": "1b157a68",
   "metadata": {},
   "outputs": [],
   "source": [
    "collection = ln.Collection(\n",
    "    images, name=\"Annotated RxRx1 images\", meta_artifact=meta_file, version=\"1\"\n",
    ")\n",
    "collection.save()"
   ]
  },
  {
   "cell_type": "code",
   "execution_count": null,
   "id": "27541667",
   "metadata": {},
   "outputs": [],
   "source": [
    "collection.meta_artifact"
   ]
  },
  {
   "cell_type": "code",
   "execution_count": null,
   "id": "cdfc47bf",
   "metadata": {},
   "outputs": [],
   "source": [
    "collection.data_artifact"
   ]
  },
  {
   "cell_type": "code",
   "execution_count": null,
   "id": "1f236ab8",
   "metadata": {},
   "outputs": [],
   "source": [
    "collection.describe()"
   ]
  }
 ],
 "metadata": {
  "kernelspec": {
   "display_name": "Python 3 (ipykernel)",
   "language": "python",
   "name": "python3"
  },
  "language_info": {
   "codemirror_mode": {
    "name": "ipython",
    "version": 3
   },
   "file_extension": ".py",
   "mimetype": "text/x-python",
   "name": "python",
   "nbconvert_exporter": "python",
   "pygments_lexer": "ipython3",
   "version": "3.10.13"
  },
  "nbproject": {
   "id": "Zo0qJt4IQPsb",
   "parent": null,
   "pypackage": null,
   "time_init": "2023-05-12T08:12:15.993422+00:00",
   "user_handle": "giovp",
   "user_id": "eut8h4zv",
   "user_name": null,
   "version": "1"
  }
 },
 "nbformat": 4,
 "nbformat_minor": 5
}
