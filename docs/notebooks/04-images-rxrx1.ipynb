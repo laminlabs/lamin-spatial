{
 "cells": [
  {
   "cell_type": "markdown",
   "metadata": {},
   "source": [
    "[![lamindata](https://img.shields.io/badge/laminlabs/rxrx-mediumseagreen)](https://lamin.ai/laminlabs/rxrx/record/core/Transform?id=HUKnO6FeUZ2Kz8)"
   ]
  },
  {
   "attachments": {},
   "cell_type": "markdown",
   "metadata": {},
   "source": [
    "# Register RxRx1 images"
   ]
  },
  {
   "attachments": {},
   "cell_type": "markdown",
   "metadata": {},
   "source": [
    "Images are located: https://console.cloud.google.com/storage/browser/rxrx1-europe-west4"
   ]
  },
  {
   "cell_type": "code",
   "execution_count": 1,
   "metadata": {},
   "outputs": [
    {
     "name": "stdout",
     "output_type": "stream",
     "text": [
      "💡 loaded instance: laminlabs/rxrx (lamindb 0.55.1)\n"
     ]
    }
   ],
   "source": [
    "import lamindb as ln\n",
    "\n",
    "ln.settings.verbosity = \"hint\""
   ]
  },
  {
   "cell_type": "code",
   "execution_count": 2,
   "metadata": {},
   "outputs": [
    {
     "name": "stdout",
     "output_type": "stream",
     "text": [
      "💡 notebook imports: lamindb==0.55.1\n",
      "✅ loaded: Transform(id='HUKnO6FeUZ2Kz8', name='Register RxRx1 images', short_name='04-images-rxrx1', version='0', type='notebook', updated_at=2023-10-06 14:16:21, created_by_id='kmvZDIX9')\n",
      "✅ loaded: Run(id='tW4QDv8XmsWEx1XK7m14', run_at=2023-10-06 14:24:05, transform_id='HUKnO6FeUZ2Kz8', created_by_id='kmvZDIX9')\n"
     ]
    }
   ],
   "source": [
    "ln.track()"
   ]
  },
  {
   "cell_type": "markdown",
   "metadata": {},
   "source": [
    "## Register all image files as a dataset"
   ]
  },
  {
   "cell_type": "code",
   "execution_count": 3,
   "metadata": {},
   "outputs": [],
   "source": [
    "dataset = ln.Dataset(\"gs://rxrx1-europe-west4/images\", name=\"RxRx1 images\")"
   ]
  },
  {
   "cell_type": "code",
   "execution_count": 4,
   "metadata": {},
   "outputs": [],
   "source": [
    "dataset.save()"
   ]
  },
  {
   "cell_type": "code",
   "execution_count": 5,
   "metadata": {},
   "outputs": [
    {
     "data": {
      "text/plain": [
       "Dataset(id='vPl0AmfOaiPEsceri2Dt', name='RxRx1 images', updated_at=2023-10-06 14:17:30, transform_id='HUKnO6FeUZ2Kz8', run_id='tW4QDv8XmsWEx1XK7m14', storage_id='ZVt8q70N', created_by_id='kmvZDIX9')"
      ]
     },
     "execution_count": 5,
     "metadata": {},
     "output_type": "execute_result"
    }
   ],
   "source": [
    "dataset"
   ]
  },
  {
   "cell_type": "code",
   "execution_count": 6,
   "metadata": {},
   "outputs": [
    {
     "data": {
      "text/plain": [
       "GCSPath('gs://rxrx1-europe-west4/images')"
      ]
     },
     "execution_count": 6,
     "metadata": {},
     "output_type": "execute_result"
    }
   ],
   "source": [
    "dataset.path"
   ]
  },
  {
   "cell_type": "markdown",
   "metadata": {},
   "source": [
    "## Link dataset to metadata records"
   ]
  },
  {
   "cell_type": "code",
   "execution_count": 7,
   "metadata": {},
   "outputs": [],
   "source": [
    "meta_file = ln.File.filter(key=\"rxrx1/metadata.parquet\").one()"
   ]
  },
  {
   "cell_type": "code",
   "execution_count": 8,
   "metadata": {},
   "outputs": [
    {
     "name": "stdout",
     "output_type": "stream",
     "text": [
      "\u001b[1;92mFile\u001b[0m(id='fW7STSOMsRwDJk6oI3Kh', key='rxrx1/metadata.parquet', suffix='.parquet', accessor='DataFrame', description='Metadata with file paths for each RxRx1 image.', size=5721813, hash='LI8x9NhYKg7s3AqWiM3OiA', hash_type='md5', updated_at=2023-10-06 13:20:28)\n",
      "\n",
      "\u001b[1;92mProvenance\u001b[0m:\n",
      "  🗃️ storage: Storage(id='ysQz5pyR', root='s3://lamindata', type='s3', region='us-east-1', updated_at=2023-10-06 12:48:27, created_by_id='kmvZDIX9')\n",
      "  📔 transform: Transform(id='Zo0qJt4IQPsbz8', name='Validate and register RxRx1 metadata', short_name='02-meta-rxrx1', version='0', type='notebook', updated_at=2023-10-06 13:28:25, latest_report_id='OwREl5WuYpHjsiu0AaEc', source_file_id='9I64U9uJpd2PnOUopzr6', created_by_id='kmvZDIX9')\n",
      "  👣 run: Run(id='YGq6vCGFAJAjLDCBg3em', run_at=2023-10-06 13:18:39, transform_id='Zo0qJt4IQPsbz8', created_by_id='kmvZDIX9', report_id='OwREl5WuYpHjsiu0AaEc')\n",
      "  👤 created_by: User(id='kmvZDIX9', handle='sunnyosun', email='xs338@nyu.edu', name='Sunny Sun', updated_at=2023-10-06 13:12:07)\n",
      "\u001b[1;92mFeatures\u001b[0m:\n",
      "  \u001b[1mcolumns\u001b[0m: FeatureSet(id='GxFpmjfXELp92ksbohKX', n=12, registry='core.Feature', hash='LwXv_oHoQJeBS1u2vcP7', updated_at=2023-10-06 13:20:28, created_by_id='kmvZDIX9')\n",
      "    🔗 well (308, \u001b[3mlamin1.Well\u001b[0m): 'K17', 'D13', 'K02', 'M15', 'L08', 'B08', 'G18', 'J14', 'N07', 'N08', ...\n",
      "    sirna_id (category)\n",
      "    🔗 cell_type (4, \u001b[3mbionty.CellLine\u001b[0m): 'HUV-EC-C cell', 'U-2 OS cell', 'hTERT RPE-1 cell', 'Hep G2 cell'\n",
      "    well_id (category)\n",
      "    🔗 plate (4, \u001b[3mcore.ULabel\u001b[0m): 'Plate1', 'Plate3', 'Plate2', 'Plate4'\n",
      "    🔗 sirna (1139, \u001b[3mlamin1.Treatment\u001b[0m): 's27550', 's21422', 's36691', 's19169', 's38120', 's19148', 's394', 's38627', 's555', 's21535', ...\n",
      "    file_keys (object)\n",
      "    🔗 site (2, \u001b[3mcore.ULabel\u001b[0m): 'Site1', 'Site2'\n",
      "    site_id (object)\n",
      "    🔗 dataset (2, \u001b[3mcore.ULabel\u001b[0m): 'test', 'train'\n",
      "    🔗 well_type (3, \u001b[3mcore.ULabel\u001b[0m): 'positive_control', 'negative_control', 'treatment'\n",
      "    🔗 experiment (51, \u001b[3mlamin1.Experiment\u001b[0m): 'RPE-06', 'RPE-10', 'U2OS-04', 'HUVEC-07', 'HEPG2-01', 'HUVEC-13', 'HUVEC-10', 'RPE-04', 'HUVEC-19', 'RPE-07', ...\n",
      "  \u001b[1mexternal\u001b[0m: FeatureSet(id='aXI3KfYXZMrKTAT1P4ew', n=1, registry='core.Feature', hash='TB1OiIa_qLLfly0M__wL', updated_at=2023-10-06 13:24:55, modality_id='RVDKV55v', created_by_id='kmvZDIX9')\n",
      "    🔗 assay (1, \u001b[3mbionty.ExperimentalFactor\u001b[0m): 'high content screen'\n",
      "\u001b[1;92mLabels\u001b[0m:\n",
      "  🏷️ cell_lines (4, \u001b[3mbionty.CellLine\u001b[0m): 'HUV-EC-C cell', 'U-2 OS cell', 'hTERT RPE-1 cell', 'Hep G2 cell'\n",
      "  🏷️ experimental_factors (1, \u001b[3mbionty.ExperimentalFactor\u001b[0m): 'high content screen'\n",
      "  🏷️ experiments (51, \u001b[3mlamin1.Experiment\u001b[0m): 'RPE-06', 'RPE-10', 'U2OS-04', 'HUVEC-07', 'HEPG2-01', 'HUVEC-13', 'HUVEC-10', 'RPE-04', 'HUVEC-19', 'RPE-07', ...\n",
      "  🏷️ wells (308, \u001b[3mlamin1.Well\u001b[0m): 'K17', 'D13', 'K02', 'M15', 'L08', 'B08', 'G18', 'J14', 'N07', 'N08', ...\n",
      "  🏷️ treatments (1139, \u001b[3mlamin1.Treatment\u001b[0m): 's27550', 's21422', 's36691', 's19169', 's38120', 's19148', 's394', 's38627', 's555', 's21535', ...\n",
      "  🏷️ ulabels (11, \u001b[3mcore.ULabel\u001b[0m): 'test', 'Plate1', 'Site1', 'Plate3', 'Plate2', 'Site2', 'positive_control', 'Plate4', 'train', 'negative_control', ...\n",
      "\n"
     ]
    }
   ],
   "source": [
    "meta_file.describe()"
   ]
  },
  {
   "cell_type": "code",
   "execution_count": 15,
   "metadata": {},
   "outputs": [
    {
     "name": "stdout",
     "output_type": "stream",
     "text": [
      "✅ \u001b[1;92m12 terms\u001b[0m (100.00%) are validated for \u001b[3mid\u001b[0m\n"
     ]
    },
    {
     "name": "stdout",
     "output_type": "stream",
     "text": [
      "✅ \u001b[1;92m1 term\u001b[0m (100.00%) is validated for \u001b[3mid\u001b[0m\n"
     ]
    }
   ],
   "source": [
    "dataset.features._add_from(meta_file)"
   ]
  },
  {
   "cell_type": "code",
   "execution_count": 17,
   "metadata": {},
   "outputs": [],
   "source": [
    "dataset.labels.add_from(meta_file)"
   ]
  },
  {
   "cell_type": "code",
   "execution_count": 18,
   "metadata": {},
   "outputs": [
    {
     "name": "stdout",
     "output_type": "stream",
     "text": [
      "\u001b[1;92mDataset\u001b[0m(id='vPl0AmfOaiPEsceri2Dt', name='RxRx1 images', updated_at=2023-10-06 14:17:30)\n",
      "\n",
      "\u001b[1;92mProvenance\u001b[0m:\n",
      "  📔 transform: Transform(id='HUKnO6FeUZ2Kz8', name='Register RxRx1 images', short_name='04-images-rxrx1', version='0', type='notebook', updated_at=2023-10-06 14:16:21, created_by_id='kmvZDIX9')\n",
      "  👣 run: Run(id='tW4QDv8XmsWEx1XK7m14', run_at=2023-10-06 14:17:23, transform_id='HUKnO6FeUZ2Kz8', created_by_id='kmvZDIX9')\n",
      "  🗃️ storage: Storage(id='ZVt8q70N', root='gs://rxrx1-europe-west4/images', type='gs', updated_at=2023-10-06 14:17:23, created_by_id='kmvZDIX9')\n",
      "  👤 created_by: User(id='kmvZDIX9', handle='sunnyosun', email='xs338@nyu.edu', name='Sunny Sun', updated_at=2023-10-06 13:12:07)\n",
      "\u001b[1;92mFeatures\u001b[0m:\n",
      "  \u001b[1mcolumns\u001b[0m: FeatureSet(id='GxFpmjfXELp92ksbohKX', n=12, registry='core.Feature', hash='LwXv_oHoQJeBS1u2vcP7', updated_at=2023-10-06 14:22:58, created_by_id='kmvZDIX9')\n",
      "    🔗 well (308, \u001b[3mlamin1.Well\u001b[0m): 'D21', 'C11', 'E12', 'G22', 'I08', 'K23', 'G02', 'E14', 'B10', 'C21', ...\n",
      "    sirna_id (category)\n",
      "    🔗 cell_type (4, \u001b[3mbionty.CellLine\u001b[0m): 'HUV-EC-C cell', 'Hep G2 cell', 'hTERT RPE-1 cell', 'U-2 OS cell'\n",
      "    well_id (category)\n",
      "    🔗 plate (4, \u001b[3mcore.ULabel\u001b[0m): 'Plate1', 'Plate3', 'Plate2', 'Plate4'\n",
      "    🔗 sirna (1139, \u001b[3mlamin1.Treatment\u001b[0m): 's20444', 's28735', 's633', 's20734', 's195247', 's28116', 's26902', 's20323', 's20533', 's28361', ...\n",
      "    file_keys (object)\n",
      "    🔗 site (2, \u001b[3mcore.ULabel\u001b[0m): 'Site1', 'Site2'\n",
      "    site_id (object)\n",
      "    🔗 dataset (2, \u001b[3mcore.ULabel\u001b[0m): 'test', 'train'\n",
      "    🔗 well_type (3, \u001b[3mcore.ULabel\u001b[0m): 'positive_control', 'negative_control', 'treatment'\n",
      "    🔗 experiment (51, \u001b[3mlamin1.Experiment\u001b[0m): 'RPE-03', 'HUVEC-11', 'HUVEC-21', 'HUVEC-19', 'U2OS-01', 'HUVEC-08', 'HEPG2-05', 'HUVEC-02', 'HUVEC-23', 'HEPG2-10', ...\n",
      "  \u001b[1mexternal\u001b[0m: FeatureSet(id='aXI3KfYXZMrKTAT1P4ew', n=1, registry='core.Feature', hash='TB1OiIa_qLLfly0M__wL', updated_at=2023-10-06 14:22:58, modality_id='RVDKV55v', created_by_id='kmvZDIX9')\n",
      "    🔗 assay (1, \u001b[3mbionty.ExperimentalFactor\u001b[0m): 'high content screen'\n",
      "\u001b[1;92mLabels\u001b[0m:\n",
      "  🏷️ cell_lines (4, \u001b[3mbionty.CellLine\u001b[0m): 'HUV-EC-C cell', 'Hep G2 cell', 'hTERT RPE-1 cell', 'U-2 OS cell'\n",
      "  🏷️ experimental_factors (1, \u001b[3mbionty.ExperimentalFactor\u001b[0m): 'high content screen'\n",
      "  🏷️ experiments (51, \u001b[3mlamin1.Experiment\u001b[0m): 'RPE-03', 'HUVEC-11', 'HUVEC-21', 'HUVEC-19', 'U2OS-01', 'HUVEC-08', 'HEPG2-05', 'HUVEC-02', 'HUVEC-23', 'HEPG2-10', ...\n",
      "  🏷️ wells (308, \u001b[3mlamin1.Well\u001b[0m): 'D21', 'C11', 'E12', 'G22', 'I08', 'K23', 'G02', 'E14', 'B10', 'C21', ...\n",
      "  🏷️ treatments (1139, \u001b[3mlamin1.Treatment\u001b[0m): 's20444', 's28735', 's633', 's20734', 's195247', 's28116', 's26902', 's20323', 's20533', 's28361', ...\n",
      "  🏷️ ulabels (11, \u001b[3mcore.ULabel\u001b[0m): 'test', 'Plate1', 'Site1', 'Plate3', 'Plate2', 'Site2', 'positive_control', 'Plate4', 'train', 'negative_control', ...\n",
      "\n"
     ]
    }
   ],
   "source": [
    "dataset.describe()"
   ]
  }
 ],
 "metadata": {
  "kernelspec": {
   "display_name": "py39",
   "language": "python",
   "name": "python3"
  },
  "language_info": {
   "codemirror_mode": {
    "name": "ipython",
    "version": 3
   },
   "file_extension": ".py",
   "mimetype": "text/x-python",
   "name": "python",
   "nbconvert_exporter": "python",
   "pygments_lexer": "ipython3",
   "version": "3.9.16"
  },
  "nbproject": {
   "id": "HUKnO6FeUZ2K",
   "parent": null,
   "pypackage": null,
   "time_init": "2023-07-11T09:17:02.302481+00:00",
   "user_handle": "sunnyosun",
   "user_id": "kmvZDIX9",
   "user_name": "Sunny Sun",
   "version": "0"
  }
 },
 "nbformat": 4,
 "nbformat_minor": 2
}
