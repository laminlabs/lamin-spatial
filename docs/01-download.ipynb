{
 "cells": [
  {
   "cell_type": "markdown",
   "metadata": {},
   "source": [
    "# Download and register files"
   ]
  },
  {
   "cell_type": "markdown",
   "metadata": {},
   "source": [
    "This notebook downloads metadata and embedding files of [RxRx1](https://www.rxrx.ai/rxrx1)."
   ]
  },
  {
   "cell_type": "markdown",
   "metadata": {},
   "source": [
    "## Setup"
   ]
  },
  {
   "cell_type": "code",
   "execution_count": 1,
   "metadata": {},
   "outputs": [
    {
     "name": "stdout",
     "output_type": "stream",
     "text": [
      "2023-10-06 14:48:12,190:INFO - Found credentials in shared credentials file: ~/.aws/credentials\n",
      "2023-10-06 14:48:12,987:INFO - Found credentials in shared credentials file: ~/.aws/credentials\n",
      "❗ storage exists already\n",
      "✅ registered instance on hub: https://lamin.ai/sunnyosun/rxrx\n",
      "✅ saved: User(id='kmvZDIX9', handle='sunnyosun', email='xs338@nyu.edu', name='Sunny Sun', updated_at=2023-10-06 12:48:27)\n",
      "✅ saved: Storage(id='ysQz5pyR', root='s3://lamindata', type='s3', region='us-east-1', updated_at=2023-10-06 12:48:27, created_by_id='kmvZDIX9')\n",
      "❗ updating & unlocking cloud SQLite 's3://lamindata/rxrx.lndb' of instance 'sunnyosun/rxrx'\n",
      "💡 loaded instance: sunnyosun/rxrx\n",
      "❗ locked instance (to unlock and push changes to the cloud SQLite file, call: lamin close)\n",
      "\u001b[0m2023-10-06 14:48:39,889:INFO - Found credentials in shared credentials file: ~/.aws/credentials\n",
      "❗ updating & unlocking cloud SQLite 's3://lamindata/rxrx.lndb' of instance 'sunnyosun/rxrx'\n",
      "✅ closed instance: sunnyosun/rxrx\n"
     ]
    }
   ],
   "source": [
    "# !lamin init --storage s3://lamindata --name rxrx --schema bionty,lamin1\n",
    "# !lamin close"
   ]
  },
  {
   "cell_type": "code",
   "execution_count": 2,
   "metadata": {},
   "outputs": [
    {
     "name": "stdout",
     "output_type": "stream",
     "text": [
      "2023-10-06 15:12:00,306:INFO - Found credentials in shared credentials file: ~/.aws/credentials\n",
      "❗ updating local SQLite & locking cloud SQLite (sync back & unlock: lamin close)\n",
      "💡 loaded instance: laminlabs/rxrx\n",
      "\u001b[0m"
     ]
    }
   ],
   "source": [
    "!lamin load laminlabs/rxrx"
   ]
  },
  {
   "cell_type": "code",
   "execution_count": 3,
   "metadata": {},
   "outputs": [
    {
     "name": "stdout",
     "output_type": "stream",
     "text": [
      "💡 loaded instance: laminlabs/rxrx (lamindb 0.55.1)\n"
     ]
    }
   ],
   "source": [
    "import lamindb as ln\n",
    "\n",
    "ln.settings.verbosity = \"hint\""
   ]
  },
  {
   "cell_type": "code",
   "execution_count": 4,
   "metadata": {},
   "outputs": [
    {
     "name": "stdout",
     "output_type": "stream",
     "text": [
      "💡 notebook imports: lamindb==0.55.0\n",
      "✅ saved: Transform(id='VxfLdk7rOTnbz8', name='Download and register files', short_name='01-download', version='0', type=notebook, updated_at=2023-10-06 13:12:15, created_by_id='kmvZDIX9')\n",
      "✅ saved: Run(id='s9Eh8RaIdaoPPTb7IdNi', run_at=2023-10-06 13:12:15, transform_id='VxfLdk7rOTnbz8', created_by_id='kmvZDIX9')\n"
     ]
    }
   ],
   "source": [
    "ln.track()"
   ]
  },
  {
   "cell_type": "markdown",
   "metadata": {},
   "source": [
    "## Register the metadata files"
   ]
  },
  {
   "cell_type": "code",
   "execution_count": 5,
   "metadata": {},
   "outputs": [
    {
     "name": "stdout",
     "output_type": "stream",
     "text": [
      "💡 file in storage 's3://lamindata' with key 'rxrx1/metadata.csv'\n"
     ]
    }
   ],
   "source": [
    "# The `metadata.csv` is downloaded from: https://www.rxrx.ai/rxrx1#Download\n",
    "\n",
    "meta_file_rxrx1 = ln.File(\n",
    "    \"s3://lamindata/rxrx1/metadata.csv\",\n",
    "    description=(\n",
    "        \"A CSV containing the experiment design of RxRx1, e.g. what cell type and\"\n",
    "        \" treatment are in each well.\"\n",
    "    ),\n",
    ")\n",
    "meta_file_rxrx1.save()"
   ]
  },
  {
   "cell_type": "code",
   "execution_count": 6,
   "metadata": {},
   "outputs": [
    {
     "name": "stdout",
     "output_type": "stream",
     "text": [
      "💡 file in storage 's3://lamindata' with key 'rxrx2/metadata.csv'\n"
     ]
    }
   ],
   "source": [
    "# The `metadata.csv` is downloaded from: https://www.rxrx.ai/rxrx2#Download\n",
    "\n",
    "meta_file_rxrx2 = ln.File(\n",
    "    \"s3://lamindata/rxrx2/metadata.csv\",\n",
    "    description=(\n",
    "        \"A CSV containing the experiment design of RxRx2, e.g. what cell type and\"\n",
    "        \" treatment are in each well.\"\n",
    "    ),\n",
    ")\n",
    "meta_file_rxrx2.save()"
   ]
  },
  {
   "cell_type": "markdown",
   "metadata": {},
   "source": [
    "## Register the embedding files"
   ]
  },
  {
   "cell_type": "code",
   "execution_count": 7,
   "metadata": {},
   "outputs": [
    {
     "name": "stdout",
     "output_type": "stream",
     "text": [
      "💡 file in storage 's3://lamindata' with key 'rxrx1/embeddings.csv'\n"
     ]
    }
   ],
   "source": [
    "# The `embeddings.csv` is downloaded from: https://www.rxrx.ai/rxrx1#Download\n",
    "\n",
    "embedding_file_rxrx1 = ln.File(\n",
    "    \"s3://lamindata/rxrx1/embeddings.csv\",\n",
    "    description=(\n",
    "        \"A large CSV file containing all of the deep learning embeddings for each\"\n",
    "        \" image of RxRx1.\"\n",
    "    ),\n",
    ")\n",
    "embedding_file_rxrx1.save()"
   ]
  },
  {
   "cell_type": "code",
   "execution_count": 8,
   "metadata": {},
   "outputs": [
    {
     "name": "stdout",
     "output_type": "stream",
     "text": [
      "💡 file in storage 's3://lamindata' with key 'rxrx2/embeddings.csv'\n"
     ]
    }
   ],
   "source": [
    "# The `embeddings.csv` is downloaded from: https://www.rxrx.ai/rxrx2#Download\n",
    "\n",
    "embedding_file_rxrx2 = ln.File(\n",
    "    \"s3://lamindata/rxrx2/embeddings.csv\",\n",
    "    description=(\n",
    "        \"A large CSV file containing all of the deep learning embeddings for each\"\n",
    "        \" image of RxRx2.\"\n",
    "    ),\n",
    ")\n",
    "\n",
    "embedding_file_rxrx2.save()"
   ]
  }
 ],
 "metadata": {
  "kernelspec": {
   "display_name": "py39",
   "language": "python",
   "name": "python3"
  },
  "language_info": {
   "codemirror_mode": {
    "name": "ipython",
    "version": 3
   },
   "file_extension": ".py",
   "mimetype": "text/x-python",
   "name": "python",
   "nbconvert_exporter": "python",
   "pygments_lexer": "ipython3",
   "version": "3.9.16"
  },
  "nbproject": {
   "id": "VxfLdk7rOTnb",
   "parent": null,
   "pypackage": null,
   "time_init": "2023-09-18T12:33:26.812531+00:00",
   "user_handle": null,
   "user_id": null,
   "user_name": null,
   "version": "0"
  }
 },
 "nbformat": 4,
 "nbformat_minor": 2
}
