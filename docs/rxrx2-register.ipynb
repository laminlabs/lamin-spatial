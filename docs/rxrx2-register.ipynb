{
 "cells": [
  {
   "attachments": {},
   "cell_type": "markdown",
   "id": "82251552-5981-44f1-a7fd-944c59a845de",
   "metadata": {},
   "source": [
    "# Validate and register RxRx2 metadata\n",
    "\n",
    "In this notebook, we'll take a look at how to validate and register metadata.\n",
    "\n",
    "We will combine metadata and deep learning embeddings into an `AnnData` object."
   ]
  },
  {
   "cell_type": "code",
   "execution_count": 1,
   "id": "d4c819f7",
   "metadata": {},
   "outputs": [
    {
     "name": "stderr",
     "output_type": "stream",
     "text": [
      "2023-09-21 15:01:19,919:INFO - Found credentials in shared credentials file: ~/.aws/credentials\n"
     ]
    },
    {
     "name": "stdout",
     "output_type": "stream",
     "text": [
      "💡 loaded instance: sunnyosun/rxrx1-2 (lamindb 0.54.0)\n"
     ]
    }
   ],
   "source": [
    "import lamindb as ln\n",
    "import lnschema_bionty as lb\n",
    "import lnschema_lamin1 as ln1\n",
    "import anndata as ad"
   ]
  },
  {
   "cell_type": "code",
   "execution_count": 2,
   "id": "303f2068",
   "metadata": {},
   "outputs": [],
   "source": [
    "ln.settings.verbosity = \"hint\""
   ]
  },
  {
   "cell_type": "code",
   "execution_count": 3,
   "id": "ae5f5e0a",
   "metadata": {},
   "outputs": [
    {
     "name": "stdout",
     "output_type": "stream",
     "text": [
      "💡 notebook imports: anndata==0.9.1 lamindb==0.54.0 lnschema_bionty==0.31.1 lnschema_lamin1==0.23.0\n",
      "✅ loaded: Transform(id='Znl9AYOyfjZ5z8', name='Validate and register RxRx2 metadata', short_name='rxrx2-register', version='0', type='notebook', updated_at=2023-09-21 12:11:28, created_by_id='kmvZDIX9')\n",
      "✅ loaded: Run(id='nWrb62McQ8aD0vSy5wDk', run_at=2023-09-21 13:01:23, transform_id='Znl9AYOyfjZ5z8', created_by_id='kmvZDIX9')\n",
      "✅   parent transform: Transform(id='UQfcvbNwzobAz8', name='Register RxRx2 metadata and embedding files', short_name='rxrx2-download', version='0', type='notebook', updated_at=2023-09-19 10:58:24, created_by_id='kmvZDIX9')\n"
     ]
    }
   ],
   "source": [
    "ln.track()"
   ]
  },
  {
   "cell_type": "markdown",
   "id": "cfcd84c1",
   "metadata": {},
   "source": [
    "## Load metadata"
   ]
  },
  {
   "cell_type": "markdown",
   "id": "51083bac",
   "metadata": {},
   "source": [
    "We read in the metadata of the wells:"
   ]
  },
  {
   "cell_type": "code",
   "execution_count": 4,
   "id": "a20be6b6",
   "metadata": {},
   "outputs": [
    {
     "name": "stdout",
     "output_type": "stream",
     "text": [
      "💡 adding file dQAFVD3bFSMsKDAH2GnF as input for run nWrb62McQ8aD0vSy5wDk, adding parent transform UQfcvbNwzobAz8\n"
     ]
    }
   ],
   "source": [
    "meta_file = ln.File.filter(key=\"rxrx2/metadata.csv\").one()\n",
    "meta = meta_file.load()"
   ]
  },
  {
   "cell_type": "code",
   "execution_count": 5,
   "id": "573d7ff5",
   "metadata": {},
   "outputs": [
    {
     "data": {
      "text/html": [
       "<div>\n",
       "<style scoped>\n",
       "    .dataframe tbody tr th:only-of-type {\n",
       "        vertical-align: middle;\n",
       "    }\n",
       "\n",
       "    .dataframe tbody tr th {\n",
       "        vertical-align: top;\n",
       "    }\n",
       "\n",
       "    .dataframe thead th {\n",
       "        text-align: right;\n",
       "    }\n",
       "</style>\n",
       "<table border=\"1\" class=\"dataframe\">\n",
       "  <thead>\n",
       "    <tr style=\"text-align: right;\">\n",
       "      <th></th>\n",
       "      <th>site_id</th>\n",
       "      <th>well_id</th>\n",
       "      <th>cell_type</th>\n",
       "      <th>experiment</th>\n",
       "      <th>plate</th>\n",
       "      <th>well</th>\n",
       "      <th>site</th>\n",
       "      <th>treatment</th>\n",
       "      <th>treatment_conc</th>\n",
       "    </tr>\n",
       "  </thead>\n",
       "  <tbody>\n",
       "    <tr>\n",
       "      <th>0</th>\n",
       "      <td>HUVEC-1_1_AA03_1</td>\n",
       "      <td>HUVEC-1_1_AA03</td>\n",
       "      <td>HUVEC</td>\n",
       "      <td>HUVEC-1</td>\n",
       "      <td>1</td>\n",
       "      <td>AA03</td>\n",
       "      <td>1</td>\n",
       "      <td>Sonic-Hedgehog</td>\n",
       "      <td>0.1</td>\n",
       "    </tr>\n",
       "    <tr>\n",
       "      <th>1</th>\n",
       "      <td>HUVEC-1_1_AA03_2</td>\n",
       "      <td>HUVEC-1_1_AA03</td>\n",
       "      <td>HUVEC</td>\n",
       "      <td>HUVEC-1</td>\n",
       "      <td>1</td>\n",
       "      <td>AA03</td>\n",
       "      <td>2</td>\n",
       "      <td>Sonic-Hedgehog</td>\n",
       "      <td>0.1</td>\n",
       "    </tr>\n",
       "    <tr>\n",
       "      <th>2</th>\n",
       "      <td>HUVEC-1_1_AA03_3</td>\n",
       "      <td>HUVEC-1_1_AA03</td>\n",
       "      <td>HUVEC</td>\n",
       "      <td>HUVEC-1</td>\n",
       "      <td>1</td>\n",
       "      <td>AA03</td>\n",
       "      <td>3</td>\n",
       "      <td>Sonic-Hedgehog</td>\n",
       "      <td>0.1</td>\n",
       "    </tr>\n",
       "    <tr>\n",
       "      <th>3</th>\n",
       "      <td>HUVEC-1_1_AA03_4</td>\n",
       "      <td>HUVEC-1_1_AA03</td>\n",
       "      <td>HUVEC</td>\n",
       "      <td>HUVEC-1</td>\n",
       "      <td>1</td>\n",
       "      <td>AA03</td>\n",
       "      <td>4</td>\n",
       "      <td>Sonic-Hedgehog</td>\n",
       "      <td>0.1</td>\n",
       "    </tr>\n",
       "    <tr>\n",
       "      <th>4</th>\n",
       "      <td>HUVEC-1_1_AA04_1</td>\n",
       "      <td>HUVEC-1_1_AA04</td>\n",
       "      <td>HUVEC</td>\n",
       "      <td>HUVEC-1</td>\n",
       "      <td>1</td>\n",
       "      <td>AA04</td>\n",
       "      <td>1</td>\n",
       "      <td>GDF-1</td>\n",
       "      <td>0.1</td>\n",
       "    </tr>\n",
       "  </tbody>\n",
       "</table>\n",
       "</div>"
      ],
      "text/plain": [
       "            site_id         well_id cell_type experiment  plate  well  site  \\\n",
       "0  HUVEC-1_1_AA03_1  HUVEC-1_1_AA03     HUVEC    HUVEC-1      1  AA03     1   \n",
       "1  HUVEC-1_1_AA03_2  HUVEC-1_1_AA03     HUVEC    HUVEC-1      1  AA03     2   \n",
       "2  HUVEC-1_1_AA03_3  HUVEC-1_1_AA03     HUVEC    HUVEC-1      1  AA03     3   \n",
       "3  HUVEC-1_1_AA03_4  HUVEC-1_1_AA03     HUVEC    HUVEC-1      1  AA03     4   \n",
       "4  HUVEC-1_1_AA04_1  HUVEC-1_1_AA04     HUVEC    HUVEC-1      1  AA04     1   \n",
       "\n",
       "        treatment  treatment_conc  \n",
       "0  Sonic-Hedgehog             0.1  \n",
       "1  Sonic-Hedgehog             0.1  \n",
       "2  Sonic-Hedgehog             0.1  \n",
       "3  Sonic-Hedgehog             0.1  \n",
       "4           GDF-1             0.1  "
      ]
     },
     "execution_count": 5,
     "metadata": {},
     "output_type": "execute_result"
    }
   ],
   "source": [
    "meta.head()"
   ]
  },
  {
   "cell_type": "code",
   "execution_count": 6,
   "id": "5281df48",
   "metadata": {},
   "outputs": [],
   "source": [
    "meta[\"plate\"] = meta[\"plate\"].astype(str)\n",
    "meta[\"site\"] = meta[\"site\"].astype(str)"
   ]
  },
  {
   "cell_type": "code",
   "execution_count": 7,
   "id": "cb7b4d61",
   "metadata": {},
   "outputs": [
    {
     "data": {
      "text/plain": [
       "(131953, 9)"
      ]
     },
     "execution_count": 7,
     "metadata": {},
     "output_type": "execute_result"
    }
   ],
   "source": [
    "meta.shape"
   ]
  },
  {
   "cell_type": "markdown",
   "id": "0e16a747",
   "metadata": {},
   "source": [
    "Add a `file_keys` column:"
   ]
  },
  {
   "cell_type": "code",
   "execution_count": 8,
   "id": "8a283ab6",
   "metadata": {},
   "outputs": [],
   "source": [
    "# get the 6 file keys for each row\n",
    "files_list = []\n",
    "for _, row in meta.iterrows():\n",
    "    well = row.well\n",
    "    site = row.site\n",
    "    # each image has 6 channels\n",
    "    files_list.append(\n",
    "        f\"images/{row.experiment}/Plate{row.plate}/{well}_s{site}_w1-w6.png\"\n",
    "    )  # channels are w1 - w6\n",
    "meta[\"file_keys\"] = files_list"
   ]
  },
  {
   "cell_type": "code",
   "execution_count": 9,
   "id": "51436f10",
   "metadata": {},
   "outputs": [
    {
     "data": {
      "text/html": [
       "<div>\n",
       "<style scoped>\n",
       "    .dataframe tbody tr th:only-of-type {\n",
       "        vertical-align: middle;\n",
       "    }\n",
       "\n",
       "    .dataframe tbody tr th {\n",
       "        vertical-align: top;\n",
       "    }\n",
       "\n",
       "    .dataframe thead th {\n",
       "        text-align: right;\n",
       "    }\n",
       "</style>\n",
       "<table border=\"1\" class=\"dataframe\">\n",
       "  <thead>\n",
       "    <tr style=\"text-align: right;\">\n",
       "      <th></th>\n",
       "      <th>site_id</th>\n",
       "      <th>well_id</th>\n",
       "      <th>cell_type</th>\n",
       "      <th>experiment</th>\n",
       "      <th>plate</th>\n",
       "      <th>well</th>\n",
       "      <th>site</th>\n",
       "      <th>treatment</th>\n",
       "      <th>treatment_conc</th>\n",
       "      <th>file_keys</th>\n",
       "    </tr>\n",
       "  </thead>\n",
       "  <tbody>\n",
       "    <tr>\n",
       "      <th>0</th>\n",
       "      <td>HUVEC-1_1_AA03_1</td>\n",
       "      <td>HUVEC-1_1_AA03</td>\n",
       "      <td>HUVEC</td>\n",
       "      <td>HUVEC-1</td>\n",
       "      <td>1</td>\n",
       "      <td>AA03</td>\n",
       "      <td>1</td>\n",
       "      <td>Sonic-Hedgehog</td>\n",
       "      <td>0.1</td>\n",
       "      <td>images/HUVEC-1/Plate1/AA03_s1_w1-w6.png</td>\n",
       "    </tr>\n",
       "    <tr>\n",
       "      <th>1</th>\n",
       "      <td>HUVEC-1_1_AA03_2</td>\n",
       "      <td>HUVEC-1_1_AA03</td>\n",
       "      <td>HUVEC</td>\n",
       "      <td>HUVEC-1</td>\n",
       "      <td>1</td>\n",
       "      <td>AA03</td>\n",
       "      <td>2</td>\n",
       "      <td>Sonic-Hedgehog</td>\n",
       "      <td>0.1</td>\n",
       "      <td>images/HUVEC-1/Plate1/AA03_s2_w1-w6.png</td>\n",
       "    </tr>\n",
       "  </tbody>\n",
       "</table>\n",
       "</div>"
      ],
      "text/plain": [
       "            site_id         well_id cell_type experiment plate  well site  \\\n",
       "0  HUVEC-1_1_AA03_1  HUVEC-1_1_AA03     HUVEC    HUVEC-1     1  AA03    1   \n",
       "1  HUVEC-1_1_AA03_2  HUVEC-1_1_AA03     HUVEC    HUVEC-1     1  AA03    2   \n",
       "\n",
       "        treatment  treatment_conc                                file_keys  \n",
       "0  Sonic-Hedgehog             0.1  images/HUVEC-1/Plate1/AA03_s1_w1-w6.png  \n",
       "1  Sonic-Hedgehog             0.1  images/HUVEC-1/Plate1/AA03_s2_w1-w6.png  "
      ]
     },
     "execution_count": 9,
     "metadata": {},
     "output_type": "execute_result"
    }
   ],
   "source": [
    "meta.head(2)"
   ]
  },
  {
   "cell_type": "markdown",
   "id": "60803213",
   "metadata": {},
   "source": [
    "## Load embeddings"
   ]
  },
  {
   "cell_type": "code",
   "execution_count": 8,
   "id": "80f41538",
   "metadata": {},
   "outputs": [],
   "source": [
    "embedding_file = ln.File.filter(key=\"rxrx2/embeddings.csv\").one()"
   ]
  },
  {
   "cell_type": "code",
   "execution_count": 9,
   "id": "ab73c9fa",
   "metadata": {},
   "outputs": [
    {
     "name": "stdout",
     "output_type": "stream",
     "text": [
      "💡 adding file pEyE33FWDeClYGk7D2Hp as input for run nWrb62McQ8aD0vSy5wDk, adding parent transform UQfcvbNwzobAz8\n",
      "... downloading embeddings.csv: 1.00\n",
      "\r"
     ]
    }
   ],
   "source": [
    "embedding = embedding_file.load()\n",
    "embedding.set_index(\"site_id\", inplace=True)"
   ]
  },
  {
   "cell_type": "code",
   "execution_count": 10,
   "id": "3a2b5f5b",
   "metadata": {},
   "outputs": [
    {
     "data": {
      "text/plain": [
       "(131953, 128)"
      ]
     },
     "execution_count": 10,
     "metadata": {},
     "output_type": "execute_result"
    }
   ],
   "source": [
    "embedding.shape"
   ]
  },
  {
   "cell_type": "code",
   "execution_count": 11,
   "id": "560f2e22",
   "metadata": {},
   "outputs": [
    {
     "data": {
      "text/html": [
       "<div>\n",
       "<style scoped>\n",
       "    .dataframe tbody tr th:only-of-type {\n",
       "        vertical-align: middle;\n",
       "    }\n",
       "\n",
       "    .dataframe tbody tr th {\n",
       "        vertical-align: top;\n",
       "    }\n",
       "\n",
       "    .dataframe thead th {\n",
       "        text-align: right;\n",
       "    }\n",
       "</style>\n",
       "<table border=\"1\" class=\"dataframe\">\n",
       "  <thead>\n",
       "    <tr style=\"text-align: right;\">\n",
       "      <th></th>\n",
       "      <th>feature_0</th>\n",
       "      <th>feature_1</th>\n",
       "      <th>feature_2</th>\n",
       "      <th>feature_3</th>\n",
       "      <th>feature_4</th>\n",
       "      <th>feature_5</th>\n",
       "      <th>feature_6</th>\n",
       "      <th>feature_7</th>\n",
       "      <th>feature_8</th>\n",
       "      <th>feature_9</th>\n",
       "      <th>...</th>\n",
       "      <th>feature_118</th>\n",
       "      <th>feature_119</th>\n",
       "      <th>feature_120</th>\n",
       "      <th>feature_121</th>\n",
       "      <th>feature_122</th>\n",
       "      <th>feature_123</th>\n",
       "      <th>feature_124</th>\n",
       "      <th>feature_125</th>\n",
       "      <th>feature_126</th>\n",
       "      <th>feature_127</th>\n",
       "    </tr>\n",
       "    <tr>\n",
       "      <th>site_id</th>\n",
       "      <th></th>\n",
       "      <th></th>\n",
       "      <th></th>\n",
       "      <th></th>\n",
       "      <th></th>\n",
       "      <th></th>\n",
       "      <th></th>\n",
       "      <th></th>\n",
       "      <th></th>\n",
       "      <th></th>\n",
       "      <th></th>\n",
       "      <th></th>\n",
       "      <th></th>\n",
       "      <th></th>\n",
       "      <th></th>\n",
       "      <th></th>\n",
       "      <th></th>\n",
       "      <th></th>\n",
       "      <th></th>\n",
       "      <th></th>\n",
       "      <th></th>\n",
       "    </tr>\n",
       "  </thead>\n",
       "  <tbody>\n",
       "    <tr>\n",
       "      <th>HUVEC-1_1_AA03_1</th>\n",
       "      <td>-0.316918</td>\n",
       "      <td>-0.680636</td>\n",
       "      <td>0.808178</td>\n",
       "      <td>-0.137503</td>\n",
       "      <td>-0.947040</td>\n",
       "      <td>-2.796024</td>\n",
       "      <td>-1.386294</td>\n",
       "      <td>-2.541984</td>\n",
       "      <td>-0.036722</td>\n",
       "      <td>-0.150445</td>\n",
       "      <td>...</td>\n",
       "      <td>0.044025</td>\n",
       "      <td>0.136659</td>\n",
       "      <td>-2.087172</td>\n",
       "      <td>2.860377</td>\n",
       "      <td>0.231014</td>\n",
       "      <td>0.338580</td>\n",
       "      <td>-0.504502</td>\n",
       "      <td>-1.992612</td>\n",
       "      <td>-1.328181</td>\n",
       "      <td>0.587981</td>\n",
       "    </tr>\n",
       "    <tr>\n",
       "      <th>HUVEC-1_1_AA03_2</th>\n",
       "      <td>0.914670</td>\n",
       "      <td>-0.009687</td>\n",
       "      <td>1.157437</td>\n",
       "      <td>0.448207</td>\n",
       "      <td>-0.546811</td>\n",
       "      <td>-1.792279</td>\n",
       "      <td>-1.283470</td>\n",
       "      <td>-1.500057</td>\n",
       "      <td>0.508764</td>\n",
       "      <td>0.650537</td>\n",
       "      <td>...</td>\n",
       "      <td>0.508053</td>\n",
       "      <td>0.828908</td>\n",
       "      <td>-2.586799</td>\n",
       "      <td>1.503782</td>\n",
       "      <td>-0.482412</td>\n",
       "      <td>0.894832</td>\n",
       "      <td>-1.406880</td>\n",
       "      <td>-1.567457</td>\n",
       "      <td>-1.237937</td>\n",
       "      <td>0.967158</td>\n",
       "    </tr>\n",
       "    <tr>\n",
       "      <th>HUVEC-1_1_AA03_3</th>\n",
       "      <td>0.384831</td>\n",
       "      <td>-0.630163</td>\n",
       "      <td>0.844492</td>\n",
       "      <td>0.078680</td>\n",
       "      <td>-1.497208</td>\n",
       "      <td>-3.127449</td>\n",
       "      <td>-0.617015</td>\n",
       "      <td>-1.984535</td>\n",
       "      <td>-0.062243</td>\n",
       "      <td>0.173309</td>\n",
       "      <td>...</td>\n",
       "      <td>-1.566359</td>\n",
       "      <td>0.798682</td>\n",
       "      <td>-2.241158</td>\n",
       "      <td>2.297683</td>\n",
       "      <td>0.340067</td>\n",
       "      <td>-0.032073</td>\n",
       "      <td>-0.765850</td>\n",
       "      <td>-1.615617</td>\n",
       "      <td>-2.184443</td>\n",
       "      <td>0.673777</td>\n",
       "    </tr>\n",
       "    <tr>\n",
       "      <th>HUVEC-1_1_AA03_4</th>\n",
       "      <td>0.733473</td>\n",
       "      <td>-0.329016</td>\n",
       "      <td>1.319193</td>\n",
       "      <td>0.433355</td>\n",
       "      <td>-0.801268</td>\n",
       "      <td>-2.489902</td>\n",
       "      <td>-0.668106</td>\n",
       "      <td>-1.722575</td>\n",
       "      <td>-0.463873</td>\n",
       "      <td>1.059009</td>\n",
       "      <td>...</td>\n",
       "      <td>-0.313790</td>\n",
       "      <td>0.446107</td>\n",
       "      <td>-2.883605</td>\n",
       "      <td>1.824921</td>\n",
       "      <td>-0.252444</td>\n",
       "      <td>-0.125901</td>\n",
       "      <td>-1.181341</td>\n",
       "      <td>-1.027408</td>\n",
       "      <td>-1.475612</td>\n",
       "      <td>0.640989</td>\n",
       "    </tr>\n",
       "    <tr>\n",
       "      <th>HUVEC-1_1_AA04_1</th>\n",
       "      <td>0.512833</td>\n",
       "      <td>0.402055</td>\n",
       "      <td>1.318915</td>\n",
       "      <td>-1.067507</td>\n",
       "      <td>-2.031572</td>\n",
       "      <td>-1.260452</td>\n",
       "      <td>-1.287148</td>\n",
       "      <td>-2.538712</td>\n",
       "      <td>-0.367633</td>\n",
       "      <td>0.019258</td>\n",
       "      <td>...</td>\n",
       "      <td>-0.584362</td>\n",
       "      <td>-0.101393</td>\n",
       "      <td>-2.937795</td>\n",
       "      <td>2.197699</td>\n",
       "      <td>-0.537146</td>\n",
       "      <td>0.019088</td>\n",
       "      <td>-0.495586</td>\n",
       "      <td>-1.710877</td>\n",
       "      <td>-2.491404</td>\n",
       "      <td>0.924014</td>\n",
       "    </tr>\n",
       "  </tbody>\n",
       "</table>\n",
       "<p>5 rows × 128 columns</p>\n",
       "</div>"
      ],
      "text/plain": [
       "                  feature_0  feature_1  feature_2  feature_3  feature_4  \\\n",
       "site_id                                                                   \n",
       "HUVEC-1_1_AA03_1  -0.316918  -0.680636   0.808178  -0.137503  -0.947040   \n",
       "HUVEC-1_1_AA03_2   0.914670  -0.009687   1.157437   0.448207  -0.546811   \n",
       "HUVEC-1_1_AA03_3   0.384831  -0.630163   0.844492   0.078680  -1.497208   \n",
       "HUVEC-1_1_AA03_4   0.733473  -0.329016   1.319193   0.433355  -0.801268   \n",
       "HUVEC-1_1_AA04_1   0.512833   0.402055   1.318915  -1.067507  -2.031572   \n",
       "\n",
       "                  feature_5  feature_6  feature_7  feature_8  feature_9  ...  \\\n",
       "site_id                                                                  ...   \n",
       "HUVEC-1_1_AA03_1  -2.796024  -1.386294  -2.541984  -0.036722  -0.150445  ...   \n",
       "HUVEC-1_1_AA03_2  -1.792279  -1.283470  -1.500057   0.508764   0.650537  ...   \n",
       "HUVEC-1_1_AA03_3  -3.127449  -0.617015  -1.984535  -0.062243   0.173309  ...   \n",
       "HUVEC-1_1_AA03_4  -2.489902  -0.668106  -1.722575  -0.463873   1.059009  ...   \n",
       "HUVEC-1_1_AA04_1  -1.260452  -1.287148  -2.538712  -0.367633   0.019258  ...   \n",
       "\n",
       "                  feature_118  feature_119  feature_120  feature_121  \\\n",
       "site_id                                                                \n",
       "HUVEC-1_1_AA03_1     0.044025     0.136659    -2.087172     2.860377   \n",
       "HUVEC-1_1_AA03_2     0.508053     0.828908    -2.586799     1.503782   \n",
       "HUVEC-1_1_AA03_3    -1.566359     0.798682    -2.241158     2.297683   \n",
       "HUVEC-1_1_AA03_4    -0.313790     0.446107    -2.883605     1.824921   \n",
       "HUVEC-1_1_AA04_1    -0.584362    -0.101393    -2.937795     2.197699   \n",
       "\n",
       "                  feature_122  feature_123  feature_124  feature_125  \\\n",
       "site_id                                                                \n",
       "HUVEC-1_1_AA03_1     0.231014     0.338580    -0.504502    -1.992612   \n",
       "HUVEC-1_1_AA03_2    -0.482412     0.894832    -1.406880    -1.567457   \n",
       "HUVEC-1_1_AA03_3     0.340067    -0.032073    -0.765850    -1.615617   \n",
       "HUVEC-1_1_AA03_4    -0.252444    -0.125901    -1.181341    -1.027408   \n",
       "HUVEC-1_1_AA04_1    -0.537146     0.019088    -0.495586    -1.710877   \n",
       "\n",
       "                  feature_126  feature_127  \n",
       "site_id                                     \n",
       "HUVEC-1_1_AA03_1    -1.328181     0.587981  \n",
       "HUVEC-1_1_AA03_2    -1.237937     0.967158  \n",
       "HUVEC-1_1_AA03_3    -2.184443     0.673777  \n",
       "HUVEC-1_1_AA03_4    -1.475612     0.640989  \n",
       "HUVEC-1_1_AA04_1    -2.491404     0.924014  \n",
       "\n",
       "[5 rows x 128 columns]"
      ]
     },
     "execution_count": 11,
     "metadata": {},
     "output_type": "execute_result"
    }
   ],
   "source": [
    "embedding.head()"
   ]
  },
  {
   "attachments": {},
   "cell_type": "markdown",
   "id": "efca351e-a3ef-4550-8c59-a3dc0141dd88",
   "metadata": {},
   "source": [
    "## Validate and register metadata"
   ]
  },
  {
   "cell_type": "markdown",
   "id": "d0a2f4a2",
   "metadata": {},
   "source": [
    "### `cell_type`"
   ]
  },
  {
   "attachments": {},
   "cell_type": "markdown",
   "id": "d255e3b6-dfbd-4319-bebe-6dc1baf11215",
   "metadata": {},
   "source": [
    "We can start with curating the metadata table based on the ontologies from bionty. For example, let's start with the `cell_line` metadata.\n",
    "In this table, they are called \"cell_type\" but they are in fact the cell line for the experiments"
   ]
  },
  {
   "cell_type": "code",
   "execution_count": 12,
   "id": "37d9bb21-b6b9-4915-8b68-365f11fde979",
   "metadata": {
    "tags": []
   },
   "outputs": [
    {
     "data": {
      "text/plain": [
       "array(['HUVEC'], dtype=object)"
      ]
     },
     "execution_count": 12,
     "metadata": {},
     "output_type": "execute_result"
    }
   ],
   "source": [
    "meta[\"cell_type\"].unique()"
   ]
  },
  {
   "cell_type": "code",
   "execution_count": 13,
   "id": "030e7b02",
   "metadata": {},
   "outputs": [
    {
     "name": "stdout",
     "output_type": "stream",
     "text": [
      "✅ loaded \u001b[1;92m1 CellLine record\u001b[0m matching \u001b[3msynonyms\u001b[0m: \u001b[1;92m'HUVEC'\u001b[0m\n"
     ]
    }
   ],
   "source": [
    "cell_lines = lb.CellLine.from_values(meta[\"cell_type\"])"
   ]
  },
  {
   "cell_type": "markdown",
   "id": "1332431d",
   "metadata": {},
   "source": [
    "### `experiment`"
   ]
  },
  {
   "cell_type": "code",
   "execution_count": 15,
   "id": "012d0bc9",
   "metadata": {},
   "outputs": [
    {
     "data": {
      "text/plain": [
       "array(['HUVEC-1', 'HUVEC-2'], dtype=object)"
      ]
     },
     "execution_count": 15,
     "metadata": {},
     "output_type": "execute_result"
    }
   ],
   "source": [
    "meta[\"experiment\"].unique()"
   ]
  },
  {
   "cell_type": "code",
   "execution_count": 18,
   "id": "20e1f372",
   "metadata": {
    "tags": [
     "hide-output"
    ]
   },
   "outputs": [
    {
     "name": "stdout",
     "output_type": "stream",
     "text": [
      "❗ records with similar names exist! did you mean to load one of them?\n"
     ]
    },
    {
     "data": {
      "text/html": [
       "<div>\n",
       "<style scoped>\n",
       "    .dataframe tbody tr th:only-of-type {\n",
       "        vertical-align: middle;\n",
       "    }\n",
       "\n",
       "    .dataframe tbody tr th {\n",
       "        vertical-align: top;\n",
       "    }\n",
       "\n",
       "    .dataframe thead th {\n",
       "        text-align: right;\n",
       "    }\n",
       "</style>\n",
       "<table border=\"1\" class=\"dataframe\">\n",
       "  <thead>\n",
       "    <tr style=\"text-align: right;\">\n",
       "      <th></th>\n",
       "      <th>id</th>\n",
       "      <th>__ratio__</th>\n",
       "    </tr>\n",
       "    <tr>\n",
       "      <th>name</th>\n",
       "      <th></th>\n",
       "      <th></th>\n",
       "    </tr>\n",
       "  </thead>\n",
       "  <tbody>\n",
       "    <tr>\n",
       "      <th>HUVEC-01</th>\n",
       "      <td>PsjzWJKO</td>\n",
       "      <td>93.333333</td>\n",
       "    </tr>\n",
       "    <tr>\n",
       "      <th>HUVEC-15</th>\n",
       "      <td>H9IngyhW</td>\n",
       "      <td>93.333333</td>\n",
       "    </tr>\n",
       "    <tr>\n",
       "      <th>HUVEC-10</th>\n",
       "      <td>hrY4NREo</td>\n",
       "      <td>93.333333</td>\n",
       "    </tr>\n",
       "    <tr>\n",
       "      <th>HUVEC-12</th>\n",
       "      <td>ma77s21L</td>\n",
       "      <td>93.333333</td>\n",
       "    </tr>\n",
       "    <tr>\n",
       "      <th>HUVEC-13</th>\n",
       "      <td>qeRhZtMI</td>\n",
       "      <td>93.333333</td>\n",
       "    </tr>\n",
       "    <tr>\n",
       "      <th>HUVEC-14</th>\n",
       "      <td>BJmvlQ92</td>\n",
       "      <td>93.333333</td>\n",
       "    </tr>\n",
       "    <tr>\n",
       "      <th>HUVEC-11</th>\n",
       "      <td>LPhncARg</td>\n",
       "      <td>93.333333</td>\n",
       "    </tr>\n",
       "    <tr>\n",
       "      <th>HUVEC-16</th>\n",
       "      <td>iawS3gfL</td>\n",
       "      <td>93.333333</td>\n",
       "    </tr>\n",
       "    <tr>\n",
       "      <th>HUVEC-17</th>\n",
       "      <td>WGq7a4SE</td>\n",
       "      <td>93.333333</td>\n",
       "    </tr>\n",
       "    <tr>\n",
       "      <th>HUVEC-18</th>\n",
       "      <td>KyD4FLVE</td>\n",
       "      <td>93.333333</td>\n",
       "    </tr>\n",
       "    <tr>\n",
       "      <th>HUVEC-19</th>\n",
       "      <td>mu3DP65N</td>\n",
       "      <td>93.333333</td>\n",
       "    </tr>\n",
       "    <tr>\n",
       "      <th>HUVEC-21</th>\n",
       "      <td>Mnt7tdAO</td>\n",
       "      <td>93.333333</td>\n",
       "    </tr>\n",
       "  </tbody>\n",
       "</table>\n",
       "</div>"
      ],
      "text/plain": [
       "                id  __ratio__\n",
       "name                         \n",
       "HUVEC-01  PsjzWJKO  93.333333\n",
       "HUVEC-15  H9IngyhW  93.333333\n",
       "HUVEC-10  hrY4NREo  93.333333\n",
       "HUVEC-12  ma77s21L  93.333333\n",
       "HUVEC-13  qeRhZtMI  93.333333\n",
       "HUVEC-14  BJmvlQ92  93.333333\n",
       "HUVEC-11  LPhncARg  93.333333\n",
       "HUVEC-16  iawS3gfL  93.333333\n",
       "HUVEC-17  WGq7a4SE  93.333333\n",
       "HUVEC-18  KyD4FLVE  93.333333\n",
       "HUVEC-19  mu3DP65N  93.333333\n",
       "HUVEC-21  Mnt7tdAO  93.333333"
      ]
     },
     "metadata": {},
     "output_type": "display_data"
    },
    {
     "name": "stdout",
     "output_type": "stream",
     "text": [
      "❗ records with similar names exist! did you mean to load one of them?\n"
     ]
    },
    {
     "data": {
      "text/html": [
       "<div>\n",
       "<style scoped>\n",
       "    .dataframe tbody tr th:only-of-type {\n",
       "        vertical-align: middle;\n",
       "    }\n",
       "\n",
       "    .dataframe tbody tr th {\n",
       "        vertical-align: top;\n",
       "    }\n",
       "\n",
       "    .dataframe thead th {\n",
       "        text-align: right;\n",
       "    }\n",
       "</style>\n",
       "<table border=\"1\" class=\"dataframe\">\n",
       "  <thead>\n",
       "    <tr style=\"text-align: right;\">\n",
       "      <th></th>\n",
       "      <th>id</th>\n",
       "      <th>__ratio__</th>\n",
       "    </tr>\n",
       "    <tr>\n",
       "      <th>name</th>\n",
       "      <th></th>\n",
       "      <th></th>\n",
       "    </tr>\n",
       "  </thead>\n",
       "  <tbody>\n",
       "    <tr>\n",
       "      <th>HUVEC-24</th>\n",
       "      <td>qLJdJBs0</td>\n",
       "      <td>93.333333</td>\n",
       "    </tr>\n",
       "    <tr>\n",
       "      <th>HUVEC-22</th>\n",
       "      <td>9cwHgTUz</td>\n",
       "      <td>93.333333</td>\n",
       "    </tr>\n",
       "    <tr>\n",
       "      <th>HUVEC-21</th>\n",
       "      <td>Mnt7tdAO</td>\n",
       "      <td>93.333333</td>\n",
       "    </tr>\n",
       "    <tr>\n",
       "      <th>HUVEC-20</th>\n",
       "      <td>ApbzG8jF</td>\n",
       "      <td>93.333333</td>\n",
       "    </tr>\n",
       "    <tr>\n",
       "      <th>HUVEC-12</th>\n",
       "      <td>ma77s21L</td>\n",
       "      <td>93.333333</td>\n",
       "    </tr>\n",
       "    <tr>\n",
       "      <th>HUVEC-02</th>\n",
       "      <td>EhpLzFUi</td>\n",
       "      <td>93.333333</td>\n",
       "    </tr>\n",
       "    <tr>\n",
       "      <th>HUVEC-23</th>\n",
       "      <td>mhEacBjR</td>\n",
       "      <td>93.333333</td>\n",
       "    </tr>\n",
       "  </tbody>\n",
       "</table>\n",
       "</div>"
      ],
      "text/plain": [
       "                id  __ratio__\n",
       "name                         \n",
       "HUVEC-24  qLJdJBs0  93.333333\n",
       "HUVEC-22  9cwHgTUz  93.333333\n",
       "HUVEC-21  Mnt7tdAO  93.333333\n",
       "HUVEC-20  ApbzG8jF  93.333333\n",
       "HUVEC-12  ma77s21L  93.333333\n",
       "HUVEC-02  EhpLzFUi  93.333333\n",
       "HUVEC-23  mhEacBjR  93.333333"
      ]
     },
     "metadata": {},
     "output_type": "display_data"
    }
   ],
   "source": [
    "experiments = []\n",
    "for name in meta[\"experiment\"].unique():\n",
    "    record = ln1.Experiment(name=name, description=\"RxRx2\")\n",
    "    experiments.append(record)\n",
    "\n",
    "ln.save(experiments)"
   ]
  },
  {
   "cell_type": "code",
   "execution_count": 17,
   "id": "f04f0a7f",
   "metadata": {},
   "outputs": [
    {
     "data": {
      "text/plain": [
       "[Experiment(id='3D7IAgbF', name='HUVEC-1', description='RxRx2', created_by_id='kmvZDIX9'),\n",
       " Experiment(id='LABni8ZR', name='HUVEC-2', description='RxRx2', created_by_id='kmvZDIX9')]"
      ]
     },
     "execution_count": 17,
     "metadata": {},
     "output_type": "execute_result"
    }
   ],
   "source": [
    "experiments"
   ]
  },
  {
   "cell_type": "markdown",
   "id": "450de01b",
   "metadata": {},
   "source": [
    "### `plate`"
   ]
  },
  {
   "cell_type": "code",
   "execution_count": 19,
   "id": "4d2e934a",
   "metadata": {},
   "outputs": [
    {
     "data": {
      "text/plain": [
       "array(['1', '2', '3', '4', '5', '6', '7', '8', '9', '10', '11', '12'],\n",
       "      dtype=object)"
      ]
     },
     "execution_count": 19,
     "metadata": {},
     "output_type": "execute_result"
    }
   ],
   "source": [
    "meta[\"plate\"].unique()"
   ]
  },
  {
   "cell_type": "code",
   "execution_count": 21,
   "id": "c71cf241",
   "metadata": {},
   "outputs": [],
   "source": [
    "is_plate = ln.ULabel.filter(name=\"is_plate\").one()"
   ]
  },
  {
   "cell_type": "code",
   "execution_count": 24,
   "id": "aea0fa39",
   "metadata": {
    "tags": [
     "hide-output"
    ]
   },
   "outputs": [
    {
     "name": "stdout",
     "output_type": "stream",
     "text": [
      "✅ loaded ULabel record with exact same name: 'Plate1'\n"
     ]
    },
    {
     "name": "stdout",
     "output_type": "stream",
     "text": [
      "✅ loaded ULabel record with exact same name: 'Plate2'\n",
      "✅ loaded ULabel record with exact same name: 'Plate3'\n",
      "✅ loaded ULabel record with exact same name: 'Plate4'\n",
      "❗ record with similar name exist! did you mean to load it?\n"
     ]
    },
    {
     "data": {
      "text/html": [
       "<div>\n",
       "<style scoped>\n",
       "    .dataframe tbody tr th:only-of-type {\n",
       "        vertical-align: middle;\n",
       "    }\n",
       "\n",
       "    .dataframe tbody tr th {\n",
       "        vertical-align: top;\n",
       "    }\n",
       "\n",
       "    .dataframe thead th {\n",
       "        text-align: right;\n",
       "    }\n",
       "</style>\n",
       "<table border=\"1\" class=\"dataframe\">\n",
       "  <thead>\n",
       "    <tr style=\"text-align: right;\">\n",
       "      <th></th>\n",
       "      <th>id</th>\n",
       "      <th>__ratio__</th>\n",
       "    </tr>\n",
       "    <tr>\n",
       "      <th>name</th>\n",
       "      <th></th>\n",
       "      <th></th>\n",
       "    </tr>\n",
       "  </thead>\n",
       "  <tbody>\n",
       "    <tr>\n",
       "      <th>Plate1</th>\n",
       "      <td>Cn2fXptO</td>\n",
       "      <td>92.307692</td>\n",
       "    </tr>\n",
       "  </tbody>\n",
       "</table>\n",
       "</div>"
      ],
      "text/plain": [
       "              id  __ratio__\n",
       "name                       \n",
       "Plate1  Cn2fXptO  92.307692"
      ]
     },
     "metadata": {},
     "output_type": "display_data"
    },
    {
     "name": "stdout",
     "output_type": "stream",
     "text": [
      "❗ record with similar name exist! did you mean to load it?\n"
     ]
    },
    {
     "data": {
      "text/html": [
       "<div>\n",
       "<style scoped>\n",
       "    .dataframe tbody tr th:only-of-type {\n",
       "        vertical-align: middle;\n",
       "    }\n",
       "\n",
       "    .dataframe tbody tr th {\n",
       "        vertical-align: top;\n",
       "    }\n",
       "\n",
       "    .dataframe thead th {\n",
       "        text-align: right;\n",
       "    }\n",
       "</style>\n",
       "<table border=\"1\" class=\"dataframe\">\n",
       "  <thead>\n",
       "    <tr style=\"text-align: right;\">\n",
       "      <th></th>\n",
       "      <th>id</th>\n",
       "      <th>__ratio__</th>\n",
       "    </tr>\n",
       "    <tr>\n",
       "      <th>name</th>\n",
       "      <th></th>\n",
       "      <th></th>\n",
       "    </tr>\n",
       "  </thead>\n",
       "  <tbody>\n",
       "    <tr>\n",
       "      <th>Plate1</th>\n",
       "      <td>Cn2fXptO</td>\n",
       "      <td>92.307692</td>\n",
       "    </tr>\n",
       "  </tbody>\n",
       "</table>\n",
       "</div>"
      ],
      "text/plain": [
       "              id  __ratio__\n",
       "name                       \n",
       "Plate1  Cn2fXptO  92.307692"
      ]
     },
     "metadata": {},
     "output_type": "display_data"
    },
    {
     "name": "stdout",
     "output_type": "stream",
     "text": [
      "❗ records with similar names exist! did you mean to load one of them?\n"
     ]
    },
    {
     "data": {
      "text/html": [
       "<div>\n",
       "<style scoped>\n",
       "    .dataframe tbody tr th:only-of-type {\n",
       "        vertical-align: middle;\n",
       "    }\n",
       "\n",
       "    .dataframe tbody tr th {\n",
       "        vertical-align: top;\n",
       "    }\n",
       "\n",
       "    .dataframe thead th {\n",
       "        text-align: right;\n",
       "    }\n",
       "</style>\n",
       "<table border=\"1\" class=\"dataframe\">\n",
       "  <thead>\n",
       "    <tr style=\"text-align: right;\">\n",
       "      <th></th>\n",
       "      <th>id</th>\n",
       "      <th>__ratio__</th>\n",
       "    </tr>\n",
       "    <tr>\n",
       "      <th>name</th>\n",
       "      <th></th>\n",
       "      <th></th>\n",
       "    </tr>\n",
       "  </thead>\n",
       "  <tbody>\n",
       "    <tr>\n",
       "      <th>Plate1</th>\n",
       "      <td>Cn2fXptO</td>\n",
       "      <td>92.307692</td>\n",
       "    </tr>\n",
       "    <tr>\n",
       "      <th>Plate2</th>\n",
       "      <td>GryN8NHs</td>\n",
       "      <td>92.307692</td>\n",
       "    </tr>\n",
       "  </tbody>\n",
       "</table>\n",
       "</div>"
      ],
      "text/plain": [
       "              id  __ratio__\n",
       "name                       \n",
       "Plate1  Cn2fXptO  92.307692\n",
       "Plate2  GryN8NHs  92.307692"
      ]
     },
     "metadata": {},
     "output_type": "display_data"
    }
   ],
   "source": [
    "plates = []\n",
    "for name in meta[\"plate\"].unique():\n",
    "    record = ln.ULabel(name=f\"Plate{name}\")\n",
    "    plates.append(record)\n",
    "\n",
    "ln.save(plates)\n",
    "is_plate.children.set(plates)"
   ]
  },
  {
   "cell_type": "code",
   "execution_count": 25,
   "id": "35e6fe22",
   "metadata": {},
   "outputs": [
    {
     "data": {
      "image/svg+xml": [
       "<?xml version=\"1.0\" encoding=\"UTF-8\" standalone=\"no\"?>\n",
       "<!DOCTYPE svg PUBLIC \"-//W3C//DTD SVG 1.1//EN\"\n",
       " \"http://www.w3.org/Graphics/SVG/1.1/DTD/svg11.dtd\">\n",
       "<!-- Generated by graphviz version 8.1.0 (20230707.0739)\n",
       " -->\n",
       "<!-- Title: 5VJxTeKw Pages: 1 -->\n",
       "<svg width=\"854pt\" height=\"116pt\"\n",
       " viewBox=\"0.00 0.00 854.00 116.00\" xmlns=\"http://www.w3.org/2000/svg\" xmlns:xlink=\"http://www.w3.org/1999/xlink\">\n",
       "<g id=\"graph0\" class=\"graph\" transform=\"scale(1 1) rotate(0) translate(4 112)\">\n",
       "<title>5VJxTeKw</title>\n",
       "<polygon fill=\"white\" stroke=\"none\" points=\"-4,4 -4,-112 850,-112 850,4 -4,4\"/>\n",
       "<!-- 5VJxTeKw -->\n",
       "<g id=\"node1\" class=\"node\">\n",
       "<title>5VJxTeKw</title>\n",
       "<path fill=\"#10b981\" stroke=\"#065f46\" d=\"M438,-108C438,-108 408,-108 408,-108 402,-108 396,-102 396,-96 396,-96 396,-84 396,-84 396,-78 402,-72 408,-72 408,-72 438,-72 438,-72 444,-72 450,-78 450,-84 450,-84 450,-96 450,-96 450,-102 444,-108 438,-108\"/>\n",
       "<text text-anchor=\"middle\" x=\"423\" y=\"-86.12\" font-family=\"Helvetica,sans-Serif\" font-size=\"10.00\">is_plate</text>\n",
       "</g>\n",
       "<!-- 1ekqnJZ9 -->\n",
       "<g id=\"node2\" class=\"node\">\n",
       "<title>1ekqnJZ9</title>\n",
       "<path fill=\"honeydew\" stroke=\"#065f46\" d=\"M42,-36C42,-36 12,-36 12,-36 6,-36 0,-30 0,-24 0,-24 0,-12 0,-12 0,-6 6,0 12,0 12,0 42,0 42,0 48,0 54,-6 54,-12 54,-12 54,-24 54,-24 54,-30 48,-36 42,-36\"/>\n",
       "<text text-anchor=\"middle\" x=\"27\" y=\"-14.12\" font-family=\"Helvetica,sans-Serif\" font-size=\"10.00\">Plate7</text>\n",
       "</g>\n",
       "<!-- 5VJxTeKw&#45;&gt;1ekqnJZ9 -->\n",
       "<g id=\"edge1\" class=\"edge\">\n",
       "<title>5VJxTeKw&#45;&gt;1ekqnJZ9</title>\n",
       "<path fill=\"none\" stroke=\"dimgrey\" d=\"M395.76,-87.73C334.88,-84.29 183.64,-72.48 63,-36 61.91,-35.67 60.81,-35.31 59.7,-34.93\"/>\n",
       "<polygon fill=\"dimgrey\" stroke=\"dimgrey\" points=\"60.48,-32.98 55.19,-32.85 59.25,-36.25 60.48,-32.98\"/>\n",
       "</g>\n",
       "<!-- 3OermoCj -->\n",
       "<g id=\"node3\" class=\"node\">\n",
       "<title>3OermoCj</title>\n",
       "<path fill=\"honeydew\" stroke=\"#065f46\" d=\"M114,-36C114,-36 84,-36 84,-36 78,-36 72,-30 72,-24 72,-24 72,-12 72,-12 72,-6 78,0 84,0 84,0 114,0 114,0 120,0 126,-6 126,-12 126,-12 126,-24 126,-24 126,-30 120,-36 114,-36\"/>\n",
       "<text text-anchor=\"middle\" x=\"99\" y=\"-14.12\" font-family=\"Helvetica,sans-Serif\" font-size=\"10.00\">Plate6</text>\n",
       "</g>\n",
       "<!-- 5VJxTeKw&#45;&gt;3OermoCj -->\n",
       "<g id=\"edge2\" class=\"edge\">\n",
       "<title>5VJxTeKw&#45;&gt;3OermoCj</title>\n",
       "<path fill=\"none\" stroke=\"dimgrey\" d=\"M395.83,-86.37C344.06,-80.85 228.15,-66 135,-36 133.91,-35.65 132.82,-35.28 131.72,-34.88\"/>\n",
       "<polygon fill=\"dimgrey\" stroke=\"dimgrey\" points=\"132.51,-32.92 127.22,-32.75 131.25,-36.19 132.51,-32.92\"/>\n",
       "</g>\n",
       "<!-- 8efnbkuR -->\n",
       "<g id=\"node4\" class=\"node\">\n",
       "<title>8efnbkuR</title>\n",
       "<path fill=\"honeydew\" stroke=\"#065f46\" d=\"M186,-36C186,-36 156,-36 156,-36 150,-36 144,-30 144,-24 144,-24 144,-12 144,-12 144,-6 150,0 156,0 156,0 186,0 186,0 192,0 198,-6 198,-12 198,-12 198,-24 198,-24 198,-30 192,-36 186,-36\"/>\n",
       "<text text-anchor=\"middle\" x=\"171\" y=\"-14.12\" font-family=\"Helvetica,sans-Serif\" font-size=\"10.00\">Plate11</text>\n",
       "</g>\n",
       "<!-- 5VJxTeKw&#45;&gt;8efnbkuR -->\n",
       "<g id=\"edge3\" class=\"edge\">\n",
       "<title>5VJxTeKw&#45;&gt;8efnbkuR</title>\n",
       "<path fill=\"none\" stroke=\"dimgrey\" d=\"M395.55,-84.1C354.02,-76.28 273.05,-59.43 207,-36 205.93,-35.62 204.84,-35.22 203.75,-34.8\"/>\n",
       "<polygon fill=\"dimgrey\" stroke=\"dimgrey\" points=\"204.57,-32.83 199.28,-32.57 203.25,-36.08 204.57,-32.83\"/>\n",
       "</g>\n",
       "<!-- Cn2fXptO -->\n",
       "<g id=\"node5\" class=\"node\">\n",
       "<title>Cn2fXptO</title>\n",
       "<path fill=\"honeydew\" stroke=\"#065f46\" d=\"M258,-36C258,-36 228,-36 228,-36 222,-36 216,-30 216,-24 216,-24 216,-12 216,-12 216,-6 222,0 228,0 228,0 258,0 258,0 264,0 270,-6 270,-12 270,-12 270,-24 270,-24 270,-30 264,-36 258,-36\"/>\n",
       "<text text-anchor=\"middle\" x=\"243\" y=\"-14.12\" font-family=\"Helvetica,sans-Serif\" font-size=\"10.00\">Plate1</text>\n",
       "</g>\n",
       "<!-- 5VJxTeKw&#45;&gt;Cn2fXptO -->\n",
       "<g id=\"edge4\" class=\"edge\">\n",
       "<title>5VJxTeKw&#45;&gt;Cn2fXptO</title>\n",
       "<path fill=\"none\" stroke=\"dimgrey\" d=\"M395.65,-79.74C366.48,-69.68 319.05,-52.79 279,-36 277.95,-35.56 276.88,-35.1 275.81,-34.64\"/>\n",
       "<polygon fill=\"dimgrey\" stroke=\"dimgrey\" points=\"276.69,-32.67 271.4,-32.25 275.27,-35.87 276.69,-32.67\"/>\n",
       "</g>\n",
       "<!-- GryN8NHs -->\n",
       "<g id=\"node6\" class=\"node\">\n",
       "<title>GryN8NHs</title>\n",
       "<path fill=\"honeydew\" stroke=\"#065f46\" d=\"M330,-36C330,-36 300,-36 300,-36 294,-36 288,-30 288,-24 288,-24 288,-12 288,-12 288,-6 294,0 300,0 300,0 330,0 330,0 336,0 342,-6 342,-12 342,-12 342,-24 342,-24 342,-30 336,-36 330,-36\"/>\n",
       "<text text-anchor=\"middle\" x=\"315\" y=\"-14.12\" font-family=\"Helvetica,sans-Serif\" font-size=\"10.00\">Plate2</text>\n",
       "</g>\n",
       "<!-- 5VJxTeKw&#45;&gt;GryN8NHs -->\n",
       "<g id=\"edge5\" class=\"edge\">\n",
       "<title>5VJxTeKw&#45;&gt;GryN8NHs</title>\n",
       "<path fill=\"none\" stroke=\"dimgrey\" d=\"M396.03,-71.52C380.96,-61.75 362.12,-49.54 346.4,-39.35\"/>\n",
       "<polygon fill=\"dimgrey\" stroke=\"dimgrey\" points=\"347.78,-37.51 342.63,-36.26 345.87,-40.45 347.78,-37.51\"/>\n",
       "</g>\n",
       "<!-- Lx6TXNmJ -->\n",
       "<g id=\"node7\" class=\"node\">\n",
       "<title>Lx6TXNmJ</title>\n",
       "<path fill=\"honeydew\" stroke=\"#065f46\" d=\"M402,-36C402,-36 372,-36 372,-36 366,-36 360,-30 360,-24 360,-24 360,-12 360,-12 360,-6 366,0 372,0 372,0 402,0 402,0 408,0 414,-6 414,-12 414,-12 414,-24 414,-24 414,-30 408,-36 402,-36\"/>\n",
       "<text text-anchor=\"middle\" x=\"387\" y=\"-14.12\" font-family=\"Helvetica,sans-Serif\" font-size=\"10.00\">Plate8</text>\n",
       "</g>\n",
       "<!-- 5VJxTeKw&#45;&gt;Lx6TXNmJ -->\n",
       "<g id=\"edge6\" class=\"edge\">\n",
       "<title>5VJxTeKw&#45;&gt;Lx6TXNmJ</title>\n",
       "<path fill=\"none\" stroke=\"dimgrey\" d=\"M414.1,-71.7C409.39,-62.54 403.56,-51.19 398.51,-41.38\"/>\n",
       "<polygon fill=\"dimgrey\" stroke=\"dimgrey\" points=\"399.64,-40.75 395.8,-37.1 396.53,-42.35 399.64,-40.75\"/>\n",
       "</g>\n",
       "<!-- Pq0jZms9 -->\n",
       "<g id=\"node8\" class=\"node\">\n",
       "<title>Pq0jZms9</title>\n",
       "<path fill=\"honeydew\" stroke=\"#065f46\" d=\"M474,-36C474,-36 444,-36 444,-36 438,-36 432,-30 432,-24 432,-24 432,-12 432,-12 432,-6 438,0 444,0 444,0 474,0 474,0 480,0 486,-6 486,-12 486,-12 486,-24 486,-24 486,-30 480,-36 474,-36\"/>\n",
       "<text text-anchor=\"middle\" x=\"459\" y=\"-14.12\" font-family=\"Helvetica,sans-Serif\" font-size=\"10.00\">Plate4</text>\n",
       "</g>\n",
       "<!-- 5VJxTeKw&#45;&gt;Pq0jZms9 -->\n",
       "<g id=\"edge7\" class=\"edge\">\n",
       "<title>5VJxTeKw&#45;&gt;Pq0jZms9</title>\n",
       "<path fill=\"none\" stroke=\"dimgrey\" d=\"M431.9,-71.7C436.61,-62.54 442.44,-51.19 447.49,-41.38\"/>\n",
       "<polygon fill=\"dimgrey\" stroke=\"dimgrey\" points=\"449.47,-42.35 450.2,-37.1 446.36,-40.75 449.47,-42.35\"/>\n",
       "</g>\n",
       "<!-- Rcif5suU -->\n",
       "<g id=\"node9\" class=\"node\">\n",
       "<title>Rcif5suU</title>\n",
       "<path fill=\"honeydew\" stroke=\"#065f46\" d=\"M546,-36C546,-36 516,-36 516,-36 510,-36 504,-30 504,-24 504,-24 504,-12 504,-12 504,-6 510,0 516,0 516,0 546,0 546,0 552,0 558,-6 558,-12 558,-12 558,-24 558,-24 558,-30 552,-36 546,-36\"/>\n",
       "<text text-anchor=\"middle\" x=\"531\" y=\"-14.12\" font-family=\"Helvetica,sans-Serif\" font-size=\"10.00\">Plate5</text>\n",
       "</g>\n",
       "<!-- 5VJxTeKw&#45;&gt;Rcif5suU -->\n",
       "<g id=\"edge8\" class=\"edge\">\n",
       "<title>5VJxTeKw&#45;&gt;Rcif5suU</title>\n",
       "<path fill=\"none\" stroke=\"dimgrey\" d=\"M449.97,-71.52C465.04,-61.75 483.88,-49.54 499.6,-39.35\"/>\n",
       "<polygon fill=\"dimgrey\" stroke=\"dimgrey\" points=\"500.13,-40.45 503.37,-36.26 498.22,-37.51 500.13,-40.45\"/>\n",
       "</g>\n",
       "<!-- VTdcjFwr -->\n",
       "<g id=\"node10\" class=\"node\">\n",
       "<title>VTdcjFwr</title>\n",
       "<path fill=\"honeydew\" stroke=\"#065f46\" d=\"M618,-36C618,-36 588,-36 588,-36 582,-36 576,-30 576,-24 576,-24 576,-12 576,-12 576,-6 582,0 588,0 588,0 618,0 618,0 624,0 630,-6 630,-12 630,-12 630,-24 630,-24 630,-30 624,-36 618,-36\"/>\n",
       "<text text-anchor=\"middle\" x=\"603\" y=\"-14.12\" font-family=\"Helvetica,sans-Serif\" font-size=\"10.00\">Plate12</text>\n",
       "</g>\n",
       "<!-- 5VJxTeKw&#45;&gt;VTdcjFwr -->\n",
       "<g id=\"edge9\" class=\"edge\">\n",
       "<title>5VJxTeKw&#45;&gt;VTdcjFwr</title>\n",
       "<path fill=\"none\" stroke=\"dimgrey\" d=\"M450.35,-79.74C479.52,-69.68 526.95,-52.79 567,-36 568.05,-35.56 569.12,-35.1 570.19,-34.64\"/>\n",
       "<polygon fill=\"dimgrey\" stroke=\"dimgrey\" points=\"570.73,-35.87 574.6,-32.25 569.31,-32.67 570.73,-35.87\"/>\n",
       "</g>\n",
       "<!-- jTurkwH7 -->\n",
       "<g id=\"node11\" class=\"node\">\n",
       "<title>jTurkwH7</title>\n",
       "<path fill=\"honeydew\" stroke=\"#065f46\" d=\"M690,-36C690,-36 660,-36 660,-36 654,-36 648,-30 648,-24 648,-24 648,-12 648,-12 648,-6 654,0 660,0 660,0 690,0 690,0 696,0 702,-6 702,-12 702,-12 702,-24 702,-24 702,-30 696,-36 690,-36\"/>\n",
       "<text text-anchor=\"middle\" x=\"675\" y=\"-14.12\" font-family=\"Helvetica,sans-Serif\" font-size=\"10.00\">Plate10</text>\n",
       "</g>\n",
       "<!-- 5VJxTeKw&#45;&gt;jTurkwH7 -->\n",
       "<g id=\"edge10\" class=\"edge\">\n",
       "<title>5VJxTeKw&#45;&gt;jTurkwH7</title>\n",
       "<path fill=\"none\" stroke=\"dimgrey\" d=\"M450.45,-84.1C491.98,-76.28 572.95,-59.43 639,-36 640.07,-35.62 641.16,-35.22 642.25,-34.8\"/>\n",
       "<polygon fill=\"dimgrey\" stroke=\"dimgrey\" points=\"642.75,-36.08 646.72,-32.57 641.43,-32.83 642.75,-36.08\"/>\n",
       "</g>\n",
       "<!-- nJlqS7Oq -->\n",
       "<g id=\"node12\" class=\"node\">\n",
       "<title>nJlqS7Oq</title>\n",
       "<path fill=\"honeydew\" stroke=\"#065f46\" d=\"M762,-36C762,-36 732,-36 732,-36 726,-36 720,-30 720,-24 720,-24 720,-12 720,-12 720,-6 726,0 732,0 732,0 762,0 762,0 768,0 774,-6 774,-12 774,-12 774,-24 774,-24 774,-30 768,-36 762,-36\"/>\n",
       "<text text-anchor=\"middle\" x=\"747\" y=\"-14.12\" font-family=\"Helvetica,sans-Serif\" font-size=\"10.00\">Plate9</text>\n",
       "</g>\n",
       "<!-- 5VJxTeKw&#45;&gt;nJlqS7Oq -->\n",
       "<g id=\"edge11\" class=\"edge\">\n",
       "<title>5VJxTeKw&#45;&gt;nJlqS7Oq</title>\n",
       "<path fill=\"none\" stroke=\"dimgrey\" d=\"M450.17,-86.37C501.94,-80.85 617.85,-66 711,-36 712.09,-35.65 713.18,-35.28 714.28,-34.88\"/>\n",
       "<polygon fill=\"dimgrey\" stroke=\"dimgrey\" points=\"714.75,-36.19 718.78,-32.75 713.49,-32.92 714.75,-36.19\"/>\n",
       "</g>\n",
       "<!-- vgkMdSrS -->\n",
       "<g id=\"node13\" class=\"node\">\n",
       "<title>vgkMdSrS</title>\n",
       "<path fill=\"honeydew\" stroke=\"#065f46\" d=\"M834,-36C834,-36 804,-36 804,-36 798,-36 792,-30 792,-24 792,-24 792,-12 792,-12 792,-6 798,0 804,0 804,0 834,0 834,0 840,0 846,-6 846,-12 846,-12 846,-24 846,-24 846,-30 840,-36 834,-36\"/>\n",
       "<text text-anchor=\"middle\" x=\"819\" y=\"-14.12\" font-family=\"Helvetica,sans-Serif\" font-size=\"10.00\">Plate3</text>\n",
       "</g>\n",
       "<!-- 5VJxTeKw&#45;&gt;vgkMdSrS -->\n",
       "<g id=\"edge12\" class=\"edge\">\n",
       "<title>5VJxTeKw&#45;&gt;vgkMdSrS</title>\n",
       "<path fill=\"none\" stroke=\"dimgrey\" d=\"M450.24,-87.73C511.12,-84.29 662.36,-72.48 783,-36 784.09,-35.67 785.19,-35.31 786.3,-34.93\"/>\n",
       "<polygon fill=\"dimgrey\" stroke=\"dimgrey\" points=\"786.75,-36.25 790.81,-32.85 785.52,-32.98 786.75,-36.25\"/>\n",
       "</g>\n",
       "</g>\n",
       "</svg>\n"
      ],
      "text/plain": [
       "<graphviz.graphs.Digraph at 0x1646a1a60>"
      ]
     },
     "metadata": {},
     "output_type": "display_data"
    }
   ],
   "source": [
    "is_plate.view_parents(with_children=True)"
   ]
  },
  {
   "cell_type": "markdown",
   "id": "eb573cf8",
   "metadata": {},
   "source": [
    "### `well`"
   ]
  },
  {
   "attachments": {},
   "cell_type": "markdown",
   "id": "80198d9f-dd52-476f-8333-c2742af9c38f",
   "metadata": {},
   "source": [
    "We might also want to add the well information, so that we can link image files and parse images based on well coordinates. To do this, let's first extract well locations from the table:"
   ]
  },
  {
   "cell_type": "code",
   "execution_count": 26,
   "id": "dcbd32b5",
   "metadata": {},
   "outputs": [
    {
     "data": {
      "text/plain": [
       "array(['AA03', 'AA04', 'AA05', ..., 'G10', 'I45', 'J02'], dtype=object)"
      ]
     },
     "execution_count": 26,
     "metadata": {},
     "output_type": "execute_result"
    }
   ],
   "source": [
    "meta[\"well\"].unique()"
   ]
  },
  {
   "cell_type": "code",
   "execution_count": 30,
   "id": "0614c46a-d8f6-40db-be75-acf31411a43c",
   "metadata": {
    "tags": [
     "hide-output"
    ]
   },
   "outputs": [
    {
     "name": "stdout",
     "output_type": "stream",
     "text": [
      "✅ loaded Well record with exact same name: 'B02'\n",
      "✅ loaded Well record with exact same name: 'B03'\n",
      "✅ loaded Well record with exact same name: 'B04'\n",
      "✅ loaded Well record with exact same name: 'B05'\n",
      "✅ loaded Well record with exact same name: 'B06'\n",
      "✅ loaded Well record with exact same name: 'B07'\n",
      "✅ loaded Well record with exact same name: 'B08'\n",
      "✅ loaded Well record with exact same name: 'B09'\n",
      "✅ loaded Well record with exact same name: 'B10'\n",
      "✅ loaded Well record with exact same name: 'B11'\n",
      "✅ loaded Well record with exact same name: 'B12'\n",
      "✅ loaded Well record with exact same name: 'B13'\n",
      "✅ loaded Well record with exact same name: 'B14'\n",
      "✅ loaded Well record with exact same name: 'B15'\n",
      "✅ loaded Well record with exact same name: 'B16'\n",
      "✅ loaded Well record with exact same name: 'B17'\n",
      "✅ loaded Well record with exact same name: 'B18'\n",
      "✅ loaded Well record with exact same name: 'B19'\n",
      "✅ loaded Well record with exact same name: 'B20'\n",
      "✅ loaded Well record with exact same name: 'B21'\n",
      "✅ loaded Well record with exact same name: 'B22'\n",
      "✅ loaded Well record with exact same name: 'B23'\n",
      "✅ loaded Well record with exact same name: 'C02'\n",
      "✅ loaded Well record with exact same name: 'C03'\n",
      "✅ loaded Well record with exact same name: 'C04'\n",
      "✅ loaded Well record with exact same name: 'C05'\n",
      "✅ loaded Well record with exact same name: 'C06'\n",
      "✅ loaded Well record with exact same name: 'C07'\n",
      "✅ loaded Well record with exact same name: 'C08'\n",
      "✅ loaded Well record with exact same name: 'C09'\n",
      "✅ loaded Well record with exact same name: 'C10'\n",
      "✅ loaded Well record with exact same name: 'C11'\n",
      "✅ loaded Well record with exact same name: 'C12'\n",
      "✅ loaded Well record with exact same name: 'C13'\n",
      "✅ loaded Well record with exact same name: 'C14'\n",
      "✅ loaded Well record with exact same name: 'C15'\n",
      "✅ loaded Well record with exact same name: 'C16'\n",
      "✅ loaded Well record with exact same name: 'C17'\n",
      "✅ loaded Well record with exact same name: 'C18'\n",
      "✅ loaded Well record with exact same name: 'C19'\n",
      "✅ loaded Well record with exact same name: 'C20'\n",
      "✅ loaded Well record with exact same name: 'C21'\n",
      "✅ loaded Well record with exact same name: 'C22'\n",
      "✅ loaded Well record with exact same name: 'C23'\n",
      "✅ loaded Well record with exact same name: 'D02'\n",
      "✅ loaded Well record with exact same name: 'D03'\n",
      "✅ loaded Well record with exact same name: 'D04'\n",
      "✅ loaded Well record with exact same name: 'D05'\n",
      "✅ loaded Well record with exact same name: 'D06'\n",
      "✅ loaded Well record with exact same name: 'D07'\n",
      "✅ loaded Well record with exact same name: 'D08'\n",
      "✅ loaded Well record with exact same name: 'D09'\n",
      "✅ loaded Well record with exact same name: 'D10'\n",
      "✅ loaded Well record with exact same name: 'D11'\n",
      "✅ loaded Well record with exact same name: 'D12'\n",
      "✅ loaded Well record with exact same name: 'D13'\n",
      "✅ loaded Well record with exact same name: 'D14'\n",
      "✅ loaded Well record with exact same name: 'D15'\n",
      "✅ loaded Well record with exact same name: 'D16'\n",
      "✅ loaded Well record with exact same name: 'D17'\n",
      "✅ loaded Well record with exact same name: 'D18'\n",
      "✅ loaded Well record with exact same name: 'D19'\n",
      "✅ loaded Well record with exact same name: 'D20'\n",
      "✅ loaded Well record with exact same name: 'D21'\n",
      "✅ loaded Well record with exact same name: 'D22'\n",
      "✅ loaded Well record with exact same name: 'D23'\n",
      "✅ loaded Well record with exact same name: 'E02'\n",
      "✅ loaded Well record with exact same name: 'E03'\n",
      "✅ loaded Well record with exact same name: 'E04'\n",
      "✅ loaded Well record with exact same name: 'E05'\n",
      "✅ loaded Well record with exact same name: 'E06'\n",
      "✅ loaded Well record with exact same name: 'E07'\n",
      "✅ loaded Well record with exact same name: 'E08'\n",
      "✅ loaded Well record with exact same name: 'E09'\n",
      "✅ loaded Well record with exact same name: 'E10'\n",
      "✅ loaded Well record with exact same name: 'E11'\n",
      "✅ loaded Well record with exact same name: 'E12'\n",
      "✅ loaded Well record with exact same name: 'E13'\n",
      "✅ loaded Well record with exact same name: 'E14'\n",
      "✅ loaded Well record with exact same name: 'E15'\n",
      "✅ loaded Well record with exact same name: 'E16'\n",
      "✅ loaded Well record with exact same name: 'E17'\n",
      "✅ loaded Well record with exact same name: 'E18'\n",
      "✅ loaded Well record with exact same name: 'E19'\n",
      "✅ loaded Well record with exact same name: 'E20'\n",
      "✅ loaded Well record with exact same name: 'E21'\n",
      "✅ loaded Well record with exact same name: 'E22'\n",
      "✅ loaded Well record with exact same name: 'E23'\n",
      "✅ loaded Well record with exact same name: 'F02'\n",
      "✅ loaded Well record with exact same name: 'F03'\n",
      "✅ loaded Well record with exact same name: 'F04'\n",
      "✅ loaded Well record with exact same name: 'F05'\n",
      "✅ loaded Well record with exact same name: 'F06'\n",
      "✅ loaded Well record with exact same name: 'F07'\n",
      "✅ loaded Well record with exact same name: 'F08'\n",
      "✅ loaded Well record with exact same name: 'F09'\n",
      "✅ loaded Well record with exact same name: 'F10'\n",
      "✅ loaded Well record with exact same name: 'F11'\n",
      "✅ loaded Well record with exact same name: 'F12'\n",
      "✅ loaded Well record with exact same name: 'F13'\n",
      "✅ loaded Well record with exact same name: 'F14'\n",
      "✅ loaded Well record with exact same name: 'F15'\n",
      "✅ loaded Well record with exact same name: 'F16'\n",
      "✅ loaded Well record with exact same name: 'F17'\n",
      "✅ loaded Well record with exact same name: 'F18'\n",
      "✅ loaded Well record with exact same name: 'F19'\n",
      "✅ loaded Well record with exact same name: 'F20'\n",
      "✅ loaded Well record with exact same name: 'F21'\n",
      "✅ loaded Well record with exact same name: 'F22'\n",
      "✅ loaded Well record with exact same name: 'F23'\n",
      "✅ loaded Well record with exact same name: 'G02'\n",
      "✅ loaded Well record with exact same name: 'G03'\n",
      "✅ loaded Well record with exact same name: 'G04'\n",
      "✅ loaded Well record with exact same name: 'G05'\n",
      "✅ loaded Well record with exact same name: 'G06'\n",
      "✅ loaded Well record with exact same name: 'G07'\n",
      "✅ loaded Well record with exact same name: 'G08'\n",
      "✅ loaded Well record with exact same name: 'G09'\n",
      "✅ loaded Well record with exact same name: 'G11'\n",
      "✅ loaded Well record with exact same name: 'G12'\n",
      "✅ loaded Well record with exact same name: 'G13'\n",
      "✅ loaded Well record with exact same name: 'G14'\n",
      "✅ loaded Well record with exact same name: 'G15'\n",
      "✅ loaded Well record with exact same name: 'G16'\n",
      "✅ loaded Well record with exact same name: 'G17'\n",
      "✅ loaded Well record with exact same name: 'G18'\n",
      "✅ loaded Well record with exact same name: 'G19'\n",
      "✅ loaded Well record with exact same name: 'G20'\n",
      "✅ loaded Well record with exact same name: 'G21'\n",
      "✅ loaded Well record with exact same name: 'G22'\n",
      "✅ loaded Well record with exact same name: 'G23'\n",
      "✅ loaded Well record with exact same name: 'H02'\n",
      "✅ loaded Well record with exact same name: 'H03'\n",
      "✅ loaded Well record with exact same name: 'H04'\n",
      "✅ loaded Well record with exact same name: 'H05'\n",
      "✅ loaded Well record with exact same name: 'H06'\n",
      "✅ loaded Well record with exact same name: 'H07'\n",
      "✅ loaded Well record with exact same name: 'H08'\n",
      "✅ loaded Well record with exact same name: 'H09'\n",
      "✅ loaded Well record with exact same name: 'H10'\n",
      "✅ loaded Well record with exact same name: 'H11'\n",
      "✅ loaded Well record with exact same name: 'H12'\n",
      "✅ loaded Well record with exact same name: 'H13'\n",
      "✅ loaded Well record with exact same name: 'H14'\n",
      "✅ loaded Well record with exact same name: 'H15'\n",
      "✅ loaded Well record with exact same name: 'H16'\n",
      "✅ loaded Well record with exact same name: 'H17'\n",
      "✅ loaded Well record with exact same name: 'H18'\n",
      "✅ loaded Well record with exact same name: 'H19'\n",
      "✅ loaded Well record with exact same name: 'H20'\n",
      "✅ loaded Well record with exact same name: 'H21'\n",
      "✅ loaded Well record with exact same name: 'H22'\n",
      "✅ loaded Well record with exact same name: 'H23'\n",
      "✅ loaded Well record with exact same name: 'I02'\n",
      "✅ loaded Well record with exact same name: 'I03'\n",
      "✅ loaded Well record with exact same name: 'I04'\n",
      "✅ loaded Well record with exact same name: 'I05'\n",
      "✅ loaded Well record with exact same name: 'I06'\n",
      "✅ loaded Well record with exact same name: 'I07'\n",
      "✅ loaded Well record with exact same name: 'I08'\n",
      "✅ loaded Well record with exact same name: 'I09'\n",
      "✅ loaded Well record with exact same name: 'I10'\n",
      "✅ loaded Well record with exact same name: 'I11'\n",
      "✅ loaded Well record with exact same name: 'I12'\n",
      "✅ loaded Well record with exact same name: 'I13'\n",
      "✅ loaded Well record with exact same name: 'I14'\n",
      "✅ loaded Well record with exact same name: 'I15'\n",
      "✅ loaded Well record with exact same name: 'I16'\n",
      "✅ loaded Well record with exact same name: 'I17'\n",
      "✅ loaded Well record with exact same name: 'I18'\n",
      "✅ loaded Well record with exact same name: 'I19'\n",
      "✅ loaded Well record with exact same name: 'I20'\n",
      "✅ loaded Well record with exact same name: 'I21'\n",
      "✅ loaded Well record with exact same name: 'I22'\n",
      "✅ loaded Well record with exact same name: 'I23'\n",
      "✅ loaded Well record with exact same name: 'J03'\n",
      "✅ loaded Well record with exact same name: 'J04'\n",
      "✅ loaded Well record with exact same name: 'J05'\n",
      "✅ loaded Well record with exact same name: 'J06'\n",
      "✅ loaded Well record with exact same name: 'J07'\n",
      "✅ loaded Well record with exact same name: 'J08'\n",
      "✅ loaded Well record with exact same name: 'J09'\n",
      "✅ loaded Well record with exact same name: 'J10'\n",
      "✅ loaded Well record with exact same name: 'J11'\n",
      "✅ loaded Well record with exact same name: 'J12'\n",
      "✅ loaded Well record with exact same name: 'J13'\n",
      "✅ loaded Well record with exact same name: 'J14'\n",
      "✅ loaded Well record with exact same name: 'J15'\n",
      "✅ loaded Well record with exact same name: 'J16'\n",
      "✅ loaded Well record with exact same name: 'J17'\n",
      "✅ loaded Well record with exact same name: 'J18'\n",
      "✅ loaded Well record with exact same name: 'J19'\n",
      "✅ loaded Well record with exact same name: 'J20'\n",
      "✅ loaded Well record with exact same name: 'J21'\n",
      "✅ loaded Well record with exact same name: 'J22'\n",
      "✅ loaded Well record with exact same name: 'J23'\n",
      "✅ loaded Well record with exact same name: 'K02'\n",
      "✅ loaded Well record with exact same name: 'K03'\n",
      "✅ loaded Well record with exact same name: 'K04'\n",
      "✅ loaded Well record with exact same name: 'K05'\n",
      "✅ loaded Well record with exact same name: 'K06'\n",
      "✅ loaded Well record with exact same name: 'K07'\n",
      "✅ loaded Well record with exact same name: 'K08'\n",
      "✅ loaded Well record with exact same name: 'K09'\n",
      "✅ loaded Well record with exact same name: 'K10'\n",
      "✅ loaded Well record with exact same name: 'K11'\n",
      "✅ loaded Well record with exact same name: 'K12'\n",
      "✅ loaded Well record with exact same name: 'K13'\n",
      "✅ loaded Well record with exact same name: 'K14'\n",
      "✅ loaded Well record with exact same name: 'K15'\n",
      "✅ loaded Well record with exact same name: 'K16'\n",
      "✅ loaded Well record with exact same name: 'K17'\n",
      "✅ loaded Well record with exact same name: 'K18'\n",
      "✅ loaded Well record with exact same name: 'K19'\n",
      "✅ loaded Well record with exact same name: 'K20'\n",
      "✅ loaded Well record with exact same name: 'K21'\n",
      "✅ loaded Well record with exact same name: 'K22'\n",
      "✅ loaded Well record with exact same name: 'K23'\n",
      "✅ loaded Well record with exact same name: 'L02'\n",
      "✅ loaded Well record with exact same name: 'L03'\n",
      "✅ loaded Well record with exact same name: 'L04'\n",
      "✅ loaded Well record with exact same name: 'L05'\n",
      "✅ loaded Well record with exact same name: 'L06'\n",
      "✅ loaded Well record with exact same name: 'L07'\n",
      "✅ loaded Well record with exact same name: 'L08'\n",
      "✅ loaded Well record with exact same name: 'L09'\n",
      "✅ loaded Well record with exact same name: 'L10'\n",
      "✅ loaded Well record with exact same name: 'L11'\n",
      "✅ loaded Well record with exact same name: 'L12'\n",
      "✅ loaded Well record with exact same name: 'L13'\n",
      "✅ loaded Well record with exact same name: 'L14'\n",
      "✅ loaded Well record with exact same name: 'L15'\n",
      "✅ loaded Well record with exact same name: 'L16'\n",
      "✅ loaded Well record with exact same name: 'L17'\n",
      "✅ loaded Well record with exact same name: 'L18'\n",
      "✅ loaded Well record with exact same name: 'L19'\n",
      "✅ loaded Well record with exact same name: 'L20'\n",
      "✅ loaded Well record with exact same name: 'L21'\n",
      "✅ loaded Well record with exact same name: 'L22'\n",
      "✅ loaded Well record with exact same name: 'L23'\n",
      "✅ loaded Well record with exact same name: 'M02'\n",
      "✅ loaded Well record with exact same name: 'M03'\n",
      "✅ loaded Well record with exact same name: 'M04'\n",
      "✅ loaded Well record with exact same name: 'M05'\n",
      "✅ loaded Well record with exact same name: 'M06'\n",
      "✅ loaded Well record with exact same name: 'M07'\n",
      "✅ loaded Well record with exact same name: 'M08'\n",
      "✅ loaded Well record with exact same name: 'M09'\n",
      "✅ loaded Well record with exact same name: 'M10'\n",
      "✅ loaded Well record with exact same name: 'M11'\n",
      "✅ loaded Well record with exact same name: 'M12'\n",
      "✅ loaded Well record with exact same name: 'M13'\n",
      "✅ loaded Well record with exact same name: 'M14'\n",
      "✅ loaded Well record with exact same name: 'M15'\n",
      "✅ loaded Well record with exact same name: 'M16'\n",
      "✅ loaded Well record with exact same name: 'M17'\n",
      "✅ loaded Well record with exact same name: 'M18'\n",
      "✅ loaded Well record with exact same name: 'M19'\n",
      "✅ loaded Well record with exact same name: 'M20'\n",
      "✅ loaded Well record with exact same name: 'M21'\n",
      "✅ loaded Well record with exact same name: 'M22'\n",
      "✅ loaded Well record with exact same name: 'M23'\n",
      "✅ loaded Well record with exact same name: 'N02'\n",
      "✅ loaded Well record with exact same name: 'N03'\n",
      "✅ loaded Well record with exact same name: 'N04'\n",
      "✅ loaded Well record with exact same name: 'N05'\n",
      "✅ loaded Well record with exact same name: 'N06'\n",
      "✅ loaded Well record with exact same name: 'N07'\n",
      "✅ loaded Well record with exact same name: 'N08'\n",
      "✅ loaded Well record with exact same name: 'N09'\n",
      "✅ loaded Well record with exact same name: 'N10'\n",
      "✅ loaded Well record with exact same name: 'N11'\n",
      "✅ loaded Well record with exact same name: 'N12'\n",
      "✅ loaded Well record with exact same name: 'N13'\n",
      "✅ loaded Well record with exact same name: 'N14'\n",
      "✅ loaded Well record with exact same name: 'N15'\n",
      "✅ loaded Well record with exact same name: 'N16'\n",
      "✅ loaded Well record with exact same name: 'N17'\n",
      "✅ loaded Well record with exact same name: 'N18'\n",
      "✅ loaded Well record with exact same name: 'N19'\n",
      "✅ loaded Well record with exact same name: 'N20'\n",
      "✅ loaded Well record with exact same name: 'N21'\n",
      "✅ loaded Well record with exact same name: 'N22'\n",
      "✅ loaded Well record with exact same name: 'N23'\n",
      "✅ loaded Well record with exact same name: 'O02'\n",
      "✅ loaded Well record with exact same name: 'O03'\n",
      "✅ loaded Well record with exact same name: 'O04'\n",
      "✅ loaded Well record with exact same name: 'O05'\n",
      "✅ loaded Well record with exact same name: 'O06'\n",
      "✅ loaded Well record with exact same name: 'O07'\n",
      "✅ loaded Well record with exact same name: 'O08'\n",
      "✅ loaded Well record with exact same name: 'O09'\n",
      "✅ loaded Well record with exact same name: 'O10'\n",
      "✅ loaded Well record with exact same name: 'O11'\n",
      "✅ loaded Well record with exact same name: 'O12'\n",
      "✅ loaded Well record with exact same name: 'O13'\n",
      "✅ loaded Well record with exact same name: 'O14'\n",
      "✅ loaded Well record with exact same name: 'O15'\n",
      "✅ loaded Well record with exact same name: 'O16'\n",
      "✅ loaded Well record with exact same name: 'O17'\n",
      "✅ loaded Well record with exact same name: 'O18'\n",
      "✅ loaded Well record with exact same name: 'O19'\n",
      "✅ loaded Well record with exact same name: 'O20'\n",
      "✅ loaded Well record with exact same name: 'O21'\n",
      "✅ loaded Well record with exact same name: 'O22'\n",
      "✅ loaded Well record with exact same name: 'O23'\n",
      "✅ loaded Well record with exact same name: 'G10'\n",
      "✅ loaded Well record with exact same name: 'J02'\n"
     ]
    }
   ],
   "source": [
    "wells = []\n",
    "for well in meta[\"well\"].unique():\n",
    "    if len(well) == 3:\n",
    "        row = well[0]\n",
    "        col = int(well[1:])\n",
    "    elif len(well) == 4:\n",
    "        row = well[:2]\n",
    "        col = int(well[2:])\n",
    "    else:\n",
    "        raise AssertionError\n",
    "    wells.append(ln1.Well(name=well, row=row, column=col))\n",
    "\n",
    "ln.save(wells)"
   ]
  },
  {
   "cell_type": "markdown",
   "id": "c7903ed3",
   "metadata": {},
   "source": [
    "### `site`"
   ]
  },
  {
   "cell_type": "code",
   "execution_count": 34,
   "id": "ee50b098",
   "metadata": {},
   "outputs": [
    {
     "data": {
      "text/plain": [
       "array(['1', '2', '3', '4'], dtype=object)"
      ]
     },
     "execution_count": 34,
     "metadata": {},
     "output_type": "execute_result"
    }
   ],
   "source": [
    "meta[\"site\"].unique()"
   ]
  },
  {
   "cell_type": "code",
   "execution_count": 36,
   "id": "fe53232f",
   "metadata": {},
   "outputs": [],
   "source": [
    "is_site = ln.ULabel.filter(name=\"is_site\").one()"
   ]
  },
  {
   "cell_type": "code",
   "execution_count": 37,
   "id": "bc4bb354",
   "metadata": {},
   "outputs": [
    {
     "name": "stdout",
     "output_type": "stream",
     "text": [
      "✅ loaded ULabel record with exact same name: 'Site1'\n",
      "✅ loaded ULabel record with exact same name: 'Site2'\n",
      "✅ loaded ULabel record with exact same name: 'Site3'\n",
      "✅ loaded ULabel record with exact same name: 'Site4'\n"
     ]
    }
   ],
   "source": [
    "sites = []\n",
    "for name in meta[\"site\"].unique():\n",
    "    record = ln.ULabel(name=f\"Site{name}\")\n",
    "    sites.append(record)\n",
    "\n",
    "ln.save(sites)\n",
    "is_site.children.set(sites)"
   ]
  },
  {
   "cell_type": "code",
   "execution_count": 38,
   "id": "50d55873",
   "metadata": {},
   "outputs": [
    {
     "data": {
      "image/svg+xml": [
       "<?xml version=\"1.0\" encoding=\"UTF-8\" standalone=\"no\"?>\n",
       "<!DOCTYPE svg PUBLIC \"-//W3C//DTD SVG 1.1//EN\"\n",
       " \"http://www.w3.org/Graphics/SVG/1.1/DTD/svg11.dtd\">\n",
       "<!-- Generated by graphviz version 8.1.0 (20230707.0739)\n",
       " -->\n",
       "<!-- Title: HOE4qw5S Pages: 1 -->\n",
       "<svg width=\"278pt\" height=\"116pt\"\n",
       " viewBox=\"0.00 0.00 278.00 116.00\" xmlns=\"http://www.w3.org/2000/svg\" xmlns:xlink=\"http://www.w3.org/1999/xlink\">\n",
       "<g id=\"graph0\" class=\"graph\" transform=\"scale(1 1) rotate(0) translate(4 112)\">\n",
       "<title>HOE4qw5S</title>\n",
       "<polygon fill=\"white\" stroke=\"none\" points=\"-4,4 -4,-112 274,-112 274,4 -4,4\"/>\n",
       "<!-- HOE4qw5S -->\n",
       "<g id=\"node1\" class=\"node\">\n",
       "<title>HOE4qw5S</title>\n",
       "<path fill=\"#10b981\" stroke=\"#065f46\" d=\"M150,-108C150,-108 120,-108 120,-108 114,-108 108,-102 108,-96 108,-96 108,-84 108,-84 108,-78 114,-72 120,-72 120,-72 150,-72 150,-72 156,-72 162,-78 162,-84 162,-84 162,-96 162,-96 162,-102 156,-108 150,-108\"/>\n",
       "<text text-anchor=\"middle\" x=\"135\" y=\"-86.12\" font-family=\"Helvetica,sans-Serif\" font-size=\"10.00\">is_site</text>\n",
       "</g>\n",
       "<!-- 7IkJChyp -->\n",
       "<g id=\"node2\" class=\"node\">\n",
       "<title>7IkJChyp</title>\n",
       "<path fill=\"honeydew\" stroke=\"#065f46\" d=\"M42,-36C42,-36 12,-36 12,-36 6,-36 0,-30 0,-24 0,-24 0,-12 0,-12 0,-6 6,0 12,0 12,0 42,0 42,0 48,0 54,-6 54,-12 54,-12 54,-24 54,-24 54,-30 48,-36 42,-36\"/>\n",
       "<text text-anchor=\"middle\" x=\"27\" y=\"-14.12\" font-family=\"Helvetica,sans-Serif\" font-size=\"10.00\">Site2</text>\n",
       "</g>\n",
       "<!-- HOE4qw5S&#45;&gt;7IkJChyp -->\n",
       "<g id=\"edge1\" class=\"edge\">\n",
       "<title>HOE4qw5S&#45;&gt;7IkJChyp</title>\n",
       "<path fill=\"none\" stroke=\"dimgrey\" d=\"M108.03,-71.52C92.96,-61.75 74.12,-49.54 58.4,-39.35\"/>\n",
       "<polygon fill=\"dimgrey\" stroke=\"dimgrey\" points=\"59.78,-37.51 54.63,-36.26 57.87,-40.45 59.78,-37.51\"/>\n",
       "</g>\n",
       "<!-- 7Mljt1Wg -->\n",
       "<g id=\"node3\" class=\"node\">\n",
       "<title>7Mljt1Wg</title>\n",
       "<path fill=\"honeydew\" stroke=\"#065f46\" d=\"M114,-36C114,-36 84,-36 84,-36 78,-36 72,-30 72,-24 72,-24 72,-12 72,-12 72,-6 78,0 84,0 84,0 114,0 114,0 120,0 126,-6 126,-12 126,-12 126,-24 126,-24 126,-30 120,-36 114,-36\"/>\n",
       "<text text-anchor=\"middle\" x=\"99\" y=\"-14.12\" font-family=\"Helvetica,sans-Serif\" font-size=\"10.00\">Site4</text>\n",
       "</g>\n",
       "<!-- HOE4qw5S&#45;&gt;7Mljt1Wg -->\n",
       "<g id=\"edge2\" class=\"edge\">\n",
       "<title>HOE4qw5S&#45;&gt;7Mljt1Wg</title>\n",
       "<path fill=\"none\" stroke=\"dimgrey\" d=\"M126.1,-71.7C121.39,-62.54 115.56,-51.19 110.51,-41.38\"/>\n",
       "<polygon fill=\"dimgrey\" stroke=\"dimgrey\" points=\"111.64,-40.75 107.8,-37.1 108.53,-42.35 111.64,-40.75\"/>\n",
       "</g>\n",
       "<!-- 96nObMLM -->\n",
       "<g id=\"node4\" class=\"node\">\n",
       "<title>96nObMLM</title>\n",
       "<path fill=\"honeydew\" stroke=\"#065f46\" d=\"M186,-36C186,-36 156,-36 156,-36 150,-36 144,-30 144,-24 144,-24 144,-12 144,-12 144,-6 150,0 156,0 156,0 186,0 186,0 192,0 198,-6 198,-12 198,-12 198,-24 198,-24 198,-30 192,-36 186,-36\"/>\n",
       "<text text-anchor=\"middle\" x=\"171\" y=\"-14.12\" font-family=\"Helvetica,sans-Serif\" font-size=\"10.00\">Site1</text>\n",
       "</g>\n",
       "<!-- HOE4qw5S&#45;&gt;96nObMLM -->\n",
       "<g id=\"edge3\" class=\"edge\">\n",
       "<title>HOE4qw5S&#45;&gt;96nObMLM</title>\n",
       "<path fill=\"none\" stroke=\"dimgrey\" d=\"M143.9,-71.7C148.61,-62.54 154.44,-51.19 159.49,-41.38\"/>\n",
       "<polygon fill=\"dimgrey\" stroke=\"dimgrey\" points=\"161.47,-42.35 162.2,-37.1 158.36,-40.75 161.47,-42.35\"/>\n",
       "</g>\n",
       "<!-- G5CgPE4U -->\n",
       "<g id=\"node5\" class=\"node\">\n",
       "<title>G5CgPE4U</title>\n",
       "<path fill=\"honeydew\" stroke=\"#065f46\" d=\"M258,-36C258,-36 228,-36 228,-36 222,-36 216,-30 216,-24 216,-24 216,-12 216,-12 216,-6 222,0 228,0 228,0 258,0 258,0 264,0 270,-6 270,-12 270,-12 270,-24 270,-24 270,-30 264,-36 258,-36\"/>\n",
       "<text text-anchor=\"middle\" x=\"243\" y=\"-14.12\" font-family=\"Helvetica,sans-Serif\" font-size=\"10.00\">Site3</text>\n",
       "</g>\n",
       "<!-- HOE4qw5S&#45;&gt;G5CgPE4U -->\n",
       "<g id=\"edge4\" class=\"edge\">\n",
       "<title>HOE4qw5S&#45;&gt;G5CgPE4U</title>\n",
       "<path fill=\"none\" stroke=\"dimgrey\" d=\"M161.97,-71.52C177.04,-61.75 195.88,-49.54 211.6,-39.35\"/>\n",
       "<polygon fill=\"dimgrey\" stroke=\"dimgrey\" points=\"212.13,-40.45 215.37,-36.26 210.22,-37.51 212.13,-40.45\"/>\n",
       "</g>\n",
       "</g>\n",
       "</svg>\n"
      ],
      "text/plain": [
       "<graphviz.graphs.Digraph at 0x164780340>"
      ]
     },
     "metadata": {},
     "output_type": "display_data"
    }
   ],
   "source": [
    "is_site.view_parents(with_children=True)"
   ]
  },
  {
   "cell_type": "markdown",
   "id": "a868cc17",
   "metadata": {},
   "source": [
    "### `treatment`"
   ]
  },
  {
   "cell_type": "code",
   "execution_count": 40,
   "id": "3f029d5c",
   "metadata": {},
   "outputs": [
    {
     "name": "stdout",
     "output_type": "stream",
     "text": [
      "✅ loaded Treatment record with exact same name: 'EMPTY'\n"
     ]
    }
   ],
   "source": [
    "treatments = []\n",
    "for treatment in meta[\"treatment\"].unique():\n",
    "    record = ln1.Treatment(\n",
    "        name=treatment,\n",
    "        type=\"chemical\",\n",
    "        system=\"soluble factor\",\n",
    "    )\n",
    "    treatments.append(record)\n",
    "\n",
    "ln.save(treatments)"
   ]
  },
  {
   "cell_type": "markdown",
   "id": "860ecbd9",
   "metadata": {},
   "source": [
    "### assay/readout"
   ]
  },
  {
   "cell_type": "markdown",
   "id": "64c2b39a",
   "metadata": {},
   "source": [
    "We can do the same for other ontologies that we are interested to curate. For example, the type of readout. We are going to choose the \"high content screen\" readout."
   ]
  },
  {
   "cell_type": "code",
   "execution_count": 43,
   "id": "2d02a54f",
   "metadata": {},
   "outputs": [],
   "source": [
    "assay = lb.ExperimentalFactor.filter(name=\"high content screen\").one()"
   ]
  },
  {
   "cell_type": "markdown",
   "id": "b4456cd5",
   "metadata": {},
   "source": [
    "### features"
   ]
  },
  {
   "cell_type": "code",
   "execution_count": 44,
   "id": "57013951",
   "metadata": {},
   "outputs": [],
   "source": [
    "var_features = ln.Feature.from_df(embedding)\n",
    "ln.save(var_features)"
   ]
  },
  {
   "cell_type": "code",
   "execution_count": 61,
   "id": "0c1b6bf5",
   "metadata": {},
   "outputs": [],
   "source": [
    "obs_features = ln.Feature.from_df(meta)\n",
    "ln.save(obs_features)"
   ]
  },
  {
   "cell_type": "code",
   "execution_count": 21,
   "id": "8f583b23",
   "metadata": {},
   "outputs": [],
   "source": [
    "features = ln.Feature.lookup()"
   ]
  },
  {
   "cell_type": "markdown",
   "id": "b24bc399",
   "metadata": {},
   "source": [
    "## Register metadata-file_keys as a parquet file:"
   ]
  },
  {
   "cell_type": "markdown",
   "id": "8d1d51f7",
   "metadata": {},
   "source": [
    "Here we create a DataFrame with each row as a single image, similar to a link table but with multiple metadata columns:"
   ]
  },
  {
   "cell_type": "code",
   "execution_count": 22,
   "id": "e213900f",
   "metadata": {},
   "outputs": [],
   "source": [
    "meta_filekey = meta.copy()"
   ]
  },
  {
   "cell_type": "code",
   "execution_count": 23,
   "id": "64afe960",
   "metadata": {},
   "outputs": [],
   "source": [
    "keys_list = []\n",
    "for key in meta_filekey[\"file_keys\"]:\n",
    "    keys = [key.replace(\"w1-w6.png\", f\"w{str(channel)}.png\") for channel in range(1, 7)]\n",
    "    keys_list.append(keys)"
   ]
  },
  {
   "cell_type": "code",
   "execution_count": 24,
   "id": "bb084d24",
   "metadata": {},
   "outputs": [],
   "source": [
    "meta_filekey[\"file_keys\"] = keys_list"
   ]
  },
  {
   "cell_type": "code",
   "execution_count": 25,
   "id": "58cbd57e",
   "metadata": {},
   "outputs": [],
   "source": [
    "meta_filekey = meta_filekey.explode(\"file_keys\").reset_index(drop=True)"
   ]
  },
  {
   "cell_type": "code",
   "execution_count": 26,
   "id": "a7f0ebd0",
   "metadata": {},
   "outputs": [
    {
     "data": {
      "text/html": [
       "<div>\n",
       "<style scoped>\n",
       "    .dataframe tbody tr th:only-of-type {\n",
       "        vertical-align: middle;\n",
       "    }\n",
       "\n",
       "    .dataframe tbody tr th {\n",
       "        vertical-align: top;\n",
       "    }\n",
       "\n",
       "    .dataframe thead th {\n",
       "        text-align: right;\n",
       "    }\n",
       "</style>\n",
       "<table border=\"1\" class=\"dataframe\">\n",
       "  <thead>\n",
       "    <tr style=\"text-align: right;\">\n",
       "      <th></th>\n",
       "      <th>site_id</th>\n",
       "      <th>well_id</th>\n",
       "      <th>cell_type</th>\n",
       "      <th>experiment</th>\n",
       "      <th>plate</th>\n",
       "      <th>well</th>\n",
       "      <th>site</th>\n",
       "      <th>treatment</th>\n",
       "      <th>treatment_conc</th>\n",
       "      <th>file_keys</th>\n",
       "    </tr>\n",
       "  </thead>\n",
       "  <tbody>\n",
       "    <tr>\n",
       "      <th>0</th>\n",
       "      <td>HUVEC-1_1_AA03_1</td>\n",
       "      <td>HUVEC-1_1_AA03</td>\n",
       "      <td>HUVEC</td>\n",
       "      <td>HUVEC-1</td>\n",
       "      <td>1</td>\n",
       "      <td>AA03</td>\n",
       "      <td>1</td>\n",
       "      <td>Sonic-Hedgehog</td>\n",
       "      <td>0.100000</td>\n",
       "      <td>images/HUVEC-1/Plate1/AA03_s1_w1.png</td>\n",
       "    </tr>\n",
       "    <tr>\n",
       "      <th>1</th>\n",
       "      <td>HUVEC-1_1_AA03_1</td>\n",
       "      <td>HUVEC-1_1_AA03</td>\n",
       "      <td>HUVEC</td>\n",
       "      <td>HUVEC-1</td>\n",
       "      <td>1</td>\n",
       "      <td>AA03</td>\n",
       "      <td>1</td>\n",
       "      <td>Sonic-Hedgehog</td>\n",
       "      <td>0.100000</td>\n",
       "      <td>images/HUVEC-1/Plate1/AA03_s1_w2.png</td>\n",
       "    </tr>\n",
       "    <tr>\n",
       "      <th>2</th>\n",
       "      <td>HUVEC-1_1_AA03_1</td>\n",
       "      <td>HUVEC-1_1_AA03</td>\n",
       "      <td>HUVEC</td>\n",
       "      <td>HUVEC-1</td>\n",
       "      <td>1</td>\n",
       "      <td>AA03</td>\n",
       "      <td>1</td>\n",
       "      <td>Sonic-Hedgehog</td>\n",
       "      <td>0.100000</td>\n",
       "      <td>images/HUVEC-1/Plate1/AA03_s1_w3.png</td>\n",
       "    </tr>\n",
       "    <tr>\n",
       "      <th>3</th>\n",
       "      <td>HUVEC-1_1_AA03_1</td>\n",
       "      <td>HUVEC-1_1_AA03</td>\n",
       "      <td>HUVEC</td>\n",
       "      <td>HUVEC-1</td>\n",
       "      <td>1</td>\n",
       "      <td>AA03</td>\n",
       "      <td>1</td>\n",
       "      <td>Sonic-Hedgehog</td>\n",
       "      <td>0.100000</td>\n",
       "      <td>images/HUVEC-1/Plate1/AA03_s1_w4.png</td>\n",
       "    </tr>\n",
       "    <tr>\n",
       "      <th>4</th>\n",
       "      <td>HUVEC-1_1_AA03_1</td>\n",
       "      <td>HUVEC-1_1_AA03</td>\n",
       "      <td>HUVEC</td>\n",
       "      <td>HUVEC-1</td>\n",
       "      <td>1</td>\n",
       "      <td>AA03</td>\n",
       "      <td>1</td>\n",
       "      <td>Sonic-Hedgehog</td>\n",
       "      <td>0.100000</td>\n",
       "      <td>images/HUVEC-1/Plate1/AA03_s1_w5.png</td>\n",
       "    </tr>\n",
       "    <tr>\n",
       "      <th>...</th>\n",
       "      <td>...</td>\n",
       "      <td>...</td>\n",
       "      <td>...</td>\n",
       "      <td>...</td>\n",
       "      <td>...</td>\n",
       "      <td>...</td>\n",
       "      <td>...</td>\n",
       "      <td>...</td>\n",
       "      <td>...</td>\n",
       "      <td>...</td>\n",
       "    </tr>\n",
       "    <tr>\n",
       "      <th>791713</th>\n",
       "      <td>HUVEC-2_12_Z47_4</td>\n",
       "      <td>HUVEC-2_12_Z47</td>\n",
       "      <td>HUVEC</td>\n",
       "      <td>HUVEC-2</td>\n",
       "      <td>12</td>\n",
       "      <td>Z47</td>\n",
       "      <td>4</td>\n",
       "      <td>ProEGF</td>\n",
       "      <td>0.000001</td>\n",
       "      <td>images/HUVEC-2/Plate12/Z47_s4_w2.png</td>\n",
       "    </tr>\n",
       "    <tr>\n",
       "      <th>791714</th>\n",
       "      <td>HUVEC-2_12_Z47_4</td>\n",
       "      <td>HUVEC-2_12_Z47</td>\n",
       "      <td>HUVEC</td>\n",
       "      <td>HUVEC-2</td>\n",
       "      <td>12</td>\n",
       "      <td>Z47</td>\n",
       "      <td>4</td>\n",
       "      <td>ProEGF</td>\n",
       "      <td>0.000001</td>\n",
       "      <td>images/HUVEC-2/Plate12/Z47_s4_w3.png</td>\n",
       "    </tr>\n",
       "    <tr>\n",
       "      <th>791715</th>\n",
       "      <td>HUVEC-2_12_Z47_4</td>\n",
       "      <td>HUVEC-2_12_Z47</td>\n",
       "      <td>HUVEC</td>\n",
       "      <td>HUVEC-2</td>\n",
       "      <td>12</td>\n",
       "      <td>Z47</td>\n",
       "      <td>4</td>\n",
       "      <td>ProEGF</td>\n",
       "      <td>0.000001</td>\n",
       "      <td>images/HUVEC-2/Plate12/Z47_s4_w4.png</td>\n",
       "    </tr>\n",
       "    <tr>\n",
       "      <th>791716</th>\n",
       "      <td>HUVEC-2_12_Z47_4</td>\n",
       "      <td>HUVEC-2_12_Z47</td>\n",
       "      <td>HUVEC</td>\n",
       "      <td>HUVEC-2</td>\n",
       "      <td>12</td>\n",
       "      <td>Z47</td>\n",
       "      <td>4</td>\n",
       "      <td>ProEGF</td>\n",
       "      <td>0.000001</td>\n",
       "      <td>images/HUVEC-2/Plate12/Z47_s4_w5.png</td>\n",
       "    </tr>\n",
       "    <tr>\n",
       "      <th>791717</th>\n",
       "      <td>HUVEC-2_12_Z47_4</td>\n",
       "      <td>HUVEC-2_12_Z47</td>\n",
       "      <td>HUVEC</td>\n",
       "      <td>HUVEC-2</td>\n",
       "      <td>12</td>\n",
       "      <td>Z47</td>\n",
       "      <td>4</td>\n",
       "      <td>ProEGF</td>\n",
       "      <td>0.000001</td>\n",
       "      <td>images/HUVEC-2/Plate12/Z47_s4_w6.png</td>\n",
       "    </tr>\n",
       "  </tbody>\n",
       "</table>\n",
       "<p>791718 rows × 10 columns</p>\n",
       "</div>"
      ],
      "text/plain": [
       "                 site_id         well_id cell_type experiment plate  well  \\\n",
       "0       HUVEC-1_1_AA03_1  HUVEC-1_1_AA03     HUVEC    HUVEC-1     1  AA03   \n",
       "1       HUVEC-1_1_AA03_1  HUVEC-1_1_AA03     HUVEC    HUVEC-1     1  AA03   \n",
       "2       HUVEC-1_1_AA03_1  HUVEC-1_1_AA03     HUVEC    HUVEC-1     1  AA03   \n",
       "3       HUVEC-1_1_AA03_1  HUVEC-1_1_AA03     HUVEC    HUVEC-1     1  AA03   \n",
       "4       HUVEC-1_1_AA03_1  HUVEC-1_1_AA03     HUVEC    HUVEC-1     1  AA03   \n",
       "...                  ...             ...       ...        ...   ...   ...   \n",
       "791713  HUVEC-2_12_Z47_4  HUVEC-2_12_Z47     HUVEC    HUVEC-2    12   Z47   \n",
       "791714  HUVEC-2_12_Z47_4  HUVEC-2_12_Z47     HUVEC    HUVEC-2    12   Z47   \n",
       "791715  HUVEC-2_12_Z47_4  HUVEC-2_12_Z47     HUVEC    HUVEC-2    12   Z47   \n",
       "791716  HUVEC-2_12_Z47_4  HUVEC-2_12_Z47     HUVEC    HUVEC-2    12   Z47   \n",
       "791717  HUVEC-2_12_Z47_4  HUVEC-2_12_Z47     HUVEC    HUVEC-2    12   Z47   \n",
       "\n",
       "       site       treatment  treatment_conc  \\\n",
       "0         1  Sonic-Hedgehog        0.100000   \n",
       "1         1  Sonic-Hedgehog        0.100000   \n",
       "2         1  Sonic-Hedgehog        0.100000   \n",
       "3         1  Sonic-Hedgehog        0.100000   \n",
       "4         1  Sonic-Hedgehog        0.100000   \n",
       "...     ...             ...             ...   \n",
       "791713    4          ProEGF        0.000001   \n",
       "791714    4          ProEGF        0.000001   \n",
       "791715    4          ProEGF        0.000001   \n",
       "791716    4          ProEGF        0.000001   \n",
       "791717    4          ProEGF        0.000001   \n",
       "\n",
       "                                   file_keys  \n",
       "0       images/HUVEC-1/Plate1/AA03_s1_w1.png  \n",
       "1       images/HUVEC-1/Plate1/AA03_s1_w2.png  \n",
       "2       images/HUVEC-1/Plate1/AA03_s1_w3.png  \n",
       "3       images/HUVEC-1/Plate1/AA03_s1_w4.png  \n",
       "4       images/HUVEC-1/Plate1/AA03_s1_w5.png  \n",
       "...                                      ...  \n",
       "791713  images/HUVEC-2/Plate12/Z47_s4_w2.png  \n",
       "791714  images/HUVEC-2/Plate12/Z47_s4_w3.png  \n",
       "791715  images/HUVEC-2/Plate12/Z47_s4_w4.png  \n",
       "791716  images/HUVEC-2/Plate12/Z47_s4_w5.png  \n",
       "791717  images/HUVEC-2/Plate12/Z47_s4_w6.png  \n",
       "\n",
       "[791718 rows x 10 columns]"
      ]
     },
     "execution_count": 26,
     "metadata": {},
     "output_type": "execute_result"
    }
   ],
   "source": [
    "meta_filekey"
   ]
  },
  {
   "cell_type": "code",
   "execution_count": 11,
   "id": "4ea36143",
   "metadata": {},
   "outputs": [
    {
     "name": "stdout",
     "output_type": "stream",
     "text": [
      "💡 file will be copied to default storage upon `save()` with key 'rxrx2/metadata.parquet'\n",
      "✅ \u001b[1;92m10 terms\u001b[0m (100.00%) are validated for \u001b[3mname\u001b[0m\n"
     ]
    }
   ],
   "source": [
    "file_meta = ln.File.from_df(\n",
    "    meta_filekey,\n",
    "    field=ln.Feature.name,\n",
    "    key=\"rxrx2/metadata.parquet\",\n",
    "    description=\"Metadata with file paths for each RxRx2 image.\",\n",
    ")"
   ]
  },
  {
   "cell_type": "code",
   "execution_count": 12,
   "id": "bcde7ee7",
   "metadata": {},
   "outputs": [
    {
     "name": "stdout",
     "output_type": "stream",
     "text": [
      "✅ saved 1 feature set for slot: 'columns'\n"
     ]
    },
    {
     "name": "stdout",
     "output_type": "stream",
     "text": [
      "✅ storing file 'ngJEJJYHgKwZ7JbybWki' at 'rxrx2/metadata.parquet'\n",
      "... uploading ngJEJJYHgKwZ7JbybWki.parquet: 1.00\n",
      "\r"
     ]
    }
   ],
   "source": [
    "file_meta.save()"
   ]
  },
  {
   "cell_type": "code",
   "execution_count": 25,
   "id": "bfd05265",
   "metadata": {},
   "outputs": [
    {
     "name": "stdout",
     "output_type": "stream",
     "text": [
      "✅ loaded: FeatureSet(id='gQ64vjd1rxzwLWpbejz9', n=1, registry='core.Feature', hash='FiJ4ucNfT44nBYrOzjqB', updated_at=2023-09-21 12:10:08, modality_id='DpjC4gSK', created_by_id='kmvZDIX9')\n",
      "✅ linked new feature 'assay' together with new feature set FeatureSet(id='gQ64vjd1rxzwLWpbejz9', n=1, registry='core.Feature', hash='FiJ4ucNfT44nBYrOzjqB', updated_at=2023-09-21 12:20:20, modality_id='DpjC4gSK', created_by_id='kmvZDIX9')\n"
     ]
    }
   ],
   "source": [
    "# obs\n",
    "file_meta.labels.add(cell_lines, features.cell_type)\n",
    "file_meta.labels.add(experiments, features.experiment)\n",
    "file_meta.labels.add(plates, features.plate)\n",
    "file_meta.labels.add(wells, features.well)\n",
    "file_meta.labels.add(sites, features.site)\n",
    "file_meta.labels.add(treatments, features.treatment)\n",
    "# external\n",
    "file_meta.labels.add(assay, features.assay)"
   ]
  },
  {
   "cell_type": "markdown",
   "id": "d5ac619e",
   "metadata": {},
   "source": [
    "## Create `AnnData` object for embeddings and metadata"
   ]
  },
  {
   "cell_type": "code",
   "execution_count": 62,
   "id": "07ff69c5",
   "metadata": {},
   "outputs": [],
   "source": [
    "adata = ad.AnnData(embedding)\n",
    "adata.obs = meta.set_index(\"site_id\").loc[adata.obs.index]"
   ]
  },
  {
   "cell_type": "code",
   "execution_count": 63,
   "id": "7c8a63ab",
   "metadata": {},
   "outputs": [
    {
     "data": {
      "text/plain": [
       "AnnData object with n_obs × n_vars = 131953 × 128\n",
       "    obs: 'well_id', 'cell_type', 'experiment', 'plate', 'well', 'site', 'treatment', 'treatment_conc', 'file_keys'"
      ]
     },
     "execution_count": 63,
     "metadata": {},
     "output_type": "execute_result"
    }
   ],
   "source": [
    "adata"
   ]
  },
  {
   "attachments": {},
   "cell_type": "markdown",
   "id": "496f4f2c",
   "metadata": {},
   "source": [
    "## Register AnnData and link to metadata records"
   ]
  },
  {
   "cell_type": "code",
   "execution_count": 64,
   "id": "dbf78ad4",
   "metadata": {},
   "outputs": [
    {
     "name": "stderr",
     "output_type": "stream",
     "text": [
      "... storing 'well_id' as categorical\n",
      "... storing 'cell_type' as categorical\n",
      "... storing 'experiment' as categorical\n",
      "... storing 'plate' as categorical\n",
      "... storing 'well' as categorical\n",
      "... storing 'site' as categorical\n",
      "... storing 'treatment' as categorical\n"
     ]
    },
    {
     "name": "stdout",
     "output_type": "stream",
     "text": [
      "💡 file will be copied to default storage upon `save()` with key 'rxrx2/embeddings.h5ad'\n",
      "💡 parsing feature names of X stored in slot 'var'\n",
      "✅    \u001b[1;92m128 terms\u001b[0m (100.00%) are validated for \u001b[3mname\u001b[0m\n",
      "✅    loaded: FeatureSet(id='bcFh49e3BDYaSD4zgfjP', n=128, type='number', registry='core.Feature', hash='egYMAVrfSHIzTcpaI4OA', updated_at=2023-09-19 11:04:00, created_by_id='kmvZDIX9')\n",
      "✅    linked: FeatureSet(id='bcFh49e3BDYaSD4zgfjP', n=128, type='number', registry='core.Feature', hash='egYMAVrfSHIzTcpaI4OA', updated_at=2023-09-19 11:04:00, created_by_id='kmvZDIX9')\n",
      "💡 parsing feature names of slot 'obs'\n",
      "✅    \u001b[1;92m9 terms\u001b[0m (100.00%) are validated for \u001b[3mname\u001b[0m\n",
      "✅    linked: FeatureSet(id='oLc5ccB4oRi3RZ1yzaUt', n=9, registry='core.Feature', hash='htugf3r9YLzQvDrGY6rL', modality_id='DpjC4gSK', created_by_id='kmvZDIX9')\n"
     ]
    }
   ],
   "source": [
    "file = ln.File.from_anndata(\n",
    "    adata,\n",
    "    field=ln.Feature.name,\n",
    "    key=\"rxrx2/embeddings.h5ad\",\n",
    "    description=\"Metadata annotated deep learning embeddings for each RxRx2 image.\",\n",
    ")"
   ]
  },
  {
   "cell_type": "code",
   "execution_count": 65,
   "id": "c834964b",
   "metadata": {},
   "outputs": [
    {
     "name": "stdout",
     "output_type": "stream",
     "text": [
      "✅ saved 1 feature set for slot: 'obs'\n",
      "✅ storing file '2Eq0gJ81ZIW7JMkYIxAL' at 'rxrx2/embeddings.h5ad'\n"
     ]
    },
    {
     "name": "stdout",
     "output_type": "stream",
     "text": [
      "... uploading 2Eq0gJ81ZIW7JMkYIxAL.h5ad: 1.00\n",
      "\r"
     ]
    }
   ],
   "source": [
    "file.save()"
   ]
  },
  {
   "cell_type": "code",
   "execution_count": 66,
   "id": "1bf41727",
   "metadata": {},
   "outputs": [],
   "source": [
    "features = ln.Feature.lookup()"
   ]
  },
  {
   "cell_type": "code",
   "execution_count": 67,
   "id": "0bee5e51",
   "metadata": {},
   "outputs": [
    {
     "name": "stdout",
     "output_type": "stream",
     "text": [
      "✅ loaded: FeatureSet(id='gQ64vjd1rxzwLWpbejz9', n=1, registry='core.Feature', hash='FiJ4ucNfT44nBYrOzjqB', updated_at=2023-09-19 11:47:02, modality_id='DpjC4gSK', created_by_id='kmvZDIX9')\n",
      "✅ linked new feature 'assay' together with new feature set FeatureSet(id='gQ64vjd1rxzwLWpbejz9', n=1, registry='core.Feature', hash='FiJ4ucNfT44nBYrOzjqB', updated_at=2023-09-19 11:49:02, modality_id='DpjC4gSK', created_by_id='kmvZDIX9')\n"
     ]
    }
   ],
   "source": [
    "# obs\n",
    "file.labels.add(cell_lines, features.cell_type)\n",
    "file.labels.add(experiments, features.experiment)\n",
    "file.labels.add(plates, features.plate)\n",
    "file.labels.add(wells, features.well)\n",
    "file.labels.add(sites, features.site)\n",
    "file.labels.add(treatments, features.treatment)\n",
    "# external\n",
    "file.labels.add(assay, features.assay)"
   ]
  },
  {
   "cell_type": "code",
   "execution_count": 68,
   "id": "c02397c0",
   "metadata": {},
   "outputs": [
    {
     "data": {
      "text/plain": [
       "\u001b[1;92mLabels\u001b[0m:\n",
       "  🏷️ experiments (2, \u001b[3mlamin1.Experiment\u001b[0m): 'HUVEC-1', 'HUVEC-2'\n",
       "  🏷️ wells (1380, \u001b[3mlamin1.Well\u001b[0m): 'R24', 'D29', 'D38', 'AD15', 'V43', 'AB07', 'V39', 'X24', 'AD20', 'K08', ...\n",
       "  🏷️ treatments (434, \u001b[3mlamin1.Treatment\u001b[0m): 'GCP-2', 'PGn_Ecndi_ultra_pure', 'Wnt-16', 'PDGF-BB', 'PaExtA', 'Ecalectin', 'IL-37a', 'Galectin-1', 'COCO', 'CT-1', ...\n",
       "  🏷️ cell_lines (1, \u001b[3mbionty.CellLine\u001b[0m): 'HUV-EC-C cell'\n",
       "  🏷️ experimental_factors (1, \u001b[3mbionty.ExperimentalFactor\u001b[0m): 'high content screen'\n",
       "  🏷️ ulabels (16, \u001b[3mcore.ULabel\u001b[0m): 'Plate7', 'Plate6', 'Site2', 'Site4', 'Plate11', 'Site1', 'Plate1', 'Site3', 'Plate2', 'Plate8', ..."
      ]
     },
     "execution_count": 68,
     "metadata": {},
     "output_type": "execute_result"
    }
   ],
   "source": [
    "file.labels"
   ]
  },
  {
   "cell_type": "code",
   "execution_count": 69,
   "id": "55c2de13",
   "metadata": {},
   "outputs": [
    {
     "data": {
      "text/plain": [
       "\u001b[1;92mFeatures\u001b[0m:\n",
       "  \u001b[1mvar\u001b[0m: FeatureSet(id='bcFh49e3BDYaSD4zgfjP', n=128, type='number', registry='core.Feature', hash='egYMAVrfSHIzTcpaI4OA', updated_at=2023-09-19 11:04:00, created_by_id='kmvZDIX9')\n",
       "    feature_93 (number)\n",
       "    feature_105 (number)\n",
       "    feature_116 (number)\n",
       "    feature_23 (number)\n",
       "    feature_50 (number)\n",
       "    feature_27 (number)\n",
       "    feature_37 (number)\n",
       "    feature_1 (number)\n",
       "    feature_81 (number)\n",
       "    feature_0 (number)\n",
       "    feature_119 (number)\n",
       "    feature_125 (number)\n",
       "    feature_47 (number)\n",
       "    feature_8 (number)\n",
       "    feature_126 (number)\n",
       "    feature_11 (number)\n",
       "    feature_75 (number)\n",
       "    feature_16 (number)\n",
       "    feature_63 (number)\n",
       "    feature_113 (number)\n",
       "    feature_71 (number)\n",
       "    feature_4 (number)\n",
       "    feature_60 (number)\n",
       "    feature_118 (number)\n",
       "    feature_112 (number)\n",
       "    feature_123 (number)\n",
       "    feature_69 (number)\n",
       "    feature_51 (number)\n",
       "    feature_53 (number)\n",
       "    feature_73 (number)\n",
       "    feature_14 (number)\n",
       "    feature_86 (number)\n",
       "    feature_55 (number)\n",
       "    feature_77 (number)\n",
       "    feature_65 (number)\n",
       "    feature_109 (number)\n",
       "    feature_79 (number)\n",
       "    feature_114 (number)\n",
       "    feature_6 (number)\n",
       "    feature_48 (number)\n",
       "    feature_102 (number)\n",
       "    feature_90 (number)\n",
       "    feature_52 (number)\n",
       "    feature_58 (number)\n",
       "    feature_62 (number)\n",
       "    feature_103 (number)\n",
       "    feature_40 (number)\n",
       "    feature_45 (number)\n",
       "    feature_3 (number)\n",
       "    feature_66 (number)\n",
       "    feature_91 (number)\n",
       "    feature_49 (number)\n",
       "    feature_42 (number)\n",
       "    feature_110 (number)\n",
       "    feature_34 (number)\n",
       "    feature_25 (number)\n",
       "    feature_29 (number)\n",
       "    feature_104 (number)\n",
       "    feature_28 (number)\n",
       "    feature_9 (number)\n",
       "    feature_74 (number)\n",
       "    feature_26 (number)\n",
       "    feature_38 (number)\n",
       "    feature_82 (number)\n",
       "    feature_17 (number)\n",
       "    feature_67 (number)\n",
       "    feature_99 (number)\n",
       "    feature_22 (number)\n",
       "    feature_56 (number)\n",
       "    feature_18 (number)\n",
       "    feature_21 (number)\n",
       "    feature_5 (number)\n",
       "    feature_15 (number)\n",
       "    feature_88 (number)\n",
       "    feature_111 (number)\n",
       "    feature_96 (number)\n",
       "    feature_20 (number)\n",
       "    feature_61 (number)\n",
       "    feature_85 (number)\n",
       "    feature_7 (number)\n",
       "    feature_54 (number)\n",
       "    feature_101 (number)\n",
       "    feature_41 (number)\n",
       "    feature_115 (number)\n",
       "    feature_35 (number)\n",
       "    feature_64 (number)\n",
       "    feature_78 (number)\n",
       "    feature_83 (number)\n",
       "    feature_33 (number)\n",
       "    feature_84 (number)\n",
       "    feature_98 (number)\n",
       "    feature_97 (number)\n",
       "    feature_89 (number)\n",
       "    feature_19 (number)\n",
       "    feature_59 (number)\n",
       "    feature_80 (number)\n",
       "    feature_12 (number)\n",
       "    feature_24 (number)\n",
       "    feature_76 (number)\n",
       "    feature_68 (number)\n",
       "    feature_10 (number)\n",
       "    feature_122 (number)\n",
       "    feature_39 (number)\n",
       "    feature_87 (number)\n",
       "    feature_44 (number)\n",
       "    feature_31 (number)\n",
       "    feature_57 (number)\n",
       "    feature_94 (number)\n",
       "    feature_92 (number)\n",
       "    feature_121 (number)\n",
       "    feature_127 (number)\n",
       "    feature_95 (number)\n",
       "    feature_106 (number)\n",
       "    feature_70 (number)\n",
       "    feature_100 (number)\n",
       "    feature_36 (number)\n",
       "    feature_72 (number)\n",
       "    feature_43 (number)\n",
       "    feature_2 (number)\n",
       "    feature_30 (number)\n",
       "    feature_120 (number)\n",
       "    feature_124 (number)\n",
       "    feature_117 (number)\n",
       "    feature_13 (number)\n",
       "    feature_108 (number)\n",
       "    feature_46 (number)\n",
       "    feature_32 (number)\n",
       "    feature_107 (number)\n",
       "  \u001b[1mobs\u001b[0m: FeatureSet(id='oLc5ccB4oRi3RZ1yzaUt', n=9, registry='core.Feature', hash='htugf3r9YLzQvDrGY6rL', updated_at=2023-09-19 11:47:01, modality_id='DpjC4gSK', created_by_id='kmvZDIX9')\n",
       "    🔗 well (1380, \u001b[3mlamin1.Well\u001b[0m): 'R24', 'D29', 'D38', 'AD15', 'V43', 'AB07', 'V39', 'X24', 'AD20', 'K08', ...\n",
       "    🔗 treatment (434, \u001b[3mlamin1.Treatment\u001b[0m): 'GCP-2', 'PGn_Ecndi_ultra_pure', 'Wnt-16', 'PDGF-BB', 'PaExtA', 'Ecalectin', 'IL-37a', 'Galectin-1', 'COCO', 'CT-1', ...\n",
       "    🔗 experiment (2, \u001b[3mlamin1.Experiment\u001b[0m): 'HUVEC-1', 'HUVEC-2'\n",
       "    treatment_conc (number)\n",
       "    🔗 site (4, \u001b[3mcore.ULabel\u001b[0m): 'Site2', 'Site4', 'Site1', 'Site3'\n",
       "    file_keys (object)\n",
       "    🔗 cell_type (1, \u001b[3mbionty.CellLine\u001b[0m): 'HUV-EC-C cell'\n",
       "    🔗 plate (12, \u001b[3mcore.ULabel\u001b[0m): 'Plate7', 'Plate6', 'Plate11', 'Plate1', 'Plate2', 'Plate8', 'Plate4', 'Plate5', 'Plate12', 'Plate10', ...\n",
       "    well_id (category)\n",
       "  \u001b[1mexternal\u001b[0m: FeatureSet(id='gQ64vjd1rxzwLWpbejz9', n=1, registry='core.Feature', hash='FiJ4ucNfT44nBYrOzjqB', updated_at=2023-09-19 11:49:02, modality_id='DpjC4gSK', created_by_id='kmvZDIX9')\n",
       "    🔗 assay (1, \u001b[3mbionty.ExperimentalFactor\u001b[0m): 'high content screen'"
      ]
     },
     "execution_count": 69,
     "metadata": {},
     "output_type": "execute_result"
    }
   ],
   "source": [
    "file.features"
   ]
  },
  {
   "cell_type": "code",
   "execution_count": 70,
   "id": "dac3777a",
   "metadata": {},
   "outputs": [
    {
     "data": {
      "text/html": [
       "<div>\n",
       "<style scoped>\n",
       "    .dataframe tbody tr th:only-of-type {\n",
       "        vertical-align: middle;\n",
       "    }\n",
       "\n",
       "    .dataframe tbody tr th {\n",
       "        vertical-align: top;\n",
       "    }\n",
       "\n",
       "    .dataframe thead th {\n",
       "        text-align: right;\n",
       "    }\n",
       "</style>\n",
       "<table border=\"1\" class=\"dataframe\">\n",
       "  <thead>\n",
       "    <tr style=\"text-align: right;\">\n",
       "      <th></th>\n",
       "      <th>name</th>\n",
       "      <th>n</th>\n",
       "      <th>type</th>\n",
       "      <th>modality_id</th>\n",
       "      <th>registry</th>\n",
       "      <th>hash</th>\n",
       "      <th>updated_at</th>\n",
       "      <th>created_by_id</th>\n",
       "    </tr>\n",
       "    <tr>\n",
       "      <th>id</th>\n",
       "      <th></th>\n",
       "      <th></th>\n",
       "      <th></th>\n",
       "      <th></th>\n",
       "      <th></th>\n",
       "      <th></th>\n",
       "      <th></th>\n",
       "      <th></th>\n",
       "    </tr>\n",
       "  </thead>\n",
       "  <tbody>\n",
       "    <tr>\n",
       "      <th>bcFh49e3BDYaSD4zgfjP</th>\n",
       "      <td>None</td>\n",
       "      <td>128</td>\n",
       "      <td>number</td>\n",
       "      <td>None</td>\n",
       "      <td>core.Feature</td>\n",
       "      <td>egYMAVrfSHIzTcpaI4OA</td>\n",
       "      <td>2023-09-19 13:04:00</td>\n",
       "      <td>kmvZDIX9</td>\n",
       "    </tr>\n",
       "    <tr>\n",
       "      <th>gQ64vjd1rxzwLWpbejz9</th>\n",
       "      <td>None</td>\n",
       "      <td>1</td>\n",
       "      <td>None</td>\n",
       "      <td>DpjC4gSK</td>\n",
       "      <td>core.Feature</td>\n",
       "      <td>FiJ4ucNfT44nBYrOzjqB</td>\n",
       "      <td>2023-09-19 13:49:02</td>\n",
       "      <td>kmvZDIX9</td>\n",
       "    </tr>\n",
       "    <tr>\n",
       "      <th>oLc5ccB4oRi3RZ1yzaUt</th>\n",
       "      <td>None</td>\n",
       "      <td>9</td>\n",
       "      <td>None</td>\n",
       "      <td>DpjC4gSK</td>\n",
       "      <td>core.Feature</td>\n",
       "      <td>htugf3r9YLzQvDrGY6rL</td>\n",
       "      <td>2023-09-19 13:47:01</td>\n",
       "      <td>kmvZDIX9</td>\n",
       "    </tr>\n",
       "  </tbody>\n",
       "</table>\n",
       "</div>"
      ],
      "text/plain": [
       "                      name    n    type modality_id      registry  \\\n",
       "id                                                                  \n",
       "bcFh49e3BDYaSD4zgfjP  None  128  number        None  core.Feature   \n",
       "gQ64vjd1rxzwLWpbejz9  None    1    None    DpjC4gSK  core.Feature   \n",
       "oLc5ccB4oRi3RZ1yzaUt  None    9    None    DpjC4gSK  core.Feature   \n",
       "\n",
       "                                      hash           updated_at created_by_id  \n",
       "id                                                                             \n",
       "bcFh49e3BDYaSD4zgfjP  egYMAVrfSHIzTcpaI4OA  2023-09-19 13:04:00      kmvZDIX9  \n",
       "gQ64vjd1rxzwLWpbejz9  FiJ4ucNfT44nBYrOzjqB  2023-09-19 13:49:02      kmvZDIX9  \n",
       "oLc5ccB4oRi3RZ1yzaUt  htugf3r9YLzQvDrGY6rL  2023-09-19 13:47:01      kmvZDIX9  "
      ]
     },
     "execution_count": 70,
     "metadata": {},
     "output_type": "execute_result"
    }
   ],
   "source": [
    "file.feature_sets.df()"
   ]
  },
  {
   "cell_type": "code",
   "execution_count": 71,
   "id": "eaad66e1",
   "metadata": {},
   "outputs": [
    {
     "data": {
      "text/html": [
       "<div>\n",
       "<style scoped>\n",
       "    .dataframe tbody tr th:only-of-type {\n",
       "        vertical-align: middle;\n",
       "    }\n",
       "\n",
       "    .dataframe tbody tr th {\n",
       "        vertical-align: top;\n",
       "    }\n",
       "\n",
       "    .dataframe thead th {\n",
       "        text-align: right;\n",
       "    }\n",
       "</style>\n",
       "<table border=\"1\" class=\"dataframe\">\n",
       "  <thead>\n",
       "    <tr style=\"text-align: right;\">\n",
       "      <th></th>\n",
       "      <th>name</th>\n",
       "      <th>type</th>\n",
       "      <th>modality_id</th>\n",
       "      <th>unit</th>\n",
       "      <th>description</th>\n",
       "      <th>registries</th>\n",
       "      <th>synonyms</th>\n",
       "      <th>updated_at</th>\n",
       "      <th>created_by_id</th>\n",
       "    </tr>\n",
       "    <tr>\n",
       "      <th>id</th>\n",
       "      <th></th>\n",
       "      <th></th>\n",
       "      <th></th>\n",
       "      <th></th>\n",
       "      <th></th>\n",
       "      <th></th>\n",
       "      <th></th>\n",
       "      <th></th>\n",
       "      <th></th>\n",
       "    </tr>\n",
       "  </thead>\n",
       "  <tbody>\n",
       "    <tr>\n",
       "      <th>3wuv7DCHL6CP</th>\n",
       "      <td>well</td>\n",
       "      <td>category</td>\n",
       "      <td>None</td>\n",
       "      <td>None</td>\n",
       "      <td>None</td>\n",
       "      <td>lamin1.Well</td>\n",
       "      <td>None</td>\n",
       "      <td>2023-09-19 13:47:01</td>\n",
       "      <td>kmvZDIX9</td>\n",
       "    </tr>\n",
       "    <tr>\n",
       "      <th>xQLPfbl6X4bJ</th>\n",
       "      <td>treatment</td>\n",
       "      <td>category</td>\n",
       "      <td>None</td>\n",
       "      <td>None</td>\n",
       "      <td>None</td>\n",
       "      <td>lamin1.Treatment</td>\n",
       "      <td>None</td>\n",
       "      <td>2023-09-19 13:47:01</td>\n",
       "      <td>kmvZDIX9</td>\n",
       "    </tr>\n",
       "    <tr>\n",
       "      <th>lul3qCosyI7A</th>\n",
       "      <td>experiment</td>\n",
       "      <td>category</td>\n",
       "      <td>None</td>\n",
       "      <td>None</td>\n",
       "      <td>None</td>\n",
       "      <td>lamin1.Experiment</td>\n",
       "      <td>None</td>\n",
       "      <td>2023-09-19 13:47:01</td>\n",
       "      <td>kmvZDIX9</td>\n",
       "    </tr>\n",
       "    <tr>\n",
       "      <th>lPgNz9V8MwKe</th>\n",
       "      <td>treatment_conc</td>\n",
       "      <td>number</td>\n",
       "      <td>None</td>\n",
       "      <td>None</td>\n",
       "      <td>None</td>\n",
       "      <td>None</td>\n",
       "      <td>None</td>\n",
       "      <td>2023-09-19 13:47:01</td>\n",
       "      <td>kmvZDIX9</td>\n",
       "    </tr>\n",
       "    <tr>\n",
       "      <th>mXGssomIkT3O</th>\n",
       "      <td>site</td>\n",
       "      <td>category</td>\n",
       "      <td>None</td>\n",
       "      <td>None</td>\n",
       "      <td>None</td>\n",
       "      <td>core.ULabel</td>\n",
       "      <td>None</td>\n",
       "      <td>2023-09-19 13:47:01</td>\n",
       "      <td>kmvZDIX9</td>\n",
       "    </tr>\n",
       "    <tr>\n",
       "      <th>fuG3rNZAUhHI</th>\n",
       "      <td>file_keys</td>\n",
       "      <td>object</td>\n",
       "      <td>None</td>\n",
       "      <td>None</td>\n",
       "      <td>None</td>\n",
       "      <td>None</td>\n",
       "      <td>None</td>\n",
       "      <td>2023-09-19 13:47:01</td>\n",
       "      <td>kmvZDIX9</td>\n",
       "    </tr>\n",
       "    <tr>\n",
       "      <th>vunP8lJP2jVk</th>\n",
       "      <td>cell_type</td>\n",
       "      <td>category</td>\n",
       "      <td>None</td>\n",
       "      <td>None</td>\n",
       "      <td>None</td>\n",
       "      <td>bionty.CellLine</td>\n",
       "      <td>None</td>\n",
       "      <td>2023-09-19 13:47:01</td>\n",
       "      <td>kmvZDIX9</td>\n",
       "    </tr>\n",
       "    <tr>\n",
       "      <th>g6nY4RszJxf1</th>\n",
       "      <td>plate</td>\n",
       "      <td>category</td>\n",
       "      <td>None</td>\n",
       "      <td>None</td>\n",
       "      <td>None</td>\n",
       "      <td>core.ULabel</td>\n",
       "      <td>None</td>\n",
       "      <td>2023-09-19 13:47:01</td>\n",
       "      <td>kmvZDIX9</td>\n",
       "    </tr>\n",
       "    <tr>\n",
       "      <th>led3PypVnP6j</th>\n",
       "      <td>well_id</td>\n",
       "      <td>category</td>\n",
       "      <td>None</td>\n",
       "      <td>None</td>\n",
       "      <td>None</td>\n",
       "      <td>None</td>\n",
       "      <td>None</td>\n",
       "      <td>2023-09-19 13:47:01</td>\n",
       "      <td>kmvZDIX9</td>\n",
       "    </tr>\n",
       "  </tbody>\n",
       "</table>\n",
       "</div>"
      ],
      "text/plain": [
       "                        name      type modality_id  unit description  \\\n",
       "id                                                                     \n",
       "3wuv7DCHL6CP            well  category        None  None        None   \n",
       "xQLPfbl6X4bJ       treatment  category        None  None        None   \n",
       "lul3qCosyI7A      experiment  category        None  None        None   \n",
       "lPgNz9V8MwKe  treatment_conc    number        None  None        None   \n",
       "mXGssomIkT3O            site  category        None  None        None   \n",
       "fuG3rNZAUhHI       file_keys    object        None  None        None   \n",
       "vunP8lJP2jVk       cell_type  category        None  None        None   \n",
       "g6nY4RszJxf1           plate  category        None  None        None   \n",
       "led3PypVnP6j         well_id  category        None  None        None   \n",
       "\n",
       "                     registries synonyms           updated_at created_by_id  \n",
       "id                                                                           \n",
       "3wuv7DCHL6CP        lamin1.Well     None  2023-09-19 13:47:01      kmvZDIX9  \n",
       "xQLPfbl6X4bJ   lamin1.Treatment     None  2023-09-19 13:47:01      kmvZDIX9  \n",
       "lul3qCosyI7A  lamin1.Experiment     None  2023-09-19 13:47:01      kmvZDIX9  \n",
       "lPgNz9V8MwKe               None     None  2023-09-19 13:47:01      kmvZDIX9  \n",
       "mXGssomIkT3O        core.ULabel     None  2023-09-19 13:47:01      kmvZDIX9  \n",
       "fuG3rNZAUhHI               None     None  2023-09-19 13:47:01      kmvZDIX9  \n",
       "vunP8lJP2jVk    bionty.CellLine     None  2023-09-19 13:47:01      kmvZDIX9  \n",
       "g6nY4RszJxf1        core.ULabel     None  2023-09-19 13:47:01      kmvZDIX9  \n",
       "led3PypVnP6j               None     None  2023-09-19 13:47:01      kmvZDIX9  "
      ]
     },
     "execution_count": 71,
     "metadata": {},
     "output_type": "execute_result"
    }
   ],
   "source": [
    "file.features[\"obs\"].df()"
   ]
  },
  {
   "cell_type": "code",
   "execution_count": 72,
   "id": "11618339",
   "metadata": {},
   "outputs": [
    {
     "data": {
      "image/svg+xml": [
       "<?xml version=\"1.0\" encoding=\"UTF-8\" standalone=\"no\"?>\n",
       "<!DOCTYPE svg PUBLIC \"-//W3C//DTD SVG 1.1//EN\"\n",
       " \"http://www.w3.org/Graphics/SVG/1.1/DTD/svg11.dtd\">\n",
       "<!-- Generated by graphviz version 8.1.0 (20230707.0739)\n",
       " -->\n",
       "<!-- Title: 2Eq0gJ81ZIW7JMkYIxAL Pages: 1 -->\n",
       "<svg width=\"892pt\" height=\"288pt\"\n",
       " viewBox=\"0.00 0.00 892.00 288.00\" xmlns=\"http://www.w3.org/2000/svg\" xmlns:xlink=\"http://www.w3.org/1999/xlink\">\n",
       "<g id=\"graph0\" class=\"graph\" transform=\"scale(1 1) rotate(0) translate(4 284)\">\n",
       "<title>2Eq0gJ81ZIW7JMkYIxAL</title>\n",
       "<polygon fill=\"white\" stroke=\"none\" points=\"-4,4 -4,-284 888,-284 888,4 -4,4\"/>\n",
       "<!-- dQAFVD3bFSMsKDAH2GnF -->\n",
       "<g id=\"node1\" class=\"node\">\n",
       "<title>dQAFVD3bFSMsKDAH2GnF</title>\n",
       "<path fill=\"honeydew\" stroke=\"#065f46\" d=\"M448.75,-196C448.75,-196 12,-196 12,-196 6,-196 0,-190 0,-184 0,-184 0,-170 0,-170 0,-164 6,-158 12,-158 12,-158 448.75,-158 448.75,-158 454.75,-158 460.75,-164 460.75,-170 460.75,-170 460.75,-184 460.75,-184 460.75,-190 454.75,-196 448.75,-196\"/>\n",
       "<text text-anchor=\"start\" x=\"8\" y=\"-183.5\" font-family=\"Helvetica,sans-Serif\" font-size=\"10.00\">A CSV containing the experiment design of RxRx2, e.g. what cell type and treatment are in each well.</text>\n",
       "<text text-anchor=\"start\" x=\"161.38\" y=\"-173.5\" font-family=\"Monospace\" font-size=\"10.00\" fill=\"GREY\">id=dQAFVD3bFSMsKDAH2GnF</text>\n",
       "<text text-anchor=\"start\" x=\"197.38\" y=\"-163.5\" font-family=\"Monospace\" font-size=\"10.00\" fill=\"GREY\">suffix=.csv</text>\n",
       "</g>\n",
       "<!-- nWrb62McQ8aD0vSy5wDk -->\n",
       "<g id=\"node2\" class=\"node\">\n",
       "<title>nWrb62McQ8aD0vSy5wDk</title>\n",
       "<path fill=\"gainsboro\" stroke=\"#065f46\" d=\"M540.62,-122C540.62,-122 370.12,-122 370.12,-122 364.12,-122 358.12,-116 358.12,-110 358.12,-110 358.12,-86 358.12,-86 358.12,-80 364.12,-74 370.12,-74 370.12,-74 540.62,-74 540.62,-74 546.62,-74 552.62,-80 552.62,-86 552.62,-86 552.62,-110 552.62,-110 552.62,-116 546.62,-122 540.62,-122\"/>\n",
       "<text text-anchor=\"start\" x=\"366.12\" y=\"-109.5\" font-family=\"Helvetica,sans-Serif\" font-size=\"10.00\">📔 Validate and register RxRx2 metadata</text>\n",
       "<text text-anchor=\"start\" x=\"386.38\" y=\"-99.5\" font-family=\"Monospace\" font-size=\"10.00\" fill=\"GREY\">id=nWrb62McQ8aD0vSy5wDk</text>\n",
       "<text text-anchor=\"start\" x=\"368.38\" y=\"-89.5\" font-family=\"Monospace\" font-size=\"10.00\" fill=\"GREY\">type=notebook, user=Sunny Sun</text>\n",
       "<text text-anchor=\"start\" x=\"377.38\" y=\"-79.5\" font-family=\"Monospace\" font-size=\"10.00\" fill=\"GREY\">run_at=2023&#45;09&#45;19 11:05:15</text>\n",
       "</g>\n",
       "<!-- dQAFVD3bFSMsKDAH2GnF&#45;&gt;nWrb62McQ8aD0vSy5wDk -->\n",
       "<g id=\"edge1\" class=\"edge\">\n",
       "<title>dQAFVD3bFSMsKDAH2GnF&#45;&gt;nWrb62McQ8aD0vSy5wDk</title>\n",
       "<path fill=\"none\" stroke=\"dimgrey\" d=\"M284.27,-157.56C313.4,-147.59 349.79,-135.13 381.52,-124.27\"/>\n",
       "<polygon fill=\"dimgrey\" stroke=\"dimgrey\" points=\"381.82,-125.68 385.98,-122.41 380.68,-122.37 381.82,-125.68\"/>\n",
       "</g>\n",
       "<!-- 2Eq0gJ81ZIW7JMkYIxAL -->\n",
       "<g id=\"node4\" class=\"node\">\n",
       "<title>2Eq0gJ81ZIW7JMkYIxAL</title>\n",
       "<path fill=\"#10b981\" stroke=\"#065f46\" d=\"M604.75,-38C604.75,-38 306,-38 306,-38 300,-38 294,-32 294,-26 294,-26 294,-12 294,-12 294,-6 300,0 306,0 306,0 604.75,0 604.75,0 610.75,0 616.75,-6 616.75,-12 616.75,-12 616.75,-26 616.75,-26 616.75,-32 610.75,-38 604.75,-38\"/>\n",
       "<text text-anchor=\"start\" x=\"302\" y=\"-25.5\" font-family=\"Helvetica,sans-Serif\" font-size=\"10.00\">Metadata annotated deep learning embeddings for each RxRx2 image.</text>\n",
       "<text text-anchor=\"start\" x=\"386.38\" y=\"-15.5\" font-family=\"Monospace\" font-size=\"10.00\" fill=\"GREY\">id=2Eq0gJ81ZIW7JMkYIxAL</text>\n",
       "<text text-anchor=\"start\" x=\"419.38\" y=\"-5.5\" font-family=\"Monospace\" font-size=\"10.00\" fill=\"GREY\">suffix=.h5ad</text>\n",
       "</g>\n",
       "<!-- nWrb62McQ8aD0vSy5wDk&#45;&gt;2Eq0gJ81ZIW7JMkYIxAL -->\n",
       "<g id=\"edge3\" class=\"edge\">\n",
       "<title>nWrb62McQ8aD0vSy5wDk&#45;&gt;2Eq0gJ81ZIW7JMkYIxAL</title>\n",
       "<path fill=\"none\" stroke=\"dimgrey\" d=\"M455.38,-73.9C455.38,-64.59 455.38,-53.86 455.38,-44.42\"/>\n",
       "<polygon fill=\"dimgrey\" stroke=\"dimgrey\" points=\"457.13,-44.44 455.38,-39.44 453.63,-44.44 457.13,-44.44\"/>\n",
       "</g>\n",
       "<!-- pEyE33FWDeClYGk7D2Hp -->\n",
       "<g id=\"node3\" class=\"node\">\n",
       "<title>pEyE33FWDeClYGk7D2Hp</title>\n",
       "<path fill=\"honeydew\" stroke=\"#065f46\" d=\"M872,-196C872,-196 490.75,-196 490.75,-196 484.75,-196 478.75,-190 478.75,-184 478.75,-184 478.75,-170 478.75,-170 478.75,-164 484.75,-158 490.75,-158 490.75,-158 872,-158 872,-158 878,-158 884,-164 884,-170 884,-170 884,-184 884,-184 884,-190 878,-196 872,-196\"/>\n",
       "<text text-anchor=\"start\" x=\"486.75\" y=\"-183.5\" font-family=\"Helvetica,sans-Serif\" font-size=\"10.00\">A large CSV file containing all of the deep learning embeddings for each image of RxRx2.</text>\n",
       "<text text-anchor=\"start\" x=\"612.38\" y=\"-173.5\" font-family=\"Monospace\" font-size=\"10.00\" fill=\"GREY\">id=pEyE33FWDeClYGk7D2Hp</text>\n",
       "<text text-anchor=\"start\" x=\"648.38\" y=\"-163.5\" font-family=\"Monospace\" font-size=\"10.00\" fill=\"GREY\">suffix=.csv</text>\n",
       "</g>\n",
       "<!-- pEyE33FWDeClYGk7D2Hp&#45;&gt;nWrb62McQ8aD0vSy5wDk -->\n",
       "<g id=\"edge2\" class=\"edge\">\n",
       "<title>pEyE33FWDeClYGk7D2Hp&#45;&gt;nWrb62McQ8aD0vSy5wDk</title>\n",
       "<path fill=\"none\" stroke=\"dimgrey\" d=\"M627.24,-157.56C597.99,-147.59 561.43,-135.13 529.55,-124.27\"/>\n",
       "<polygon fill=\"dimgrey\" stroke=\"dimgrey\" points=\"530.37,-122.36 525.07,-122.41 529.24,-125.68 530.37,-122.36\"/>\n",
       "</g>\n",
       "<!-- i7jLL6JbSpPqqGFsm3dB -->\n",
       "<g id=\"node5\" class=\"node\">\n",
       "<title>i7jLL6JbSpPqqGFsm3dB</title>\n",
       "<path fill=\"gainsboro\" stroke=\"#065f46\" d=\"M559.75,-280C559.75,-280 351,-280 351,-280 345,-280 339,-274 339,-268 339,-268 339,-244 339,-244 339,-238 345,-232 351,-232 351,-232 559.75,-232 559.75,-232 565.75,-232 571.75,-238 571.75,-244 571.75,-244 571.75,-268 571.75,-268 571.75,-274 565.75,-280 559.75,-280\"/>\n",
       "<text text-anchor=\"start\" x=\"347\" y=\"-267.5\" font-family=\"Helvetica,sans-Serif\" font-size=\"10.00\">📔 Register RxRx2 metadata and embedding files</text>\n",
       "<text text-anchor=\"start\" x=\"386.38\" y=\"-257.5\" font-family=\"Monospace\" font-size=\"10.00\" fill=\"GREY\">id=i7jLL6JbSpPqqGFsm3dB</text>\n",
       "<text text-anchor=\"start\" x=\"368.38\" y=\"-247.5\" font-family=\"Monospace\" font-size=\"10.00\" fill=\"GREY\">type=notebook, user=Sunny Sun</text>\n",
       "<text text-anchor=\"start\" x=\"377.38\" y=\"-237.5\" font-family=\"Monospace\" font-size=\"10.00\" fill=\"GREY\">run_at=2023&#45;09&#45;19 10:58:12</text>\n",
       "</g>\n",
       "<!-- i7jLL6JbSpPqqGFsm3dB&#45;&gt;dQAFVD3bFSMsKDAH2GnF -->\n",
       "<g id=\"edge4\" class=\"edge\">\n",
       "<title>i7jLL6JbSpPqqGFsm3dB&#45;&gt;dQAFVD3bFSMsKDAH2GnF</title>\n",
       "<path fill=\"none\" stroke=\"dimgrey\" d=\"M386.95,-231.58C355.91,-220.96 319.56,-208.52 289.7,-198.3\"/>\n",
       "<polygon fill=\"dimgrey\" stroke=\"dimgrey\" points=\"290.5,-196.38 285.2,-196.42 289.37,-199.7 290.5,-196.38\"/>\n",
       "</g>\n",
       "<!-- i7jLL6JbSpPqqGFsm3dB&#45;&gt;pEyE33FWDeClYGk7D2Hp -->\n",
       "<g id=\"edge5\" class=\"edge\">\n",
       "<title>i7jLL6JbSpPqqGFsm3dB&#45;&gt;pEyE33FWDeClYGk7D2Hp</title>\n",
       "<path fill=\"none\" stroke=\"dimgrey\" d=\"M524.1,-231.58C555.28,-220.96 591.79,-208.52 621.79,-198.3\"/>\n",
       "<polygon fill=\"dimgrey\" stroke=\"dimgrey\" points=\"622.14,-199.69 626.31,-196.42 621.01,-196.38 622.14,-199.69\"/>\n",
       "</g>\n",
       "</g>\n",
       "</svg>\n"
      ],
      "text/plain": [
       "<graphviz.graphs.Digraph at 0x16498c8b0>"
      ]
     },
     "metadata": {},
     "output_type": "display_data"
    }
   ],
   "source": [
    "file.view_flow()"
   ]
  }
 ],
 "metadata": {
  "kernelspec": {
   "display_name": "Python 3 (ipykernel)",
   "language": "python",
   "name": "python3"
  },
  "language_info": {
   "codemirror_mode": {
    "name": "ipython",
    "version": 3
   },
   "file_extension": ".py",
   "mimetype": "text/x-python",
   "name": "python",
   "nbconvert_exporter": "python",
   "pygments_lexer": "ipython3",
   "version": "3.9.16"
  },
  "nbproject": {
   "id": "Znl9AYOyfjZ5",
   "parent": null,
   "pypackage": null,
   "time_init": "2023-05-12T08:12:15.993422+00:00",
   "user_handle": "giovp",
   "user_id": "eut8h4zv",
   "user_name": null,
   "version": "0"
  }
 },
 "nbformat": 4,
 "nbformat_minor": 5
}
