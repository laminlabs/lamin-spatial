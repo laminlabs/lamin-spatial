{
 "cells": [
  {
   "cell_type": "markdown",
   "metadata": {},
   "source": [
    "# Search and query RxRx1, RxRx2"
   ]
  },
  {
   "cell_type": "code",
   "execution_count": 1,
   "metadata": {},
   "outputs": [
    {
     "name": "stderr",
     "output_type": "stream",
     "text": [
      "2023-09-21 13:22:54,332:INFO - Found credentials in shared credentials file: ~/.aws/credentials\n"
     ]
    },
    {
     "name": "stdout",
     "output_type": "stream",
     "text": [
      "💡 loaded instance: sunnyosun/rxrx1-2 (lamindb 0.54.0)\n"
     ]
    }
   ],
   "source": [
    "import lamindb as ln\n",
    "import lnschema_bionty as lb\n",
    "import lnschema_lamin1 as ln1\n",
    "import duckdb"
   ]
  },
  {
   "cell_type": "code",
   "execution_count": 3,
   "metadata": {},
   "outputs": [
    {
     "name": "stdout",
     "output_type": "stream",
     "text": [
      "💡 notebook imports: duckdb==0.8.1 lamindb==0.54.0 lnschema_bionty==0.31.1 lnschema_lamin1==0.23.0\n",
      "💡 Transform(id='sx3wFSwnhCYYz8', name='Search and query RxRx1, RxRx2', short_name='search-query', version='0', type=notebook, updated_at=2023-09-21 11:23:10, created_by_id='kmvZDIX9')\n",
      "💡 Run(id='lyIGDhFyutVCERkiriqp', run_at=2023-09-21 11:23:10, transform_id='sx3wFSwnhCYYz8', created_by_id='kmvZDIX9')\n"
     ]
    }
   ],
   "source": [
    "ln.track()"
   ]
  },
  {
   "cell_type": "code",
   "execution_count": 4,
   "metadata": {},
   "outputs": [
    {
     "data": {
      "text/plain": [
       "PosixUPath('/Users/sunnysun/Library/Caches/lamindb/lamindata/rxrx1/embeddings.h5ad')"
      ]
     },
     "execution_count": 4,
     "metadata": {},
     "output_type": "execute_result"
    }
   ],
   "source": [
    "meta_file = ln.File.filter(key=\"rxrx1/embeddings.h5ad\").one()\n",
    "meta_file.stage()"
   ]
  },
  {
   "cell_type": "code",
   "execution_count": 5,
   "metadata": {},
   "outputs": [],
   "source": [
    "adata_backed = meta_file.backed()\n",
    "df = adata_backed.obs.reset_index()"
   ]
  },
  {
   "cell_type": "code",
   "execution_count": 6,
   "metadata": {},
   "outputs": [],
   "source": [
    "features = ln.Feature.lookup(return_field=\"name\")\n",
    "cell_lines = lb.CellLine.lookup(return_field=\"abbr\")\n",
    "sirnas = ln1.Treatment.lookup(return_field=\"name\")\n",
    "wells = ln1.Well.lookup(return_field=\"name\")"
   ]
  },
  {
   "cell_type": "code",
   "execution_count": 7,
   "metadata": {},
   "outputs": [],
   "source": [
    "filters = (\n",
    "    f\"{features.cell_type} == '{cell_lines.hep_g2_cell}' and     {features.sirna} ==\"\n",
    "    f\" '{sirnas.s19486}' and     {features.well} == '{wells.l20}' and    \"\n",
    "    f\" {features.plate} == '3' and {features.site} == '2'\"\n",
    ")"
   ]
  },
  {
   "cell_type": "code",
   "execution_count": 8,
   "metadata": {},
   "outputs": [
    {
     "data": {
      "text/plain": [
       "┌──────────────────┬────────────────┬───────────┬─────────┬───┬───────────┬────────┬──────────┬──────────────────────┐\n",
       "│     site_id      │    well_id     │ cell_type │ dataset │ … │ well_type │ sirna  │ sirna_id │      file_keys       │\n",
       "│     varchar      │    well_id     │ cell_type │ dataset │   │ well_type │ sirna  │ sirna_id │       varchar        │\n",
       "├──────────────────┼────────────────┼───────────┼─────────┼───┼───────────┼────────┼──────────┼──────────────────────┤\n",
       "│ HEPG2-11_3_L20_2 │ HEPG2-11_3_L20 │ HEPG2     │ test    │ … │ treatment │ s19486 │ 848      │ images/test/HEPG2-…  │\n",
       "├──────────────────┴────────────────┴───────────┴─────────┴───┴───────────┴────────┴──────────┴──────────────────────┤\n",
       "│ 1 rows                                                                                        12 columns (8 shown) │\n",
       "└────────────────────────────────────────────────────────────────────────────────────────────────────────────────────┘"
      ]
     },
     "execution_count": 8,
     "metadata": {},
     "output_type": "execute_result"
    }
   ],
   "source": [
    "duckdb.from_df(df).filter(filters)"
   ]
  },
  {
   "cell_type": "code",
   "execution_count": 9,
   "metadata": {},
   "outputs": [
    {
     "data": {
      "text/plain": [
       "┌──────────────────────────────────────────────┐\n",
       "│                  file_keys                   │\n",
       "│                   varchar                    │\n",
       "├──────────────────────────────────────────────┤\n",
       "│ images/test/HEPG2-11/Plate3/L20_s2_w1-w6.png │\n",
       "└──────────────────────────────────────────────┘"
      ]
     },
     "execution_count": 9,
     "metadata": {},
     "output_type": "execute_result"
    }
   ],
   "source": [
    "duckdb.from_df(df).filter(filters).file_keys"
   ]
  }
 ],
 "metadata": {
  "kernelspec": {
   "display_name": "py39",
   "language": "python",
   "name": "python3"
  },
  "language_info": {
   "codemirror_mode": {
    "name": "ipython",
    "version": 3
   },
   "file_extension": ".py",
   "mimetype": "text/x-python",
   "name": "python",
   "nbconvert_exporter": "python",
   "pygments_lexer": "ipython3",
   "version": "3.9.16"
  },
  "nbproject": {
   "id": "sx3wFSwnhCYY",
   "parent": null,
   "pypackage": null,
   "time_init": "2023-09-21T11:23:07.502143+00:00",
   "user_handle": null,
   "user_id": null,
   "user_name": null,
   "version": "0"
  },
  "orig_nbformat": 4
 },
 "nbformat": 4,
 "nbformat_minor": 2
}
