{
 "cells": [
  {
   "cell_type": "markdown",
   "metadata": {},
   "source": [
    "[![lamindata](https://img.shields.io/badge/laminlabs/rxrx-mediumseagreen)](https://lamin.ai/laminlabs/rxrx/record/core/Transform?id=sx3wFSwnhCYYz8)"
   ]
  },
  {
   "cell_type": "markdown",
   "metadata": {},
   "source": [
    "# RxRx"
   ]
  },
  {
   "cell_type": "markdown",
   "metadata": {},
   "source": [
    "[rxrx.ai](https://rxrx.ai/) hosts datasets produced with [Recursion](https://www.recursion.com/)'s platform.\n",
    "\n",
    "Here, we make these data accessible through a LaminDB instance: [laminlabs/rxrx](https://lamin.ai/laminlabs/rxrx).\n",
    "\n",
    "Specifically, we explore [RxRx1](https://www.rxrx.ai/rxrx1): 125k images for 1138 siRNA perturbation across 4 cell lines reading out 5 stains, image dimension is 512x512x6."
   ]
  },
  {
   "cell_type": "markdown",
   "metadata": {},
   "source": [
    "## Setup"
   ]
  },
  {
   "cell_type": "code",
   "execution_count": null,
   "metadata": {},
   "outputs": [],
   "source": [
    "!lamin load laminlabs/rxrx"
   ]
  },
  {
   "cell_type": "code",
   "execution_count": null,
   "metadata": {},
   "outputs": [],
   "source": [
    "import lamindb as ln\n",
    "import lnschema_bionty as lb\n",
    "import lnschema_lamin1 as ln1"
   ]
  },
  {
   "cell_type": "markdown",
   "metadata": {},
   "source": [
    "## Search & look up metadata"
   ]
  },
  {
   "cell_type": "markdown",
   "metadata": {},
   "source": [
    "We'll find all treatments in the `Treatment` registry:"
   ]
  },
  {
   "cell_type": "code",
   "execution_count": null,
   "metadata": {},
   "outputs": [],
   "source": [
    "df = ln1.Treatment.filter().df()"
   ]
  },
  {
   "cell_type": "markdown",
   "metadata": {},
   "source": [
    "There are 1572 treatments in total:"
   ]
  },
  {
   "cell_type": "code",
   "execution_count": null,
   "metadata": {},
   "outputs": [],
   "source": [
    "df.shape"
   ]
  },
  {
   "cell_type": "markdown",
   "metadata": {},
   "source": [
    "And two types of treatments:"
   ]
  },
  {
   "cell_type": "code",
   "execution_count": null,
   "metadata": {},
   "outputs": [],
   "source": [
    "df.system.unique()"
   ]
  },
  {
   "cell_type": "markdown",
   "metadata": {},
   "source": [
    "Let us create a look up object for siRNAs so that we can easily auto-complete queries involving it:"
   ]
  },
  {
   "cell_type": "code",
   "execution_count": null,
   "metadata": {},
   "outputs": [],
   "source": [
    "sirnas = ln1.Treatment.filter(system=\"siRNA\").lookup(return_field=\"name\")"
   ]
  },
  {
   "cell_type": "markdown",
   "metadata": {},
   "source": [
    "We're also interested in measured features, cell lines & wells:"
   ]
  },
  {
   "cell_type": "code",
   "execution_count": null,
   "metadata": {},
   "outputs": [],
   "source": [
    "features = ln.Feature.lookup(return_field=\"name\")\n",
    "cell_lines = lb.CellLine.lookup(return_field=\"abbr\")\n",
    "wells = ln1.Well.lookup(return_field=\"name\")"
   ]
  },
  {
   "cell_type": "markdown",
   "metadata": {},
   "source": [
    "## Load the dataset"
   ]
  },
  {
   "cell_type": "markdown",
   "metadata": {},
   "source": [
    "In this instance, there is only a single dataset:"
   ]
  },
  {
   "cell_type": "code",
   "execution_count": null,
   "metadata": {},
   "outputs": [],
   "source": [
    "ln.Dataset.filter().df()"
   ]
  },
  {
   "cell_type": "markdown",
   "metadata": {},
   "source": [
    "Let us get the corresponding object:"
   ]
  },
  {
   "cell_type": "code",
   "execution_count": null,
   "metadata": {},
   "outputs": [],
   "source": [
    "dataset = ln.Dataset.filter(uid=\"vPl0AmfOaiPEsceri2Dt\").one()"
   ]
  },
  {
   "cell_type": "code",
   "execution_count": null,
   "metadata": {},
   "outputs": [],
   "source": [
    "dataset"
   ]
  },
  {
   "cell_type": "markdown",
   "metadata": {},
   "source": [
    "The dataset consists in a metadata file:"
   ]
  },
  {
   "cell_type": "code",
   "execution_count": null,
   "metadata": {},
   "outputs": [],
   "source": [
    "dataset.file"
   ]
  },
  {
   "cell_type": "markdown",
   "metadata": {},
   "source": [
    "And a universal path object that allows you to access individual images based on a folder on GCP: "
   ]
  },
  {
   "cell_type": "code",
   "execution_count": null,
   "metadata": {},
   "outputs": [],
   "source": [
    "dataset.path"
   ]
  },
  {
   "cell_type": "markdown",
   "metadata": {},
   "source": [
    "We can explore the individual image files like so:"
   ]
  },
  {
   "cell_type": "code",
   "execution_count": null,
   "metadata": {
    "tags": [
     "hide-output"
    ]
   },
   "outputs": [],
   "source": [
    "ln.File.view_tree(dataset.path, level=2)"
   ]
  },
  {
   "cell_type": "markdown",
   "metadata": {},
   "source": [
    "## Query image files"
   ]
  },
  {
   "cell_type": "markdown",
   "metadata": {},
   "source": [
    "Because we didn't choose to register each image as a record in the {class}`~lamindb.File` registry, we have to query the images through the metadata file of the dataset:"
   ]
  },
  {
   "cell_type": "code",
   "execution_count": null,
   "metadata": {},
   "outputs": [],
   "source": [
    "df = dataset.file.load()"
   ]
  },
  {
   "cell_type": "markdown",
   "metadata": {},
   "source": [
    "We can query a subset of images using metadata registries & pandas query syntax:"
   ]
  },
  {
   "cell_type": "code",
   "execution_count": null,
   "metadata": {},
   "outputs": [],
   "source": [
    "query = df[\n",
    "    (df.cell_type == cell_lines.hep_g2_cell)\n",
    "    & (df.sirna == sirnas.s19486)\n",
    "    & (df.well == wells.l20)\n",
    "    & (df.plate == \"3\")\n",
    "    & (df.site == \"2\")\n",
    "]\n",
    "\n",
    "query"
   ]
  },
  {
   "cell_type": "markdown",
   "metadata": {},
   "source": [
    "To access the individual images based on this query result, we "
   ]
  },
  {
   "cell_type": "code",
   "execution_count": null,
   "metadata": {},
   "outputs": [],
   "source": [
    "images = [dataset.path.parent / key for key in query.file_keys]\n",
    "\n",
    "images"
   ]
  },
  {
   "cell_type": "markdown",
   "metadata": {},
   "source": [
    "### DuckDB\n",
    "\n",
    "As an alternative to pandas, we could also use duckdb to query image metadata.\n",
    "\n",
    ":::{dropdown}\n",
    "\n",
    "```\n",
    "import duckdb\n",
    "\n",
    "filter = (\n",
    "    f\"{features.cell_type} == '{cell_lines.hep_g2_cell}' and {features.sirna} ==\"\n",
    "    f\" '{sirnas.s19486}' and {features.well} == '{wells.l20}' and \"\n",
    "    f\"{features.plate} == '3' and {features.site} == '2'\"\n",
    ")\n",
    "\n",
    "parquet_data = duckdb.from_parquet(str(file.path))\n",
    "\n",
    "parquet_data.filter(filter)\n",
    "```\n",
    "\n",
    ":::"
   ]
  }
 ],
 "metadata": {
  "kernelspec": {
   "display_name": "py39",
   "language": "python",
   "name": "python3"
  },
  "language_info": {
   "codemirror_mode": {
    "name": "ipython",
    "version": 3
   },
   "file_extension": ".py",
   "mimetype": "text/x-python",
   "name": "python",
   "nbconvert_exporter": "python",
   "pygments_lexer": "ipython3",
   "version": "3.10.13"
  },
  "nbproject": {
   "id": "sx3wFSwnhCYY",
   "parent": null,
   "pypackage": null,
   "time_init": "2023-09-21T11:23:07.502143+00:00",
   "user_handle": null,
   "user_id": null,
   "user_name": null,
   "version": "0"
  }
 },
 "nbformat": 4,
 "nbformat_minor": 2
}
