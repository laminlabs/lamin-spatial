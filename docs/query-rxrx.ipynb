{
 "cells": [
  {
   "cell_type": "markdown",
   "metadata": {},
   "source": [
    "# Search and query RxRx1, RxRx2"
   ]
  },
  {
   "cell_type": "code",
   "execution_count": 1,
   "metadata": {},
   "outputs": [
    {
     "name": "stdout",
     "output_type": "stream",
     "text": [
      "2023-09-21 15:19:17,808:INFO - Found credentials in shared credentials file: ~/.aws/credentials\n",
      "❗ updating local SQLite & locking cloud SQLite (sync back & unlock: lamin close)\n",
      "💡 loaded instance: sunnyosun/rxrx1-2\n",
      "\u001b[0m"
     ]
    }
   ],
   "source": [
    "!lamin load sunnyosun/rxrx1-2"
   ]
  },
  {
   "cell_type": "code",
   "execution_count": 2,
   "metadata": {},
   "outputs": [
    {
     "name": "stderr",
     "output_type": "stream",
     "text": [
      "2023-09-21 15:19:24,972:INFO - Found credentials in shared credentials file: ~/.aws/credentials\n"
     ]
    },
    {
     "name": "stdout",
     "output_type": "stream",
     "text": [
      "💡 loaded instance: sunnyosun/rxrx1-2 (lamindb 0.54.0)\n"
     ]
    }
   ],
   "source": [
    "import lamindb as ln\n",
    "import lnschema_bionty as lb\n",
    "import lnschema_lamin1 as ln1"
   ]
  },
  {
   "cell_type": "code",
   "execution_count": 3,
   "metadata": {},
   "outputs": [
    {
     "name": "stdout",
     "output_type": "stream",
     "text": [
      "💡 notebook imports: duckdb==0.8.1 lamindb==0.54.0 lnschema_bionty==0.31.1 lnschema_lamin1==0.23.0\n",
      "💡 Transform(id='sx3wFSwnhCYYz8', name='Search and query RxRx1, RxRx2', short_name='query-rxrx', version='0', type='notebook', updated_at=2023-09-21 12:30:46, created_by_id='kmvZDIX9')\n",
      "💡 Run(id='lyIGDhFyutVCERkiriqp', run_at=2023-09-21 13:19:28, transform_id='sx3wFSwnhCYYz8', created_by_id='kmvZDIX9')\n",
      "💡   parent transforms:\n",
      "   - Transform(id='Zo0qJt4IQPsbz8', name='Validate and register RxRx1 metadata', short_name='rxrx1-register', version='0', type='notebook', updated_at=2023-09-21 13:03:50, created_by_id='kmvZDIX9')\n",
      "   - Transform(id='kq1P1Aho94siz8', name='Register RxRx1 metadata and embedding files', short_name='rxrx1-download', version='0', type='notebook', updated_at=2023-09-19 10:57:46, created_by_id='kmvZDIX9')\n"
     ]
    }
   ],
   "source": [
    "ln.track()"
   ]
  },
  {
   "cell_type": "code",
   "execution_count": 4,
   "metadata": {},
   "outputs": [],
   "source": [
    "features = ln.Feature.lookup(return_field=\"name\")\n",
    "cell_lines = lb.CellLine.lookup(return_field=\"abbr\")\n",
    "sirnas = ln1.Treatment.lookup(return_field=\"name\")\n",
    "wells = ln1.Well.lookup(return_field=\"name\")"
   ]
  },
  {
   "cell_type": "markdown",
   "metadata": {},
   "source": [
    "## Pandas"
   ]
  },
  {
   "cell_type": "code",
   "execution_count": 5,
   "metadata": {},
   "outputs": [],
   "source": [
    "file = ln.File.filter(key=\"rxrx1/metadata.parquet\").one()\n",
    "df = file.load()"
   ]
  },
  {
   "cell_type": "code",
   "execution_count": 6,
   "metadata": {},
   "outputs": [
    {
     "data": {
      "text/html": [
       "<div>\n",
       "<style scoped>\n",
       "    .dataframe tbody tr th:only-of-type {\n",
       "        vertical-align: middle;\n",
       "    }\n",
       "\n",
       "    .dataframe tbody tr th {\n",
       "        vertical-align: top;\n",
       "    }\n",
       "\n",
       "    .dataframe thead th {\n",
       "        text-align: right;\n",
       "    }\n",
       "</style>\n",
       "<table border=\"1\" class=\"dataframe\">\n",
       "  <thead>\n",
       "    <tr style=\"text-align: right;\">\n",
       "      <th></th>\n",
       "      <th>site_id</th>\n",
       "      <th>well_id</th>\n",
       "      <th>cell_type</th>\n",
       "      <th>dataset</th>\n",
       "      <th>experiment</th>\n",
       "      <th>plate</th>\n",
       "      <th>well</th>\n",
       "      <th>site</th>\n",
       "      <th>well_type</th>\n",
       "      <th>sirna</th>\n",
       "      <th>sirna_id</th>\n",
       "      <th>file_keys</th>\n",
       "    </tr>\n",
       "  </thead>\n",
       "  <tbody>\n",
       "    <tr>\n",
       "      <th>54582</th>\n",
       "      <td>HEPG2-11_3_L20_2</td>\n",
       "      <td>HEPG2-11_3_L20</td>\n",
       "      <td>HEPG2</td>\n",
       "      <td>test</td>\n",
       "      <td>HEPG2-11</td>\n",
       "      <td>3</td>\n",
       "      <td>L20</td>\n",
       "      <td>2</td>\n",
       "      <td>treatment</td>\n",
       "      <td>s19486</td>\n",
       "      <td>848</td>\n",
       "      <td>images/test/HEPG2-11/Plate3/L20_s2_w1.png</td>\n",
       "    </tr>\n",
       "    <tr>\n",
       "      <th>54583</th>\n",
       "      <td>HEPG2-11_3_L20_2</td>\n",
       "      <td>HEPG2-11_3_L20</td>\n",
       "      <td>HEPG2</td>\n",
       "      <td>test</td>\n",
       "      <td>HEPG2-11</td>\n",
       "      <td>3</td>\n",
       "      <td>L20</td>\n",
       "      <td>2</td>\n",
       "      <td>treatment</td>\n",
       "      <td>s19486</td>\n",
       "      <td>848</td>\n",
       "      <td>images/test/HEPG2-11/Plate3/L20_s2_w2.png</td>\n",
       "    </tr>\n",
       "    <tr>\n",
       "      <th>54584</th>\n",
       "      <td>HEPG2-11_3_L20_2</td>\n",
       "      <td>HEPG2-11_3_L20</td>\n",
       "      <td>HEPG2</td>\n",
       "      <td>test</td>\n",
       "      <td>HEPG2-11</td>\n",
       "      <td>3</td>\n",
       "      <td>L20</td>\n",
       "      <td>2</td>\n",
       "      <td>treatment</td>\n",
       "      <td>s19486</td>\n",
       "      <td>848</td>\n",
       "      <td>images/test/HEPG2-11/Plate3/L20_s2_w3.png</td>\n",
       "    </tr>\n",
       "    <tr>\n",
       "      <th>54585</th>\n",
       "      <td>HEPG2-11_3_L20_2</td>\n",
       "      <td>HEPG2-11_3_L20</td>\n",
       "      <td>HEPG2</td>\n",
       "      <td>test</td>\n",
       "      <td>HEPG2-11</td>\n",
       "      <td>3</td>\n",
       "      <td>L20</td>\n",
       "      <td>2</td>\n",
       "      <td>treatment</td>\n",
       "      <td>s19486</td>\n",
       "      <td>848</td>\n",
       "      <td>images/test/HEPG2-11/Plate3/L20_s2_w4.png</td>\n",
       "    </tr>\n",
       "    <tr>\n",
       "      <th>54586</th>\n",
       "      <td>HEPG2-11_3_L20_2</td>\n",
       "      <td>HEPG2-11_3_L20</td>\n",
       "      <td>HEPG2</td>\n",
       "      <td>test</td>\n",
       "      <td>HEPG2-11</td>\n",
       "      <td>3</td>\n",
       "      <td>L20</td>\n",
       "      <td>2</td>\n",
       "      <td>treatment</td>\n",
       "      <td>s19486</td>\n",
       "      <td>848</td>\n",
       "      <td>images/test/HEPG2-11/Plate3/L20_s2_w5.png</td>\n",
       "    </tr>\n",
       "    <tr>\n",
       "      <th>54587</th>\n",
       "      <td>HEPG2-11_3_L20_2</td>\n",
       "      <td>HEPG2-11_3_L20</td>\n",
       "      <td>HEPG2</td>\n",
       "      <td>test</td>\n",
       "      <td>HEPG2-11</td>\n",
       "      <td>3</td>\n",
       "      <td>L20</td>\n",
       "      <td>2</td>\n",
       "      <td>treatment</td>\n",
       "      <td>s19486</td>\n",
       "      <td>848</td>\n",
       "      <td>images/test/HEPG2-11/Plate3/L20_s2_w6.png</td>\n",
       "    </tr>\n",
       "  </tbody>\n",
       "</table>\n",
       "</div>"
      ],
      "text/plain": [
       "                site_id         well_id cell_type dataset experiment plate  \\\n",
       "54582  HEPG2-11_3_L20_2  HEPG2-11_3_L20     HEPG2    test   HEPG2-11     3   \n",
       "54583  HEPG2-11_3_L20_2  HEPG2-11_3_L20     HEPG2    test   HEPG2-11     3   \n",
       "54584  HEPG2-11_3_L20_2  HEPG2-11_3_L20     HEPG2    test   HEPG2-11     3   \n",
       "54585  HEPG2-11_3_L20_2  HEPG2-11_3_L20     HEPG2    test   HEPG2-11     3   \n",
       "54586  HEPG2-11_3_L20_2  HEPG2-11_3_L20     HEPG2    test   HEPG2-11     3   \n",
       "54587  HEPG2-11_3_L20_2  HEPG2-11_3_L20     HEPG2    test   HEPG2-11     3   \n",
       "\n",
       "      well site  well_type   sirna sirna_id  \\\n",
       "54582  L20    2  treatment  s19486      848   \n",
       "54583  L20    2  treatment  s19486      848   \n",
       "54584  L20    2  treatment  s19486      848   \n",
       "54585  L20    2  treatment  s19486      848   \n",
       "54586  L20    2  treatment  s19486      848   \n",
       "54587  L20    2  treatment  s19486      848   \n",
       "\n",
       "                                       file_keys  \n",
       "54582  images/test/HEPG2-11/Plate3/L20_s2_w1.png  \n",
       "54583  images/test/HEPG2-11/Plate3/L20_s2_w2.png  \n",
       "54584  images/test/HEPG2-11/Plate3/L20_s2_w3.png  \n",
       "54585  images/test/HEPG2-11/Plate3/L20_s2_w4.png  \n",
       "54586  images/test/HEPG2-11/Plate3/L20_s2_w5.png  \n",
       "54587  images/test/HEPG2-11/Plate3/L20_s2_w6.png  "
      ]
     },
     "execution_count": 6,
     "metadata": {},
     "output_type": "execute_result"
    }
   ],
   "source": [
    "df[\n",
    "    (df.cell_type == cell_lines.hep_g2_cell)\n",
    "    & (df.sirna == sirnas.s19486)\n",
    "    & (df.well == wells.l20)\n",
    "    & (df.plate == \"3\")\n",
    "    & (df.site == \"2\")\n",
    "]"
   ]
  },
  {
   "cell_type": "markdown",
   "metadata": {},
   "source": [
    "## duckdb\n",
    "\n",
    "Using duckdb to query from the cloud parquet file without downloading:"
   ]
  },
  {
   "cell_type": "code",
   "execution_count": 7,
   "metadata": {},
   "outputs": [],
   "source": [
    "# pip install duckdb\n",
    "import duckdb"
   ]
  },
  {
   "cell_type": "code",
   "execution_count": 8,
   "metadata": {},
   "outputs": [],
   "source": [
    "filters = (\n",
    "    f\"{features.cell_type} == '{cell_lines.hep_g2_cell}' and {features.sirna} ==\"\n",
    "    f\" '{sirnas.s19486}' and {features.well} == '{wells.l20}' and \"\n",
    "    f\"{features.plate} == '3' and {features.site} == '2'\"\n",
    ")"
   ]
  },
  {
   "cell_type": "code",
   "execution_count": 9,
   "metadata": {},
   "outputs": [
    {
     "data": {
      "text/plain": [
       "\"cell_type == 'HEPG2' and sirna == 's19486' and well == 'L20' and plate == '3' and site == '2'\""
      ]
     },
     "execution_count": 9,
     "metadata": {},
     "output_type": "execute_result"
    }
   ],
   "source": [
    "filters"
   ]
  },
  {
   "cell_type": "code",
   "execution_count": 29,
   "metadata": {},
   "outputs": [],
   "source": [
    "# requires httpfs extension\n",
    "parquet_data = duckdb.from_parquet(str(file.path))"
   ]
  },
  {
   "cell_type": "code",
   "execution_count": 30,
   "metadata": {},
   "outputs": [
    {
     "data": {
      "application/vnd.jupyter.widget-view+json": {
       "model_id": "090a0d6ede2140bbae469515c95a8cdf",
       "version_major": 2,
       "version_minor": 0
      },
      "text/plain": [
       "FloatProgress(value=0.0, layout=Layout(width='auto'), style=ProgressStyle(bar_color='black'))"
      ]
     },
     "metadata": {},
     "output_type": "display_data"
    },
    {
     "data": {
      "text/plain": [
       "┌──────────────────┬────────────────┬───────────┬─────────┬───┬───────────┬─────────┬──────────┬──────────────────────┐\n",
       "│     site_id      │    well_id     │ cell_type │ dataset │ … │ well_type │  sirna  │ sirna_id │      file_keys       │\n",
       "│     varchar      │    varchar     │  varchar  │ varchar │   │  varchar  │ varchar │ varchar  │       varchar        │\n",
       "├──────────────────┼────────────────┼───────────┼─────────┼───┼───────────┼─────────┼──────────┼──────────────────────┤\n",
       "│ HEPG2-11_3_L20_2 │ HEPG2-11_3_L20 │ HEPG2     │ test    │ … │ treatment │ s19486  │ 848      │ images/test/HEPG2-…  │\n",
       "│ HEPG2-11_3_L20_2 │ HEPG2-11_3_L20 │ HEPG2     │ test    │ … │ treatment │ s19486  │ 848      │ images/test/HEPG2-…  │\n",
       "│ HEPG2-11_3_L20_2 │ HEPG2-11_3_L20 │ HEPG2     │ test    │ … │ treatment │ s19486  │ 848      │ images/test/HEPG2-…  │\n",
       "│ HEPG2-11_3_L20_2 │ HEPG2-11_3_L20 │ HEPG2     │ test    │ … │ treatment │ s19486  │ 848      │ images/test/HEPG2-…  │\n",
       "│ HEPG2-11_3_L20_2 │ HEPG2-11_3_L20 │ HEPG2     │ test    │ … │ treatment │ s19486  │ 848      │ images/test/HEPG2-…  │\n",
       "│ HEPG2-11_3_L20_2 │ HEPG2-11_3_L20 │ HEPG2     │ test    │ … │ treatment │ s19486  │ 848      │ images/test/HEPG2-…  │\n",
       "├──────────────────┴────────────────┴───────────┴─────────┴───┴───────────┴─────────┴──────────┴──────────────────────┤\n",
       "│ 6 rows                                                                                         12 columns (8 shown) │\n",
       "└─────────────────────────────────────────────────────────────────────────────────────────────────────────────────────┘"
      ]
     },
     "execution_count": 30,
     "metadata": {},
     "output_type": "execute_result"
    }
   ],
   "source": [
    "parquet_data.filter(filters)"
   ]
  },
  {
   "cell_type": "markdown",
   "metadata": {},
   "source": [
    "Get the corresponding embeddings:"
   ]
  },
  {
   "cell_type": "code",
   "execution_count": 12,
   "metadata": {},
   "outputs": [],
   "source": [
    "embedding_file = ln.File.filter(key=\"rxrx1/embeddings.h5ad\").one()\n",
    "embedding = embedding_file.load()"
   ]
  },
  {
   "cell_type": "code",
   "execution_count": 13,
   "metadata": {},
   "outputs": [
    {
     "data": {
      "text/plain": [
       "AnnData object with n_obs × n_vars = 125510 × 128\n",
       "    obs: 'well_id', 'cell_type', 'dataset', 'experiment', 'plate', 'well', 'site', 'well_type', 'sirna', 'sirna_id', 'file_keys'"
      ]
     },
     "execution_count": 13,
     "metadata": {},
     "output_type": "execute_result"
    }
   ],
   "source": [
    "embedding"
   ]
  },
  {
   "cell_type": "code",
   "execution_count": 21,
   "metadata": {},
   "outputs": [
    {
     "data": {
      "text/html": [
       "<div>\n",
       "<style scoped>\n",
       "    .dataframe tbody tr th:only-of-type {\n",
       "        vertical-align: middle;\n",
       "    }\n",
       "\n",
       "    .dataframe tbody tr th {\n",
       "        vertical-align: top;\n",
       "    }\n",
       "\n",
       "    .dataframe thead th {\n",
       "        text-align: right;\n",
       "    }\n",
       "</style>\n",
       "<table border=\"1\" class=\"dataframe\">\n",
       "  <thead>\n",
       "    <tr style=\"text-align: right;\">\n",
       "      <th></th>\n",
       "      <th>feature_0</th>\n",
       "      <th>feature_1</th>\n",
       "      <th>feature_2</th>\n",
       "      <th>feature_3</th>\n",
       "      <th>feature_4</th>\n",
       "      <th>feature_5</th>\n",
       "      <th>feature_6</th>\n",
       "      <th>feature_7</th>\n",
       "      <th>feature_8</th>\n",
       "      <th>feature_9</th>\n",
       "      <th>...</th>\n",
       "      <th>feature_118</th>\n",
       "      <th>feature_119</th>\n",
       "      <th>feature_120</th>\n",
       "      <th>feature_121</th>\n",
       "      <th>feature_122</th>\n",
       "      <th>feature_123</th>\n",
       "      <th>feature_124</th>\n",
       "      <th>feature_125</th>\n",
       "      <th>feature_126</th>\n",
       "      <th>feature_127</th>\n",
       "    </tr>\n",
       "    <tr>\n",
       "      <th>site_id</th>\n",
       "      <th></th>\n",
       "      <th></th>\n",
       "      <th></th>\n",
       "      <th></th>\n",
       "      <th></th>\n",
       "      <th></th>\n",
       "      <th></th>\n",
       "      <th></th>\n",
       "      <th></th>\n",
       "      <th></th>\n",
       "      <th></th>\n",
       "      <th></th>\n",
       "      <th></th>\n",
       "      <th></th>\n",
       "      <th></th>\n",
       "      <th></th>\n",
       "      <th></th>\n",
       "      <th></th>\n",
       "      <th></th>\n",
       "      <th></th>\n",
       "      <th></th>\n",
       "    </tr>\n",
       "  </thead>\n",
       "  <tbody>\n",
       "    <tr>\n",
       "      <th>HEPG2-11_3_L20_2</th>\n",
       "      <td>2.021484</td>\n",
       "      <td>0.39917</td>\n",
       "      <td>1.97168</td>\n",
       "      <td>3.021484</td>\n",
       "      <td>0.157104</td>\n",
       "      <td>2.697266</td>\n",
       "      <td>-2.542969</td>\n",
       "      <td>-0.251709</td>\n",
       "      <td>0.732422</td>\n",
       "      <td>-0.24707</td>\n",
       "      <td>...</td>\n",
       "      <td>-2.638672</td>\n",
       "      <td>-0.043182</td>\n",
       "      <td>-0.63623</td>\n",
       "      <td>0.874023</td>\n",
       "      <td>-0.013046</td>\n",
       "      <td>-0.657715</td>\n",
       "      <td>1.760742</td>\n",
       "      <td>-0.081848</td>\n",
       "      <td>-1.27832</td>\n",
       "      <td>0.573242</td>\n",
       "    </tr>\n",
       "  </tbody>\n",
       "</table>\n",
       "<p>1 rows × 128 columns</p>\n",
       "</div>"
      ],
      "text/plain": [
       "                  feature_0  feature_1  feature_2  feature_3  feature_4  \\\n",
       "site_id                                                                   \n",
       "HEPG2-11_3_L20_2   2.021484    0.39917    1.97168   3.021484   0.157104   \n",
       "\n",
       "                  feature_5  feature_6  feature_7  feature_8  feature_9  ...  \\\n",
       "site_id                                                                  ...   \n",
       "HEPG2-11_3_L20_2   2.697266  -2.542969  -0.251709   0.732422   -0.24707  ...   \n",
       "\n",
       "                  feature_118  feature_119  feature_120  feature_121  \\\n",
       "site_id                                                                \n",
       "HEPG2-11_3_L20_2    -2.638672    -0.043182     -0.63623     0.874023   \n",
       "\n",
       "                  feature_122  feature_123  feature_124  feature_125  \\\n",
       "site_id                                                                \n",
       "HEPG2-11_3_L20_2    -0.013046    -0.657715     1.760742    -0.081848   \n",
       "\n",
       "                  feature_126  feature_127  \n",
       "site_id                                     \n",
       "HEPG2-11_3_L20_2     -1.27832     0.573242  \n",
       "\n",
       "[1 rows x 128 columns]"
      ]
     },
     "execution_count": 21,
     "metadata": {},
     "output_type": "execute_result"
    }
   ],
   "source": [
    "embedding[\"HEPG2-11_3_L20_2\", :].to_df()"
   ]
  },
  {
   "cell_type": "code",
   "execution_count": 22,
   "metadata": {},
   "outputs": [
    {
     "name": "stdout",
     "output_type": "stream",
     "text": [
      "2023-09-21 15:23:14,392:INFO - Found credentials in shared credentials file: ~/.aws/credentials\n",
      "❗ updating & unlocking cloud SQLite 's3://lamindata/rxrx1-2.lndb' of instance 'sunnyosun/rxrx1-2'\n",
      "✅ closed instance: sunnyosun/rxrx1-2\n"
     ]
    }
   ],
   "source": [
    "# close the SQLite instance\n",
    "!lamin close"
   ]
  }
 ],
 "metadata": {
  "kernelspec": {
   "display_name": "py39",
   "language": "python",
   "name": "python3"
  },
  "language_info": {
   "codemirror_mode": {
    "name": "ipython",
    "version": 3
   },
   "file_extension": ".py",
   "mimetype": "text/x-python",
   "name": "python",
   "nbconvert_exporter": "python",
   "pygments_lexer": "ipython3",
   "version": "3.9.16"
  },
  "nbproject": {
   "id": "sx3wFSwnhCYY",
   "parent": null,
   "pypackage": null,
   "time_init": "2023-09-21T11:23:07.502143+00:00",
   "user_handle": null,
   "user_id": null,
   "user_name": null,
   "version": "0"
  },
  "orig_nbformat": 4
 },
 "nbformat": 4,
 "nbformat_minor": 2
}
