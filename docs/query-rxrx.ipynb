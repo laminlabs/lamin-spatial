{
 "cells": [
  {
   "cell_type": "markdown",
   "metadata": {},
   "source": [
    "# Search and query RxRx1, RxRx2"
   ]
  },
  {
   "cell_type": "code",
   "execution_count": 1,
   "metadata": {},
   "outputs": [
    {
     "name": "stdout",
     "output_type": "stream",
     "text": [
      "2023-09-21 14:30:30,770:INFO - Found credentials in shared credentials file: ~/.aws/credentials\n",
      "❗ updating local SQLite & locking cloud SQLite (sync back & unlock: lamin close)\n",
      "💡 loaded instance: sunnyosun/rxrx1-2\n",
      "\u001b[0m"
     ]
    }
   ],
   "source": [
    "!lamin load sunnyosun/rxrx1-2"
   ]
  },
  {
   "cell_type": "code",
   "execution_count": 2,
   "metadata": {},
   "outputs": [
    {
     "name": "stderr",
     "output_type": "stream",
     "text": [
      "2023-09-21 14:30:37,954:INFO - Found credentials in shared credentials file: ~/.aws/credentials\n"
     ]
    },
    {
     "name": "stdout",
     "output_type": "stream",
     "text": [
      "💡 loaded instance: sunnyosun/rxrx1-2 (lamindb 0.54.0)\n"
     ]
    }
   ],
   "source": [
    "import lamindb as ln\n",
    "import lnschema_bionty as lb\n",
    "import lnschema_lamin1 as ln1"
   ]
  },
  {
   "cell_type": "code",
   "execution_count": 3,
   "metadata": {},
   "outputs": [
    {
     "name": "stdout",
     "output_type": "stream",
     "text": [
      "💡 notebook imports: duckdb==0.8.1 lamindb==0.54.0 lnschema_bionty==0.31.1 lnschema_lamin1==0.23.0\n",
      "💡 Transform(id='sx3wFSwnhCYYz8', name='Search and query RxRx1, RxRx2', short_name='query-rxrx', version='0', type='notebook', updated_at=2023-09-21 12:30:46, created_by_id='kmvZDIX9')\n",
      "💡 Run(id='lyIGDhFyutVCERkiriqp', run_at=2023-09-21 12:30:46, transform_id='sx3wFSwnhCYYz8', created_by_id='kmvZDIX9')\n",
      "💡   parent transforms:\n",
      "   - Transform(id='Zo0qJt4IQPsbz8', name='Validate and register RxRx1 metadata', short_name='rxrx1-register', version='0', type='notebook', updated_at=2023-09-21 12:06:11, created_by_id='kmvZDIX9')\n",
      "   - Transform(id='kq1P1Aho94siz8', name='Register RxRx1 metadata and embedding files', short_name='rxrx1-download', version='0', type='notebook', updated_at=2023-09-19 10:57:46, created_by_id='kmvZDIX9')\n"
     ]
    }
   ],
   "source": [
    "ln.track()"
   ]
  },
  {
   "cell_type": "code",
   "execution_count": 3,
   "metadata": {},
   "outputs": [],
   "source": [
    "features = ln.Feature.lookup(return_field=\"name\")\n",
    "cell_lines = lb.CellLine.lookup(return_field=\"abbr\")\n",
    "sirnas = ln1.Treatment.lookup(return_field=\"name\")\n",
    "wells = ln1.Well.lookup(return_field=\"name\")"
   ]
  },
  {
   "cell_type": "markdown",
   "metadata": {},
   "source": [
    "## Pandas"
   ]
  },
  {
   "cell_type": "code",
   "execution_count": 4,
   "metadata": {},
   "outputs": [],
   "source": [
    "file = ln.File.filter(key=\"rxrx1/metadata.parquet\").one()\n",
    "df = file.load()"
   ]
  },
  {
   "cell_type": "code",
   "execution_count": 5,
   "metadata": {},
   "outputs": [
    {
     "data": {
      "text/html": [
       "<div>\n",
       "<style scoped>\n",
       "    .dataframe tbody tr th:only-of-type {\n",
       "        vertical-align: middle;\n",
       "    }\n",
       "\n",
       "    .dataframe tbody tr th {\n",
       "        vertical-align: top;\n",
       "    }\n",
       "\n",
       "    .dataframe thead th {\n",
       "        text-align: right;\n",
       "    }\n",
       "</style>\n",
       "<table border=\"1\" class=\"dataframe\">\n",
       "  <thead>\n",
       "    <tr style=\"text-align: right;\">\n",
       "      <th></th>\n",
       "      <th>site_id</th>\n",
       "      <th>well_id</th>\n",
       "      <th>cell_type</th>\n",
       "      <th>dataset</th>\n",
       "      <th>experiment</th>\n",
       "      <th>plate</th>\n",
       "      <th>well</th>\n",
       "      <th>site</th>\n",
       "      <th>well_type</th>\n",
       "      <th>sirna</th>\n",
       "      <th>sirna_id</th>\n",
       "      <th>file_keys</th>\n",
       "    </tr>\n",
       "  </thead>\n",
       "  <tbody>\n",
       "    <tr>\n",
       "      <th>9097</th>\n",
       "      <td>HEPG2-11_3_L20_2</td>\n",
       "      <td>HEPG2-11_3_L20</td>\n",
       "      <td>HEPG2</td>\n",
       "      <td>test</td>\n",
       "      <td>HEPG2-11</td>\n",
       "      <td>3</td>\n",
       "      <td>L20</td>\n",
       "      <td>2</td>\n",
       "      <td>treatment</td>\n",
       "      <td>s19486</td>\n",
       "      <td>848</td>\n",
       "      <td>images/test/HEPG2-11/Plate3/L20_s2_w1-w6.png</td>\n",
       "    </tr>\n",
       "  </tbody>\n",
       "</table>\n",
       "</div>"
      ],
      "text/plain": [
       "               site_id         well_id cell_type dataset experiment plate  \\\n",
       "9097  HEPG2-11_3_L20_2  HEPG2-11_3_L20     HEPG2    test   HEPG2-11     3   \n",
       "\n",
       "     well site  well_type   sirna sirna_id  \\\n",
       "9097  L20    2  treatment  s19486      848   \n",
       "\n",
       "                                         file_keys  \n",
       "9097  images/test/HEPG2-11/Plate3/L20_s2_w1-w6.png  "
      ]
     },
     "execution_count": 5,
     "metadata": {},
     "output_type": "execute_result"
    }
   ],
   "source": [
    "df[\n",
    "    (df.cell_type == cell_lines.hep_g2_cell)\n",
    "    & (df.sirna == sirnas.s19486)\n",
    "    & (df.well == wells.l20)\n",
    "    & (df.plate == \"3\")\n",
    "    & (df.site == \"2\")\n",
    "]"
   ]
  },
  {
   "cell_type": "code",
   "execution_count": 6,
   "metadata": {},
   "outputs": [
    {
     "data": {
      "text/plain": [
       "9097    images/test/HEPG2-11/Plate3/L20_s2_w1-w6.png\n",
       "Name: file_keys, dtype: object"
      ]
     },
     "execution_count": 6,
     "metadata": {},
     "output_type": "execute_result"
    }
   ],
   "source": [
    "df[\n",
    "    (df.cell_type == cell_lines.hep_g2_cell)\n",
    "    & (df.sirna == sirnas.s19486)\n",
    "    & (df.well == wells.l20)\n",
    "    & (df.plate == \"3\")\n",
    "    & (df.site == \"2\")\n",
    "].file_keys"
   ]
  },
  {
   "cell_type": "markdown",
   "metadata": {},
   "source": [
    "## duckdb\n",
    "\n",
    "Using duckdb to query from parquet file without loading it into memory:"
   ]
  },
  {
   "cell_type": "code",
   "execution_count": 7,
   "metadata": {},
   "outputs": [],
   "source": [
    "import duckdb"
   ]
  },
  {
   "cell_type": "code",
   "execution_count": 8,
   "metadata": {},
   "outputs": [],
   "source": [
    "filters = (\n",
    "    f\"{features.cell_type} == '{cell_lines.hep_g2_cell}' and {features.sirna} ==\"\n",
    "    f\" '{sirnas.s19486}' and {features.well} == '{wells.l20}' and \"\n",
    "    f\"{features.plate} == '3' and {features.site} == '2'\"\n",
    ")"
   ]
  },
  {
   "cell_type": "code",
   "execution_count": 9,
   "metadata": {},
   "outputs": [
    {
     "data": {
      "text/plain": [
       "\"cell_type == 'HEPG2' and sirna == 's19486' and well == 'L20' and plate == '3' and site == '2'\""
      ]
     },
     "execution_count": 9,
     "metadata": {},
     "output_type": "execute_result"
    }
   ],
   "source": [
    "filters"
   ]
  },
  {
   "cell_type": "code",
   "execution_count": 13,
   "metadata": {},
   "outputs": [],
   "source": [
    "localpath_parquet = file.stage().as_posix()"
   ]
  },
  {
   "cell_type": "code",
   "execution_count": 14,
   "metadata": {},
   "outputs": [
    {
     "data": {
      "text/plain": [
       "┌──────────────────┬────────────────┬───────────┬─────────┬───┬───────────┬─────────┬──────────┬──────────────────────┐\n",
       "│     site_id      │    well_id     │ cell_type │ dataset │ … │ well_type │  sirna  │ sirna_id │      file_keys       │\n",
       "│     varchar      │    varchar     │  varchar  │ varchar │   │  varchar  │ varchar │ varchar  │       varchar        │\n",
       "├──────────────────┼────────────────┼───────────┼─────────┼───┼───────────┼─────────┼──────────┼──────────────────────┤\n",
       "│ HEPG2-11_3_L20_2 │ HEPG2-11_3_L20 │ HEPG2     │ test    │ … │ treatment │ s19486  │ 848      │ images/test/HEPG2-…  │\n",
       "├──────────────────┴────────────────┴───────────┴─────────┴───┴───────────┴─────────┴──────────┴──────────────────────┤\n",
       "│ 1 rows                                                                                         12 columns (8 shown) │\n",
       "└─────────────────────────────────────────────────────────────────────────────────────────────────────────────────────┘"
      ]
     },
     "execution_count": 14,
     "metadata": {},
     "output_type": "execute_result"
    }
   ],
   "source": [
    "duckdb.from_parquet(localpath_parquet).filter(filters)"
   ]
  },
  {
   "cell_type": "code",
   "execution_count": 15,
   "metadata": {},
   "outputs": [
    {
     "data": {
      "text/plain": [
       "┌──────────────────────────────────────────────┐\n",
       "│                  file_keys                   │\n",
       "│                   varchar                    │\n",
       "├──────────────────────────────────────────────┤\n",
       "│ images/test/HEPG2-11/Plate3/L20_s2_w1-w6.png │\n",
       "└──────────────────────────────────────────────┘"
      ]
     },
     "execution_count": 15,
     "metadata": {},
     "output_type": "execute_result"
    }
   ],
   "source": [
    "duckdb.from_parquet(localpath_parquet).filter(filters).file_keys"
   ]
  },
  {
   "cell_type": "code",
   "execution_count": 5,
   "metadata": {},
   "outputs": [
    {
     "name": "stdout",
     "output_type": "stream",
     "text": [
      "2023-09-21 14:31:35,385:INFO - Found credentials in shared credentials file: ~/.aws/credentials\n",
      "❗ updating & unlocking cloud SQLite 's3://lamindata/rxrx1-2.lndb' of instance 'sunnyosun/rxrx1-2'\n",
      "✅ closed instance: sunnyosun/rxrx1-2\n"
     ]
    }
   ],
   "source": [
    "# close the SQLite instance\n",
    "!lamin close"
   ]
  }
 ],
 "metadata": {
  "kernelspec": {
   "display_name": "py39",
   "language": "python",
   "name": "python3"
  },
  "language_info": {
   "codemirror_mode": {
    "name": "ipython",
    "version": 3
   },
   "file_extension": ".py",
   "mimetype": "text/x-python",
   "name": "python",
   "nbconvert_exporter": "python",
   "pygments_lexer": "ipython3",
   "version": "3.9.16"
  },
  "nbproject": {
   "id": "sx3wFSwnhCYY",
   "parent": null,
   "pypackage": null,
   "time_init": "2023-09-21T11:23:07.502143+00:00",
   "user_handle": null,
   "user_id": null,
   "user_name": null,
   "version": "0"
  },
  "orig_nbformat": 4
 },
 "nbformat": 4,
 "nbformat_minor": 2
}
